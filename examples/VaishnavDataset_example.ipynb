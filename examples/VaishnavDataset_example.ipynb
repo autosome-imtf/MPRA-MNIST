{
 "cells": [
  {
   "cell_type": "code",
   "execution_count": 1,
   "id": "166d0830-1192-48f2-a174-fcda1320735b",
   "metadata": {},
   "outputs": [],
   "source": [
    "import mpramnist\n",
    "from mpramnist.vaishnavdataset import VaishnavDataset\n",
    "\n",
    "import mpramnist.transforms as t\n",
    "import mpramnist.target_transforms as t_t\n",
    "\n",
    "from mpramnist.models import HumanLegNet\n",
    "from mpramnist.models import initialize_weights\n",
    "from mpramnist.trainers import LitModel_Vaishnav\n",
    "\n",
    "import pandas as pd\n",
    "import torch\n",
    "import torch.nn as nn\n",
    "import torch.utils.data as data\n",
    "\n",
    "import pytorch_lightning as L"
   ]
  },
  {
   "cell_type": "code",
   "execution_count": 2,
   "id": "d2b33ea1-e20a-4beb-a3a6-b5b921b3c55a",
   "metadata": {},
   "outputs": [],
   "source": [
    "BATCH_SIZE = 1024\n",
    "NUM_WORKERS = 103"
   ]
  },
  {
   "cell_type": "markdown",
   "id": "5285f19a-6427-45a5-a2ab-9892af427a79",
   "metadata": {},
   "source": [
    "**Important note**: Sequence lengths vary. To standardize them:\n",
    "\n",
    "* Original flanks should be preserved\n",
    "\n",
    "* Missing regions need to be supplemented from the source plasmid\n",
    "\n",
    "* All sequences must be adjusted to the default 110 bp length (as in the original protocol)"
   ]
  },
  {
   "cell_type": "code",
   "execution_count": 3,
   "id": "d616cb5e-ccdb-400b-9666-41f321d34397",
   "metadata": {},
   "outputs": [],
   "source": [
    "length = 110\n",
    "plasmid = VaishnavDataset.PLASMID.upper()\n",
    "insert_start = plasmid.find(\"N\"*80)\n",
    "right_flank = VaishnavDataset.RIGHT_FLANK\n",
    "left_flank = plasmid[insert_start - length : insert_start]"
   ]
  },
  {
   "cell_type": "code",
   "execution_count": null,
   "id": "eafeaa2b-89d3-4dd0-8b7e-0bb0164d2f31",
   "metadata": {},
   "outputs": [],
   "source": [
    "# preprocessing\n",
    "train_transform = t.Compose([\n",
    "    t.AddFlanks(left_flank, right_flank),\n",
    "    t.LeftCrop(length,length),\n",
    "    t.Seq2Tensor(),\n",
    "    t.ReverseComplement(0.5)\n",
    "])\n",
    "val_test_transform = t.Compose([\n",
    "    t.AddFlanks(left_flank, right_flank),\n",
    "    t.LeftCrop(length, length),\n",
    "    t.Seq2Tensor(), \n",
    "    t.ReverseComplement(0)\n",
    "])"
   ]
  },
  {
   "cell_type": "markdown",
   "id": "47cd447b-894b-43d0-a55c-abde86c4f149",
   "metadata": {},
   "source": [
    "In the original study, two complementary environments with opposing selective pressures on URA3 gene expression (encoding an enzyme responsible for uracil synthesis) were investigated:\n",
    "\n",
    "`defined` environment, where organismal fitness increases with gene expression (up to saturation);\n",
    "\n",
    "`complex` environment + 5-FOA, where fitness decreases with Ura3p expression.\n",
    "\n",
    "Use the `dataset_env_type` parameter to select either `'defined'` or `'complex'`."
   ]
  },
  {
   "cell_type": "markdown",
   "id": "b428e856-8221-4a92-ae2d-33e746023147",
   "metadata": {},
   "source": [
    "## Dataset Specifications:\n",
    "\n",
    "`defined`: (1) Contains 20 million sequences (2) 10% allocated for validation (3) Remainder used for training\n",
    "\n",
    "`complex`: (1) Contains 31 million sequences (2) 10% allocated for validation (3) Remainder used for training"
   ]
  },
  {
   "cell_type": "code",
   "execution_count": 4,
   "id": "cb1cb79b-7571-4f0a-955e-be8fb350cffc",
   "metadata": {},
   "outputs": [],
   "source": [
    "# load the data\n",
    "train_dataset = VaishnavDataset(split=\"train\", dataset_type = \"defined\", transform=train_transform)                                                              \n",
    "val_dataset = VaishnavDataset(split=\"val\", dataset_type = \"defined\", transform=val_test_transform) \n",
    "test_dataset_native = VaishnavDataset(split=\"test\", dataset_type = \"defined\", dataset_origin_type = \"native\", transform=val_test_transform)"
   ]
  },
  {
   "cell_type": "code",
   "execution_count": 5,
   "id": "ec11ca50-97ca-4585-9c79-aaf864269bd8",
   "metadata": {},
   "outputs": [
    {
     "name": "stdout",
     "output_type": "stream",
     "text": [
      "Dataset VaishnavDataset of size 18933667 (MpraDaraset)\n",
      "    Number of datapoints: 18933667\n",
      "    Used split fold: train\n"
     ]
    }
   ],
   "source": [
    "print(train_dataset)"
   ]
  },
  {
   "cell_type": "code",
   "execution_count": 6,
   "id": "afd0abb7-9442-474a-a231-20da01eee01e",
   "metadata": {},
   "outputs": [
    {
     "name": "stdout",
     "output_type": "stream",
     "text": [
      "Dataset VaishnavDataset of size 2103740 (MpraDaraset)\n",
      "    Number of datapoints: 2103740\n",
      "    Used split fold: val\n",
      "------------\n",
      "Dataset VaishnavDataset of size 3978 (MpraDaraset)\n",
      "    Number of datapoints: 3978\n",
      "    Used split fold: test\n"
     ]
    }
   ],
   "source": [
    "print(val_dataset)\n",
    "print(\"------------\")\n",
    "print(test_dataset_native)"
   ]
  },
  {
   "cell_type": "markdown",
   "id": "c2af07da-4ec2-4ae0-bb09-e3a94f1195c0",
   "metadata": {},
   "source": [
    "## Test Sequences:\n",
    "\n",
    "Test sequences are divided into three categories per environment:\n",
    "\n",
    "* Reference (`native`)\n",
    "\n",
    "* Alternative (`drift`)\n",
    "\n",
    "* Paired (`paired`)"
   ]
  },
  {
   "cell_type": "code",
   "execution_count": 15,
   "id": "896895dc-bc67-44c5-a71d-0039a700327d",
   "metadata": {},
   "outputs": [
    {
     "name": "stdout",
     "output_type": "stream",
     "text": [
      "Dataset VaishnavDataset of size 2986 (MpraDaraset)\n",
      "    Number of datapoints: 2986\n",
      "    Used split fold: test\n"
     ]
    }
   ],
   "source": [
    "test_dataset_drift = VaishnavDataset(split=\"test\", dataset_type = \"defined\", dataset_origin_type = \"drift\", transform=val_test_transform)\n",
    "print(test_dataset_drift)\n",
    "test_loader_drift = data.DataLoader(dataset=test_dataset_drift, batch_size=BATCH_SIZE, shuffle=False, num_workers = NUM_WORKERS)"
   ]
  },
  {
   "cell_type": "markdown",
   "id": "38e7e62c-8fbd-40e9-b2c0-d36e0501af61",
   "metadata": {},
   "source": [
    "## Note on paired sequences:\n",
    "\n",
    "Each paired sequence contains: (1) A reference sequence (2) An alternative sequence (3) Differential expression column"
   ]
  },
  {
   "cell_type": "code",
   "execution_count": 21,
   "id": "02573378-ebcb-4f62-a31b-c1c69d13c2c1",
   "metadata": {},
   "outputs": [
    {
     "name": "stdout",
     "output_type": "stream",
     "text": [
      "Dataset VaishnavDataset of size 2986 (MpraDaraset)\n",
      "    Number of datapoints: 2986\n",
      "    Used split fold: test\n"
     ]
    }
   ],
   "source": [
    "test_dataset_paired = VaishnavDataset(split=\"test\", dataset_type = \"defined\", dataset_origin_type = \"paired\", transform=val_test_transform)\n",
    "print(test_dataset_paired)\n",
    "test_loader_paired = data.DataLoader(dataset=test_dataset_paired, batch_size=BATCH_SIZE, shuffle=False, num_workers = NUM_WORKERS)"
   ]
  },
  {
   "cell_type": "code",
   "execution_count": 23,
   "id": "34022bb7-e8a0-460f-be88-fefd4bae18c3",
   "metadata": {},
   "outputs": [
    {
     "data": {
      "text/plain": [
       "({'seq': 'CTTTCAATTGGGTGGGGACGCGACGGCGCCCCGGCTAGGATGCTAGCGTACTATGCTGCCTGAAAGTCTATAGGAGCATT',\n",
       "  'seq_alt': 'CTTTAAATTCGGTGGGGACGCGTCGGCGCCCCGGCTAGGATGCTAGCGTACTATGCTGCCTGAAAGTCTATAGGAGCATT'},\n",
       " tensor(-0.6423))"
      ]
     },
     "execution_count": 23,
     "metadata": {},
     "output_type": "execute_result"
    }
   ],
   "source": [
    "dataset_paired = VaishnavDataset(split=\"test\", dataset_type = \"defined\", dataset_origin_type = \"paired\")\n",
    "dataset_paired[0]"
   ]
  },
  {
   "cell_type": "code",
   "execution_count": 7,
   "id": "ffb8373f-d49e-40d7-81e1-379cff07ce25",
   "metadata": {},
   "outputs": [],
   "source": [
    "# encapsulate data into dataloader form\n",
    "train_loader = data.DataLoader(dataset=train_dataset, batch_size=BATCH_SIZE, shuffle=True, num_workers = NUM_WORKERS)\n",
    "\n",
    "val_loader = data.DataLoader(dataset=val_dataset, batch_size=BATCH_SIZE, shuffle=False, num_workers = NUM_WORKERS)\n",
    "\n",
    "test_loader = data.DataLoader(dataset=test_dataset_native, batch_size=BATCH_SIZE, shuffle=False, num_workers = NUM_WORKERS)"
   ]
  },
  {
   "cell_type": "code",
   "execution_count": 8,
   "id": "56cc0be4-8e67-484b-9b0b-32482cb424cc",
   "metadata": {},
   "outputs": [],
   "source": [
    "in_channels = len(train_dataset[0][0])\n",
    "out_channels = 1"
   ]
  },
  {
   "cell_type": "code",
   "execution_count": 9,
   "id": "5dddcb7c-0a68-48ac-9765-c4858a1d49bb",
   "metadata": {},
   "outputs": [],
   "source": [
    "model = HumanLegNet(in_ch=in_channels,\n",
    "                     output_dim = out_channels,\n",
    "                     stem_ch=64,\n",
    "                     stem_ks=11,\n",
    "                     ef_ks=9,\n",
    "                     ef_block_sizes=[80, 96, 112, 128],\n",
    "                     pool_sizes=[2,2,2,2],\n",
    "                     resize_factor=4)\n",
    "model.apply(initialize_weights)\n",
    "\n",
    "seq_model = LitModel_Vaishnav(model = model, in_ch = in_channels, out_ch = out_channels,\n",
    "                           loss = nn.MSELoss(),\n",
    "                           weight_decay = 1e-1, lr = 1e-2, print_each = 1)"
   ]
  },
  {
   "cell_type": "code",
   "execution_count": 10,
   "id": "a7812338-7e63-4341-9a01-732aa7d35592",
   "metadata": {},
   "outputs": [
    {
     "name": "stderr",
     "output_type": "stream",
     "text": [
      "Using 16bit Automatic Mixed Precision (AMP)\n",
      "GPU available: True (cuda), used: True\n",
      "TPU available: False, using: 0 TPU cores\n",
      "HPU available: False, using: 0 HPUs\n",
      "You are using a CUDA device ('NVIDIA GeForce RTX 3090') that has Tensor Cores. To properly utilize them, you should set `torch.set_float32_matmul_precision('medium' | 'high')` which will trade-off precision for performance. For more details, read https://pytorch.org/docs/stable/generated/torch.set_float32_matmul_precision.html#torch.set_float32_matmul_precision\n",
      "2025-04-06 21:12:12.987894: I tensorflow/core/util/port.cc:153] oneDNN custom operations are on. You may see slightly different numerical results due to floating-point round-off errors from different computation orders. To turn them off, set the environment variable `TF_ENABLE_ONEDNN_OPTS=0`.\n",
      "2025-04-06 21:12:13.004233: E external/local_xla/xla/stream_executor/cuda/cuda_fft.cc:477] Unable to register cuFFT factory: Attempting to register factory for plugin cuFFT when one has already been registered\n",
      "WARNING: All log messages before absl::InitializeLog() is called are written to STDERR\n",
      "E0000 00:00:1743963133.022865  698344 cuda_dnn.cc:8310] Unable to register cuDNN factory: Attempting to register factory for plugin cuDNN when one has already been registered\n",
      "E0000 00:00:1743963133.028638  698344 cuda_blas.cc:1418] Unable to register cuBLAS factory: Attempting to register factory for plugin cuBLAS when one has already been registered\n",
      "2025-04-06 21:12:13.049958: I tensorflow/core/platform/cpu_feature_guard.cc:210] This TensorFlow binary is optimized to use available CPU instructions in performance-critical operations.\n",
      "To enable the following instructions: AVX2 AVX512F AVX512_VNNI FMA, in other operations, rebuild TensorFlow with the appropriate compiler flags.\n",
      "LOCAL_RANK: 0 - CUDA_VISIBLE_DEVICES: [0,1]\n",
      "Loading `train_dataloader` to estimate number of stepping batches.\n",
      "\n",
      "  | Name          | Type            | Params | Mode \n",
      "----------------------------------------------------------\n",
      "0 | model         | HumanLegNet     | 1.3 M  | train\n",
      "1 | loss          | MSELoss         | 0      | train\n",
      "2 | train_pearson | PearsonCorrCoef | 0      | train\n",
      "3 | val_pearson   | PearsonCorrCoef | 0      | train\n",
      "4 | test_pearson  | PearsonCorrCoef | 0      | train\n",
      "----------------------------------------------------------\n",
      "1.3 M     Trainable params\n",
      "0         Non-trainable params\n",
      "1.3 M     Total params\n",
      "5.290     Total estimated model params size (MB)\n",
      "120       Modules in train mode\n",
      "0         Modules in eval mode\n"
     ]
    },
    {
     "data": {
      "application/vnd.jupyter.widget-view+json": {
       "model_id": "6653380566ce4329a01d6cd47857689c",
       "version_major": 2,
       "version_minor": 0
      },
      "text/plain": [
       "Training: |                                                                                       | 0/? [00:00…"
      ]
     },
     "metadata": {},
     "output_type": "display_data"
    },
    {
     "data": {
      "application/vnd.jupyter.widget-view+json": {
       "model_id": "",
       "version_major": 2,
       "version_minor": 0
      },
      "text/plain": [
       "Validation: |                                                                                     | 0/? [00:00…"
      ]
     },
     "metadata": {},
     "output_type": "display_data"
    },
    {
     "name": "stdout",
     "output_type": "stream",
     "text": [
      "\n",
      "-------------------------------------------------------------------------------\n",
      "| Epoch: 0 | Val Loss: 4.92517 | Val Pearson: 0.85692 | Train Pearson: 0.84454 \n",
      "-------------------------------------------------------------------------------\n",
      "\n"
     ]
    },
    {
     "data": {
      "application/vnd.jupyter.widget-view+json": {
       "model_id": "",
       "version_major": 2,
       "version_minor": 0
      },
      "text/plain": [
       "Validation: |                                                                                     | 0/? [00:00…"
      ]
     },
     "metadata": {},
     "output_type": "display_data"
    },
    {
     "name": "stdout",
     "output_type": "stream",
     "text": [
      "\n",
      "--------------------------------------------------------------------------------\n",
      "| Epoch: 1 | Val Loss: 10.69147 | Val Pearson: 0.83675 | Train Pearson: 0.86066 \n",
      "--------------------------------------------------------------------------------\n",
      "\n"
     ]
    },
    {
     "data": {
      "application/vnd.jupyter.widget-view+json": {
       "model_id": "",
       "version_major": 2,
       "version_minor": 0
      },
      "text/plain": [
       "Validation: |                                                                                     | 0/? [00:00…"
      ]
     },
     "metadata": {},
     "output_type": "display_data"
    },
    {
     "name": "stdout",
     "output_type": "stream",
     "text": [
      "\n",
      "--------------------------------------------------------------------------------\n",
      "| Epoch: 2 | Val Loss: 25.05196 | Val Pearson: 0.58701 | Train Pearson: 0.86305 \n",
      "--------------------------------------------------------------------------------\n",
      "\n"
     ]
    },
    {
     "data": {
      "application/vnd.jupyter.widget-view+json": {
       "model_id": "",
       "version_major": 2,
       "version_minor": 0
      },
      "text/plain": [
       "Validation: |                                                                                     | 0/? [00:00…"
      ]
     },
     "metadata": {},
     "output_type": "display_data"
    },
    {
     "name": "stdout",
     "output_type": "stream",
     "text": [
      "\n",
      "-------------------------------------------------------------------------------\n",
      "| Epoch: 3 | Val Loss: 5.02126 | Val Pearson: 0.85050 | Train Pearson: 0.87030 \n",
      "-------------------------------------------------------------------------------\n",
      "\n"
     ]
    },
    {
     "data": {
      "application/vnd.jupyter.widget-view+json": {
       "model_id": "",
       "version_major": 2,
       "version_minor": 0
      },
      "text/plain": [
       "Validation: |                                                                                     | 0/? [00:00…"
      ]
     },
     "metadata": {},
     "output_type": "display_data"
    },
    {
     "name": "stderr",
     "output_type": "stream",
     "text": [
      "`Trainer.fit` stopped: `max_epochs=5` reached.\n"
     ]
    },
    {
     "name": "stdout",
     "output_type": "stream",
     "text": [
      "\n",
      "-------------------------------------------------------------------------------\n",
      "| Epoch: 4 | Val Loss: 3.68661 | Val Pearson: 0.88673 | Train Pearson: 0.88137 \n",
      "-------------------------------------------------------------------------------\n",
      "\n"
     ]
    },
    {
     "name": "stderr",
     "output_type": "stream",
     "text": [
      "LOCAL_RANK: 0 - CUDA_VISIBLE_DEVICES: [0,1]\n"
     ]
    },
    {
     "data": {
      "application/vnd.jupyter.widget-view+json": {
       "model_id": "725fbbd39a4445c4b09f05675029136a",
       "version_major": 2,
       "version_minor": 0
      },
      "text/plain": [
       "Testing: |                                                                                        | 0/? [00:00…"
      ]
     },
     "metadata": {},
     "output_type": "display_data"
    },
    {
     "data": {
      "text/html": [
       "<pre style=\"white-space:pre;overflow-x:auto;line-height:normal;font-family:Menlo,'DejaVu Sans Mono',consolas,'Courier New',monospace\">┏━━━━━━━━━━━━━━━━━━━━━━━━━━━┳━━━━━━━━━━━━━━━━━━━━━━━━━━━┓\n",
       "┃<span style=\"font-weight: bold\">        Test metric        </span>┃<span style=\"font-weight: bold\">       DataLoader 0        </span>┃\n",
       "┡━━━━━━━━━━━━━━━━━━━━━━━━━━━╇━━━━━━━━━━━━━━━━━━━━━━━━━━━┩\n",
       "│<span style=\"color: #008080; text-decoration-color: #008080\">         test_loss         </span>│<span style=\"color: #800080; text-decoration-color: #800080\">    0.5523836016654968     </span>│\n",
       "│<span style=\"color: #008080; text-decoration-color: #008080\">       test_pearson        </span>│<span style=\"color: #800080; text-decoration-color: #800080\">    0.9833166599273682     </span>│\n",
       "└───────────────────────────┴───────────────────────────┘\n",
       "</pre>\n"
      ],
      "text/plain": [
       "┏━━━━━━━━━━━━━━━━━━━━━━━━━━━┳━━━━━━━━━━━━━━━━━━━━━━━━━━━┓\n",
       "┃\u001b[1m \u001b[0m\u001b[1m       Test metric       \u001b[0m\u001b[1m \u001b[0m┃\u001b[1m \u001b[0m\u001b[1m      DataLoader 0       \u001b[0m\u001b[1m \u001b[0m┃\n",
       "┡━━━━━━━━━━━━━━━━━━━━━━━━━━━╇━━━━━━━━━━━━━━━━━━━━━━━━━━━┩\n",
       "│\u001b[36m \u001b[0m\u001b[36m        test_loss        \u001b[0m\u001b[36m \u001b[0m│\u001b[35m \u001b[0m\u001b[35m   0.5523836016654968    \u001b[0m\u001b[35m \u001b[0m│\n",
       "│\u001b[36m \u001b[0m\u001b[36m      test_pearson       \u001b[0m\u001b[36m \u001b[0m│\u001b[35m \u001b[0m\u001b[35m   0.9833166599273682    \u001b[0m\u001b[35m \u001b[0m│\n",
       "└───────────────────────────┴───────────────────────────┘\n"
      ]
     },
     "metadata": {},
     "output_type": "display_data"
    },
    {
     "data": {
      "text/plain": [
       "[{'test_loss': 0.5523836016654968, 'test_pearson': 0.9833166599273682}]"
      ]
     },
     "execution_count": 10,
     "metadata": {},
     "output_type": "execute_result"
    }
   ],
   "source": [
    "# Initialize a trainer\n",
    "trainer = L.Trainer(\n",
    "    accelerator=\"gpu\",\n",
    "    devices=[1],\n",
    "    max_epochs=5,\n",
    "    gradient_clip_val=1,\n",
    "    precision='16-mixed', \n",
    "    enable_progress_bar = True,\n",
    "    num_sanity_val_steps=0\n",
    ")\n",
    "\n",
    "# Train the model\n",
    "trainer.fit(seq_model,\n",
    "            train_dataloaders = train_loader,\n",
    "            val_dataloaders = val_loader)\n",
    "trainer.test(seq_model, dataloaders = test_loader)"
   ]
  },
  {
   "cell_type": "code",
   "execution_count": 18,
   "id": "43ac4e5e-f26a-4c49-af26-4e0e3a64d596",
   "metadata": {},
   "outputs": [
    {
     "name": "stderr",
     "output_type": "stream",
     "text": [
      "LOCAL_RANK: 0 - CUDA_VISIBLE_DEVICES: [0,1]\n"
     ]
    },
    {
     "data": {
      "application/vnd.jupyter.widget-view+json": {
       "model_id": "5b9d3d7016324e219f16f5c1bb0baed3",
       "version_major": 2,
       "version_minor": 0
      },
      "text/plain": [
       "Testing: |                                                                                        | 0/? [00:00…"
      ]
     },
     "metadata": {},
     "output_type": "display_data"
    },
    {
     "data": {
      "text/html": [
       "<pre style=\"white-space:pre;overflow-x:auto;line-height:normal;font-family:Menlo,'DejaVu Sans Mono',consolas,'Courier New',monospace\">┏━━━━━━━━━━━━━━━━━━━━━━━━━━━┳━━━━━━━━━━━━━━━━━━━━━━━━━━━┓\n",
       "┃<span style=\"font-weight: bold\">        Test metric        </span>┃<span style=\"font-weight: bold\">       DataLoader 0        </span>┃\n",
       "┡━━━━━━━━━━━━━━━━━━━━━━━━━━━╇━━━━━━━━━━━━━━━━━━━━━━━━━━━┩\n",
       "│<span style=\"color: #008080; text-decoration-color: #008080\">         test_loss         </span>│<span style=\"color: #800080; text-decoration-color: #800080\">    0.33399754762649536    </span>│\n",
       "│<span style=\"color: #008080; text-decoration-color: #008080\">       test_pearson        </span>│<span style=\"color: #800080; text-decoration-color: #800080\">    0.9872218370437622     </span>│\n",
       "└───────────────────────────┴───────────────────────────┘\n",
       "</pre>\n"
      ],
      "text/plain": [
       "┏━━━━━━━━━━━━━━━━━━━━━━━━━━━┳━━━━━━━━━━━━━━━━━━━━━━━━━━━┓\n",
       "┃\u001b[1m \u001b[0m\u001b[1m       Test metric       \u001b[0m\u001b[1m \u001b[0m┃\u001b[1m \u001b[0m\u001b[1m      DataLoader 0       \u001b[0m\u001b[1m \u001b[0m┃\n",
       "┡━━━━━━━━━━━━━━━━━━━━━━━━━━━╇━━━━━━━━━━━━━━━━━━━━━━━━━━━┩\n",
       "│\u001b[36m \u001b[0m\u001b[36m        test_loss        \u001b[0m\u001b[36m \u001b[0m│\u001b[35m \u001b[0m\u001b[35m   0.33399754762649536   \u001b[0m\u001b[35m \u001b[0m│\n",
       "│\u001b[36m \u001b[0m\u001b[36m      test_pearson       \u001b[0m\u001b[36m \u001b[0m│\u001b[35m \u001b[0m\u001b[35m   0.9872218370437622    \u001b[0m\u001b[35m \u001b[0m│\n",
       "└───────────────────────────┴───────────────────────────┘\n"
      ]
     },
     "metadata": {},
     "output_type": "display_data"
    },
    {
     "data": {
      "text/plain": [
       "[{'test_loss': 0.33399754762649536, 'test_pearson': 0.9872218370437622}]"
      ]
     },
     "execution_count": 18,
     "metadata": {},
     "output_type": "execute_result"
    }
   ],
   "source": [
    "trainer.test(seq_model, dataloaders = test_loader_drift)"
   ]
  },
  {
   "cell_type": "code",
   "execution_count": 19,
   "id": "a341468a-bc22-41b9-9b4b-7c81db969f68",
   "metadata": {},
   "outputs": [
    {
     "name": "stderr",
     "output_type": "stream",
     "text": [
      "LOCAL_RANK: 0 - CUDA_VISIBLE_DEVICES: [0,1]\n"
     ]
    },
    {
     "data": {
      "application/vnd.jupyter.widget-view+json": {
       "model_id": "910cedbf79d447afb5d4b66d776cf865",
       "version_major": 2,
       "version_minor": 0
      },
      "text/plain": [
       "Testing: |                                                                                        | 0/? [00:00…"
      ]
     },
     "metadata": {},
     "output_type": "display_data"
    },
    {
     "data": {
      "text/html": [
       "<pre style=\"white-space:pre;overflow-x:auto;line-height:normal;font-family:Menlo,'DejaVu Sans Mono',consolas,'Courier New',monospace\">┏━━━━━━━━━━━━━━━━━━━━━━━━━━━┳━━━━━━━━━━━━━━━━━━━━━━━━━━━┓\n",
       "┃<span style=\"font-weight: bold\">        Test metric        </span>┃<span style=\"font-weight: bold\">       DataLoader 0        </span>┃\n",
       "┡━━━━━━━━━━━━━━━━━━━━━━━━━━━╇━━━━━━━━━━━━━━━━━━━━━━━━━━━┩\n",
       "│<span style=\"color: #008080; text-decoration-color: #008080\">         test_loss         </span>│<span style=\"color: #800080; text-decoration-color: #800080\">     6.491516590118408     </span>│\n",
       "│<span style=\"color: #008080; text-decoration-color: #008080\">       test_pearson        </span>│<span style=\"color: #800080; text-decoration-color: #800080\">    -0.8568166494369507    </span>│\n",
       "└───────────────────────────┴───────────────────────────┘\n",
       "</pre>\n"
      ],
      "text/plain": [
       "┏━━━━━━━━━━━━━━━━━━━━━━━━━━━┳━━━━━━━━━━━━━━━━━━━━━━━━━━━┓\n",
       "┃\u001b[1m \u001b[0m\u001b[1m       Test metric       \u001b[0m\u001b[1m \u001b[0m┃\u001b[1m \u001b[0m\u001b[1m      DataLoader 0       \u001b[0m\u001b[1m \u001b[0m┃\n",
       "┡━━━━━━━━━━━━━━━━━━━━━━━━━━━╇━━━━━━━━━━━━━━━━━━━━━━━━━━━┩\n",
       "│\u001b[36m \u001b[0m\u001b[36m        test_loss        \u001b[0m\u001b[36m \u001b[0m│\u001b[35m \u001b[0m\u001b[35m    6.491516590118408    \u001b[0m\u001b[35m \u001b[0m│\n",
       "│\u001b[36m \u001b[0m\u001b[36m      test_pearson       \u001b[0m\u001b[36m \u001b[0m│\u001b[35m \u001b[0m\u001b[35m   -0.8568166494369507   \u001b[0m\u001b[35m \u001b[0m│\n",
       "└───────────────────────────┴───────────────────────────┘\n"
      ]
     },
     "metadata": {},
     "output_type": "display_data"
    },
    {
     "data": {
      "text/plain": [
       "[{'test_loss': 6.491516590118408, 'test_pearson': -0.8568166494369507}]"
      ]
     },
     "execution_count": 19,
     "metadata": {},
     "output_type": "execute_result"
    }
   ],
   "source": [
    "trainer.test(seq_model, dataloaders = test_loader_paired)"
   ]
  },
  {
   "cell_type": "code",
   "execution_count": null,
   "id": "4eb459fa-992c-4074-90fb-492257b5279c",
   "metadata": {},
   "outputs": [],
   "source": []
  }
 ],
 "metadata": {
  "kernelspec": {
   "display_name": "Python [conda env:mpra]",
   "language": "python",
   "name": "conda-env-mpra-py"
  },
  "language_info": {
   "codemirror_mode": {
    "name": "ipython",
    "version": 3
   },
   "file_extension": ".py",
   "mimetype": "text/x-python",
   "name": "python",
   "nbconvert_exporter": "python",
   "pygments_lexer": "ipython3",
   "version": "3.12.7"
  }
 },
 "nbformat": 4,
 "nbformat_minor": 5
}
