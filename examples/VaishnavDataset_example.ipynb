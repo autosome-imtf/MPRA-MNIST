{
 "cells": [
  {
   "cell_type": "code",
   "execution_count": 1,
   "id": "166d0830-1192-48f2-a174-fcda1320735b",
   "metadata": {},
   "outputs": [],
   "source": [
    "import mpramnist\n",
    "from mpramnist.Vaishnav.dataset import VaishnavDataset\n",
    "\n",
    "import mpramnist.transforms as t\n",
    "import mpramnist.target_transforms as t_t\n",
    "\n",
    "from mpramnist.models import HumanLegNet\n",
    "from mpramnist.models import initialize_weights\n",
    "from mpramnist.trainers import LitModel_Vaishnav\n",
    "\n",
    "import torch\n",
    "import torch.nn as nn\n",
    "import torch.utils.data as data\n",
    "\n",
    "import lightning.pytorch as L\n",
    "from lightning.pytorch.callbacks import ModelCheckpoint\n",
    "from lightning.pytorch import loggers as pl_loggers\n",
    "\n",
    "from torchmetrics import PearsonCorrCoef"
   ]
  },
  {
   "cell_type": "markdown",
   "id": "b708b4a6-5222-419e-b4e2-d3a06ccfe8b8",
   "metadata": {},
   "source": [
    "# Define some required parameters and functions"
   ]
  },
  {
   "cell_type": "code",
   "execution_count": 2,
   "id": "d2b33ea1-e20a-4beb-a3a6-b5b921b3c55a",
   "metadata": {},
   "outputs": [],
   "source": [
    "BATCH_SIZE = 1024\n",
    "NUM_WORKERS = 103"
   ]
  },
  {
   "cell_type": "code",
   "execution_count": 3,
   "id": "745caa09-506a-4030-8bde-ba1cf39acd49",
   "metadata": {},
   "outputs": [],
   "source": [
    "def meaned_prediction(forw, rev, trainer, seq_model, name, is_paired=False):\n",
    "    predictions_forw = trainer.predict(seq_model, dataloaders=forw)\n",
    "    targets = torch.cat([pred[\"target\"] for pred in predictions_forw])\n",
    "    y_preds_forw = torch.cat([pred[\"ref_predicted\"] for pred in predictions_forw])\n",
    "\n",
    "    predictions_rev = trainer.predict(seq_model, dataloaders=rev)\n",
    "    y_preds_rev = torch.cat([pred[\"ref_predicted\"] for pred in predictions_rev])\n",
    "\n",
    "    mean_forw = torch.mean(torch.stack([y_preds_forw, y_preds_rev]), dim=0)\n",
    "\n",
    "    pears = PearsonCorrCoef()\n",
    "    print(name + \" Pearson correlation\")\n",
    "\n",
    "    if is_paired:\n",
    "        y_preds_forw_alt = torch.cat(\n",
    "            [pred[\"alt_predicted\"] for pred in predictions_forw]\n",
    "        )\n",
    "        y_preds_rev_alt = torch.cat([pred[\"alt_predicted\"] for pred in predictions_rev])\n",
    "        mean_alt = torch.mean(torch.stack([y_preds_forw_alt, y_preds_rev_alt]), dim=0)\n",
    "        pred = mean_alt - mean_forw\n",
    "        return pears(pred, targets)\n",
    "\n",
    "    return pears(mean_forw, targets)"
   ]
  },
  {
   "cell_type": "markdown",
   "id": "5285f19a-6427-45a5-a2ab-9892af427a79",
   "metadata": {},
   "source": [
    "**Important note**: Sequence lengths vary. To standardize them:\n",
    "\n",
    "* Original flanks should be preserved\n",
    "\n",
    "* Missing regions need to be supplemented from the source plasmid, use LeftFlank for it\n",
    "\n",
    "* All sequences must be adjusted to the default 110 bp length (as in the original protocol)"
   ]
  },
  {
   "cell_type": "code",
   "execution_count": 4,
   "id": "d616cb5e-ccdb-400b-9666-41f321d34397",
   "metadata": {},
   "outputs": [],
   "source": [
    "length = 110\n",
    "plasmid = VaishnavDataset.PLASMID.upper()\n",
    "insert_start = plasmid.find(\"N\" * 80)\n",
    "right_flank = VaishnavDataset.RIGHT_FLANK\n",
    "left_flank = plasmid[insert_start - length : insert_start]"
   ]
  },
  {
   "cell_type": "code",
   "execution_count": 5,
   "id": "eafeaa2b-89d3-4dd0-8b7e-0bb0164d2f31",
   "metadata": {},
   "outputs": [],
   "source": [
    "# preprocessing\n",
    "train_transform = t.Compose(\n",
    "    [\n",
    "        t.AddFlanks(left_flank, right_flank),\n",
    "        t.LeftCrop(length, length),\n",
    "        t.ReverseComplement(0.5),\n",
    "        t.Seq2Tensor(),\n",
    "    ]\n",
    ")\n",
    "val_test_transform = t.Compose(\n",
    "    [\n",
    "        t.AddFlanks(left_flank, right_flank),\n",
    "        t.LeftCrop(length, length),\n",
    "        t.ReverseComplement(0),\n",
    "        t.Seq2Tensor(),\n",
    "    ]\n",
    ")"
   ]
  },
  {
   "cell_type": "markdown",
   "id": "47cd447b-894b-43d0-a55c-abde86c4f149",
   "metadata": {},
   "source": [
    "In the original study, two complementary environments with opposing selective pressures on URA3 gene expression (encoding an enzyme responsible for uracil synthesis) were investigated:\n",
    "\n",
    "`defined` environment, where organismal fitness increases with gene expression (up to saturation);\n",
    "\n",
    "`complex` environment + 5-FOA, where fitness decreases with Ura3p expression.\n",
    "\n",
    "Use the `dataset_env_type` parameter to select either `'defined'` or `'complex'`."
   ]
  },
  {
   "cell_type": "markdown",
   "id": "b428e856-8221-4a92-ae2d-33e746023147",
   "metadata": {},
   "source": [
    "# Dataset Specifications:\n",
    "\n",
    "`defined`: (1) Contains 20 million sequences (2) 10% allocated for validation (3) Remainder used for training\n",
    "\n",
    "`complex`: (1) Contains 31 million sequences (2) 10% allocated for validation (3) Remainder used for training"
   ]
  },
  {
   "cell_type": "markdown",
   "id": "8050effe-7133-4ddc-888a-4efe46ca9671",
   "metadata": {},
   "source": [
    "# Train **defined** env type"
   ]
  },
  {
   "cell_type": "code",
   "execution_count": 6,
   "id": "093dddd4-d7b4-4173-8d35-0a22cd3be0f1",
   "metadata": {},
   "outputs": [],
   "source": [
    "# load the data\n",
    "train_dataset = VaishnavDataset(\n",
    "    split=\"train\",\n",
    "    dataset_env_type=\"defined\",\n",
    "    transform=train_transform,\n",
    "    root=\"../data/\",\n",
    ")\n",
    "\n",
    "val_dataset = VaishnavDataset(\n",
    "    split=\"val\",\n",
    "    dataset_env_type=\"defined\",\n",
    "    transform=val_test_transform,\n",
    "    root=\"../data/\",\n",
    ")"
   ]
  },
  {
   "cell_type": "code",
   "execution_count": 7,
   "id": "a4472d8c-ac68-4d5d-8728-9cfdd53dcb7e",
   "metadata": {},
   "outputs": [
    {
     "name": "stdout",
     "output_type": "stream",
     "text": [
      "Dataset VaishnavDataset of size 18933667 (MpraDaraset)\n",
      "    Number of datapoints: 18933667\n",
      "    Used split fold: train\n",
      "------------\n",
      "Dataset VaishnavDataset of size 2103740 (MpraDaraset)\n",
      "    Number of datapoints: 2103740\n",
      "    Used split fold: val\n"
     ]
    }
   ],
   "source": [
    "print(train_dataset)\n",
    "print(\"------------\")\n",
    "print(val_dataset)"
   ]
  },
  {
   "cell_type": "code",
   "execution_count": 8,
   "id": "584cad47-2eca-48ef-ae48-c91c324a19fd",
   "metadata": {},
   "outputs": [],
   "source": [
    "# encapsulate data into dataloader form\n",
    "train_loader = data.DataLoader(\n",
    "    dataset=train_dataset, batch_size=BATCH_SIZE, shuffle=True, num_workers=NUM_WORKERS\n",
    ")\n",
    "\n",
    "val_loader = data.DataLoader(\n",
    "    dataset=val_dataset, batch_size=BATCH_SIZE, shuffle=False, num_workers=NUM_WORKERS\n",
    ")"
   ]
  },
  {
   "cell_type": "code",
   "execution_count": 9,
   "id": "04f8f9eb-5726-42fd-ac0a-9f3da05bcb48",
   "metadata": {},
   "outputs": [],
   "source": [
    "in_channels = len(train_dataset[0][0])\n",
    "out_channels = 1"
   ]
  },
  {
   "cell_type": "code",
   "execution_count": 10,
   "id": "f9719b97-3d1e-4f73-84c9-e381c10805bd",
   "metadata": {},
   "outputs": [],
   "source": [
    "model = HumanLegNet(\n",
    "    in_ch=in_channels,\n",
    "    output_dim=out_channels,\n",
    "    stem_ch=64,\n",
    "    stem_ks=11,\n",
    "    ef_ks=9,\n",
    "    ef_block_sizes=[80, 96, 112, 128],\n",
    "    pool_sizes=[1, 1, 1, 1],\n",
    "    resize_factor=4,\n",
    ")\n",
    "model.apply(initialize_weights)\n",
    "\n",
    "seq_model_defined = LitModel_Vaishnav(\n",
    "    model=model, loss=nn.MSELoss(), weight_decay=1e-1, lr=1e-2, print_each=1\n",
    ")"
   ]
  },
  {
   "cell_type": "code",
   "execution_count": 11,
   "id": "3d075d2a-3d46-44ed-b995-2cb06e3f5087",
   "metadata": {},
   "outputs": [
    {
     "name": "stderr",
     "output_type": "stream",
     "text": [
      "Using 16bit Automatic Mixed Precision (AMP)\n",
      "GPU available: True (cuda), used: True\n",
      "TPU available: False, using: 0 TPU cores\n",
      "HPU available: False, using: 0 HPUs\n"
     ]
    }
   ],
   "source": [
    "checkpoint_callback = ModelCheckpoint(\n",
    "    monitor=\"val_pearson\",\n",
    "    mode=\"max\",\n",
    "    save_top_k=1,\n",
    "    dirpath=\"./checkpoints_vaishnav/\",\n",
    "    filename=\"best_model_without_pooling-{epoch:02d}-{val_pearson:.3f}\",\n",
    "    save_last=False,\n",
    ")\n",
    "logger = pl_loggers.TensorBoardLogger(\"./logs\", name=\"Vaishnav\")\n",
    "# Initialize a trainer\n",
    "trainer = L.Trainer(\n",
    "    accelerator=\"gpu\",\n",
    "    devices=[1],\n",
    "    max_epochs=1,\n",
    "    gradient_clip_val=1,\n",
    "    precision=\"16-mixed\",\n",
    "    enable_progress_bar=True,\n",
    "    num_sanity_val_steps=0,\n",
    "    callbacks=[checkpoint_callback],\n",
    "    logger=logger,\n",
    ")"
   ]
  },
  {
   "cell_type": "code",
   "execution_count": 12,
   "id": "4274e251-a50f-4ed1-8fda-ac0c1d8aab1d",
   "metadata": {},
   "outputs": [
    {
     "name": "stderr",
     "output_type": "stream",
     "text": [
      "You are using a CUDA device ('NVIDIA GeForce RTX 3090') that has Tensor Cores. To properly utilize them, you should set `torch.set_float32_matmul_precision('medium' | 'high')` which will trade-off precision for performance. For more details, read https://pytorch.org/docs/stable/generated/torch.set_float32_matmul_precision.html#torch.set_float32_matmul_precision\n",
      "2025-07-31 20:33:06.493257: I tensorflow/core/util/port.cc:153] oneDNN custom operations are on. You may see slightly different numerical results due to floating-point round-off errors from different computation orders. To turn them off, set the environment variable `TF_ENABLE_ONEDNN_OPTS=0`.\n",
      "2025-07-31 20:33:06.508864: E external/local_xla/xla/stream_executor/cuda/cuda_fft.cc:477] Unable to register cuFFT factory: Attempting to register factory for plugin cuFFT when one has already been registered\n",
      "WARNING: All log messages before absl::InitializeLog() is called are written to STDERR\n",
      "E0000 00:00:1753983186.526717 3399413 cuda_dnn.cc:8310] Unable to register cuDNN factory: Attempting to register factory for plugin cuDNN when one has already been registered\n",
      "E0000 00:00:1753983186.532258 3399413 cuda_blas.cc:1418] Unable to register cuBLAS factory: Attempting to register factory for plugin cuBLAS when one has already been registered\n",
      "2025-07-31 20:33:06.552759: I tensorflow/core/platform/cpu_feature_guard.cc:210] This TensorFlow binary is optimized to use available CPU instructions in performance-critical operations.\n",
      "To enable the following instructions: AVX2 AVX512F AVX512_VNNI FMA, in other operations, rebuild TensorFlow with the appropriate compiler flags.\n",
      "/home/nios/miniconda3/envs/mpra/lib/python3.12/site-packages/lightning/pytorch/callbacks/model_checkpoint.py:654: Checkpoint directory /home/nios/5Term/examples/checkpoints_vaishnav exists and is not empty.\n",
      "LOCAL_RANK: 0 - CUDA_VISIBLE_DEVICES: [0,1]\n",
      "Loading `train_dataloader` to estimate number of stepping batches.\n",
      "\n",
      "  | Name          | Type            | Params | Mode \n",
      "----------------------------------------------------------\n",
      "0 | model         | HumanLegNet     | 1.3 M  | train\n",
      "1 | loss          | MSELoss         | 0      | train\n",
      "2 | train_pearson | PearsonCorrCoef | 0      | train\n",
      "3 | val_pearson   | PearsonCorrCoef | 0      | train\n",
      "4 | test_pearson  | PearsonCorrCoef | 0      | train\n",
      "----------------------------------------------------------\n",
      "1.3 M     Trainable params\n",
      "0         Non-trainable params\n",
      "1.3 M     Total params\n",
      "5.290     Total estimated model params size (MB)\n",
      "120       Modules in train mode\n",
      "0         Modules in eval mode\n"
     ]
    },
    {
     "data": {
      "application/vnd.jupyter.widget-view+json": {
       "model_id": "af65b8804bdc47968c0fc766fe6340c3",
       "version_major": 2,
       "version_minor": 0
      },
      "text/plain": [
       "Training: |                                                                                       | 0/? [00:00…"
      ]
     },
     "metadata": {},
     "output_type": "display_data"
    },
    {
     "data": {
      "application/vnd.jupyter.widget-view+json": {
       "model_id": "",
       "version_major": 2,
       "version_minor": 0
      },
      "text/plain": [
       "Validation: |                                                                                     | 0/? [00:00…"
      ]
     },
     "metadata": {},
     "output_type": "display_data"
    },
    {
     "name": "stderr",
     "output_type": "stream",
     "text": [
      "`Trainer.fit` stopped: `max_epochs=1` reached.\n"
     ]
    },
    {
     "name": "stdout",
     "output_type": "stream",
     "text": [
      "\n",
      "-------------------------------------------------------------------------------\n",
      "| Epoch: 0 | Val Loss: 3.75383 | Val Pearson: 0.88450 | Train Pearson: 0.84446 \n",
      "-------------------------------------------------------------------------------\n",
      "\n"
     ]
    }
   ],
   "source": [
    "# Train the model\n",
    "trainer.fit(\n",
    "    seq_model_defined, train_dataloaders=train_loader, val_dataloaders=val_loader\n",
    ")"
   ]
  },
  {
   "cell_type": "markdown",
   "id": "f51d7acc-d7e4-4880-98af-77afcbee2e67",
   "metadata": {},
   "source": [
    "## Test Sequences:\n",
    "\n",
    "Test sequences are divided into three categories per environment:\n",
    "\n",
    "* Reference (`native`)\n",
    "\n",
    "* Alternative (`drift`)\n",
    "\n",
    "* Paired (`paired`)\n",
    "\n",
    "Use the `test_dataset_type`"
   ]
  },
  {
   "cell_type": "code",
   "execution_count": 13,
   "id": "64a37d66-67bb-4f45-a82b-787b5b6aaf5c",
   "metadata": {},
   "outputs": [],
   "source": [
    "# Load the best model\n",
    "best_model_path = checkpoint_callback.best_model_path\n",
    "seq_model_defined = LitModel_Vaishnav.load_from_checkpoint(\n",
    "    best_model_path,\n",
    "    model=model,\n",
    "    loss=nn.MSELoss(),\n",
    "    weight_decay=1e-1,\n",
    "    lr=1e-2,\n",
    "    print_each=1,\n",
    ")"
   ]
  },
  {
   "cell_type": "code",
   "execution_count": 14,
   "id": "07754ad6-c20a-49a6-8414-3667afd1fb7a",
   "metadata": {},
   "outputs": [],
   "source": [
    "forw_transform = t.Compose(\n",
    "    [\n",
    "        t.AddFlanks(left_flank, right_flank),\n",
    "        t.LeftCrop(length, length),\n",
    "        t.ReverseComplement(0),\n",
    "        t.Seq2Tensor(),\n",
    "    ]\n",
    ")\n",
    "rev_transform = t.Compose(\n",
    "    [\n",
    "        t.AddFlanks(left_flank, right_flank),\n",
    "        t.LeftCrop(length, length),\n",
    "        t.ReverseComplement(1),\n",
    "        t.Seq2Tensor(),\n",
    "    ]\n",
    ")"
   ]
  },
  {
   "cell_type": "code",
   "execution_count": 15,
   "id": "f9293aa3-a61a-4fa2-b687-b13f281c3d91",
   "metadata": {},
   "outputs": [
    {
     "name": "stderr",
     "output_type": "stream",
     "text": [
      "LOCAL_RANK: 0 - CUDA_VISIBLE_DEVICES: [0,1]\n"
     ]
    },
    {
     "name": "stdout",
     "output_type": "stream",
     "text": [
      "native info\n",
      "Dataset VaishnavDataset of size 3978 (MpraDaraset)\n",
      "    Number of datapoints: 3978\n",
      "    Used split fold: test\n"
     ]
    },
    {
     "data": {
      "application/vnd.jupyter.widget-view+json": {
       "model_id": "dd10e5f0b9154f7a8ada335c836059fb",
       "version_major": 2,
       "version_minor": 0
      },
      "text/plain": [
       "Predicting: |                                                                                     | 0/? [00:00…"
      ]
     },
     "metadata": {},
     "output_type": "display_data"
    },
    {
     "name": "stderr",
     "output_type": "stream",
     "text": [
      "LOCAL_RANK: 0 - CUDA_VISIBLE_DEVICES: [0,1]\n"
     ]
    },
    {
     "data": {
      "application/vnd.jupyter.widget-view+json": {
       "model_id": "f6c52f1b2819421ebf0de60037a84856",
       "version_major": 2,
       "version_minor": 0
      },
      "text/plain": [
       "Predicting: |                                                                                     | 0/? [00:00…"
      ]
     },
     "metadata": {},
     "output_type": "display_data"
    },
    {
     "name": "stdout",
     "output_type": "stream",
     "text": [
      "native Pearson correlation\n"
     ]
    },
    {
     "data": {
      "text/plain": [
       "tensor(0.9779)"
      ]
     },
     "execution_count": 15,
     "metadata": {},
     "output_type": "execute_result"
    }
   ],
   "source": [
    "test_forw = VaishnavDataset(\n",
    "    split=\"test\",\n",
    "    dataset_env_type=\"defined\",\n",
    "    test_dataset_type=\"native\",\n",
    "    transform=forw_transform,\n",
    "    root=\"../data/\",\n",
    ")\n",
    "test_rev = VaishnavDataset(\n",
    "    split=\"test\",\n",
    "    dataset_env_type=\"defined\",\n",
    "    test_dataset_type=\"native\",\n",
    "    transform=rev_transform,\n",
    "    root=\"../data/\",\n",
    ")\n",
    "print(\"native info\")\n",
    "print(test_forw)\n",
    "\n",
    "forw_defined_native = data.DataLoader(\n",
    "    dataset=test_forw,\n",
    "    batch_size=BATCH_SIZE,\n",
    "    shuffle=False,\n",
    "    num_workers=NUM_WORKERS,\n",
    "    pin_memory=True,\n",
    ")\n",
    "rev_defined_native = data.DataLoader(\n",
    "    dataset=test_rev,\n",
    "    batch_size=BATCH_SIZE,\n",
    "    shuffle=False,\n",
    "    num_workers=NUM_WORKERS,\n",
    "    pin_memory=True,\n",
    ")\n",
    "\n",
    "meaned_prediction(\n",
    "    forw_defined_native, rev_defined_native, trainer, seq_model_defined, name=\"native\"\n",
    ")"
   ]
  },
  {
   "cell_type": "code",
   "execution_count": 16,
   "id": "28ffbfbf-2f2f-4d52-85ef-649ce0c15766",
   "metadata": {},
   "outputs": [
    {
     "name": "stderr",
     "output_type": "stream",
     "text": [
      "LOCAL_RANK: 0 - CUDA_VISIBLE_DEVICES: [0,1]\n"
     ]
    },
    {
     "name": "stdout",
     "output_type": "stream",
     "text": [
      "drift info\n",
      "Dataset VaishnavDataset of size 2986 (MpraDaraset)\n",
      "    Number of datapoints: 2986\n",
      "    Used split fold: test\n"
     ]
    },
    {
     "data": {
      "application/vnd.jupyter.widget-view+json": {
       "model_id": "c18c1f42076447baa73c21350e9b01c6",
       "version_major": 2,
       "version_minor": 0
      },
      "text/plain": [
       "Predicting: |                                                                                     | 0/? [00:00…"
      ]
     },
     "metadata": {},
     "output_type": "display_data"
    },
    {
     "name": "stderr",
     "output_type": "stream",
     "text": [
      "LOCAL_RANK: 0 - CUDA_VISIBLE_DEVICES: [0,1]\n"
     ]
    },
    {
     "data": {
      "application/vnd.jupyter.widget-view+json": {
       "model_id": "aaefe7715aaf48f393eabb1c29ee5c9d",
       "version_major": 2,
       "version_minor": 0
      },
      "text/plain": [
       "Predicting: |                                                                                     | 0/? [00:00…"
      ]
     },
     "metadata": {},
     "output_type": "display_data"
    },
    {
     "name": "stdout",
     "output_type": "stream",
     "text": [
      "drift Pearson correlation\n"
     ]
    },
    {
     "data": {
      "text/plain": [
       "tensor(0.9869)"
      ]
     },
     "execution_count": 16,
     "metadata": {},
     "output_type": "execute_result"
    }
   ],
   "source": [
    "test_forw = VaishnavDataset(\n",
    "    split=\"test\",\n",
    "    dataset_env_type=\"defined\",\n",
    "    test_dataset_type=\"drift\",\n",
    "    transform=forw_transform,\n",
    "    root=\"../data/\",\n",
    ")\n",
    "test_rev = VaishnavDataset(\n",
    "    split=\"test\",\n",
    "    dataset_env_type=\"defined\",\n",
    "    test_dataset_type=\"drift\",\n",
    "    transform=rev_transform,\n",
    "    root=\"../data/\",\n",
    ")\n",
    "print(\"drift info\")\n",
    "print(test_forw)\n",
    "\n",
    "forw_defined_drift = data.DataLoader(\n",
    "    dataset=test_forw,\n",
    "    batch_size=BATCH_SIZE,\n",
    "    shuffle=False,\n",
    "    num_workers=NUM_WORKERS,\n",
    "    pin_memory=True,\n",
    ")\n",
    "rev_defined_drift = data.DataLoader(\n",
    "    dataset=test_rev,\n",
    "    batch_size=BATCH_SIZE,\n",
    "    shuffle=False,\n",
    "    num_workers=NUM_WORKERS,\n",
    "    pin_memory=True,\n",
    ")\n",
    "\n",
    "meaned_prediction(\n",
    "    forw_defined_drift, rev_defined_drift, trainer, seq_model_defined, name=\"drift\"\n",
    ")"
   ]
  },
  {
   "cell_type": "markdown",
   "id": "f6d90339-7cf8-4c28-bd05-1221899ecb6f",
   "metadata": {},
   "source": [
    "### Note on paired sequences:\n",
    "\n",
    "Each paired sequence contains: (1) A reference sequence (2) An alternative sequence (3) Differential expression column"
   ]
  },
  {
   "cell_type": "code",
   "execution_count": 17,
   "id": "0f29e807-5bd6-4625-b7bf-003bb6657157",
   "metadata": {},
   "outputs": [
    {
     "data": {
      "text/plain": [
       "({'seq': 'CTTTCAATTGGGTGGGGACGCGACGGCGCCCCGGCTAGGATGCTAGCGTACTATGCTGCCTGAAAGTCTATAGGAGCATT',\n",
       "  'seq_alt': 'CTTTAAATTCGGTGGGGACGCGTCGGCGCCCCGGCTAGGATGCTAGCGTACTATGCTGCCTGAAAGTCTATAGGAGCATT'},\n",
       " tensor(0.6423))"
      ]
     },
     "execution_count": 17,
     "metadata": {},
     "output_type": "execute_result"
    }
   ],
   "source": [
    "dataset_paired = VaishnavDataset(\n",
    "    split=\"test\",\n",
    "    dataset_env_type=\"defined\",\n",
    "    test_dataset_type=\"paired\",\n",
    "    root=\"../data/\",\n",
    ")\n",
    "dataset_paired[0]"
   ]
  },
  {
   "cell_type": "code",
   "execution_count": 18,
   "id": "3598ba6d-fc2a-4de9-b770-5f6833e60b79",
   "metadata": {},
   "outputs": [
    {
     "name": "stderr",
     "output_type": "stream",
     "text": [
      "LOCAL_RANK: 0 - CUDA_VISIBLE_DEVICES: [0,1]\n"
     ]
    },
    {
     "name": "stdout",
     "output_type": "stream",
     "text": [
      "paired info\n",
      "Dataset VaishnavDataset of size 2986 (MpraDaraset)\n",
      "    Number of datapoints: 2986\n",
      "    Used split fold: test\n"
     ]
    },
    {
     "data": {
      "application/vnd.jupyter.widget-view+json": {
       "model_id": "8fa90cd6eaed4e0b909d7aeaf2fac385",
       "version_major": 2,
       "version_minor": 0
      },
      "text/plain": [
       "Predicting: |                                                                                     | 0/? [00:00…"
      ]
     },
     "metadata": {},
     "output_type": "display_data"
    },
    {
     "name": "stderr",
     "output_type": "stream",
     "text": [
      "LOCAL_RANK: 0 - CUDA_VISIBLE_DEVICES: [0,1]\n"
     ]
    },
    {
     "data": {
      "application/vnd.jupyter.widget-view+json": {
       "model_id": "28558ca3ab4645f9a309a30e6e367e72",
       "version_major": 2,
       "version_minor": 0
      },
      "text/plain": [
       "Predicting: |                                                                                     | 0/? [00:00…"
      ]
     },
     "metadata": {},
     "output_type": "display_data"
    },
    {
     "name": "stdout",
     "output_type": "stream",
     "text": [
      "paired Pearson correlation\n"
     ]
    },
    {
     "data": {
      "text/plain": [
       "tensor(0.8529)"
      ]
     },
     "execution_count": 18,
     "metadata": {},
     "output_type": "execute_result"
    }
   ],
   "source": [
    "test_forw = VaishnavDataset(\n",
    "    split=\"test\",\n",
    "    dataset_env_type=\"defined\",\n",
    "    test_dataset_type=\"paired\",\n",
    "    transform=forw_transform,\n",
    "    root=\"../data/\",\n",
    ")\n",
    "test_rev = VaishnavDataset(\n",
    "    split=\"test\",\n",
    "    dataset_env_type=\"defined\",\n",
    "    test_dataset_type=\"paired\",\n",
    "    transform=rev_transform,\n",
    "    root=\"../data/\",\n",
    ")\n",
    "print(\"paired info\")\n",
    "print(test_forw)\n",
    "\n",
    "forw_defined_paired = data.DataLoader(\n",
    "    dataset=test_forw,\n",
    "    batch_size=BATCH_SIZE,\n",
    "    shuffle=False,\n",
    "    num_workers=NUM_WORKERS,\n",
    "    pin_memory=True,\n",
    ")\n",
    "rev_defined_paired = data.DataLoader(\n",
    "    dataset=test_rev,\n",
    "    batch_size=BATCH_SIZE,\n",
    "    shuffle=False,\n",
    "    num_workers=NUM_WORKERS,\n",
    "    pin_memory=True,\n",
    ")\n",
    "\n",
    "meaned_prediction(\n",
    "    forw_defined_paired,\n",
    "    rev_defined_paired,\n",
    "    trainer,\n",
    "    seq_model_defined,\n",
    "    name=\"paired\",\n",
    "    is_paired=True,\n",
    ")"
   ]
  },
  {
   "cell_type": "markdown",
   "id": "48569cf4-adeb-4034-931f-177ee19e8946",
   "metadata": {},
   "source": [
    "# Train **complex** env type"
   ]
  },
  {
   "cell_type": "code",
   "execution_count": 19,
   "id": "cb1cb79b-7571-4f0a-955e-be8fb350cffc",
   "metadata": {},
   "outputs": [],
   "source": [
    "# load the data\n",
    "train_dataset = VaishnavDataset(\n",
    "    split=\"train\",\n",
    "    dataset_env_type=\"complex\",\n",
    "    transform=train_transform,\n",
    "    root=\"../data/\",\n",
    ")\n",
    "\n",
    "val_dataset = VaishnavDataset(\n",
    "    split=\"val\",\n",
    "    dataset_env_type=\"complex\",\n",
    "    transform=val_test_transform,\n",
    "    root=\"../data/\",\n",
    ")"
   ]
  },
  {
   "cell_type": "code",
   "execution_count": 20,
   "id": "ec11ca50-97ca-4585-9c79-aaf864269bd8",
   "metadata": {},
   "outputs": [
    {
     "name": "stdout",
     "output_type": "stream",
     "text": [
      "Dataset VaishnavDataset of size 28214427 (MpraDaraset)\n",
      "    Number of datapoints: 28214427\n",
      "    Used split fold: train\n",
      "------------\n",
      "Dataset VaishnavDataset of size 3134936 (MpraDaraset)\n",
      "    Number of datapoints: 3134936\n",
      "    Used split fold: val\n"
     ]
    }
   ],
   "source": [
    "print(train_dataset)\n",
    "print(\"------------\")\n",
    "print(val_dataset)"
   ]
  },
  {
   "cell_type": "code",
   "execution_count": 21,
   "id": "ffb8373f-d49e-40d7-81e1-379cff07ce25",
   "metadata": {},
   "outputs": [],
   "source": [
    "# encapsulate data into dataloader form\n",
    "train_loader = data.DataLoader(\n",
    "    dataset=train_dataset, batch_size=BATCH_SIZE, shuffle=True, num_workers=NUM_WORKERS\n",
    ")\n",
    "\n",
    "val_loader = data.DataLoader(\n",
    "    dataset=val_dataset, batch_size=BATCH_SIZE, shuffle=False, num_workers=NUM_WORKERS\n",
    ")"
   ]
  },
  {
   "cell_type": "code",
   "execution_count": 22,
   "id": "56cc0be4-8e67-484b-9b0b-32482cb424cc",
   "metadata": {},
   "outputs": [],
   "source": [
    "in_channels = len(train_dataset[0][0])\n",
    "out_channels = 1"
   ]
  },
  {
   "cell_type": "code",
   "execution_count": 23,
   "id": "5dddcb7c-0a68-48ac-9765-c4858a1d49bb",
   "metadata": {},
   "outputs": [],
   "source": [
    "model = HumanLegNet(\n",
    "    in_ch=in_channels,\n",
    "    output_dim=out_channels,\n",
    "    stem_ch=64,\n",
    "    stem_ks=11,\n",
    "    ef_ks=9,\n",
    "    ef_block_sizes=[80, 96, 112, 128],\n",
    "    pool_sizes=[1, 1, 1, 1],\n",
    "    resize_factor=4,\n",
    ")\n",
    "model.apply(initialize_weights)\n",
    "\n",
    "seq_model_complex = LitModel_Vaishnav(\n",
    "    model=model, loss=nn.MSELoss(), weight_decay=1e-1, lr=1e-2, print_each=1\n",
    ")"
   ]
  },
  {
   "cell_type": "code",
   "execution_count": 24,
   "id": "a7812338-7e63-4341-9a01-732aa7d35592",
   "metadata": {},
   "outputs": [
    {
     "name": "stderr",
     "output_type": "stream",
     "text": [
      "Using 16bit Automatic Mixed Precision (AMP)\n",
      "GPU available: True (cuda), used: True\n",
      "TPU available: False, using: 0 TPU cores\n",
      "HPU available: False, using: 0 HPUs\n"
     ]
    }
   ],
   "source": [
    "checkpoint_callback = ModelCheckpoint(\n",
    "    monitor=\"val_pearson\",\n",
    "    mode=\"max\",\n",
    "    save_top_k=1,\n",
    "    dirpath=\"./checkpoints_vaishnav/\",\n",
    "    filename=\"best_model_without_pooling-{epoch:02d}-{val_pearson:.3f}\",\n",
    "    save_last=False,\n",
    ")\n",
    "logger = pl_loggers.TensorBoardLogger(\"./logs\", name=\"Vaishnav\")\n",
    "# Initialize a trainer\n",
    "trainer = L.Trainer(\n",
    "    accelerator=\"gpu\",\n",
    "    devices=[1],\n",
    "    max_epochs=1,\n",
    "    gradient_clip_val=1,\n",
    "    precision=\"16-mixed\",\n",
    "    enable_progress_bar=True,\n",
    "    num_sanity_val_steps=0,\n",
    "    callbacks=[checkpoint_callback],\n",
    "    logger=logger,\n",
    ")"
   ]
  },
  {
   "cell_type": "code",
   "execution_count": 25,
   "id": "4dd43dd6-78e1-4458-8d30-de20e8e8f180",
   "metadata": {},
   "outputs": [
    {
     "name": "stderr",
     "output_type": "stream",
     "text": [
      "/home/nios/miniconda3/envs/mpra/lib/python3.12/site-packages/lightning/pytorch/callbacks/model_checkpoint.py:654: Checkpoint directory /home/nios/5Term/examples/checkpoints_vaishnav exists and is not empty.\n",
      "LOCAL_RANK: 0 - CUDA_VISIBLE_DEVICES: [0,1]\n",
      "Loading `train_dataloader` to estimate number of stepping batches.\n",
      "\n",
      "  | Name          | Type            | Params | Mode \n",
      "----------------------------------------------------------\n",
      "0 | model         | HumanLegNet     | 1.3 M  | train\n",
      "1 | loss          | MSELoss         | 0      | train\n",
      "2 | train_pearson | PearsonCorrCoef | 0      | train\n",
      "3 | val_pearson   | PearsonCorrCoef | 0      | train\n",
      "4 | test_pearson  | PearsonCorrCoef | 0      | train\n",
      "----------------------------------------------------------\n",
      "1.3 M     Trainable params\n",
      "0         Non-trainable params\n",
      "1.3 M     Total params\n",
      "5.290     Total estimated model params size (MB)\n",
      "120       Modules in train mode\n",
      "0         Modules in eval mode\n"
     ]
    },
    {
     "data": {
      "application/vnd.jupyter.widget-view+json": {
       "model_id": "b1e807aa80d0460290200a976953a59b",
       "version_major": 2,
       "version_minor": 0
      },
      "text/plain": [
       "Training: |                                                                                       | 0/? [00:00…"
      ]
     },
     "metadata": {},
     "output_type": "display_data"
    },
    {
     "data": {
      "application/vnd.jupyter.widget-view+json": {
       "model_id": "",
       "version_major": 2,
       "version_minor": 0
      },
      "text/plain": [
       "Validation: |                                                                                     | 0/? [00:00…"
      ]
     },
     "metadata": {},
     "output_type": "display_data"
    },
    {
     "name": "stderr",
     "output_type": "stream",
     "text": [
      "`Trainer.fit` stopped: `max_epochs=1` reached.\n"
     ]
    },
    {
     "name": "stdout",
     "output_type": "stream",
     "text": [
      "\n",
      "-------------------------------------------------------------------------------\n",
      "| Epoch: 0 | Val Loss: 5.24360 | Val Pearson: 0.84209 | Train Pearson: 0.80531 \n",
      "-------------------------------------------------------------------------------\n",
      "\n"
     ]
    }
   ],
   "source": [
    "# Train the model\n",
    "trainer.fit(\n",
    "    seq_model_complex, train_dataloaders=train_loader, val_dataloaders=val_loader\n",
    ")"
   ]
  },
  {
   "cell_type": "markdown",
   "id": "8e404fd3-1321-493c-86f3-28bc553ecc59",
   "metadata": {},
   "source": [
    "## Test Sequences:\n",
    "\n",
    "Test sequences are divided into three categories per environment:\n",
    "\n",
    "* Reference (`native`)\n",
    "\n",
    "* Alternative (`drift`)\n",
    "\n",
    "* Paired (`paired`)\n",
    "\n",
    "Use the `test_dataset_type`"
   ]
  },
  {
   "cell_type": "code",
   "execution_count": 26,
   "id": "4ad464e3-cd03-4f21-9535-2aeaa794e183",
   "metadata": {},
   "outputs": [],
   "source": [
    "# Load the best model\n",
    "best_model_path = checkpoint_callback.best_model_path\n",
    "\n",
    "seq_model_complex = LitModel_Vaishnav.load_from_checkpoint(\n",
    "    best_model_path,\n",
    "    model=model,\n",
    "    loss=nn.MSELoss(),\n",
    "    weight_decay=1e-1,\n",
    "    lr=1e-2,\n",
    "    print_each=1,\n",
    ")"
   ]
  },
  {
   "cell_type": "code",
   "execution_count": 27,
   "id": "f465f6af-e74e-4cff-aa7c-0490b0e5c1c5",
   "metadata": {},
   "outputs": [],
   "source": [
    "forw_transform = t.Compose(\n",
    "    [\n",
    "        t.AddFlanks(left_flank, right_flank),\n",
    "        t.LeftCrop(length, length),\n",
    "        t.ReverseComplement(0),\n",
    "        t.Seq2Tensor(),\n",
    "    ]\n",
    ")\n",
    "rev_transform = t.Compose(\n",
    "    [\n",
    "        t.AddFlanks(left_flank, right_flank),\n",
    "        t.LeftCrop(length, length),\n",
    "        t.ReverseComplement(1),\n",
    "        t.Seq2Tensor(),\n",
    "    ]\n",
    ")"
   ]
  },
  {
   "cell_type": "code",
   "execution_count": 28,
   "id": "382cb0d2-7f42-4358-93c6-4ae26c80a8be",
   "metadata": {},
   "outputs": [
    {
     "name": "stderr",
     "output_type": "stream",
     "text": [
      "LOCAL_RANK: 0 - CUDA_VISIBLE_DEVICES: [0,1]\n"
     ]
    },
    {
     "name": "stdout",
     "output_type": "stream",
     "text": [
      "native info\n",
      "Dataset VaishnavDataset of size 3929 (MpraDaraset)\n",
      "    Number of datapoints: 3929\n",
      "    Used split fold: test\n"
     ]
    },
    {
     "data": {
      "application/vnd.jupyter.widget-view+json": {
       "model_id": "027ef1f389fe42708c370b16b9604770",
       "version_major": 2,
       "version_minor": 0
      },
      "text/plain": [
       "Predicting: |                                                                                     | 0/? [00:00…"
      ]
     },
     "metadata": {},
     "output_type": "display_data"
    },
    {
     "name": "stderr",
     "output_type": "stream",
     "text": [
      "LOCAL_RANK: 0 - CUDA_VISIBLE_DEVICES: [0,1]\n"
     ]
    },
    {
     "data": {
      "application/vnd.jupyter.widget-view+json": {
       "model_id": "5df54ae3b2bd4f9cb5b8574588001850",
       "version_major": 2,
       "version_minor": 0
      },
      "text/plain": [
       "Predicting: |                                                                                     | 0/? [00:00…"
      ]
     },
     "metadata": {},
     "output_type": "display_data"
    },
    {
     "name": "stdout",
     "output_type": "stream",
     "text": [
      "native Pearson correlation\n"
     ]
    },
    {
     "data": {
      "text/plain": [
       "tensor(0.9746)"
      ]
     },
     "execution_count": 28,
     "metadata": {},
     "output_type": "execute_result"
    }
   ],
   "source": [
    "test_forw = VaishnavDataset(\n",
    "    split=\"test\",\n",
    "    dataset_env_type=\"complex\",\n",
    "    test_dataset_type=\"native\",\n",
    "    transform=forw_transform,\n",
    "    root=\"../data/\",\n",
    ")\n",
    "test_rev = VaishnavDataset(\n",
    "    split=\"test\",\n",
    "    dataset_env_type=\"complex\",\n",
    "    test_dataset_type=\"native\",\n",
    "    transform=rev_transform,\n",
    "    root=\"../data/\",\n",
    ")\n",
    "print(\"native info\")\n",
    "print(test_forw)\n",
    "\n",
    "forw_complex_native = data.DataLoader(\n",
    "    dataset=test_forw,\n",
    "    batch_size=BATCH_SIZE,\n",
    "    shuffle=False,\n",
    "    num_workers=NUM_WORKERS,\n",
    "    pin_memory=True,\n",
    ")\n",
    "rev_complex_native = data.DataLoader(\n",
    "    dataset=test_rev,\n",
    "    batch_size=BATCH_SIZE,\n",
    "    shuffle=False,\n",
    "    num_workers=NUM_WORKERS,\n",
    "    pin_memory=True,\n",
    ")\n",
    "\n",
    "meaned_prediction(\n",
    "    forw_complex_native, rev_complex_native, trainer, seq_model_complex, name=\"native\"\n",
    ")"
   ]
  },
  {
   "cell_type": "code",
   "execution_count": 29,
   "id": "10da6895-853c-48f4-b82f-6bdd4aa76f91",
   "metadata": {},
   "outputs": [
    {
     "name": "stderr",
     "output_type": "stream",
     "text": [
      "LOCAL_RANK: 0 - CUDA_VISIBLE_DEVICES: [0,1]\n"
     ]
    },
    {
     "name": "stdout",
     "output_type": "stream",
     "text": [
      "drift info\n",
      "Dataset VaishnavDataset of size 2983 (MpraDaraset)\n",
      "    Number of datapoints: 2983\n",
      "    Used split fold: test\n"
     ]
    },
    {
     "data": {
      "application/vnd.jupyter.widget-view+json": {
       "model_id": "f30eefe94bef4f8b884d43bdd024675a",
       "version_major": 2,
       "version_minor": 0
      },
      "text/plain": [
       "Predicting: |                                                                                     | 0/? [00:00…"
      ]
     },
     "metadata": {},
     "output_type": "display_data"
    },
    {
     "name": "stderr",
     "output_type": "stream",
     "text": [
      "LOCAL_RANK: 0 - CUDA_VISIBLE_DEVICES: [0,1]\n"
     ]
    },
    {
     "data": {
      "application/vnd.jupyter.widget-view+json": {
       "model_id": "2ab18521e25f4d5886f930047a33c076",
       "version_major": 2,
       "version_minor": 0
      },
      "text/plain": [
       "Predicting: |                                                                                     | 0/? [00:00…"
      ]
     },
     "metadata": {},
     "output_type": "display_data"
    },
    {
     "name": "stdout",
     "output_type": "stream",
     "text": [
      "drift Pearson correlation\n"
     ]
    },
    {
     "data": {
      "text/plain": [
       "tensor(0.9853)"
      ]
     },
     "execution_count": 29,
     "metadata": {},
     "output_type": "execute_result"
    }
   ],
   "source": [
    "test_forw = VaishnavDataset(\n",
    "    split=\"test\",\n",
    "    dataset_env_type=\"complex\",\n",
    "    test_dataset_type=\"drift\",\n",
    "    transform=forw_transform,\n",
    "    root=\"../data/\",\n",
    ")\n",
    "test_rev = VaishnavDataset(\n",
    "    split=\"test\",\n",
    "    dataset_env_type=\"complex\",\n",
    "    test_dataset_type=\"drift\",\n",
    "    transform=rev_transform,\n",
    "    root=\"../data/\",\n",
    ")\n",
    "print(\"drift info\")\n",
    "print(test_forw)\n",
    "\n",
    "forw_complex_drift = data.DataLoader(\n",
    "    dataset=test_forw,\n",
    "    batch_size=BATCH_SIZE,\n",
    "    shuffle=False,\n",
    "    num_workers=NUM_WORKERS,\n",
    "    pin_memory=True,\n",
    ")\n",
    "rev_complex_drift = data.DataLoader(\n",
    "    dataset=test_rev,\n",
    "    batch_size=BATCH_SIZE,\n",
    "    shuffle=False,\n",
    "    num_workers=NUM_WORKERS,\n",
    "    pin_memory=True,\n",
    ")\n",
    "\n",
    "meaned_prediction(\n",
    "    forw_complex_drift, rev_complex_drift, trainer, seq_model_complex, name=\"drift\"\n",
    ")"
   ]
  },
  {
   "cell_type": "markdown",
   "id": "e6477b7e-71f4-43df-acbe-d1df18daa559",
   "metadata": {},
   "source": [
    "### Note on paired sequences:\n",
    "\n",
    "Each paired sequence contains: (1) A reference sequence (2) An alternative sequence (3) Differential expression column"
   ]
  },
  {
   "cell_type": "code",
   "execution_count": 30,
   "id": "129681a6-e64a-4e8f-bd2b-d3562993da0f",
   "metadata": {},
   "outputs": [
    {
     "data": {
      "text/plain": [
       "({'seq': 'CTTTCAATTGGGTGGGGACGCGACGGCGCCCCGGCTAGGATGCTAGCGTACTATGCTGCCTGAAAGTCTATAGGAGCATT',\n",
       "  'seq_alt': 'CTTTCAATTGGGTGGGGACGCGACGGCGCCCCGACTAGGATGCTAGCGTACTATGCTGCCTGAAAGTCTATAGGAGCATT'},\n",
       " tensor(-0.2812))"
      ]
     },
     "execution_count": 30,
     "metadata": {},
     "output_type": "execute_result"
    }
   ],
   "source": [
    "dataset_paired = VaishnavDataset(\n",
    "    split=\"test\",\n",
    "    dataset_env_type=\"complex\",\n",
    "    test_dataset_type=\"paired\",\n",
    "    root=\"../data/\",\n",
    ")\n",
    "dataset_paired[0]"
   ]
  },
  {
   "cell_type": "code",
   "execution_count": 31,
   "id": "0e8c4545-59e9-41f8-9875-f1eefb1aaa11",
   "metadata": {},
   "outputs": [
    {
     "name": "stderr",
     "output_type": "stream",
     "text": [
      "LOCAL_RANK: 0 - CUDA_VISIBLE_DEVICES: [0,1]\n"
     ]
    },
    {
     "name": "stdout",
     "output_type": "stream",
     "text": [
      "paired info\n",
      "Dataset VaishnavDataset of size 2983 (MpraDaraset)\n",
      "    Number of datapoints: 2983\n",
      "    Used split fold: test\n"
     ]
    },
    {
     "data": {
      "application/vnd.jupyter.widget-view+json": {
       "model_id": "04cad58dce3644aca83e0d5c484f6f66",
       "version_major": 2,
       "version_minor": 0
      },
      "text/plain": [
       "Predicting: |                                                                                     | 0/? [00:00…"
      ]
     },
     "metadata": {},
     "output_type": "display_data"
    },
    {
     "name": "stderr",
     "output_type": "stream",
     "text": [
      "LOCAL_RANK: 0 - CUDA_VISIBLE_DEVICES: [0,1]\n"
     ]
    },
    {
     "data": {
      "application/vnd.jupyter.widget-view+json": {
       "model_id": "b1b308f926a94e06836a1d27299de662",
       "version_major": 2,
       "version_minor": 0
      },
      "text/plain": [
       "Predicting: |                                                                                     | 0/? [00:00…"
      ]
     },
     "metadata": {},
     "output_type": "display_data"
    },
    {
     "name": "stdout",
     "output_type": "stream",
     "text": [
      "paired Pearson correlation\n"
     ]
    },
    {
     "data": {
      "text/plain": [
       "tensor(0.8796)"
      ]
     },
     "execution_count": 31,
     "metadata": {},
     "output_type": "execute_result"
    }
   ],
   "source": [
    "test_forw = VaishnavDataset(\n",
    "    split=\"test\",\n",
    "    dataset_env_type=\"complex\",\n",
    "    test_dataset_type=\"paired\",\n",
    "    transform=forw_transform,\n",
    "    root=\"../data/\",\n",
    ")\n",
    "test_rev = VaishnavDataset(\n",
    "    split=\"test\",\n",
    "    dataset_env_type=\"complex\",\n",
    "    test_dataset_type=\"paired\",\n",
    "    transform=rev_transform,\n",
    "    root=\"../data/\",\n",
    ")\n",
    "print(\"paired info\")\n",
    "print(test_forw)\n",
    "\n",
    "forw_complex_paired = data.DataLoader(\n",
    "    dataset=test_forw,\n",
    "    batch_size=BATCH_SIZE,\n",
    "    shuffle=False,\n",
    "    num_workers=NUM_WORKERS,\n",
    "    pin_memory=True,\n",
    ")\n",
    "rev_complex_paired = data.DataLoader(\n",
    "    dataset=test_rev,\n",
    "    batch_size=BATCH_SIZE,\n",
    "    shuffle=False,\n",
    "    num_workers=NUM_WORKERS,\n",
    "    pin_memory=True,\n",
    ")\n",
    "\n",
    "meaned_prediction(\n",
    "    forw_complex_paired,\n",
    "    rev_complex_paired,\n",
    "    trainer,\n",
    "    seq_model_complex,\n",
    "    name=\"paired\",\n",
    "    is_paired=True,\n",
    ")"
   ]
  },
  {
   "cell_type": "code",
   "execution_count": null,
   "id": "c8d7b4df-5c03-4ffe-b21f-0f62c7292086",
   "metadata": {},
   "outputs": [],
   "source": []
  },
  {
   "cell_type": "code",
   "execution_count": null,
   "id": "8a13e492-0878-48a5-ab76-ed141b1d4ad1",
   "metadata": {},
   "outputs": [],
   "source": []
  }
 ],
 "metadata": {
  "kernelspec": {
   "display_name": "Python [conda env:mpra]",
   "language": "python",
   "name": "conda-env-mpra-py"
  },
  "language_info": {
   "codemirror_mode": {
    "name": "ipython",
    "version": 3
   },
   "file_extension": ".py",
   "mimetype": "text/x-python",
   "name": "python",
   "nbconvert_exporter": "python",
   "pygments_lexer": "ipython3",
   "version": "3.12.7"
  }
 },
 "nbformat": 4,
 "nbformat_minor": 5
}
