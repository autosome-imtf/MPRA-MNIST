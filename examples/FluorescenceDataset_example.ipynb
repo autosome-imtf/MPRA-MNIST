{
 "cells": [
  {
   "cell_type": "code",
   "execution_count": 1,
   "id": "9f191993-d46f-4115-920f-607ef4a35924",
   "metadata": {},
   "outputs": [],
   "source": [
    "import mpramnist\n",
    "from mpramnist.Fluorescence.dataset import FluorescenceDataset\n",
    "\n",
    "from mpramnist.models import HumanLegNet\n",
    "from mpramnist.models import initialize_weights\n",
    "\n",
    "# Trainer for regression\n",
    "from mpramnist.trainers import LitModel_Fluorescence_Reg\n",
    "\n",
    "#Trainer for classification\n",
    "from mpramnist.trainers import LitModel_Fluorescence_Clas\n",
    "\n",
    "from mpramnist import transforms as t\n",
    "from mpramnist import target_transforms as t_t\n",
    "\n",
    "import torch\n",
    "import torch.nn as nn\n",
    "import torch.optim as optim\n",
    "import torch.utils.data as data\n",
    "import lightning.pytorch as L\n",
    "from lightning.pytorch.callbacks import ModelCheckpoint\n",
    "\n",
    "from torchmetrics import PearsonCorrCoef"
   ]
  },
  {
   "cell_type": "markdown",
   "id": "010c91c0-3969-4002-81ef-f071de65790c",
   "metadata": {},
   "source": [
    "# Regression task"
   ]
  },
  {
   "cell_type": "code",
   "execution_count": 2,
   "id": "db1a2264-2acc-4137-bbf2-cab09f3f4817",
   "metadata": {},
   "outputs": [],
   "source": [
    "BATCH_SIZE = 32\n",
    "NUM_WORKERS = 103"
   ]
  },
  {
   "cell_type": "code",
   "execution_count": 3,
   "id": "be461aff-fe34-4eb3-80e7-fc708ab78966",
   "metadata": {},
   "outputs": [],
   "source": [
    "train_transform = t.Compose([\n",
    "    t.Seq2Tensor(),\n",
    "    t.ReverseComplement(0.5)\n",
    "])\n",
    "val_test_transform = t.Compose([\n",
    "    t.Seq2Tensor()\n",
    "])"
   ]
  },
  {
   "cell_type": "code",
   "execution_count": 4,
   "id": "c4d3a488-e369-44f5-8d50-dd3ed7d24e27",
   "metadata": {},
   "outputs": [],
   "source": [
    "task = \"regression\"\n",
    "activity_columns = [\"JURKAT\", \"K562\", \"THP1\"]\n",
    "\n",
    "train_dataset = FluorescenceDataset(task = task, activity_columns = activity_columns, split = \"train\",transform = train_transform, root = \"../data/\")\n",
    "\n",
    "val_dataset = FluorescenceDataset(task = task, activity_columns = activity_columns, split = \"val\",transform = val_test_transform, root = \"../data/\") \n",
    "\n",
    "test_dataset = FluorescenceDataset(task = task, activity_columns = activity_columns, split = \"test\", transform = val_test_transform, root = \"../data/\")"
   ]
  },
  {
   "cell_type": "code",
   "execution_count": 5,
   "id": "21fae719-76dd-4542-b736-cb761279646e",
   "metadata": {},
   "outputs": [
    {
     "name": "stdout",
     "output_type": "stream",
     "text": [
      "Dataset FluorescenceDataset of size 12335 (MpraDaraset)\n",
      "    Number of datapoints: 12335\n",
      "    Used split fold: train\n",
      "===================\n",
      "Dataset FluorescenceDataset of size 1416 (MpraDaraset)\n",
      "    Number of datapoints: 1416\n",
      "    Used split fold: val\n",
      "===================\n",
      "Dataset FluorescenceDataset of size 3353 (MpraDaraset)\n",
      "    Number of datapoints: 3353\n",
      "    Used split fold: test\n"
     ]
    }
   ],
   "source": [
    "print(train_dataset)\n",
    "print(\"===================\")\n",
    "print(val_dataset)\n",
    "print(\"===================\")\n",
    "print(test_dataset)"
   ]
  },
  {
   "cell_type": "code",
   "execution_count": 6,
   "id": "91403291-0c68-4d92-aa67-ae8fb09da96d",
   "metadata": {},
   "outputs": [],
   "source": [
    "# encapsulate data into dataloader form\n",
    "train_loader = data.DataLoader(dataset=train_dataset, batch_size=BATCH_SIZE, shuffle=True, num_workers = NUM_WORKERS)\n",
    "\n",
    "val_loader = data.DataLoader(dataset=val_dataset, batch_size=BATCH_SIZE, shuffle=False, num_workers = NUM_WORKERS)\n",
    "\n",
    "test_loader = data.DataLoader(dataset=test_dataset, batch_size=BATCH_SIZE, shuffle=False, num_workers = NUM_WORKERS)"
   ]
  },
  {
   "cell_type": "code",
   "execution_count": 7,
   "id": "da063595-6c86-41d5-846e-e83fea08c5d7",
   "metadata": {},
   "outputs": [],
   "source": [
    "in_channels = len(train_dataset[0][0])\n",
    "out_channels = len(activity_columns)"
   ]
  },
  {
   "cell_type": "code",
   "execution_count": 8,
   "id": "625a6391-3cf6-48d0-a771-a806f08598cb",
   "metadata": {},
   "outputs": [],
   "source": [
    "model = HumanLegNet(in_ch=in_channels,\n",
    "                     output_dim = out_channels,\n",
    "                     stem_ch=64,\n",
    "                     stem_ks=11,\n",
    "                     ef_ks=9,\n",
    "                     ef_block_sizes=[80, 96, 112, 128],\n",
    "                     pool_sizes=[2,2,2,2],\n",
    "                     resize_factor=4)\n",
    "model.apply(initialize_weights)\n",
    "\n",
    "seq_model = LitModel_Fluorescence_Reg(model = model, num_outputs = out_channels,\n",
    "                                      activity_columns = activity_columns,\n",
    "                           loss = nn.MSELoss(),\n",
    "                           weight_decay = 1e-1, lr = 1e-2, print_each = 10)"
   ]
  },
  {
   "cell_type": "code",
   "execution_count": 9,
   "id": "230c84f3-b182-4c3f-85b3-f02b8ce18a28",
   "metadata": {},
   "outputs": [
    {
     "name": "stderr",
     "output_type": "stream",
     "text": [
      "Using 16bit Automatic Mixed Precision (AMP)\n",
      "GPU available: True (cuda), used: True\n",
      "TPU available: False, using: 0 TPU cores\n",
      "HPU available: False, using: 0 HPUs\n"
     ]
    }
   ],
   "source": [
    "checkpoint_callback = ModelCheckpoint(\n",
    "        monitor='val_pearson', \n",
    "        mode='max',  \n",
    "        save_top_k=1,\n",
    "        save_last=False\n",
    "    )\n",
    "# Initialize a trainer\n",
    "trainer = L.Trainer(\n",
    "    accelerator=\"gpu\",\n",
    "    devices=[1],\n",
    "    max_epochs=50,\n",
    "    gradient_clip_val=1,\n",
    "    precision='16-mixed', \n",
    "    enable_progress_bar = True,\n",
    "    num_sanity_val_steps=0,\n",
    "    callbacks=[checkpoint_callback]\n",
    ")"
   ]
  },
  {
   "cell_type": "code",
   "execution_count": 10,
   "id": "57a9e535-dffc-412b-b339-ab2c961edf66",
   "metadata": {},
   "outputs": [
    {
     "name": "stderr",
     "output_type": "stream",
     "text": [
      "You are using a CUDA device ('NVIDIA GeForce RTX 3090') that has Tensor Cores. To properly utilize them, you should set `torch.set_float32_matmul_precision('medium' | 'high')` which will trade-off precision for performance. For more details, read https://pytorch.org/docs/stable/generated/torch.set_float32_matmul_precision.html#torch.set_float32_matmul_precision\n",
      "LOCAL_RANK: 0 - CUDA_VISIBLE_DEVICES: [0,1]\n",
      "Loading `train_dataloader` to estimate number of stepping batches.\n",
      "\n",
      "  | Name          | Type            | Params | Mode \n",
      "----------------------------------------------------------\n",
      "0 | model         | HumanLegNet     | 1.3 M  | train\n",
      "1 | loss          | MSELoss         | 0      | train\n",
      "2 | train_pearson | PearsonCorrCoef | 0      | train\n",
      "3 | val_pearson   | PearsonCorrCoef | 0      | train\n",
      "4 | test_pearson  | PearsonCorrCoef | 0      | train\n",
      "----------------------------------------------------------\n",
      "1.3 M     Trainable params\n",
      "0         Non-trainable params\n",
      "1.3 M     Total params\n",
      "5.292     Total estimated model params size (MB)\n",
      "120       Modules in train mode\n",
      "0         Modules in eval mode\n"
     ]
    },
    {
     "data": {
      "application/vnd.jupyter.widget-view+json": {
       "model_id": "b1df2ac7b5684c959ed7118a0afe8b1f",
       "version_major": 2,
       "version_minor": 0
      },
      "text/plain": [
       "Training: |                                                                                       | 0/? [00:00…"
      ]
     },
     "metadata": {},
     "output_type": "display_data"
    },
    {
     "data": {
      "application/vnd.jupyter.widget-view+json": {
       "model_id": "",
       "version_major": 2,
       "version_minor": 0
      },
      "text/plain": [
       "Validation: |                                                                                     | 0/? [00:00…"
      ]
     },
     "metadata": {},
     "output_type": "display_data"
    },
    {
     "data": {
      "application/vnd.jupyter.widget-view+json": {
       "model_id": "",
       "version_major": 2,
       "version_minor": 0
      },
      "text/plain": [
       "Validation: |                                                                                     | 0/? [00:00…"
      ]
     },
     "metadata": {},
     "output_type": "display_data"
    },
    {
     "data": {
      "application/vnd.jupyter.widget-view+json": {
       "model_id": "",
       "version_major": 2,
       "version_minor": 0
      },
      "text/plain": [
       "Validation: |                                                                                     | 0/? [00:00…"
      ]
     },
     "metadata": {},
     "output_type": "display_data"
    },
    {
     "data": {
      "application/vnd.jupyter.widget-view+json": {
       "model_id": "",
       "version_major": 2,
       "version_minor": 0
      },
      "text/plain": [
       "Validation: |                                                                                     | 0/? [00:00…"
      ]
     },
     "metadata": {},
     "output_type": "display_data"
    },
    {
     "data": {
      "application/vnd.jupyter.widget-view+json": {
       "model_id": "",
       "version_major": 2,
       "version_minor": 0
      },
      "text/plain": [
       "Validation: |                                                                                     | 0/? [00:00…"
      ]
     },
     "metadata": {},
     "output_type": "display_data"
    },
    {
     "data": {
      "application/vnd.jupyter.widget-view+json": {
       "model_id": "",
       "version_major": 2,
       "version_minor": 0
      },
      "text/plain": [
       "Validation: |                                                                                     | 0/? [00:00…"
      ]
     },
     "metadata": {},
     "output_type": "display_data"
    },
    {
     "data": {
      "application/vnd.jupyter.widget-view+json": {
       "model_id": "",
       "version_major": 2,
       "version_minor": 0
      },
      "text/plain": [
       "Validation: |                                                                                     | 0/? [00:00…"
      ]
     },
     "metadata": {},
     "output_type": "display_data"
    },
    {
     "data": {
      "application/vnd.jupyter.widget-view+json": {
       "model_id": "",
       "version_major": 2,
       "version_minor": 0
      },
      "text/plain": [
       "Validation: |                                                                                     | 0/? [00:00…"
      ]
     },
     "metadata": {},
     "output_type": "display_data"
    },
    {
     "data": {
      "application/vnd.jupyter.widget-view+json": {
       "model_id": "",
       "version_major": 2,
       "version_minor": 0
      },
      "text/plain": [
       "Validation: |                                                                                     | 0/? [00:00…"
      ]
     },
     "metadata": {},
     "output_type": "display_data"
    },
    {
     "data": {
      "application/vnd.jupyter.widget-view+json": {
       "model_id": "",
       "version_major": 2,
       "version_minor": 0
      },
      "text/plain": [
       "Validation: |                                                                                     | 0/? [00:00…"
      ]
     },
     "metadata": {},
     "output_type": "display_data"
    },
    {
     "name": "stdout",
     "output_type": "stream",
     "text": [
      "\n",
      "--------------------------------------------------------------------------------------------------------------------------\n",
      "| Epoch: 9 | Val Loss: 0.96070 \n",
      "| Val Pearson JURKAT: 0.52395 | Val Pearson K562: 0.50619 | Val Pearson THP1: 0.49290 | Mean Val Pearson: 0.50768 |\n",
      "| Train Pearson JURKAT: 0.53819 | Train Pearson K562: 0.53090 | Train Pearson THP1: 0.47559 | Mean Train Pearson: 0.51489 |\n",
      "--------------------------------------------------------------------------------------------------------------------------\n",
      "\n"
     ]
    },
    {
     "data": {
      "application/vnd.jupyter.widget-view+json": {
       "model_id": "",
       "version_major": 2,
       "version_minor": 0
      },
      "text/plain": [
       "Validation: |                                                                                     | 0/? [00:00…"
      ]
     },
     "metadata": {},
     "output_type": "display_data"
    },
    {
     "data": {
      "application/vnd.jupyter.widget-view+json": {
       "model_id": "",
       "version_major": 2,
       "version_minor": 0
      },
      "text/plain": [
       "Validation: |                                                                                     | 0/? [00:00…"
      ]
     },
     "metadata": {},
     "output_type": "display_data"
    },
    {
     "data": {
      "application/vnd.jupyter.widget-view+json": {
       "model_id": "",
       "version_major": 2,
       "version_minor": 0
      },
      "text/plain": [
       "Validation: |                                                                                     | 0/? [00:00…"
      ]
     },
     "metadata": {},
     "output_type": "display_data"
    },
    {
     "data": {
      "application/vnd.jupyter.widget-view+json": {
       "model_id": "",
       "version_major": 2,
       "version_minor": 0
      },
      "text/plain": [
       "Validation: |                                                                                     | 0/? [00:00…"
      ]
     },
     "metadata": {},
     "output_type": "display_data"
    },
    {
     "data": {
      "application/vnd.jupyter.widget-view+json": {
       "model_id": "",
       "version_major": 2,
       "version_minor": 0
      },
      "text/plain": [
       "Validation: |                                                                                     | 0/? [00:00…"
      ]
     },
     "metadata": {},
     "output_type": "display_data"
    },
    {
     "data": {
      "application/vnd.jupyter.widget-view+json": {
       "model_id": "",
       "version_major": 2,
       "version_minor": 0
      },
      "text/plain": [
       "Validation: |                                                                                     | 0/? [00:00…"
      ]
     },
     "metadata": {},
     "output_type": "display_data"
    },
    {
     "data": {
      "application/vnd.jupyter.widget-view+json": {
       "model_id": "",
       "version_major": 2,
       "version_minor": 0
      },
      "text/plain": [
       "Validation: |                                                                                     | 0/? [00:00…"
      ]
     },
     "metadata": {},
     "output_type": "display_data"
    },
    {
     "data": {
      "application/vnd.jupyter.widget-view+json": {
       "model_id": "",
       "version_major": 2,
       "version_minor": 0
      },
      "text/plain": [
       "Validation: |                                                                                     | 0/? [00:00…"
      ]
     },
     "metadata": {},
     "output_type": "display_data"
    },
    {
     "data": {
      "application/vnd.jupyter.widget-view+json": {
       "model_id": "",
       "version_major": 2,
       "version_minor": 0
      },
      "text/plain": [
       "Validation: |                                                                                     | 0/? [00:00…"
      ]
     },
     "metadata": {},
     "output_type": "display_data"
    },
    {
     "data": {
      "application/vnd.jupyter.widget-view+json": {
       "model_id": "",
       "version_major": 2,
       "version_minor": 0
      },
      "text/plain": [
       "Validation: |                                                                                     | 0/? [00:00…"
      ]
     },
     "metadata": {},
     "output_type": "display_data"
    },
    {
     "name": "stdout",
     "output_type": "stream",
     "text": [
      "\n",
      "--------------------------------------------------------------------------------------------------------------------------\n",
      "| Epoch: 19 | Val Loss: 1.13402 \n",
      "| Val Pearson JURKAT: 0.48693 | Val Pearson K562: 0.47413 | Val Pearson THP1: 0.45163 | Mean Val Pearson: 0.47090 |\n",
      "| Train Pearson JURKAT: 0.54539 | Train Pearson K562: 0.53199 | Train Pearson THP1: 0.47933 | Mean Train Pearson: 0.51890 |\n",
      "--------------------------------------------------------------------------------------------------------------------------\n",
      "\n"
     ]
    },
    {
     "data": {
      "application/vnd.jupyter.widget-view+json": {
       "model_id": "",
       "version_major": 2,
       "version_minor": 0
      },
      "text/plain": [
       "Validation: |                                                                                     | 0/? [00:00…"
      ]
     },
     "metadata": {},
     "output_type": "display_data"
    },
    {
     "data": {
      "application/vnd.jupyter.widget-view+json": {
       "model_id": "",
       "version_major": 2,
       "version_minor": 0
      },
      "text/plain": [
       "Validation: |                                                                                     | 0/? [00:00…"
      ]
     },
     "metadata": {},
     "output_type": "display_data"
    },
    {
     "name": "stderr",
     "output_type": "stream",
     "text": [
      "/home/nios/miniconda3/envs/mpramnist/lib/python3.12/site-packages/torchmetrics/utilities/prints.py:43: UserWarning: The variance of predictions or target is close to zero. This can cause instability in Pearson correlationcoefficient, leading to wrong results. Consider re-scaling the input if possible or computing using alarger dtype (currently using torch.float32). Setting the correlation coefficient to nan.\n",
      "  warnings.warn(*args, **kwargs)\n"
     ]
    },
    {
     "data": {
      "application/vnd.jupyter.widget-view+json": {
       "model_id": "",
       "version_major": 2,
       "version_minor": 0
      },
      "text/plain": [
       "Validation: |                                                                                     | 0/? [00:00…"
      ]
     },
     "metadata": {},
     "output_type": "display_data"
    },
    {
     "data": {
      "application/vnd.jupyter.widget-view+json": {
       "model_id": "",
       "version_major": 2,
       "version_minor": 0
      },
      "text/plain": [
       "Validation: |                                                                                     | 0/? [00:00…"
      ]
     },
     "metadata": {},
     "output_type": "display_data"
    },
    {
     "data": {
      "application/vnd.jupyter.widget-view+json": {
       "model_id": "",
       "version_major": 2,
       "version_minor": 0
      },
      "text/plain": [
       "Validation: |                                                                                     | 0/? [00:00…"
      ]
     },
     "metadata": {},
     "output_type": "display_data"
    },
    {
     "data": {
      "application/vnd.jupyter.widget-view+json": {
       "model_id": "",
       "version_major": 2,
       "version_minor": 0
      },
      "text/plain": [
       "Validation: |                                                                                     | 0/? [00:00…"
      ]
     },
     "metadata": {},
     "output_type": "display_data"
    },
    {
     "data": {
      "application/vnd.jupyter.widget-view+json": {
       "model_id": "",
       "version_major": 2,
       "version_minor": 0
      },
      "text/plain": [
       "Validation: |                                                                                     | 0/? [00:00…"
      ]
     },
     "metadata": {},
     "output_type": "display_data"
    },
    {
     "data": {
      "application/vnd.jupyter.widget-view+json": {
       "model_id": "",
       "version_major": 2,
       "version_minor": 0
      },
      "text/plain": [
       "Validation: |                                                                                     | 0/? [00:00…"
      ]
     },
     "metadata": {},
     "output_type": "display_data"
    },
    {
     "data": {
      "application/vnd.jupyter.widget-view+json": {
       "model_id": "",
       "version_major": 2,
       "version_minor": 0
      },
      "text/plain": [
       "Validation: |                                                                                     | 0/? [00:00…"
      ]
     },
     "metadata": {},
     "output_type": "display_data"
    },
    {
     "data": {
      "application/vnd.jupyter.widget-view+json": {
       "model_id": "",
       "version_major": 2,
       "version_minor": 0
      },
      "text/plain": [
       "Validation: |                                                                                     | 0/? [00:00…"
      ]
     },
     "metadata": {},
     "output_type": "display_data"
    },
    {
     "name": "stdout",
     "output_type": "stream",
     "text": [
      "\n",
      "--------------------------------------------------------------------------------------------------------------------------\n",
      "| Epoch: 29 | Val Loss: 10.14548 \n",
      "| Val Pearson JURKAT: 0.42505 | Val Pearson K562: 0.40212 | Val Pearson THP1: 0.36898 | Mean Val Pearson: 0.39872 |\n",
      "| Train Pearson JURKAT: 0.58760 | Train Pearson K562: 0.57496 | Train Pearson THP1: 0.50855 | Mean Train Pearson: 0.55704 |\n",
      "--------------------------------------------------------------------------------------------------------------------------\n",
      "\n"
     ]
    },
    {
     "data": {
      "application/vnd.jupyter.widget-view+json": {
       "model_id": "",
       "version_major": 2,
       "version_minor": 0
      },
      "text/plain": [
       "Validation: |                                                                                     | 0/? [00:00…"
      ]
     },
     "metadata": {},
     "output_type": "display_data"
    },
    {
     "data": {
      "application/vnd.jupyter.widget-view+json": {
       "model_id": "",
       "version_major": 2,
       "version_minor": 0
      },
      "text/plain": [
       "Validation: |                                                                                     | 0/? [00:00…"
      ]
     },
     "metadata": {},
     "output_type": "display_data"
    },
    {
     "data": {
      "application/vnd.jupyter.widget-view+json": {
       "model_id": "",
       "version_major": 2,
       "version_minor": 0
      },
      "text/plain": [
       "Validation: |                                                                                     | 0/? [00:00…"
      ]
     },
     "metadata": {},
     "output_type": "display_data"
    },
    {
     "data": {
      "application/vnd.jupyter.widget-view+json": {
       "model_id": "",
       "version_major": 2,
       "version_minor": 0
      },
      "text/plain": [
       "Validation: |                                                                                     | 0/? [00:00…"
      ]
     },
     "metadata": {},
     "output_type": "display_data"
    },
    {
     "data": {
      "application/vnd.jupyter.widget-view+json": {
       "model_id": "",
       "version_major": 2,
       "version_minor": 0
      },
      "text/plain": [
       "Validation: |                                                                                     | 0/? [00:00…"
      ]
     },
     "metadata": {},
     "output_type": "display_data"
    },
    {
     "data": {
      "application/vnd.jupyter.widget-view+json": {
       "model_id": "",
       "version_major": 2,
       "version_minor": 0
      },
      "text/plain": [
       "Validation: |                                                                                     | 0/? [00:00…"
      ]
     },
     "metadata": {},
     "output_type": "display_data"
    },
    {
     "data": {
      "application/vnd.jupyter.widget-view+json": {
       "model_id": "",
       "version_major": 2,
       "version_minor": 0
      },
      "text/plain": [
       "Validation: |                                                                                     | 0/? [00:00…"
      ]
     },
     "metadata": {},
     "output_type": "display_data"
    },
    {
     "data": {
      "application/vnd.jupyter.widget-view+json": {
       "model_id": "",
       "version_major": 2,
       "version_minor": 0
      },
      "text/plain": [
       "Validation: |                                                                                     | 0/? [00:00…"
      ]
     },
     "metadata": {},
     "output_type": "display_data"
    },
    {
     "data": {
      "application/vnd.jupyter.widget-view+json": {
       "model_id": "",
       "version_major": 2,
       "version_minor": 0
      },
      "text/plain": [
       "Validation: |                                                                                     | 0/? [00:00…"
      ]
     },
     "metadata": {},
     "output_type": "display_data"
    },
    {
     "data": {
      "application/vnd.jupyter.widget-view+json": {
       "model_id": "",
       "version_major": 2,
       "version_minor": 0
      },
      "text/plain": [
       "Validation: |                                                                                     | 0/? [00:00…"
      ]
     },
     "metadata": {},
     "output_type": "display_data"
    },
    {
     "name": "stdout",
     "output_type": "stream",
     "text": [
      "\n",
      "--------------------------------------------------------------------------------------------------------------------------\n",
      "| Epoch: 39 | Val Loss: 0.87365 \n",
      "| Val Pearson JURKAT: 0.58812 | Val Pearson K562: 0.58417 | Val Pearson THP1: 0.55934 | Mean Val Pearson: 0.57721 |\n",
      "| Train Pearson JURKAT: 0.64851 | Train Pearson K562: 0.63697 | Train Pearson THP1: 0.57389 | Mean Train Pearson: 0.61979 |\n",
      "--------------------------------------------------------------------------------------------------------------------------\n",
      "\n"
     ]
    },
    {
     "data": {
      "application/vnd.jupyter.widget-view+json": {
       "model_id": "",
       "version_major": 2,
       "version_minor": 0
      },
      "text/plain": [
       "Validation: |                                                                                     | 0/? [00:00…"
      ]
     },
     "metadata": {},
     "output_type": "display_data"
    },
    {
     "data": {
      "application/vnd.jupyter.widget-view+json": {
       "model_id": "",
       "version_major": 2,
       "version_minor": 0
      },
      "text/plain": [
       "Validation: |                                                                                     | 0/? [00:00…"
      ]
     },
     "metadata": {},
     "output_type": "display_data"
    },
    {
     "data": {
      "application/vnd.jupyter.widget-view+json": {
       "model_id": "",
       "version_major": 2,
       "version_minor": 0
      },
      "text/plain": [
       "Validation: |                                                                                     | 0/? [00:00…"
      ]
     },
     "metadata": {},
     "output_type": "display_data"
    },
    {
     "data": {
      "application/vnd.jupyter.widget-view+json": {
       "model_id": "eae3a99e9b2b496ab35e990ea55caf8f",
       "version_major": 2,
       "version_minor": 0
      },
      "text/plain": [
       "Validation: |                                                                                     | 0/? [00:00…"
      ]
     },
     "metadata": {},
     "output_type": "display_data"
    },
    {
     "data": {
      "application/vnd.jupyter.widget-view+json": {
       "model_id": "3d5f575c4ef346b3a27bfcf4dedd6928",
       "version_major": 2,
       "version_minor": 0
      },
      "text/plain": [
       "Validation: |                                                                                     | 0/? [00:00…"
      ]
     },
     "metadata": {},
     "output_type": "display_data"
    },
    {
     "data": {
      "application/vnd.jupyter.widget-view+json": {
       "model_id": "ded0fef063b544a29f36a948afacf888",
       "version_major": 2,
       "version_minor": 0
      },
      "text/plain": [
       "Validation: |                                                                                     | 0/? [00:00…"
      ]
     },
     "metadata": {},
     "output_type": "display_data"
    },
    {
     "data": {
      "application/vnd.jupyter.widget-view+json": {
       "model_id": "d7b61221943248fdaa533058e6550761",
       "version_major": 2,
       "version_minor": 0
      },
      "text/plain": [
       "Validation: |                                                                                     | 0/? [00:00…"
      ]
     },
     "metadata": {},
     "output_type": "display_data"
    },
    {
     "data": {
      "application/vnd.jupyter.widget-view+json": {
       "model_id": "2f79285a33d148c18fc386cfb18da494",
       "version_major": 2,
       "version_minor": 0
      },
      "text/plain": [
       "Validation: |                                                                                     | 0/? [00:00…"
      ]
     },
     "metadata": {},
     "output_type": "display_data"
    },
    {
     "data": {
      "application/vnd.jupyter.widget-view+json": {
       "model_id": "0ca4cfff8d5e4c67a6f22706ade3a53b",
       "version_major": 2,
       "version_minor": 0
      },
      "text/plain": [
       "Validation: |                                                                                     | 0/? [00:00…"
      ]
     },
     "metadata": {},
     "output_type": "display_data"
    },
    {
     "data": {
      "application/vnd.jupyter.widget-view+json": {
       "model_id": "ee80afa6d7c345158ff34c6ebfb85071",
       "version_major": 2,
       "version_minor": 0
      },
      "text/plain": [
       "Validation: |                                                                                     | 0/? [00:00…"
      ]
     },
     "metadata": {},
     "output_type": "display_data"
    },
    {
     "name": "stderr",
     "output_type": "stream",
     "text": [
      "`Trainer.fit` stopped: `max_epochs=50` reached.\n"
     ]
    },
    {
     "name": "stdout",
     "output_type": "stream",
     "text": [
      "\n",
      "--------------------------------------------------------------------------------------------------------------------------\n",
      "| Epoch: 49 | Val Loss: 0.84865 \n",
      "| Val Pearson JURKAT: 0.58816 | Val Pearson K562: 0.58572 | Val Pearson THP1: 0.55028 | Mean Val Pearson: 0.57472 |\n",
      "| Train Pearson JURKAT: 0.75786 | Train Pearson K562: 0.73696 | Train Pearson THP1: 0.67854 | Mean Train Pearson: 0.72445 |\n",
      "--------------------------------------------------------------------------------------------------------------------------\n",
      "\n"
     ]
    }
   ],
   "source": [
    "# Train the model\n",
    "trainer.fit(seq_model,\n",
    "            train_dataloaders = train_loader,\n",
    "            val_dataloaders = val_loader)"
   ]
  },
  {
   "cell_type": "code",
   "execution_count": 11,
   "id": "b47923c6-e323-4e2e-8c93-f46485343d7a",
   "metadata": {},
   "outputs": [
    {
     "name": "stderr",
     "output_type": "stream",
     "text": [
      "LOCAL_RANK: 0 - CUDA_VISIBLE_DEVICES: [0,1]\n"
     ]
    },
    {
     "data": {
      "application/vnd.jupyter.widget-view+json": {
       "model_id": "6b3695eca76c4a3cabf4122c2d8d0108",
       "version_major": 2,
       "version_minor": 0
      },
      "text/plain": [
       "Testing: |                                                                                        | 0/? [00:00…"
      ]
     },
     "metadata": {},
     "output_type": "display_data"
    },
    {
     "name": "stdout",
     "output_type": "stream",
     "text": [
      "────────────────────────────────────────────────────────────────────────────────────────────────────────────────────────\n",
      "       Test metric             DataLoader 0\n",
      "────────────────────────────────────────────────────────────────────────────────────────────────────────────────────────\n",
      "   test_JURKAT_pearson      0.6311331987380981\n",
      "    test_K562_pearson        0.621086061000824\n",
      "    test_THP1_pearson       0.5259012579917908\n",
      "        test_loss            0.87050861120224\n",
      "────────────────────────────────────────────────────────────────────────────────────────────────────────────────────────\n"
     ]
    },
    {
     "data": {
      "text/plain": [
       "[{'test_loss': 0.87050861120224,\n",
       "  'test_JURKAT_pearson': 0.6311331987380981,\n",
       "  'test_K562_pearson': 0.621086061000824,\n",
       "  'test_THP1_pearson': 0.5259012579917908}]"
      ]
     },
     "execution_count": 11,
     "metadata": {},
     "output_type": "execute_result"
    }
   ],
   "source": [
    "best_model_path = checkpoint_callback.best_model_path\n",
    "seq_model= LitModel_Fluorescence_Reg.load_from_checkpoint(\n",
    "     best_model_path,\n",
    "     model = model, num_outputs = out_channels,\n",
    "     activity_columns = activity_columns,\n",
    "     loss = nn.MSELoss(),\n",
    "     weight_decay = 1e-1, \n",
    "     lr = 1e-2, \n",
    "     print_each = 1)\n",
    "trainer.test(seq_model, dataloaders = test_loader)"
   ]
  },
  {
   "cell_type": "markdown",
   "id": "991e2631-dffe-44a2-ae60-d85afa134e0c",
   "metadata": {},
   "source": [
    "# Classification task"
   ]
  },
  {
   "cell_type": "code",
   "execution_count": 12,
   "id": "8a1d5f5c-9feb-4c0f-9c4c-66c4bc413d7e",
   "metadata": {},
   "outputs": [
    {
     "name": "stdout",
     "output_type": "stream",
     "text": [
      "cuda:0\n"
     ]
    }
   ],
   "source": [
    "BATCH_SIZE = 32\n",
    "NUM_WORKERS = 103\n",
    "\n",
    "train_transform = t.Compose([\n",
    "    t.ReverseComplement(0.5),\n",
    "    t.Seq2Tensor()\n",
    "])\n",
    "val_test_transform = t.Compose([\n",
    "    t.Seq2Tensor()\n",
    "])\n",
    "\n",
    "task = \"classification\"\n",
    "activity_columns = [\"JURKAT\", \"K562\", \"THP1\"]"
   ]
  },
  {
   "cell_type": "code",
   "execution_count": 13,
   "id": "a9791643-699a-419d-a333-ac1f03016bc6",
   "metadata": {},
   "outputs": [],
   "source": [
    "train_dataset = FluorescenceDataset(task = task, activity_columns = activity_columns, split = \"train\",transform = train_transform, root = \"../data/\")\n",
    "\n",
    "val_dataset = FluorescenceDataset(task = task, activity_columns = activity_columns, split = \"val\",transform = val_test_transform, root = \"../data/\") \n",
    "\n",
    "test_dataset = FluorescenceDataset(task = task, activity_columns = activity_columns, split = \"test\", transform = val_test_transform, root = \"../data/\")"
   ]
  },
  {
   "cell_type": "code",
   "execution_count": 14,
   "id": "9811b346-0529-4838-ad92-23e4aa2da159",
   "metadata": {},
   "outputs": [
    {
     "name": "stdout",
     "output_type": "stream",
     "text": [
      "Dataset FluorescenceDataset of size 12335 (MpraDaraset)\n",
      "    Number of datapoints: 12335\n",
      "    Used split fold: train\n",
      "==================================================\n",
      "Dataset FluorescenceDataset of size 1416 (MpraDaraset)\n",
      "    Number of datapoints: 1416\n",
      "    Used split fold: val\n",
      "==================================================\n",
      "Dataset FluorescenceDataset of size 3353 (MpraDaraset)\n",
      "    Number of datapoints: 3353\n",
      "    Used split fold: test\n"
     ]
    }
   ],
   "source": [
    "print(train_dataset)\n",
    "print(\"=\"*50)\n",
    "print(val_dataset)\n",
    "print(\"=\"*50)\n",
    "print(test_dataset)"
   ]
  },
  {
   "cell_type": "code",
   "execution_count": 15,
   "id": "ed2aa5ee-5f2c-45ee-b1d3-92b79f93a26f",
   "metadata": {},
   "outputs": [],
   "source": [
    "# encapsulate data into dataloader form\n",
    "train_loader = data.DataLoader(dataset=train_dataset, batch_size=BATCH_SIZE, shuffle=True, num_workers = NUM_WORKERS)\n",
    "\n",
    "val_loader = data.DataLoader(dataset=val_dataset, batch_size=BATCH_SIZE, shuffle=False, num_workers = NUM_WORKERS)\n",
    "\n",
    "test_loader = data.DataLoader(dataset=test_dataset, batch_size=BATCH_SIZE, shuffle=False, num_workers = NUM_WORKERS)"
   ]
  },
  {
   "cell_type": "code",
   "execution_count": 16,
   "id": "c755917d-9361-45eb-bd71-fb565c324d57",
   "metadata": {},
   "outputs": [],
   "source": [
    "in_channels = len(train_dataset[0][0])\n",
    "out_channels = len(activity_columns)"
   ]
  },
  {
   "cell_type": "code",
   "execution_count": 17,
   "id": "c2e270a5-1f14-4953-82b4-1af0018658b9",
   "metadata": {},
   "outputs": [],
   "source": [
    "model = HumanLegNet(in_ch=in_channels,\n",
    "                     output_dim = out_channels,\n",
    "                     stem_ch=64,\n",
    "                     stem_ks=11,\n",
    "                     ef_ks=9,\n",
    "                     ef_block_sizes=[80, 96, 112, 128],\n",
    "                     pool_sizes=[2,2,2,2],\n",
    "                     resize_factor=4)\n",
    "model.apply(initialize_weights)\n",
    "\n",
    "seq_model = LitModel_Fluorescence_Clas(model = model, n_labels= out_channels,\n",
    "                                       loss = nn.BCEWithLogitsLoss(),\n",
    "                                       weight_decay = 1e-1, lr = 1e-2, print_each = 10)"
   ]
  },
  {
   "cell_type": "code",
   "execution_count": 21,
   "id": "5a769d43-2000-456c-906a-09dd0f029487",
   "metadata": {},
   "outputs": [
    {
     "name": "stderr",
     "output_type": "stream",
     "text": [
      "Using 16bit Automatic Mixed Precision (AMP)\n",
      "GPU available: True (cuda), used: True\n",
      "TPU available: False, using: 0 TPU cores\n",
      "HPU available: False, using: 0 HPUs\n"
     ]
    }
   ],
   "source": [
    "checkpoint_callback = ModelCheckpoint(\n",
    "        monitor='val_loss', \n",
    "        mode='min',  \n",
    "        save_top_k=1,\n",
    "        save_last=False\n",
    "    )\n",
    "# Initialize a trainer\n",
    "trainer = L.Trainer(\n",
    "    accelerator=\"gpu\",\n",
    "    devices=[1],\n",
    "    max_epochs=50,\n",
    "    gradient_clip_val=1,\n",
    "    precision='16-mixed', \n",
    "    enable_progress_bar = True,\n",
    "    num_sanity_val_steps=0,\n",
    "    callbacks=[checkpoint_callback]\n",
    ")"
   ]
  },
  {
   "cell_type": "code",
   "execution_count": 22,
   "id": "87da43d4-9916-482d-b2af-4689ce8bf484",
   "metadata": {},
   "outputs": [
    {
     "name": "stderr",
     "output_type": "stream",
     "text": [
      "LOCAL_RANK: 0 - CUDA_VISIBLE_DEVICES: [0,1]\n",
      "Loading `train_dataloader` to estimate number of stepping batches.\n",
      "\n",
      "   | Name           | Type                       | Params | Mode \n",
      "-----------------------------------------------------------------------\n",
      "0  | model          | HumanLegNet                | 1.3 M  | train\n",
      "1  | loss           | BCEWithLogitsLoss          | 0      | train\n",
      "2  | train_pearson  | PearsonCorrCoef            | 0      | train\n",
      "3  | val_pearson    | PearsonCorrCoef            | 0      | train\n",
      "4  | test_pearson   | PearsonCorrCoef            | 0      | train\n",
      "5  | val_acc        | MultilabelAccuracy         | 0      | train\n",
      "6  | val_auroc      | MultilabelAUROC            | 0      | train\n",
      "7  | val_aupr       | MultilabelAveragePrecision | 0      | train\n",
      "8  | val_precision  | MultilabelPrecision        | 0      | train\n",
      "9  | val_recall     | MultilabelRecall           | 0      | train\n",
      "10 | val_f1         | MultilabelF1Score          | 0      | train\n",
      "11 | test_acc       | MultilabelAccuracy         | 0      | train\n",
      "12 | test_auroc     | MultilabelAUROC            | 0      | train\n",
      "13 | test_aupr      | MultilabelAveragePrecision | 0      | train\n",
      "14 | test_precision | MultilabelPrecision        | 0      | train\n",
      "15 | test_recall    | MultilabelRecall           | 0      | train\n",
      "16 | test_f1        | MultilabelF1Score          | 0      | train\n",
      "-----------------------------------------------------------------------\n",
      "1.3 M     Trainable params\n",
      "0         Non-trainable params\n",
      "1.3 M     Total params\n",
      "5.292     Total estimated model params size (MB)\n",
      "132       Modules in train mode\n",
      "0         Modules in eval mode\n"
     ]
    },
    {
     "data": {
      "application/vnd.jupyter.widget-view+json": {
       "model_id": "ddd7ca32bd254f65a4f203d38e5c357d",
       "version_major": 2,
       "version_minor": 0
      },
      "text/plain": [
       "Training: |                                                                                       | 0/? [00:00…"
      ]
     },
     "metadata": {},
     "output_type": "display_data"
    },
    {
     "data": {
      "application/vnd.jupyter.widget-view+json": {
       "model_id": "",
       "version_major": 2,
       "version_minor": 0
      },
      "text/plain": [
       "Validation: |                                                                                     | 0/? [00:00…"
      ]
     },
     "metadata": {},
     "output_type": "display_data"
    },
    {
     "name": "stderr",
     "output_type": "stream",
     "text": [
      "/home/nios/miniconda3/envs/mpramnist/lib/python3.12/site-packages/torchmetrics/utilities/prints.py:43: UserWarning: No positive samples in targets, true positive value should be meaningless. Returning zero tensor in true positive score\n",
      "  warnings.warn(*args, **kwargs)\n",
      "/home/nios/miniconda3/envs/mpramnist/lib/python3.12/site-packages/torchmetrics/utilities/prints.py:43: UserWarning: No positive samples found in target, recall is undefined. Setting recall to one for all thresholds.\n",
      "  warnings.warn(*args, **kwargs)\n"
     ]
    },
    {
     "name": "stdout",
     "output_type": "stream",
     "text": [
      "\n",
      "----------------------------------------------------------------------------------------------------\n",
      "| Epoch: 0 | Val Acc: 0.665960431098938 | Val AUROC: 0.7337350845336914 | Val AUPR: 0.7297651767730713 |\n",
      "| Val Precision: 0.6795840263366699 | Val Recall: 0.6367421746253967 | Val F1: 0.6574623584747314 \n",
      "----------------------------------------------------------------------------------------------------\n",
      "\n"
     ]
    },
    {
     "data": {
      "application/vnd.jupyter.widget-view+json": {
       "model_id": "",
       "version_major": 2,
       "version_minor": 0
      },
      "text/plain": [
       "Validation: |                                                                                     | 0/? [00:00…"
      ]
     },
     "metadata": {},
     "output_type": "display_data"
    },
    {
     "name": "stdout",
     "output_type": "stream",
     "text": [
      "\n",
      "----------------------------------------------------------------------------------------------------\n",
      "| Epoch: 1 | Val Acc: 0.6784369349479675 | Val AUROC: 0.7403199076652527 | Val AUPR: 0.7438766360282898 |\n",
      "| Val Precision: 0.6901261806488037 | Val Recall: 0.6559365391731262 | Val F1: 0.6725934743881226 \n",
      "----------------------------------------------------------------------------------------------------\n",
      "\n"
     ]
    },
    {
     "data": {
      "application/vnd.jupyter.widget-view+json": {
       "model_id": "",
       "version_major": 2,
       "version_minor": 0
      },
      "text/plain": [
       "Validation: |                                                                                     | 0/? [00:00…"
      ]
     },
     "metadata": {},
     "output_type": "display_data"
    },
    {
     "name": "stdout",
     "output_type": "stream",
     "text": [
      "\n",
      "----------------------------------------------------------------------------------------------------\n",
      "| Epoch: 2 | Val Acc: 0.6690207123756409 | Val AUROC: 0.7352418899536133 | Val AUPR: 0.7350904941558838 |\n",
      "| Val Precision: 0.6742241382598877 | Val Recall: 0.6624132394790649 | Val F1: 0.6681899428367615 \n",
      "----------------------------------------------------------------------------------------------------\n",
      "\n"
     ]
    },
    {
     "data": {
      "application/vnd.jupyter.widget-view+json": {
       "model_id": "",
       "version_major": 2,
       "version_minor": 0
      },
      "text/plain": [
       "Validation: |                                                                                     | 0/? [00:00…"
      ]
     },
     "metadata": {},
     "output_type": "display_data"
    },
    {
     "name": "stdout",
     "output_type": "stream",
     "text": [
      "\n",
      "----------------------------------------------------------------------------------------------------\n",
      "| Epoch: 3 | Val Acc: 0.674435019493103 | Val AUROC: 0.7448171377182007 | Val AUPR: 0.7436777949333191 |\n",
      "| Val Precision: 0.7494480609893799 | Val Recall: 0.5311748385429382 | Val F1: 0.6216597557067871 \n",
      "----------------------------------------------------------------------------------------------------\n",
      "\n"
     ]
    },
    {
     "data": {
      "application/vnd.jupyter.widget-view+json": {
       "model_id": "",
       "version_major": 2,
       "version_minor": 0
      },
      "text/plain": [
       "Validation: |                                                                                     | 0/? [00:00…"
      ]
     },
     "metadata": {},
     "output_type": "display_data"
    },
    {
     "name": "stdout",
     "output_type": "stream",
     "text": [
      "\n",
      "----------------------------------------------------------------------------------------------------\n",
      "| Epoch: 4 | Val Acc: 0.6833804249763489 | Val AUROC: 0.7545506954193115 | Val AUPR: 0.7619724273681641 |\n",
      "| Val Precision: 0.7381232976913452 | Val Recall: 0.5755428075790405 | Val F1: 0.6467258334159851 \n",
      "----------------------------------------------------------------------------------------------------\n",
      "\n"
     ]
    },
    {
     "data": {
      "application/vnd.jupyter.widget-view+json": {
       "model_id": "",
       "version_major": 2,
       "version_minor": 0
      },
      "text/plain": [
       "Validation: |                                                                                     | 0/? [00:00…"
      ]
     },
     "metadata": {},
     "output_type": "display_data"
    },
    {
     "name": "stdout",
     "output_type": "stream",
     "text": [
      "\n",
      "----------------------------------------------------------------------------------------------------\n",
      "| Epoch: 5 | Val Acc: 0.653719425201416 | Val AUROC: 0.7460405826568604 | Val AUPR: 0.7508174777030945 |\n",
      "| Val Precision: 0.7622731924057007 | Val Recall: 0.45564204454421997 | Val F1: 0.5700268745422363 \n",
      "----------------------------------------------------------------------------------------------------\n",
      "\n"
     ]
    },
    {
     "data": {
      "application/vnd.jupyter.widget-view+json": {
       "model_id": "",
       "version_major": 2,
       "version_minor": 0
      },
      "text/plain": [
       "Validation: |                                                                                     | 0/? [00:00…"
      ]
     },
     "metadata": {},
     "output_type": "display_data"
    },
    {
     "name": "stdout",
     "output_type": "stream",
     "text": [
      "\n",
      "----------------------------------------------------------------------------------------------------\n",
      "| Epoch: 6 | Val Acc: 0.6711393594741821 | Val AUROC: 0.7406808137893677 | Val AUPR: 0.7338904142379761 |\n",
      "| Val Precision: 0.7205427885055542 | Val Recall: 0.5666729807853699 | Val F1: 0.6344085335731506 \n",
      "----------------------------------------------------------------------------------------------------\n",
      "\n"
     ]
    },
    {
     "data": {
      "application/vnd.jupyter.widget-view+json": {
       "model_id": "",
       "version_major": 2,
       "version_minor": 0
      },
      "text/plain": [
       "Validation: |                                                                                     | 0/? [00:00…"
      ]
     },
     "metadata": {},
     "output_type": "display_data"
    },
    {
     "name": "stdout",
     "output_type": "stream",
     "text": [
      "\n",
      "----------------------------------------------------------------------------------------------------\n",
      "| Epoch: 7 | Val Acc: 0.6694915294647217 | Val AUROC: 0.7381707429885864 | Val AUPR: 0.7441743612289429 |\n",
      "| Val Precision: 0.64248126745224 | Val Recall: 0.7756158113479614 | Val F1: 0.7027626633644104 \n",
      "----------------------------------------------------------------------------------------------------\n",
      "\n"
     ]
    },
    {
     "data": {
      "application/vnd.jupyter.widget-view+json": {
       "model_id": "",
       "version_major": 2,
       "version_minor": 0
      },
      "text/plain": [
       "Validation: |                                                                                     | 0/? [00:00…"
      ]
     },
     "metadata": {},
     "output_type": "display_data"
    },
    {
     "name": "stdout",
     "output_type": "stream",
     "text": [
      "\n",
      "----------------------------------------------------------------------------------------------------\n",
      "| Epoch: 8 | Val Acc: 0.6782014966011047 | Val AUROC: 0.7529250383377075 | Val AUPR: 0.7618274092674255 |\n",
      "| Val Precision: 0.7132872343063354 | Val Recall: 0.6035605669021606 | Val F1: 0.6538487076759338 \n",
      "----------------------------------------------------------------------------------------------------\n",
      "\n"
     ]
    },
    {
     "data": {
      "application/vnd.jupyter.widget-view+json": {
       "model_id": "",
       "version_major": 2,
       "version_minor": 0
      },
      "text/plain": [
       "Validation: |                                                                                     | 0/? [00:00…"
      ]
     },
     "metadata": {},
     "output_type": "display_data"
    },
    {
     "name": "stdout",
     "output_type": "stream",
     "text": [
      "\n",
      "----------------------------------------------------------------------------------------------------\n",
      "| Epoch: 9 | Val Acc: 0.5044726729393005 | Val AUROC: 0.7419154047966003 | Val AUPR: 0.7289807200431824 |\n",
      "| Val Precision: 0.5041224956512451 | Val Recall: 1.0 | Val F1: 0.6703053116798401 \n",
      "----------------------------------------------------------------------------------------------------\n",
      "\n"
     ]
    },
    {
     "data": {
      "application/vnd.jupyter.widget-view+json": {
       "model_id": "",
       "version_major": 2,
       "version_minor": 0
      },
      "text/plain": [
       "Validation: |                                                                                     | 0/? [00:00…"
      ]
     },
     "metadata": {},
     "output_type": "display_data"
    },
    {
     "name": "stdout",
     "output_type": "stream",
     "text": [
      "\n",
      "----------------------------------------------------------------------------------------------------\n",
      "| Epoch: 10 | Val Acc: 0.6871469020843506 | Val AUROC: 0.7581607103347778 | Val AUPR: 0.7616699934005737 |\n",
      "| Val Precision: 0.6873816251754761 | Val Recall: 0.6966387629508972 | Val F1: 0.6917043924331665 \n",
      "----------------------------------------------------------------------------------------------------\n",
      "\n"
     ]
    },
    {
     "data": {
      "application/vnd.jupyter.widget-view+json": {
       "model_id": "",
       "version_major": 2,
       "version_minor": 0
      },
      "text/plain": [
       "Validation: |                                                                                     | 0/? [00:00…"
      ]
     },
     "metadata": {},
     "output_type": "display_data"
    },
    {
     "name": "stdout",
     "output_type": "stream",
     "text": [
      "\n",
      "----------------------------------------------------------------------------------------------------\n",
      "| Epoch: 11 | Val Acc: 0.5689736604690552 | Val AUROC: 0.7513920664787292 | Val AUPR: 0.7573103904724121 |\n",
      "| Val Precision: 0.8889453411102295 | Val Recall: 0.16488146781921387 | Val F1: 0.27816277742385864 \n",
      "----------------------------------------------------------------------------------------------------\n",
      "\n"
     ]
    },
    {
     "data": {
      "application/vnd.jupyter.widget-view+json": {
       "model_id": "",
       "version_major": 2,
       "version_minor": 0
      },
      "text/plain": [
       "Validation: |                                                                                     | 0/? [00:00…"
      ]
     },
     "metadata": {},
     "output_type": "display_data"
    },
    {
     "name": "stdout",
     "output_type": "stream",
     "text": [
      "\n",
      "----------------------------------------------------------------------------------------------------\n",
      "| Epoch: 12 | Val Acc: 0.6749058365821838 | Val AUROC: 0.7369389533996582 | Val AUPR: 0.7413887977600098 |\n",
      "| Val Precision: 0.6907094717025757 | Val Recall: 0.6434075236320496 | Val F1: 0.6660177111625671 \n",
      "----------------------------------------------------------------------------------------------------\n",
      "\n"
     ]
    },
    {
     "data": {
      "application/vnd.jupyter.widget-view+json": {
       "model_id": "",
       "version_major": 2,
       "version_minor": 0
      },
      "text/plain": [
       "Validation: |                                                                                     | 0/? [00:00…"
      ]
     },
     "metadata": {},
     "output_type": "display_data"
    },
    {
     "name": "stdout",
     "output_type": "stream",
     "text": [
      "\n",
      "----------------------------------------------------------------------------------------------------\n",
      "| Epoch: 13 | Val Acc: 0.645480215549469 | Val AUROC: 0.7500874996185303 | Val AUPR: 0.7538634538650513 |\n",
      "| Val Precision: 0.6079865097999573 | Val Recall: 0.8329770565032959 | Val F1: 0.7029023766517639 \n",
      "----------------------------------------------------------------------------------------------------\n",
      "\n"
     ]
    },
    {
     "data": {
      "application/vnd.jupyter.widget-view+json": {
       "model_id": "",
       "version_major": 2,
       "version_minor": 0
      },
      "text/plain": [
       "Validation: |                                                                                     | 0/? [00:00…"
      ]
     },
     "metadata": {},
     "output_type": "display_data"
    },
    {
     "name": "stdout",
     "output_type": "stream",
     "text": [
      "\n",
      "----------------------------------------------------------------------------------------------------\n",
      "| Epoch: 14 | Val Acc: 0.5918079018592834 | Val AUROC: 0.7471396923065186 | Val AUPR: 0.752501904964447 |\n",
      "| Val Precision: 0.867402195930481 | Val Recall: 0.22373583912849426 | Val F1: 0.355715274810791 \n",
      "----------------------------------------------------------------------------------------------------\n",
      "\n"
     ]
    },
    {
     "data": {
      "application/vnd.jupyter.widget-view+json": {
       "model_id": "",
       "version_major": 2,
       "version_minor": 0
      },
      "text/plain": [
       "Validation: |                                                                                     | 0/? [00:00…"
      ]
     },
     "metadata": {},
     "output_type": "display_data"
    },
    {
     "name": "stdout",
     "output_type": "stream",
     "text": [
      "\n",
      "----------------------------------------------------------------------------------------------------\n",
      "| Epoch: 15 | Val Acc: 0.659839928150177 | Val AUROC: 0.7490609884262085 | Val AUPR: 0.7494039535522461 |\n",
      "| Val Precision: 0.6225234866142273 | Val Recall: 0.8240578174591064 | Val F1: 0.7092486619949341 \n",
      "----------------------------------------------------------------------------------------------------\n",
      "\n"
     ]
    },
    {
     "data": {
      "application/vnd.jupyter.widget-view+json": {
       "model_id": "",
       "version_major": 2,
       "version_minor": 0
      },
      "text/plain": [
       "Validation: |                                                                                     | 0/? [00:00…"
      ]
     },
     "metadata": {},
     "output_type": "display_data"
    },
    {
     "name": "stdout",
     "output_type": "stream",
     "text": [
      "\n",
      "----------------------------------------------------------------------------------------------------\n",
      "| Epoch: 16 | Val Acc: 0.69232577085495 | Val AUROC: 0.7601234912872314 | Val AUPR: 0.7632321119308472 |\n",
      "| Val Precision: 0.697402834892273 | Val Recall: 0.6876454949378967 | Val F1: 0.692441999912262 \n",
      "----------------------------------------------------------------------------------------------------\n",
      "\n"
     ]
    },
    {
     "data": {
      "application/vnd.jupyter.widget-view+json": {
       "model_id": "",
       "version_major": 2,
       "version_minor": 0
      },
      "text/plain": [
       "Validation: |                                                                                     | 0/? [00:00…"
      ]
     },
     "metadata": {},
     "output_type": "display_data"
    },
    {
     "name": "stdout",
     "output_type": "stream",
     "text": [
      "\n",
      "----------------------------------------------------------------------------------------------------\n",
      "| Epoch: 17 | Val Acc: 0.6727871894836426 | Val AUROC: 0.7403486967086792 | Val AUPR: 0.7378331422805786 |\n",
      "| Val Precision: 0.6534149646759033 | Val Recall: 0.7450509071350098 | Val F1: 0.6962137222290039 \n",
      "----------------------------------------------------------------------------------------------------\n",
      "\n"
     ]
    },
    {
     "data": {
      "application/vnd.jupyter.widget-view+json": {
       "model_id": "",
       "version_major": 2,
       "version_minor": 0
      },
      "text/plain": [
       "Validation: |                                                                                     | 0/? [00:00…"
      ]
     },
     "metadata": {},
     "output_type": "display_data"
    },
    {
     "name": "stdout",
     "output_type": "stream",
     "text": [
      "\n",
      "----------------------------------------------------------------------------------------------------\n",
      "| Epoch: 18 | Val Acc: 0.680320143699646 | Val AUROC: 0.7521227598190308 | Val AUPR: 0.7414962649345398 |\n",
      "| Val Precision: 0.6466844081878662 | Val Recall: 0.804446816444397 | Val F1: 0.7169855237007141 \n",
      "----------------------------------------------------------------------------------------------------\n",
      "\n"
     ]
    },
    {
     "data": {
      "application/vnd.jupyter.widget-view+json": {
       "model_id": "",
       "version_major": 2,
       "version_minor": 0
      },
      "text/plain": [
       "Validation: |                                                                                     | 0/? [00:00…"
      ]
     },
     "metadata": {},
     "output_type": "display_data"
    },
    {
     "name": "stdout",
     "output_type": "stream",
     "text": [
      "\n",
      "----------------------------------------------------------------------------------------------------\n",
      "| Epoch: 19 | Val Acc: 0.6779661178588867 | Val AUROC: 0.7572211623191833 | Val AUPR: 0.7545636892318726 |\n",
      "| Val Precision: 0.6493983268737793 | Val Recall: 0.7818793058395386 | Val F1: 0.7093726992607117 \n",
      "----------------------------------------------------------------------------------------------------\n",
      "\n"
     ]
    },
    {
     "data": {
      "application/vnd.jupyter.widget-view+json": {
       "model_id": "",
       "version_major": 2,
       "version_minor": 0
      },
      "text/plain": [
       "Validation: |                                                                                     | 0/? [00:00…"
      ]
     },
     "metadata": {},
     "output_type": "display_data"
    },
    {
     "name": "stdout",
     "output_type": "stream",
     "text": [
      "\n",
      "----------------------------------------------------------------------------------------------------\n",
      "| Epoch: 20 | Val Acc: 0.6739642024040222 | Val AUROC: 0.747739315032959 | Val AUPR: 0.7618526816368103 |\n",
      "| Val Precision: 0.6558970808982849 | Val Recall: 0.7419087886810303 | Val F1: 0.6961894631385803 \n",
      "----------------------------------------------------------------------------------------------------\n",
      "\n"
     ]
    },
    {
     "data": {
      "application/vnd.jupyter.widget-view+json": {
       "model_id": "",
       "version_major": 2,
       "version_minor": 0
      },
      "text/plain": [
       "Validation: |                                                                                     | 0/? [00:00…"
      ]
     },
     "metadata": {},
     "output_type": "display_data"
    },
    {
     "name": "stdout",
     "output_type": "stream",
     "text": [
      "\n",
      "----------------------------------------------------------------------------------------------------\n",
      "| Epoch: 21 | Val Acc: 0.6942090392112732 | Val AUROC: 0.7574558258056641 | Val AUPR: 0.7594461441040039 |\n",
      "| Val Precision: 0.6920212507247925 | Val Recall: 0.7077082395553589 | Val F1: 0.6997467279434204 \n",
      "----------------------------------------------------------------------------------------------------\n",
      "\n"
     ]
    },
    {
     "data": {
      "application/vnd.jupyter.widget-view+json": {
       "model_id": "",
       "version_major": 2,
       "version_minor": 0
      },
      "text/plain": [
       "Validation: |                                                                                     | 0/? [00:00…"
      ]
     },
     "metadata": {},
     "output_type": "display_data"
    },
    {
     "name": "stdout",
     "output_type": "stream",
     "text": [
      "\n",
      "----------------------------------------------------------------------------------------------------\n",
      "| Epoch: 22 | Val Acc: 0.5939265489578247 | Val AUROC: 0.7569445371627808 | Val AUPR: 0.7525756359100342 |\n",
      "| Val Precision: 0.5567561984062195 | Val Recall: 0.9518665075302124 | Val F1: 0.7025313377380371 \n",
      "----------------------------------------------------------------------------------------------------\n",
      "\n"
     ]
    },
    {
     "data": {
      "application/vnd.jupyter.widget-view+json": {
       "model_id": "",
       "version_major": 2,
       "version_minor": 0
      },
      "text/plain": [
       "Validation: |                                                                                     | 0/? [00:00…"
      ]
     },
     "metadata": {},
     "output_type": "display_data"
    },
    {
     "name": "stdout",
     "output_type": "stream",
     "text": [
      "\n",
      "----------------------------------------------------------------------------------------------------\n",
      "| Epoch: 23 | Val Acc: 0.5188323855400085 | Val AUROC: 0.7393469214439392 | Val AUPR: 0.72347092628479 |\n",
      "| Val Precision: 0.5115163922309875 | Val Recall: 0.9957735538482666 | Val F1: 0.6758422255516052 \n",
      "----------------------------------------------------------------------------------------------------\n",
      "\n"
     ]
    },
    {
     "data": {
      "application/vnd.jupyter.widget-view+json": {
       "model_id": "c436aad51c264990af5ac95971041290",
       "version_major": 2,
       "version_minor": 0
      },
      "text/plain": [
       "Validation: |                                                                                     | 0/? [00:00…"
      ]
     },
     "metadata": {},
     "output_type": "display_data"
    },
    {
     "name": "stdout",
     "output_type": "stream",
     "text": [
      "\n",
      "----------------------------------------------------------------------------------------------------\n",
      "| Epoch: 24 | Val Acc: 0.6751412153244019 | Val AUROC: 0.7435092329978943 | Val AUPR: 0.7477817535400391 |\n",
      "| Val Precision: 0.6561341881752014 | Val Recall: 0.7449935674667358 | Val F1: 0.6976543664932251 \n",
      "----------------------------------------------------------------------------------------------------\n",
      "\n"
     ]
    },
    {
     "data": {
      "application/vnd.jupyter.widget-view+json": {
       "model_id": "59210d1de48c4bb18b2ed316280e268b",
       "version_major": 2,
       "version_minor": 0
      },
      "text/plain": [
       "Validation: |                                                                                     | 0/? [00:00…"
      ]
     },
     "metadata": {},
     "output_type": "display_data"
    },
    {
     "name": "stdout",
     "output_type": "stream",
     "text": [
      "\n",
      "----------------------------------------------------------------------------------------------------\n",
      "| Epoch: 25 | Val Acc: 0.5282486081123352 | Val AUROC: 0.7447482943534851 | Val AUPR: 0.7547674179077148 |\n",
      "| Val Precision: 0.5165637731552124 | Val Recall: 0.9916083216667175 | Val F1: 0.6792482733726501 \n",
      "----------------------------------------------------------------------------------------------------\n",
      "\n"
     ]
    },
    {
     "data": {
      "application/vnd.jupyter.widget-view+json": {
       "model_id": "7a6d8d771985493d9fced8bd59bef054",
       "version_major": 2,
       "version_minor": 0
      },
      "text/plain": [
       "Validation: |                                                                                     | 0/? [00:00…"
      ]
     },
     "metadata": {},
     "output_type": "display_data"
    },
    {
     "name": "stdout",
     "output_type": "stream",
     "text": [
      "\n",
      "----------------------------------------------------------------------------------------------------\n",
      "| Epoch: 26 | Val Acc: 0.6231167316436768 | Val AUROC: 0.7427443265914917 | Val AUPR: 0.7367176413536072 |\n",
      "| Val Precision: 0.5807866454124451 | Val Recall: 0.9045400619506836 | Val F1: 0.7073776721954346 \n",
      "----------------------------------------------------------------------------------------------------\n",
      "\n"
     ]
    },
    {
     "data": {
      "application/vnd.jupyter.widget-view+json": {
       "model_id": "a4ab322248a1488ebe86d18d9bbb09a5",
       "version_major": 2,
       "version_minor": 0
      },
      "text/plain": [
       "Validation: |                                                                                     | 0/? [00:00…"
      ]
     },
     "metadata": {},
     "output_type": "display_data"
    },
    {
     "name": "stdout",
     "output_type": "stream",
     "text": [
      "\n",
      "----------------------------------------------------------------------------------------------------\n",
      "| Epoch: 27 | Val Acc: 0.6880885362625122 | Val AUROC: 0.7541429400444031 | Val AUPR: 0.7540507316589355 |\n",
      "| Val Precision: 0.7114740014076233 | Val Recall: 0.6403902769088745 | Val F1: 0.6740315556526184 \n",
      "----------------------------------------------------------------------------------------------------\n",
      "\n"
     ]
    },
    {
     "data": {
      "application/vnd.jupyter.widget-view+json": {
       "model_id": "378299f6172f4be4835f73ab03d8e766",
       "version_major": 2,
       "version_minor": 0
      },
      "text/plain": [
       "Validation: |                                                                                     | 0/? [00:00…"
      ]
     },
     "metadata": {},
     "output_type": "display_data"
    },
    {
     "name": "stdout",
     "output_type": "stream",
     "text": [
      "\n",
      "----------------------------------------------------------------------------------------------------\n",
      "| Epoch: 28 | Val Acc: 0.6184086799621582 | Val AUROC: 0.7243912220001221 | Val AUPR: 0.7309495806694031 |\n",
      "| Val Precision: 0.8011066317558289 | Val Recall: 0.322833389043808 | Val F1: 0.4601479768753052 \n",
      "----------------------------------------------------------------------------------------------------\n",
      "\n"
     ]
    },
    {
     "data": {
      "application/vnd.jupyter.widget-view+json": {
       "model_id": "6e6b7558063042f4998caffe03ed1d40",
       "version_major": 2,
       "version_minor": 0
      },
      "text/plain": [
       "Validation: |                                                                                     | 0/? [00:00…"
      ]
     },
     "metadata": {},
     "output_type": "display_data"
    },
    {
     "name": "stdout",
     "output_type": "stream",
     "text": [
      "\n",
      "----------------------------------------------------------------------------------------------------\n",
      "| Epoch: 29 | Val Acc: 0.6466572284698486 | Val AUROC: 0.7396059036254883 | Val AUPR: 0.7393510341644287 |\n",
      "| Val Precision: 0.765068769454956 | Val Recall: 0.43069443106651306 | Val F1: 0.5510884523391724 \n",
      "----------------------------------------------------------------------------------------------------\n",
      "\n"
     ]
    },
    {
     "data": {
      "application/vnd.jupyter.widget-view+json": {
       "model_id": "48833e31af0346b09c5885dfcbf37d3e",
       "version_major": 2,
       "version_minor": 0
      },
      "text/plain": [
       "Validation: |                                                                                     | 0/? [00:00…"
      ]
     },
     "metadata": {},
     "output_type": "display_data"
    },
    {
     "name": "stdout",
     "output_type": "stream",
     "text": [
      "\n",
      "----------------------------------------------------------------------------------------------------\n",
      "| Epoch: 30 | Val Acc: 0.5303672552108765 | Val AUROC: 0.7452709674835205 | Val AUPR: 0.7466212511062622 |\n",
      "| Val Precision: 0.5176723599433899 | Val Recall: 0.9920303821563721 | Val F1: 0.6803151965141296 \n",
      "----------------------------------------------------------------------------------------------------\n",
      "\n"
     ]
    },
    {
     "data": {
      "application/vnd.jupyter.widget-view+json": {
       "model_id": "e7bed28ba71b47fda47cecf9b7025a1e",
       "version_major": 2,
       "version_minor": 0
      },
      "text/plain": [
       "Validation: |                                                                                     | 0/? [00:00…"
      ]
     },
     "metadata": {},
     "output_type": "display_data"
    },
    {
     "name": "stdout",
     "output_type": "stream",
     "text": [
      "\n",
      "----------------------------------------------------------------------------------------------------\n",
      "| Epoch: 31 | Val Acc: 0.5315442681312561 | Val AUROC: 0.7562689781188965 | Val AUPR: 0.7506991624832153 |\n",
      "| Val Precision: 0.5183383226394653 | Val Recall: 0.9901548624038696 | Val F1: 0.6804501414299011 \n",
      "----------------------------------------------------------------------------------------------------\n",
      "\n"
     ]
    },
    {
     "data": {
      "application/vnd.jupyter.widget-view+json": {
       "model_id": "2e9b56d4f7a847d88f65ab56412ad987",
       "version_major": 2,
       "version_minor": 0
      },
      "text/plain": [
       "Validation: |                                                                                     | 0/? [00:00…"
      ]
     },
     "metadata": {},
     "output_type": "display_data"
    },
    {
     "name": "stdout",
     "output_type": "stream",
     "text": [
      "\n",
      "----------------------------------------------------------------------------------------------------\n",
      "| Epoch: 32 | Val Acc: 0.5324859023094177 | Val AUROC: 0.7009374499320984 | Val AUPR: 0.7076277732849121 |\n",
      "| Val Precision: 0.8441173434257507 | Val Recall: 0.0882750079035759 | Val F1: 0.15982241928577423 \n",
      "----------------------------------------------------------------------------------------------------\n",
      "\n"
     ]
    },
    {
     "data": {
      "application/vnd.jupyter.widget-view+json": {
       "model_id": "c5812deef18c468d93ec4fd6abe5187b",
       "version_major": 2,
       "version_minor": 0
      },
      "text/plain": [
       "Validation: |                                                                                     | 0/? [00:00…"
      ]
     },
     "metadata": {},
     "output_type": "display_data"
    },
    {
     "name": "stdout",
     "output_type": "stream",
     "text": [
      "\n",
      "----------------------------------------------------------------------------------------------------\n",
      "| Epoch: 33 | Val Acc: 0.5932203531265259 | Val AUROC: 0.7642253637313843 | Val AUPR: 0.76573246717453 |\n",
      "| Val Precision: 0.5566464066505432 | Val Recall: 0.9452487230300903 | Val F1: 0.7006707787513733 \n",
      "----------------------------------------------------------------------------------------------------\n",
      "\n"
     ]
    },
    {
     "data": {
      "application/vnd.jupyter.widget-view+json": {
       "model_id": "a25105ed5a4e4e6aa36385f418ee3b6b",
       "version_major": 2,
       "version_minor": 0
      },
      "text/plain": [
       "Validation: |                                                                                     | 0/? [00:00…"
      ]
     },
     "metadata": {},
     "output_type": "display_data"
    },
    {
     "name": "stdout",
     "output_type": "stream",
     "text": [
      "\n",
      "----------------------------------------------------------------------------------------------------\n",
      "| Epoch: 34 | Val Acc: 0.5037664771080017 | Val AUROC: 0.722267746925354 | Val AUPR: 0.7089702486991882 |\n",
      "| Val Precision: 0.5037664771080017 | Val Recall: 1.0 | Val F1: 0.6699905395507812 \n",
      "----------------------------------------------------------------------------------------------------\n",
      "\n"
     ]
    },
    {
     "data": {
      "application/vnd.jupyter.widget-view+json": {
       "model_id": "81e20949b0c74b6695db21c56352eb0f",
       "version_major": 2,
       "version_minor": 0
      },
      "text/plain": [
       "Validation: |                                                                                     | 0/? [00:00…"
      ]
     },
     "metadata": {},
     "output_type": "display_data"
    },
    {
     "name": "stdout",
     "output_type": "stream",
     "text": [
      "\n",
      "----------------------------------------------------------------------------------------------------\n",
      "| Epoch: 35 | Val Acc: 0.5715630650520325 | Val AUROC: 0.7613124847412109 | Val AUPR: 0.7686197757720947 |\n",
      "| Val Precision: 0.5414700508117676 | Val Recall: 0.9761861562728882 | Val F1: 0.6965530514717102 \n",
      "----------------------------------------------------------------------------------------------------\n",
      "\n"
     ]
    },
    {
     "data": {
      "application/vnd.jupyter.widget-view+json": {
       "model_id": "ac34b044850a41b6a8ab0e3ce53cc3f9",
       "version_major": 2,
       "version_minor": 0
      },
      "text/plain": [
       "Validation: |                                                                                     | 0/? [00:00…"
      ]
     },
     "metadata": {},
     "output_type": "display_data"
    },
    {
     "name": "stdout",
     "output_type": "stream",
     "text": [
      "\n",
      "----------------------------------------------------------------------------------------------------\n",
      "| Epoch: 36 | Val Acc: 0.6122881174087524 | Val AUROC: 0.7717822790145874 | Val AUPR: 0.7759125232696533 |\n",
      "| Val Precision: 0.8617154359817505 | Val Recall: 0.2741761803627014 | Val F1: 0.4159924387931824 \n",
      "----------------------------------------------------------------------------------------------------\n",
      "\n"
     ]
    },
    {
     "data": {
      "application/vnd.jupyter.widget-view+json": {
       "model_id": "6d7170ebf8d1496eb52da3fa4e3e4262",
       "version_major": 2,
       "version_minor": 0
      },
      "text/plain": [
       "Validation: |                                                                                     | 0/? [00:00…"
      ]
     },
     "metadata": {},
     "output_type": "display_data"
    },
    {
     "name": "stdout",
     "output_type": "stream",
     "text": [
      "\n",
      "----------------------------------------------------------------------------------------------------\n",
      "| Epoch: 37 | Val Acc: 0.7000941634178162 | Val AUROC: 0.7688369154930115 | Val AUPR: 0.7672588229179382 |\n",
      "| Val Precision: 0.6922479867935181 | Val Recall: 0.727759838104248 | Val F1: 0.7095541954040527 \n",
      "----------------------------------------------------------------------------------------------------\n",
      "\n"
     ]
    },
    {
     "data": {
      "application/vnd.jupyter.widget-view+json": {
       "model_id": "35b3ab29026942e781e79fbf9cdfe504",
       "version_major": 2,
       "version_minor": 0
      },
      "text/plain": [
       "Validation: |                                                                                     | 0/? [00:00…"
      ]
     },
     "metadata": {},
     "output_type": "display_data"
    },
    {
     "name": "stdout",
     "output_type": "stream",
     "text": [
      "\n",
      "----------------------------------------------------------------------------------------------------\n",
      "| Epoch: 38 | Val Acc: 0.6629002094268799 | Val AUROC: 0.7651060819625854 | Val AUPR: 0.7651424407958984 |\n",
      "| Val Precision: 0.7822374105453491 | Val Recall: 0.4576723277568817 | Val F1: 0.5774675607681274 \n",
      "----------------------------------------------------------------------------------------------------\n",
      "\n"
     ]
    },
    {
     "data": {
      "application/vnd.jupyter.widget-view+json": {
       "model_id": "92b575a1cc3e4c65b80c3ecae5d34f9b",
       "version_major": 2,
       "version_minor": 0
      },
      "text/plain": [
       "Validation: |                                                                                     | 0/? [00:00…"
      ]
     },
     "metadata": {},
     "output_type": "display_data"
    },
    {
     "name": "stdout",
     "output_type": "stream",
     "text": [
      "\n",
      "----------------------------------------------------------------------------------------------------\n",
      "| Epoch: 39 | Val Acc: 0.5075329542160034 | Val AUROC: 0.7583427429199219 | Val AUPR: 0.7581804990768433 |\n",
      "| Val Precision: 0.5056772828102112 | Val Recall: 0.9985874891281128 | Val F1: 0.6713603138923645 \n",
      "----------------------------------------------------------------------------------------------------\n",
      "\n"
     ]
    },
    {
     "data": {
      "application/vnd.jupyter.widget-view+json": {
       "model_id": "8d75e7e08b924027a903e986ffc6f6b3",
       "version_major": 2,
       "version_minor": 0
      },
      "text/plain": [
       "Validation: |                                                                                     | 0/? [00:00…"
      ]
     },
     "metadata": {},
     "output_type": "display_data"
    },
    {
     "name": "stdout",
     "output_type": "stream",
     "text": [
      "\n",
      "----------------------------------------------------------------------------------------------------\n",
      "| Epoch: 40 | Val Acc: 0.6290018558502197 | Val AUROC: 0.7633360624313354 | Val AUPR: 0.7647920846939087 |\n",
      "| Val Precision: 0.8335695266723633 | Val Recall: 0.32880082726478577 | Val F1: 0.4715808629989624 \n",
      "----------------------------------------------------------------------------------------------------\n",
      "\n"
     ]
    },
    {
     "data": {
      "application/vnd.jupyter.widget-view+json": {
       "model_id": "371e7b530f50425fb223d649a457e2ed",
       "version_major": 2,
       "version_minor": 0
      },
      "text/plain": [
       "Validation: |                                                                                     | 0/? [00:00…"
      ]
     },
     "metadata": {},
     "output_type": "display_data"
    },
    {
     "name": "stdout",
     "output_type": "stream",
     "text": [
      "\n",
      "----------------------------------------------------------------------------------------------------\n",
      "| Epoch: 41 | Val Acc: 0.6767891049385071 | Val AUROC: 0.7808599472045898 | Val AUPR: 0.7754389643669128 |\n",
      "| Val Precision: 0.628584623336792 | Val Recall: 0.8749486207962036 | Val F1: 0.7315704822540283 \n",
      "----------------------------------------------------------------------------------------------------\n",
      "\n"
     ]
    },
    {
     "data": {
      "application/vnd.jupyter.widget-view+json": {
       "model_id": "93caed053f9e4eff9f7af1f98f163b9e",
       "version_major": 2,
       "version_minor": 0
      },
      "text/plain": [
       "Validation: |                                                                                     | 0/? [00:00…"
      ]
     },
     "metadata": {},
     "output_type": "display_data"
    },
    {
     "name": "stdout",
     "output_type": "stream",
     "text": [
      "\n",
      "----------------------------------------------------------------------------------------------------\n",
      "| Epoch: 42 | Val Acc: 0.6709039807319641 | Val AUROC: 0.7804330587387085 | Val AUPR: 0.7867185473442078 |\n",
      "| Val Precision: 0.6239998936653137 | Val Recall: 0.8717232346534729 | Val F1: 0.7273377776145935 \n",
      "----------------------------------------------------------------------------------------------------\n",
      "\n"
     ]
    },
    {
     "data": {
      "application/vnd.jupyter.widget-view+json": {
       "model_id": "22b2e8eaef8147d9bd433d8059675975",
       "version_major": 2,
       "version_minor": 0
      },
      "text/plain": [
       "Validation: |                                                                                     | 0/? [00:00…"
      ]
     },
     "metadata": {},
     "output_type": "display_data"
    },
    {
     "name": "stdout",
     "output_type": "stream",
     "text": [
      "\n",
      "----------------------------------------------------------------------------------------------------\n",
      "| Epoch: 43 | Val Acc: 0.6784369349479675 | Val AUROC: 0.7778629064559937 | Val AUPR: 0.78415846824646 |\n",
      "| Val Precision: 0.633851945400238 | Val Recall: 0.8558815717697144 | Val F1: 0.7283118963241577 \n",
      "----------------------------------------------------------------------------------------------------\n",
      "\n"
     ]
    },
    {
     "data": {
      "application/vnd.jupyter.widget-view+json": {
       "model_id": "4b69fca7180d4a8cb5f7f881e9c89ace",
       "version_major": 2,
       "version_minor": 0
      },
      "text/plain": [
       "Validation: |                                                                                     | 0/? [00:00…"
      ]
     },
     "metadata": {},
     "output_type": "display_data"
    },
    {
     "name": "stdout",
     "output_type": "stream",
     "text": [
      "\n",
      "----------------------------------------------------------------------------------------------------\n",
      "| Epoch: 44 | Val Acc: 0.6612523794174194 | Val AUROC: 0.7672204971313477 | Val AUPR: 0.7745158076286316 |\n",
      "| Val Precision: 0.6149621605873108 | Val Recall: 0.8754656910896301 | Val F1: 0.7224394679069519 \n",
      "----------------------------------------------------------------------------------------------------\n",
      "\n"
     ]
    },
    {
     "data": {
      "application/vnd.jupyter.widget-view+json": {
       "model_id": "5bea2476dfdb428ca509fbad9108050a",
       "version_major": 2,
       "version_minor": 0
      },
      "text/plain": [
       "Validation: |                                                                                     | 0/? [00:00…"
      ]
     },
     "metadata": {},
     "output_type": "display_data"
    },
    {
     "name": "stdout",
     "output_type": "stream",
     "text": [
      "\n",
      "----------------------------------------------------------------------------------------------------\n",
      "| Epoch: 45 | Val Acc: 0.6989171504974365 | Val AUROC: 0.7707244157791138 | Val AUPR: 0.7780258655548096 |\n",
      "| Val Precision: 0.6791894435882568 | Val Recall: 0.7618738412857056 | Val F1: 0.7181516289710999 \n",
      "----------------------------------------------------------------------------------------------------\n",
      "\n"
     ]
    },
    {
     "data": {
      "application/vnd.jupyter.widget-view+json": {
       "model_id": "f9f1476f11434ceaadb1ccf352ae0878",
       "version_major": 2,
       "version_minor": 0
      },
      "text/plain": [
       "Validation: |                                                                                     | 0/? [00:00…"
      ]
     },
     "metadata": {},
     "output_type": "display_data"
    },
    {
     "name": "stdout",
     "output_type": "stream",
     "text": [
      "\n",
      "----------------------------------------------------------------------------------------------------\n",
      "| Epoch: 46 | Val Acc: 0.700800359249115 | Val AUROC: 0.7677366137504578 | Val AUPR: 0.7734811305999756 |\n",
      "| Val Precision: 0.6950666904449463 | Val Recall: 0.7231026887893677 | Val F1: 0.708793580532074 \n",
      "----------------------------------------------------------------------------------------------------\n",
      "\n"
     ]
    },
    {
     "data": {
      "application/vnd.jupyter.widget-view+json": {
       "model_id": "ced8357475624e65842488d3d5db1587",
       "version_major": 2,
       "version_minor": 0
      },
      "text/plain": [
       "Validation: |                                                                                     | 0/? [00:00…"
      ]
     },
     "metadata": {},
     "output_type": "display_data"
    },
    {
     "name": "stdout",
     "output_type": "stream",
     "text": [
      "\n",
      "----------------------------------------------------------------------------------------------------\n",
      "| Epoch: 47 | Val Acc: 0.7003295421600342 | Val AUROC: 0.7653934955596924 | Val AUPR: 0.7701519727706909 |\n",
      "| Val Precision: 0.7110587954521179 | Val Recall: 0.6820207834243774 | Val F1: 0.6962292194366455 \n",
      "----------------------------------------------------------------------------------------------------\n",
      "\n"
     ]
    },
    {
     "data": {
      "application/vnd.jupyter.widget-view+json": {
       "model_id": "76097d454298420eb3e3eb1f86b7f1f8",
       "version_major": 2,
       "version_minor": 0
      },
      "text/plain": [
       "Validation: |                                                                                     | 0/? [00:00…"
      ]
     },
     "metadata": {},
     "output_type": "display_data"
    },
    {
     "name": "stdout",
     "output_type": "stream",
     "text": [
      "\n",
      "----------------------------------------------------------------------------------------------------\n",
      "| Epoch: 48 | Val Acc: 0.700800359249115 | Val AUROC: 0.7651578187942505 | Val AUPR: 0.7713464498519897 |\n",
      "| Val Precision: 0.7000548243522644 | Val Recall: 0.7100096940994263 | Val F1: 0.7049869894981384 \n",
      "----------------------------------------------------------------------------------------------------\n",
      "\n"
     ]
    },
    {
     "data": {
      "application/vnd.jupyter.widget-view+json": {
       "model_id": "ba95fba1a4b641498f20824c2a2b253a",
       "version_major": 2,
       "version_minor": 0
      },
      "text/plain": [
       "Validation: |                                                                                     | 0/? [00:00…"
      ]
     },
     "metadata": {},
     "output_type": "display_data"
    },
    {
     "name": "stderr",
     "output_type": "stream",
     "text": [
      "`Trainer.fit` stopped: `max_epochs=50` reached.\n"
     ]
    },
    {
     "name": "stdout",
     "output_type": "stream",
     "text": [
      "\n",
      "----------------------------------------------------------------------------------------------------\n",
      "| Epoch: 49 | Val Acc: 0.6989171504974365 | Val AUROC: 0.7668943405151367 | Val AUPR: 0.7721218466758728 |\n",
      "| Val Precision: 0.6984160542488098 | Val Recall: 0.7076692581176758 | Val F1: 0.7030003666877747 \n",
      "----------------------------------------------------------------------------------------------------\n",
      "\n"
     ]
    }
   ],
   "source": [
    "# Train the model\n",
    "trainer.fit(seq_model,\n",
    "            train_dataloaders = train_loader,\n",
    "            val_dataloaders = val_loader)"
   ]
  },
  {
   "cell_type": "code",
   "execution_count": 23,
   "id": "58a4b955-166f-4218-ab25-23431da89677",
   "metadata": {},
   "outputs": [
    {
     "name": "stderr",
     "output_type": "stream",
     "text": [
      "LOCAL_RANK: 0 - CUDA_VISIBLE_DEVICES: [0,1]\n"
     ]
    },
    {
     "data": {
      "application/vnd.jupyter.widget-view+json": {
       "model_id": "2003c1c6b8b74049b77fe393704cf70d",
       "version_major": 2,
       "version_minor": 0
      },
      "text/plain": [
       "Testing: |                                                                                        | 0/? [00:00…"
      ]
     },
     "metadata": {},
     "output_type": "display_data"
    },
    {
     "name": "stdout",
     "output_type": "stream",
     "text": [
      "\n",
      "----------------------------------------------------------------------------------------------------\n",
      "| Test Acc: 0.7066308856010437 | Test AUROC: 0.7789835929870605 | Test AUPR: 0.783500075340271 |\n",
      "| Test Precision: 0.6931052207946777 | Test Recall: 0.7420824766159058 | Test F1: 0.7167516350746155 \n",
      "----------------------------------------------------------------------------------------------------\n",
      "\n"
     ]
    },
    {
     "data": {
      "image/png": "[encoded data removed]",
      "text/plain": [
       "<Figure size 1200x400 with 2 Axes>"
      ]
     },
     "metadata": {},
     "output_type": "display_data"
    },
    {
     "name": "stdout",
     "output_type": "stream",
     "text": [
      "────────────────────────────────────────────────────────────────────────────────────────────────────────────────────────\n",
      "       Test metric             DataLoader 0\n",
      "────────────────────────────────────────────────────────────────────────────────────────────────────────────────────────\n",
      "        test_loss           0.5666174292564392\n",
      "────────────────────────────────────────────────────────────────────────────────────────────────────────────────────────\n"
     ]
    },
    {
     "data": {
      "text/plain": [
       "[{'test_loss': 0.5666174292564392}]"
      ]
     },
     "execution_count": 23,
     "metadata": {},
     "output_type": "execute_result"
    }
   ],
   "source": [
    "best_model_path = checkpoint_callback.best_model_path\n",
    "seq_model= LitModel_Fluorescence_Clas.load_from_checkpoint(\n",
    "    best_model_path,\n",
    "    model = model, n_labels = out_channels,\n",
    "    loss = nn.BCEWithLogitsLoss(),\n",
    "    weight_decay = 1e-1, \n",
    "    lr = 1e-2, \n",
    "    print_each = 1)\n",
    "     \n",
    "trainer.test(seq_model, dataloaders = test_loader)"
   ]
  },
  {
   "cell_type": "code",
   "execution_count": null,
   "id": "e0eaaca6-15ef-4cbf-b4df-b806e6db0216",
   "metadata": {},
   "outputs": [],
   "source": []
  }
 ],
 "metadata": {
  "kernelspec": {
   "display_name": "Python [conda env:mpramnist]",
   "language": "python",
   "name": "conda-env-mpramnist-py"
  },
  "language_info": {
   "codemirror_mode": {
    "name": "ipython",
    "version": 3
   },
   "file_extension": ".py",
   "mimetype": "text/x-python",
   "name": "python",
   "nbconvert_exporter": "python",
   "pygments_lexer": "ipython3",
   "version": "3.12.7"
  }
 },
 "nbformat": 4,
 "nbformat_minor": 5
}
