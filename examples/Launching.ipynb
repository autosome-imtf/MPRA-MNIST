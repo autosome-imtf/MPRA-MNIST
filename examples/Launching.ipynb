{
 "cells": [
  {
   "cell_type": "code",
   "execution_count": 2,
   "id": "9fb0d1a6-42fc-4ea9-80b8-ea6807d858a1",
   "metadata": {},
   "outputs": [],
   "source": [
    "import mpramnist\n",
    "from mpramnist.malinoisdataset import MalinoisDataset\n",
    "from mpramnist.vikramdataset import VikramDataset\n",
    "from mpramnist import transforms as t\n",
    "from mpramnist import target_transforms as t_t\n",
    "import pandas as pd"
   ]
  },
  {
   "cell_type": "code",
   "execution_count": 7,
   "id": "ee4f2d5a-b941-4bb7-943c-70505a015f31",
   "metadata": {},
   "outputs": [
    {
     "data": {
      "text/plain": [
       "'0.1.1'"
      ]
     },
     "execution_count": 7,
     "metadata": {},
     "output_type": "execute_result"
    }
   ],
   "source": [
    "mpramnist.__version__"
   ]
  },
  {
   "cell_type": "code",
   "execution_count": 2,
   "id": "639f6cbe-e6e9-4427-91fc-22bf1e46cd9e",
   "metadata": {
    "editable": true,
    "slideshow": {
     "slide_type": ""
    },
    "tags": []
   },
   "outputs": [
    {
     "name": "stdout",
     "output_type": "stream",
     "text": [
      "('ATCCATAAATGGACCAATCCACTCTCTGTAAAATGGACCAATCAGCAGGATGTGGGTGGGGCCAGATAAGAGAATAAAAGCAGGCTGCCCGAGGCAGTAGTGGCAACCGGCTGGAGTTCCGTTTTGCGATGTGGTTTCGTTCTTCTTTCGCTCTTTGTAATAAATCTTGCTACTGCTCACTGTTTGGGTCTACACTGCCTTTATGTCAT', array([4.1066236, 2.8697493], dtype=float32))\n"
     ]
    }
   ],
   "source": [
    "ds = MalinoisDataset(split = [ 3, 4, 5, 6, 8, 9, 10, 11, 12, 14, 15, 16, 17, 18, 20, 22, \"Y\"], \n",
    "                     activity_columns=['HepG2','SKNSH'],\n",
    "                     #duplication_cutoff=2.0,\n",
    "                     transform = t.Compose([t.AddFlanks(\"ATGA\",\"ATGGAT\"),\n",
    "                                          #t.RightCrop(10,12),\n",
    "                                          #t.AddFlanks(\"CCCCCCCCCC\",\"TTTTTTTTTT\"),\n",
    "                                          #t.RandomCrop(8),\n",
    "                                          t.AddReverseChannel(),\n",
    "                                          t.Reverse(0.5),\n",
    "                                          #t.Seq2Tensor(),\n",
    "                                          #t.AddFeatureChannels([\"vector1\",\"scalar1\"])\n",
    "                                         ]))\n",
    "\n",
    "print(ds[0])\n"
   ]
  },
  {
   "cell_type": "code",
   "execution_count": 2,
   "id": "56045380-345e-4a8f-804b-70d0c53f8f77",
   "metadata": {
    "editable": true,
    "slideshow": {
     "slide_type": ""
    },
    "tags": []
   },
   "outputs": [
    {
     "data": {
      "text/plain": [
       "array([4.1066236, 2.8697493], dtype=float32)"
      ]
     },
     "execution_count": 2,
     "metadata": {},
     "output_type": "execute_result"
    }
   ],
   "source": [
    "a = ds[0][1]\n",
    "a"
   ]
  },
  {
   "cell_type": "code",
   "execution_count": 5,
   "id": "d6f0da7e-4889-49c3-92fc-9f10fb0090e5",
   "metadata": {
    "editable": true,
    "slideshow": {
     "slide_type": ""
    },
    "tags": []
   },
   "outputs": [
    {
     "name": "stdout",
     "output_type": "stream",
     "text": [
      "Dataset MalinoisDataset of size 499881 (MpraDaraset)\n",
      "    Number of datapoints: 499881\n",
      "    Default split folds: {'train': '1, 2, 3, 4, 5, 6, 8, 9, 10, 11, 12, 14, 15, 16, 17, 18, 20, 22, Y', 'val': '19, 21, X', 'test': '7, 13'}\n",
      "    Used split fold: ['3', '4', '5', '6', '8', '9', '10', '11', '12', '14', '15', '16', '17', '18', '20', '22', 'Y']\n",
      "    Scalar features: {}\n",
      "    Vector features: {}\n",
      "    Cell types: ['HepG2', 'K562', 'SKNSH']\n",
      "    Сell type used: ['HepG2_log2FC', 'SKNSH_log2FC']\n",
      "    Target columns that can be used: {'K562_log2FC', 'HepG2_log2FC', 'SKNSH_log2FC'}\n",
      "    Number of channels: 5\n",
      "    Sequence size: 209\n",
      "    Number of samples: {'train': 668946, 'val': 62406, 'test': 66712}\n",
      "    Description: MalinoisDataset is based on \n"
     ]
    }
   ],
   "source": [
    "print(ds)"
   ]
  },
  {
   "cell_type": "code",
   "execution_count": 21,
   "id": "6c88fd13-ca60-40ba-b81d-31f8d545afe0",
   "metadata": {
    "editable": true,
    "slideshow": {
     "slide_type": ""
    },
    "tags": []
   },
   "outputs": [
    {
     "data": {
      "text/plain": [
       "'Compose(\\n    Seq2Tensor()\\n    AddFlanks()\\n    RandomCrop(output_size=230)\\n    Reverse(prob=0.5)\\n    AddReverseChannel()\\n)'"
      ]
     },
     "execution_count": 21,
     "metadata": {},
     "output_type": "execute_result"
    }
   ],
   "source": [
    "transform = t.Compose([\n",
    "    #t.RandomCrop(10),\n",
    "    t.Seq2Tensor(),\n",
    "    t.AddFlanks(\"CCCCCCCCCC\",\"TTTTTTTTTT\"),\n",
    "    t.RandomCrop(230),\n",
    "    #t.RandomCrop(10,4),\n",
    "    t.Reverse(0.5),\n",
    "    #\n",
    "    t.AddReverseChannel(),\n",
    "\n",
    "        ])\n",
    "repr(transform)"
   ]
  },
  {
   "cell_type": "code",
   "execution_count": 20,
   "id": "53125d54-e362-4cf5-b5c0-65983edbe90c",
   "metadata": {},
   "outputs": [
    {
     "name": "stdout",
     "output_type": "stream",
     "text": [
      "('NNNNNNNNNTGTGCTCCGCNNNNNNNNNNN', np.float32(-0.675))\n"
     ]
    }
   ],
   "source": [
    "ds = VikramDataset(cell_type = \"HepG2\", split = \"train\", \n",
    "                     transform = t.Compose([\n",
    "                         #t.AddFlanks(\"ATGA\",\"ATGGAT\"),\n",
    "                                          #t.RightCrop(10,12),\n",
    "                                          #t.AddFlanks(\"CCCCCCCCCC\",\"TTTTTTTTTT\"),\n",
    "                                          #t.RandomCrop(8),\n",
    "                         t.RandomCrop(10),\n",
    "                         t.AddFlanks(\"AAAAA\",\"GGGGG\"),\n",
    "                                            t.CenterCrop(10),\n",
    "                         t.Padding(output_size = (9,11)),\n",
    "                                          t.AddReverseChannel(),\n",
    "                                          #t.Reverse(0.5),\n",
    "                                          #t.Seq2Tensor(),\n",
    "                                          #t.AddFeatureChannels([\"vector1\",\"scalar1\"])\n",
    "                                         ]))\n",
    "print(ds[0])"
   ]
  },
  {
   "cell_type": "code",
   "execution_count": null,
   "id": "c0bae0f1-28a8-4178-8bb0-cba9cbe4e58b",
   "metadata": {},
   "outputs": [],
   "source": []
  }
 ],
 "metadata": {
  "kernelspec": {
   "display_name": "Python [conda env:mpra]",
   "language": "python",
   "name": "conda-env-mpra-py"
  },
  "language_info": {
   "codemirror_mode": {
    "name": "ipython",
    "version": 3
   },
   "file_extension": ".py",
   "mimetype": "text/x-python",
   "name": "python",
   "nbconvert_exporter": "python",
   "pygments_lexer": "ipython3",
   "version": "3.12.7"
  }
 },
 "nbformat": 4,
 "nbformat_minor": 5
}
