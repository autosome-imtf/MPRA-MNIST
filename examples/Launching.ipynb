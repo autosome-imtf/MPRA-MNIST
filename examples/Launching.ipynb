{
 "cells": [
  {
   "cell_type": "code",
   "execution_count": 1,
   "id": "9fb0d1a6-42fc-4ea9-80b8-ea6807d858a1",
   "metadata": {},
   "outputs": [],
   "source": [
    "import mpramnist\n",
    "from mpramnist.malinoisdataset import MalinoisDataset\n",
    "from mpramnist.vikramdataset import VikramDataset\n",
    "from mpramnist import transforms as t\n",
    "from mpramnist import target_transforms as t_t\n",
    "import pandas as pd\n",
    "\n",
    "import numpy as np\n",
    "import torch\n",
    "import torch.nn as nn\n",
    "import torch.optim as optim\n",
    "import torch.utils.data as data"
   ]
  },
  {
   "cell_type": "code",
   "execution_count": 2,
   "id": "7e76c128-43a9-4c75-954f-292894be0d1c",
   "metadata": {},
   "outputs": [],
   "source": [
    "left_flank = MalinoisDataset.LEFT_FLANK\n",
    "right_flank = MalinoisDataset.RIGHT_FLANK\n",
    "BATCH_SIZE = 1076"
   ]
  },
  {
   "cell_type": "code",
   "execution_count": 5,
   "id": "6d48e23e-6609-4c75-a73f-cce988595a02",
   "metadata": {},
   "outputs": [],
   "source": [
    "# preprocessing\n",
    "transform = t.Compose([\n",
    "    #t.AddFlanks(left_flank, right_flank),\n",
    "    #t.CenterCrop(600),\n",
    "    t.Seq2Tensor(),\n",
    "])\n",
    "\n",
    "target_transform = t_t.Compose([\n",
    "    #t_t.Normalize(mean = 0.500, std = 1.059) # original for Malinois \n",
    "])\n",
    "\n",
    "# load the data\n",
    "train_dataset = MalinoisDataset( \n",
    "                              split = \"X\", \n",
    "                              transform = transform,\n",
    "    #duplication_cutoff = 0.5,\n",
    "                               use_original_reverse_complement = False) \n",
    "val_dataset = MalinoisDataset(\n",
    "                              split = 1, \n",
    "                              transform = transform) \n",
    "test_dataset = MalinoisDataset(\n",
    "                              split = [\"1\", 2], \n",
    "                              transform = transform)\n",
    "\n",
    "# encapsulate data into dataloader form\n",
    "train_loader = data.DataLoader(dataset=train_dataset, batch_size=BATCH_SIZE, shuffle=True)\n",
    "val_loader = data.DataLoader(dataset=val_dataset, batch_size=BATCH_SIZE, shuffle=False)\n",
    "test_loader = data.DataLoader(dataset=test_dataset, batch_size=BATCH_SIZE, shuffle=False)"
   ]
  },
  {
   "cell_type": "code",
   "execution_count": 6,
   "id": "c8bef530-3baf-4438-8abc-40574650b4e0",
   "metadata": {},
   "outputs": [
    {
     "name": "stdout",
     "output_type": "stream",
     "text": [
      "Dataset MalinoisDataset of size 8858 (MpraDaraset)\n",
      "    Number of datapoints: 8858\n",
      "    Default split folds: {'train': '1, 2, 3, 4, 5, 6, 8, 9, 10, 11, 12, 14, 15, 16, 17, 18, 20, 22, Y', 'val': '19, 21, X', 'test': '7, 13'}\n",
      "    Used split fold: ['X']\n",
      "    Scalar features: {}\n",
      "    Vector features: {}\n",
      "    Cell types: ['HepG2', 'K562', 'SKNSH']\n",
      "    Сell type used: ['K562_log2FC', 'HepG2_log2FC', 'SKNSH_log2FC']\n",
      "    Target columns that can be used: {'K562_log2FC', 'HepG2_log2FC', 'SKNSH_log2FC'}\n",
      "    Number of channels: 4\n",
      "    Sequence size: 200\n",
      "    Number of samples: {'train': 668946, 'val': 62406, 'test': 66712}\n",
      "    Description: MalinoisDataset is based on \n",
      "==================================================\n",
      "Dataset MalinoisDataset of size 69951 (MpraDaraset)\n",
      "    Number of datapoints: 69951\n",
      "    Default split folds: {'train': '1, 2, 3, 4, 5, 6, 8, 9, 10, 11, 12, 14, 15, 16, 17, 18, 20, 22, Y', 'val': '19, 21, X', 'test': '7, 13'}\n",
      "    Used split fold: ['1']\n",
      "    Scalar features: {}\n",
      "    Vector features: {}\n",
      "    Cell types: ['HepG2', 'K562', 'SKNSH']\n",
      "    Сell type used: ['K562_log2FC', 'HepG2_log2FC', 'SKNSH_log2FC']\n",
      "    Target columns that can be used: {'K562_log2FC', 'HepG2_log2FC', 'SKNSH_log2FC'}\n",
      "    Number of channels: 4\n",
      "    Sequence size: 200\n",
      "    Number of samples: {'train': 668946, 'val': 62406, 'test': 66712}\n",
      "    Description: MalinoisDataset is based on \n",
      "==================================================\n",
      "Dataset MalinoisDataset of size 127777 (MpraDaraset)\n",
      "    Number of datapoints: 127777\n",
      "    Default split folds: {'train': '1, 2, 3, 4, 5, 6, 8, 9, 10, 11, 12, 14, 15, 16, 17, 18, 20, 22, Y', 'val': '19, 21, X', 'test': '7, 13'}\n",
      "    Used split fold: ['1', '2']\n",
      "    Scalar features: {}\n",
      "    Vector features: {}\n",
      "    Cell types: ['HepG2', 'K562', 'SKNSH']\n",
      "    Сell type used: ['K562_log2FC', 'HepG2_log2FC', 'SKNSH_log2FC']\n",
      "    Target columns that can be used: {'K562_log2FC', 'HepG2_log2FC', 'SKNSH_log2FC'}\n",
      "    Number of channels: 4\n",
      "    Sequence size: 200\n",
      "    Number of samples: {'train': 668946, 'val': 62406, 'test': 66712}\n",
      "    Description: MalinoisDataset is based on \n"
     ]
    }
   ],
   "source": [
    "print(train_dataset)\n",
    "print(\"=\"*50)\n",
    "print(val_dataset)\n",
    "print(\"=\"*50)\n",
    "print(test_dataset)"
   ]
  },
  {
   "cell_type": "code",
   "execution_count": 1,
   "id": "e17ece93-9eaf-4d44-9838-1c309d608f0e",
   "metadata": {},
   "outputs": [],
   "source": [
    "import mpramnist\n",
    "from mpramnist.massivestarrdataset import MassiveStarrDataset\n",
    "from mpramnist import transforms as t\n",
    "from mpramnist import target_transforms as t_t\n",
    "\n",
    "import numpy as np\n",
    "import torch\n",
    "import torch.nn as nn\n",
    "import torch.optim as optim\n",
    "import torch.utils.data as data"
   ]
  },
  {
   "cell_type": "code",
   "execution_count": 2,
   "id": "d2f37af6-ec88-40c2-abe8-f45872a3ec03",
   "metadata": {},
   "outputs": [],
   "source": [
    "tasks = [\"RandomEnhancer\",           # 0\n",
    "          \"GenomicPromoter\",         # 1\n",
    "          \"CapturePromoter\",         # 2\n",
    "          \n",
    "          \"GenomicEnhancer\",         # 3\n",
    "          \"AtacSeq\",                 # 4\n",
    "          \n",
    "          \"differentialExpression\",  # 5\n",
    "\n",
    "          \"Binary\"                   # 6\n",
    "         ]"
   ]
  },
  {
   "cell_type": "code",
   "execution_count": 5,
   "id": "9f64f0cd-3c0a-41d4-89e9-683723f3fc74",
   "metadata": {},
   "outputs": [],
   "source": [
    "BATCH_SIZE = 2048\n",
    "NUM_WORKERS = 103\n",
    "train_transform = t.Compose([\n",
    "    t.Seq2Tensor()\n",
    "])\n",
    "val_test_transform = t.Compose([\n",
    "    t.Seq2Tensor()\n",
    "])\n",
    "task = tasks[2]\n",
    "train_dataset = MassiveStarrDataset(task = task, split = \"train\",transform = train_transform)\n",
    "\n",
    "val_dataset = MassiveStarrDataset(task = task, split = \"val\",transform = val_test_transform) \n",
    "\n",
    "test_dataset = MassiveStarrDataset(task = task, split = \"test\", transform = val_test_transform)\n",
    "\n",
    "# encapsulate data into dataloader form\n",
    "train_loader = data.DataLoader(dataset=train_dataset, batch_size=BATCH_SIZE, shuffle=True, num_workers = NUM_WORKERS)\n",
    "val_loader = data.DataLoader(dataset=val_dataset, batch_size=BATCH_SIZE, shuffle=False, num_workers = NUM_WORKERS)\n",
    "test_loader = data.DataLoader(dataset=test_dataset, batch_size=BATCH_SIZE, shuffle=False, num_workers = NUM_WORKERS)"
   ]
  },
  {
   "cell_type": "code",
   "execution_count": 6,
   "id": "2e1c3b4a-5b8a-4df0-81d5-98d836b10405",
   "metadata": {},
   "outputs": [
    {
     "name": "stdout",
     "output_type": "stream",
     "text": [
      "Dataset MassiveStarrDataset of size 79732 (MpraDaraset)\n",
      "    Number of datapoints: 79732\n",
      "    Default split folds: {}\n",
      "    Used split fold: train\n",
      "    Scalar features: {}\n",
      "    Vector features: {}\n",
      "    Cell types: None\n",
      "    Сell type used: None\n",
      "    Target columns that can be used: {}\n",
      "    Number of channels: 4\n",
      "    Sequence size: 120\n",
      "    Number of samples: {}\n",
      "    Description: MassiveStarrDataset is based on \n",
      "==================================================\n",
      "Dataset MassiveStarrDataset of size 13290 (MpraDaraset)\n",
      "    Number of datapoints: 13290\n",
      "    Default split folds: {}\n",
      "    Used split fold: val\n",
      "    Scalar features: {}\n",
      "    Vector features: {}\n",
      "    Cell types: None\n",
      "    Сell type used: None\n",
      "    Target columns that can be used: {}\n",
      "    Number of channels: 4\n",
      "    Sequence size: 120\n",
      "    Number of samples: {}\n",
      "    Description: MassiveStarrDataset is based on \n",
      "==================================================\n",
      "Dataset MassiveStarrDataset of size 13290 (MpraDaraset)\n",
      "    Number of datapoints: 13290\n",
      "    Default split folds: {}\n",
      "    Used split fold: test\n",
      "    Scalar features: {}\n",
      "    Vector features: {}\n",
      "    Cell types: None\n",
      "    Сell type used: None\n",
      "    Target columns that can be used: {}\n",
      "    Number of channels: 4\n",
      "    Sequence size: 120\n",
      "    Number of samples: {}\n",
      "    Description: MassiveStarrDataset is based on \n"
     ]
    }
   ],
   "source": [
    "print(train_dataset)\n",
    "print(\"=\"*50)\n",
    "print(val_dataset)\n",
    "print(\"=\"*50)\n",
    "print(test_dataset)"
   ]
  },
  {
   "cell_type": "code",
   "execution_count": 11,
   "id": "23013510-eac8-44f8-b5bb-a6dffb082140",
   "metadata": {},
   "outputs": [
    {
     "name": "stdout",
     "output_type": "stream",
     "text": [
      "Dataset MassiveStarrDataset of size 99363 (MpraDaraset)\n",
      "    Number of datapoints: 99363\n",
      "    Default split folds: {}\n",
      "    Used split fold: ['chr2', 'chr10', 'chr11']\n",
      "    Scalar features: {}\n",
      "    Vector features: {}\n",
      "    Cell types: None\n",
      "    Сell type used: None\n",
      "    Target columns that can be used: {}\n",
      "    Number of channels: 4\n",
      "    Sequence size: 170\n",
      "    Number of samples: {}\n",
      "    Description: MassiveStarrDataset is based on \n"
     ]
    }
   ],
   "source": [
    "test_dataset = MassiveStarrDataset(task = task, split = ['chr2', 'chr10','chr11'], transform = val_test_transform)\n",
    "print(test_dataset)"
   ]
  },
  {
   "cell_type": "code",
   "execution_count": 12,
   "id": "69e9e0cb-d904-4181-897b-07135b32716f",
   "metadata": {},
   "outputs": [
    {
     "name": "stdout",
     "output_type": "stream",
     "text": [
      "Dataset MassiveStarrDataset of size 27537 (MpraDaraset)\n",
      "    Number of datapoints: 27537\n",
      "    Default split folds: {}\n",
      "    Used split fold: ['chr11']\n",
      "    Scalar features: {}\n",
      "    Vector features: {}\n",
      "    Cell types: None\n",
      "    Сell type used: None\n",
      "    Target columns that can be used: {}\n",
      "    Number of channels: 4\n",
      "    Sequence size: 170\n",
      "    Number of samples: {}\n",
      "    Description: MassiveStarrDataset is based on \n"
     ]
    }
   ],
   "source": [
    "test_dataset = MassiveStarrDataset(task = task, split = ['chr11'], transform = val_test_transform)\n",
    "print(test_dataset)"
   ]
  },
  {
   "cell_type": "code",
   "execution_count": 15,
   "id": "d9a6c255-ccd7-45af-9040-563259fd91e3",
   "metadata": {},
   "outputs": [
    {
     "data": {
      "text/plain": [
       "2393665"
      ]
     },
     "execution_count": 15,
     "metadata": {},
     "output_type": "execute_result"
    }
   ],
   "source": [
    "1441994 +496525 +455146"
   ]
  },
  {
   "cell_type": "code",
   "execution_count": 22,
   "id": "7867c629-8cb4-4485-8117-8feffd8d5fbd",
   "metadata": {},
   "outputs": [],
   "source": [
    "arr = [1,2,3,4,5,6]\n",
    "l = len(arr)\n",
    "m = l//2"
   ]
  },
  {
   "cell_type": "code",
   "execution_count": 28,
   "id": "f998c3eb-ed1f-496d-bd07-b40e966c4611",
   "metadata": {},
   "outputs": [
    {
     "name": "stdout",
     "output_type": "stream",
     "text": [
      "1\n",
      "1\n",
      "1\n",
      "0\n",
      "0\n",
      "0\n"
     ]
    }
   ],
   "source": [
    "i = 0\n",
    "for j in arr:\n",
    "    if i < m:\n",
    "        print(1)\n",
    "    else:\n",
    "        print(0)\n",
    "    i+=1"
   ]
  },
  {
   "cell_type": "code",
   "execution_count": null,
   "id": "43b8701a-d360-47d3-aff5-bbd7c033a451",
   "metadata": {},
   "outputs": [],
   "source": []
  }
 ],
 "metadata": {
  "kernelspec": {
   "display_name": "Python [conda env:mpra]",
   "language": "python",
   "name": "conda-env-mpra-py"
  },
  "language_info": {
   "codemirror_mode": {
    "name": "ipython",
    "version": 3
   },
   "file_extension": ".py",
   "mimetype": "text/x-python",
   "name": "python",
   "nbconvert_exporter": "python",
   "pygments_lexer": "ipython3",
   "version": "3.12.7"
  }
 },
 "nbformat": 4,
 "nbformat_minor": 5
}
