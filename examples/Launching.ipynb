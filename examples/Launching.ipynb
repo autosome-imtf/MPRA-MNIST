{
 "cells": [
  {
   "cell_type": "code",
   "execution_count": 13,
   "id": "49c963cb-23ce-4fa7-ba24-ab8dfde65e80",
   "metadata": {},
   "outputs": [
    {
     "name": "stdout",
     "output_type": "stream",
     "text": [
      "tiling\n",
      "Dataset DreamDataset of size 263 (MpraDaraset)\n",
      "    Number of datapoints: 263\n",
      "    Used split fold: public\n",
      "------------\n",
      "Dataset DreamDataset of size 2361 (MpraDaraset)\n",
      "    Number of datapoints: 2361\n",
      "    Used split fold: private\n"
     ]
    }
   ],
   "source": [
    "import mpramnist\n",
    "from mpramnist.Dream.dataset import DreamDataset\n",
    "type = DreamDataset.TYPES[8]\n",
    "print(type)\n",
    "val_dataset = DreamDataset(\n",
    "    split=\"val\", data_type=type, root=\"../data\"\n",
    ")\n",
    "\n",
    "test_dataset = DreamDataset(\n",
    "    split=\"test\", data_type=type, root=\"../data\"\n",
    ")\n",
    "print(val_dataset)\n",
    "print(\"------------\")\n",
    "print(test_dataset)"
   ]
  },
  {
   "cell_type": "code",
   "execution_count": 12,
   "id": "0a11d8a8-cc82-46a3-827e-e9c68aaf5be7",
   "metadata": {},
   "outputs": [
    {
     "name": "stdout",
     "output_type": "stream",
     "text": [
      "chr2L, chr2LHet, chr2RHet, chr3L, chr3LHet, chr3R, chr3RHet, chr4, chrX, chrXHet, chrYHet, chr2R\n"
     ]
    }
   ],
   "source": [
    "print(\"chr2L\",\n",
    "        \"chr2LHet\",\n",
    "        \"chr2RHet\",\n",
    "        \"chr3L\",\n",
    "        \"chr3LHet\",\n",
    "        \"chr3R\",\n",
    "        \"chr3RHet\",\n",
    "        \"chr4\",\n",
    "        \"chrX\",\n",
    "        \"chrXHet\",\n",
    "        \"chrYHet\",\n",
    "        \"chr2R\", sep = \", \")"
   ]
  },
  {
   "cell_type": "code",
   "execution_count": null,
   "id": "4dcb3004-912b-477e-ab36-369a4e78c5f6",
   "metadata": {},
   "outputs": [],
   "source": [
    "\"BDGP R5/dm3\""
   ]
  },
  {
   "cell_type": "code",
   "execution_count": 1,
   "id": "a1913654-a110-4a1f-bedb-f4223e40aee8",
   "metadata": {},
   "outputs": [
    {
     "name": "stdout",
     "output_type": "stream",
     "text": [
      "Dataset StarrSeqDataset (MpraDaraset)\n",
      "    Number of datapoints: 36898\n",
      "    Root location: ../data/StarrSeq\n",
      "    Using split: train\n",
      "    Split: {'train': 36898, 'val': 4098, 'test': 7285}\n",
      "    Task: Binary Classification\n",
      "    Description: The STARR-seq dataset is based on several libraries designed to determine the activity of human regulatory elements. The classification task for most libraries was to predict whether a sequence is an active or inactive regulatory element.\n",
      "    Genomic Promoter: Determines promoter activity in GP5d cells.\n",
      "===================\n",
      "Dataset StarrSeqDataset (MpraDaraset)\n",
      "    Number of datapoints: 4098\n",
      "    Root location: ../data/StarrSeq\n",
      "    Using split: val\n",
      "    Split: {'train': 36898, 'val': 4098, 'test': 7285}\n",
      "    Task: Binary Classification\n",
      "    Description: The STARR-seq dataset is based on several libraries designed to determine the activity of human regulatory elements. The classification task for most libraries was to predict whether a sequence is an active or inactive regulatory element.\n",
      "    Genomic Promoter: Determines promoter activity in GP5d cells.\n",
      "===================\n",
      "Dataset StarrSeqDataset (MpraDaraset)\n",
      "    Number of datapoints: 7285\n",
      "    Root location: ../data/StarrSeq\n",
      "    Using split: test\n",
      "    Split: {'train': 36898, 'val': 4098, 'test': 7285}\n",
      "    Task: Binary Classification\n",
      "    Description: The STARR-seq dataset is based on several libraries designed to determine the activity of human regulatory elements. The classification task for most libraries was to predict whether a sequence is an active or inactive regulatory element.\n",
      "    Genomic Promoter: Determines promoter activity in GP5d cells.\n"
     ]
    }
   ],
   "source": [
    "import mpramnist\n",
    "from mpramnist.StarrSeq.dataset import StarrSeqDataset\n",
    "task = \"genomicpromoter\"\n",
    "train_dataset = StarrSeqDataset(\n",
    "    task=task, split=\"train\", root=\"../data/\"\n",
    ")\n",
    "\n",
    "val_dataset = StarrSeqDataset(\n",
    "    task=task, split=\"val\", root=\"../data/\"\n",
    ")\n",
    "\n",
    "test_dataset = StarrSeqDataset(\n",
    "    task=task, split=\"test\", root=\"../data/\"\n",
    ")\n",
    "print(train_dataset)\n",
    "print(\"===================\")\n",
    "print(val_dataset)\n",
    "print(\"===================\")\n",
    "print(test_dataset)"
   ]
  },
  {
   "cell_type": "code",
   "execution_count": 1,
   "id": "f4ba9b74-e4be-4f78-8972-be9c6cf49281",
   "metadata": {},
   "outputs": [
    {
     "name": "stdout",
     "output_type": "stream",
     "text": [
      "Dataset AgarwalDataset (MpraDaraset)\n",
      "    Number of datapoints: 98336\n",
      "    Root location: ../data/Agarwal\n",
      "    Using split: [1, 2, 3, 4, 5, 6, 7, 8]\n",
      "    Split: {'train': 98336, 'val': 12298, 'test': 12298}\n",
      "    Task: Regression\n",
      "    Description: The Agarwal dataset is based on a lentiviral MPRA system. The total data volume was 122,926 sequences for the HepG2 cell line, 196,664 for K562, and 46,185 for WTC11. Each sequence is 200 nucleotides long. The regression task was to predict a scalar value of regulatory activity for the corresponding cell line.\n",
      "------------\n",
      "Dataset AgarwalDataset (MpraDaraset)\n",
      "    Number of datapoints: 12298\n",
      "    Root location: ../data/Agarwal\n",
      "    Using split: [10]\n",
      "    Split: {'train': 98336, 'val': 12298, 'test': 12298}\n",
      "    Task: Regression\n",
      "    Description: The Agarwal dataset is based on a lentiviral MPRA system. The total data volume was 122,926 sequences for the HepG2 cell line, 196,664 for K562, and 46,185 for WTC11. Each sequence is 200 nucleotides long. The regression task was to predict a scalar value of regulatory activity for the corresponding cell line.\n"
     ]
    }
   ],
   "source": [
    "import mpramnist\n",
    "from mpramnist.Agarwal.dataset import AgarwalDataset\n",
    "# load the data\n",
    "train_dataset = AgarwalDataset(\n",
    "    cell_type=\"HepG2\",\n",
    "    split=\"train\",  # could use a list e.g. [1,2,5,6,7,8] for needed folds\n",
    "    root=\"../data/\",\n",
    ")\n",
    "\n",
    "val_dataset = AgarwalDataset(\n",
    "    cell_type=\"HepG2\",\n",
    "    split=\"val\",  # use \"val\" for default validation set or use list\n",
    "    root=\"../data/\",\n",
    ")\n",
    "\n",
    "test_dataset = AgarwalDataset(\n",
    "    cell_type=\"HepG2\",\n",
    "    split=\"test\",  # use \"test\" for default test set or use list\n",
    "    root=\"../data/\",\n",
    ")\n",
    "print(train_dataset)\n",
    "print(\"------------\")\n",
    "print(test_dataset)"
   ]
  },
  {
   "cell_type": "code",
   "execution_count": 1,
   "id": "8712042a-b7dd-4c56-8bfe-4fa664364cd4",
   "metadata": {},
   "outputs": [
    {
     "name": "stdout",
     "output_type": "stream",
     "text": [
      "Dataset AgarwalJointDataset (MpraDaraset)\n",
      "    Number of datapoints: 44264\n",
      "    Root location: ../data/AgarwalJoint\n",
      "    Using split: [1, 2, 3, 4, 5, 6, 7, 8]\n",
      "    Split: {'train': 36946, 'val': 4622, 'test': 4622}\n",
      "    Task: Regression\n",
      "    Description: The AgarwalJoint dataset contains 55,338 sequences, each 200 nucleotides long, comprising enhancers from the HepG2, K562, and WTC11 cell lines. The regression task is to predict three scalar values of regulatory activity for each of these cell lines.\n",
      "------------\n",
      "Dataset AgarwalJointDataset (MpraDaraset)\n",
      "    Number of datapoints: 5541\n",
      "    Root location: ../data/AgarwalJoint\n",
      "    Using split: [10]\n",
      "    Split: {'train': 36946, 'val': 4622, 'test': 4622}\n",
      "    Task: Regression\n",
      "    Description: The AgarwalJoint dataset contains 55,338 sequences, each 200 nucleotides long, comprising enhancers from the HepG2, K562, and WTC11 cell lines. The regression task is to predict three scalar values of regulatory activity for each of these cell lines.\n"
     ]
    }
   ],
   "source": [
    "import mpramnist\n",
    "from mpramnist.AgarwalJoint.dataset import AgarwalJointDataset\n",
    "activity_columns = [\"HepG2\"]\n",
    "train_dataset = AgarwalJointDataset(\n",
    "    cell_type=activity_columns,\n",
    "    split=\"train\",\n",
    "    root=\"../data/\",\n",
    ")  # could use a list e.g. [1,2,5,6,7,8]                                                                                             # for needed folds\n",
    "val_dataset = AgarwalJointDataset(\n",
    "    cell_type=activity_columns, split=\"val\", root=\"../data/\"\n",
    ")  # use \"val\" for default validation set\n",
    "\n",
    "test_dataset = AgarwalJointDataset(\n",
    "    cell_type=activity_columns, split=\"test\", root=\"../data/\"\n",
    ")\n",
    "print(train_dataset)\n",
    "print(\"------------\")\n",
    "print(test_dataset)"
   ]
  },
  {
   "cell_type": "code",
   "execution_count": 1,
   "id": "47a2f72e-56bd-4126-84c5-b71daa385ce4",
   "metadata": {},
   "outputs": [
    {
     "name": "stdout",
     "output_type": "stream",
     "text": [
      "Dataset DeepPromoterDataset (MpraDaraset)\n",
      "    Number of datapoints: 9000\n",
      "    Root location: ../data/DeepPromoter\n",
      "    Using split: ['train']\n",
      "    Split: {'train': 9000, 'val': 1000, 'test': 1184}\n",
      "    Task: Regression\n",
      "    Description: The DeepPromoter dataset contains 14,098 E. coli promoters. Each sequence is 50 nucleotides long. The regression task was to predict a scalar value of regulatory activity.\n",
      "==================================================\n",
      "Dataset DeepPromoterDataset (MpraDaraset)\n",
      "    Number of datapoints: 1000\n",
      "    Root location: ../data/DeepPromoter\n",
      "    Using split: ['val']\n",
      "    Split: {'train': 9000, 'val': 1000, 'test': 1184}\n",
      "    Task: Regression\n",
      "    Description: The DeepPromoter dataset contains 14,098 E. coli promoters. Each sequence is 50 nucleotides long. The regression task was to predict a scalar value of regulatory activity.\n",
      "==================================================\n",
      "Dataset DeepPromoterDataset (MpraDaraset)\n",
      "    Number of datapoints: 1884\n",
      "    Root location: ../data/DeepPromoter\n",
      "    Using split: ['test']\n",
      "    Split: {'train': 9000, 'val': 1000, 'test': 1184}\n",
      "    Task: Regression\n",
      "    Description: The DeepPromoter dataset contains 14,098 E. coli promoters. Each sequence is 50 nucleotides long. The regression task was to predict a scalar value of regulatory activity.\n"
     ]
    }
   ],
   "source": [
    "import mpramnist\n",
    "from mpramnist.DeepPromoter.dataset import DeepPromoterDataset\n",
    "train_dataset = DeepPromoterDataset(\n",
    "    split=\"train\", root=\"../data/\"\n",
    ")\n",
    "\n",
    "val_dataset = DeepPromoterDataset(\n",
    "    split=\"val\", root=\"../data/\"\n",
    ")\n",
    "\n",
    "test_dataset = DeepPromoterDataset(\n",
    "    split=\"test\", root=\"../data/\"\n",
    ")\n",
    "print(train_dataset)\n",
    "print(\"=\" * 50)\n",
    "print(val_dataset)\n",
    "print(\"=\" * 50)\n",
    "print(test_dataset)"
   ]
  },
  {
   "cell_type": "code",
   "execution_count": 1,
   "id": "1f448c86-b6bb-4285-aea8-862dfd67afe9",
   "metadata": {},
   "outputs": [
    {
     "name": "stdout",
     "output_type": "stream",
     "text": [
      "Dataset DreamDataset (MpraDaraset)\n",
      "    Number of datapoints: 263\n",
      "    Root location: ../data/Dream\n",
      "    Using split: public\n",
      "    Split: {'train': 6739258, 'val': {'all sequences': 9045, 'high': 96, 'low': 99, 'yeast': 208, 'random': 733, 'challenging': 195, 'snv': 4670, 'perturbation': 328, 'tiling': 263}, 'test': {'all sequences': 62058, 'high': 872, 'low': 898, 'yeast': 370, 'random': 5616, 'challenging': 1758, 'snv': 39904, 'perturbation': 2959, 'tiling': 2361}}\n",
      "    Task: Regression\n",
      "    Description: The Dream dataset is based on the DREAM challenge and contains data on the activity of promoters in the yeast Saccharomyces cerevisiae. The dataset comprises 6.7 million sequences. The input data consists of DNA sequences of variable length, and the output is a scalar value of regulatory activity. The task is to predict this value.\n",
      "------------\n",
      "Dataset DreamDataset (MpraDaraset)\n",
      "    Number of datapoints: 2361\n",
      "    Root location: ../data/Dream\n",
      "    Using split: private\n",
      "    Split: {'train': 6739258, 'val': {'all sequences': 9045, 'high': 96, 'low': 99, 'yeast': 208, 'random': 733, 'challenging': 195, 'snv': 4670, 'perturbation': 328, 'tiling': 263}, 'test': {'all sequences': 62058, 'high': 872, 'low': 898, 'yeast': 370, 'random': 5616, 'challenging': 1758, 'snv': 39904, 'perturbation': 2959, 'tiling': 2361}}\n",
      "    Task: Regression\n",
      "    Description: The Dream dataset is based on the DREAM challenge and contains data on the activity of promoters in the yeast Saccharomyces cerevisiae. The dataset comprises 6.7 million sequences. The input data consists of DNA sequences of variable length, and the output is a scalar value of regulatory activity. The task is to predict this value.\n"
     ]
    }
   ],
   "source": [
    "import mpramnist\n",
    "from mpramnist.Dream.dataset import DreamDataset\n",
    "type = DreamDataset.TYPES[8]\n",
    "val_dataset = DreamDataset(\n",
    "    split=\"val\", data_type=type, root=\"../data\"\n",
    ")\n",
    "\n",
    "test_dataset = DreamDataset(\n",
    "    split=\"test\", data_type=type, root=\"../data\"\n",
    ")\n",
    "print(val_dataset)\n",
    "print(\"------------\")\n",
    "print(test_dataset)"
   ]
  },
  {
   "cell_type": "code",
   "execution_count": 1,
   "id": "eff38224-2283-4073-b5d1-c5050bac1b58",
   "metadata": {},
   "outputs": [
    {
     "name": "stdout",
     "output_type": "stream",
     "text": [
      "Dataset EvfratovDataset (MpraDaraset)\n",
      "    Number of datapoints: 9353\n",
      "    Root location: ../data/Evfratov\n",
      "    Using split: train\n",
      "    Split: {'train': 9353, 'val': 1169, 'test': 1170}\n",
      "    Task: Multi-class\n",
      "    Description: The Evfratov dataset is based on a study of the influence of 5′-UTR sequences on translation efficiency. The dataset contains 11,692 sequences of 23 nucleotides in length and 11,889 sequences of 33 nucleotides in length. The data enables the task of multiclass classification, where each of the 8 classes corresponds to a range of translation efficiency.\n",
      "==================================================\n",
      "Dataset EvfratovDataset (MpraDaraset)\n",
      "    Number of datapoints: 1169\n",
      "    Root location: ../data/Evfratov\n",
      "    Using split: val\n",
      "    Split: {'train': 9353, 'val': 1169, 'test': 1170}\n",
      "    Task: Multi-class\n",
      "    Description: The Evfratov dataset is based on a study of the influence of 5′-UTR sequences on translation efficiency. The dataset contains 11,692 sequences of 23 nucleotides in length and 11,889 sequences of 33 nucleotides in length. The data enables the task of multiclass classification, where each of the 8 classes corresponds to a range of translation efficiency.\n",
      "==================================================\n",
      "Dataset EvfratovDataset (MpraDaraset)\n",
      "    Number of datapoints: 1189\n",
      "    Root location: ../data/Evfratov\n",
      "    Using split: test\n",
      "    Split: {'train': 9511, 'val': 1189, 'test': 1189}\n",
      "    Task: Multi-class\n",
      "    Description: The Evfratov dataset is based on a study of the influence of 5′-UTR sequences on translation efficiency. The dataset contains 11,692 sequences of 23 nucleotides in length and 11,889 sequences of 33 nucleotides in length. The data enables the task of multiclass classification, where each of the 8 classes corresponds to a range of translation efficiency.\n"
     ]
    }
   ],
   "source": [
    "import mpramnist\n",
    "from mpramnist.Evfratov.dataset import EvfratovDataset\n",
    "length_of_seq = 23\n",
    "merge_last_classes = True\n",
    "\n",
    "train_dataset = EvfratovDataset(\n",
    "    split=\"train\",\n",
    "    merge_last_classes=merge_last_classes,\n",
    "    length_of_seq=length_of_seq,\n",
    "    root=\"../data/\",\n",
    ")  # use \"train\" for default training set\n",
    "\n",
    "val_dataset = EvfratovDataset(\n",
    "    split=\"val\",\n",
    "    merge_last_classes=merge_last_classes,\n",
    "    length_of_seq=length_of_seq,\n",
    "    root=\"../data/\",\n",
    ")  # use \"val\" for default validation set\n",
    "\n",
    "test_dataset = EvfratovDataset(\n",
    "    split=\"test\",\n",
    "    merge_last_classes=merge_last_classes,\n",
    "    length_of_seq=33,\n",
    "    root=\"../data/\",\n",
    ")  # use \"test\" for default test set\n",
    "print(train_dataset)\n",
    "print(\"=\" * 50)\n",
    "print(val_dataset)\n",
    "print(\"=\" * 50)\n",
    "print(test_dataset)"
   ]
  },
  {
   "cell_type": "code",
   "execution_count": 2,
   "id": "31d9deab-e549-4ec4-88ca-64036e44f27b",
   "metadata": {},
   "outputs": [
    {
     "name": "stdout",
     "output_type": "stream",
     "text": [
      "Dataset FluorescenceDataset (MpraDaraset)\n",
      "    Number of datapoints: 12335\n",
      "    Root location: ../data/Fluorescence\n",
      "    Using split: train\n",
      "    Split: {'train': 12335, 'val': 1416, 'test': 3353}\n",
      "    Task: Regression\n",
      "    Description: The Fluorescence dataset is based on a lentiviral MPRA system, collected for three immune cell lines: Jurkat, K562, and THP-1. The dataset includes 17,104 sequences, each 250 bp long. The regression task was to predict normalized regulatory activity values for each cell line.\n",
      "===================\n",
      "Dataset FluorescenceDataset (MpraDaraset)\n",
      "    Number of datapoints: 1416\n",
      "    Root location: ../data/Fluorescence\n",
      "    Using split: val\n",
      "    Split: {'train': 12335, 'val': 1416, 'test': 3353}\n",
      "    Task: Regression\n",
      "    Description: The Fluorescence dataset is based on a lentiviral MPRA system, collected for three immune cell lines: Jurkat, K562, and THP-1. The dataset includes 17,104 sequences, each 250 bp long. The regression task was to predict normalized regulatory activity values for each cell line.\n",
      "===================\n",
      "Dataset FluorescenceDataset (MpraDaraset)\n",
      "    Number of datapoints: 3353\n",
      "    Root location: ../data/Fluorescence\n",
      "    Using split: test\n",
      "    Split: {'train': 12335, 'val': 1416, 'test': 3353}\n",
      "    Task: Regression\n",
      "    Description: The Fluorescence dataset is based on a lentiviral MPRA system, collected for three immune cell lines: Jurkat, K562, and THP-1. The dataset includes 17,104 sequences, each 250 bp long. The regression task was to predict normalized regulatory activity values for each cell line.\n"
     ]
    }
   ],
   "source": [
    "import mpramnist\n",
    "from mpramnist.Fluorescence.dataset import FluorescenceDataset\n",
    "task = \"regression\"\n",
    "activity_columns = [\"JURKAT\", \"K562\", \"THP1\"]\n",
    "\n",
    "train_dataset = FluorescenceDataset(\n",
    "    task=task,\n",
    "    activity_columns=activity_columns,\n",
    "    split=\"train\",\n",
    "    root=\"../data/\",\n",
    ")\n",
    "\n",
    "val_dataset = FluorescenceDataset(\n",
    "    task=task,\n",
    "    activity_columns=activity_columns,\n",
    "    split=\"val\",\n",
    "    root=\"../data/\",\n",
    ")\n",
    "\n",
    "test_dataset = FluorescenceDataset(\n",
    "    task=task,\n",
    "    activity_columns=activity_columns,\n",
    "    split=\"test\",\n",
    "    root=\"../data/\",\n",
    ")\n",
    "print(train_dataset)\n",
    "print(\"===================\")\n",
    "print(val_dataset)\n",
    "print(\"===================\")\n",
    "print(test_dataset)"
   ]
  },
  {
   "cell_type": "code",
   "execution_count": 3,
   "id": "56a41e4c-d985-469c-8e84-983a6e34556b",
   "metadata": {},
   "outputs": [
    {
     "name": "stdout",
     "output_type": "stream",
     "text": [
      "Dataset MalinoisDataset (MpraDaraset)\n",
      "    Number of datapoints: 848563\n",
      "    Root location: ../data/Malinois\n",
      "    Using split: ['1', '2', '3', '4', '5', '6', '8', '9', '10', '11', '12', '14', '15', '16', '17', '18', '20', '22', 'Y']\n",
      "    Split: {'train': 668946, 'val': 58809, 'test': 62582}\n",
      "    Task: Regression\n",
      "    Description: The Malinois dataset includes 798,064 sequences tested in the K562, HepG2, and SK-N-SH cell lines. The original sequence length is approximately 200 nucleotides, and it is recommended to extend them to 600 bp. The task is to predict three normalized regulatory activity values for the respective cell lines.\n",
      "===================\n",
      "Dataset MalinoisDataset (MpraDaraset)\n",
      "    Number of datapoints: 59614\n",
      "    Root location: ../data/Malinois\n",
      "    Using split: ['19', '21', 'X']\n",
      "    Split: {'train': 668946, 'val': 58809, 'test': 62582}\n",
      "    Task: Regression\n",
      "    Description: The Malinois dataset includes 798,064 sequences tested in the K562, HepG2, and SK-N-SH cell lines. The original sequence length is approximately 200 nucleotides, and it is recommended to extend them to 600 bp. The task is to predict three normalized regulatory activity values for the respective cell lines.\n",
      "===================\n",
      "Dataset MalinoisDataset (MpraDaraset)\n",
      "    Number of datapoints: 63865\n",
      "    Root location: ../data/Malinois\n",
      "    Using split: ['7', '13']\n",
      "    Split: {'train': 668946, 'val': 58809, 'test': 62582}\n",
      "    Task: Regression\n",
      "    Description: The Malinois dataset includes 798,064 sequences tested in the K562, HepG2, and SK-N-SH cell lines. The original sequence length is approximately 200 nucleotides, and it is recommended to extend them to 600 bp. The task is to predict three normalized regulatory activity values for the respective cell lines.\n"
     ]
    }
   ],
   "source": [
    "import mpramnist\n",
    "from mpramnist.Malinois.dataset import MalinoisDataset\n",
    "# load the data\n",
    "activity_columns = [\"K562\"]\n",
    "train_dataset = MalinoisDataset(\n",
    "    split=\"train\",\n",
    "    duplication_cutoff=0.5,\n",
    "    filtration=\"original\",\n",
    "    activity_columns=[\"K562\"],\n",
    "    stderr_columns=[\"K562_lfcSE\"],\n",
    "    root=\"../data/\",\n",
    ")\n",
    "\n",
    "val_dataset = MalinoisDataset(\n",
    "    split=\"val\",\n",
    "    filtration=\"original\",\n",
    "    activity_columns=[\"K562\"],\n",
    "    stderr_columns=[\"K562_lfcSE\"],\n",
    "    root=\"../data/\",\n",
    ")\n",
    "\n",
    "test_dataset = MalinoisDataset(\n",
    "    split=\"test\",\n",
    "    filtration=\"original\",\n",
    "    activity_columns=[\"K562\"],\n",
    "    stderr_columns=[\"K562_lfcSE\"],\n",
    "    root=\"../data/\",\n",
    ")\n",
    "print(train_dataset)\n",
    "print(\"===================\")\n",
    "print(val_dataset)\n",
    "print(\"===================\")\n",
    "print(test_dataset)"
   ]
  },
  {
   "cell_type": "code",
   "execution_count": 4,
   "id": "2196ad99-010a-4ed5-a042-b8d7684d78f1",
   "metadata": {},
   "outputs": [
    {
     "name": "stdout",
     "output_type": "stream",
     "text": [
      "Dataset SharprDataset (MpraDaraset)\n",
      "    Number of datapoints: 457174\n",
      "    Root location: ../data/Sharpr\n",
      "    Using split: train\n",
      "    Split: {'train': 457174, 'val': 10130, 'test': 10130}\n",
      "    Task: Multilabel\n",
      "    Description: The Sharpr dataset contains activity measurements for approximately 477 thousand synthetic promoter sequences, each 145 bp long, tested in K562 and HepG2 cell lines. About 427 thousand sequences are used for training. The task is to predict 12 scalar values representing gene expression activity measurements.\n",
      "==================================================\n",
      "Dataset SharprDataset (MpraDaraset)\n",
      "    Number of datapoints: 10130\n",
      "    Root location: ../data/Sharpr\n",
      "    Using split: val\n",
      "    Split: {'train': 457174, 'val': 10130, 'test': 10130}\n",
      "    Task: Multilabel\n",
      "    Description: The Sharpr dataset contains activity measurements for approximately 477 thousand synthetic promoter sequences, each 145 bp long, tested in K562 and HepG2 cell lines. About 427 thousand sequences are used for training. The task is to predict 12 scalar values representing gene expression activity measurements.\n",
      "==================================================\n",
      "Dataset SharprDataset (MpraDaraset)\n",
      "    Number of datapoints: 10130\n",
      "    Root location: ../data/Sharpr\n",
      "    Using split: test\n",
      "    Split: {'train': 457174, 'val': 10130, 'test': 10130}\n",
      "    Task: Multilabel\n",
      "    Description: The Sharpr dataset contains activity measurements for approximately 477 thousand synthetic promoter sequences, each 145 bp long, tested in K562 and HepG2 cell lines. About 427 thousand sequences are used for training. The task is to predict 12 scalar values representing gene expression activity measurements.\n"
     ]
    }
   ],
   "source": [
    "import mpramnist\n",
    "from mpramnist.Sharpr.dataset import SharprDataset\n",
    "activity_columns = [\n",
    "    \"k562_minp_avg\",\n",
    "    \"k562_sv40p_avg\",\n",
    "    \"hepg2_minp_avg\",\n",
    "    \"hepg2_sv40p_avg\",\n",
    "]\n",
    "train_dataset = SharprDataset(\n",
    "    split=\"train\",\n",
    "    activity_columns=activity_columns,\n",
    "    root=\"../data/\",\n",
    ")  # for needed folds\n",
    "\n",
    "val_dataset = SharprDataset(\n",
    "    split=\"val\",\n",
    "    activity_columns=activity_columns,\n",
    "    root=\"../data/\",\n",
    ")  # use \"val\" for default validation set\n",
    "\n",
    "test_dataset = SharprDataset(\n",
    "    split=\"test\",\n",
    "    activity_columns=activity_columns,\n",
    "    root=\"../data/\",\n",
    ")  # use \"test\" for default test set\n",
    "print(train_dataset)\n",
    "print(\"=\" * 50)\n",
    "print(val_dataset)\n",
    "print(\"=\" * 50)\n",
    "print(test_dataset)"
   ]
  },
  {
   "cell_type": "code",
   "execution_count": 1,
   "id": "99119a88-6853-4357-bf94-4754fb4cdc49",
   "metadata": {},
   "outputs": [
    {
     "name": "stdout",
     "output_type": "stream",
     "text": [
      "PKLR info\n",
      "Dataset KircherDataset (MpraDaraset)\n",
      "    Number of datapoints: 1794\n",
      "    Root location: ../data/Kircher\n",
      "    Using split: test\n",
      "    Split: {'BCL11A': 2062, 'FOXE1': 2048, 'MSMB': 2019, 'ZFAND3': 2012, 'SORT1.2': 1998, 'SORT1-flip': 1974, 'UC88': 1964, 'RET': 1962, 'MYCrs6983267': 1950, 'SORT1': 1927, 'TCF7L2': 1910, 'IRF6': 1906, 'PKLR-48h': 1794, 'PKLR-24h': 1776, 'MYCrs11986220': 1681, 'ZRSh-13h2': 1662, 'ZRSh-13': 1661, 'IRF4': 1510, 'GP1BA': 1268, 'LDLR.2': 1093, 'LDLR': 1083, 'F9': 984, 'HNF4A': 977, 'TERT-HEK': 975, 'TERT-GAa': 974, 'TERT-GSc': 974, 'TERT-GBM': 973, 'HBG1': 907, 'HBB': 623}\n",
      "    Task: Regression\n",
      "    Description: The Kircher dataset is based on MPRA saturation mutagenesis results and includes 44,647 variants of regulatory elements tested in various cell lines. These data are proposed to be used as a benchmark set for evaluating the quality of machine learning models. The regression task involved predicting a scalar value of regulatory activity for the corresponding cell line.\n"
     ]
    }
   ],
   "source": [
    "import mpramnist\n",
    "from mpramnist.Kircher.dataset import KircherDataset\n",
    "kircher_dataset_forw = KircherDataset(\n",
    "    length=200, promoters=[\"PKLR-48h\"], root=\"../data/\"\n",
    ")\n",
    "kircher_dataset_rev = KircherDataset(\n",
    "    length=200, promoters=[\"PKLR-48h\"], root=\"../data/\"\n",
    ")\n",
    "print(\"PKLR info\")\n",
    "print(kircher_dataset_forw)"
   ]
  },
  {
   "cell_type": "code",
   "execution_count": 9,
   "id": "e28f633d-49e3-4ad3-a81c-5f316303b766",
   "metadata": {},
   "outputs": [
    {
     "data": {
      "text/plain": [
       "['SuRE42_HG02601', 'SuRE43_GM18983']"
      ]
     },
     "execution_count": 9,
     "metadata": {},
     "output_type": "execute_result"
    }
   ],
   "source": [
    "GENOME_IDS[0:2]"
   ]
  },
  {
   "cell_type": "code",
   "execution_count": 11,
   "id": "edccc2d2-37df-43bd-b7fa-12f12439b5e7",
   "metadata": {},
   "outputs": [
    {
     "name": "stdout",
     "output_type": "stream",
     "text": [
      "Dataset SureDataset (MpraDaraset)\n",
      "    Number of datapoints: 1173880\n",
      "    Root location: ../data/Sure\n",
      "    Using split: train\n",
      "    Split: {'train': 554829, 'val': 72758, 'test': 72774}\n",
      "    Task: Regression or Multi-class\n",
      "    Description: The Sure dataset contains data from the analysis of genomes from 4 individuals. Experiments were conducted on the K562 and HepG2 cell lines. The dataset volume is ~400–600 thousand training and ~50–70 thousand test and validation sequences per individual. The classification task is to predict a class label reflecting the expression level for each cell line. The regression task is to predict a continuous value of the expression level for K562 and HepG2.\n",
      "--------------------------------------------------\n",
      "Dataset SureDataset (MpraDaraset)\n",
      "    Number of datapoints: 146693\n",
      "    Root location: ../data/Sure\n",
      "    Using split: val\n",
      "    Split: {'train': 554829, 'val': 72758, 'test': 72774}\n",
      "    Task: Regression or Multi-class\n",
      "    Description: The Sure dataset contains data from the analysis of genomes from 4 individuals. Experiments were conducted on the K562 and HepG2 cell lines. The dataset volume is ~400–600 thousand training and ~50–70 thousand test and validation sequences per individual. The classification task is to predict a class label reflecting the expression level for each cell line. The regression task is to predict a continuous value of the expression level for K562 and HepG2.\n",
      "-------------------------\n",
      "Dataset SureDataset (MpraDaraset)\n",
      "    Number of datapoints: 146721\n",
      "    Root location: ../data/Sure\n",
      "    Using split: test\n",
      "    Split: {'train': 554829, 'val': 72758, 'test': 72774}\n",
      "    Task: Regression or Multi-class\n",
      "    Description: The Sure dataset contains data from the analysis of genomes from 4 individuals. Experiments were conducted on the K562 and HepG2 cell lines. The dataset volume is ~400–600 thousand training and ~50–70 thousand test and validation sequences per individual. The classification task is to predict a class label reflecting the expression level for each cell line. The regression task is to predict a continuous value of the expression level for K562 and HepG2.\n",
      "--------------------------------------------------\n"
     ]
    }
   ],
   "source": [
    "import mpramnist\n",
    "from mpramnist.Sure.dataset import SureDataset\n",
    "GENOME_IDS = SureDataset.GENOME_IDS\n",
    "CELL_TYPES = SureDataset.CELL_TYPES\n",
    "task = \"regression\"\n",
    "train_dataset = SureDataset(\n",
    "    task=task,\n",
    "    genome_id=GENOME_IDS[0:2],\n",
    "    split=\"train\",\n",
    "    root=\"../data/\",\n",
    ")  # for needed folds\n",
    "\n",
    "val_dataset = SureDataset(\n",
    "    task=task,\n",
    "    genome_id=GENOME_IDS[0:2],\n",
    "    split=\"val\",\n",
    "    root=\"../data/\",\n",
    ")  # use \"val\" for default validation set\n",
    "\n",
    "test_dataset = SureDataset(\n",
    "    task=task,\n",
    "    genome_id=GENOME_IDS[0:2],\n",
    "    split=\"test\",\n",
    "    root=\"../data/\",\n",
    ")  # use \"test\" for default test set\n",
    "print(train_dataset)\n",
    "print(50 * \"-\")\n",
    "print(val_dataset)\n",
    "print(25 * \"-\")\n",
    "print(test_dataset)\n",
    "print(50 * \"-\")"
   ]
  },
  {
   "cell_type": "code",
   "execution_count": 1,
   "id": "f91c78b1-012e-44cc-a975-849161c62a8e",
   "metadata": {},
   "outputs": [
    {
     "name": "stdout",
     "output_type": "stream",
     "text": [
      "Dataset VaishnavDataset (MpraDaraset)\n",
      "    Number of datapoints: 18933667\n",
      "    Root location: ../data/Vaishnav\n",
      "    Using split: train\n",
      "    Split: {'train': 18933667, 'val': 2103740, 'test native': 3978, 'test drift': 2986, 'test paired': 2986}\n",
      "    Task: Regression\n",
      "    Description: The Vaishnav dataset includes measurements of promoter-dependent expression: 30,722,376 for the standard medium (YPD) and 20,616,659 for the minimal medium (SD-Ura). The input data are DNA sequences of variable length, and the outputs are a scalar value of regulatory activity. The data is divided into training and validation sets in a 9:1 ratio. The independent test set contains measurements for native promoters: 3,928 for YPD and 3,977 for SD-Ura.\n",
      "------------\n",
      "Dataset VaishnavDataset (MpraDaraset)\n",
      "    Number of datapoints: 2103740\n",
      "    Root location: ../data/Vaishnav\n",
      "    Using split: val\n",
      "    Split: {'train': 18933667, 'val': 2103740, 'test native': 3978, 'test drift': 2986, 'test paired': 2986}\n",
      "    Task: Regression\n",
      "    Description: The Vaishnav dataset includes measurements of promoter-dependent expression: 30,722,376 for the standard medium (YPD) and 20,616,659 for the minimal medium (SD-Ura). The input data are DNA sequences of variable length, and the outputs are a scalar value of regulatory activity. The data is divided into training and validation sets in a 9:1 ratio. The independent test set contains measurements for native promoters: 3,928 for YPD and 3,977 for SD-Ura.\n"
     ]
    }
   ],
   "source": [
    "import mpramnist\n",
    "from mpramnist.Vaishnav.dataset import VaishnavDataset\n",
    "train_dataset = VaishnavDataset(\n",
    "    split=\"train\",\n",
    "    dataset_env_type=\"defined\",\n",
    "    root=\"../data/\",\n",
    ")\n",
    "\n",
    "val_dataset = VaishnavDataset(\n",
    "    split=\"val\",\n",
    "    dataset_env_type=\"defined\",\n",
    "    root=\"../data/\",\n",
    ")\n",
    "print(train_dataset)\n",
    "print(\"------------\")\n",
    "print(val_dataset)"
   ]
  },
  {
   "cell_type": "code",
   "execution_count": 2,
   "id": "b2af05f7-a1e8-475a-a632-f742c702fec3",
   "metadata": {},
   "outputs": [
    {
     "name": "stderr",
     "output_type": "stream",
     "text": [
      "/home/nios/5Term/mpramnist/DeepStarr/dataset.py:104: UserWarning: WARNING! \n",
      "Note: The training set contains reverse-complement augmentation as implemented in the original study.  \n",
      "• Dataset size: 2N (N original + N reverse-complemented sequences)  \n",
      "• Label consistency: y_rc ≡ y_original  \n",
      "• Do not reapply this transformation during preprocessing. \n",
      "  warnings.warn(\n"
     ]
    },
    {
     "name": "stdout",
     "output_type": "stream",
     "text": [
      "Dataset DeepStarrDataset (MpraDaraset)\n",
      "    Number of datapoints: 402278\n",
      "    Root location: ../data/DeepStarr\n",
      "    Using split: ['train']\n",
      "    Split: {'train': 201139, 'val': 40570, 'test': 3978}\n",
      "    Task: Regression\n",
      "    Description: The DeepSTARR data contains information on enhancer activity in D. melanogaster S2 cells. The dataset includes 282,892 sequences, each 249 nucleotides in length. The regression task is to predict two independent values of enhancer activity for two types of promoters.\n",
      "Dataset DeepStarrDataset (MpraDaraset)\n",
      "    Number of datapoints: 40570\n",
      "    Root location: ../data/DeepStarr\n",
      "    Using split: ['val']\n",
      "    Split: {'train': 201139, 'val': 40570, 'test': 3978}\n",
      "    Task: Regression\n",
      "    Description: The DeepSTARR data contains information on enhancer activity in D. melanogaster S2 cells. The dataset includes 282,892 sequences, each 249 nucleotides in length. The regression task is to predict two independent values of enhancer activity for two types of promoters.\n",
      "Dataset DeepStarrDataset (MpraDaraset)\n",
      "    Number of datapoints: 41186\n",
      "    Root location: ../data/DeepStarr\n",
      "    Using split: ['test']\n",
      "    Split: {'train': 201139, 'val': 40570, 'test': 3978}\n",
      "    Task: Regression\n",
      "    Description: The DeepSTARR data contains information on enhancer activity in D. melanogaster S2 cells. The dataset includes 282,892 sequences, each 249 nucleotides in length. The regression task is to predict two independent values of enhancer activity for two types of promoters.\n"
     ]
    }
   ],
   "source": [
    "import mpramnist\n",
    "from mpramnist.DeepStarr.dataset import DeepStarrDataset\n",
    "activity_columns = DeepStarrDataset.ACTIVITY_COLUMNS\n",
    "orig_rev_comp_train_dataset = DeepStarrDataset(\n",
    "    activity_column=activity_columns,\n",
    "    split=\"train\",\n",
    "    root=\"../data/\",\n",
    ")\n",
    "# VAL NO CHANGES\n",
    "val_dataset = DeepStarrDataset(\n",
    "    activity_column=activity_columns,\n",
    "    split=\"val\",\n",
    "    root=\"../data/\",\n",
    ")\n",
    "# TEST NO CHANGES\n",
    "test_dataset = DeepStarrDataset(\n",
    "    activity_column=activity_columns,\n",
    "    split=\"test\",\n",
    "    root=\"../data/\",\n",
    ")\n",
    "print(orig_rev_comp_train_dataset)\n",
    "print(val_dataset)\n",
    "print(test_dataset)"
   ]
  },
  {
   "cell_type": "code",
   "execution_count": null,
   "id": "8681e073-317d-4be9-853b-2a9f801c6514",
   "metadata": {},
   "outputs": [],
   "source": []
  }
 ],
 "metadata": {
  "kernelspec": {
   "display_name": "Python [conda env:mpramnist]",
   "language": "python",
   "name": "conda-env-mpramnist-py"
  },
  "language_info": {
   "codemirror_mode": {
    "name": "ipython",
    "version": 3
   },
   "file_extension": ".py",
   "mimetype": "text/x-python",
   "name": "python",
   "nbconvert_exporter": "python",
   "pygments_lexer": "ipython3",
   "version": "3.12.7"
  }
 },
 "nbformat": 4,
 "nbformat_minor": 5
}
