{
 "cells": [
  {
   "cell_type": "code",
   "execution_count": 1,
   "id": "b6376937-da7d-445b-a691-e701dd478b55",
   "metadata": {},
   "outputs": [],
   "source": [
    "import mpramnist\n",
    "from mpramnist.Sharpr.dataset import SharprDataset\n",
    "\n",
    "from mpramnist.models import HumanLegNet\n",
    "from mpramnist.models import initialize_weights\n",
    "from mpramnist.trainers import LitModel_Sharpr\n",
    "\n",
    "from mpramnist import transforms as t\n",
    "from mpramnist import target_transforms as t_t\n",
    "\n",
    "import numpy as np\n",
    "import torch\n",
    "import torch.nn as nn\n",
    "import torch.utils.data as data\n",
    "\n",
    "import torch\n",
    "import torch.nn as nn\n",
    "import torch.nn.functional as F\n",
    "import pytorch_lightning as L"
   ]
  },
  {
   "cell_type": "markdown",
   "id": "6bb1d805-3499-48cc-83ac-d01f6593f6fd",
   "metadata": {},
   "source": [
    "# Initiate some parameters"
   ]
  },
  {
   "cell_type": "code",
   "execution_count": 2,
   "id": "27bca7cc-41f9-4f00-b62b-ce25633bb5fe",
   "metadata": {},
   "outputs": [],
   "source": [
    "BATCH_SIZE = 512\n",
    "NUM_WORKERS = 103"
   ]
  },
  {
   "cell_type": "code",
   "execution_count": 3,
   "id": "9b5a9728-8f9d-4606-9d30-0b5453569e58",
   "metadata": {},
   "outputs": [
    {
     "data": {
      "text/plain": [
       "['k562_minp_rep1',\n",
       " 'k562_minp_rep2',\n",
       " 'k562_minp_avg',\n",
       " 'k562_sv40p_rep1',\n",
       " 'k562_sv40p_rep2',\n",
       " 'k562_sv40p_avg',\n",
       " 'hepg2_minp_rep1',\n",
       " 'hepg2_minp_rep2',\n",
       " 'hepg2_minp_avg',\n",
       " 'hepg2_sv40p_rep1',\n",
       " 'hepg2_sv40p_rep2',\n",
       " 'hepg2_sv40p_avg']"
      ]
     },
     "execution_count": 3,
     "metadata": {},
     "output_type": "execute_result"
    }
   ],
   "source": [
    "SharprDataset.ACTIVITY_COLUMNS"
   ]
  },
  {
   "cell_type": "code",
   "execution_count": 4,
   "id": "835eb05d-b12a-41c4-bfa4-d97d6d9e3eca",
   "metadata": {},
   "outputs": [],
   "source": [
    "# preprocessing\n",
    "train_transform = t.Compose([\n",
    "    t.Seq2Tensor(),\n",
    "    t.ReverseComplement(0.5),\n",
    "])\n",
    "test_transform = t.Compose([\n",
    "    t.Seq2Tensor(), \n",
    "])"
   ]
  },
  {
   "cell_type": "code",
   "execution_count": 5,
   "id": "367428ab-8e2f-4003-8ff7-a48711c2cddc",
   "metadata": {},
   "outputs": [],
   "source": [
    "# load the data\n",
    "train_dataset = SharprDataset(split=\"train\", transform=train_transform, root = \"../data/\")# for needed folds\n",
    "\n",
    "val_dataset = SharprDataset( split=\"val\", transform=test_transform, root = \"../data/\") # use \"val\" for default validation set\n",
    "\n",
    "test_dataset = SharprDataset( split=\"test\", transform=test_transform, root = \"../data/\") # use \"test\" for default test set"
   ]
  },
  {
   "cell_type": "code",
   "execution_count": 6,
   "id": "9020e7f4-1fa4-433b-bfbb-e0ce6f40dab7",
   "metadata": {},
   "outputs": [
    {
     "name": "stdout",
     "output_type": "stream",
     "text": [
      "Dataset SharprDataset of size 457174 (MpraDaraset)\n",
      "    Number of datapoints: 457174\n",
      "    Used split fold: train\n",
      "==================================================\n",
      "Dataset SharprDataset of size 10130 (MpraDaraset)\n",
      "    Number of datapoints: 10130\n",
      "    Used split fold: val\n",
      "==================================================\n",
      "Dataset SharprDataset of size 10130 (MpraDaraset)\n",
      "    Number of datapoints: 10130\n",
      "    Used split fold: test\n"
     ]
    }
   ],
   "source": [
    "print(train_dataset)\n",
    "print(\"=\"*50)\n",
    "print(val_dataset)\n",
    "print(\"=\"*50)\n",
    "print(test_dataset)"
   ]
  },
  {
   "cell_type": "code",
   "execution_count": 7,
   "id": "6fbc1bc1-4979-4ca4-afb8-c56394b274f0",
   "metadata": {},
   "outputs": [],
   "source": [
    "# encapsulate data into dataloader form\n",
    "train_loader = data.DataLoader(dataset=train_dataset, batch_size=BATCH_SIZE, shuffle=True, num_workers = NUM_WORKERS)\n",
    "\n",
    "val_loader = data.DataLoader(dataset=val_dataset, batch_size=BATCH_SIZE, shuffle=False, num_workers = NUM_WORKERS)\n",
    "\n",
    "test_loader = data.DataLoader(dataset=test_dataset, batch_size=BATCH_SIZE, shuffle=False, num_workers = NUM_WORKERS)"
   ]
  },
  {
   "cell_type": "code",
   "execution_count": 8,
   "id": "624d91cb-1374-470d-aa32-aea4c0273e0b",
   "metadata": {},
   "outputs": [],
   "source": [
    "in_channels = len(train_dataset[0][0])\n",
    "out_channels = len(SharprDataset.ACTIVITY_COLUMNS)"
   ]
  },
  {
   "cell_type": "code",
   "execution_count": 27,
   "id": "133ad826-b9ac-48da-b9ef-438a6027b338",
   "metadata": {},
   "outputs": [
    {
     "name": "stdout",
     "output_type": "stream",
     "text": [
      "torch.Size([64, 4, 145])\n",
      "torch.Size([64, 12])\n"
     ]
    }
   ],
   "source": [
    "batch = next(iter(train_loader))\n",
    "x, y = batch\n",
    "print(x.shape)\n",
    "print(y.shape)"
   ]
  },
  {
   "cell_type": "code",
   "execution_count": 8,
   "id": "f39625e7-13fe-4aee-ac75-eef142c518bf",
   "metadata": {},
   "outputs": [],
   "source": [
    "from torch_lr_finder import LRFinder\n",
    "import matplotlib.pyplot as plt\n",
    "\n",
    "model = HumanLegNet(in_ch=4,\n",
    "                                 num_outputs = 12,\n",
    "                                 stem_ch=64,\n",
    "                                 stem_ks=11,\n",
    "                                 ef_ks=9,\n",
    "                                 ef_block_sizes=[256, 128, 128, 128, 64, 64],\n",
    "                                 pool_sizes=[2,2,2,2,2,2],\n",
    "                                 resize_factor=4)\n",
    "optimizer = torch.optim.AdamW(model.parameters(), lr=1e-7, weight_decay = 1e-2)\n",
    "'''\n",
    "model = Malinois()\n",
    "\n",
    "optimizer = torch.optim.Adam(filter(lambda p: p.requires_grad, model.parameters()), \n",
    "                                         lr=1e-7, weight_decay=1e-2, \n",
    "                                         betas=(0.8661062881299633, 0.879223105336538), amsgrad=True)\n",
    "'''\n",
    "optimizer = torch.optim.AdamW(model.parameters(), lr=1e-7, weight_decay = 1e-2)\n",
    "criterion = nn.MSELoss() "
   ]
  },
  {
   "cell_type": "code",
   "execution_count": 9,
   "id": "abfa2641-ede1-45fd-b867-3110eb8cbc53",
   "metadata": {},
   "outputs": [
    {
     "data": {
      "application/vnd.jupyter.widget-view+json": {
       "model_id": "d2b5f1304e77451cb51d6f9340c11223",
       "version_major": 2,
       "version_minor": 0
      },
      "text/plain": [
       "  0%|          | 0/100 [00:00<?, ?it/s]"
      ]
     },
     "metadata": {},
     "output_type": "display_data"
    },
    {
     "name": "stdout",
     "output_type": "stream",
     "text": [
      "Stopping early, the loss has diverged\n",
      "Learning rate search finished. See the graph with {finder_name}.plot()\n"
     ]
    }
   ],
   "source": [
    "lr_finder = LRFinder(model, optimizer, criterion, device=\"cuda\")\n",
    "lr_finder.range_test(train_loader, start_lr=1e-7, end_lr=10, num_iter=100)"
   ]
  },
  {
   "cell_type": "code",
   "execution_count": 10,
   "id": "58063b65-6cd0-4371-9473-e6a8498579f9",
   "metadata": {},
   "outputs": [
    {
     "name": "stdout",
     "output_type": "stream",
     "text": [
      "LR suggestion: steepest gradient\n",
      "Suggested LR: 1.59E-03\n"
     ]
    },
    {
     "data": {
      "image/png": "[encoded data removed]",
      "text/plain": [
       "<Figure size 640x480 with 1 Axes>"
      ]
     },
     "metadata": {},
     "output_type": "display_data"
    }
   ],
   "source": [
    "lr_finder.plot()  \n",
    "plt.show()"
   ]
  },
  {
   "cell_type": "code",
   "execution_count": 9,
   "id": "d3f35a08-d9bb-427b-ad30-04b7bc5ccbff",
   "metadata": {},
   "outputs": [],
   "source": [
    "model = HumanLegNet(in_ch=in_channels,\n",
    "                     output_dim = out_channels,\n",
    "                     stem_ch=64,\n",
    "                     stem_ks=11,\n",
    "                     ef_ks=9,\n",
    "                     ef_block_sizes=[80, 96, 112, 128],\n",
    "                     pool_sizes=[2,2,2,2],\n",
    "                     resize_factor=4)\n",
    "model.apply(initialize_weights)\n",
    "\n",
    "seq_model = LitModel_Sharpr(model = model,\n",
    "                           loss = nn.MSELoss(), \n",
    "                           activity_columns = SharprDataset.ACTIVITY_COLUMNS,\n",
    "                           weight_decay = 1e-2, lr = 1e-2, print_each = 1)"
   ]
  },
  {
   "cell_type": "code",
   "execution_count": 10,
   "id": "7f7a27f5-1d55-48bd-b7af-63e505fd0976",
   "metadata": {},
   "outputs": [
    {
     "name": "stderr",
     "output_type": "stream",
     "text": [
      "Using 16bit Automatic Mixed Precision (AMP)\n",
      "You are using the plain ModelCheckpoint callback. Consider using LitModelCheckpoint which with seamless uploading to Model registry.\n",
      "GPU available: True (cuda), used: True\n",
      "TPU available: False, using: 0 TPU cores\n",
      "HPU available: False, using: 0 HPUs\n"
     ]
    }
   ],
   "source": [
    "# Initialize a trainer\n",
    "trainer = L.Trainer(\n",
    "    accelerator=\"gpu\",\n",
    "    devices=[0],\n",
    "    max_epochs=1,\n",
    "    gradient_clip_val=1,\n",
    "    precision='16-mixed', \n",
    "    enable_progress_bar = True,\n",
    "    num_sanity_val_steps=0\n",
    ")"
   ]
  },
  {
   "cell_type": "code",
   "execution_count": 11,
   "id": "e61afc00-ea49-4c2a-b5c1-dd24e1162eb3",
   "metadata": {},
   "outputs": [
    {
     "name": "stderr",
     "output_type": "stream",
     "text": [
      "You are using a CUDA device ('NVIDIA GeForce RTX 3090') that has Tensor Cores. To properly utilize them, you should set `torch.set_float32_matmul_precision('medium' | 'high')` which will trade-off precision for performance. For more details, read https://pytorch.org/docs/stable/generated/torch.set_float32_matmul_precision.html#torch.set_float32_matmul_precision\n",
      "LOCAL_RANK: 0 - CUDA_VISIBLE_DEVICES: [0,1]\n",
      "Loading `train_dataloader` to estimate number of stepping batches.\n",
      "\n",
      "  | Name          | Type            | Params | Mode \n",
      "----------------------------------------------------------\n",
      "0 | model         | HumanLegNet     | 1.3 M  | train\n",
      "1 | loss          | MSELoss         | 0      | train\n",
      "2 | train_pearson | PearsonCorrCoef | 0      | train\n",
      "3 | val_pearson   | PearsonCorrCoef | 0      | train\n",
      "4 | test_pearson  | PearsonCorrCoef | 0      | train\n",
      "----------------------------------------------------------\n",
      "1.3 M     Trainable params\n",
      "0         Non-trainable params\n",
      "1.3 M     Total params\n",
      "5.301     Total estimated model params size (MB)\n",
      "120       Modules in train mode\n",
      "0         Modules in eval mode\n"
     ]
    },
    {
     "data": {
      "application/vnd.jupyter.widget-view+json": {
       "model_id": "55752ecb04344cf6a89885280b421703",
       "version_major": 2,
       "version_minor": 0
      },
      "text/plain": [
       "Training: |                                                                                       | 0/? [00:00…"
      ]
     },
     "metadata": {},
     "output_type": "display_data"
    },
    {
     "data": {
      "application/vnd.jupyter.widget-view+json": {
       "model_id": "",
       "version_major": 2,
       "version_minor": 0
      },
      "text/plain": [
       "Validation: |                                                                                     | 0/? [00:00…"
      ]
     },
     "metadata": {},
     "output_type": "display_data"
    },
    {
     "name": "stderr",
     "output_type": "stream",
     "text": [
      "`Trainer.fit` stopped: `max_epochs=1` reached.\n"
     ]
    },
    {
     "name": "stdout",
     "output_type": "stream",
     "text": [
      "\n",
      "----------------------------------------------------------------------------------------------------\n",
      "| Epoch: 0 | Val Loss: 0.94326 | Val Pearson: k562_minp_rep1 : 0.26447242498397827, k562_minp_rep2 : 0.3310558795928955, k562_minp_avg : 0.3448077440261841, k562_sv40p_rep1 : 0.15791040658950806, k562_sv40p_rep2 : 0.1579209268093109, k562_sv40p_avg : 0.18070125579833984, hepg2_minp_rep1 : 0.2094680517911911, hepg2_minp_rep2 : 0.20864622294902802, hepg2_minp_avg : 0.23606589436531067, hepg2_sv40p_rep1 : 0.2315375655889511, hepg2_sv40p_rep2 : 0.1984216570854187, hepg2_sv40p_avg : 0.25001657009124756, | Train Pearson: 0.22451 \n",
      "----------------------------------------------------------------------------------------------------\n",
      "\n"
     ]
    },
    {
     "name": "stderr",
     "output_type": "stream",
     "text": [
      "LOCAL_RANK: 0 - CUDA_VISIBLE_DEVICES: [0,1]\n"
     ]
    },
    {
     "data": {
      "application/vnd.jupyter.widget-view+json": {
       "model_id": "7a263a211d124a578ab03e43661e6a7b",
       "version_major": 2,
       "version_minor": 0
      },
      "text/plain": [
       "Testing: |                                                                                        | 0/? [00:00…"
      ]
     },
     "metadata": {},
     "output_type": "display_data"
    },
    {
     "name": "stdout",
     "output_type": "stream",
     "text": [
      "────────────────────────────────────────────────────────────────────────────────────────────────────────────────────────\n",
      "         Test metric                 DataLoader 0\n",
      "────────────────────────────────────────────────────────────────────────────────────────────────────────────────────────\n",
      "          test_loss               0.9432611465454102\n",
      " test_pearson_hepg2_minp_avg      0.23606589436531067\n",
      "test_pearson_hepg2_minp_rep1      0.2094680517911911\n",
      "test_pearson_hepg2_minp_rep2      0.20864622294902802\n",
      "test_pearson_hepg2_sv40p_avg      0.25001657009124756\n",
      "test_pearson_hepg2_sv40p_rep1     0.2315375655889511\n",
      "test_pearson_hepg2_sv40p_rep2     0.1984216570854187\n",
      " test_pearson_k562_minp_avg       0.3448077440261841\n",
      " test_pearson_k562_minp_rep1      0.26447242498397827\n",
      " test_pearson_k562_minp_rep2      0.3310558795928955\n",
      " test_pearson_k562_sv40p_avg      0.18070125579833984\n",
      "test_pearson_k562_sv40p_rep1      0.15791040658950806\n",
      "test_pearson_k562_sv40p_rep2      0.1579209268093109\n",
      "────────────────────────────────────────────────────────────────────────────────────────────────────────────────────────\n"
     ]
    },
    {
     "data": {
      "text/plain": [
       "[{'test_loss': 0.9432611465454102,\n",
       "  'test_pearson_k562_minp_rep1': 0.26447242498397827,\n",
       "  'test_pearson_k562_minp_rep2': 0.3310558795928955,\n",
       "  'test_pearson_k562_minp_avg': 0.3448077440261841,\n",
       "  'test_pearson_k562_sv40p_rep1': 0.15791040658950806,\n",
       "  'test_pearson_k562_sv40p_rep2': 0.1579209268093109,\n",
       "  'test_pearson_k562_sv40p_avg': 0.18070125579833984,\n",
       "  'test_pearson_hepg2_minp_rep1': 0.2094680517911911,\n",
       "  'test_pearson_hepg2_minp_rep2': 0.20864622294902802,\n",
       "  'test_pearson_hepg2_minp_avg': 0.23606589436531067,\n",
       "  'test_pearson_hepg2_sv40p_rep1': 0.2315375655889511,\n",
       "  'test_pearson_hepg2_sv40p_rep2': 0.1984216570854187,\n",
       "  'test_pearson_hepg2_sv40p_avg': 0.25001657009124756}]"
      ]
     },
     "execution_count": 11,
     "metadata": {},
     "output_type": "execute_result"
    }
   ],
   "source": [
    "# Train the model\n",
    "trainer.fit(seq_model,\n",
    "            train_dataloaders=train_loader,\n",
    "            val_dataloaders=val_loader)\n",
    "trainer.test(seq_model, dataloaders=test_loader)"
   ]
  },
  {
   "cell_type": "code",
   "execution_count": null,
   "id": "4f3a9233-04bd-4255-96ee-54ff38fdad37",
   "metadata": {},
   "outputs": [],
   "source": []
  }
 ],
 "metadata": {
  "kernelspec": {
   "display_name": "Python [conda env:mpramnist]",
   "language": "python",
   "name": "conda-env-mpramnist-py"
  },
  "language_info": {
   "codemirror_mode": {
    "name": "ipython",
    "version": 3
   },
   "file_extension": ".py",
   "mimetype": "text/x-python",
   "name": "python",
   "nbconvert_exporter": "python",
   "pygments_lexer": "ipython3",
   "version": "3.12.7"
  }
 },
 "nbformat": 4,
 "nbformat_minor": 5
}
