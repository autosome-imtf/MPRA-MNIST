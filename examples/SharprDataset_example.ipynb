{
 "cells": [
  {
   "cell_type": "code",
   "execution_count": 1,
   "id": "b6376937-da7d-445b-a691-e701dd478b55",
   "metadata": {},
   "outputs": [],
   "source": [
    "import mpramnist\n",
    "from mpramnist.sharpdataset import SharpDataset\n",
    "\n",
    "from mpramnist import transforms as t\n",
    "from mpramnist import target_transforms as t_t\n",
    "import pandas as pd\n",
    "\n",
    "import numpy as np\n",
    "import torch\n",
    "import torch.nn as nn\n",
    "import torch.optim as optim\n",
    "import torch.utils.data as data\n",
    "\n",
    "import math\n",
    "\n",
    "import torch\n",
    "import torch.nn as nn\n",
    "import torch.nn.functional as F\n",
    " \n",
    "import boda"
   ]
  },
  {
   "cell_type": "markdown",
   "id": "6bb1d805-3499-48cc-83ac-d01f6593f6fd",
   "metadata": {},
   "source": [
    "# Initiate some parameters"
   ]
  },
  {
   "cell_type": "code",
   "execution_count": 2,
   "id": "27bca7cc-41f9-4f00-b62b-ce25633bb5fe",
   "metadata": {},
   "outputs": [
    {
     "name": "stdout",
     "output_type": "stream",
     "text": [
      "cuda\n"
     ]
    }
   ],
   "source": [
    "BATCH_SIZE = 512\n",
    "NUM_WORKERS = 103\n",
    "device = torch.device(\"cuda\" if torch.cuda.is_available() else \"cpu\")\n",
    "print(device)"
   ]
  },
  {
   "cell_type": "code",
   "execution_count": 3,
   "id": "9b5a9728-8f9d-4606-9d30-0b5453569e58",
   "metadata": {},
   "outputs": [
    {
     "data": {
      "text/plain": [
       "['k562_minp_rep1',\n",
       " 'k562_minp_rep2',\n",
       " 'k562_minp_avg',\n",
       " 'k562_sv40p_rep1',\n",
       " 'k562_sv40p_rep1',\n",
       " 'k562_sv40p_avg',\n",
       " 'hepg2_minp_rep1',\n",
       " 'hepg2_minp_rep2',\n",
       " 'hepg2_minp_avg',\n",
       " 'hepg2_sv40p_rep1',\n",
       " 'hepg2_sv40p_rep2',\n",
       " 'hepg2_sv40p_avg']"
      ]
     },
     "execution_count": 3,
     "metadata": {},
     "output_type": "execute_result"
    }
   ],
   "source": [
    "SharpDataset.ACTIVITY_COLUMNS"
   ]
  },
  {
   "cell_type": "code",
   "execution_count": 4,
   "id": "835eb05d-b12a-41c4-bfa4-d97d6d9e3eca",
   "metadata": {},
   "outputs": [],
   "source": [
    "# preprocessing\n",
    "train_transform = t.Compose([\n",
    "    t.Seq2Tensor(),\n",
    "    t.Reverse(0.5),\n",
    "])\n",
    "test_transform = t.Compose([ # трансформы теста слегка другие\n",
    "    t.Seq2Tensor(), \n",
    "])\n",
    "\n",
    "# load the data\n",
    "train_dataset = SharpDataset(split=\"train\", transform=train_transform)# for needed folds\n",
    "val_dataset = SharpDataset( split=\"val\", transform=test_transform) # use \"val\" for default validation set\n",
    "test_dataset = SharpDataset( split=\"test\", transform=test_transform) # use \"test\" for default test set\n",
    "\n",
    "# encapsulate data into dataloader form\n",
    "train_loader = data.DataLoader(dataset=train_dataset, batch_size=BATCH_SIZE, shuffle=True, num_workers = NUM_WORKERS)\n",
    "val_loader = data.DataLoader(dataset=val_dataset, batch_size=BATCH_SIZE, shuffle=False, num_workers = NUM_WORKERS)\n",
    "test_loader = data.DataLoader(dataset=test_dataset, batch_size=BATCH_SIZE, shuffle=False, num_workers = NUM_WORKERS)"
   ]
  },
  {
   "cell_type": "markdown",
   "id": "eaef92c7-e827-4568-bc15-6f73360627c5",
   "metadata": {},
   "source": [
    "# Some dataset Info"
   ]
  },
  {
   "cell_type": "code",
   "execution_count": 5,
   "id": "51225397-16f5-4e91-93b0-df40f1708597",
   "metadata": {
    "scrolled": true
   },
   "outputs": [
    {
     "name": "stdout",
     "output_type": "stream",
     "text": [
      "Dataset SharpDataset of size 457174 (MpraDaraset)\n",
      "    Number of datapoints: 457174\n",
      "    Default split folds: {}\n",
      "    Used split fold: train\n",
      "    Scalar features: {}\n",
      "    Vector features: {}\n",
      "    Cell types: []\n",
      "    Сell type used: None\n",
      "    Target columns that can be used: {}\n",
      "    Number of channels: 145\n",
      "    Sequence size: 1\n",
      "    Number of samples: {}\n",
      "    Description: SharprDataset is based on \n",
      "==================================================\n",
      "Dataset SharpDataset of size 10130 (MpraDaraset)\n",
      "    Number of datapoints: 10130\n",
      "    Default split folds: {}\n",
      "    Used split fold: val\n",
      "    Scalar features: {}\n",
      "    Vector features: {}\n",
      "    Cell types: []\n",
      "    Сell type used: None\n",
      "    Target columns that can be used: {}\n",
      "    Number of channels: 145\n",
      "    Sequence size: 1\n",
      "    Number of samples: {}\n",
      "    Description: SharprDataset is based on \n",
      "==================================================\n",
      "Dataset SharpDataset of size 10130 (MpraDaraset)\n",
      "    Number of datapoints: 10130\n",
      "    Default split folds: {}\n",
      "    Used split fold: test\n",
      "    Scalar features: {}\n",
      "    Vector features: {}\n",
      "    Cell types: []\n",
      "    Сell type used: None\n",
      "    Target columns that can be used: {}\n",
      "    Number of channels: 145\n",
      "    Sequence size: 1\n",
      "    Number of samples: {}\n",
      "    Description: SharprDataset is based on \n"
     ]
    }
   ],
   "source": [
    "print(train_dataset)\n",
    "print(\"=\"*50)\n",
    "print(val_dataset)\n",
    "print(\"=\"*50)\n",
    "print(test_dataset)"
   ]
  },
  {
   "cell_type": "markdown",
   "id": "150805b1-7f0f-4a92-9dd9-ee7732ad01b7",
   "metadata": {},
   "source": [
    "# Define LegNet"
   ]
  },
  {
   "cell_type": "code",
   "execution_count": 5,
   "id": "2457dd34-cd4d-4a3b-8b13-73d6c658cd02",
   "metadata": {},
   "outputs": [],
   "source": [
    "import math\n",
    "\n",
    "import torch\n",
    "import torch.nn as nn\n",
    "import torch.nn.functional as F\n",
    "\n",
    "def initialize_weights(m):\n",
    "    if isinstance(m, nn.Conv1d):\n",
    "        n = m.kernel_size[0] * m.out_channels\n",
    "        m.weight.data.normal_(0, math.sqrt(2 / n))\n",
    "        if m.bias is not None:\n",
    "            nn.init.constant_(m.bias.data, 0)\n",
    "    elif isinstance(m, nn.BatchNorm1d):\n",
    "        nn.init.constant_(m.weight.data, 1)\n",
    "        nn.init.constant_(m.bias.data, 0)\n",
    "    elif isinstance(m, nn.Linear):\n",
    "        m.weight.data.normal_(0, 0.001)\n",
    "        if m.bias is not None:\n",
    "            nn.init.constant_(m.bias.data, 0)\n",
    "\n",
    "class SELayer(nn.Module):\n",
    "    def __init__(self, inp, reduction=4):\n",
    "        super(SELayer, self).__init__()\n",
    "        self.fc = nn.Sequential(\n",
    "                nn.Linear(inp, int(inp // reduction)),\n",
    "                nn.SiLU(),\n",
    "                nn.Linear(int(inp // reduction), inp),\n",
    "                nn.Sigmoid()\n",
    "        )\n",
    "\n",
    "    def forward(self, x):\n",
    "        b, c, _, = x.size()\n",
    "        y = x.view(b, c, -1).mean(dim=2)\n",
    "        y = self.fc(y).view(b, c, 1)\n",
    "        return x * y\n",
    "\n",
    "class EffBlock(nn.Module):\n",
    "    def __init__(self, in_ch, ks, resize_factor, activation, out_ch=None, se_reduction=None):\n",
    "        super().__init__()\n",
    "        self.in_ch = in_ch\n",
    "        self.out_ch = self.in_ch if out_ch is None else out_ch\n",
    "        self.resize_factor = resize_factor\n",
    "        self.se_reduction = resize_factor if se_reduction is None else se_reduction\n",
    "        self.ks = ks\n",
    "        self.inner_dim = self.in_ch * self.resize_factor\n",
    "\n",
    "        block = nn.Sequential(\n",
    "                        nn.Conv1d(\n",
    "                            in_channels=self.in_ch,\n",
    "                            out_channels=self.inner_dim,\n",
    "                            kernel_size=1,\n",
    "                            padding='same',\n",
    "                            bias=False\n",
    "                       ),\n",
    "                       nn.BatchNorm1d(self.inner_dim),\n",
    "                       activation(),\n",
    "\n",
    "                       nn.Conv1d(\n",
    "                            in_channels=self.inner_dim,\n",
    "                            out_channels=self.inner_dim,\n",
    "                            kernel_size=ks,\n",
    "                            groups=self.inner_dim,\n",
    "                            padding='same',\n",
    "                            bias=False\n",
    "                       ),\n",
    "                       nn.BatchNorm1d(self.inner_dim),\n",
    "                       activation(),\n",
    "                       SELayer(self.inner_dim, reduction=self.se_reduction),\n",
    "                       nn.Conv1d(\n",
    "                            in_channels=self.inner_dim,\n",
    "                            out_channels=self.in_ch,\n",
    "                            kernel_size=1,\n",
    "                            padding='same',\n",
    "                            bias=False\n",
    "                       ),\n",
    "                       nn.BatchNorm1d(self.in_ch),\n",
    "                       activation(),\n",
    "        )\n",
    "\n",
    "        self.block = block\n",
    "\n",
    "    def forward(self, x):\n",
    "        return self.block(x)\n",
    "\n",
    "class LocalBlock(nn.Module):\n",
    "    def __init__(self, in_ch, ks, activation, out_ch=None):\n",
    "        super().__init__()\n",
    "        self.in_ch = in_ch\n",
    "        self.out_ch = self.in_ch if out_ch is None else out_ch\n",
    "        self.ks = ks\n",
    "\n",
    "        self.block = nn.Sequential(\n",
    "                       nn.Conv1d(\n",
    "                            in_channels=self.in_ch,\n",
    "                            out_channels=self.out_ch,\n",
    "                            kernel_size=self.ks,\n",
    "                            padding='same',\n",
    "                            bias=False\n",
    "                       ),\n",
    "                       nn.BatchNorm1d(self.out_ch),\n",
    "                       activation()\n",
    "        )\n",
    "\n",
    "    def forward(self, x):\n",
    "        return self.block(x)\n",
    "\n",
    "class ResidualConcat(nn.Module):\n",
    "    def __init__(self, fn):\n",
    "        super().__init__()\n",
    "        self.fn = fn\n",
    "\n",
    "    def forward(self, x, **kwargs):\n",
    "        return torch.concat([self.fn(x, **kwargs), x], dim=1)\n",
    "\n",
    "class MapperBlock(nn.Module):\n",
    "    def __init__(self, in_features, out_features, activation=nn.SiLU):\n",
    "        super().__init__()\n",
    "        self.block = nn.Sequential(\n",
    "            nn.BatchNorm1d(in_features),\n",
    "            nn.Conv1d(in_channels=in_features,\n",
    "                      out_channels=out_features,\n",
    "                      kernel_size=1),\n",
    "        )\n",
    "\n",
    "    def forward(self, x):\n",
    "        return self.block(x)\n",
    "\n",
    "class HumanLegNet(nn.Module):\n",
    "    def __init__(self,\n",
    "                 in_ch,\n",
    "                 output_dim,\n",
    "                 stem_ch,\n",
    "                 stem_ks,\n",
    "                 ef_ks,\n",
    "                 ef_block_sizes,\n",
    "                 pool_sizes,\n",
    "                 resize_factor,\n",
    "                 activation=nn.SiLU,\n",
    "                 ):\n",
    "        super().__init__()\n",
    "        assert len(pool_sizes) == len(ef_block_sizes)\n",
    "\n",
    "        self.in_ch = in_ch\n",
    "        self.stem = LocalBlock(in_ch=in_ch,\n",
    "                               out_ch=stem_ch,\n",
    "                               ks=stem_ks,\n",
    "                               activation=activation)\n",
    "\n",
    "        blocks = []\n",
    "        self.output_dim = output_dim\n",
    "        in_ch = stem_ch\n",
    "        out_ch = stem_ch\n",
    "        for pool_sz, out_ch in zip(pool_sizes, ef_block_sizes):\n",
    "            blc = nn.Sequential(\n",
    "                ResidualConcat(\n",
    "                    EffBlock(\n",
    "                        in_ch=in_ch,\n",
    "                        out_ch=in_ch,\n",
    "                        ks=ef_ks,\n",
    "                        resize_factor=resize_factor,\n",
    "                        activation=activation)\n",
    "                ),\n",
    "                LocalBlock(in_ch=in_ch * 2,\n",
    "                           out_ch=out_ch,\n",
    "                           ks=ef_ks,\n",
    "                           activation=activation),\n",
    "                nn.MaxPool1d(pool_sz) if pool_sz != 1 else nn.Identity()\n",
    "            )\n",
    "            in_ch = out_ch\n",
    "            blocks.append(blc)\n",
    "        self.main = nn.Sequential(*blocks)\n",
    "\n",
    "        self.mapper = MapperBlock(in_features=out_ch,\n",
    "                                  out_features=out_ch * 2)\n",
    "        self.head = nn.Sequential(nn.Linear(out_ch * 2, out_ch * 2),\n",
    "                                   nn.BatchNorm1d(out_ch * 2),\n",
    "                                   activation(),\n",
    "                                   nn.Linear(out_ch * 2, self.output_dim))\n",
    "\n",
    "    def forward(self, x):\n",
    "        x = self.stem(x)\n",
    "        x = self.main(x)\n",
    "        x = self.mapper(x)\n",
    "        x =  F.adaptive_avg_pool1d(x, 1)\n",
    "        x = x.squeeze(-1)\n",
    "        x = self.head(x)\n",
    "        x = x.squeeze(-1)\n",
    "        return x"
   ]
  },
  {
   "cell_type": "markdown",
   "id": "eebd7bee-8ab9-4b01-86a3-fdf584d9defb",
   "metadata": {
    "jp-MarkdownHeadingCollapsed": true
   },
   "source": [
    "# MAlinois"
   ]
  },
  {
   "cell_type": "code",
   "execution_count": 6,
   "id": "a7a8efa1-58ff-4cf1-b36c-34660f287154",
   "metadata": {},
   "outputs": [],
   "source": [
    "class Malinois(nn.Module):\n",
    "    def __init__(self, n_outputs = 12) -> None:\n",
    "        super().__init__()\n",
    "\n",
    "        self.model = boda.model.BassetBranched(\n",
    "            input_len=600,\n",
    "            n_outputs=n_outputs,\n",
    "            n_linear_layers=1,\n",
    "            linear_channels=1000,\n",
    "            linear_dropout_p = 0.11625456877954289,\n",
    "            n_branched_layers = 3,\n",
    "            branched_channels = 140,\n",
    "            branched_activation = \"ReLU\",\n",
    "            branched_dropout_p = 0.5757068086404574,\n",
    "            loss_criterion = \"L1KLmixed\",\n",
    "            loss_args={'beta': 5.0},\n",
    "        )\n",
    "    \n",
    "    def forward(self, x):\n",
    "        # x is of shape (batch_size, seqlen, 4). pad with zeros to (batch_size, 600, 4)\n",
    "        x = x.permute(0, 2, 1) # (batch_size, 4, 600)\n",
    "        \n",
    "        assert x.shape[1] <= 600, \"sequence length must be less than or equal to 600 for Malinois\"\n",
    "\n",
    "        pad_size = 600 - x.shape[1]\n",
    "        left_pad = pad_size // 2\n",
    "        right_pad = pad_size - left_pad\n",
    "        x = F.pad(x, (0, 0, left_pad, right_pad), mode='constant', value=0)\n",
    "        \n",
    "        x = x.permute(0, 2, 1)\n",
    "\n",
    "        encoded = self.model.encode(x)\n",
    "        decoded = self.model.decode(encoded)\n",
    "        output  = self.model.classify(decoded)\n",
    "        return output"
   ]
  },
  {
   "cell_type": "markdown",
   "id": "07460818-0b47-4e75-8125-6b37c89e2e39",
   "metadata": {},
   "source": [
    "# Define metrics and SeqModel"
   ]
  },
  {
   "cell_type": "code",
   "execution_count": 13,
   "id": "6aaa9021-a6d8-4394-8d1b-0d324b93a461",
   "metadata": {},
   "outputs": [],
   "source": [
    "import pytorch_lightning as L\n",
    "from torch.nn import functional as F\n",
    "\n",
    "def pearson_correlation(x, y):\n",
    "    vx = x - torch.mean(x, dim=0)\n",
    "    vy = y - torch.mean(y, dim=0)\n",
    "    pearsons = torch.sum(vx * vy, dim=0) / (torch.sqrt(torch.sum(vx ** 2, dim=0)) * torch.sqrt(torch.sum(vy ** 2, dim=0)) + 1e-10)\n",
    "    return torch.mean(pearsons)\n",
    "    \n",
    "class Seq1Model(L.LightningModule):\n",
    "    \n",
    "    def __init__(self, in_ch, out_ch, output_dim = 12, lr=3e-4):\n",
    "        super().__init__()\n",
    "        \n",
    "        self.model = HumanLegNet(in_ch=4,\n",
    "                                 output_dim = 12,\n",
    "                                 stem_ch=64,\n",
    "                                 stem_ks=11,\n",
    "                                 ef_ks=9,\n",
    "                                 ef_block_sizes=[256, 128, 128, 128, 64, 64],\n",
    "                                 pool_sizes=[2,2,2,2,2,2],\n",
    "                                 resize_factor=4)\n",
    "        self.model.apply(initialize_weights)\n",
    "        \n",
    "        #self.model = Malinois()\n",
    "        \n",
    "        self.loss = nn.MSELoss() \n",
    "        self.lr = lr\n",
    "        self.output = output_dim\n",
    "        self.val_loss = []\n",
    "        self.val_pears = [[] for i in range(output_dim)]\n",
    "        \n",
    "        self.last_batch = []\n",
    "        self.last_y = []\n",
    "        \n",
    "        self.train_loss = []\n",
    "        self.train_pears = []\n",
    "        \n",
    "    def forward(self, x):\n",
    "        return self.model(x)\n",
    "\n",
    "    def training_step(self, batch, batch_nb):\n",
    "        X, y = batch\n",
    "        y_hat = self.model(X)\n",
    "        loss = self.loss(y_hat, y)\n",
    "        \n",
    "        self.log(\"train_loss\", loss, prog_bar=True,  on_step=True, on_epoch=True, logger = True)\n",
    "        self.train_loss.append(loss)\n",
    "\n",
    "        corr = pearson_correlation(y_hat, y)\n",
    "        self.train_pears.append(corr)\n",
    "        lr = self.optimizers().param_groups[0]['lr']  # Get current learning rate\n",
    "        self.log('learning_rate', lr, on_step=True, on_epoch=True, prog_bar=True, logger=True)\n",
    "        return loss\n",
    "        \n",
    "        \n",
    "    def validation_step(self, batch, batch_idx):\n",
    "        x, y = batch\n",
    "        y_hat = self.model(x)\n",
    "        loss = self.loss(y_hat, y)\n",
    "        \n",
    "        self.log('val_loss', loss, on_step=False, on_epoch=True, prog_bar=True)\n",
    "        self.val_loss.append(loss)\n",
    "        \n",
    "        self.last_batch = y_hat\n",
    "        self.last_y = y\n",
    "        \n",
    "        for i in range(y.shape[-1]):\n",
    "            corr = pearson_correlation(y_hat[:,i], y[:,i])\n",
    "            self.val_pears[i].append(corr)\n",
    "        self.log(f\"val_pearson\", pearson_correlation(y_hat, y), on_epoch=True, prog_bar=True, on_step = False)\n",
    "        \n",
    "    def on_validation_epoch_end(self):\n",
    "\n",
    "        val_loss = torch.stack(self.val_loss, dim = 0).mean()\n",
    "        \n",
    "        if len(self.train_loss) != 0:\n",
    "            train_loss = torch.stack(self.train_loss, dim = 0).mean()\n",
    "            train_pears = torch.stack(self.train_pears, dim = 0).mean()\n",
    "        res_str = '|' + ' {}: {:.5f} |'.format(\"current_epoch\", self.current_epoch) \n",
    "        res_str += ' {}: {:.5f} |'.format(\"val_loss\", val_loss)\n",
    "        val_pears = []\n",
    "        for i in range(self.output):\n",
    "            if i%3 == 0:\n",
    "                res_str += '\\n{}: {:.5f} |'.format(f\"val_p_{SharpDataset.ACTIVITY_COLUMNS[i]}\", torch.tensor(self.val_pears[i]).mean())\n",
    "            else:\n",
    "                res_str += '{}: {:.5f} |'.format(f\"val_p_{SharpDataset.ACTIVITY_COLUMNS[i]}\", torch.tensor(self.val_pears[i]).mean())\n",
    "            val_pears.append(torch.tensor(self.val_pears[i]).mean())\n",
    "        if len(self.train_loss) != 0:\n",
    "            res_str += '\\n {}: {:.5f} |'.format(\"train_loss\", train_loss)\n",
    "            res_str += ' {}: {:.5f} |'.format(\"train_pearson\", train_pears)\n",
    "            res_str += ' {}: {:.5f} |'.format(\"val_pearson\", torch.tensor(val_pears).mean())\n",
    "        border = \"-\" * 100\n",
    "        print(\"\\n\".join(['', border, res_str, border, '']))\n",
    "        with open('/home/nios/5Term/examples/log.txt', \"a\") as out:\n",
    "            print(\"current_epoch: \", self.current_epoch, file = out) \n",
    "            print(\"last batch: \", self.last_batch, file=out)\n",
    "            print(\"last y: \", self.last_y, file=out)\n",
    "        self.val_loss.clear()\n",
    "        self.val_pears = [[] for i in range(self.output)]\n",
    "        if len(self.train_loss) != 0:\n",
    "            self.train_loss.clear()\n",
    "            self.train_pears.clear()\n",
    "        return None\n",
    "        \n",
    "    def test_step(self, batch, _):\n",
    "        x, y = batch\n",
    "        y_hat = self.model(x)\n",
    "        loss = self.loss(y_hat, y)\n",
    "        \n",
    "        self.log('test_loss', \n",
    "                 loss, \n",
    "                 prog_bar=True, \n",
    "                 on_step=False,\n",
    "                 on_epoch=True)\n",
    "        for i in range(y.shape[-1]):\n",
    "            corr = pearson_correlation(y_hat[:,i], y[:,i])\n",
    "            self.log(f\"val_pearson_{i}_{SharpDataset.ACTIVITY_COLUMNS[i]}\", corr, on_epoch=True, prog_bar=True, on_step = False)\n",
    "\n",
    "    def predict_step(self, batch, batch_idx, dataloader_idx=0):\n",
    "        if isinstance(batch, tuple) or isinstance(batch, list):\n",
    "            x, _ = batch\n",
    "        else:\n",
    "            x = batch\n",
    "        return self(x)\n",
    "\n",
    "    def configure_optimizers(self):\n",
    "        \n",
    "        ##### FOR LEGNET\n",
    "        self.optimizer = torch.optim.AdamW(self.parameters(),\n",
    "                                               lr=self.lr,\n",
    "                                               weight_decay = 0.01)\n",
    "        \n",
    "        lr_scheduler = torch.optim.lr_scheduler.OneCycleLR(self.optimizer, # type: ignore\n",
    "                                                        max_lr=self.lr,\n",
    "                                                        three_phase=False, \n",
    "                                                        total_steps=self.trainer.estimated_stepping_batches, # type: ignore\n",
    "                                                        pct_start=0.3,\n",
    "                                                        cycle_momentum =False)\n",
    "        lr_scheduler_config = {\n",
    "                    \"scheduler\": lr_scheduler,\n",
    "                    \"interval\": \"step\",\n",
    "                    \"frequency\": 1,\n",
    "                    \"name\": \"cycle_lr\"\n",
    "            }\n",
    "            \n",
    "        return [self.optimizer], [lr_scheduler_config]\n",
    "        '''\n",
    "        \n",
    "        ######### FOR MALINOIS\n",
    "        optimizer = torch.optim.Adam(filter(lambda p: p.requires_grad, self.parameters()), \n",
    "                                         lr=self.lr, weight_decay=1e-2, \n",
    "                                         betas=(0.8661062881299633, 0.879223105336538), amsgrad=True)\n",
    "        scheduler = torch.optim.lr_scheduler.CosineAnnealingWarmRestarts(optimizer, \n",
    "                                                                         T_0=4096)\n",
    "        scheduler = {\"scheduler\": scheduler, \"interval\": \"step\", \"frequency\": 1}\n",
    "        return [optimizer], [scheduler]\n",
    "        \n",
    "        self.optimizer = torch.optim.AdamW(self.parameters(),\n",
    "                                               lr=self.lr,\n",
    "                                               weight_decay = 0.01)\n",
    "        return self.optimizer\n",
    "        '''"
   ]
  },
  {
   "cell_type": "markdown",
   "id": "5f9acaf3-48e9-4e48-93a3-15370967c13f",
   "metadata": {
    "jp-MarkdownHeadingCollapsed": true
   },
   "source": [
    "# LR-finder"
   ]
  },
  {
   "cell_type": "code",
   "execution_count": 27,
   "id": "133ad826-b9ac-48da-b9ef-438a6027b338",
   "metadata": {},
   "outputs": [
    {
     "name": "stdout",
     "output_type": "stream",
     "text": [
      "torch.Size([64, 4, 145])\n",
      "torch.Size([64, 12])\n"
     ]
    }
   ],
   "source": [
    "batch = next(iter(train_loader))\n",
    "x, y = batch\n",
    "print(x.shape)\n",
    "print(y.shape)"
   ]
  },
  {
   "cell_type": "code",
   "execution_count": 8,
   "id": "f39625e7-13fe-4aee-ac75-eef142c518bf",
   "metadata": {},
   "outputs": [],
   "source": [
    "from torch_lr_finder import LRFinder\n",
    "import matplotlib.pyplot as plt\n",
    "\n",
    "model = HumanLegNet(in_ch=4,\n",
    "                                 output_dim = 12,\n",
    "                                 stem_ch=64,\n",
    "                                 stem_ks=11,\n",
    "                                 ef_ks=9,\n",
    "                                 ef_block_sizes=[256, 128, 128, 128, 64, 64],\n",
    "                                 pool_sizes=[2,2,2,2,2,2],\n",
    "                                 resize_factor=4)\n",
    "optimizer = torch.optim.AdamW(model.parameters(), lr=1e-7, weight_decay = 1e-2)\n",
    "'''\n",
    "model = Malinois()\n",
    "\n",
    "optimizer = torch.optim.Adam(filter(lambda p: p.requires_grad, model.parameters()), \n",
    "                                         lr=1e-7, weight_decay=1e-2, \n",
    "                                         betas=(0.8661062881299633, 0.879223105336538), amsgrad=True)\n",
    "'''\n",
    "optimizer = torch.optim.AdamW(model.parameters(), lr=1e-7, weight_decay = 1e-2)\n",
    "criterion = nn.MSELoss() "
   ]
  },
  {
   "cell_type": "code",
   "execution_count": 9,
   "id": "abfa2641-ede1-45fd-b867-3110eb8cbc53",
   "metadata": {},
   "outputs": [
    {
     "data": {
      "application/vnd.jupyter.widget-view+json": {
       "model_id": "d2b5f1304e77451cb51d6f9340c11223",
       "version_major": 2,
       "version_minor": 0
      },
      "text/plain": [
       "  0%|          | 0/100 [00:00<?, ?it/s]"
      ]
     },
     "metadata": {},
     "output_type": "display_data"
    },
    {
     "name": "stdout",
     "output_type": "stream",
     "text": [
      "Stopping early, the loss has diverged\n",
      "Learning rate search finished. See the graph with {finder_name}.plot()\n"
     ]
    }
   ],
   "source": [
    "lr_finder = LRFinder(model, optimizer, criterion, device=\"cuda\")\n",
    "lr_finder.range_test(train_loader, start_lr=1e-7, end_lr=10, num_iter=100)"
   ]
  },
  {
   "cell_type": "code",
   "execution_count": 10,
   "id": "58063b65-6cd0-4371-9473-e6a8498579f9",
   "metadata": {},
   "outputs": [
    {
     "name": "stdout",
     "output_type": "stream",
     "text": [
      "LR suggestion: steepest gradient\n",
      "Suggested LR: 1.59E-03\n"
     ]
    },
    {
     "data": {
      "image/png": "[encoded data removed]",
      "text/plain": [
       "<Figure size 640x480 with 1 Axes>"
      ]
     },
     "metadata": {},
     "output_type": "display_data"
    }
   ],
   "source": [
    "lr_finder.plot()  \n",
    "plt.show()"
   ]
  },
  {
   "cell_type": "markdown",
   "id": "841ac6be-3630-4d7c-b49c-a49176b11a2e",
   "metadata": {},
   "source": [
    "# Start train"
   ]
  },
  {
   "cell_type": "code",
   "execution_count": 14,
   "id": "e61afc00-ea49-4c2a-b5c1-dd24e1162eb3",
   "metadata": {},
   "outputs": [
    {
     "name": "stderr",
     "output_type": "stream",
     "text": [
      "Using 16bit Automatic Mixed Precision (AMP)\n",
      "GPU available: True (cuda), used: True\n",
      "TPU available: False, using: 0 TPU cores\n",
      "HPU available: False, using: 0 HPUs\n",
      "LOCAL_RANK: 0 - CUDA_VISIBLE_DEVICES: [0,1]\n",
      "Loading `train_dataloader` to estimate number of stepping batches.\n",
      "\n",
      "  | Name  | Type        | Params | Mode \n",
      "----------------------------------------------\n",
      "0 | model | HumanLegNet | 3.7 M  | train\n",
      "1 | loss  | MSELoss     | 0      | train\n",
      "----------------------------------------------\n",
      "3.7 M     Trainable params\n",
      "0         Non-trainable params\n",
      "3.7 M     Total params\n",
      "14.954    Total estimated model params size (MB)\n",
      "167       Modules in train mode\n",
      "0         Modules in eval mode\n"
     ]
    },
    {
     "data": {
      "application/vnd.jupyter.widget-view+json": {
       "model_id": "",
       "version_major": 2,
       "version_minor": 0
      },
      "text/plain": [
       "Sanity Checking: |                                                                                | 0/? [00:00…"
      ]
     },
     "metadata": {},
     "output_type": "display_data"
    },
    {
     "name": "stdout",
     "output_type": "stream",
     "text": [
      "\n",
      "----------------------------------------------------------------------------------------------------\n",
      "| current_epoch: 0.00000 | val_loss: 0.90920 |\n",
      "val_p_k562_minp_rep1: 0.03736 |val_p_k562_minp_rep2: 0.00168 |val_p_k562_minp_avg: -0.00551 |\n",
      "val_p_k562_sv40p_rep1: 0.00023 |val_p_k562_sv40p_rep1: -0.07210 |val_p_k562_sv40p_avg: -0.03296 |\n",
      "val_p_hepg2_minp_rep1: 0.02653 |val_p_hepg2_minp_rep2: 0.03914 |val_p_hepg2_minp_avg: -0.04686 |\n",
      "val_p_hepg2_sv40p_rep1: 0.06196 |val_p_hepg2_sv40p_rep2: -0.02845 |val_p_hepg2_sv40p_avg: 0.02867 |\n",
      "----------------------------------------------------------------------------------------------------\n",
      "\n"
     ]
    },
    {
     "data": {
      "application/vnd.jupyter.widget-view+json": {
       "model_id": "3cf9c3a4562a457295a93af4838fb734",
       "version_major": 2,
       "version_minor": 0
      },
      "text/plain": [
       "Training: |                                                                                       | 0/? [00:00…"
      ]
     },
     "metadata": {},
     "output_type": "display_data"
    },
    {
     "data": {
      "application/vnd.jupyter.widget-view+json": {
       "model_id": "",
       "version_major": 2,
       "version_minor": 0
      },
      "text/plain": [
       "Validation: |                                                                                     | 0/? [00:00…"
      ]
     },
     "metadata": {},
     "output_type": "display_data"
    },
    {
     "name": "stdout",
     "output_type": "stream",
     "text": [
      "\n",
      "----------------------------------------------------------------------------------------------------\n",
      "| current_epoch: 0.00000 | val_loss: 0.96013 |\n",
      "val_p_k562_minp_rep1: 0.22434 |val_p_k562_minp_rep2: 0.27666 |val_p_k562_minp_avg: 0.28956 |\n",
      "val_p_k562_sv40p_rep1: 0.10689 |val_p_k562_sv40p_rep1: 0.10692 |val_p_k562_sv40p_avg: 0.10731 |\n",
      "val_p_hepg2_minp_rep1: 0.16579 |val_p_hepg2_minp_rep2: 0.14706 |val_p_hepg2_minp_avg: 0.17329 |\n",
      "val_p_hepg2_sv40p_rep1: 0.17188 |val_p_hepg2_sv40p_rep2: 0.13943 |val_p_hepg2_sv40p_avg: 0.17892 |\n",
      " train_loss: 0.93668 | train_pearson: 0.23879 | val_pearson: 0.17400 |\n",
      "----------------------------------------------------------------------------------------------------\n",
      "\n"
     ]
    },
    {
     "data": {
      "application/vnd.jupyter.widget-view+json": {
       "model_id": "",
       "version_major": 2,
       "version_minor": 0
      },
      "text/plain": [
       "Validation: |                                                                                     | 0/? [00:00…"
      ]
     },
     "metadata": {},
     "output_type": "display_data"
    },
    {
     "name": "stdout",
     "output_type": "stream",
     "text": [
      "\n",
      "----------------------------------------------------------------------------------------------------\n",
      "| current_epoch: 1.00000 | val_loss: 0.95036 |\n",
      "val_p_k562_minp_rep1: 0.25046 |val_p_k562_minp_rep2: 0.29874 |val_p_k562_minp_avg: 0.31759 |\n",
      "val_p_k562_sv40p_rep1: 0.14242 |val_p_k562_sv40p_rep1: 0.14245 |val_p_k562_sv40p_avg: 0.15983 |\n",
      "val_p_hepg2_minp_rep1: 0.18865 |val_p_hepg2_minp_rep2: 0.17775 |val_p_hepg2_minp_avg: 0.20555 |\n",
      "val_p_hepg2_sv40p_rep1: 0.22910 |val_p_hepg2_sv40p_rep2: 0.18402 |val_p_hepg2_sv40p_avg: 0.24047 |\n",
      " train_loss: 0.90003 | train_pearson: 0.30937 | val_pearson: 0.21142 |\n",
      "----------------------------------------------------------------------------------------------------\n",
      "\n"
     ]
    },
    {
     "data": {
      "application/vnd.jupyter.widget-view+json": {
       "model_id": "",
       "version_major": 2,
       "version_minor": 0
      },
      "text/plain": [
       "Validation: |                                                                                     | 0/? [00:00…"
      ]
     },
     "metadata": {},
     "output_type": "display_data"
    },
    {
     "name": "stdout",
     "output_type": "stream",
     "text": [
      "\n",
      "----------------------------------------------------------------------------------------------------\n",
      "| current_epoch: 2.00000 | val_loss: 0.95747 |\n",
      "val_p_k562_minp_rep1: 0.21685 |val_p_k562_minp_rep2: 0.26611 |val_p_k562_minp_avg: 0.28074 |\n",
      "val_p_k562_sv40p_rep1: 0.11505 |val_p_k562_sv40p_rep1: 0.11511 |val_p_k562_sv40p_avg: 0.12240 |\n",
      "val_p_hepg2_minp_rep1: 0.18329 |val_p_hepg2_minp_rep2: 0.15852 |val_p_hepg2_minp_avg: 0.19223 |\n",
      "val_p_hepg2_sv40p_rep1: 0.17704 |val_p_hepg2_sv40p_rep2: 0.16038 |val_p_hepg2_sv40p_avg: 0.19430 |\n",
      " train_loss: 0.88584 | train_pearson: 0.33164 | val_pearson: 0.18184 |\n",
      "----------------------------------------------------------------------------------------------------\n",
      "\n"
     ]
    },
    {
     "data": {
      "application/vnd.jupyter.widget-view+json": {
       "model_id": "",
       "version_major": 2,
       "version_minor": 0
      },
      "text/plain": [
       "Validation: |                                                                                     | 0/? [00:00…"
      ]
     },
     "metadata": {},
     "output_type": "display_data"
    },
    {
     "name": "stdout",
     "output_type": "stream",
     "text": [
      "\n",
      "----------------------------------------------------------------------------------------------------\n",
      "| current_epoch: 3.00000 | val_loss: 0.93129 |\n",
      "val_p_k562_minp_rep1: 0.24940 |val_p_k562_minp_rep2: 0.30524 |val_p_k562_minp_avg: 0.31952 |\n",
      "val_p_k562_sv40p_rep1: 0.14750 |val_p_k562_sv40p_rep1: 0.14752 |val_p_k562_sv40p_avg: 0.16148 |\n",
      "val_p_hepg2_minp_rep1: 0.21089 |val_p_hepg2_minp_rep2: 0.19961 |val_p_hepg2_minp_avg: 0.23193 |\n",
      "val_p_hepg2_sv40p_rep1: 0.21977 |val_p_hepg2_sv40p_rep2: 0.20669 |val_p_hepg2_sv40p_avg: 0.25067 |\n",
      " train_loss: 0.87897 | train_pearson: 0.34176 | val_pearson: 0.22085 |\n",
      "----------------------------------------------------------------------------------------------------\n",
      "\n"
     ]
    },
    {
     "data": {
      "application/vnd.jupyter.widget-view+json": {
       "model_id": "",
       "version_major": 2,
       "version_minor": 0
      },
      "text/plain": [
       "Validation: |                                                                                     | 0/? [00:00…"
      ]
     },
     "metadata": {},
     "output_type": "display_data"
    },
    {
     "name": "stdout",
     "output_type": "stream",
     "text": [
      "\n",
      "----------------------------------------------------------------------------------------------------\n",
      "| current_epoch: 4.00000 | val_loss: 0.93441 |\n",
      "val_p_k562_minp_rep1: 0.24513 |val_p_k562_minp_rep2: 0.31700 |val_p_k562_minp_avg: 0.32603 |\n",
      "val_p_k562_sv40p_rep1: 0.13969 |val_p_k562_sv40p_rep1: 0.13971 |val_p_k562_sv40p_avg: 0.15965 |\n",
      "val_p_hepg2_minp_rep1: 0.20488 |val_p_hepg2_minp_rep2: 0.17664 |val_p_hepg2_minp_avg: 0.21826 |\n",
      "val_p_hepg2_sv40p_rep1: 0.20699 |val_p_hepg2_sv40p_rep2: 0.18644 |val_p_hepg2_sv40p_avg: 0.22976 |\n",
      " train_loss: 0.87367 | train_pearson: 0.34933 | val_pearson: 0.21252 |\n",
      "----------------------------------------------------------------------------------------------------\n",
      "\n"
     ]
    },
    {
     "data": {
      "application/vnd.jupyter.widget-view+json": {
       "model_id": "",
       "version_major": 2,
       "version_minor": 0
      },
      "text/plain": [
       "Validation: |                                                                                     | 0/? [00:00…"
      ]
     },
     "metadata": {},
     "output_type": "display_data"
    },
    {
     "name": "stdout",
     "output_type": "stream",
     "text": [
      "\n",
      "----------------------------------------------------------------------------------------------------\n",
      "| current_epoch: 5.00000 | val_loss: 0.94044 |\n",
      "val_p_k562_minp_rep1: 0.25179 |val_p_k562_minp_rep2: 0.31547 |val_p_k562_minp_avg: 0.32851 |\n",
      "val_p_k562_sv40p_rep1: 0.14348 |val_p_k562_sv40p_rep1: 0.14348 |val_p_k562_sv40p_avg: 0.16249 |\n",
      "val_p_hepg2_minp_rep1: 0.20209 |val_p_hepg2_minp_rep2: 0.18711 |val_p_hepg2_minp_avg: 0.21998 |\n",
      "val_p_hepg2_sv40p_rep1: 0.20350 |val_p_hepg2_sv40p_rep2: 0.17391 |val_p_hepg2_sv40p_avg: 0.22088 |\n",
      " train_loss: 0.86786 | train_pearson: 0.35741 | val_pearson: 0.21272 |\n",
      "----------------------------------------------------------------------------------------------------\n",
      "\n"
     ]
    },
    {
     "data": {
      "application/vnd.jupyter.widget-view+json": {
       "model_id": "",
       "version_major": 2,
       "version_minor": 0
      },
      "text/plain": [
       "Validation: |                                                                                     | 0/? [00:00…"
      ]
     },
     "metadata": {},
     "output_type": "display_data"
    },
    {
     "name": "stdout",
     "output_type": "stream",
     "text": [
      "\n",
      "----------------------------------------------------------------------------------------------------\n",
      "| current_epoch: 6.00000 | val_loss: 0.94391 |\n",
      "val_p_k562_minp_rep1: 0.25379 |val_p_k562_minp_rep2: 0.31552 |val_p_k562_minp_avg: 0.33025 |\n",
      "val_p_k562_sv40p_rep1: 0.14430 |val_p_k562_sv40p_rep1: 0.14430 |val_p_k562_sv40p_avg: 0.16066 |\n",
      "val_p_hepg2_minp_rep1: 0.21452 |val_p_hepg2_minp_rep2: 0.18268 |val_p_hepg2_minp_avg: 0.22812 |\n",
      "val_p_hepg2_sv40p_rep1: 0.21813 |val_p_hepg2_sv40p_rep2: 0.18811 |val_p_hepg2_sv40p_avg: 0.23732 |\n",
      " train_loss: 0.86245 | train_pearson: 0.36497 | val_pearson: 0.21814 |\n",
      "----------------------------------------------------------------------------------------------------\n",
      "\n"
     ]
    },
    {
     "data": {
      "application/vnd.jupyter.widget-view+json": {
       "model_id": "",
       "version_major": 2,
       "version_minor": 0
      },
      "text/plain": [
       "Validation: |                                                                                     | 0/? [00:00…"
      ]
     },
     "metadata": {},
     "output_type": "display_data"
    },
    {
     "name": "stdout",
     "output_type": "stream",
     "text": [
      "\n",
      "----------------------------------------------------------------------------------------------------\n",
      "| current_epoch: 7.00000 | val_loss: 0.92989 |\n",
      "val_p_k562_minp_rep1: 0.25342 |val_p_k562_minp_rep2: 0.31882 |val_p_k562_minp_avg: 0.33286 |\n",
      "val_p_k562_sv40p_rep1: 0.14522 |val_p_k562_sv40p_rep1: 0.14522 |val_p_k562_sv40p_avg: 0.16648 |\n",
      "val_p_hepg2_minp_rep1: 0.22517 |val_p_hepg2_minp_rep2: 0.21160 |val_p_hepg2_minp_avg: 0.24968 |\n",
      "val_p_hepg2_sv40p_rep1: 0.22457 |val_p_hepg2_sv40p_rep2: 0.21468 |val_p_hepg2_sv40p_avg: 0.25769 |\n",
      " train_loss: 0.85756 | train_pearson: 0.37169 | val_pearson: 0.22878 |\n",
      "----------------------------------------------------------------------------------------------------\n",
      "\n"
     ]
    },
    {
     "data": {
      "application/vnd.jupyter.widget-view+json": {
       "model_id": "",
       "version_major": 2,
       "version_minor": 0
      },
      "text/plain": [
       "Validation: |                                                                                     | 0/? [00:00…"
      ]
     },
     "metadata": {},
     "output_type": "display_data"
    },
    {
     "name": "stdout",
     "output_type": "stream",
     "text": [
      "\n",
      "----------------------------------------------------------------------------------------------------\n",
      "| current_epoch: 8.00000 | val_loss: 0.94689 |\n",
      "val_p_k562_minp_rep1: 0.25276 |val_p_k562_minp_rep2: 0.31043 |val_p_k562_minp_avg: 0.32707 |\n",
      "val_p_k562_sv40p_rep1: 0.13635 |val_p_k562_sv40p_rep1: 0.13636 |val_p_k562_sv40p_avg: 0.14002 |\n",
      "val_p_hepg2_minp_rep1: 0.21076 |val_p_hepg2_minp_rep2: 0.19680 |val_p_hepg2_minp_avg: 0.23524 |\n",
      "val_p_hepg2_sv40p_rep1: 0.19780 |val_p_hepg2_sv40p_rep2: 0.18453 |val_p_hepg2_sv40p_avg: 0.22389 |\n",
      " train_loss: 0.85291 | train_pearson: 0.37800 | val_pearson: 0.21267 |\n",
      "----------------------------------------------------------------------------------------------------\n",
      "\n"
     ]
    },
    {
     "data": {
      "application/vnd.jupyter.widget-view+json": {
       "model_id": "",
       "version_major": 2,
       "version_minor": 0
      },
      "text/plain": [
       "Validation: |                                                                                     | 0/? [00:00…"
      ]
     },
     "metadata": {},
     "output_type": "display_data"
    },
    {
     "name": "stdout",
     "output_type": "stream",
     "text": [
      "\n",
      "----------------------------------------------------------------------------------------------------\n",
      "| current_epoch: 9.00000 | val_loss: 0.94023 |\n",
      "val_p_k562_minp_rep1: 0.24318 |val_p_k562_minp_rep2: 0.32348 |val_p_k562_minp_avg: 0.33078 |\n",
      "val_p_k562_sv40p_rep1: 0.15294 |val_p_k562_sv40p_rep1: 0.15292 |val_p_k562_sv40p_avg: 0.16557 |\n",
      "val_p_hepg2_minp_rep1: 0.22120 |val_p_hepg2_minp_rep2: 0.18386 |val_p_hepg2_minp_avg: 0.23731 |\n",
      "val_p_hepg2_sv40p_rep1: 0.20913 |val_p_hepg2_sv40p_rep2: 0.20353 |val_p_hepg2_sv40p_avg: 0.24218 |\n",
      " train_loss: 0.84755 | train_pearson: 0.38471 | val_pearson: 0.22217 |\n",
      "----------------------------------------------------------------------------------------------------\n",
      "\n"
     ]
    },
    {
     "data": {
      "application/vnd.jupyter.widget-view+json": {
       "model_id": "",
       "version_major": 2,
       "version_minor": 0
      },
      "text/plain": [
       "Validation: |                                                                                     | 0/? [00:00…"
      ]
     },
     "metadata": {},
     "output_type": "display_data"
    },
    {
     "name": "stdout",
     "output_type": "stream",
     "text": [
      "\n",
      "----------------------------------------------------------------------------------------------------\n",
      "| current_epoch: 10.00000 | val_loss: 0.94778 |\n",
      "val_p_k562_minp_rep1: 0.23834 |val_p_k562_minp_rep2: 0.31012 |val_p_k562_minp_avg: 0.32212 |\n",
      "val_p_k562_sv40p_rep1: 0.13766 |val_p_k562_sv40p_rep1: 0.13766 |val_p_k562_sv40p_avg: 0.13372 |\n",
      "val_p_hepg2_minp_rep1: 0.20510 |val_p_hepg2_minp_rep2: 0.15716 |val_p_hepg2_minp_avg: 0.21224 |\n",
      "val_p_hepg2_sv40p_rep1: 0.16397 |val_p_hepg2_sv40p_rep2: 0.16350 |val_p_hepg2_sv40p_avg: 0.18663 |\n",
      " train_loss: 0.84316 | train_pearson: 0.39051 | val_pearson: 0.19735 |\n",
      "----------------------------------------------------------------------------------------------------\n",
      "\n"
     ]
    },
    {
     "data": {
      "application/vnd.jupyter.widget-view+json": {
       "model_id": "",
       "version_major": 2,
       "version_minor": 0
      },
      "text/plain": [
       "Validation: |                                                                                     | 0/? [00:00…"
      ]
     },
     "metadata": {},
     "output_type": "display_data"
    },
    {
     "name": "stdout",
     "output_type": "stream",
     "text": [
      "\n",
      "----------------------------------------------------------------------------------------------------\n",
      "| current_epoch: 11.00000 | val_loss: 0.92989 |\n",
      "val_p_k562_minp_rep1: 0.24241 |val_p_k562_minp_rep2: 0.30666 |val_p_k562_minp_avg: 0.31932 |\n",
      "val_p_k562_sv40p_rep1: 0.15032 |val_p_k562_sv40p_rep1: 0.15032 |val_p_k562_sv40p_avg: 0.16307 |\n",
      "val_p_hepg2_minp_rep1: 0.22174 |val_p_hepg2_minp_rep2: 0.21050 |val_p_hepg2_minp_avg: 0.24959 |\n",
      "val_p_hepg2_sv40p_rep1: 0.24596 |val_p_hepg2_sv40p_rep2: 0.23095 |val_p_hepg2_sv40p_avg: 0.28079 |\n",
      " train_loss: 0.83861 | train_pearson: 0.39632 | val_pearson: 0.23097 |\n",
      "----------------------------------------------------------------------------------------------------\n",
      "\n"
     ]
    },
    {
     "data": {
      "application/vnd.jupyter.widget-view+json": {
       "model_id": "",
       "version_major": 2,
       "version_minor": 0
      },
      "text/plain": [
       "Validation: |                                                                                     | 0/? [00:00…"
      ]
     },
     "metadata": {},
     "output_type": "display_data"
    },
    {
     "name": "stdout",
     "output_type": "stream",
     "text": [
      "\n",
      "----------------------------------------------------------------------------------------------------\n",
      "| current_epoch: 12.00000 | val_loss: 0.92918 |\n",
      "val_p_k562_minp_rep1: 0.24084 |val_p_k562_minp_rep2: 0.32376 |val_p_k562_minp_avg: 0.33306 |\n",
      "val_p_k562_sv40p_rep1: 0.14984 |val_p_k562_sv40p_rep1: 0.14984 |val_p_k562_sv40p_avg: 0.15939 |\n",
      "val_p_hepg2_minp_rep1: 0.21667 |val_p_hepg2_minp_rep2: 0.21312 |val_p_hepg2_minp_avg: 0.24895 |\n",
      "val_p_hepg2_sv40p_rep1: 0.22374 |val_p_hepg2_sv40p_rep2: 0.22018 |val_p_hepg2_sv40p_avg: 0.26051 |\n",
      " train_loss: 0.83364 | train_pearson: 0.40249 | val_pearson: 0.22832 |\n",
      "----------------------------------------------------------------------------------------------------\n",
      "\n"
     ]
    },
    {
     "data": {
      "application/vnd.jupyter.widget-view+json": {
       "model_id": "",
       "version_major": 2,
       "version_minor": 0
      },
      "text/plain": [
       "Validation: |                                                                                     | 0/? [00:00…"
      ]
     },
     "metadata": {},
     "output_type": "display_data"
    },
    {
     "name": "stdout",
     "output_type": "stream",
     "text": [
      "\n",
      "----------------------------------------------------------------------------------------------------\n",
      "| current_epoch: 13.00000 | val_loss: 0.93970 |\n",
      "val_p_k562_minp_rep1: 0.25609 |val_p_k562_minp_rep2: 0.31422 |val_p_k562_minp_avg: 0.33414 |\n",
      "val_p_k562_sv40p_rep1: 0.14293 |val_p_k562_sv40p_rep1: 0.14293 |val_p_k562_sv40p_avg: 0.14049 |\n",
      "val_p_hepg2_minp_rep1: 0.22085 |val_p_hepg2_minp_rep2: 0.18566 |val_p_hepg2_minp_avg: 0.23544 |\n",
      "val_p_hepg2_sv40p_rep1: 0.18413 |val_p_hepg2_sv40p_rep2: 0.18890 |val_p_hepg2_sv40p_avg: 0.21828 |\n",
      " train_loss: 0.82898 | train_pearson: 0.40795 | val_pearson: 0.21367 |\n",
      "----------------------------------------------------------------------------------------------------\n",
      "\n"
     ]
    },
    {
     "data": {
      "application/vnd.jupyter.widget-view+json": {
       "model_id": "",
       "version_major": 2,
       "version_minor": 0
      },
      "text/plain": [
       "Validation: |                                                                                     | 0/? [00:00…"
      ]
     },
     "metadata": {},
     "output_type": "display_data"
    },
    {
     "name": "stdout",
     "output_type": "stream",
     "text": [
      "\n",
      "----------------------------------------------------------------------------------------------------\n",
      "| current_epoch: 14.00000 | val_loss: 0.94596 |\n",
      "val_p_k562_minp_rep1: 0.24737 |val_p_k562_minp_rep2: 0.31705 |val_p_k562_minp_avg: 0.33327 |\n",
      "val_p_k562_sv40p_rep1: 0.15664 |val_p_k562_sv40p_rep1: 0.15664 |val_p_k562_sv40p_avg: 0.15613 |\n",
      "val_p_hepg2_minp_rep1: 0.21770 |val_p_hepg2_minp_rep2: 0.18657 |val_p_hepg2_minp_avg: 0.24250 |\n",
      "val_p_hepg2_sv40p_rep1: 0.18028 |val_p_hepg2_sv40p_rep2: 0.19283 |val_p_hepg2_sv40p_avg: 0.21889 |\n",
      " train_loss: 0.82340 | train_pearson: 0.41505 | val_pearson: 0.21716 |\n",
      "----------------------------------------------------------------------------------------------------\n",
      "\n"
     ]
    },
    {
     "data": {
      "application/vnd.jupyter.widget-view+json": {
       "model_id": "",
       "version_major": 2,
       "version_minor": 0
      },
      "text/plain": [
       "Validation: |                                                                                     | 0/? [00:00…"
      ]
     },
     "metadata": {},
     "output_type": "display_data"
    },
    {
     "name": "stdout",
     "output_type": "stream",
     "text": [
      "\n",
      "----------------------------------------------------------------------------------------------------\n",
      "| current_epoch: 15.00000 | val_loss: 0.95380 |\n",
      "val_p_k562_minp_rep1: 0.22684 |val_p_k562_minp_rep2: 0.31600 |val_p_k562_minp_avg: 0.32150 |\n",
      "val_p_k562_sv40p_rep1: 0.12794 |val_p_k562_sv40p_rep1: 0.12794 |val_p_k562_sv40p_avg: 0.13179 |\n",
      "val_p_hepg2_minp_rep1: 0.21258 |val_p_hepg2_minp_rep2: 0.18492 |val_p_hepg2_minp_avg: 0.23056 |\n",
      "val_p_hepg2_sv40p_rep1: 0.21240 |val_p_hepg2_sv40p_rep2: 0.20660 |val_p_hepg2_sv40p_avg: 0.24639 |\n",
      " train_loss: 0.81825 | train_pearson: 0.42084 | val_pearson: 0.21212 |\n",
      "----------------------------------------------------------------------------------------------------\n",
      "\n"
     ]
    },
    {
     "data": {
      "application/vnd.jupyter.widget-view+json": {
       "model_id": "",
       "version_major": 2,
       "version_minor": 0
      },
      "text/plain": [
       "Validation: |                                                                                     | 0/? [00:00…"
      ]
     },
     "metadata": {},
     "output_type": "display_data"
    },
    {
     "name": "stdout",
     "output_type": "stream",
     "text": [
      "\n",
      "----------------------------------------------------------------------------------------------------\n",
      "| current_epoch: 16.00000 | val_loss: 0.94476 |\n",
      "val_p_k562_minp_rep1: 0.24189 |val_p_k562_minp_rep2: 0.32817 |val_p_k562_minp_avg: 0.33721 |\n",
      "val_p_k562_sv40p_rep1: 0.14663 |val_p_k562_sv40p_rep1: 0.14663 |val_p_k562_sv40p_avg: 0.15628 |\n",
      "val_p_hepg2_minp_rep1: 0.21551 |val_p_hepg2_minp_rep2: 0.20336 |val_p_hepg2_minp_avg: 0.24360 |\n",
      "val_p_hepg2_sv40p_rep1: 0.21986 |val_p_hepg2_sv40p_rep2: 0.20312 |val_p_hepg2_sv40p_avg: 0.24792 |\n",
      " train_loss: 0.81290 | train_pearson: 0.42719 | val_pearson: 0.22418 |\n",
      "----------------------------------------------------------------------------------------------------\n",
      "\n"
     ]
    },
    {
     "data": {
      "application/vnd.jupyter.widget-view+json": {
       "model_id": "",
       "version_major": 2,
       "version_minor": 0
      },
      "text/plain": [
       "Validation: |                                                                                     | 0/? [00:00…"
      ]
     },
     "metadata": {},
     "output_type": "display_data"
    },
    {
     "name": "stdout",
     "output_type": "stream",
     "text": [
      "\n",
      "----------------------------------------------------------------------------------------------------\n",
      "| current_epoch: 17.00000 | val_loss: 0.93894 |\n",
      "val_p_k562_minp_rep1: 0.25424 |val_p_k562_minp_rep2: 0.32509 |val_p_k562_minp_avg: 0.34266 |\n",
      "val_p_k562_sv40p_rep1: 0.15458 |val_p_k562_sv40p_rep1: 0.15458 |val_p_k562_sv40p_avg: 0.15599 |\n",
      "val_p_hepg2_minp_rep1: 0.22390 |val_p_hepg2_minp_rep2: 0.19701 |val_p_hepg2_minp_avg: 0.24361 |\n",
      "val_p_hepg2_sv40p_rep1: 0.22371 |val_p_hepg2_sv40p_rep2: 0.21022 |val_p_hepg2_sv40p_avg: 0.25428 |\n",
      " train_loss: 0.80731 | train_pearson: 0.43335 | val_pearson: 0.22832 |\n",
      "----------------------------------------------------------------------------------------------------\n",
      "\n"
     ]
    },
    {
     "data": {
      "application/vnd.jupyter.widget-view+json": {
       "model_id": "",
       "version_major": 2,
       "version_minor": 0
      },
      "text/plain": [
       "Validation: |                                                                                     | 0/? [00:00…"
      ]
     },
     "metadata": {},
     "output_type": "display_data"
    },
    {
     "name": "stdout",
     "output_type": "stream",
     "text": [
      "\n",
      "----------------------------------------------------------------------------------------------------\n",
      "| current_epoch: 18.00000 | val_loss: 0.94369 |\n",
      "val_p_k562_minp_rep1: 0.23387 |val_p_k562_minp_rep2: 0.31441 |val_p_k562_minp_avg: 0.32204 |\n",
      "val_p_k562_sv40p_rep1: 0.14196 |val_p_k562_sv40p_rep1: 0.14196 |val_p_k562_sv40p_avg: 0.14996 |\n",
      "val_p_hepg2_minp_rep1: 0.21137 |val_p_hepg2_minp_rep2: 0.20926 |val_p_hepg2_minp_avg: 0.24491 |\n",
      "val_p_hepg2_sv40p_rep1: 0.21935 |val_p_hepg2_sv40p_rep2: 0.20906 |val_p_hepg2_sv40p_avg: 0.25413 |\n",
      " train_loss: 0.80255 | train_pearson: 0.43888 | val_pearson: 0.22103 |\n",
      "----------------------------------------------------------------------------------------------------\n",
      "\n"
     ]
    },
    {
     "data": {
      "application/vnd.jupyter.widget-view+json": {
       "model_id": "",
       "version_major": 2,
       "version_minor": 0
      },
      "text/plain": [
       "Validation: |                                                                                     | 0/? [00:00…"
      ]
     },
     "metadata": {},
     "output_type": "display_data"
    },
    {
     "name": "stdout",
     "output_type": "stream",
     "text": [
      "\n",
      "----------------------------------------------------------------------------------------------------\n",
      "| current_epoch: 19.00000 | val_loss: 0.94117 |\n",
      "val_p_k562_minp_rep1: 0.24603 |val_p_k562_minp_rep2: 0.32427 |val_p_k562_minp_avg: 0.33778 |\n",
      "val_p_k562_sv40p_rep1: 0.15122 |val_p_k562_sv40p_rep1: 0.15122 |val_p_k562_sv40p_avg: 0.15371 |\n",
      "val_p_hepg2_minp_rep1: 0.21409 |val_p_hepg2_minp_rep2: 0.19409 |val_p_hepg2_minp_avg: 0.23976 |\n",
      "val_p_hepg2_sv40p_rep1: 0.19698 |val_p_hepg2_sv40p_rep2: 0.19911 |val_p_hepg2_sv40p_avg: 0.23135 |\n",
      " train_loss: 0.79716 | train_pearson: 0.44494 | val_pearson: 0.21997 |\n",
      "----------------------------------------------------------------------------------------------------\n",
      "\n"
     ]
    },
    {
     "data": {
      "application/vnd.jupyter.widget-view+json": {
       "model_id": "",
       "version_major": 2,
       "version_minor": 0
      },
      "text/plain": [
       "Validation: |                                                                                     | 0/? [00:00…"
      ]
     },
     "metadata": {},
     "output_type": "display_data"
    },
    {
     "name": "stdout",
     "output_type": "stream",
     "text": [
      "\n",
      "----------------------------------------------------------------------------------------------------\n",
      "| current_epoch: 20.00000 | val_loss: 0.94112 |\n",
      "val_p_k562_minp_rep1: 0.25437 |val_p_k562_minp_rep2: 0.31489 |val_p_k562_minp_avg: 0.33712 |\n",
      "val_p_k562_sv40p_rep1: 0.13446 |val_p_k562_sv40p_rep1: 0.13446 |val_p_k562_sv40p_avg: 0.13702 |\n",
      "val_p_hepg2_minp_rep1: 0.22857 |val_p_hepg2_minp_rep2: 0.17908 |val_p_hepg2_minp_avg: 0.24010 |\n",
      "val_p_hepg2_sv40p_rep1: 0.17904 |val_p_hepg2_sv40p_rep2: 0.18204 |val_p_hepg2_sv40p_avg: 0.21139 |\n",
      " train_loss: 0.79216 | train_pearson: 0.45075 | val_pearson: 0.21105 |\n",
      "----------------------------------------------------------------------------------------------------\n",
      "\n"
     ]
    },
    {
     "data": {
      "application/vnd.jupyter.widget-view+json": {
       "model_id": "",
       "version_major": 2,
       "version_minor": 0
      },
      "text/plain": [
       "Validation: |                                                                                     | 0/? [00:00…"
      ]
     },
     "metadata": {},
     "output_type": "display_data"
    },
    {
     "name": "stdout",
     "output_type": "stream",
     "text": [
      "\n",
      "----------------------------------------------------------------------------------------------------\n",
      "| current_epoch: 21.00000 | val_loss: 0.95221 |\n",
      "val_p_k562_minp_rep1: 0.24350 |val_p_k562_minp_rep2: 0.31789 |val_p_k562_minp_avg: 0.33127 |\n",
      "val_p_k562_sv40p_rep1: 0.14333 |val_p_k562_sv40p_rep1: 0.14333 |val_p_k562_sv40p_avg: 0.14605 |\n",
      "val_p_hepg2_minp_rep1: 0.21098 |val_p_hepg2_minp_rep2: 0.19277 |val_p_hepg2_minp_avg: 0.23450 |\n",
      "val_p_hepg2_sv40p_rep1: 0.19543 |val_p_hepg2_sv40p_rep2: 0.19915 |val_p_hepg2_sv40p_avg: 0.23222 |\n",
      " train_loss: 0.78640 | train_pearson: 0.45689 | val_pearson: 0.21587 |\n",
      "----------------------------------------------------------------------------------------------------\n",
      "\n"
     ]
    },
    {
     "data": {
      "application/vnd.jupyter.widget-view+json": {
       "model_id": "",
       "version_major": 2,
       "version_minor": 0
      },
      "text/plain": [
       "Validation: |                                                                                     | 0/? [00:00…"
      ]
     },
     "metadata": {},
     "output_type": "display_data"
    },
    {
     "name": "stdout",
     "output_type": "stream",
     "text": [
      "\n",
      "----------------------------------------------------------------------------------------------------\n",
      "| current_epoch: 22.00000 | val_loss: 0.94280 |\n",
      "val_p_k562_minp_rep1: 0.24085 |val_p_k562_minp_rep2: 0.32013 |val_p_k562_minp_avg: 0.32968 |\n",
      "val_p_k562_sv40p_rep1: 0.14631 |val_p_k562_sv40p_rep1: 0.14631 |val_p_k562_sv40p_avg: 0.15514 |\n",
      "val_p_hepg2_minp_rep1: 0.21311 |val_p_hepg2_minp_rep2: 0.18945 |val_p_hepg2_minp_avg: 0.23750 |\n",
      "val_p_hepg2_sv40p_rep1: 0.18734 |val_p_hepg2_sv40p_rep2: 0.19070 |val_p_hepg2_sv40p_avg: 0.22122 |\n",
      " train_loss: 0.78124 | train_pearson: 0.46269 | val_pearson: 0.21481 |\n",
      "----------------------------------------------------------------------------------------------------\n",
      "\n"
     ]
    },
    {
     "data": {
      "application/vnd.jupyter.widget-view+json": {
       "model_id": "be4fbb57659b4210b83f4f1da58c81f8",
       "version_major": 2,
       "version_minor": 0
      },
      "text/plain": [
       "Validation: |                                                                                     | 0/? [00:00…"
      ]
     },
     "metadata": {},
     "output_type": "display_data"
    },
    {
     "name": "stdout",
     "output_type": "stream",
     "text": [
      "\n",
      "----------------------------------------------------------------------------------------------------\n",
      "| current_epoch: 23.00000 | val_loss: 0.94721 |\n",
      "val_p_k562_minp_rep1: 0.22354 |val_p_k562_minp_rep2: 0.30414 |val_p_k562_minp_avg: 0.31069 |\n",
      "val_p_k562_sv40p_rep1: 0.14393 |val_p_k562_sv40p_rep1: 0.14393 |val_p_k562_sv40p_avg: 0.15668 |\n",
      "val_p_hepg2_minp_rep1: 0.19992 |val_p_hepg2_minp_rep2: 0.21319 |val_p_hepg2_minp_avg: 0.24435 |\n",
      "val_p_hepg2_sv40p_rep1: 0.20339 |val_p_hepg2_sv40p_rep2: 0.20949 |val_p_hepg2_sv40p_avg: 0.24472 |\n",
      " train_loss: 0.77465 | train_pearson: 0.46993 | val_pearson: 0.21650 |\n",
      "----------------------------------------------------------------------------------------------------\n",
      "\n"
     ]
    },
    {
     "data": {
      "application/vnd.jupyter.widget-view+json": {
       "model_id": "b73b7d44eaf143119418e6f78f6c0c46",
       "version_major": 2,
       "version_minor": 0
      },
      "text/plain": [
       "Validation: |                                                                                     | 0/? [00:00…"
      ]
     },
     "metadata": {},
     "output_type": "display_data"
    },
    {
     "name": "stdout",
     "output_type": "stream",
     "text": [
      "\n",
      "----------------------------------------------------------------------------------------------------\n",
      "| current_epoch: 24.00000 | val_loss: 0.94479 |\n",
      "val_p_k562_minp_rep1: 0.22836 |val_p_k562_minp_rep2: 0.30754 |val_p_k562_minp_avg: 0.31465 |\n",
      "val_p_k562_sv40p_rep1: 0.13106 |val_p_k562_sv40p_rep1: 0.13106 |val_p_k562_sv40p_avg: 0.14044 |\n",
      "val_p_hepg2_minp_rep1: 0.21330 |val_p_hepg2_minp_rep2: 0.19461 |val_p_hepg2_minp_avg: 0.23906 |\n",
      "val_p_hepg2_sv40p_rep1: 0.18375 |val_p_hepg2_sv40p_rep2: 0.18557 |val_p_hepg2_sv40p_avg: 0.21816 |\n",
      " train_loss: 0.76730 | train_pearson: 0.47771 | val_pearson: 0.20730 |\n",
      "----------------------------------------------------------------------------------------------------\n",
      "\n"
     ]
    },
    {
     "data": {
      "application/vnd.jupyter.widget-view+json": {
       "model_id": "",
       "version_major": 2,
       "version_minor": 0
      },
      "text/plain": [
       "Validation: |                                                                                     | 0/? [00:00…"
      ]
     },
     "metadata": {},
     "output_type": "display_data"
    },
    {
     "name": "stdout",
     "output_type": "stream",
     "text": [
      "\n",
      "----------------------------------------------------------------------------------------------------\n",
      "| current_epoch: 25.00000 | val_loss: 0.96321 |\n",
      "val_p_k562_minp_rep1: 0.24610 |val_p_k562_minp_rep2: 0.30960 |val_p_k562_minp_avg: 0.32495 |\n",
      "val_p_k562_sv40p_rep1: 0.11546 |val_p_k562_sv40p_rep1: 0.11545 |val_p_k562_sv40p_avg: 0.12000 |\n",
      "val_p_hepg2_minp_rep1: 0.20917 |val_p_hepg2_minp_rep2: 0.18655 |val_p_hepg2_minp_avg: 0.23134 |\n",
      "val_p_hepg2_sv40p_rep1: 0.18376 |val_p_hepg2_sv40p_rep2: 0.18057 |val_p_hepg2_sv40p_avg: 0.21403 |\n",
      " train_loss: 0.75969 | train_pearson: 0.48591 | val_pearson: 0.20308 |\n",
      "----------------------------------------------------------------------------------------------------\n",
      "\n"
     ]
    },
    {
     "data": {
      "application/vnd.jupyter.widget-view+json": {
       "model_id": "",
       "version_major": 2,
       "version_minor": 0
      },
      "text/plain": [
       "Validation: |                                                                                     | 0/? [00:00…"
      ]
     },
     "metadata": {},
     "output_type": "display_data"
    },
    {
     "name": "stdout",
     "output_type": "stream",
     "text": [
      "\n",
      "----------------------------------------------------------------------------------------------------\n",
      "| current_epoch: 26.00000 | val_loss: 0.97542 |\n",
      "val_p_k562_minp_rep1: 0.21763 |val_p_k562_minp_rep2: 0.28617 |val_p_k562_minp_avg: 0.29463 |\n",
      "val_p_k562_sv40p_rep1: 0.11926 |val_p_k562_sv40p_rep1: 0.11925 |val_p_k562_sv40p_avg: 0.13441 |\n",
      "val_p_hepg2_minp_rep1: 0.19625 |val_p_hepg2_minp_rep2: 0.18926 |val_p_hepg2_minp_avg: 0.22374 |\n",
      "val_p_hepg2_sv40p_rep1: 0.19965 |val_p_hepg2_sv40p_rep2: 0.18790 |val_p_hepg2_sv40p_avg: 0.22809 |\n",
      " train_loss: 0.75113 | train_pearson: 0.49482 | val_pearson: 0.19969 |\n",
      "----------------------------------------------------------------------------------------------------\n",
      "\n"
     ]
    },
    {
     "data": {
      "application/vnd.jupyter.widget-view+json": {
       "model_id": "",
       "version_major": 2,
       "version_minor": 0
      },
      "text/plain": [
       "Validation: |                                                                                     | 0/? [00:00…"
      ]
     },
     "metadata": {},
     "output_type": "display_data"
    },
    {
     "name": "stdout",
     "output_type": "stream",
     "text": [
      "\n",
      "----------------------------------------------------------------------------------------------------\n",
      "| current_epoch: 27.00000 | val_loss: 0.97431 |\n",
      "val_p_k562_minp_rep1: 0.21507 |val_p_k562_minp_rep2: 0.29716 |val_p_k562_minp_avg: 0.30067 |\n",
      "val_p_k562_sv40p_rep1: 0.11908 |val_p_k562_sv40p_rep1: 0.11908 |val_p_k562_sv40p_avg: 0.13374 |\n",
      "val_p_hepg2_minp_rep1: 0.19573 |val_p_hepg2_minp_rep2: 0.17174 |val_p_hepg2_minp_avg: 0.21336 |\n",
      "val_p_hepg2_sv40p_rep1: 0.17430 |val_p_hepg2_sv40p_rep2: 0.16247 |val_p_hepg2_sv40p_avg: 0.19674 |\n",
      " train_loss: 0.74082 | train_pearson: 0.50531 | val_pearson: 0.19159 |\n",
      "----------------------------------------------------------------------------------------------------\n",
      "\n"
     ]
    },
    {
     "data": {
      "application/vnd.jupyter.widget-view+json": {
       "model_id": "",
       "version_major": 2,
       "version_minor": 0
      },
      "text/plain": [
       "Validation: |                                                                                     | 0/? [00:00…"
      ]
     },
     "metadata": {},
     "output_type": "display_data"
    },
    {
     "name": "stdout",
     "output_type": "stream",
     "text": [
      "\n",
      "----------------------------------------------------------------------------------------------------\n",
      "| current_epoch: 28.00000 | val_loss: 0.97606 |\n",
      "val_p_k562_minp_rep1: 0.20082 |val_p_k562_minp_rep2: 0.29521 |val_p_k562_minp_avg: 0.29165 |\n",
      "val_p_k562_sv40p_rep1: 0.11481 |val_p_k562_sv40p_rep1: 0.11481 |val_p_k562_sv40p_avg: 0.13086 |\n",
      "val_p_hepg2_minp_rep1: 0.19011 |val_p_hepg2_minp_rep2: 0.18289 |val_p_hepg2_minp_avg: 0.21580 |\n",
      "val_p_hepg2_sv40p_rep1: 0.19478 |val_p_hepg2_sv40p_rep2: 0.17343 |val_p_hepg2_sv40p_avg: 0.21791 |\n",
      " train_loss: 0.72965 | train_pearson: 0.51668 | val_pearson: 0.19359 |\n",
      "----------------------------------------------------------------------------------------------------\n",
      "\n"
     ]
    },
    {
     "data": {
      "application/vnd.jupyter.widget-view+json": {
       "model_id": "",
       "version_major": 2,
       "version_minor": 0
      },
      "text/plain": [
       "Validation: |                                                                                     | 0/? [00:00…"
      ]
     },
     "metadata": {},
     "output_type": "display_data"
    },
    {
     "name": "stdout",
     "output_type": "stream",
     "text": [
      "\n",
      "----------------------------------------------------------------------------------------------------\n",
      "| current_epoch: 29.00000 | val_loss: 0.98229 |\n",
      "val_p_k562_minp_rep1: 0.19746 |val_p_k562_minp_rep2: 0.28742 |val_p_k562_minp_avg: 0.28462 |\n",
      "val_p_k562_sv40p_rep1: 0.10636 |val_p_k562_sv40p_rep1: 0.10636 |val_p_k562_sv40p_avg: 0.13211 |\n",
      "val_p_hepg2_minp_rep1: 0.18041 |val_p_hepg2_minp_rep2: 0.17815 |val_p_hepg2_minp_avg: 0.20943 |\n",
      "val_p_hepg2_sv40p_rep1: 0.19170 |val_p_hepg2_sv40p_rep2: 0.17665 |val_p_hepg2_sv40p_avg: 0.21630 |\n",
      " train_loss: 0.71768 | train_pearson: 0.52827 | val_pearson: 0.18892 |\n",
      "----------------------------------------------------------------------------------------------------\n",
      "\n"
     ]
    },
    {
     "data": {
      "application/vnd.jupyter.widget-view+json": {
       "model_id": "",
       "version_major": 2,
       "version_minor": 0
      },
      "text/plain": [
       "Validation: |                                                                                     | 0/? [00:00…"
      ]
     },
     "metadata": {},
     "output_type": "display_data"
    },
    {
     "name": "stdout",
     "output_type": "stream",
     "text": [
      "\n",
      "----------------------------------------------------------------------------------------------------\n",
      "| current_epoch: 30.00000 | val_loss: 0.98814 |\n",
      "val_p_k562_minp_rep1: 0.20529 |val_p_k562_minp_rep2: 0.28548 |val_p_k562_minp_avg: 0.28824 |\n",
      "val_p_k562_sv40p_rep1: 0.10769 |val_p_k562_sv40p_rep1: 0.10769 |val_p_k562_sv40p_avg: 0.12986 |\n",
      "val_p_hepg2_minp_rep1: 0.18198 |val_p_hepg2_minp_rep2: 0.17488 |val_p_hepg2_minp_avg: 0.20596 |\n",
      "val_p_hepg2_sv40p_rep1: 0.19752 |val_p_hepg2_sv40p_rep2: 0.17970 |val_p_hepg2_sv40p_avg: 0.22323 |\n",
      " train_loss: 0.70394 | train_pearson: 0.54161 | val_pearson: 0.19063 |\n",
      "----------------------------------------------------------------------------------------------------\n",
      "\n"
     ]
    },
    {
     "data": {
      "application/vnd.jupyter.widget-view+json": {
       "model_id": "",
       "version_major": 2,
       "version_minor": 0
      },
      "text/plain": [
       "Validation: |                                                                                     | 0/? [00:00…"
      ]
     },
     "metadata": {},
     "output_type": "display_data"
    },
    {
     "name": "stdout",
     "output_type": "stream",
     "text": [
      "\n",
      "----------------------------------------------------------------------------------------------------\n",
      "| current_epoch: 31.00000 | val_loss: 1.04499 |\n",
      "val_p_k562_minp_rep1: 0.18965 |val_p_k562_minp_rep2: 0.26925 |val_p_k562_minp_avg: 0.26958 |\n",
      "val_p_k562_sv40p_rep1: 0.08722 |val_p_k562_sv40p_rep1: 0.08722 |val_p_k562_sv40p_avg: 0.09892 |\n",
      "val_p_hepg2_minp_rep1: 0.16672 |val_p_hepg2_minp_rep2: 0.13298 |val_p_hepg2_minp_avg: 0.17615 |\n",
      "val_p_hepg2_sv40p_rep1: 0.13882 |val_p_hepg2_sv40p_rep2: 0.13376 |val_p_hepg2_sv40p_avg: 0.15871 |\n",
      " train_loss: 0.68979 | train_pearson: 0.55489 | val_pearson: 0.15908 |\n",
      "----------------------------------------------------------------------------------------------------\n",
      "\n"
     ]
    },
    {
     "data": {
      "application/vnd.jupyter.widget-view+json": {
       "model_id": "",
       "version_major": 2,
       "version_minor": 0
      },
      "text/plain": [
       "Validation: |                                                                                     | 0/? [00:00…"
      ]
     },
     "metadata": {},
     "output_type": "display_data"
    },
    {
     "name": "stdout",
     "output_type": "stream",
     "text": [
      "\n",
      "----------------------------------------------------------------------------------------------------\n",
      "| current_epoch: 32.00000 | val_loss: 1.00983 |\n",
      "val_p_k562_minp_rep1: 0.18787 |val_p_k562_minp_rep2: 0.28957 |val_p_k562_minp_avg: 0.27882 |\n",
      "val_p_k562_sv40p_rep1: 0.10551 |val_p_k562_sv40p_rep1: 0.10550 |val_p_k562_sv40p_avg: 0.12894 |\n",
      "val_p_hepg2_minp_rep1: 0.17606 |val_p_hepg2_minp_rep2: 0.17474 |val_p_hepg2_minp_avg: 0.20627 |\n",
      "val_p_hepg2_sv40p_rep1: 0.18611 |val_p_hepg2_sv40p_rep2: 0.17752 |val_p_hepg2_sv40p_avg: 0.21526 |\n",
      " train_loss: 0.67319 | train_pearson: 0.56996 | val_pearson: 0.18601 |\n",
      "----------------------------------------------------------------------------------------------------\n",
      "\n"
     ]
    },
    {
     "data": {
      "application/vnd.jupyter.widget-view+json": {
       "model_id": "",
       "version_major": 2,
       "version_minor": 0
      },
      "text/plain": [
       "Validation: |                                                                                     | 0/? [00:00…"
      ]
     },
     "metadata": {},
     "output_type": "display_data"
    },
    {
     "name": "stdout",
     "output_type": "stream",
     "text": [
      "\n",
      "----------------------------------------------------------------------------------------------------\n",
      "| current_epoch: 33.00000 | val_loss: 1.01978 |\n",
      "val_p_k562_minp_rep1: 0.19487 |val_p_k562_minp_rep2: 0.28358 |val_p_k562_minp_avg: 0.27987 |\n",
      "val_p_k562_sv40p_rep1: 0.10110 |val_p_k562_sv40p_rep1: 0.10110 |val_p_k562_sv40p_avg: 0.12361 |\n",
      "val_p_hepg2_minp_rep1: 0.17338 |val_p_hepg2_minp_rep2: 0.17336 |val_p_hepg2_minp_avg: 0.20553 |\n",
      "val_p_hepg2_sv40p_rep1: 0.17884 |val_p_hepg2_sv40p_rep2: 0.17120 |val_p_hepg2_sv40p_avg: 0.20632 |\n",
      " train_loss: 0.65639 | train_pearson: 0.58482 | val_pearson: 0.18273 |\n",
      "----------------------------------------------------------------------------------------------------\n",
      "\n"
     ]
    },
    {
     "data": {
      "application/vnd.jupyter.widget-view+json": {
       "model_id": "",
       "version_major": 2,
       "version_minor": 0
      },
      "text/plain": [
       "Validation: |                                                                                     | 0/? [00:00…"
      ]
     },
     "metadata": {},
     "output_type": "display_data"
    },
    {
     "name": "stdout",
     "output_type": "stream",
     "text": [
      "\n",
      "----------------------------------------------------------------------------------------------------\n",
      "| current_epoch: 34.00000 | val_loss: 1.04444 |\n",
      "val_p_k562_minp_rep1: 0.19329 |val_p_k562_minp_rep2: 0.27040 |val_p_k562_minp_avg: 0.27102 |\n",
      "val_p_k562_sv40p_rep1: 0.08469 |val_p_k562_sv40p_rep1: 0.08470 |val_p_k562_sv40p_avg: 0.09666 |\n",
      "val_p_hepg2_minp_rep1: 0.17061 |val_p_hepg2_minp_rep2: 0.15916 |val_p_hepg2_minp_avg: 0.18868 |\n",
      "val_p_hepg2_sv40p_rep1: 0.16457 |val_p_hepg2_sv40p_rep2: 0.15475 |val_p_hepg2_sv40p_avg: 0.18803 |\n",
      " train_loss: 0.63883 | train_pearson: 0.59970 | val_pearson: 0.16888 |\n",
      "----------------------------------------------------------------------------------------------------\n",
      "\n"
     ]
    },
    {
     "data": {
      "application/vnd.jupyter.widget-view+json": {
       "model_id": "",
       "version_major": 2,
       "version_minor": 0
      },
      "text/plain": [
       "Validation: |                                                                                     | 0/? [00:00…"
      ]
     },
     "metadata": {},
     "output_type": "display_data"
    },
    {
     "name": "stdout",
     "output_type": "stream",
     "text": [
      "\n",
      "----------------------------------------------------------------------------------------------------\n",
      "| current_epoch: 35.00000 | val_loss: 1.04221 |\n",
      "val_p_k562_minp_rep1: 0.19668 |val_p_k562_minp_rep2: 0.28331 |val_p_k562_minp_avg: 0.28128 |\n",
      "val_p_k562_sv40p_rep1: 0.08212 |val_p_k562_sv40p_rep1: 0.08212 |val_p_k562_sv40p_avg: 0.09886 |\n",
      "val_p_hepg2_minp_rep1: 0.16865 |val_p_hepg2_minp_rep2: 0.17122 |val_p_hepg2_minp_avg: 0.19586 |\n",
      "val_p_hepg2_sv40p_rep1: 0.18208 |val_p_hepg2_sv40p_rep2: 0.16524 |val_p_hepg2_sv40p_avg: 0.20542 |\n",
      " train_loss: 0.62017 | train_pearson: 0.61523 | val_pearson: 0.17607 |\n",
      "----------------------------------------------------------------------------------------------------\n",
      "\n"
     ]
    },
    {
     "data": {
      "application/vnd.jupyter.widget-view+json": {
       "model_id": "",
       "version_major": 2,
       "version_minor": 0
      },
      "text/plain": [
       "Validation: |                                                                                     | 0/? [00:00…"
      ]
     },
     "metadata": {},
     "output_type": "display_data"
    },
    {
     "name": "stdout",
     "output_type": "stream",
     "text": [
      "\n",
      "----------------------------------------------------------------------------------------------------\n",
      "| current_epoch: 36.00000 | val_loss: 1.06347 |\n",
      "val_p_k562_minp_rep1: 0.18558 |val_p_k562_minp_rep2: 0.26649 |val_p_k562_minp_avg: 0.26491 |\n",
      "val_p_k562_sv40p_rep1: 0.07543 |val_p_k562_sv40p_rep1: 0.07542 |val_p_k562_sv40p_avg: 0.08999 |\n",
      "val_p_hepg2_minp_rep1: 0.16549 |val_p_hepg2_minp_rep2: 0.16343 |val_p_hepg2_minp_avg: 0.19027 |\n",
      "val_p_hepg2_sv40p_rep1: 0.16999 |val_p_hepg2_sv40p_rep2: 0.16820 |val_p_hepg2_sv40p_avg: 0.19997 |\n",
      " train_loss: 0.59988 | train_pearson: 0.63154 | val_pearson: 0.16793 |\n",
      "----------------------------------------------------------------------------------------------------\n",
      "\n"
     ]
    },
    {
     "data": {
      "application/vnd.jupyter.widget-view+json": {
       "model_id": "",
       "version_major": 2,
       "version_minor": 0
      },
      "text/plain": [
       "Validation: |                                                                                     | 0/? [00:00…"
      ]
     },
     "metadata": {},
     "output_type": "display_data"
    },
    {
     "name": "stdout",
     "output_type": "stream",
     "text": [
      "\n",
      "----------------------------------------------------------------------------------------------------\n",
      "| current_epoch: 37.00000 | val_loss: 1.07436 |\n",
      "val_p_k562_minp_rep1: 0.17208 |val_p_k562_minp_rep2: 0.26694 |val_p_k562_minp_avg: 0.25627 |\n",
      "val_p_k562_sv40p_rep1: 0.08074 |val_p_k562_sv40p_rep1: 0.08074 |val_p_k562_sv40p_avg: 0.10313 |\n",
      "val_p_hepg2_minp_rep1: 0.15517 |val_p_hepg2_minp_rep2: 0.17274 |val_p_hepg2_minp_avg: 0.19151 |\n",
      "val_p_hepg2_sv40p_rep1: 0.17033 |val_p_hepg2_sv40p_rep2: 0.16827 |val_p_hepg2_sv40p_avg: 0.20154 |\n",
      " train_loss: 0.57996 | train_pearson: 0.64704 | val_pearson: 0.16829 |\n",
      "----------------------------------------------------------------------------------------------------\n",
      "\n"
     ]
    },
    {
     "data": {
      "application/vnd.jupyter.widget-view+json": {
       "model_id": "",
       "version_major": 2,
       "version_minor": 0
      },
      "text/plain": [
       "Validation: |                                                                                     | 0/? [00:00…"
      ]
     },
     "metadata": {},
     "output_type": "display_data"
    },
    {
     "name": "stdout",
     "output_type": "stream",
     "text": [
      "\n",
      "----------------------------------------------------------------------------------------------------\n",
      "| current_epoch: 38.00000 | val_loss: 1.09272 |\n",
      "val_p_k562_minp_rep1: 0.17063 |val_p_k562_minp_rep2: 0.25419 |val_p_k562_minp_avg: 0.24938 |\n",
      "val_p_k562_sv40p_rep1: 0.07422 |val_p_k562_sv40p_rep1: 0.07422 |val_p_k562_sv40p_avg: 0.09730 |\n",
      "val_p_hepg2_minp_rep1: 0.15318 |val_p_hepg2_minp_rep2: 0.16232 |val_p_hepg2_minp_avg: 0.18250 |\n",
      "val_p_hepg2_sv40p_rep1: 0.16465 |val_p_hepg2_sv40p_rep2: 0.15556 |val_p_hepg2_sv40p_avg: 0.19010 |\n",
      " train_loss: 0.55980 | train_pearson: 0.66224 | val_pearson: 0.16069 |\n",
      "----------------------------------------------------------------------------------------------------\n",
      "\n"
     ]
    },
    {
     "data": {
      "application/vnd.jupyter.widget-view+json": {
       "model_id": "",
       "version_major": 2,
       "version_minor": 0
      },
      "text/plain": [
       "Validation: |                                                                                     | 0/? [00:00…"
      ]
     },
     "metadata": {},
     "output_type": "display_data"
    },
    {
     "name": "stdout",
     "output_type": "stream",
     "text": [
      "\n",
      "----------------------------------------------------------------------------------------------------\n",
      "| current_epoch: 39.00000 | val_loss: 1.10626 |\n",
      "val_p_k562_minp_rep1: 0.17020 |val_p_k562_minp_rep2: 0.25130 |val_p_k562_minp_avg: 0.24714 |\n",
      "val_p_k562_sv40p_rep1: 0.06729 |val_p_k562_sv40p_rep1: 0.06729 |val_p_k562_sv40p_avg: 0.08570 |\n",
      "val_p_hepg2_minp_rep1: 0.15408 |val_p_hepg2_minp_rep2: 0.16162 |val_p_hepg2_minp_avg: 0.18242 |\n",
      "val_p_hepg2_sv40p_rep1: 0.16240 |val_p_hepg2_sv40p_rep2: 0.15032 |val_p_hepg2_sv40p_avg: 0.18455 |\n",
      " train_loss: 0.53899 | train_pearson: 0.67760 | val_pearson: 0.15703 |\n",
      "----------------------------------------------------------------------------------------------------\n",
      "\n"
     ]
    },
    {
     "data": {
      "application/vnd.jupyter.widget-view+json": {
       "model_id": "",
       "version_major": 2,
       "version_minor": 0
      },
      "text/plain": [
       "Validation: |                                                                                     | 0/? [00:00…"
      ]
     },
     "metadata": {},
     "output_type": "display_data"
    },
    {
     "name": "stdout",
     "output_type": "stream",
     "text": [
      "\n",
      "----------------------------------------------------------------------------------------------------\n",
      "| current_epoch: 40.00000 | val_loss: 1.11557 |\n",
      "val_p_k562_minp_rep1: 0.15807 |val_p_k562_minp_rep2: 0.24638 |val_p_k562_minp_avg: 0.23654 |\n",
      "val_p_k562_sv40p_rep1: 0.06118 |val_p_k562_sv40p_rep1: 0.06118 |val_p_k562_sv40p_avg: 0.08251 |\n",
      "val_p_hepg2_minp_rep1: 0.13715 |val_p_hepg2_minp_rep2: 0.15749 |val_p_hepg2_minp_avg: 0.16968 |\n",
      "val_p_hepg2_sv40p_rep1: 0.16275 |val_p_hepg2_sv40p_rep2: 0.15106 |val_p_hepg2_sv40p_avg: 0.18625 |\n",
      " train_loss: 0.52013 | train_pearson: 0.69122 | val_pearson: 0.15085 |\n",
      "----------------------------------------------------------------------------------------------------\n",
      "\n"
     ]
    },
    {
     "data": {
      "application/vnd.jupyter.widget-view+json": {
       "model_id": "",
       "version_major": 2,
       "version_minor": 0
      },
      "text/plain": [
       "Validation: |                                                                                     | 0/? [00:00…"
      ]
     },
     "metadata": {},
     "output_type": "display_data"
    },
    {
     "name": "stdout",
     "output_type": "stream",
     "text": [
      "\n",
      "----------------------------------------------------------------------------------------------------\n",
      "| current_epoch: 41.00000 | val_loss: 1.13531 |\n",
      "val_p_k562_minp_rep1: 0.15978 |val_p_k562_minp_rep2: 0.23620 |val_p_k562_minp_avg: 0.23172 |\n",
      "val_p_k562_sv40p_rep1: 0.05763 |val_p_k562_sv40p_rep1: 0.05763 |val_p_k562_sv40p_avg: 0.07879 |\n",
      "val_p_hepg2_minp_rep1: 0.13297 |val_p_hepg2_minp_rep2: 0.14742 |val_p_hepg2_minp_avg: 0.16065 |\n",
      "val_p_hepg2_sv40p_rep1: 0.15681 |val_p_hepg2_sv40p_rep2: 0.14026 |val_p_hepg2_sv40p_avg: 0.17547 |\n",
      " train_loss: 0.50159 | train_pearson: 0.70430 | val_pearson: 0.14461 |\n",
      "----------------------------------------------------------------------------------------------------\n",
      "\n"
     ]
    },
    {
     "data": {
      "application/vnd.jupyter.widget-view+json": {
       "model_id": "",
       "version_major": 2,
       "version_minor": 0
      },
      "text/plain": [
       "Validation: |                                                                                     | 0/? [00:00…"
      ]
     },
     "metadata": {},
     "output_type": "display_data"
    },
    {
     "name": "stdout",
     "output_type": "stream",
     "text": [
      "\n",
      "----------------------------------------------------------------------------------------------------\n",
      "| current_epoch: 42.00000 | val_loss: 1.15331 |\n",
      "val_p_k562_minp_rep1: 0.15537 |val_p_k562_minp_rep2: 0.23694 |val_p_k562_minp_avg: 0.22942 |\n",
      "val_p_k562_sv40p_rep1: 0.05850 |val_p_k562_sv40p_rep1: 0.05850 |val_p_k562_sv40p_avg: 0.07769 |\n",
      "val_p_hepg2_minp_rep1: 0.13513 |val_p_hepg2_minp_rep2: 0.14687 |val_p_hepg2_minp_avg: 0.16085 |\n",
      "val_p_hepg2_sv40p_rep1: 0.14769 |val_p_hepg2_sv40p_rep2: 0.13605 |val_p_hepg2_sv40p_avg: 0.16748 |\n",
      " train_loss: 0.48412 | train_pearson: 0.71638 | val_pearson: 0.14254 |\n",
      "----------------------------------------------------------------------------------------------------\n",
      "\n"
     ]
    },
    {
     "data": {
      "application/vnd.jupyter.widget-view+json": {
       "model_id": "",
       "version_major": 2,
       "version_minor": 0
      },
      "text/plain": [
       "Validation: |                                                                                     | 0/? [00:00…"
      ]
     },
     "metadata": {},
     "output_type": "display_data"
    },
    {
     "name": "stdout",
     "output_type": "stream",
     "text": [
      "\n",
      "----------------------------------------------------------------------------------------------------\n",
      "| current_epoch: 43.00000 | val_loss: 1.16544 |\n",
      "val_p_k562_minp_rep1: 0.15511 |val_p_k562_minp_rep2: 0.23908 |val_p_k562_minp_avg: 0.23116 |\n",
      "val_p_k562_sv40p_rep1: 0.06207 |val_p_k562_sv40p_rep1: 0.06207 |val_p_k562_sv40p_avg: 0.08049 |\n",
      "val_p_hepg2_minp_rep1: 0.13461 |val_p_hepg2_minp_rep2: 0.14605 |val_p_hepg2_minp_avg: 0.16090 |\n",
      "val_p_hepg2_sv40p_rep1: 0.15056 |val_p_hepg2_sv40p_rep2: 0.13506 |val_p_hepg2_sv40p_avg: 0.16929 |\n",
      " train_loss: 0.46866 | train_pearson: 0.72695 | val_pearson: 0.14387 |\n",
      "----------------------------------------------------------------------------------------------------\n",
      "\n"
     ]
    },
    {
     "data": {
      "application/vnd.jupyter.widget-view+json": {
       "model_id": "",
       "version_major": 2,
       "version_minor": 0
      },
      "text/plain": [
       "Validation: |                                                                                     | 0/? [00:00…"
      ]
     },
     "metadata": {},
     "output_type": "display_data"
    },
    {
     "name": "stdout",
     "output_type": "stream",
     "text": [
      "\n",
      "----------------------------------------------------------------------------------------------------\n",
      "| current_epoch: 44.00000 | val_loss: 1.17097 |\n",
      "val_p_k562_minp_rep1: 0.15331 |val_p_k562_minp_rep2: 0.23563 |val_p_k562_minp_avg: 0.22823 |\n",
      "val_p_k562_sv40p_rep1: 0.05409 |val_p_k562_sv40p_rep1: 0.05409 |val_p_k562_sv40p_avg: 0.07489 |\n",
      "val_p_hepg2_minp_rep1: 0.13337 |val_p_hepg2_minp_rep2: 0.14532 |val_p_hepg2_minp_avg: 0.15871 |\n",
      "val_p_hepg2_sv40p_rep1: 0.14904 |val_p_hepg2_sv40p_rep2: 0.13215 |val_p_hepg2_sv40p_avg: 0.16591 |\n",
      " train_loss: 0.45547 | train_pearson: 0.73582 | val_pearson: 0.14040 |\n",
      "----------------------------------------------------------------------------------------------------\n",
      "\n"
     ]
    },
    {
     "data": {
      "application/vnd.jupyter.widget-view+json": {
       "model_id": "",
       "version_major": 2,
       "version_minor": 0
      },
      "text/plain": [
       "Validation: |                                                                                     | 0/? [00:00…"
      ]
     },
     "metadata": {},
     "output_type": "display_data"
    },
    {
     "name": "stdout",
     "output_type": "stream",
     "text": [
      "\n",
      "----------------------------------------------------------------------------------------------------\n",
      "| current_epoch: 45.00000 | val_loss: 1.18897 |\n",
      "val_p_k562_minp_rep1: 0.15292 |val_p_k562_minp_rep2: 0.23313 |val_p_k562_minp_avg: 0.22636 |\n",
      "val_p_k562_sv40p_rep1: 0.05311 |val_p_k562_sv40p_rep1: 0.05311 |val_p_k562_sv40p_avg: 0.07238 |\n",
      "val_p_hepg2_minp_rep1: 0.13123 |val_p_hepg2_minp_rep2: 0.14024 |val_p_hepg2_minp_avg: 0.15514 |\n",
      "val_p_hepg2_sv40p_rep1: 0.14403 |val_p_hepg2_sv40p_rep2: 0.13346 |val_p_hepg2_sv40p_avg: 0.16398 |\n",
      " train_loss: 0.44404 | train_pearson: 0.74339 | val_pearson: 0.13826 |\n",
      "----------------------------------------------------------------------------------------------------\n",
      "\n"
     ]
    },
    {
     "data": {
      "application/vnd.jupyter.widget-view+json": {
       "model_id": "",
       "version_major": 2,
       "version_minor": 0
      },
      "text/plain": [
       "Validation: |                                                                                     | 0/? [00:00…"
      ]
     },
     "metadata": {},
     "output_type": "display_data"
    },
    {
     "name": "stdout",
     "output_type": "stream",
     "text": [
      "\n",
      "----------------------------------------------------------------------------------------------------\n",
      "| current_epoch: 46.00000 | val_loss: 1.19685 |\n",
      "val_p_k562_minp_rep1: 0.15272 |val_p_k562_minp_rep2: 0.23251 |val_p_k562_minp_avg: 0.22597 |\n",
      "val_p_k562_sv40p_rep1: 0.05254 |val_p_k562_sv40p_rep1: 0.05254 |val_p_k562_sv40p_avg: 0.07285 |\n",
      "val_p_hepg2_minp_rep1: 0.12704 |val_p_hepg2_minp_rep2: 0.13847 |val_p_hepg2_minp_avg: 0.15126 |\n",
      "val_p_hepg2_sv40p_rep1: 0.14340 |val_p_hepg2_sv40p_rep2: 0.13013 |val_p_hepg2_sv40p_avg: 0.16161 |\n",
      " train_loss: 0.43552 | train_pearson: 0.74902 | val_pearson: 0.13675 |\n",
      "----------------------------------------------------------------------------------------------------\n",
      "\n"
     ]
    },
    {
     "data": {
      "application/vnd.jupyter.widget-view+json": {
       "model_id": "",
       "version_major": 2,
       "version_minor": 0
      },
      "text/plain": [
       "Validation: |                                                                                     | 0/? [00:00…"
      ]
     },
     "metadata": {},
     "output_type": "display_data"
    },
    {
     "name": "stdout",
     "output_type": "stream",
     "text": [
      "\n",
      "----------------------------------------------------------------------------------------------------\n",
      "| current_epoch: 47.00000 | val_loss: 1.20185 |\n",
      "val_p_k562_minp_rep1: 0.14923 |val_p_k562_minp_rep2: 0.22997 |val_p_k562_minp_avg: 0.22244 |\n",
      "val_p_k562_sv40p_rep1: 0.05170 |val_p_k562_sv40p_rep1: 0.05170 |val_p_k562_sv40p_avg: 0.07171 |\n",
      "val_p_hepg2_minp_rep1: 0.12527 |val_p_hepg2_minp_rep2: 0.13836 |val_p_hepg2_minp_avg: 0.14989 |\n",
      "val_p_hepg2_sv40p_rep1: 0.14278 |val_p_hepg2_sv40p_rep2: 0.12984 |val_p_hepg2_sv40p_avg: 0.16097 |\n",
      " train_loss: 0.42999 | train_pearson: 0.75265 | val_pearson: 0.13532 |\n",
      "----------------------------------------------------------------------------------------------------\n",
      "\n"
     ]
    },
    {
     "data": {
      "application/vnd.jupyter.widget-view+json": {
       "model_id": "",
       "version_major": 2,
       "version_minor": 0
      },
      "text/plain": [
       "Validation: |                                                                                     | 0/? [00:00…"
      ]
     },
     "metadata": {},
     "output_type": "display_data"
    },
    {
     "name": "stdout",
     "output_type": "stream",
     "text": [
      "\n",
      "----------------------------------------------------------------------------------------------------\n",
      "| current_epoch: 48.00000 | val_loss: 1.20594 |\n",
      "val_p_k562_minp_rep1: 0.14972 |val_p_k562_minp_rep2: 0.23010 |val_p_k562_minp_avg: 0.22279 |\n",
      "val_p_k562_sv40p_rep1: 0.05144 |val_p_k562_sv40p_rep1: 0.05144 |val_p_k562_sv40p_avg: 0.07127 |\n",
      "val_p_hepg2_minp_rep1: 0.12653 |val_p_hepg2_minp_rep2: 0.13754 |val_p_hepg2_minp_avg: 0.15027 |\n",
      "val_p_hepg2_sv40p_rep1: 0.14320 |val_p_hepg2_sv40p_rep2: 0.13020 |val_p_hepg2_sv40p_avg: 0.16138 |\n",
      " train_loss: 0.42645 | train_pearson: 0.75498 | val_pearson: 0.13549 |\n",
      "----------------------------------------------------------------------------------------------------\n",
      "\n"
     ]
    },
    {
     "data": {
      "application/vnd.jupyter.widget-view+json": {
       "model_id": "",
       "version_major": 2,
       "version_minor": 0
      },
      "text/plain": [
       "Validation: |                                                                                     | 0/? [00:00…"
      ]
     },
     "metadata": {},
     "output_type": "display_data"
    },
    {
     "name": "stdout",
     "output_type": "stream",
     "text": [
      "\n",
      "----------------------------------------------------------------------------------------------------\n",
      "| current_epoch: 49.00000 | val_loss: 1.20645 |\n",
      "val_p_k562_minp_rep1: 0.14965 |val_p_k562_minp_rep2: 0.22915 |val_p_k562_minp_avg: 0.22221 |\n",
      "val_p_k562_sv40p_rep1: 0.05056 |val_p_k562_sv40p_rep1: 0.05056 |val_p_k562_sv40p_avg: 0.07060 |\n",
      "val_p_hepg2_minp_rep1: 0.12555 |val_p_hepg2_minp_rep2: 0.13774 |val_p_hepg2_minp_avg: 0.14970 |\n",
      "val_p_hepg2_sv40p_rep1: 0.14346 |val_p_hepg2_sv40p_rep2: 0.13002 |val_p_hepg2_sv40p_avg: 0.16144 |\n",
      " train_loss: 0.42485 | train_pearson: 0.75601 | val_pearson: 0.13505 |\n",
      "----------------------------------------------------------------------------------------------------\n",
      "\n"
     ]
    },
    {
     "name": "stderr",
     "output_type": "stream",
     "text": [
      "`Trainer.fit` stopped: `max_epochs=50` reached.\n",
      "LOCAL_RANK: 0 - CUDA_VISIBLE_DEVICES: [0,1]\n"
     ]
    },
    {
     "data": {
      "application/vnd.jupyter.widget-view+json": {
       "model_id": "752b0c476fef491091e7b05e32f521ac",
       "version_major": 2,
       "version_minor": 0
      },
      "text/plain": [
       "Testing: |                                                                                        | 0/? [00:00…"
      ]
     },
     "metadata": {},
     "output_type": "display_data"
    },
    {
     "data": {
      "text/html": [
       "<pre style=\"white-space:pre;overflow-x:auto;line-height:normal;font-family:Menlo,'DejaVu Sans Mono',consolas,'Courier New',monospace\">┏━━━━━━━━━━━━━━━━━━━━━━━━━━━━━━━━━┳━━━━━━━━━━━━━━━━━━━━━━━━━━━━━━━━━┓\n",
       "┃<span style=\"font-weight: bold\">           Test metric           </span>┃<span style=\"font-weight: bold\">          DataLoader 0           </span>┃\n",
       "┡━━━━━━━━━━━━━━━━━━━━━━━━━━━━━━━━━╇━━━━━━━━━━━━━━━━━━━━━━━━━━━━━━━━━┩\n",
       "│<span style=\"color: #008080; text-decoration-color: #008080\">            test_loss            </span>│<span style=\"color: #800080; text-decoration-color: #800080\">        1.206375241279602        </span>│\n",
       "│<span style=\"color: #008080; text-decoration-color: #008080\">  val_pearson_0_k562_minp_rep1   </span>│<span style=\"color: #800080; text-decoration-color: #800080\">       0.14998804032802582       </span>│\n",
       "│<span style=\"color: #008080; text-decoration-color: #008080\"> val_pearson_10_hepg2_sv40p_rep2 </span>│<span style=\"color: #800080; text-decoration-color: #800080\">       0.13066868484020233       </span>│\n",
       "│<span style=\"color: #008080; text-decoration-color: #008080\"> val_pearson_11_hepg2_sv40p_avg  </span>│<span style=\"color: #800080; text-decoration-color: #800080\">       0.16216526925563812       </span>│\n",
       "│<span style=\"color: #008080; text-decoration-color: #008080\">  val_pearson_1_k562_minp_rep2   </span>│<span style=\"color: #800080; text-decoration-color: #800080\">       0.22899484634399414       </span>│\n",
       "│<span style=\"color: #008080; text-decoration-color: #008080\">   val_pearson_2_k562_minp_avg   </span>│<span style=\"color: #800080; text-decoration-color: #800080\">       0.22239884734153748       </span>│\n",
       "│<span style=\"color: #008080; text-decoration-color: #008080\">  val_pearson_3_k562_sv40p_rep1  </span>│<span style=\"color: #800080; text-decoration-color: #800080\">       0.05101322755217552       </span>│\n",
       "│<span style=\"color: #008080; text-decoration-color: #008080\">  val_pearson_4_k562_sv40p_rep1  </span>│<span style=\"color: #800080; text-decoration-color: #800080\">       0.05101366713643074       </span>│\n",
       "│<span style=\"color: #008080; text-decoration-color: #008080\">  val_pearson_5_k562_sv40p_avg   </span>│<span style=\"color: #800080; text-decoration-color: #800080\">       0.0713077038526535        </span>│\n",
       "│<span style=\"color: #008080; text-decoration-color: #008080\">  val_pearson_6_hepg2_minp_rep1  </span>│<span style=\"color: #800080; text-decoration-color: #800080\">       0.12674365937709808       </span>│\n",
       "│<span style=\"color: #008080; text-decoration-color: #008080\">  val_pearson_7_hepg2_minp_rep2  </span>│<span style=\"color: #800080; text-decoration-color: #800080\">       0.1385812610387802        </span>│\n",
       "│<span style=\"color: #008080; text-decoration-color: #008080\">  val_pearson_8_hepg2_minp_avg   </span>│<span style=\"color: #800080; text-decoration-color: #800080\">       0.15105892717838287       </span>│\n",
       "│<span style=\"color: #008080; text-decoration-color: #008080\"> val_pearson_9_hepg2_sv40p_rep1  </span>│<span style=\"color: #800080; text-decoration-color: #800080\">       0.14421716332435608       </span>│\n",
       "└─────────────────────────────────┴─────────────────────────────────┘\n",
       "</pre>\n"
      ],
      "text/plain": [
       "┏━━━━━━━━━━━━━━━━━━━━━━━━━━━━━━━━━┳━━━━━━━━━━━━━━━━━━━━━━━━━━━━━━━━━┓\n",
       "┃\u001b[1m \u001b[0m\u001b[1m          Test metric          \u001b[0m\u001b[1m \u001b[0m┃\u001b[1m \u001b[0m\u001b[1m         DataLoader 0          \u001b[0m\u001b[1m \u001b[0m┃\n",
       "┡━━━━━━━━━━━━━━━━━━━━━━━━━━━━━━━━━╇━━━━━━━━━━━━━━━━━━━━━━━━━━━━━━━━━┩\n",
       "│\u001b[36m \u001b[0m\u001b[36m           test_loss           \u001b[0m\u001b[36m \u001b[0m│\u001b[35m \u001b[0m\u001b[35m       1.206375241279602       \u001b[0m\u001b[35m \u001b[0m│\n",
       "│\u001b[36m \u001b[0m\u001b[36m val_pearson_0_k562_minp_rep1  \u001b[0m\u001b[36m \u001b[0m│\u001b[35m \u001b[0m\u001b[35m      0.14998804032802582      \u001b[0m\u001b[35m \u001b[0m│\n",
       "│\u001b[36m \u001b[0m\u001b[36mval_pearson_10_hepg2_sv40p_rep2\u001b[0m\u001b[36m \u001b[0m│\u001b[35m \u001b[0m\u001b[35m      0.13066868484020233      \u001b[0m\u001b[35m \u001b[0m│\n",
       "│\u001b[36m \u001b[0m\u001b[36mval_pearson_11_hepg2_sv40p_avg \u001b[0m\u001b[36m \u001b[0m│\u001b[35m \u001b[0m\u001b[35m      0.16216526925563812      \u001b[0m\u001b[35m \u001b[0m│\n",
       "│\u001b[36m \u001b[0m\u001b[36m val_pearson_1_k562_minp_rep2  \u001b[0m\u001b[36m \u001b[0m│\u001b[35m \u001b[0m\u001b[35m      0.22899484634399414      \u001b[0m\u001b[35m \u001b[0m│\n",
       "│\u001b[36m \u001b[0m\u001b[36m  val_pearson_2_k562_minp_avg  \u001b[0m\u001b[36m \u001b[0m│\u001b[35m \u001b[0m\u001b[35m      0.22239884734153748      \u001b[0m\u001b[35m \u001b[0m│\n",
       "│\u001b[36m \u001b[0m\u001b[36m val_pearson_3_k562_sv40p_rep1 \u001b[0m\u001b[36m \u001b[0m│\u001b[35m \u001b[0m\u001b[35m      0.05101322755217552      \u001b[0m\u001b[35m \u001b[0m│\n",
       "│\u001b[36m \u001b[0m\u001b[36m val_pearson_4_k562_sv40p_rep1 \u001b[0m\u001b[36m \u001b[0m│\u001b[35m \u001b[0m\u001b[35m      0.05101366713643074      \u001b[0m\u001b[35m \u001b[0m│\n",
       "│\u001b[36m \u001b[0m\u001b[36m val_pearson_5_k562_sv40p_avg  \u001b[0m\u001b[36m \u001b[0m│\u001b[35m \u001b[0m\u001b[35m      0.0713077038526535       \u001b[0m\u001b[35m \u001b[0m│\n",
       "│\u001b[36m \u001b[0m\u001b[36m val_pearson_6_hepg2_minp_rep1 \u001b[0m\u001b[36m \u001b[0m│\u001b[35m \u001b[0m\u001b[35m      0.12674365937709808      \u001b[0m\u001b[35m \u001b[0m│\n",
       "│\u001b[36m \u001b[0m\u001b[36m val_pearson_7_hepg2_minp_rep2 \u001b[0m\u001b[36m \u001b[0m│\u001b[35m \u001b[0m\u001b[35m      0.1385812610387802       \u001b[0m\u001b[35m \u001b[0m│\n",
       "│\u001b[36m \u001b[0m\u001b[36m val_pearson_8_hepg2_minp_avg  \u001b[0m\u001b[36m \u001b[0m│\u001b[35m \u001b[0m\u001b[35m      0.15105892717838287      \u001b[0m\u001b[35m \u001b[0m│\n",
       "│\u001b[36m \u001b[0m\u001b[36mval_pearson_9_hepg2_sv40p_rep1 \u001b[0m\u001b[36m \u001b[0m│\u001b[35m \u001b[0m\u001b[35m      0.14421716332435608      \u001b[0m\u001b[35m \u001b[0m│\n",
       "└─────────────────────────────────┴─────────────────────────────────┘\n"
      ]
     },
     "metadata": {},
     "output_type": "display_data"
    },
    {
     "data": {
      "text/plain": [
       "[{'test_loss': 1.206375241279602,\n",
       "  'val_pearson_0_k562_minp_rep1': 0.14998804032802582,\n",
       "  'val_pearson_1_k562_minp_rep2': 0.22899484634399414,\n",
       "  'val_pearson_2_k562_minp_avg': 0.22239884734153748,\n",
       "  'val_pearson_3_k562_sv40p_rep1': 0.05101322755217552,\n",
       "  'val_pearson_4_k562_sv40p_rep1': 0.05101366713643074,\n",
       "  'val_pearson_5_k562_sv40p_avg': 0.0713077038526535,\n",
       "  'val_pearson_6_hepg2_minp_rep1': 0.12674365937709808,\n",
       "  'val_pearson_7_hepg2_minp_rep2': 0.1385812610387802,\n",
       "  'val_pearson_8_hepg2_minp_avg': 0.15105892717838287,\n",
       "  'val_pearson_9_hepg2_sv40p_rep1': 0.14421716332435608,\n",
       "  'val_pearson_10_hepg2_sv40p_rep2': 0.13066868484020233,\n",
       "  'val_pearson_11_hepg2_sv40p_avg': 0.16216526925563812}]"
      ]
     },
     "execution_count": 14,
     "metadata": {},
     "output_type": "execute_result"
    }
   ],
   "source": [
    "seq_model = Seq1Model(in_ch = len(train_dataset[0][0]), out_ch = len(train_dataset[0][1]), lr = 1e-2)\n",
    "\n",
    "# Initialize a trainer\n",
    "trainer = L.Trainer(\n",
    "    accelerator=\"gpu\",\n",
    "    devices=[0],\n",
    "    max_epochs=50,\n",
    "    gradient_clip_val=1,\n",
    "    precision='16-mixed', \n",
    "    enable_progress_bar = True,\n",
    "    #callbacks=[TQDMProgressBar(refresh_rate=55)]\n",
    "    #logger = logger\n",
    ")\n",
    "\n",
    "# Train the model\n",
    "trainer.fit(seq_model,\n",
    "            train_dataloaders=train_loader,\n",
    "            val_dataloaders=val_loader)\n",
    "trainer.test(seq_model, dataloaders=test_loader)"
   ]
  },
  {
   "cell_type": "code",
   "execution_count": null,
   "id": "4f3a9233-04bd-4255-96ee-54ff38fdad37",
   "metadata": {},
   "outputs": [],
   "source": []
  }
 ],
 "metadata": {
  "kernelspec": {
   "display_name": "Python [conda env:mpra]",
   "language": "python",
   "name": "conda-env-mpra-py"
  },
  "language_info": {
   "codemirror_mode": {
    "name": "ipython",
    "version": 3
   },
   "file_extension": ".py",
   "mimetype": "text/x-python",
   "name": "python",
   "nbconvert_exporter": "python",
   "pygments_lexer": "ipython3",
   "version": "3.12.7"
  }
 },
 "nbformat": 4,
 "nbformat_minor": 5
}
