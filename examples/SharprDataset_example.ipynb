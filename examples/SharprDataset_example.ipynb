{
 "cells": [
  {
   "cell_type": "code",
   "execution_count": 1,
   "id": "b6376937-da7d-445b-a691-e701dd478b55",
   "metadata": {},
   "outputs": [],
   "source": [
    "import mpramnist\n",
    "from mpramnist.Sharpr.dataset import SharprDataset\n",
    "\n",
    "from mpramnist.models import HumanLegNet\n",
    "from mpramnist.models import initialize_weights\n",
    "from mpramnist.trainers import LitModel_Sharpr\n",
    "\n",
    "from mpramnist import transforms as t\n",
    "from mpramnist import target_transforms as t_t\n",
    "\n",
    "import torch\n",
    "import torch.nn as nn\n",
    "import torch.utils.data as data\n",
    "import torch.nn.functional as F\n",
    "import lightning.pytorch as L\n",
    "from lightning.pytorch.callbacks import ModelCheckpoint\n",
    "\n",
    "from torchmetrics import PearsonCorrCoef\n",
    "\n",
    "from torch_lr_finder import LRFinder\n",
    "import matplotlib.pyplot as plt"
   ]
  },
  {
   "cell_type": "markdown",
   "id": "6bb1d805-3499-48cc-83ac-d01f6593f6fd",
   "metadata": {},
   "source": [
    "# Initiate some parameters"
   ]
  },
  {
   "cell_type": "code",
   "execution_count": 2,
   "id": "27bca7cc-41f9-4f00-b62b-ce25633bb5fe",
   "metadata": {},
   "outputs": [],
   "source": [
    "BATCH_SIZE = 96\n",
    "NUM_WORKERS = 103"
   ]
  },
  {
   "cell_type": "code",
   "execution_count": 3,
   "id": "9b5a9728-8f9d-4606-9d30-0b5453569e58",
   "metadata": {},
   "outputs": [
    {
     "data": {
      "text/plain": [
       "['k562_minp_rep1',\n",
       " 'k562_minp_rep2',\n",
       " 'k562_minp_avg',\n",
       " 'k562_sv40p_rep1',\n",
       " 'k562_sv40p_rep2',\n",
       " 'k562_sv40p_avg',\n",
       " 'hepg2_minp_rep1',\n",
       " 'hepg2_minp_rep2',\n",
       " 'hepg2_minp_avg',\n",
       " 'hepg2_sv40p_rep1',\n",
       " 'hepg2_sv40p_rep2',\n",
       " 'hepg2_sv40p_avg']"
      ]
     },
     "execution_count": 3,
     "metadata": {},
     "output_type": "execute_result"
    }
   ],
   "source": [
    "SharprDataset.ACTIVITY_COLUMNS"
   ]
  },
  {
   "cell_type": "code",
   "execution_count": 4,
   "id": "ab88c058-4a36-4567-9ae0-c1d749dfe265",
   "metadata": {},
   "outputs": [],
   "source": [
    "def meaned_prediction(forw, rev, trainer, seq_model, name):\n",
    "\n",
    "    predictions_forw = trainer.predict(seq_model, dataloaders = forw)\n",
    "    targets = torch.cat([pred[\"target\"] for pred in predictions_forw])\n",
    "    y_preds_forw = torch.cat([pred[\"predicted\"] for pred in predictions_forw])\n",
    "    \n",
    "    predictions_rev = trainer.predict(seq_model, dataloaders = rev)\n",
    "    y_preds_rev = torch.cat([pred[\"predicted\"] for pred in predictions_rev])\n",
    "    \n",
    "    mean_forw = torch.mean(torch.stack([y_preds_forw, y_preds_rev]), dim=0)\n",
    "    \n",
    "    pears = PearsonCorrCoef(num_outputs = 12)\n",
    "    print(name + \" Pearson correlation\")\n",
    "    \n",
    "    return pears(mean_forw, targets)"
   ]
  },
  {
   "cell_type": "code",
   "execution_count": 5,
   "id": "835eb05d-b12a-41c4-bfa4-d97d6d9e3eca",
   "metadata": {},
   "outputs": [],
   "source": [
    "# preprocessing\n",
    "train_transform = t.Compose([\n",
    "    t.Seq2Tensor(),\n",
    "    t.ReverseComplement(0.5),\n",
    "])\n",
    "test_transform = t.Compose([\n",
    "    t.Seq2Tensor(), \n",
    "])"
   ]
  },
  {
   "cell_type": "markdown",
   "id": "e80ffd3e-9e6a-42c5-895c-4e4a5d64570e",
   "metadata": {},
   "source": [
    "# Train"
   ]
  },
  {
   "cell_type": "code",
   "execution_count": 6,
   "id": "367428ab-8e2f-4003-8ff7-a48711c2cddc",
   "metadata": {},
   "outputs": [],
   "source": [
    "# load the data\n",
    "train_dataset = SharprDataset(split=\"train\", transform=train_transform, root = \"../data/\")# for needed folds\n",
    "\n",
    "val_dataset = SharprDataset( split=\"val\", transform=test_transform, root = \"../data/\") # use \"val\" for default validation set\n",
    "\n",
    "test_dataset = SharprDataset( split=\"test\", transform=test_transform, root = \"../data/\") # use \"test\" for default test set"
   ]
  },
  {
   "cell_type": "code",
   "execution_count": 7,
   "id": "9020e7f4-1fa4-433b-bfbb-e0ce6f40dab7",
   "metadata": {},
   "outputs": [
    {
     "name": "stdout",
     "output_type": "stream",
     "text": [
      "Dataset SharprDataset of size 457174 (MpraDaraset)\n",
      "    Number of datapoints: 457174\n",
      "    Used split fold: train\n",
      "==================================================\n",
      "Dataset SharprDataset of size 10130 (MpraDaraset)\n",
      "    Number of datapoints: 10130\n",
      "    Used split fold: val\n",
      "==================================================\n",
      "Dataset SharprDataset of size 10130 (MpraDaraset)\n",
      "    Number of datapoints: 10130\n",
      "    Used split fold: test\n"
     ]
    }
   ],
   "source": [
    "print(train_dataset)\n",
    "print(\"=\"*50)\n",
    "print(val_dataset)\n",
    "print(\"=\"*50)\n",
    "print(test_dataset)"
   ]
  },
  {
   "cell_type": "code",
   "execution_count": 8,
   "id": "6fbc1bc1-4979-4ca4-afb8-c56394b274f0",
   "metadata": {},
   "outputs": [],
   "source": [
    "# encapsulate data into dataloader form\n",
    "train_loader = data.DataLoader(dataset=train_dataset, batch_size=BATCH_SIZE, shuffle=True, num_workers = NUM_WORKERS)\n",
    "\n",
    "val_loader = data.DataLoader(dataset=val_dataset, batch_size=BATCH_SIZE, shuffle=False, num_workers = NUM_WORKERS)\n",
    "\n",
    "test_loader = data.DataLoader(dataset=test_dataset, batch_size=BATCH_SIZE, shuffle=False, num_workers = NUM_WORKERS)"
   ]
  },
  {
   "cell_type": "code",
   "execution_count": 9,
   "id": "624d91cb-1374-470d-aa32-aea4c0273e0b",
   "metadata": {},
   "outputs": [],
   "source": [
    "in_channels = len(train_dataset[0][0])\n",
    "out_channels = len(SharprDataset.ACTIVITY_COLUMNS)"
   ]
  },
  {
   "cell_type": "code",
   "execution_count": 10,
   "id": "62c98df8-de4b-4f06-a02b-39d2aa59dec7",
   "metadata": {},
   "outputs": [
    {
     "data": {
      "application/vnd.jupyter.widget-view+json": {
       "model_id": "df2394d8dc4d4982bdf601562d8dbc61",
       "version_major": 2,
       "version_minor": 0
      },
      "text/plain": [
       "  0%|          | 0/100 [00:00<?, ?it/s]"
      ]
     },
     "metadata": {},
     "output_type": "display_data"
    },
    {
     "name": "stdout",
     "output_type": "stream",
     "text": [
      "Stopping early, the loss has diverged\n",
      "Learning rate search finished. See the graph with {finder_name}.plot()\n",
      "LR suggestion: steepest gradient\n",
      "Suggested LR: 2.06E-04\n"
     ]
    },
    {
     "data": {
      "image/png": "[encoded data removed]",
      "text/plain": [
       "<Figure size 640x480 with 1 Axes>"
      ]
     },
     "metadata": {},
     "output_type": "display_data"
    }
   ],
   "source": [
    "# search good lr\n",
    "model = HumanLegNet(in_ch=in_channels,\n",
    "                     output_dim = out_channels,\n",
    "                     stem_ch=64,\n",
    "                     stem_ks=11,\n",
    "                     ef_ks=9,\n",
    "                     ef_block_sizes=[256, 128, 128, 128, 64, 64],\n",
    "                     pool_sizes=[2,2,2,2,2,2],\n",
    "                     resize_factor=4)\n",
    "\n",
    "optimizer = torch.optim.AdamW(model.parameters(), lr=1e-7, weight_decay = 1e-4)\n",
    "criterion = nn.MSELoss() \n",
    "\n",
    "lr_finder = LRFinder(model, optimizer, criterion, device=\"cuda\")\n",
    "lr_finder.range_test(train_loader, start_lr=1e-7, end_lr=10, num_iter=100)\n",
    "\n",
    "lr_finder.plot()  \n",
    "plt.show()"
   ]
  },
  {
   "cell_type": "markdown",
   "id": "8bd43522-c586-4489-97ed-a907c7f96486",
   "metadata": {},
   "source": [
    "Since we're using OneCycleLR in HumanLegNet, we should take the extreme points of the descent: lr = 1.5e-4"
   ]
  },
  {
   "cell_type": "code",
   "execution_count": 11,
   "id": "d3f35a08-d9bb-427b-ad30-04b7bc5ccbff",
   "metadata": {},
   "outputs": [],
   "source": [
    "model = HumanLegNet(in_ch=in_channels,\n",
    "                     output_dim = out_channels,\n",
    "                     stem_ch=64,\n",
    "                     stem_ks=11,\n",
    "                     ef_ks=9,\n",
    "                     ef_block_sizes=[80, 96, 112, 128],\n",
    "                     pool_sizes=[2,2,2,2],\n",
    "                     resize_factor=4)\n",
    "model.apply(initialize_weights)\n",
    "\n",
    "seq_model = LitModel_Sharpr(model = model,\n",
    "                           loss = nn.MSELoss(), \n",
    "                           activity_columns = SharprDataset.ACTIVITY_COLUMNS,\n",
    "                           weight_decay = 1e-4, lr = 1.5e-4, print_each = 10)"
   ]
  },
  {
   "cell_type": "code",
   "execution_count": 12,
   "id": "7f7a27f5-1d55-48bd-b7af-63e505fd0976",
   "metadata": {},
   "outputs": [
    {
     "name": "stderr",
     "output_type": "stream",
     "text": [
      "Using 16bit Automatic Mixed Precision (AMP)\n",
      "GPU available: True (cuda), used: True\n",
      "TPU available: False, using: 0 TPU cores\n",
      "HPU available: False, using: 0 HPUs\n"
     ]
    }
   ],
   "source": [
    "checkpoint_callback = ModelCheckpoint(\n",
    "        monitor='val_loss', \n",
    "        mode='min',  \n",
    "        save_top_k=1,\n",
    "        save_last=False\n",
    "    )\n",
    "# Initialize a trainer\n",
    "trainer = L.Trainer(\n",
    "    accelerator=\"gpu\",\n",
    "    devices=[0],\n",
    "    max_epochs=50,\n",
    "    gradient_clip_val=1,\n",
    "    precision='16-mixed', \n",
    "    enable_progress_bar = True,\n",
    "    num_sanity_val_steps=0,\n",
    "    callbacks=[checkpoint_callback]\n",
    ")"
   ]
  },
  {
   "cell_type": "code",
   "execution_count": 13,
   "id": "06844ac1-57bf-4545-826a-8c879205d3a6",
   "metadata": {},
   "outputs": [
    {
     "name": "stderr",
     "output_type": "stream",
     "text": [
      "You are using a CUDA device ('NVIDIA GeForce RTX 3090') that has Tensor Cores. To properly utilize them, you should set `torch.set_float32_matmul_precision('medium' | 'high')` which will trade-off precision for performance. For more details, read https://pytorch.org/docs/stable/generated/torch.set_float32_matmul_precision.html#torch.set_float32_matmul_precision\n",
      "LOCAL_RANK: 0 - CUDA_VISIBLE_DEVICES: [0,1]\n",
      "Loading `train_dataloader` to estimate number of stepping batches.\n",
      "\n",
      "  | Name          | Type            | Params | Mode \n",
      "----------------------------------------------------------\n",
      "0 | model         | HumanLegNet     | 1.3 M  | train\n",
      "1 | loss          | MSELoss         | 0      | train\n",
      "2 | train_pearson | PearsonCorrCoef | 0      | train\n",
      "3 | val_pearson   | PearsonCorrCoef | 0      | train\n",
      "4 | test_pearson  | PearsonCorrCoef | 0      | train\n",
      "----------------------------------------------------------\n",
      "1.3 M     Trainable params\n",
      "0         Non-trainable params\n",
      "1.3 M     Total params\n",
      "5.301     Total estimated model params size (MB)\n",
      "120       Modules in train mode\n",
      "0         Modules in eval mode\n"
     ]
    },
    {
     "data": {
      "application/vnd.jupyter.widget-view+json": {
       "model_id": "1e5a61dab28f4c8f8399fe4d87eae2c5",
       "version_major": 2,
       "version_minor": 0
      },
      "text/plain": [
       "Training: |                                                                                       | 0/? [00:00…"
      ]
     },
     "metadata": {},
     "output_type": "display_data"
    },
    {
     "data": {
      "application/vnd.jupyter.widget-view+json": {
       "model_id": "",
       "version_major": 2,
       "version_minor": 0
      },
      "text/plain": [
       "Validation: |                                                                                     | 0/? [00:00…"
      ]
     },
     "metadata": {},
     "output_type": "display_data"
    },
    {
     "data": {
      "application/vnd.jupyter.widget-view+json": {
       "model_id": "",
       "version_major": 2,
       "version_minor": 0
      },
      "text/plain": [
       "Validation: |                                                                                     | 0/? [00:00…"
      ]
     },
     "metadata": {},
     "output_type": "display_data"
    },
    {
     "data": {
      "application/vnd.jupyter.widget-view+json": {
       "model_id": "",
       "version_major": 2,
       "version_minor": 0
      },
      "text/plain": [
       "Validation: |                                                                                     | 0/? [00:00…"
      ]
     },
     "metadata": {},
     "output_type": "display_data"
    },
    {
     "data": {
      "application/vnd.jupyter.widget-view+json": {
       "model_id": "",
       "version_major": 2,
       "version_minor": 0
      },
      "text/plain": [
       "Validation: |                                                                                     | 0/? [00:00…"
      ]
     },
     "metadata": {},
     "output_type": "display_data"
    },
    {
     "data": {
      "application/vnd.jupyter.widget-view+json": {
       "model_id": "",
       "version_major": 2,
       "version_minor": 0
      },
      "text/plain": [
       "Validation: |                                                                                     | 0/? [00:00…"
      ]
     },
     "metadata": {},
     "output_type": "display_data"
    },
    {
     "data": {
      "application/vnd.jupyter.widget-view+json": {
       "model_id": "",
       "version_major": 2,
       "version_minor": 0
      },
      "text/plain": [
       "Validation: |                                                                                     | 0/? [00:00…"
      ]
     },
     "metadata": {},
     "output_type": "display_data"
    },
    {
     "data": {
      "application/vnd.jupyter.widget-view+json": {
       "model_id": "",
       "version_major": 2,
       "version_minor": 0
      },
      "text/plain": [
       "Validation: |                                                                                     | 0/? [00:00…"
      ]
     },
     "metadata": {},
     "output_type": "display_data"
    },
    {
     "data": {
      "application/vnd.jupyter.widget-view+json": {
       "model_id": "",
       "version_major": 2,
       "version_minor": 0
      },
      "text/plain": [
       "Validation: |                                                                                     | 0/? [00:00…"
      ]
     },
     "metadata": {},
     "output_type": "display_data"
    },
    {
     "data": {
      "application/vnd.jupyter.widget-view+json": {
       "model_id": "",
       "version_major": 2,
       "version_minor": 0
      },
      "text/plain": [
       "Validation: |                                                                                     | 0/? [00:00…"
      ]
     },
     "metadata": {},
     "output_type": "display_data"
    },
    {
     "data": {
      "application/vnd.jupyter.widget-view+json": {
       "model_id": "",
       "version_major": 2,
       "version_minor": 0
      },
      "text/plain": [
       "Validation: |                                                                                     | 0/? [00:00…"
      ]
     },
     "metadata": {},
     "output_type": "display_data"
    },
    {
     "name": "stdout",
     "output_type": "stream",
     "text": [
      "\n",
      "----------------------------------------------------------------------------------------------------\n",
      "| Epoch: 9 | Val Loss: 0.99241 | Val Pearson: k562_minp_rep1 : 0.1836821585893631, k562_minp_rep2 : 0.26390448212623596, k562_minp_avg : 0.2618497312068939, k562_sv40p_rep1 : 0.08037997037172318, k562_sv40p_rep2 : 0.08042032271623611, k562_sv40p_avg : 0.08222232013940811, hepg2_minp_rep1 : 0.15127506852149963, hepg2_minp_rep2 : 0.11433204263448715, hepg2_minp_avg : 0.14435410499572754, hepg2_sv40p_rep1 : 0.1296854317188263, hepg2_sv40p_rep2 : 0.11210045218467712, hepg2_sv40p_avg : 0.1378677785396576, | Train Pearson: 0.35123 \n",
      "----------------------------------------------------------------------------------------------------\n",
      "\n"
     ]
    },
    {
     "data": {
      "application/vnd.jupyter.widget-view+json": {
       "model_id": "",
       "version_major": 2,
       "version_minor": 0
      },
      "text/plain": [
       "Validation: |                                                                                     | 0/? [00:00…"
      ]
     },
     "metadata": {},
     "output_type": "display_data"
    },
    {
     "data": {
      "application/vnd.jupyter.widget-view+json": {
       "model_id": "",
       "version_major": 2,
       "version_minor": 0
      },
      "text/plain": [
       "Validation: |                                                                                     | 0/? [00:00…"
      ]
     },
     "metadata": {},
     "output_type": "display_data"
    },
    {
     "data": {
      "application/vnd.jupyter.widget-view+json": {
       "model_id": "",
       "version_major": 2,
       "version_minor": 0
      },
      "text/plain": [
       "Validation: |                                                                                     | 0/? [00:00…"
      ]
     },
     "metadata": {},
     "output_type": "display_data"
    },
    {
     "data": {
      "application/vnd.jupyter.widget-view+json": {
       "model_id": "",
       "version_major": 2,
       "version_minor": 0
      },
      "text/plain": [
       "Validation: |                                                                                     | 0/? [00:00…"
      ]
     },
     "metadata": {},
     "output_type": "display_data"
    },
    {
     "data": {
      "application/vnd.jupyter.widget-view+json": {
       "model_id": "",
       "version_major": 2,
       "version_minor": 0
      },
      "text/plain": [
       "Validation: |                                                                                     | 0/? [00:00…"
      ]
     },
     "metadata": {},
     "output_type": "display_data"
    },
    {
     "data": {
      "application/vnd.jupyter.widget-view+json": {
       "model_id": "",
       "version_major": 2,
       "version_minor": 0
      },
      "text/plain": [
       "Validation: |                                                                                     | 0/? [00:00…"
      ]
     },
     "metadata": {},
     "output_type": "display_data"
    },
    {
     "data": {
      "application/vnd.jupyter.widget-view+json": {
       "model_id": "",
       "version_major": 2,
       "version_minor": 0
      },
      "text/plain": [
       "Validation: |                                                                                     | 0/? [00:00…"
      ]
     },
     "metadata": {},
     "output_type": "display_data"
    },
    {
     "data": {
      "application/vnd.jupyter.widget-view+json": {
       "model_id": "",
       "version_major": 2,
       "version_minor": 0
      },
      "text/plain": [
       "Validation: |                                                                                     | 0/? [00:00…"
      ]
     },
     "metadata": {},
     "output_type": "display_data"
    },
    {
     "data": {
      "application/vnd.jupyter.widget-view+json": {
       "model_id": "",
       "version_major": 2,
       "version_minor": 0
      },
      "text/plain": [
       "Validation: |                                                                                     | 0/? [00:00…"
      ]
     },
     "metadata": {},
     "output_type": "display_data"
    },
    {
     "data": {
      "application/vnd.jupyter.widget-view+json": {
       "model_id": "",
       "version_major": 2,
       "version_minor": 0
      },
      "text/plain": [
       "Validation: |                                                                                     | 0/? [00:00…"
      ]
     },
     "metadata": {},
     "output_type": "display_data"
    },
    {
     "name": "stdout",
     "output_type": "stream",
     "text": [
      "\n",
      "----------------------------------------------------------------------------------------------------\n",
      "| Epoch: 19 | Val Loss: 1.01064 | Val Pearson: k562_minp_rep1 : 0.18618889153003693, k562_minp_rep2 : 0.2510790228843689, k562_minp_avg : 0.2536179721355438, k562_sv40p_rep1 : 0.06848883628845215, k562_sv40p_rep2 : 0.06848490238189697, k562_sv40p_avg : 0.07533908635377884, hepg2_minp_rep1 : 0.1645689606666565, hepg2_minp_rep2 : 0.14230749011039734, hepg2_minp_avg : 0.1674228310585022, hepg2_sv40p_rep1 : 0.148456409573555, hepg2_sv40p_rep2 : 0.1389690488576889, hepg2_sv40p_avg : 0.16535122692584991, | Train Pearson: 0.43779 \n",
      "----------------------------------------------------------------------------------------------------\n",
      "\n"
     ]
    },
    {
     "data": {
      "application/vnd.jupyter.widget-view+json": {
       "model_id": "",
       "version_major": 2,
       "version_minor": 0
      },
      "text/plain": [
       "Validation: |                                                                                     | 0/? [00:00…"
      ]
     },
     "metadata": {},
     "output_type": "display_data"
    },
    {
     "data": {
      "application/vnd.jupyter.widget-view+json": {
       "model_id": "",
       "version_major": 2,
       "version_minor": 0
      },
      "text/plain": [
       "Validation: |                                                                                     | 0/? [00:00…"
      ]
     },
     "metadata": {},
     "output_type": "display_data"
    },
    {
     "data": {
      "application/vnd.jupyter.widget-view+json": {
       "model_id": "",
       "version_major": 2,
       "version_minor": 0
      },
      "text/plain": [
       "Validation: |                                                                                     | 0/? [00:00…"
      ]
     },
     "metadata": {},
     "output_type": "display_data"
    },
    {
     "data": {
      "application/vnd.jupyter.widget-view+json": {
       "model_id": "",
       "version_major": 2,
       "version_minor": 0
      },
      "text/plain": [
       "Validation: |                                                                                     | 0/? [00:00…"
      ]
     },
     "metadata": {},
     "output_type": "display_data"
    },
    {
     "data": {
      "application/vnd.jupyter.widget-view+json": {
       "model_id": "",
       "version_major": 2,
       "version_minor": 0
      },
      "text/plain": [
       "Validation: |                                                                                     | 0/? [00:00…"
      ]
     },
     "metadata": {},
     "output_type": "display_data"
    },
    {
     "data": {
      "application/vnd.jupyter.widget-view+json": {
       "model_id": "",
       "version_major": 2,
       "version_minor": 0
      },
      "text/plain": [
       "Validation: |                                                                                     | 0/? [00:00…"
      ]
     },
     "metadata": {},
     "output_type": "display_data"
    },
    {
     "data": {
      "application/vnd.jupyter.widget-view+json": {
       "model_id": "",
       "version_major": 2,
       "version_minor": 0
      },
      "text/plain": [
       "Validation: |                                                                                     | 0/? [00:00…"
      ]
     },
     "metadata": {},
     "output_type": "display_data"
    },
    {
     "data": {
      "application/vnd.jupyter.widget-view+json": {
       "model_id": "",
       "version_major": 2,
       "version_minor": 0
      },
      "text/plain": [
       "Validation: |                                                                                     | 0/? [00:00…"
      ]
     },
     "metadata": {},
     "output_type": "display_data"
    },
    {
     "data": {
      "application/vnd.jupyter.widget-view+json": {
       "model_id": "",
       "version_major": 2,
       "version_minor": 0
      },
      "text/plain": [
       "Validation: |                                                                                     | 0/? [00:00…"
      ]
     },
     "metadata": {},
     "output_type": "display_data"
    },
    {
     "data": {
      "application/vnd.jupyter.widget-view+json": {
       "model_id": "",
       "version_major": 2,
       "version_minor": 0
      },
      "text/plain": [
       "Validation: |                                                                                     | 0/? [00:00…"
      ]
     },
     "metadata": {},
     "output_type": "display_data"
    },
    {
     "name": "stdout",
     "output_type": "stream",
     "text": [
      "\n",
      "----------------------------------------------------------------------------------------------------\n",
      "| Epoch: 29 | Val Loss: 1.06930 | Val Pearson: k562_minp_rep1 : 0.1628054827451706, k562_minp_rep2 : 0.23938727378845215, k562_minp_avg : 0.2332845777273178, k562_sv40p_rep1 : 0.04839147999882698, k562_sv40p_rep2 : 0.04841233417391777, k562_sv40p_avg : 0.06801199913024902, hepg2_minp_rep1 : 0.1331956535577774, hepg2_minp_rep2 : 0.10052168369293213, hepg2_minp_avg : 0.1251719444990158, hepg2_sv40p_rep1 : 0.12318266928195953, hepg2_sv40p_rep2 : 0.11988329142332077, hepg2_sv40p_avg : 0.13962577283382416, | Train Pearson: 0.53356 \n",
      "----------------------------------------------------------------------------------------------------\n",
      "\n"
     ]
    },
    {
     "data": {
      "application/vnd.jupyter.widget-view+json": {
       "model_id": "",
       "version_major": 2,
       "version_minor": 0
      },
      "text/plain": [
       "Validation: |                                                                                     | 0/? [00:00…"
      ]
     },
     "metadata": {},
     "output_type": "display_data"
    },
    {
     "data": {
      "application/vnd.jupyter.widget-view+json": {
       "model_id": "",
       "version_major": 2,
       "version_minor": 0
      },
      "text/plain": [
       "Validation: |                                                                                     | 0/? [00:00…"
      ]
     },
     "metadata": {},
     "output_type": "display_data"
    },
    {
     "data": {
      "application/vnd.jupyter.widget-view+json": {
       "model_id": "",
       "version_major": 2,
       "version_minor": 0
      },
      "text/plain": [
       "Validation: |                                                                                     | 0/? [00:00…"
      ]
     },
     "metadata": {},
     "output_type": "display_data"
    },
    {
     "data": {
      "application/vnd.jupyter.widget-view+json": {
       "model_id": "",
       "version_major": 2,
       "version_minor": 0
      },
      "text/plain": [
       "Validation: |                                                                                     | 0/? [00:00…"
      ]
     },
     "metadata": {},
     "output_type": "display_data"
    },
    {
     "data": {
      "application/vnd.jupyter.widget-view+json": {
       "model_id": "",
       "version_major": 2,
       "version_minor": 0
      },
      "text/plain": [
       "Validation: |                                                                                     | 0/? [00:00…"
      ]
     },
     "metadata": {},
     "output_type": "display_data"
    },
    {
     "data": {
      "application/vnd.jupyter.widget-view+json": {
       "model_id": "",
       "version_major": 2,
       "version_minor": 0
      },
      "text/plain": [
       "Validation: |                                                                                     | 0/? [00:00…"
      ]
     },
     "metadata": {},
     "output_type": "display_data"
    },
    {
     "data": {
      "application/vnd.jupyter.widget-view+json": {
       "model_id": "",
       "version_major": 2,
       "version_minor": 0
      },
      "text/plain": [
       "Validation: |                                                                                     | 0/? [00:00…"
      ]
     },
     "metadata": {},
     "output_type": "display_data"
    },
    {
     "data": {
      "application/vnd.jupyter.widget-view+json": {
       "model_id": "",
       "version_major": 2,
       "version_minor": 0
      },
      "text/plain": [
       "Validation: |                                                                                     | 0/? [00:00…"
      ]
     },
     "metadata": {},
     "output_type": "display_data"
    },
    {
     "data": {
      "application/vnd.jupyter.widget-view+json": {
       "model_id": "",
       "version_major": 2,
       "version_minor": 0
      },
      "text/plain": [
       "Validation: |                                                                                     | 0/? [00:00…"
      ]
     },
     "metadata": {},
     "output_type": "display_data"
    },
    {
     "data": {
      "application/vnd.jupyter.widget-view+json": {
       "model_id": "",
       "version_major": 2,
       "version_minor": 0
      },
      "text/plain": [
       "Validation: |                                                                                     | 0/? [00:00…"
      ]
     },
     "metadata": {},
     "output_type": "display_data"
    },
    {
     "name": "stdout",
     "output_type": "stream",
     "text": [
      "\n",
      "----------------------------------------------------------------------------------------------------\n",
      "| Epoch: 39 | Val Loss: 1.15404 | Val Pearson: k562_minp_rep1 : 0.13909286260604858, k562_minp_rep2 : 0.208574116230011, k562_minp_avg : 0.20172119140625, k562_sv40p_rep1 : 0.03467486426234245, k562_sv40p_rep2 : 0.03467761352658272, k562_sv40p_avg : 0.04959936439990997, hepg2_minp_rep1 : 0.11726048588752747, hepg2_minp_rep2 : 0.09171992540359497, hepg2_minp_avg : 0.11186090856790543, hepg2_sv40p_rep1 : 0.11631269007921219, hepg2_sv40p_rep2 : 0.1170414462685585, hepg2_sv40p_avg : 0.13386383652687073, | Train Pearson: 0.61229 \n",
      "----------------------------------------------------------------------------------------------------\n",
      "\n"
     ]
    },
    {
     "data": {
      "application/vnd.jupyter.widget-view+json": {
       "model_id": "",
       "version_major": 2,
       "version_minor": 0
      },
      "text/plain": [
       "Validation: |                                                                                     | 0/? [00:00…"
      ]
     },
     "metadata": {},
     "output_type": "display_data"
    },
    {
     "data": {
      "application/vnd.jupyter.widget-view+json": {
       "model_id": "",
       "version_major": 2,
       "version_minor": 0
      },
      "text/plain": [
       "Validation: |                                                                                     | 0/? [00:00…"
      ]
     },
     "metadata": {},
     "output_type": "display_data"
    },
    {
     "data": {
      "application/vnd.jupyter.widget-view+json": {
       "model_id": "",
       "version_major": 2,
       "version_minor": 0
      },
      "text/plain": [
       "Validation: |                                                                                     | 0/? [00:00…"
      ]
     },
     "metadata": {},
     "output_type": "display_data"
    },
    {
     "data": {
      "application/vnd.jupyter.widget-view+json": {
       "model_id": "",
       "version_major": 2,
       "version_minor": 0
      },
      "text/plain": [
       "Validation: |                                                                                     | 0/? [00:00…"
      ]
     },
     "metadata": {},
     "output_type": "display_data"
    },
    {
     "data": {
      "application/vnd.jupyter.widget-view+json": {
       "model_id": "1980f56704ce4b9b980682a398bfb3db",
       "version_major": 2,
       "version_minor": 0
      },
      "text/plain": [
       "Validation: |                                                                                     | 0/? [00:00…"
      ]
     },
     "metadata": {},
     "output_type": "display_data"
    },
    {
     "data": {
      "application/vnd.jupyter.widget-view+json": {
       "model_id": "6064c5ba64784b10acc18ecb5f413e0b",
       "version_major": 2,
       "version_minor": 0
      },
      "text/plain": [
       "Validation: |                                                                                     | 0/? [00:00…"
      ]
     },
     "metadata": {},
     "output_type": "display_data"
    },
    {
     "data": {
      "application/vnd.jupyter.widget-view+json": {
       "model_id": "2f67845e0a314668b58369b5a7710ab4",
       "version_major": 2,
       "version_minor": 0
      },
      "text/plain": [
       "Validation: |                                                                                     | 0/? [00:00…"
      ]
     },
     "metadata": {},
     "output_type": "display_data"
    },
    {
     "data": {
      "application/vnd.jupyter.widget-view+json": {
       "model_id": "47ccc0714d2c4531b110f776015d7d78",
       "version_major": 2,
       "version_minor": 0
      },
      "text/plain": [
       "Validation: |                                                                                     | 0/? [00:00…"
      ]
     },
     "metadata": {},
     "output_type": "display_data"
    },
    {
     "data": {
      "application/vnd.jupyter.widget-view+json": {
       "model_id": "bda7456e2e4c41e78b32e98921ae4582",
       "version_major": 2,
       "version_minor": 0
      },
      "text/plain": [
       "Validation: |                                                                                     | 0/? [00:00…"
      ]
     },
     "metadata": {},
     "output_type": "display_data"
    },
    {
     "data": {
      "application/vnd.jupyter.widget-view+json": {
       "model_id": "9917d4c15ce14fdfa8482b89c2ff5dea",
       "version_major": 2,
       "version_minor": 0
      },
      "text/plain": [
       "Validation: |                                                                                     | 0/? [00:00…"
      ]
     },
     "metadata": {},
     "output_type": "display_data"
    },
    {
     "name": "stderr",
     "output_type": "stream",
     "text": [
      "`Trainer.fit` stopped: `max_epochs=50` reached.\n"
     ]
    },
    {
     "name": "stdout",
     "output_type": "stream",
     "text": [
      "\n",
      "----------------------------------------------------------------------------------------------------\n",
      "| Epoch: 49 | Val Loss: 1.18125 | Val Pearson: k562_minp_rep1 : 0.13005144894123077, k562_minp_rep2 : 0.19844941794872284, k562_minp_avg : 0.1901623159646988, k562_sv40p_rep1 : 0.025770658627152443, k562_sv40p_rep2 : 0.02577263116836548, k562_sv40p_avg : 0.04278036206960678, hepg2_minp_rep1 : 0.10858959704637527, hepg2_minp_rep2 : 0.08260546624660492, hepg2_minp_avg : 0.1011292114853859, hepg2_sv40p_rep1 : 0.10100755095481873, hepg2_sv40p_rep2 : 0.10501010715961456, hepg2_sv40p_avg : 0.11768355220556259, | Train Pearson: 0.64010 \n",
      "----------------------------------------------------------------------------------------------------\n",
      "\n"
     ]
    }
   ],
   "source": [
    "# Train the model\n",
    "trainer.fit(seq_model,\n",
    "            train_dataloaders=train_loader,\n",
    "            val_dataloaders=val_loader)"
   ]
  },
  {
   "cell_type": "code",
   "execution_count": 14,
   "id": "e61afc00-ea49-4c2a-b5c1-dd24e1162eb3",
   "metadata": {},
   "outputs": [
    {
     "name": "stderr",
     "output_type": "stream",
     "text": [
      "LOCAL_RANK: 0 - CUDA_VISIBLE_DEVICES: [0,1]\n"
     ]
    },
    {
     "data": {
      "application/vnd.jupyter.widget-view+json": {
       "model_id": "bacc65b3a8df42549087953a413a8aca",
       "version_major": 2,
       "version_minor": 0
      },
      "text/plain": [
       "Testing: |                                                                                        | 0/? [00:00…"
      ]
     },
     "metadata": {},
     "output_type": "display_data"
    },
    {
     "name": "stdout",
     "output_type": "stream",
     "text": [
      "────────────────────────────────────────────────────────────────────────────────────────────────────────────────────────\n",
      "         Test metric                 DataLoader 0\n",
      "────────────────────────────────────────────────────────────────────────────────────────────────────────────────────────\n",
      "          test_loss               0.9755569100379944\n",
      " test_pearson_hepg2_minp_avg      0.16811557114124298\n",
      "test_pearson_hepg2_minp_rep1      0.16822941601276398\n",
      "test_pearson_hepg2_minp_rep2      0.13823442161083221\n",
      "test_pearson_hepg2_sv40p_avg      0.16205132007598877\n",
      "test_pearson_hepg2_sv40p_rep1     0.1515539139509201\n",
      "test_pearson_hepg2_sv40p_rep2     0.1309756189584732\n",
      " test_pearson_k562_minp_avg       0.28729337453842163\n",
      " test_pearson_k562_minp_rep1      0.2066919207572937\n",
      " test_pearson_k562_minp_rep2      0.2875239849090576\n",
      " test_pearson_k562_sv40p_avg      0.09649349749088287\n",
      "test_pearson_k562_sv40p_rep1      0.09765128791332245\n",
      "test_pearson_k562_sv40p_rep2      0.0976928174495697\n",
      "────────────────────────────────────────────────────────────────────────────────────────────────────────────────────────\n"
     ]
    },
    {
     "data": {
      "text/plain": [
       "[{'test_loss': 0.9755569100379944,\n",
       "  'test_pearson_k562_minp_rep1': 0.2066919207572937,\n",
       "  'test_pearson_k562_minp_rep2': 0.2875239849090576,\n",
       "  'test_pearson_k562_minp_avg': 0.28729337453842163,\n",
       "  'test_pearson_k562_sv40p_rep1': 0.09765128791332245,\n",
       "  'test_pearson_k562_sv40p_rep2': 0.0976928174495697,\n",
       "  'test_pearson_k562_sv40p_avg': 0.09649349749088287,\n",
       "  'test_pearson_hepg2_minp_rep1': 0.16822941601276398,\n",
       "  'test_pearson_hepg2_minp_rep2': 0.13823442161083221,\n",
       "  'test_pearson_hepg2_minp_avg': 0.16811557114124298,\n",
       "  'test_pearson_hepg2_sv40p_rep1': 0.1515539139509201,\n",
       "  'test_pearson_hepg2_sv40p_rep2': 0.1309756189584732,\n",
       "  'test_pearson_hepg2_sv40p_avg': 0.16205132007598877}]"
      ]
     },
     "execution_count": 14,
     "metadata": {},
     "output_type": "execute_result"
    }
   ],
   "source": [
    "best_model_path = checkpoint_callback.best_model_path\n",
    "seq_model = LitModel_Sharpr.load_from_checkpoint(\n",
    "    best_model_path,\n",
    "    model = model,\n",
    "    loss = nn.MSELoss(), \n",
    "    activity_columns = SharprDataset.ACTIVITY_COLUMNS,\n",
    "    weight_decay = 1e-4, lr = 1.5e-4, print_each = 1)\n",
    "trainer.test(seq_model, dataloaders=test_loader)"
   ]
  },
  {
   "cell_type": "code",
   "execution_count": 16,
   "id": "4f3a9233-04bd-4255-96ee-54ff38fdad37",
   "metadata": {},
   "outputs": [
    {
     "name": "stderr",
     "output_type": "stream",
     "text": [
      "LOCAL_RANK: 0 - CUDA_VISIBLE_DEVICES: [0,1]\n"
     ]
    },
    {
     "data": {
      "application/vnd.jupyter.widget-view+json": {
       "model_id": "c407605ce47c4ad3a490aaa776e9908e",
       "version_major": 2,
       "version_minor": 0
      },
      "text/plain": [
       "Predicting: |                                                                                     | 0/? [00:00…"
      ]
     },
     "metadata": {},
     "output_type": "display_data"
    },
    {
     "name": "stderr",
     "output_type": "stream",
     "text": [
      "LOCAL_RANK: 0 - CUDA_VISIBLE_DEVICES: [0,1]\n"
     ]
    },
    {
     "data": {
      "application/vnd.jupyter.widget-view+json": {
       "model_id": "e0f3c96f3f7c4ab4ba9352014b1a7416",
       "version_major": 2,
       "version_minor": 0
      },
      "text/plain": [
       "Predicting: |                                                                                     | 0/? [00:00…"
      ]
     },
     "metadata": {},
     "output_type": "display_data"
    },
    {
     "name": "stdout",
     "output_type": "stream",
     "text": [
      "Sharpr Pearson correlation\n"
     ]
    },
    {
     "data": {
      "text/plain": [
       "tensor([0.2269, 0.3055, 0.3092, 0.1154, 0.1154, 0.1246, 0.1869, 0.1720, 0.1991,\n",
       "        0.1982, 0.1675, 0.2115])"
      ]
     },
     "execution_count": 16,
     "metadata": {},
     "output_type": "execute_result"
    }
   ],
   "source": [
    "forw_transform = t.Compose([\n",
    "    t.Seq2Tensor()\n",
    "])\n",
    "rev_transform = t.Compose([\n",
    "    t.Seq2Tensor(),\n",
    "    t.ReverseComplement(1)\n",
    "])\n",
    "\n",
    "test_forw = SharprDataset(split = \"test\", transform = forw_transform, root = \"../data/\")\n",
    "test_rev = SharprDataset(split = \"test\", transform = rev_transform, root = \"../data/\")\n",
    "\n",
    "forw = data.DataLoader(dataset = test_forw, batch_size = BATCH_SIZE, shuffle = False, num_workers = NUM_WORKERS, pin_memory = True)\n",
    "rev = data.DataLoader(dataset = test_rev, batch_size = BATCH_SIZE, shuffle = False, num_workers = NUM_WORKERS, pin_memory = True)\n",
    "\n",
    "meaned_prediction(forw, rev, trainer, seq_model, \"Sharpr\")"
   ]
  },
  {
   "cell_type": "code",
   "execution_count": null,
   "id": "f140b787-9170-4604-b3d4-c4bfc2a94916",
   "metadata": {},
   "outputs": [],
   "source": []
  }
 ],
 "metadata": {
  "kernelspec": {
   "display_name": "Python [conda env:mpramnist]",
   "language": "python",
   "name": "conda-env-mpramnist-py"
  },
  "language_info": {
   "codemirror_mode": {
    "name": "ipython",
    "version": 3
   },
   "file_extension": ".py",
   "mimetype": "text/x-python",
   "name": "python",
   "nbconvert_exporter": "python",
   "pygments_lexer": "ipython3",
   "version": "3.12.7"
  }
 },
 "nbformat": 4,
 "nbformat_minor": 5
}
