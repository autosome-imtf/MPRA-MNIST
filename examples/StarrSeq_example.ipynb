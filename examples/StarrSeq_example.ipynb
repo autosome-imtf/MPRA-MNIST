{
 "cells": [
  {
   "cell_type": "code",
   "execution_count": 1,
   "id": "5754da7f-c360-499e-be3c-8d7df299775f",
   "metadata": {},
   "outputs": [],
   "source": [
    "import mpramnist\n",
    "from mpramnist.StarrSeq.dataset import StarrSeqDataset\n",
    "\n",
    "from mpramnist.models import CNN_cls\n",
    "from mpramnist.trainers import LitModel_StarrSeq\n",
    "\n",
    "from mpramnist import transforms as t\n",
    "from mpramnist import target_transforms as t_t\n",
    "\n",
    "import numpy as np\n",
    "import torch\n",
    "import torch.nn as nn\n",
    "import torch.utils.data as data\n",
    "\n",
    "import lightning.pytorch as L\n",
    "from torch.nn import functional as F\n",
    "from lightning.pytorch.callbacks import ModelCheckpoint\n",
    "\n",
    "import sklearn\n",
    "from sklearn.metrics import (\n",
    "    precision_score,\n",
    "    recall_score,\n",
    "    precision_recall_curve,\n",
    "    auc,\n",
    "    average_precision_score,\n",
    ")\n",
    "import matplotlib.pyplot as plt"
   ]
  },
  {
   "cell_type": "code",
   "execution_count": 2,
   "id": "a9bf5c84-82f1-4d9b-8a6a-b59227ed46cc",
   "metadata": {},
   "outputs": [],
   "source": [
    "def plot_pr_auc(model, loader, threshold=0.5, figsize=(4, 3)):\n",
    "    \"\"\"\n",
    "    Plot Precision-Recall curve and compute PR-AUC metrics.\n",
    "    \n",
    "    Args:\n",
    "        model: Trained PyTorch model\n",
    "        loader: DataLoader with test/validation data\n",
    "        threshold: Decision threshold for precision/recall calculation\n",
    "        figsize: Size of the output figure\n",
    "    \"\"\"\n",
    "    sigmoid = nn.Sigmoid()\n",
    "    \n",
    "    # Get predictions\n",
    "    predictions = trainer.predict(model, dataloaders=loader)\n",
    "    \n",
    "    y_preds = torch.cat([pred[\"predicted\"] for pred in predictions]).cpu()\n",
    "    targets = torch.cat([pred[\"target\"] for pred in predictions]).cpu()\n",
    "    \n",
    "    y_scores = sigmoid(y_preds).numpy()\n",
    "    y_true = targets.numpy()\n",
    "    \n",
    "    # Diagnostic info\n",
    "    print(f\"Class distribution: {np.unique(y_true, return_counts=True)}\")\n",
    "    print(f\"Score range: [{y_scores.min():.3f}, {y_scores.max():.3f}]\")\n",
    "    \n",
    "    # Calculate metrics\n",
    "    precision, recall, _ = precision_recall_curve(y_true, y_scores)\n",
    "    avg_precision = average_precision_score(y_true, y_scores)\n",
    "    pr_auc = auc(recall, precision)\n",
    "    \n",
    "    # Plot with more detail\n",
    "    plt.figure(figsize=figsize)\n",
    "    plt.plot(recall, precision, label=f'PR Curve (AP={avg_precision:.2f})', linewidth=2)\n",
    "    \n",
    "    # Add baseline (random classifier)\n",
    "    positive_ratio = y_true.mean()\n",
    "    plt.axhline(y=positive_ratio, color='r', linestyle='--', \n",
    "                label=f'Random (AP={positive_ratio:.2f})')\n",
    "    \n",
    "    plt.xlabel('Recall')\n",
    "    plt.ylabel('Precision')\n",
    "    plt.xlim([0.0, 1.0])\n",
    "    plt.ylim([0.0, 1.05])\n",
    "    plt.title('Precision-Recall Curve')\n",
    "    plt.legend()\n",
    "    plt.grid()\n",
    "    plt.tight_layout()\n",
    "    plt.show()"
   ]
  },
  {
   "cell_type": "markdown",
   "id": "0ca78d4a-0c52-4be6-a469-993b986c6de5",
   "metadata": {},
   "source": [
    "# Tasks"
   ]
  },
  {
   "cell_type": "code",
   "execution_count": 3,
   "id": "2ca0b33b-52f6-4294-97dc-b915e818a29c",
   "metadata": {},
   "outputs": [],
   "source": [
    "tasks = [\"RandomEnhancer\",           # 0\n",
    "          \"GenomicPromoter\",         # 1\n",
    "          \"CapturePromoter\",         # 2\n",
    "          \n",
    "          \"GenomicEnhancer\",         # 3\n",
    "          \"AtacSeq\",                 # 4\n",
    "          \n",
    "          \"differentialExpression\",  # 5\n",
    "\n",
    "          \"Binary\"                   # 6\n",
    "         ]"
   ]
  },
  {
   "cell_type": "markdown",
   "id": "72f54412-dad5-47f0-bb49-c3040d4203bd",
   "metadata": {
    "jp-MarkdownHeadingCollapsed": true
   },
   "source": [
    "# Random Enhancer"
   ]
  },
  {
   "cell_type": "code",
   "execution_count": 14,
   "id": "99c61de3-612d-4d0a-8a93-e08519aaf908",
   "metadata": {},
   "outputs": [],
   "source": [
    "BATCH_SIZE = 1024\n",
    "NUM_WORKERS = 103\n",
    "train_transform = t.Compose([\n",
    "    t.Seq2Tensor()\n",
    "])\n",
    "val_test_transform = t.Compose([\n",
    "    t.Seq2Tensor()\n",
    "])\n",
    "task = \"RandomEnhancer\"\n",
    "train_dataset = StarrSeqDataset(task = task, split = \"train\",transform = train_transform, root = \"../data\")\n",
    "\n",
    "val_dataset = StarrSeqDataset(task = task, split = \"val\",transform = val_test_transform, root = \"../data\") \n",
    "\n",
    "test_dataset = StarrSeqDataset(task = task, split = \"test\", transform = val_test_transform, root = \"../data\")"
   ]
  },
  {
   "cell_type": "code",
   "execution_count": 15,
   "id": "ec8ece15-7c8a-4fde-b3f2-61b9688c2a7a",
   "metadata": {},
   "outputs": [],
   "source": [
    "# encapsulate data into dataloader form\n",
    "train_loader = data.DataLoader(dataset=train_dataset, batch_size=BATCH_SIZE, shuffle=True, num_workers = NUM_WORKERS)\n",
    "\n",
    "val_loader = data.DataLoader(dataset=val_dataset, batch_size=BATCH_SIZE, shuffle=False, num_workers = NUM_WORKERS)\n",
    "\n",
    "test_loader = data.DataLoader(dataset=test_dataset, batch_size=BATCH_SIZE, shuffle=False, num_workers = NUM_WORKERS)"
   ]
  },
  {
   "cell_type": "code",
   "execution_count": 16,
   "id": "e2f6dcca-3555-4c5c-9f30-da58befe7461",
   "metadata": {},
   "outputs": [
    {
     "name": "stdout",
     "output_type": "stream",
     "text": [
      "Dataset StarrSeqDataset of size 7942528 (MpraDaraset)\n",
      "    Number of datapoints: 7942528\n",
      "    Used split fold: train\n",
      "===================\n",
      "Dataset StarrSeqDataset of size 3309387 (MpraDaraset)\n",
      "    Number of datapoints: 3309387\n",
      "    Used split fold: test\n"
     ]
    }
   ],
   "source": [
    "print(train_dataset)\n",
    "print(\"===================\")\n",
    "print(test_dataset)"
   ]
  },
  {
   "cell_type": "code",
   "execution_count": 17,
   "id": "3c2f3dfb-a593-40f5-864a-e02c66b16fb5",
   "metadata": {},
   "outputs": [],
   "source": [
    "seq_len = len(train_dataset[0][0][0])\n",
    "model = CNN_cls(seq_len = seq_len)\n",
    "\n",
    "seq_model = LitModel_StarrSeq(model = model,\n",
    "                           loss = torch.nn.BCEWithLogitsLoss(),\n",
    "                           weight_decay = 1e-1, lr = 1e-2, print_each = 1)"
   ]
  },
  {
   "cell_type": "code",
   "execution_count": 18,
   "id": "b8bba82a-ab7a-4213-b730-e131b4459179",
   "metadata": {},
   "outputs": [
    {
     "name": "stderr",
     "output_type": "stream",
     "text": [
      "Using 16bit Automatic Mixed Precision (AMP)\n",
      "💡 Tip: For seamless cloud uploads and versioning, try installing [litmodels](https://pypi.org/project/litmodels/) to enable LitModelCheckpoint, which syncs automatically with the Lightning model registry.\n",
      "GPU available: True (cuda), used: True\n",
      "TPU available: False, using: 0 TPU cores\n",
      "HPU available: False, using: 0 HPUs\n"
     ]
    }
   ],
   "source": [
    "# Initialize a trainer\n",
    "trainer = L.Trainer(\n",
    "    accelerator=\"gpu\",\n",
    "    devices=[0],\n",
    "    max_epochs=20,\n",
    "    gradient_clip_val=1,\n",
    "    precision='16-mixed', \n",
    "    enable_progress_bar = True,\n",
    ")"
   ]
  },
  {
   "cell_type": "code",
   "execution_count": null,
   "id": "e5b67a6e-e983-4e2a-8980-b27860a8cebd",
   "metadata": {},
   "outputs": [
    {
     "name": "stderr",
     "output_type": "stream",
     "text": [
      "You are using a CUDA device ('NVIDIA GeForce RTX 3090') that has Tensor Cores. To properly utilize them, you should set `torch.set_float32_matmul_precision('medium' | 'high')` which will trade-off precision for performance. For more details, read https://pytorch.org/docs/stable/generated/torch.set_float32_matmul_precision.html#torch.set_float32_matmul_precision\n",
      "LOCAL_RANK: 0 - CUDA_VISIBLE_DEVICES: [0,1]\n",
      "Loading `train_dataloader` to estimate number of stepping batches.\n",
      "\n",
      "   | Name           | Type                   | Params | Mode \n",
      "-------------------------------------------------------------------\n",
      "0  | model          | CNN_cls                | 540 K  | train\n",
      "1  | loss           | BCEWithLogitsLoss      | 0      | train\n",
      "2  | train_pearson  | PearsonCorrCoef        | 0      | train\n",
      "3  | val_pearson    | PearsonCorrCoef        | 0      | train\n",
      "4  | test_pearson   | PearsonCorrCoef        | 0      | train\n",
      "5  | val_acc        | BinaryAccuracy         | 0      | train\n",
      "6  | val_auroc      | BinaryAUROC            | 0      | train\n",
      "7  | val_aupr       | BinaryAveragePrecision | 0      | train\n",
      "8  | val_precision  | BinaryPrecision        | 0      | train\n",
      "9  | val_recall     | BinaryRecall           | 0      | train\n",
      "10 | val_f1         | BinaryF1Score          | 0      | train\n",
      "11 | test_acc       | BinaryAccuracy         | 0      | train\n",
      "12 | test_auroc     | BinaryAUROC            | 0      | train\n",
      "13 | test_aupr      | BinaryAveragePrecision | 0      | train\n",
      "14 | test_precision | BinaryPrecision        | 0      | train\n",
      "15 | test_recall    | BinaryRecall           | 0      | train\n",
      "16 | test_f1        | BinaryF1Score          | 0      | train\n",
      "-------------------------------------------------------------------\n",
      "540 K     Trainable params\n",
      "0         Non-trainable params\n",
      "540 K     Total params\n",
      "2.162     Total estimated model params size (MB)\n",
      "54        Modules in train mode\n",
      "0         Modules in eval mode\n"
     ]
    },
    {
     "data": {
      "application/vnd.jupyter.widget-view+json": {
       "model_id": "",
       "version_major": 2,
       "version_minor": 0
      },
      "text/plain": [
       "Sanity Checking: |                                                                             | 0/? [00:00<?,…"
      ]
     },
     "metadata": {},
     "output_type": "display_data"
    },
    {
     "name": "stdout",
     "output_type": "stream",
     "text": [
      "\n",
      "----------------------------------------------------------------------------------------------------\n",
      "| Epoch: 0 | Val Acc: 0.0 | Val AUROC: 0.0 | Val AUPR: 1.0 |\n",
      "| Val Precision: 0.0 | Val Recall: 0.0 | Val F1: 0.0 \n",
      "----------------------------------------------------------------------------------------------------\n",
      "\n"
     ]
    },
    {
     "name": "stderr",
     "output_type": "stream",
     "text": [
      "/home/nios/miniconda3/envs/mpramnist/lib/python3.12/site-packages/torchmetrics/utilities/prints.py:43: UserWarning: No negative samples in targets, false positive value should be meaningless. Returning zero tensor in false positive score\n",
      "  warnings.warn(*args, **kwargs)\n"
     ]
    },
    {
     "data": {
      "application/vnd.jupyter.widget-view+json": {
       "model_id": "655f74425992473f9a0f78ef92bdee18",
       "version_major": 2,
       "version_minor": 0
      },
      "text/plain": [
       "Training: |                                                                                    | 0/? [00:00<?,…"
      ]
     },
     "metadata": {},
     "output_type": "display_data"
    },
    {
     "data": {
      "application/vnd.jupyter.widget-view+json": {
       "model_id": "",
       "version_major": 2,
       "version_minor": 0
      },
      "text/plain": [
       "Validation: |                                                                                  | 0/? [00:00<?,…"
      ]
     },
     "metadata": {},
     "output_type": "display_data"
    },
    {
     "name": "stderr",
     "output_type": "stream",
     "text": [
      "/home/nios/miniconda3/envs/mpramnist/lib/python3.12/site-packages/torchmetrics/utilities/prints.py:43: UserWarning: No positive samples in targets, true positive value should be meaningless. Returning zero tensor in true positive score\n",
      "  warnings.warn(*args, **kwargs)\n",
      "/home/nios/miniconda3/envs/mpramnist/lib/python3.12/site-packages/torchmetrics/utilities/prints.py:43: UserWarning: No positive samples found in target, recall is undefined. Setting recall to one for all thresholds.\n",
      "  warnings.warn(*args, **kwargs)\n"
     ]
    },
    {
     "name": "stdout",
     "output_type": "stream",
     "text": [
      "\n",
      "----------------------------------------------------------------------------------------------------\n",
      "| Epoch: 0 | Val Acc: 0.5320849418640137 | Val AUROC: 0.5494809150695801 | Val AUPR: 0.5630844235420227 |\n",
      "| Val Precision: 0.5714786052703857 | Val Recall: 0.25652259588241577 | Val F1: 0.35409894585609436 \n",
      "----------------------------------------------------------------------------------------------------\n",
      "\n"
     ]
    },
    {
     "data": {
      "application/vnd.jupyter.widget-view+json": {
       "model_id": "",
       "version_major": 2,
       "version_minor": 0
      },
      "text/plain": [
       "Validation: |                                                                                  | 0/? [00:00<?,…"
      ]
     },
     "metadata": {},
     "output_type": "display_data"
    },
    {
     "name": "stdout",
     "output_type": "stream",
     "text": [
      "\n",
      "----------------------------------------------------------------------------------------------------\n",
      "| Epoch: 1 | Val Acc: 0.5283763408660889 | Val AUROC: 0.5486012101173401 | Val AUPR: 0.5677536725997925 |\n",
      "| Val Precision: 0.6078096628189087 | Val Recall: 0.15998013317584991 | Val F1: 0.25329190492630005 \n",
      "----------------------------------------------------------------------------------------------------\n",
      "\n"
     ]
    },
    {
     "data": {
      "application/vnd.jupyter.widget-view+json": {
       "model_id": "",
       "version_major": 2,
       "version_minor": 0
      },
      "text/plain": [
       "Validation: |                                                                                  | 0/? [00:00<?,…"
      ]
     },
     "metadata": {},
     "output_type": "display_data"
    },
    {
     "name": "stdout",
     "output_type": "stream",
     "text": [
      "\n",
      "----------------------------------------------------------------------------------------------------\n",
      "| Epoch: 2 | Val Acc: 0.5251229405403137 | Val AUROC: 0.5453441143035889 | Val AUPR: 0.5648403763771057 |\n",
      "| Val Precision: 0.6247755289077759 | Val Recall: 0.12579558789730072 | Val F1: 0.20942454040050507 \n",
      "----------------------------------------------------------------------------------------------------\n",
      "\n"
     ]
    },
    {
     "data": {
      "application/vnd.jupyter.widget-view+json": {
       "model_id": "",
       "version_major": 2,
       "version_minor": 0
      },
      "text/plain": [
       "Validation: |                                                                                  | 0/? [00:00<?,…"
      ]
     },
     "metadata": {},
     "output_type": "display_data"
    },
    {
     "name": "stdout",
     "output_type": "stream",
     "text": [
      "\n",
      "----------------------------------------------------------------------------------------------------\n",
      "| Epoch: 3 | Val Acc: 0.5253470540046692 | Val AUROC: 0.5392633080482483 | Val AUPR: 0.5612601041793823 |\n",
      "| Val Precision: 0.5956255197525024 | Val Recall: 0.1578800529241562 | Val F1: 0.24959971010684967 \n",
      "----------------------------------------------------------------------------------------------------\n",
      "\n"
     ]
    },
    {
     "data": {
      "application/vnd.jupyter.widget-view+json": {
       "model_id": "",
       "version_major": 2,
       "version_minor": 0
      },
      "text/plain": [
       "Validation: |                                                                                  | 0/? [00:00<?,…"
      ]
     },
     "metadata": {},
     "output_type": "display_data"
    },
    {
     "name": "stdout",
     "output_type": "stream",
     "text": [
      "\n",
      "----------------------------------------------------------------------------------------------------\n",
      "| Epoch: 4 | Val Acc: 0.511731743812561 | Val AUROC: 0.5374943017959595 | Val AUPR: 0.5445685386657715 |\n",
      "| Val Precision: 0.6633017659187317 | Val Recall: 0.04765228554606438 | Val F1: 0.08891670405864716 \n",
      "----------------------------------------------------------------------------------------------------\n",
      "\n"
     ]
    },
    {
     "data": {
      "application/vnd.jupyter.widget-view+json": {
       "model_id": "",
       "version_major": 2,
       "version_minor": 0
      },
      "text/plain": [
       "Validation: |                                                                                  | 0/? [00:00<?,…"
      ]
     },
     "metadata": {},
     "output_type": "display_data"
    },
    {
     "name": "stdout",
     "output_type": "stream",
     "text": [
      "\n",
      "----------------------------------------------------------------------------------------------------\n",
      "| Epoch: 5 | Val Acc: 0.5185215473175049 | Val AUROC: 0.531358003616333 | Val AUPR: 0.5307531356811523 |\n",
      "| Val Precision: 0.5522999167442322 | Val Recall: 0.19559194147586823 | Val F1: 0.28887975215911865 \n",
      "----------------------------------------------------------------------------------------------------\n",
      "\n"
     ]
    },
    {
     "data": {
      "application/vnd.jupyter.widget-view+json": {
       "model_id": "",
       "version_major": 2,
       "version_minor": 0
      },
      "text/plain": [
       "Validation: |                                                                                  | 0/? [00:00<?,…"
      ]
     },
     "metadata": {},
     "output_type": "display_data"
    },
    {
     "name": "stdout",
     "output_type": "stream",
     "text": [
      "\n",
      "----------------------------------------------------------------------------------------------------\n",
      "| Epoch: 6 | Val Acc: 0.5248500108718872 | Val AUROC: 0.5428226590156555 | Val AUPR: 0.5605683326721191 |\n",
      "| Val Precision: 0.6137391328811646 | Val Recall: 0.13409118354320526 | Val F1: 0.22009539604187012 \n",
      "----------------------------------------------------------------------------------------------------\n",
      "\n"
     ]
    },
    {
     "data": {
      "application/vnd.jupyter.widget-view+json": {
       "model_id": "",
       "version_major": 2,
       "version_minor": 0
      },
      "text/plain": [
       "Validation: |                                                                                  | 0/? [00:00<?,…"
      ]
     },
     "metadata": {},
     "output_type": "display_data"
    },
    {
     "name": "stdout",
     "output_type": "stream",
     "text": [
      "\n",
      "----------------------------------------------------------------------------------------------------\n",
      "| Epoch: 7 | Val Acc: 0.5194723606109619 | Val AUROC: 0.5426304936408997 | Val AUPR: 0.5543795228004456 |\n",
      "| Val Precision: 0.5131932497024536 | Val Recall: 0.7574406862258911 | Val F1: 0.6118417382240295 \n",
      "----------------------------------------------------------------------------------------------------\n",
      "\n"
     ]
    },
    {
     "data": {
      "application/vnd.jupyter.widget-view+json": {
       "model_id": "",
       "version_major": 2,
       "version_minor": 0
      },
      "text/plain": [
       "Validation: |                                                                                  | 0/? [00:00<?,…"
      ]
     },
     "metadata": {},
     "output_type": "display_data"
    },
    {
     "name": "stdout",
     "output_type": "stream",
     "text": [
      "\n",
      "----------------------------------------------------------------------------------------------------\n",
      "| Epoch: 8 | Val Acc: 0.5243358016014099 | Val AUROC: 0.5419765710830688 | Val AUPR: 0.5597165822982788 |\n",
      "| Val Precision: 0.5994918346405029 | Val Recall: 0.14663629233837128 | Val F1: 0.23563583195209503 \n",
      "----------------------------------------------------------------------------------------------------\n",
      "\n"
     ]
    },
    {
     "data": {
      "application/vnd.jupyter.widget-view+json": {
       "model_id": "",
       "version_major": 2,
       "version_minor": 0
      },
      "text/plain": [
       "Validation: |                                                                                  | 0/? [00:00<?,…"
      ]
     },
     "metadata": {},
     "output_type": "display_data"
    },
    {
     "name": "stdout",
     "output_type": "stream",
     "text": [
      "\n",
      "----------------------------------------------------------------------------------------------------\n",
      "| Epoch: 9 | Val Acc: 0.524986982345581 | Val AUROC: 0.5430696606636047 | Val AUPR: 0.563675045967102 |\n",
      "| Val Precision: 0.6240864992141724 | Val Recall: 0.1256706863641739 | Val F1: 0.2092127501964569 \n",
      "----------------------------------------------------------------------------------------------------\n",
      "\n"
     ]
    },
    {
     "data": {
      "application/vnd.jupyter.widget-view+json": {
       "model_id": "",
       "version_major": 2,
       "version_minor": 0
      },
      "text/plain": [
       "Validation: |                                                                                  | 0/? [00:00<?,…"
      ]
     },
     "metadata": {},
     "output_type": "display_data"
    },
    {
     "name": "stdout",
     "output_type": "stream",
     "text": [
      "\n",
      "----------------------------------------------------------------------------------------------------\n",
      "| Epoch: 10 | Val Acc: 0.528597891330719 | Val AUROC: 0.54517662525177 | Val AUPR: 0.5658086538314819 |\n",
      "| Val Precision: 0.5760387778282166 | Val Recall: 0.21664616465568542 | Val F1: 0.31487059593200684 \n",
      "----------------------------------------------------------------------------------------------------\n",
      "\n"
     ]
    },
    {
     "data": {
      "application/vnd.jupyter.widget-view+json": {
       "model_id": "",
       "version_major": 2,
       "version_minor": 0
      },
      "text/plain": [
       "Validation: |                                                                                  | 0/? [00:00<?,…"
      ]
     },
     "metadata": {},
     "output_type": "display_data"
    },
    {
     "name": "stdout",
     "output_type": "stream",
     "text": [
      "\n",
      "----------------------------------------------------------------------------------------------------\n",
      "| Epoch: 11 | Val Acc: 0.530440628528595 | Val AUROC: 0.5461578369140625 | Val AUPR: 0.5675066709518433 |\n",
      "| Val Precision: 0.5689291954040527 | Val Recall: 0.2512517273426056 | Val F1: 0.3485680818557739 \n",
      "----------------------------------------------------------------------------------------------------\n",
      "\n"
     ]
    },
    {
     "data": {
      "application/vnd.jupyter.widget-view+json": {
       "model_id": "",
       "version_major": 2,
       "version_minor": 0
      },
      "text/plain": [
       "Validation: |                                                                                  | 0/? [00:00<?,…"
      ]
     },
     "metadata": {},
     "output_type": "display_data"
    },
    {
     "name": "stdout",
     "output_type": "stream",
     "text": [
      "\n",
      "----------------------------------------------------------------------------------------------------\n",
      "| Epoch: 12 | Val Acc: 0.5274285078048706 | Val AUROC: 0.5456420183181763 | Val AUPR: 0.5680599212646484 |\n",
      "| Val Precision: 0.6216316223144531 | Val Recall: 0.14018091559410095 | Val F1: 0.22877253592014313 \n",
      "----------------------------------------------------------------------------------------------------\n",
      "\n"
     ]
    }
   ],
   "source": [
    "# Train the model\n",
    "trainer.fit(seq_model,\n",
    "            train_dataloaders=train_loader,\n",
    "            val_dataloaders=val_loader)"
   ]
  },
  {
   "cell_type": "code",
   "execution_count": null,
   "id": "793763d9-247d-4891-a016-5f8314c29aa9",
   "metadata": {},
   "outputs": [],
   "source": [
    "plot_pr_auc(seq_model, test_loader)"
   ]
  },
  {
   "cell_type": "markdown",
   "id": "179872c4-1471-4eda-ba89-89bd1b71db35",
   "metadata": {},
   "source": [
    "# Genomic promoter"
   ]
  },
  {
   "cell_type": "code",
   "execution_count": 4,
   "id": "38228eca-2681-4fff-956c-859c437c0c28",
   "metadata": {},
   "outputs": [],
   "source": [
    "BATCH_SIZE = 128\n",
    "NUM_WORKERS = 103"
   ]
  },
  {
   "cell_type": "code",
   "execution_count": 5,
   "id": "079c9fc2-1851-48b3-a54d-551108f69445",
   "metadata": {},
   "outputs": [],
   "source": [
    "train_transform = t.Compose([\n",
    "    t.ReverseComplement(0.5),\n",
    "    t.Seq2Tensor(),\n",
    "])\n",
    "val_test_transform = t.Compose([\n",
    "    t.Seq2Tensor()\n",
    "])"
   ]
  },
  {
   "cell_type": "code",
   "execution_count": 6,
   "id": "3612fbd1-a1df-467e-90a0-d04e084f8ec0",
   "metadata": {},
   "outputs": [],
   "source": [
    "task = \"genomicpromoter\"\n",
    "train_dataset = StarrSeqDataset(task = task, split = \"train\",transform = train_transform, root = \"../data/\")\n",
    "\n",
    "val_dataset = StarrSeqDataset(task = task, split = \"val\",transform = val_test_transform, root = \"../data/\") \n",
    "\n",
    "test_dataset = StarrSeqDataset(task = task, split = \"test\",transform = val_test_transform, root = \"../data/\") "
   ]
  },
  {
   "cell_type": "code",
   "execution_count": 7,
   "id": "36582ac2-390b-4e00-960a-547375408dba",
   "metadata": {},
   "outputs": [
    {
     "name": "stdout",
     "output_type": "stream",
     "text": [
      "Dataset StarrSeqDataset of size 36898 (MpraDaraset)\n",
      "    Number of datapoints: 36898\n",
      "    Used split fold: train\n",
      "===================\n",
      "Dataset StarrSeqDataset of size 4098 (MpraDaraset)\n",
      "    Number of datapoints: 4098\n",
      "    Used split fold: val\n",
      "===================\n",
      "Dataset StarrSeqDataset of size 7285 (MpraDaraset)\n",
      "    Number of datapoints: 7285\n",
      "    Used split fold: test\n"
     ]
    }
   ],
   "source": [
    "print(train_dataset)\n",
    "print(\"===================\")\n",
    "print(val_dataset)\n",
    "print(\"===================\")\n",
    "print(test_dataset)"
   ]
  },
  {
   "cell_type": "code",
   "execution_count": 8,
   "id": "8690cdd3-5efc-4137-864f-53933e212729",
   "metadata": {},
   "outputs": [],
   "source": [
    "# encapsulate data into dataloader form\n",
    "train_loader = data.DataLoader(dataset=train_dataset, batch_size=BATCH_SIZE, shuffle=True, num_workers = NUM_WORKERS)\n",
    "\n",
    "val_loader = data.DataLoader(dataset=val_dataset, batch_size=BATCH_SIZE, shuffle=False, num_workers = NUM_WORKERS)\n",
    "\n",
    "test_loader = data.DataLoader(dataset=test_dataset, batch_size=BATCH_SIZE, shuffle=False, num_workers = NUM_WORKERS)"
   ]
  },
  {
   "cell_type": "code",
   "execution_count": 9,
   "id": "cd8f41f9-b6d9-4726-a86c-1d0317b2bec6",
   "metadata": {},
   "outputs": [],
   "source": [
    "seq_len = len(train_dataset[0][0][0])\n",
    "\n",
    "model = CNN_cls(seq_len = seq_len)\n",
    "\n",
    "seq_model = LitModel_StarrSeq(model = model,\n",
    "                           loss = torch.nn.BCEWithLogitsLoss(),\n",
    "                           weight_decay = 1e-1, lr = 1e-3, print_each = 10)"
   ]
  },
  {
   "cell_type": "code",
   "execution_count": 10,
   "id": "c9407c07-1f04-4e57-a1e8-de495b84317b",
   "metadata": {},
   "outputs": [
    {
     "name": "stderr",
     "output_type": "stream",
     "text": [
      "Using 16bit Automatic Mixed Precision (AMP)\n",
      "GPU available: True (cuda), used: True\n",
      "TPU available: False, using: 0 TPU cores\n",
      "HPU available: False, using: 0 HPUs\n"
     ]
    }
   ],
   "source": [
    "checkpoint_callback = ModelCheckpoint(\n",
    "        monitor='val_aupr', \n",
    "        mode='max',  \n",
    "        save_top_k=1,\n",
    "        save_last=False\n",
    "    )\n",
    "# Initialize a trainer\n",
    "trainer = L.Trainer(\n",
    "    accelerator=\"gpu\",\n",
    "    devices=[0],\n",
    "    max_epochs=30,\n",
    "    gradient_clip_val=1,\n",
    "    precision='16-mixed', \n",
    "    enable_progress_bar = True,\n",
    "    num_sanity_val_steps=0,\n",
    "    enable_model_summary=False,\n",
    "    callbacks=[checkpoint_callback]\n",
    ")"
   ]
  },
  {
   "cell_type": "code",
   "execution_count": 11,
   "id": "406dda9a-fc90-476c-8bc5-d4ffa730ae62",
   "metadata": {},
   "outputs": [
    {
     "name": "stderr",
     "output_type": "stream",
     "text": [
      "You are using a CUDA device ('NVIDIA GeForce RTX 3090') that has Tensor Cores. To properly utilize them, you should set `torch.set_float32_matmul_precision('medium' | 'high')` which will trade-off precision for performance. For more details, read https://pytorch.org/docs/stable/generated/torch.set_float32_matmul_precision.html#torch.set_float32_matmul_precision\n",
      "LOCAL_RANK: 0 - CUDA_VISIBLE_DEVICES: [0,1]\n",
      "Loading `train_dataloader` to estimate number of stepping batches.\n"
     ]
    },
    {
     "data": {
      "application/vnd.jupyter.widget-view+json": {
       "model_id": "62e9f36882404a788b1e2f27d83c6c14",
       "version_major": 2,
       "version_minor": 0
      },
      "text/plain": [
       "Training: |                                                                                       | 0/? [00:00…"
      ]
     },
     "metadata": {},
     "output_type": "display_data"
    },
    {
     "data": {
      "application/vnd.jupyter.widget-view+json": {
       "model_id": "",
       "version_major": 2,
       "version_minor": 0
      },
      "text/plain": [
       "Validation: |                                                                                     | 0/? [00:00…"
      ]
     },
     "metadata": {},
     "output_type": "display_data"
    },
    {
     "name": "stderr",
     "output_type": "stream",
     "text": [
      "/home/nios/miniconda3/envs/mpramnist/lib/python3.12/site-packages/torchmetrics/utilities/prints.py:43: UserWarning: No negative samples in targets, false positive value should be meaningless. Returning zero tensor in false positive score\n",
      "  warnings.warn(*args, **kwargs)\n",
      "/home/nios/miniconda3/envs/mpramnist/lib/python3.12/site-packages/torchmetrics/utilities/prints.py:43: UserWarning: No positive samples in targets, true positive value should be meaningless. Returning zero tensor in true positive score\n",
      "  warnings.warn(*args, **kwargs)\n",
      "/home/nios/miniconda3/envs/mpramnist/lib/python3.12/site-packages/torchmetrics/utilities/prints.py:43: UserWarning: No positive samples found in target, recall is undefined. Setting recall to one for all thresholds.\n",
      "  warnings.warn(*args, **kwargs)\n"
     ]
    },
    {
     "data": {
      "application/vnd.jupyter.widget-view+json": {
       "model_id": "",
       "version_major": 2,
       "version_minor": 0
      },
      "text/plain": [
       "Validation: |                                                                                     | 0/? [00:00…"
      ]
     },
     "metadata": {},
     "output_type": "display_data"
    },
    {
     "data": {
      "application/vnd.jupyter.widget-view+json": {
       "model_id": "",
       "version_major": 2,
       "version_minor": 0
      },
      "text/plain": [
       "Validation: |                                                                                     | 0/? [00:00…"
      ]
     },
     "metadata": {},
     "output_type": "display_data"
    },
    {
     "data": {
      "application/vnd.jupyter.widget-view+json": {
       "model_id": "",
       "version_major": 2,
       "version_minor": 0
      },
      "text/plain": [
       "Validation: |                                                                                     | 0/? [00:00…"
      ]
     },
     "metadata": {},
     "output_type": "display_data"
    },
    {
     "data": {
      "application/vnd.jupyter.widget-view+json": {
       "model_id": "",
       "version_major": 2,
       "version_minor": 0
      },
      "text/plain": [
       "Validation: |                                                                                     | 0/? [00:00…"
      ]
     },
     "metadata": {},
     "output_type": "display_data"
    },
    {
     "data": {
      "application/vnd.jupyter.widget-view+json": {
       "model_id": "",
       "version_major": 2,
       "version_minor": 0
      },
      "text/plain": [
       "Validation: |                                                                                     | 0/? [00:00…"
      ]
     },
     "metadata": {},
     "output_type": "display_data"
    },
    {
     "data": {
      "application/vnd.jupyter.widget-view+json": {
       "model_id": "",
       "version_major": 2,
       "version_minor": 0
      },
      "text/plain": [
       "Validation: |                                                                                     | 0/? [00:00…"
      ]
     },
     "metadata": {},
     "output_type": "display_data"
    },
    {
     "data": {
      "application/vnd.jupyter.widget-view+json": {
       "model_id": "",
       "version_major": 2,
       "version_minor": 0
      },
      "text/plain": [
       "Validation: |                                                                                     | 0/? [00:00…"
      ]
     },
     "metadata": {},
     "output_type": "display_data"
    },
    {
     "data": {
      "application/vnd.jupyter.widget-view+json": {
       "model_id": "",
       "version_major": 2,
       "version_minor": 0
      },
      "text/plain": [
       "Validation: |                                                                                     | 0/? [00:00…"
      ]
     },
     "metadata": {},
     "output_type": "display_data"
    },
    {
     "data": {
      "application/vnd.jupyter.widget-view+json": {
       "model_id": "",
       "version_major": 2,
       "version_minor": 0
      },
      "text/plain": [
       "Validation: |                                                                                     | 0/? [00:00…"
      ]
     },
     "metadata": {},
     "output_type": "display_data"
    },
    {
     "name": "stdout",
     "output_type": "stream",
     "text": [
      "\n",
      "----------------------------------------------------------------------------------------------------\n",
      "| Epoch: 9 | Val Acc: 0.8833577632904053 | Val AUROC: 0.9545644521713257 | Val AUPR: 0.9606752395629883 |\n",
      "| Val Precision: 0.9202782511711121 | Val Recall: 0.8394338488578796 | Val F1: 0.8779990077018738 \n",
      "----------------------------------------------------------------------------------------------------\n",
      "\n"
     ]
    },
    {
     "data": {
      "application/vnd.jupyter.widget-view+json": {
       "model_id": "",
       "version_major": 2,
       "version_minor": 0
      },
      "text/plain": [
       "Validation: |                                                                                     | 0/? [00:00…"
      ]
     },
     "metadata": {},
     "output_type": "display_data"
    },
    {
     "data": {
      "application/vnd.jupyter.widget-view+json": {
       "model_id": "",
       "version_major": 2,
       "version_minor": 0
      },
      "text/plain": [
       "Validation: |                                                                                     | 0/? [00:00…"
      ]
     },
     "metadata": {},
     "output_type": "display_data"
    },
    {
     "data": {
      "application/vnd.jupyter.widget-view+json": {
       "model_id": "",
       "version_major": 2,
       "version_minor": 0
      },
      "text/plain": [
       "Validation: |                                                                                     | 0/? [00:00…"
      ]
     },
     "metadata": {},
     "output_type": "display_data"
    },
    {
     "data": {
      "application/vnd.jupyter.widget-view+json": {
       "model_id": "",
       "version_major": 2,
       "version_minor": 0
      },
      "text/plain": [
       "Validation: |                                                                                     | 0/? [00:00…"
      ]
     },
     "metadata": {},
     "output_type": "display_data"
    },
    {
     "data": {
      "application/vnd.jupyter.widget-view+json": {
       "model_id": "",
       "version_major": 2,
       "version_minor": 0
      },
      "text/plain": [
       "Validation: |                                                                                     | 0/? [00:00…"
      ]
     },
     "metadata": {},
     "output_type": "display_data"
    },
    {
     "data": {
      "application/vnd.jupyter.widget-view+json": {
       "model_id": "",
       "version_major": 2,
       "version_minor": 0
      },
      "text/plain": [
       "Validation: |                                                                                     | 0/? [00:00…"
      ]
     },
     "metadata": {},
     "output_type": "display_data"
    },
    {
     "data": {
      "application/vnd.jupyter.widget-view+json": {
       "model_id": "",
       "version_major": 2,
       "version_minor": 0
      },
      "text/plain": [
       "Validation: |                                                                                     | 0/? [00:00…"
      ]
     },
     "metadata": {},
     "output_type": "display_data"
    },
    {
     "data": {
      "application/vnd.jupyter.widget-view+json": {
       "model_id": "",
       "version_major": 2,
       "version_minor": 0
      },
      "text/plain": [
       "Validation: |                                                                                     | 0/? [00:00…"
      ]
     },
     "metadata": {},
     "output_type": "display_data"
    },
    {
     "data": {
      "application/vnd.jupyter.widget-view+json": {
       "model_id": "",
       "version_major": 2,
       "version_minor": 0
      },
      "text/plain": [
       "Validation: |                                                                                     | 0/? [00:00…"
      ]
     },
     "metadata": {},
     "output_type": "display_data"
    },
    {
     "data": {
      "application/vnd.jupyter.widget-view+json": {
       "model_id": "",
       "version_major": 2,
       "version_minor": 0
      },
      "text/plain": [
       "Validation: |                                                                                     | 0/? [00:00…"
      ]
     },
     "metadata": {},
     "output_type": "display_data"
    },
    {
     "name": "stdout",
     "output_type": "stream",
     "text": [
      "\n",
      "----------------------------------------------------------------------------------------------------\n",
      "| Epoch: 19 | Val Acc: 0.8887262344360352 | Val AUROC: 0.9556012153625488 | Val AUPR: 0.9611591696739197 |\n",
      "| Val Precision: 0.8968609571456909 | Val Recall: 0.8784773349761963 | Val F1: 0.8875739574432373 \n",
      "----------------------------------------------------------------------------------------------------\n",
      "\n"
     ]
    },
    {
     "data": {
      "application/vnd.jupyter.widget-view+json": {
       "model_id": "",
       "version_major": 2,
       "version_minor": 0
      },
      "text/plain": [
       "Validation: |                                                                                     | 0/? [00:00…"
      ]
     },
     "metadata": {},
     "output_type": "display_data"
    },
    {
     "data": {
      "application/vnd.jupyter.widget-view+json": {
       "model_id": "",
       "version_major": 2,
       "version_minor": 0
      },
      "text/plain": [
       "Validation: |                                                                                     | 0/? [00:00…"
      ]
     },
     "metadata": {},
     "output_type": "display_data"
    },
    {
     "data": {
      "application/vnd.jupyter.widget-view+json": {
       "model_id": "",
       "version_major": 2,
       "version_minor": 0
      },
      "text/plain": [
       "Validation: |                                                                                     | 0/? [00:00…"
      ]
     },
     "metadata": {},
     "output_type": "display_data"
    },
    {
     "data": {
      "application/vnd.jupyter.widget-view+json": {
       "model_id": "",
       "version_major": 2,
       "version_minor": 0
      },
      "text/plain": [
       "Validation: |                                                                                     | 0/? [00:00…"
      ]
     },
     "metadata": {},
     "output_type": "display_data"
    },
    {
     "data": {
      "application/vnd.jupyter.widget-view+json": {
       "model_id": "",
       "version_major": 2,
       "version_minor": 0
      },
      "text/plain": [
       "Validation: |                                                                                     | 0/? [00:00…"
      ]
     },
     "metadata": {},
     "output_type": "display_data"
    },
    {
     "data": {
      "application/vnd.jupyter.widget-view+json": {
       "model_id": "",
       "version_major": 2,
       "version_minor": 0
      },
      "text/plain": [
       "Validation: |                                                                                     | 0/? [00:00…"
      ]
     },
     "metadata": {},
     "output_type": "display_data"
    },
    {
     "data": {
      "application/vnd.jupyter.widget-view+json": {
       "model_id": "",
       "version_major": 2,
       "version_minor": 0
      },
      "text/plain": [
       "Validation: |                                                                                     | 0/? [00:00…"
      ]
     },
     "metadata": {},
     "output_type": "display_data"
    },
    {
     "data": {
      "application/vnd.jupyter.widget-view+json": {
       "model_id": "",
       "version_major": 2,
       "version_minor": 0
      },
      "text/plain": [
       "Validation: |                                                                                     | 0/? [00:00…"
      ]
     },
     "metadata": {},
     "output_type": "display_data"
    },
    {
     "data": {
      "application/vnd.jupyter.widget-view+json": {
       "model_id": "",
       "version_major": 2,
       "version_minor": 0
      },
      "text/plain": [
       "Validation: |                                                                                     | 0/? [00:00…"
      ]
     },
     "metadata": {},
     "output_type": "display_data"
    },
    {
     "data": {
      "application/vnd.jupyter.widget-view+json": {
       "model_id": "",
       "version_major": 2,
       "version_minor": 0
      },
      "text/plain": [
       "Validation: |                                                                                     | 0/? [00:00…"
      ]
     },
     "metadata": {},
     "output_type": "display_data"
    },
    {
     "name": "stderr",
     "output_type": "stream",
     "text": [
      "`Trainer.fit` stopped: `max_epochs=30` reached.\n"
     ]
    },
    {
     "name": "stdout",
     "output_type": "stream",
     "text": [
      "\n",
      "----------------------------------------------------------------------------------------------------\n",
      "| Epoch: 29 | Val Acc: 0.8879941701889038 | Val AUROC: 0.9533363580703735 | Val AUPR: 0.9598255753517151 |\n",
      "| Val Precision: 0.8963110446929932 | Val Recall: 0.8775012493133545 | Val F1: 0.8868064284324646 \n",
      "----------------------------------------------------------------------------------------------------\n",
      "\n"
     ]
    }
   ],
   "source": [
    "# Train the model\n",
    "trainer.fit(seq_model,\n",
    "            train_dataloaders=train_loader,\n",
    "            val_dataloaders=val_loader)"
   ]
  },
  {
   "cell_type": "code",
   "execution_count": 12,
   "id": "18204ae5-c088-42bf-a69a-cfb6712832b0",
   "metadata": {},
   "outputs": [
    {
     "name": "stderr",
     "output_type": "stream",
     "text": [
      "LOCAL_RANK: 0 - CUDA_VISIBLE_DEVICES: [0,1]\n"
     ]
    },
    {
     "data": {
      "application/vnd.jupyter.widget-view+json": {
       "model_id": "9e483cd111ed43b38544880fadb60743",
       "version_major": 2,
       "version_minor": 0
      },
      "text/plain": [
       "Testing: |                                                                                        | 0/? [00:00…"
      ]
     },
     "metadata": {},
     "output_type": "display_data"
    },
    {
     "name": "stdout",
     "output_type": "stream",
     "text": [
      "\n",
      "----------------------------------------------------------------------------------------------------\n",
      "| Test Acc: 0.8889498710632324 | Test AUROC: 0.956946849822998 | Test AUPR: 0.9636529684066772 |\n",
      "| Test Precision: 0.9455289840698242 | Test Recall: 0.8252267241477966 | Test F1: 0.8812912702560425 \n",
      "----------------------------------------------------------------------------------------------------\n",
      "\n",
      "────────────────────────────────────────────────────────────────────────────────────────────────────────────────────────\n",
      "       Test metric             DataLoader 0\n",
      "────────────────────────────────────────────────────────────────────────────────────────────────────────────────────────\n",
      "        test_aupr           0.9636529684066772\n",
      "       test_auroc            0.956946849822998\n",
      "        test_loss            0.265575647354126\n",
      "────────────────────────────────────────────────────────────────────────────────────────────────────────────────────────\n"
     ]
    },
    {
     "name": "stderr",
     "output_type": "stream",
     "text": [
      "LOCAL_RANK: 0 - CUDA_VISIBLE_DEVICES: [0,1]\n"
     ]
    },
    {
     "data": {
      "application/vnd.jupyter.widget-view+json": {
       "model_id": "f216048a3baf4f52a0f1aa4e66f29895",
       "version_major": 2,
       "version_minor": 0
      },
      "text/plain": [
       "Predicting: |                                                                                     | 0/? [00:00…"
      ]
     },
     "metadata": {},
     "output_type": "display_data"
    },
    {
     "name": "stdout",
     "output_type": "stream",
     "text": [
      "Class distribution: (array([0., 1.], dtype=float32), array([3646, 3639]))\n",
      "Score range: [0.000, 1.000]\n"
     ]
    },
    {
     "data": {
      "image/png": "[encoded data removed]",
      "text/plain": [
       "<Figure size 400x300 with 1 Axes>"
      ]
     },
     "metadata": {},
     "output_type": "display_data"
    }
   ],
   "source": [
    "best_model_path = checkpoint_callback.best_model_path\n",
    "seq_model = LitModel_StarrSeq.load_from_checkpoint(\n",
    "    best_model_path,\n",
    "    model = model, \n",
    "    loss = torch.nn.BCEWithLogitsLoss(),\n",
    "    weight_decay = 1e-1, lr = 1e-3, print_each = 1)\n",
    "trainer.test(seq_model, dataloaders=test_loader)\n",
    "plot_pr_auc(seq_model, test_loader)"
   ]
  },
  {
   "cell_type": "markdown",
   "id": "4a485838-9e97-4efe-82a4-cb5f37aeef7a",
   "metadata": {
    "jp-MarkdownHeadingCollapsed": true
   },
   "source": [
    "# Promoter capture"
   ]
  },
  {
   "cell_type": "code",
   "execution_count": 2,
   "id": "70e57fbc-99fb-4422-aa6d-fc5a6d2ba869",
   "metadata": {},
   "outputs": [],
   "source": [
    "BATCH_SIZE = 512\n",
    "NUM_WORKERS = 103\n",
    "train_transform = t.Compose([\n",
    "    t.Seq2Tensor()\n",
    "])\n",
    "val_test_transform = t.Compose([\n",
    "    t.Seq2Tensor()\n",
    "])"
   ]
  },
  {
   "cell_type": "code",
   "execution_count": 3,
   "id": "4b4262d8-a8d0-4e76-b142-898295a5864d",
   "metadata": {},
   "outputs": [],
   "source": [
    "task = \"CapturePromoter\"\n",
    "\n",
    "train_dataset = StarrSeqDataset(task = task, split = \"train\",transform = train_transform, root = \"../data/\")\n",
    "\n",
    "val_dataset = StarrSeqDataset(task = task, split = \"val\",transform = val_test_transform, root = \"../data/\") \n",
    "\n",
    "test_dataset = StarrSeqDataset(task = task, split = \"test\", transform = val_test_transform, root = \"../data/\")"
   ]
  },
  {
   "cell_type": "code",
   "execution_count": 4,
   "id": "baa1791b-b821-4ac3-8274-6217b8a98293",
   "metadata": {},
   "outputs": [
    {
     "name": "stdout",
     "output_type": "stream",
     "text": [
      "Dataset StarrSeqDataset of size 79732 (MpraDaraset)\n",
      "    Number of datapoints: 79732\n",
      "    Used split fold: train\n",
      "===================\n",
      "Dataset StarrSeqDataset of size 13290 (MpraDaraset)\n",
      "    Number of datapoints: 13290\n",
      "    Used split fold: val\n",
      "===================\n",
      "Dataset StarrSeqDataset of size 13290 (MpraDaraset)\n",
      "    Number of datapoints: 13290\n",
      "    Used split fold: test\n"
     ]
    }
   ],
   "source": [
    "print(train_dataset)\n",
    "print(\"===================\")\n",
    "print(val_dataset)\n",
    "print(\"===================\")\n",
    "print(test_dataset)"
   ]
  },
  {
   "cell_type": "code",
   "execution_count": 18,
   "id": "99a1be06-3e13-453b-8057-b1d886c7124c",
   "metadata": {},
   "outputs": [],
   "source": [
    "# encapsulate data into dataloader form\n",
    "train_loader = data.DataLoader(dataset=train_dataset, batch_size=BATCH_SIZE, shuffle=True, num_workers = NUM_WORKERS)\n",
    "\n",
    "val_loader = data.DataLoader(dataset=val_dataset, batch_size=BATCH_SIZE, shuffle=False, num_workers = NUM_WORKERS)\n",
    "\n",
    "test_loader = data.DataLoader(dataset=test_dataset, batch_size=BATCH_SIZE, shuffle=False, num_workers = NUM_WORKERS)"
   ]
  },
  {
   "cell_type": "code",
   "execution_count": 19,
   "id": "6633fcff-6faa-45d8-9998-5b9ad2312f5f",
   "metadata": {},
   "outputs": [],
   "source": [
    "seq_len = len(train_dataset[0][0][0])\n",
    "model = CNN_cls(seq_len = seq_len)\n",
    "\n",
    "seq_model = LitModel_StarrSeq(model = model,\n",
    "                           loss = torch.nn.BCEWithLogitsLoss(),\n",
    "                           weight_decay = 1e-1, lr = 1e-2, print_each = 5)"
   ]
  },
  {
   "cell_type": "code",
   "execution_count": 20,
   "id": "927b2480-1640-4ed2-b067-28bf3f0cf972",
   "metadata": {
    "scrolled": true
   },
   "outputs": [
    {
     "name": "stderr",
     "output_type": "stream",
     "text": [
      "/home/nios/miniconda3/envs/mpra/lib/python3.12/site-packages/pytorch_lightning/callbacks/model_checkpoint.py:654: Checkpoint directory /home/nios/5Term/examples/lightning_logs/version_58/checkpoints exists and is not empty.\n",
      "LOCAL_RANK: 0 - CUDA_VISIBLE_DEVICES: [0,1]\n",
      "\n",
      "  | Name  | Type                      | Params | Mode \n",
      "------------------------------------------------------------\n",
      "0 | model | Simple_Classification_Net | 386 K  | train\n",
      "1 | loss  | BCEWithLogitsLoss         | 0      | train\n",
      "------------------------------------------------------------\n",
      "386 K     Trainable params\n",
      "0         Non-trainable params\n",
      "386 K     Total params\n",
      "1.547     Total estimated model params size (MB)\n",
      "32        Modules in train mode\n",
      "0         Modules in eval mode\n",
      "`Trainer.fit` stopped: `max_epochs=1` reached.\n"
     ]
    }
   ],
   "source": [
    "# Train the model\n",
    "trainer.fit(seq_model,\n",
    "            train_dataloaders=train_loader,\n",
    "            val_dataloaders=val_loader)"
   ]
  },
  {
   "cell_type": "code",
   "execution_count": 21,
   "id": "fba55eab-85e6-4303-9c6b-38bb8afa24a3",
   "metadata": {},
   "outputs": [
    {
     "name": "stderr",
     "output_type": "stream",
     "text": [
      "LOCAL_RANK: 0 - CUDA_VISIBLE_DEVICES: [0,1]\n"
     ]
    },
    {
     "name": "stdout",
     "output_type": "stream",
     "text": [
      "Precision (при пороге 0.5): 0.50\n",
      "Recall (при пороге 0.5): 1.00\n",
      "PR-AUC (correct): 0.50\n",
      "PR-AUC: 0.75\n"
     ]
    },
    {
     "data": {
      "image/png": "[encoded data removed]",
      "text/plain": [
       "<Figure size 400x300 with 1 Axes>"
      ]
     },
     "metadata": {},
     "output_type": "display_data"
    }
   ],
   "source": [
    "plot_pr_auc(seq_model, test_loader)"
   ]
  },
  {
   "cell_type": "markdown",
   "id": "4f8dcffb-6772-4791-9386-015d3cec982c",
   "metadata": {
    "jp-MarkdownHeadingCollapsed": true
   },
   "source": [
    "# Genome enhancer"
   ]
  },
  {
   "cell_type": "code",
   "execution_count": 2,
   "id": "7d5b0c17-ab22-41c8-ae27-0e505cc8b68e",
   "metadata": {},
   "outputs": [],
   "source": [
    "BATCH_SIZE = 1024\n",
    "NUM_WORKERS = 103\n",
    "train_transform = t.Compose([\n",
    "    t.Seq2Tensor()\n",
    "])\n",
    "val_test_transform = t.Compose([\n",
    "    t.Seq2Tensor()\n",
    "])"
   ]
  },
  {
   "cell_type": "code",
   "execution_count": 3,
   "id": "c137677c-cf79-4a9e-9dc1-47c16f69112f",
   "metadata": {},
   "outputs": [],
   "source": [
    "task = \"GenomicEnhancer\"\n",
    "\n",
    "train_dataset = StarrSeqDataset(task = task, split = \"train\",transform = train_transform, root = \"../data/\")\n",
    "\n",
    "val_dataset = StarrSeqDataset(task = task, split = \"val\",transform = val_test_transform, root = \"../data/\")\n",
    "\n",
    "test_dataset = StarrSeqDataset(task = task, split = \"test\", transform = val_test_transform, root = \"../data/\")"
   ]
  },
  {
   "cell_type": "code",
   "execution_count": 4,
   "id": "3df1dc01-f170-4c5b-86ab-e22956c4c5b9",
   "metadata": {},
   "outputs": [
    {
     "name": "stdout",
     "output_type": "stream",
     "text": [
      "Dataset StarrSeqDataset of size 323756 (MpraDaraset)\n",
      "    Number of datapoints: 323756\n",
      "    Used split fold: ['chr1', 'chr3', 'chr5', 'chr7', 'chr9', 'chr13', 'chr14', 'chr15', 'chr16', 'chr17', 'chr18', 'chr19', 'chr20', 'chr21', 'chr22', 'chrX']\n",
      "===================\n",
      "Dataset StarrSeqDataset of size 89062 (MpraDaraset)\n",
      "    Number of datapoints: 89062\n",
      "    Used split fold: ['chr4', 'chr6', 'chr8']\n",
      "===================\n",
      "Dataset StarrSeqDataset of size 99362 (MpraDaraset)\n",
      "    Number of datapoints: 99362\n",
      "    Used split fold: ['chr2', 'chr10', 'chr11']\n"
     ]
    }
   ],
   "source": [
    "print(train_dataset)\n",
    "print(\"===================\")\n",
    "print(val_dataset)\n",
    "print(\"===================\")\n",
    "print(test_dataset)"
   ]
  },
  {
   "cell_type": "code",
   "execution_count": 24,
   "id": "52b56d0e-b5f3-46dc-829a-1b86e8f92245",
   "metadata": {},
   "outputs": [],
   "source": [
    "# encapsulate data into dataloader form\n",
    "train_loader = data.DataLoader(dataset=train_dataset, batch_size=BATCH_SIZE, shuffle=True, num_workers = NUM_WORKERS)\n",
    "\n",
    "val_loader = data.DataLoader(dataset=val_dataset, batch_size=BATCH_SIZE, shuffle=False, num_workers = NUM_WORKERS)\n",
    "\n",
    "test_loader = data.DataLoader(dataset=test_dataset, batch_size=BATCH_SIZE, shuffle=False, num_workers = NUM_WORKERS)"
   ]
  },
  {
   "cell_type": "code",
   "execution_count": 25,
   "id": "706d9e3a-5530-4f15-92e2-54cf42474d33",
   "metadata": {},
   "outputs": [],
   "source": [
    "seq_len = len(train_dataset[0][0][0])\n",
    "model = CNN_cls(seq_len = seq_len)\n",
    "\n",
    "seq_model = LitModel_StarrSeq(model = model,\n",
    "                           loss = torch.nn.BCEWithLogitsLoss(),\n",
    "                           weight_decay = 1e-1, lr = 1e-2, print_each = 5)"
   ]
  },
  {
   "cell_type": "code",
   "execution_count": 26,
   "id": "69a84dbc-641a-4ef4-907a-aee77804b841",
   "metadata": {},
   "outputs": [
    {
     "name": "stderr",
     "output_type": "stream",
     "text": [
      "/home/nios/miniconda3/envs/mpra/lib/python3.12/site-packages/pytorch_lightning/callbacks/model_checkpoint.py:654: Checkpoint directory /home/nios/5Term/examples/lightning_logs/version_58/checkpoints exists and is not empty.\n",
      "LOCAL_RANK: 0 - CUDA_VISIBLE_DEVICES: [0,1]\n",
      "\n",
      "  | Name  | Type                      | Params | Mode \n",
      "------------------------------------------------------------\n",
      "0 | model | Simple_Classification_Net | 540 K  | train\n",
      "1 | loss  | BCEWithLogitsLoss         | 0      | train\n",
      "------------------------------------------------------------\n",
      "540 K     Trainable params\n",
      "0         Non-trainable params\n",
      "540 K     Total params\n",
      "2.162     Total estimated model params size (MB)\n",
      "32        Modules in train mode\n",
      "0         Modules in eval mode\n",
      "`Trainer.fit` stopped: `max_epochs=1` reached.\n"
     ]
    }
   ],
   "source": [
    "# Train the model\n",
    "trainer.fit(seq_model,\n",
    "            train_dataloaders=train_loader,\n",
    "            val_dataloaders=val_loader)"
   ]
  },
  {
   "cell_type": "code",
   "execution_count": 27,
   "id": "dea7d04f-7df9-412c-9e0a-cd238e4cdca6",
   "metadata": {},
   "outputs": [
    {
     "name": "stderr",
     "output_type": "stream",
     "text": [
      "LOCAL_RANK: 0 - CUDA_VISIBLE_DEVICES: [0,1]\n"
     ]
    },
    {
     "name": "stdout",
     "output_type": "stream",
     "text": [
      "Precision (при пороге 0.5): 0.47\n",
      "Recall (при пороге 0.5): 1.00\n",
      "PR-AUC (correct): 0.47\n",
      "PR-AUC: 0.73\n"
     ]
    },
    {
     "data": {
      "image/png": "[encoded data removed]",
      "text/plain": [
       "<Figure size 400x300 with 1 Axes>"
      ]
     },
     "metadata": {},
     "output_type": "display_data"
    }
   ],
   "source": [
    "plot_pr_auc(seq_model, test_loader)"
   ]
  },
  {
   "cell_type": "markdown",
   "id": "edacab3d-b29e-4c79-b26a-f15664dda872",
   "metadata": {
    "jp-MarkdownHeadingCollapsed": true
   },
   "source": [
    "# ATACseq"
   ]
  },
  {
   "cell_type": "code",
   "execution_count": 2,
   "id": "5cd28795-d30c-4c0c-943f-c6dba991dcb9",
   "metadata": {},
   "outputs": [],
   "source": [
    "BATCH_SIZE = 2048\n",
    "NUM_WORKERS = 103\n",
    "train_transform = t.Compose([\n",
    "    t.Seq2Tensor()\n",
    "])\n",
    "val_test_transform = t.Compose([\n",
    "    t.Seq2Tensor()\n",
    "])"
   ]
  },
  {
   "cell_type": "code",
   "execution_count": 3,
   "id": "c04435b0-1f92-4427-989f-14c7e5e65eab",
   "metadata": {},
   "outputs": [],
   "source": [
    "task = \"atacseq\"\n",
    "\n",
    "train_dataset = StarrSeqDataset(task = task, split = \"train\",transform = train_transform, root = \"../data/\")\n",
    "\n",
    "val_dataset = StarrSeqDataset(task = task, split = \"val\",transform = val_test_transform, root = \"../data/\")\n",
    "\n",
    "test_dataset = StarrSeqDataset(task = task, split = \"test\", transform = val_test_transform, root = \"../data/\")"
   ]
  },
  {
   "cell_type": "code",
   "execution_count": 4,
   "id": "4923dfa7-80b7-4ff3-b813-1be75ddd757d",
   "metadata": {},
   "outputs": [
    {
     "name": "stdout",
     "output_type": "stream",
     "text": [
      "Dataset StarrSeqDataset of size 2712578 (MpraDaraset)\n",
      "    Number of datapoints: 2712578\n",
      "    Used split fold: ['chr1', 'chr3', 'chr5', 'chr7', 'chr9', 'chr13', 'chr14', 'chr15', 'chr16', 'chr17', 'chr18', 'chr19', 'chr20', 'chr21', 'chr22', 'chrX']\n",
      "===================\n",
      "Dataset StarrSeqDataset of size 910186 (MpraDaraset)\n",
      "    Number of datapoints: 910186\n",
      "    Used split fold: ['chr4', 'chr6', 'chr8']\n",
      "===================\n",
      "Dataset StarrSeqDataset of size 912794 (MpraDaraset)\n",
      "    Number of datapoints: 912794\n",
      "    Used split fold: ['chr2', 'chr10', 'chr11']\n"
     ]
    }
   ],
   "source": [
    "print(train_dataset)\n",
    "print(\"===================\")\n",
    "print(val_dataset)\n",
    "print(\"===================\")\n",
    "print(test_dataset)"
   ]
  },
  {
   "cell_type": "code",
   "execution_count": 30,
   "id": "aad8e5d2-3a42-4ef6-a37c-06a8eb623bfd",
   "metadata": {},
   "outputs": [],
   "source": [
    "# encapsulate data into dataloader form\n",
    "train_loader = data.DataLoader(dataset=train_dataset, batch_size=BATCH_SIZE, shuffle=True, num_workers = NUM_WORKERS)\n",
    "\n",
    "val_loader = data.DataLoader(dataset=val_dataset, batch_size=BATCH_SIZE, shuffle=False, num_workers = NUM_WORKERS)\n",
    "\n",
    "test_loader = data.DataLoader(dataset=test_dataset, batch_size=BATCH_SIZE, shuffle=False, num_workers = NUM_WORKERS)"
   ]
  },
  {
   "cell_type": "code",
   "execution_count": 31,
   "id": "8656b0b0-38e9-4e46-b052-3a58b2000d18",
   "metadata": {},
   "outputs": [],
   "source": [
    "seq_len = len(train_dataset[0][0][0])\n",
    "model = CNN_cls(seq_len = seq_len)\n",
    "\n",
    "seq_model = LitModel_StarrSeq(model = model,\n",
    "                           loss = torch.nn.BCEWithLogitsLoss(),\n",
    "                           weight_decay = 1e-1, lr = 1e-2, print_each = 5)"
   ]
  },
  {
   "cell_type": "code",
   "execution_count": 32,
   "id": "95c60215-76a5-4b23-affa-0e4f606c221a",
   "metadata": {},
   "outputs": [
    {
     "name": "stderr",
     "output_type": "stream",
     "text": [
      "/home/nios/miniconda3/envs/mpra/lib/python3.12/site-packages/pytorch_lightning/callbacks/model_checkpoint.py:654: Checkpoint directory /home/nios/5Term/examples/lightning_logs/version_58/checkpoints exists and is not empty.\n",
      "LOCAL_RANK: 0 - CUDA_VISIBLE_DEVICES: [0,1]\n",
      "\n",
      "  | Name  | Type                      | Params | Mode \n",
      "------------------------------------------------------------\n",
      "0 | model | Simple_Classification_Net | 540 K  | train\n",
      "1 | loss  | BCEWithLogitsLoss         | 0      | train\n",
      "------------------------------------------------------------\n",
      "540 K     Trainable params\n",
      "0         Non-trainable params\n",
      "540 K     Total params\n",
      "2.162     Total estimated model params size (MB)\n",
      "32        Modules in train mode\n",
      "0         Modules in eval mode\n",
      "`Trainer.fit` stopped: `max_epochs=1` reached.\n"
     ]
    }
   ],
   "source": [
    "# Train the model\n",
    "trainer.fit(seq_model,\n",
    "            train_dataloaders=train_loader,\n",
    "            val_dataloaders=val_loader)"
   ]
  },
  {
   "cell_type": "code",
   "execution_count": 33,
   "id": "f17b6506-b9e1-4864-96d2-74903a5d2ca4",
   "metadata": {},
   "outputs": [
    {
     "name": "stderr",
     "output_type": "stream",
     "text": [
      "LOCAL_RANK: 0 - CUDA_VISIBLE_DEVICES: [0,1]\n"
     ]
    },
    {
     "name": "stdout",
     "output_type": "stream",
     "text": [
      "Precision (при пороге 0.5): 0.51\n",
      "Recall (при пороге 0.5): 1.00\n",
      "PR-AUC (correct): 0.51\n",
      "PR-AUC: 0.76\n"
     ]
    },
    {
     "data": {
      "image/png": "[encoded data removed]",
      "text/plain": [
       "<Figure size 400x300 with 1 Axes>"
      ]
     },
     "metadata": {},
     "output_type": "display_data"
    }
   ],
   "source": [
    "plot_pr_auc(seq_model, test_loader)"
   ]
  },
  {
   "cell_type": "markdown",
   "id": "8c6ff8a7-8b1a-4df5-899f-4127df2a9642",
   "metadata": {},
   "source": [
    "# Binary task"
   ]
  },
  {
   "cell_type": "code",
   "execution_count": 12,
   "id": "4a6a32e9-632d-4e51-8f48-b9561af138da",
   "metadata": {},
   "outputs": [],
   "source": [
    "class CNN_cls_binary(CNN_cls):\n",
    "    \n",
    "    def __init__(self, seq_len, block_sizes=[16, 24, 32, 40, 48], out_ch = 64, kernel_size=3):\n",
    "        \n",
    "        super().__init__(seq_len = seq_len,\n",
    "                         block_sizes = block_sizes, \n",
    "                         out_ch = out_ch, \n",
    "                         kernel_size = kernel_size)\n",
    "        \n",
    "        self.after_conv = nn.Identity()\n",
    "        self.head = nn.Identity()\n",
    "\n",
    "    def forward(self, x):\n",
    "\n",
    "        out = self.conv_net(x)\n",
    "        \n",
    "        return out"
   ]
  },
  {
   "cell_type": "code",
   "execution_count": 13,
   "id": "ce7095c4-0ed4-4054-8fba-282d366985f5",
   "metadata": {},
   "outputs": [],
   "source": [
    "class LitModel_StarrSeq_binary(LitModel_StarrSeq):\n",
    "    \n",
    "    def __init__(self, \n",
    "                 weight_decay, lr, \n",
    "                 out_ch = 64,\n",
    "                 dropout = 0.3,\n",
    "                 model = None, loss = nn.BCEWithLogitsLoss(), print_each = 1\n",
    "                ):\n",
    "        \n",
    "        super().__init__(model = model, loss = loss, print_each = print_each, weight_decay = weight_decay, lr = lr)\n",
    "\n",
    "        final_feature_size = self.model.seq_len\n",
    "        \n",
    "        self.last_block = nn.Sequential(\n",
    "            nn.Linear(model.block_sizes[-1] * final_feature_size * 2, out_ch),\n",
    "            nn.BatchNorm1d(out_ch),\n",
    "            nn.SiLU(),\n",
    "            nn.Linear(out_ch, out_ch),\n",
    "            nn.SiLU(),\n",
    "            nn.Dropout(dropout),\n",
    "            nn.BatchNorm1d(out_ch),\n",
    "            nn.Linear(out_ch, 1)\n",
    "        )\n",
    "\n",
    "    def _process_batch(self, batch):\n",
    "        seqs, labels = batch\n",
    "        enhancer = self(seqs[\"seq_enh\"])\n",
    "        promoter = self(seqs[\"seq\"])\n",
    "        concat = torch.cat([enhancer, promoter], dim=1)\n",
    "        out = self.last_block(concat).squeeze()\n",
    "        return out, labels\n",
    "\n",
    "    def training_step(self, batch, batch_nb):\n",
    "        \n",
    "        y_hat, y = self._process_batch(batch)\n",
    "\n",
    "        loss = self.loss(y_hat, y)\n",
    "        self.log(\"train_loss\", loss, on_epoch=True, prog_bar=True)\n",
    "        return loss\n",
    "\n",
    "    def validation_step(self, batch, batch_idx):\n",
    "\n",
    "        y_hat, y = self._process_batch(batch)\n",
    "        loss = self.loss(y_hat, y)\n",
    "\n",
    "        self.val_acc(y_hat, y)\n",
    "        self.val_auroc(y_hat, y)\n",
    "        self.val_aupr(y_hat, y.long())\n",
    "        self.val_precision(y_hat, y)\n",
    "        self.val_recall(y_hat, y)\n",
    "        self.val_f1(y_hat, y)\n",
    "\n",
    "        self.log(\"val_loss\", loss, on_epoch=True, prog_bar=True)\n",
    "\n",
    "\n",
    "    def test_step(self, batch, batch_idx):\n",
    "        y_hat, y = self._process_batch(batch)\n",
    "\n",
    "        loss = self.loss(y_hat, y)\n",
    "\n",
    "        self.test_acc(y_hat, y)\n",
    "        self.test_auroc(y_hat, y)\n",
    "        self.test_aupr(y_hat, y.long())\n",
    "        self.test_precision(y_hat, y)\n",
    "        self.test_recall(y_hat, y)\n",
    "        self.test_f1(y_hat, y)\n",
    "\n",
    "        self.log(\"test_loss\", loss, on_epoch=True, prog_bar=True)\n",
    "\n",
    "    def predict_step(self, batch, batch_idx, dataloader_idx=0):\n",
    "        y_hat, y = self._process_batch(batch)\n",
    "\n",
    "        return {\n",
    "        \"predicted\": y_hat.squeeze().cpu().detach(),  \n",
    "        \"target\": y.cpu().detach().float()\n",
    "                }"
   ]
  },
  {
   "cell_type": "code",
   "execution_count": 14,
   "id": "5badf45f-c636-4a09-8df1-70d68b8097a9",
   "metadata": {},
   "outputs": [],
   "source": [
    "BATCH_SIZE = 1024\n",
    "NUM_WORKERS = 103\n",
    "\n",
    "train_transform = t.Compose([\n",
    "    #t.ReverseComplement(0.5),\n",
    "    t.Seq2Tensor(),\n",
    "])\n",
    "val_test_transform = t.Compose([\n",
    "    t.Seq2Tensor()\n",
    "])"
   ]
  },
  {
   "cell_type": "code",
   "execution_count": 15,
   "id": "24bdae1a-3d11-4abc-9d07-de1ad0d3b52a",
   "metadata": {},
   "outputs": [
    {
     "name": "stdout",
     "output_type": "stream",
     "text": [
      "using train\n",
      "using val\n",
      "using test\n"
     ]
    }
   ],
   "source": [
    "binary_train = [\"promoter_from_input\", \"enhancer_permutated\", \"enhancer_from_input\"]\n",
    "task = tasks[6]\n",
    "# use binary_class = None to define StarrSeq_binary_train_promoter.fasta and StarrSeq_binary_train_enhancer.fasta\n",
    "# or binary_class = \"promoter_from_input\"/\"enhancer_permutated\"/\"enhancer_from_input\" to define needed option\n",
    "train_dataset = StarrSeqDataset(task = task, binary_class = None, split = \"train\", transform = train_transform, root = \"../data/\")\n",
    "\n",
    "val_dataset = StarrSeqDataset(task = task, split = \"val\", transform = val_test_transform, root = \"../data/\")\n",
    "\n",
    "test_dataset = StarrSeqDataset(task = task, split = \"test\", transform = val_test_transform, root = \"../data/\")"
   ]
  },
  {
   "cell_type": "code",
   "execution_count": 16,
   "id": "e0b752a2-13db-4032-846f-8cb1e8eb72ea",
   "metadata": {},
   "outputs": [
    {
     "name": "stdout",
     "output_type": "stream",
     "text": [
      "Dataset StarrSeqDataset of size 2991302 (MpraDaraset)\n",
      "    Number of datapoints: 2991302\n",
      "    Used split fold: train\n",
      "===================\n",
      "Dataset StarrSeqDataset of size 748828 (MpraDaraset)\n",
      "    Number of datapoints: 748828\n",
      "    Used split fold: val\n",
      "===================\n",
      "Dataset StarrSeqDataset of size 1252044 (MpraDaraset)\n",
      "    Number of datapoints: 1252044\n",
      "    Used split fold: test\n"
     ]
    }
   ],
   "source": [
    "print(train_dataset)\n",
    "print(\"===================\")\n",
    "print(val_dataset)\n",
    "print(\"===================\")\n",
    "print(test_dataset)"
   ]
  },
  {
   "cell_type": "code",
   "execution_count": 17,
   "id": "857c88c3-85e0-47fc-a4a4-d779bb04a3a6",
   "metadata": {},
   "outputs": [],
   "source": [
    "# encapsulate data into dataloader form\n",
    "train_loader = data.DataLoader(dataset=train_dataset, batch_size=BATCH_SIZE, shuffle=True, num_workers = NUM_WORKERS)\n",
    "\n",
    "val_loader = data.DataLoader(dataset=val_dataset, batch_size=BATCH_SIZE, shuffle=False, num_workers = NUM_WORKERS)\n",
    "\n",
    "test_loader = data.DataLoader(dataset=test_dataset, batch_size=BATCH_SIZE, shuffle=False, num_workers = NUM_WORKERS)"
   ]
  },
  {
   "cell_type": "code",
   "execution_count": 18,
   "id": "a8b9c046-6c88-45ef-98d8-580336449b67",
   "metadata": {},
   "outputs": [
    {
     "data": {
      "text/plain": [
       "150"
      ]
     },
     "execution_count": 18,
     "metadata": {},
     "output_type": "execute_result"
    }
   ],
   "source": [
    "len(train_dataset[0][0][\"seq_enh\"][0])"
   ]
  },
  {
   "cell_type": "code",
   "execution_count": 21,
   "id": "a6b4239c-3526-4810-af92-7960435d5b36",
   "metadata": {},
   "outputs": [],
   "source": [
    "seq_len = len(train_dataset[0][0][\"seq_enh\"][0])\n",
    "\n",
    "model = CNN_cls_binary(seq_len = seq_len, block_sizes=[16, 32, 64, 96, 128, 64], kernel_size=5)\n",
    "\n",
    "seq_model = LitModel_StarrSeq_binary(model = model,\n",
    "                           loss = torch.nn.BCEWithLogitsLoss(),\n",
    "                           weight_decay = 1e-1, lr = 1e-2, print_each = 1)"
   ]
  },
  {
   "cell_type": "code",
   "execution_count": 22,
   "id": "d98cc5ed-2348-468e-94d1-56669c84fcd6",
   "metadata": {},
   "outputs": [
    {
     "name": "stderr",
     "output_type": "stream",
     "text": [
      "Using 16bit Automatic Mixed Precision (AMP)\n",
      "GPU available: True (cuda), used: True\n",
      "TPU available: False, using: 0 TPU cores\n",
      "HPU available: False, using: 0 HPUs\n"
     ]
    }
   ],
   "source": [
    "checkpoint_callback = ModelCheckpoint(\n",
    "        monitor='val_aupr', \n",
    "        mode='max',  \n",
    "        save_top_k=1,\n",
    "        save_last=False\n",
    "    )\n",
    "# Initialize a trainer\n",
    "trainer = L.Trainer(\n",
    "    accelerator=\"gpu\",\n",
    "    devices=[1],\n",
    "    max_epochs=10,\n",
    "    gradient_clip_val=1,\n",
    "    precision='16-mixed', \n",
    "    enable_progress_bar = True,\n",
    "    num_sanity_val_steps=0,\n",
    "    enable_model_summary=False,\n",
    "    callbacks=[checkpoint_callback]\n",
    ")"
   ]
  },
  {
   "cell_type": "code",
   "execution_count": 23,
   "id": "f5ecff7b-3861-462d-9a43-1eda583f537b",
   "metadata": {},
   "outputs": [
    {
     "name": "stderr",
     "output_type": "stream",
     "text": [
      "You are using a CUDA device ('NVIDIA GeForce RTX 3090') that has Tensor Cores. To properly utilize them, you should set `torch.set_float32_matmul_precision('medium' | 'high')` which will trade-off precision for performance. For more details, read https://pytorch.org/docs/stable/generated/torch.set_float32_matmul_precision.html#torch.set_float32_matmul_precision\n",
      "LOCAL_RANK: 0 - CUDA_VISIBLE_DEVICES: [0,1]\n",
      "Loading `train_dataloader` to estimate number of stepping batches.\n"
     ]
    },
    {
     "data": {
      "application/vnd.jupyter.widget-view+json": {
       "model_id": "34e359a3246d4a3687b9711a42c2b76c",
       "version_major": 2,
       "version_minor": 0
      },
      "text/plain": [
       "Training: |                                                                                       | 0/? [00:00…"
      ]
     },
     "metadata": {},
     "output_type": "display_data"
    },
    {
     "data": {
      "application/vnd.jupyter.widget-view+json": {
       "model_id": "",
       "version_major": 2,
       "version_minor": 0
      },
      "text/plain": [
       "Validation: |                                                                                     | 0/? [00:00…"
      ]
     },
     "metadata": {},
     "output_type": "display_data"
    },
    {
     "name": "stderr",
     "output_type": "stream",
     "text": [
      "/home/nios/miniconda3/envs/mpramnist/lib/python3.12/site-packages/torchmetrics/utilities/prints.py:43: UserWarning: No negative samples in targets, false positive value should be meaningless. Returning zero tensor in false positive score\n",
      "  warnings.warn(*args, **kwargs)\n",
      "/home/nios/miniconda3/envs/mpramnist/lib/python3.12/site-packages/torchmetrics/utilities/prints.py:43: UserWarning: No positive samples in targets, true positive value should be meaningless. Returning zero tensor in true positive score\n",
      "  warnings.warn(*args, **kwargs)\n",
      "/home/nios/miniconda3/envs/mpramnist/lib/python3.12/site-packages/torchmetrics/utilities/prints.py:43: UserWarning: No positive samples found in target, recall is undefined. Setting recall to one for all thresholds.\n",
      "  warnings.warn(*args, **kwargs)\n"
     ]
    },
    {
     "name": "stdout",
     "output_type": "stream",
     "text": [
      "\n",
      "----------------------------------------------------------------------------------------------------\n",
      "| Epoch: 0 | Val Acc: 0.7361156344413757 | Val AUROC: 0.8094954490661621 | Val AUPR: 0.8128597736358643 |\n",
      "| Val Precision: 0.7385790944099426 | Val Recall: 0.7309529185295105 | Val F1: 0.7347462177276611 \n",
      "----------------------------------------------------------------------------------------------------\n",
      "\n"
     ]
    },
    {
     "data": {
      "application/vnd.jupyter.widget-view+json": {
       "model_id": "",
       "version_major": 2,
       "version_minor": 0
      },
      "text/plain": [
       "Validation: |                                                                                     | 0/? [00:00…"
      ]
     },
     "metadata": {},
     "output_type": "display_data"
    },
    {
     "name": "stdout",
     "output_type": "stream",
     "text": [
      "\n",
      "----------------------------------------------------------------------------------------------------\n",
      "| Epoch: 1 | Val Acc: 0.7249101400375366 | Val AUROC: 0.8202651739120483 | Val AUPR: 0.824813961982727 |\n",
      "| Val Precision: 0.685752272605896 | Val Recall: 0.830313503742218 | Val F1: 0.7511407136917114 \n",
      "----------------------------------------------------------------------------------------------------\n",
      "\n"
     ]
    },
    {
     "data": {
      "application/vnd.jupyter.widget-view+json": {
       "model_id": "",
       "version_major": 2,
       "version_minor": 0
      },
      "text/plain": [
       "Validation: |                                                                                     | 0/? [00:00…"
      ]
     },
     "metadata": {},
     "output_type": "display_data"
    },
    {
     "name": "stdout",
     "output_type": "stream",
     "text": [
      "\n",
      "----------------------------------------------------------------------------------------------------\n",
      "| Epoch: 2 | Val Acc: 0.7500640749931335 | Val AUROC: 0.8239103555679321 | Val AUPR: 0.8305651545524597 |\n",
      "| Val Precision: 0.758292019367218 | Val Recall: 0.7341365218162537 | Val F1: 0.7460188269615173 \n",
      "----------------------------------------------------------------------------------------------------\n",
      "\n"
     ]
    },
    {
     "data": {
      "application/vnd.jupyter.widget-view+json": {
       "model_id": "",
       "version_major": 2,
       "version_minor": 0
      },
      "text/plain": [
       "Validation: |                                                                                     | 0/? [00:00…"
      ]
     },
     "metadata": {},
     "output_type": "display_data"
    },
    {
     "name": "stdout",
     "output_type": "stream",
     "text": [
      "\n",
      "----------------------------------------------------------------------------------------------------\n",
      "| Epoch: 3 | Val Acc: 0.7464344501495361 | Val AUROC: 0.8232360482215881 | Val AUPR: 0.8282454013824463 |\n",
      "| Val Precision: 0.8052064776420593 | Val Recall: 0.6501519680023193 | Val F1: 0.7194194197654724 \n",
      "----------------------------------------------------------------------------------------------------\n",
      "\n"
     ]
    },
    {
     "data": {
      "application/vnd.jupyter.widget-view+json": {
       "model_id": "",
       "version_major": 2,
       "version_minor": 0
      },
      "text/plain": [
       "Validation: |                                                                                     | 0/? [00:00…"
      ]
     },
     "metadata": {},
     "output_type": "display_data"
    },
    {
     "name": "stdout",
     "output_type": "stream",
     "text": [
      "\n",
      "----------------------------------------------------------------------------------------------------\n",
      "| Epoch: 4 | Val Acc: 0.7559279203414917 | Val AUROC: 0.8288267850875854 | Val AUPR: 0.8347251415252686 |\n",
      "| Val Precision: 0.7814796566963196 | Val Recall: 0.710539698600769 | Val F1: 0.744323194026947 \n",
      "----------------------------------------------------------------------------------------------------\n",
      "\n"
     ]
    },
    {
     "data": {
      "application/vnd.jupyter.widget-view+json": {
       "model_id": "",
       "version_major": 2,
       "version_minor": 0
      },
      "text/plain": [
       "Validation: |                                                                                     | 0/? [00:00…"
      ]
     },
     "metadata": {},
     "output_type": "display_data"
    },
    {
     "name": "stdout",
     "output_type": "stream",
     "text": [
      "\n",
      "----------------------------------------------------------------------------------------------------\n",
      "| Epoch: 5 | Val Acc: 0.7544496059417725 | Val AUROC: 0.8327896595001221 | Val AUPR: 0.8393793702125549 |\n",
      "| Val Precision: 0.8236133456230164 | Val Recall: 0.6475879549980164 | Val F1: 0.7250701785087585 \n",
      "----------------------------------------------------------------------------------------------------\n",
      "\n"
     ]
    },
    {
     "data": {
      "application/vnd.jupyter.widget-view+json": {
       "model_id": "",
       "version_major": 2,
       "version_minor": 0
      },
      "text/plain": [
       "Validation: |                                                                                     | 0/? [00:00…"
      ]
     },
     "metadata": {},
     "output_type": "display_data"
    },
    {
     "name": "stdout",
     "output_type": "stream",
     "text": [
      "\n",
      "----------------------------------------------------------------------------------------------------\n",
      "| Epoch: 6 | Val Acc: 0.7531061768531799 | Val AUROC: 0.8371132016181946 | Val AUPR: 0.8446491956710815 |\n",
      "| Val Precision: 0.730754554271698 | Val Recall: 0.8015378713607788 | Val F1: 0.7645112872123718 \n",
      "----------------------------------------------------------------------------------------------------\n",
      "\n"
     ]
    },
    {
     "data": {
      "application/vnd.jupyter.widget-view+json": {
       "model_id": "",
       "version_major": 2,
       "version_minor": 0
      },
      "text/plain": [
       "Validation: |                                                                                     | 0/? [00:00…"
      ]
     },
     "metadata": {},
     "output_type": "display_data"
    },
    {
     "name": "stdout",
     "output_type": "stream",
     "text": [
      "\n",
      "----------------------------------------------------------------------------------------------------\n",
      "| Epoch: 7 | Val Acc: 0.7655963897705078 | Val AUROC: 0.8413663506507874 | Val AUPR: 0.8492155075073242 |\n",
      "| Val Precision: 0.7656049132347107 | Val Recall: 0.7655803561210632 | Val F1: 0.765592634677887 \n",
      "----------------------------------------------------------------------------------------------------\n",
      "\n"
     ]
    },
    {
     "data": {
      "application/vnd.jupyter.widget-view+json": {
       "model_id": "",
       "version_major": 2,
       "version_minor": 0
      },
      "text/plain": [
       "Validation: |                                                                                     | 0/? [00:00…"
      ]
     },
     "metadata": {},
     "output_type": "display_data"
    },
    {
     "name": "stdout",
     "output_type": "stream",
     "text": [
      "\n",
      "----------------------------------------------------------------------------------------------------\n",
      "| Epoch: 8 | Val Acc: 0.7722267508506775 | Val AUROC: 0.8456248044967651 | Val AUPR: 0.8539313077926636 |\n",
      "| Val Precision: 0.7919823527336121 | Val Recall: 0.7383965253829956 | Val F1: 0.7642512917518616 \n",
      "----------------------------------------------------------------------------------------------------\n",
      "\n"
     ]
    },
    {
     "data": {
      "application/vnd.jupyter.widget-view+json": {
       "model_id": "",
       "version_major": 2,
       "version_minor": 0
      },
      "text/plain": [
       "Validation: |                                                                                     | 0/? [00:00…"
      ]
     },
     "metadata": {},
     "output_type": "display_data"
    },
    {
     "name": "stdout",
     "output_type": "stream",
     "text": [
      "\n",
      "----------------------------------------------------------------------------------------------------\n",
      "| Epoch: 9 | Val Acc: 0.7726060152053833 | Val AUROC: 0.8466441631317139 | Val AUPR: 0.854892373085022 |\n",
      "| Val Precision: 0.785362184047699 | Val Recall: 0.7502550482749939 | Val F1: 0.7674073576927185 \n",
      "----------------------------------------------------------------------------------------------------\n",
      "\n"
     ]
    },
    {
     "name": "stderr",
     "output_type": "stream",
     "text": [
      "`Trainer.fit` stopped: `max_epochs=10` reached.\n"
     ]
    }
   ],
   "source": [
    "# Train the model\n",
    "trainer.fit(seq_model,\n",
    "            train_dataloaders=train_loader,\n",
    "            val_dataloaders=val_loader)"
   ]
  },
  {
   "cell_type": "code",
   "execution_count": 24,
   "id": "6f280ae1-b0bf-4271-9960-1bbe41fa2346",
   "metadata": {},
   "outputs": [
    {
     "name": "stderr",
     "output_type": "stream",
     "text": [
      "LOCAL_RANK: 0 - CUDA_VISIBLE_DEVICES: [0,1]\n"
     ]
    },
    {
     "data": {
      "application/vnd.jupyter.widget-view+json": {
       "model_id": "32c196f8b03242f2a2df7018f9f4b8a4",
       "version_major": 2,
       "version_minor": 0
      },
      "text/plain": [
       "Testing: |                                                                                        | 0/? [00:00…"
      ]
     },
     "metadata": {},
     "output_type": "display_data"
    },
    {
     "name": "stdout",
     "output_type": "stream",
     "text": [
      "\n",
      "----------------------------------------------------------------------------------------------------\n",
      "| Test Acc: 0.7722564339637756 | Test AUROC: 0.846288800239563 | Test AUPR: 0.8547006845474243 |\n",
      "| Test Precision: 0.7846890687942505 | Test Recall: 0.7504209280014038 | Test F1: 0.7671725153923035 \n",
      "----------------------------------------------------------------------------------------------------\n",
      "\n",
      "────────────────────────────────────────────────────────────────────────────────────────────────────────────────────────\n",
      "       Test metric             DataLoader 0\n",
      "────────────────────────────────────────────────────────────────────────────────────────────────────────────────────────\n",
      "        test_aupr           0.8547006845474243\n",
      "       test_auroc            0.846288800239563\n",
      "        test_loss           0.48506882786750793\n",
      "────────────────────────────────────────────────────────────────────────────────────────────────────────────────────────\n"
     ]
    },
    {
     "name": "stderr",
     "output_type": "stream",
     "text": [
      "LOCAL_RANK: 0 - CUDA_VISIBLE_DEVICES: [0,1]\n"
     ]
    },
    {
     "data": {
      "application/vnd.jupyter.widget-view+json": {
       "model_id": "93f60281ba234f8081ba9177c1b5f012",
       "version_major": 2,
       "version_minor": 0
      },
      "text/plain": [
       "Predicting: |                                                                                     | 0/? [00:00…"
      ]
     },
     "metadata": {},
     "output_type": "display_data"
    },
    {
     "name": "stdout",
     "output_type": "stream",
     "text": [
      "Class distribution: (array([0., 1.], dtype=float32), array([626022, 626022]))\n",
      "Score range: [0.005, 0.994]\n"
     ]
    },
    {
     "data": {
      "image/png": "[encoded data removed]",
      "text/plain": [
       "<Figure size 400x300 with 1 Axes>"
      ]
     },
     "metadata": {},
     "output_type": "display_data"
    }
   ],
   "source": [
    "best_model_path = checkpoint_callback.best_model_path\n",
    "seq_model = LitModel_StarrSeq_binary.load_from_checkpoint(\n",
    "    best_model_path,\n",
    "    model = model, \n",
    "    loss = torch.nn.BCEWithLogitsLoss(),\n",
    "    weight_decay = 1e-1, lr = 1e-2, print_each = 1)\n",
    "trainer.test(seq_model, dataloaders=test_loader)\n",
    "plot_pr_auc(seq_model, test_loader)"
   ]
  },
  {
   "cell_type": "code",
   "execution_count": null,
   "id": "ecae3b76-100b-4971-94f8-1213de01bb29",
   "metadata": {},
   "outputs": [],
   "source": []
  }
 ],
 "metadata": {
  "kernelspec": {
   "display_name": "Python [conda env:mpramnist]",
   "language": "python",
   "name": "conda-env-mpramnist-py"
  },
  "language_info": {
   "codemirror_mode": {
    "name": "ipython",
    "version": 3
   },
   "file_extension": ".py",
   "mimetype": "text/x-python",
   "name": "python",
   "nbconvert_exporter": "python",
   "pygments_lexer": "ipython3",
   "version": "3.12.7"
  }
 },
 "nbformat": 4,
 "nbformat_minor": 5
}
