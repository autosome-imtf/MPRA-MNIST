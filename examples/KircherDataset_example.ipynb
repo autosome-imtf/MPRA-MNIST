{
 "cells": [
  {
   "cell_type": "code",
   "execution_count": 1,
   "id": "166d0830-1192-48f2-a174-fcda1320735b",
   "metadata": {},
   "outputs": [],
   "source": [
    "import mpramnist\n",
    "from mpramnist.Agarwal.dataset import AgarwalDataset\n",
    "from mpramnist.Kircher.dataset import KircherDataset\n",
    "\n",
    "from mpramnist.models import HumanLegNet\n",
    "from mpramnist.models import initialize_weights\n",
    "from mpramnist.trainers import LitModel_Kircher\n",
    "\n",
    "import mpramnist.transforms as t\n",
    "import mpramnist.target_transforms as t_t\n",
    "\n",
    "import numpy as np\n",
    "import random\n",
    "import torch\n",
    "import torch.nn as nn\n",
    "import torch.utils.data as data\n",
    "import lightning.pytorch as L\n",
    "from lightning.pytorch.callbacks import ModelCheckpoint\n",
    "\n",
    "from torchmetrics import PearsonCorrCoef"
   ]
  },
  {
   "cell_type": "markdown",
   "id": "8b74077e-5aa7-4e78-b84f-a52f2e72eb6d",
   "metadata": {},
   "source": [
    "# Kircher Dataset and Experimental Design\n",
    "\n",
    "The Kircher dataset is based on **MPRA (Massively Parallel Reporter Assay)** results from **saturation mutagenesis** experiments. The study characterized **44,647** variants of regulatory elements, including:\n",
    "\n",
    "1. 5 enhancers (genes: IRF4, IRF6, MYC, SORT1, ZFAND3)\n",
    "\n",
    "2. 9 promoters (genes: F9, GP1BB, HBB, HBG, HNF4A, LDLR, MSMB, PKLR, TERT)\n",
    "\n",
    "across multiple cell lines.\n",
    "\n",
    "# Proposed KircherDataset Benchmark Application\n",
    "\n",
    "These experimentally validated sequences are recommended as a reference dataset for evaluating the performance of machine learning models.\n",
    "\n",
    "# Current Workflow\n",
    "\n",
    "In this notebook, we:\n",
    "\n",
    "1. Train the **HumanLegNet** model on the **Agarwal dataset**\n",
    "\n",
    "2. Assess its predictive power using **Kircher's saturation mutagenesis data**\n",
    "\n",
    "Focus: Promoters tested in **HepG2** and **K562** cell lines\n",
    "\n"
   ]
  },
  {
   "cell_type": "markdown",
   "id": "717e461f-5f20-450a-8126-9ee8f07a6e55",
   "metadata": {},
   "source": [
    "# Define some default parameters and functions"
   ]
  },
  {
   "cell_type": "code",
   "execution_count": 2,
   "id": "d2b33ea1-e20a-4beb-a3a6-b5b921b3c55a",
   "metadata": {},
   "outputs": [],
   "source": [
    "BATCH_SIZE = 1024\n",
    "NUM_WORKERS = 8\n",
    "seed = 777"
   ]
  },
  {
   "cell_type": "code",
   "execution_count": 3,
   "id": "4a903739-5bd4-4086-acc1-e92d7cb1cd11",
   "metadata": {},
   "outputs": [],
   "source": [
    "torch.manual_seed(seed)\n",
    "torch.cuda.manual_seed_all(seed)\n",
    "random.seed(seed)\n",
    "np.random.seed(seed)\n",
    "torch.backends.cudnn.deterministic = True  # type: ignore\n",
    "torch.backends.cudnn.benchmark = False  # type: ignore"
   ]
  },
  {
   "cell_type": "code",
   "execution_count": 4,
   "id": "c9ac49dd-2f2d-4fee-819c-267587e31485",
   "metadata": {},
   "outputs": [],
   "source": [
    "constant_left_flank = AgarwalDataset.CONSTANT_LEFT_FLANK  # required for each sequence\n",
    "constant_right_flank = AgarwalDataset.CONSTANT_RIGHT_FLANK  # required for each sequence\n",
    "# original flanks from human_legnet\n",
    "left_flank = AgarwalDataset.LEFT_FLANK\n",
    "right_flank = AgarwalDataset.RIGHT_FLANK"
   ]
  },
  {
   "cell_type": "code",
   "execution_count": 5,
   "id": "bfdaa8d2-4d03-436d-812f-907988076fbd",
   "metadata": {},
   "outputs": [],
   "source": [
    "forw_transform = t.Compose(\n",
    "    [t.AddFlanks(constant_left_flank, constant_right_flank), t.Seq2Tensor()]\n",
    ")\n",
    "rev_transform = t.Compose(\n",
    "    [\n",
    "        t.AddFlanks(constant_left_flank, constant_right_flank),\n",
    "        t.ReverseComplement(1),\n",
    "        t.Seq2Tensor(),\n",
    "    ]\n",
    ")"
   ]
  },
  {
   "cell_type": "code",
   "execution_count": 6,
   "id": "53e252a2-98b9-46dd-a132-89ded52c008e",
   "metadata": {},
   "outputs": [],
   "source": [
    "def meaned_prediction(forw, rev, trainer, seq_model, name, is_kircher=False):\n",
    "    predictions_forw = trainer.predict(seq_model, dataloaders=forw)\n",
    "    targets = torch.cat([pred[\"target\"] for pred in predictions_forw])\n",
    "    y_preds_forw = torch.cat([pred[\"ref_predicted\"] for pred in predictions_forw])\n",
    "\n",
    "    predictions_rev = trainer.predict(seq_model, dataloaders=rev)\n",
    "    y_preds_rev = torch.cat([pred[\"ref_predicted\"] for pred in predictions_rev])\n",
    "\n",
    "    mean_forw = torch.mean(torch.stack([y_preds_forw, y_preds_rev]), dim=0)\n",
    "\n",
    "    pears = PearsonCorrCoef()\n",
    "    print(name + \" Pearson correlation\")\n",
    "\n",
    "    if is_kircher:\n",
    "        y_preds_forw_alt = torch.cat(\n",
    "            [pred[\"alt_predicted\"] for pred in predictions_forw]\n",
    "        )\n",
    "        y_preds_rev_alt = torch.cat([pred[\"alt_predicted\"] for pred in predictions_rev])\n",
    "        mean_alt = torch.mean(torch.stack([y_preds_forw_alt, y_preds_rev_alt]), dim=0)\n",
    "        pred = mean_alt - mean_forw\n",
    "        return pears(pred, targets)\n",
    "\n",
    "    return pears(mean_forw, targets)"
   ]
  },
  {
   "cell_type": "code",
   "execution_count": 7,
   "id": "c00ee571-9995-47cf-bbc3-dcf74537ea8a",
   "metadata": {},
   "outputs": [],
   "source": [
    "# shift (0,15)\n",
    "# preprocessing\n",
    "shift = 15\n",
    "\n",
    "train_transform = t.Compose(\n",
    "    [\n",
    "        t.AddFlanks(constant_left_flank, constant_right_flank),\n",
    "        t.AddFlanks(left_flank[-shift:], right_flank[:shift]),\n",
    "        t.LeftCrop(230, 260),\n",
    "        t.RightCrop(230, 230),\n",
    "        t.ReverseComplement(0.5),\n",
    "        t.Seq2Tensor(),\n",
    "    ]\n",
    ")\n",
    "\n",
    "test_transform = t.Compose(\n",
    "    [  # test transforms are slightly different\n",
    "        t.AddFlanks(constant_left_flank, constant_right_flank),\n",
    "        t.ReverseComplement(\n",
    "            0\n",
    "        ),  # the Reverse complementary transformation is applied deterministically, not randomly with a 50% chance\n",
    "        t.Seq2Tensor(),\n",
    "    ]\n",
    ")"
   ]
  },
  {
   "cell_type": "code",
   "execution_count": 8,
   "id": "1b79b310-6d12-40b7-9c17-2aa626fd87a1",
   "metadata": {},
   "outputs": [],
   "source": [
    "elements_for_hepg2 = [\"F9\", \"LDLR.2\", \"LDLR\", \"SORT1.2\", \"SORT1\", \"SORT1-flip\"]\n",
    "elements_for_k562 = [\"PKLR-24h\", \"PKLR-48h\"]"
   ]
  },
  {
   "cell_type": "markdown",
   "id": "8f2af647-9958-4706-9045-2ec0a0d06a0e",
   "metadata": {},
   "source": [
    "# Pretrain on Agarwal's HepG2"
   ]
  },
  {
   "cell_type": "code",
   "execution_count": 9,
   "id": "cb1cb79b-7571-4f0a-955e-be8fb350cffc",
   "metadata": {},
   "outputs": [],
   "source": [
    "# load the data\n",
    "train_dataset = AgarwalDataset(\n",
    "    cell_type=\"HepG2\",\n",
    "    split=\"train\",  # could use a list e.g. [1,2,5,6,7,8] for needed folds\n",
    "    transform=train_transform,\n",
    "    root=\"../data/\",\n",
    ")\n",
    "\n",
    "val_dataset = AgarwalDataset(\n",
    "    cell_type=\"HepG2\",\n",
    "    split=\"val\",  # use \"val\" for default validation set or use list\n",
    "    transform=test_transform,\n",
    "    root=\"../data/\",\n",
    ")\n",
    "\n",
    "test_dataset = AgarwalDataset(\n",
    "    cell_type=\"HepG2\",\n",
    "    split=\"test\",  # use \"test\" for default test set or use list\n",
    "    transform=test_transform,\n",
    "    root=\"../data/\",\n",
    ")"
   ]
  },
  {
   "cell_type": "code",
   "execution_count": 10,
   "id": "c5584838-ce92-42a3-b0f3-460e2c2f9b25",
   "metadata": {},
   "outputs": [
    {
     "name": "stdout",
     "output_type": "stream",
     "text": [
      "Dataset AgarwalDataset of size 98336 (MpraDaraset)\n",
      "    Number of datapoints: 98336\n",
      "    Used split fold: [1, 2, 3, 4, 5, 6, 7, 8]\n",
      "==================================================\n",
      "Dataset AgarwalDataset of size 12292 (MpraDaraset)\n",
      "    Number of datapoints: 12292\n",
      "    Used split fold: [9]\n",
      "==================================================\n",
      "Dataset AgarwalDataset of size 12298 (MpraDaraset)\n",
      "    Number of datapoints: 12298\n",
      "    Used split fold: [10]\n"
     ]
    }
   ],
   "source": [
    "print(train_dataset)\n",
    "print(\"=\" * 50)\n",
    "print(val_dataset)\n",
    "print(\"=\" * 50)\n",
    "print(test_dataset)"
   ]
  },
  {
   "cell_type": "code",
   "execution_count": 11,
   "id": "0688273a-1708-4dbf-8055-51416b36ce23",
   "metadata": {},
   "outputs": [],
   "source": [
    "# encapsulate data into dataloader form\n",
    "train_loader = data.DataLoader(\n",
    "    dataset=train_dataset, batch_size=BATCH_SIZE, shuffle=True, num_workers=NUM_WORKERS\n",
    ")\n",
    "\n",
    "val_loader = data.DataLoader(\n",
    "    dataset=val_dataset, batch_size=BATCH_SIZE, shuffle=False, num_workers=NUM_WORKERS\n",
    ")\n",
    "\n",
    "test_loader = data.DataLoader(\n",
    "    dataset=test_dataset, batch_size=BATCH_SIZE, shuffle=False, num_workers=NUM_WORKERS\n",
    ")"
   ]
  },
  {
   "cell_type": "code",
   "execution_count": 12,
   "id": "d8147b3a-f743-440c-8b3d-447af56bab36",
   "metadata": {},
   "outputs": [],
   "source": [
    "in_channels = len(train_dataset[0][0])\n",
    "out_channels = 1"
   ]
  },
  {
   "cell_type": "code",
   "execution_count": 13,
   "id": "809dc1e8-6d3b-4b21-932d-924853bbf00c",
   "metadata": {},
   "outputs": [],
   "source": [
    "model = HumanLegNet(\n",
    "    in_ch=in_channels,\n",
    "    output_dim=out_channels,\n",
    "    stem_ch=64,\n",
    "    stem_ks=11,\n",
    "    ef_ks=9,\n",
    "    ef_block_sizes=[80, 96, 112, 128],\n",
    "    pool_sizes=[2, 2, 2, 2],\n",
    "    resize_factor=4,\n",
    ")\n",
    "model.apply(initialize_weights)\n",
    "\n",
    "seq_model = LitModel_Kircher(\n",
    "    model=model, loss=nn.MSELoss(), weight_decay=1e-1, lr=1e-2, print_each=10\n",
    ")"
   ]
  },
  {
   "cell_type": "code",
   "execution_count": 14,
   "id": "a856a545-f5fc-41d9-b729-80c029fe96ed",
   "metadata": {},
   "outputs": [
    {
     "name": "stderr",
     "output_type": "stream",
     "text": [
      "Using 16bit Automatic Mixed Precision (AMP)\n",
      "GPU available: True (cuda), used: True\n",
      "TPU available: False, using: 0 TPU cores\n",
      "HPU available: False, using: 0 HPUs\n"
     ]
    }
   ],
   "source": [
    "checkpoint_callback = ModelCheckpoint(\n",
    "    monitor=\"val_pearson\", mode=\"max\", save_top_k=1, save_last=False\n",
    ")\n",
    "# Initialize a trainer\n",
    "trainer_hepg2 = L.Trainer(\n",
    "    accelerator=\"gpu\",\n",
    "    devices=[1],\n",
    "    max_epochs=50,\n",
    "    gradient_clip_val=1,\n",
    "    precision=\"16-mixed\",\n",
    "    enable_progress_bar=True,\n",
    "    num_sanity_val_steps=0,\n",
    "    callbacks=[checkpoint_callback],\n",
    ")"
   ]
  },
  {
   "cell_type": "code",
   "execution_count": 15,
   "id": "a7812338-7e63-4341-9a01-732aa7d35592",
   "metadata": {},
   "outputs": [
    {
     "name": "stderr",
     "output_type": "stream",
     "text": [
      "You are using a CUDA device ('NVIDIA GeForce RTX 3090') that has Tensor Cores. To properly utilize them, you should set `torch.set_float32_matmul_precision('medium' | 'high')` which will trade-off precision for performance. For more details, read https://pytorch.org/docs/stable/generated/torch.set_float32_matmul_precision.html#torch.set_float32_matmul_precision\n",
      "LOCAL_RANK: 0 - CUDA_VISIBLE_DEVICES: [0,1]\n",
      "Loading `train_dataloader` to estimate number of stepping batches.\n",
      "\n",
      "  | Name          | Type            | Params | Mode \n",
      "----------------------------------------------------------\n",
      "0 | model         | HumanLegNet     | 1.3 M  | train\n",
      "1 | loss          | MSELoss         | 0      | train\n",
      "2 | train_pearson | PearsonCorrCoef | 0      | train\n",
      "3 | val_pearson   | PearsonCorrCoef | 0      | train\n",
      "4 | test_pearson  | PearsonCorrCoef | 0      | train\n",
      "----------------------------------------------------------\n",
      "1.3 M     Trainable params\n",
      "0         Non-trainable params\n",
      "1.3 M     Total params\n",
      "5.290     Total estimated model params size (MB)\n",
      "120       Modules in train mode\n",
      "0         Modules in eval mode\n"
     ]
    },
    {
     "data": {
      "application/vnd.jupyter.widget-view+json": {
       "model_id": "ec75a91d401843eeae9a5d8a81732f4e",
       "version_major": 2,
       "version_minor": 0
      },
      "text/plain": [
       "Training: |                                                                                    | 0/? [00:00<?,…"
      ]
     },
     "metadata": {},
     "output_type": "display_data"
    },
    {
     "data": {
      "application/vnd.jupyter.widget-view+json": {
       "model_id": "",
       "version_major": 2,
       "version_minor": 0
      },
      "text/plain": [
       "Validation: |                                                                                  | 0/? [00:00<?,…"
      ]
     },
     "metadata": {},
     "output_type": "display_data"
    },
    {
     "data": {
      "application/vnd.jupyter.widget-view+json": {
       "model_id": "",
       "version_major": 2,
       "version_minor": 0
      },
      "text/plain": [
       "Validation: |                                                                                  | 0/? [00:00<?,…"
      ]
     },
     "metadata": {},
     "output_type": "display_data"
    },
    {
     "data": {
      "application/vnd.jupyter.widget-view+json": {
       "model_id": "",
       "version_major": 2,
       "version_minor": 0
      },
      "text/plain": [
       "Validation: |                                                                                  | 0/? [00:00<?,…"
      ]
     },
     "metadata": {},
     "output_type": "display_data"
    },
    {
     "data": {
      "application/vnd.jupyter.widget-view+json": {
       "model_id": "",
       "version_major": 2,
       "version_minor": 0
      },
      "text/plain": [
       "Validation: |                                                                                  | 0/? [00:00<?,…"
      ]
     },
     "metadata": {},
     "output_type": "display_data"
    },
    {
     "data": {
      "application/vnd.jupyter.widget-view+json": {
       "model_id": "",
       "version_major": 2,
       "version_minor": 0
      },
      "text/plain": [
       "Validation: |                                                                                  | 0/? [00:00<?,…"
      ]
     },
     "metadata": {},
     "output_type": "display_data"
    },
    {
     "data": {
      "application/vnd.jupyter.widget-view+json": {
       "model_id": "",
       "version_major": 2,
       "version_minor": 0
      },
      "text/plain": [
       "Validation: |                                                                                  | 0/? [00:00<?,…"
      ]
     },
     "metadata": {},
     "output_type": "display_data"
    },
    {
     "data": {
      "application/vnd.jupyter.widget-view+json": {
       "model_id": "",
       "version_major": 2,
       "version_minor": 0
      },
      "text/plain": [
       "Validation: |                                                                                  | 0/? [00:00<?,…"
      ]
     },
     "metadata": {},
     "output_type": "display_data"
    },
    {
     "data": {
      "application/vnd.jupyter.widget-view+json": {
       "model_id": "",
       "version_major": 2,
       "version_minor": 0
      },
      "text/plain": [
       "Validation: |                                                                                  | 0/? [00:00<?,…"
      ]
     },
     "metadata": {},
     "output_type": "display_data"
    },
    {
     "data": {
      "application/vnd.jupyter.widget-view+json": {
       "model_id": "",
       "version_major": 2,
       "version_minor": 0
      },
      "text/plain": [
       "Validation: |                                                                                  | 0/? [00:00<?,…"
      ]
     },
     "metadata": {},
     "output_type": "display_data"
    },
    {
     "data": {
      "application/vnd.jupyter.widget-view+json": {
       "model_id": "",
       "version_major": 2,
       "version_minor": 0
      },
      "text/plain": [
       "Validation: |                                                                                  | 0/? [00:00<?,…"
      ]
     },
     "metadata": {},
     "output_type": "display_data"
    },
    {
     "name": "stdout",
     "output_type": "stream",
     "text": [
      "\n",
      "-------------------------------------------------------------------------------\n",
      "| Epoch: 9 | Val Loss: 0.33054 | Val Pearson: 0.67351 | Train Pearson: 0.73167 \n",
      "-------------------------------------------------------------------------------\n",
      "\n"
     ]
    },
    {
     "data": {
      "application/vnd.jupyter.widget-view+json": {
       "model_id": "",
       "version_major": 2,
       "version_minor": 0
      },
      "text/plain": [
       "Validation: |                                                                                  | 0/? [00:00<?,…"
      ]
     },
     "metadata": {},
     "output_type": "display_data"
    },
    {
     "data": {
      "application/vnd.jupyter.widget-view+json": {
       "model_id": "",
       "version_major": 2,
       "version_minor": 0
      },
      "text/plain": [
       "Validation: |                                                                                  | 0/? [00:00<?,…"
      ]
     },
     "metadata": {},
     "output_type": "display_data"
    },
    {
     "data": {
      "application/vnd.jupyter.widget-view+json": {
       "model_id": "",
       "version_major": 2,
       "version_minor": 0
      },
      "text/plain": [
       "Validation: |                                                                                  | 0/? [00:00<?,…"
      ]
     },
     "metadata": {},
     "output_type": "display_data"
    },
    {
     "data": {
      "application/vnd.jupyter.widget-view+json": {
       "model_id": "",
       "version_major": 2,
       "version_minor": 0
      },
      "text/plain": [
       "Validation: |                                                                                  | 0/? [00:00<?,…"
      ]
     },
     "metadata": {},
     "output_type": "display_data"
    },
    {
     "data": {
      "application/vnd.jupyter.widget-view+json": {
       "model_id": "",
       "version_major": 2,
       "version_minor": 0
      },
      "text/plain": [
       "Validation: |                                                                                  | 0/? [00:00<?,…"
      ]
     },
     "metadata": {},
     "output_type": "display_data"
    },
    {
     "data": {
      "application/vnd.jupyter.widget-view+json": {
       "model_id": "",
       "version_major": 2,
       "version_minor": 0
      },
      "text/plain": [
       "Validation: |                                                                                  | 0/? [00:00<?,…"
      ]
     },
     "metadata": {},
     "output_type": "display_data"
    },
    {
     "data": {
      "application/vnd.jupyter.widget-view+json": {
       "model_id": "",
       "version_major": 2,
       "version_minor": 0
      },
      "text/plain": [
       "Validation: |                                                                                  | 0/? [00:00<?,…"
      ]
     },
     "metadata": {},
     "output_type": "display_data"
    },
    {
     "data": {
      "application/vnd.jupyter.widget-view+json": {
       "model_id": "",
       "version_major": 2,
       "version_minor": 0
      },
      "text/plain": [
       "Validation: |                                                                                  | 0/? [00:00<?,…"
      ]
     },
     "metadata": {},
     "output_type": "display_data"
    },
    {
     "data": {
      "application/vnd.jupyter.widget-view+json": {
       "model_id": "",
       "version_major": 2,
       "version_minor": 0
      },
      "text/plain": [
       "Validation: |                                                                                  | 0/? [00:00<?,…"
      ]
     },
     "metadata": {},
     "output_type": "display_data"
    },
    {
     "data": {
      "application/vnd.jupyter.widget-view+json": {
       "model_id": "",
       "version_major": 2,
       "version_minor": 0
      },
      "text/plain": [
       "Validation: |                                                                                  | 0/? [00:00<?,…"
      ]
     },
     "metadata": {},
     "output_type": "display_data"
    },
    {
     "name": "stdout",
     "output_type": "stream",
     "text": [
      "\n",
      "--------------------------------------------------------------------------------\n",
      "| Epoch: 19 | Val Loss: 0.34740 | Val Pearson: 0.69029 | Train Pearson: 0.77449 \n",
      "--------------------------------------------------------------------------------\n",
      "\n"
     ]
    },
    {
     "data": {
      "application/vnd.jupyter.widget-view+json": {
       "model_id": "",
       "version_major": 2,
       "version_minor": 0
      },
      "text/plain": [
       "Validation: |                                                                                  | 0/? [00:00<?,…"
      ]
     },
     "metadata": {},
     "output_type": "display_data"
    },
    {
     "data": {
      "application/vnd.jupyter.widget-view+json": {
       "model_id": "",
       "version_major": 2,
       "version_minor": 0
      },
      "text/plain": [
       "Validation: |                                                                                  | 0/? [00:00<?,…"
      ]
     },
     "metadata": {},
     "output_type": "display_data"
    },
    {
     "data": {
      "application/vnd.jupyter.widget-view+json": {
       "model_id": "",
       "version_major": 2,
       "version_minor": 0
      },
      "text/plain": [
       "Validation: |                                                                                  | 0/? [00:00<?,…"
      ]
     },
     "metadata": {},
     "output_type": "display_data"
    },
    {
     "data": {
      "application/vnd.jupyter.widget-view+json": {
       "model_id": "",
       "version_major": 2,
       "version_minor": 0
      },
      "text/plain": [
       "Validation: |                                                                                  | 0/? [00:00<?,…"
      ]
     },
     "metadata": {},
     "output_type": "display_data"
    },
    {
     "data": {
      "application/vnd.jupyter.widget-view+json": {
       "model_id": "",
       "version_major": 2,
       "version_minor": 0
      },
      "text/plain": [
       "Validation: |                                                                                  | 0/? [00:00<?,…"
      ]
     },
     "metadata": {},
     "output_type": "display_data"
    },
    {
     "data": {
      "application/vnd.jupyter.widget-view+json": {
       "model_id": "",
       "version_major": 2,
       "version_minor": 0
      },
      "text/plain": [
       "Validation: |                                                                                  | 0/? [00:00<?,…"
      ]
     },
     "metadata": {},
     "output_type": "display_data"
    },
    {
     "data": {
      "application/vnd.jupyter.widget-view+json": {
       "model_id": "",
       "version_major": 2,
       "version_minor": 0
      },
      "text/plain": [
       "Validation: |                                                                                  | 0/? [00:00<?,…"
      ]
     },
     "metadata": {},
     "output_type": "display_data"
    },
    {
     "data": {
      "application/vnd.jupyter.widget-view+json": {
       "model_id": "",
       "version_major": 2,
       "version_minor": 0
      },
      "text/plain": [
       "Validation: |                                                                                  | 0/? [00:00<?,…"
      ]
     },
     "metadata": {},
     "output_type": "display_data"
    },
    {
     "data": {
      "application/vnd.jupyter.widget-view+json": {
       "model_id": "",
       "version_major": 2,
       "version_minor": 0
      },
      "text/plain": [
       "Validation: |                                                                                  | 0/? [00:00<?,…"
      ]
     },
     "metadata": {},
     "output_type": "display_data"
    },
    {
     "data": {
      "application/vnd.jupyter.widget-view+json": {
       "model_id": "",
       "version_major": 2,
       "version_minor": 0
      },
      "text/plain": [
       "Validation: |                                                                                  | 0/? [00:00<?,…"
      ]
     },
     "metadata": {},
     "output_type": "display_data"
    },
    {
     "name": "stdout",
     "output_type": "stream",
     "text": [
      "\n",
      "--------------------------------------------------------------------------------\n",
      "| Epoch: 29 | Val Loss: 0.26379 | Val Pearson: 0.74997 | Train Pearson: 0.83037 \n",
      "--------------------------------------------------------------------------------\n",
      "\n"
     ]
    },
    {
     "data": {
      "application/vnd.jupyter.widget-view+json": {
       "model_id": "",
       "version_major": 2,
       "version_minor": 0
      },
      "text/plain": [
       "Validation: |                                                                                  | 0/? [00:00<?,…"
      ]
     },
     "metadata": {},
     "output_type": "display_data"
    },
    {
     "data": {
      "application/vnd.jupyter.widget-view+json": {
       "model_id": "",
       "version_major": 2,
       "version_minor": 0
      },
      "text/plain": [
       "Validation: |                                                                                  | 0/? [00:00<?,…"
      ]
     },
     "metadata": {},
     "output_type": "display_data"
    },
    {
     "data": {
      "application/vnd.jupyter.widget-view+json": {
       "model_id": "",
       "version_major": 2,
       "version_minor": 0
      },
      "text/plain": [
       "Validation: |                                                                                  | 0/? [00:00<?,…"
      ]
     },
     "metadata": {},
     "output_type": "display_data"
    },
    {
     "data": {
      "application/vnd.jupyter.widget-view+json": {
       "model_id": "",
       "version_major": 2,
       "version_minor": 0
      },
      "text/plain": [
       "Validation: |                                                                                  | 0/? [00:00<?,…"
      ]
     },
     "metadata": {},
     "output_type": "display_data"
    },
    {
     "data": {
      "application/vnd.jupyter.widget-view+json": {
       "model_id": "",
       "version_major": 2,
       "version_minor": 0
      },
      "text/plain": [
       "Validation: |                                                                                  | 0/? [00:00<?,…"
      ]
     },
     "metadata": {},
     "output_type": "display_data"
    },
    {
     "data": {
      "application/vnd.jupyter.widget-view+json": {
       "model_id": "",
       "version_major": 2,
       "version_minor": 0
      },
      "text/plain": [
       "Validation: |                                                                                  | 0/? [00:00<?,…"
      ]
     },
     "metadata": {},
     "output_type": "display_data"
    },
    {
     "data": {
      "application/vnd.jupyter.widget-view+json": {
       "model_id": "",
       "version_major": 2,
       "version_minor": 0
      },
      "text/plain": [
       "Validation: |                                                                                  | 0/? [00:00<?,…"
      ]
     },
     "metadata": {},
     "output_type": "display_data"
    },
    {
     "data": {
      "application/vnd.jupyter.widget-view+json": {
       "model_id": "",
       "version_major": 2,
       "version_minor": 0
      },
      "text/plain": [
       "Validation: |                                                                                  | 0/? [00:00<?,…"
      ]
     },
     "metadata": {},
     "output_type": "display_data"
    },
    {
     "data": {
      "application/vnd.jupyter.widget-view+json": {
       "model_id": "",
       "version_major": 2,
       "version_minor": 0
      },
      "text/plain": [
       "Validation: |                                                                                  | 0/? [00:00<?,…"
      ]
     },
     "metadata": {},
     "output_type": "display_data"
    },
    {
     "data": {
      "application/vnd.jupyter.widget-view+json": {
       "model_id": "",
       "version_major": 2,
       "version_minor": 0
      },
      "text/plain": [
       "Validation: |                                                                                  | 0/? [00:00<?,…"
      ]
     },
     "metadata": {},
     "output_type": "display_data"
    },
    {
     "name": "stdout",
     "output_type": "stream",
     "text": [
      "\n",
      "--------------------------------------------------------------------------------\n",
      "| Epoch: 39 | Val Loss: 0.24712 | Val Pearson: 0.76918 | Train Pearson: 0.89280 \n",
      "--------------------------------------------------------------------------------\n",
      "\n"
     ]
    },
    {
     "data": {
      "application/vnd.jupyter.widget-view+json": {
       "model_id": "",
       "version_major": 2,
       "version_minor": 0
      },
      "text/plain": [
       "Validation: |                                                                                  | 0/? [00:00<?,…"
      ]
     },
     "metadata": {},
     "output_type": "display_data"
    },
    {
     "data": {
      "application/vnd.jupyter.widget-view+json": {
       "model_id": "",
       "version_major": 2,
       "version_minor": 0
      },
      "text/plain": [
       "Validation: |                                                                                  | 0/? [00:00<?,…"
      ]
     },
     "metadata": {},
     "output_type": "display_data"
    },
    {
     "data": {
      "application/vnd.jupyter.widget-view+json": {
       "model_id": "",
       "version_major": 2,
       "version_minor": 0
      },
      "text/plain": [
       "Validation: |                                                                                  | 0/? [00:00<?,…"
      ]
     },
     "metadata": {},
     "output_type": "display_data"
    },
    {
     "data": {
      "application/vnd.jupyter.widget-view+json": {
       "model_id": "",
       "version_major": 2,
       "version_minor": 0
      },
      "text/plain": [
       "Validation: |                                                                                  | 0/? [00:00<?,…"
      ]
     },
     "metadata": {},
     "output_type": "display_data"
    },
    {
     "data": {
      "application/vnd.jupyter.widget-view+json": {
       "model_id": "",
       "version_major": 2,
       "version_minor": 0
      },
      "text/plain": [
       "Validation: |                                                                                  | 0/? [00:00<?,…"
      ]
     },
     "metadata": {},
     "output_type": "display_data"
    },
    {
     "data": {
      "application/vnd.jupyter.widget-view+json": {
       "model_id": "",
       "version_major": 2,
       "version_minor": 0
      },
      "text/plain": [
       "Validation: |                                                                                  | 0/? [00:00<?,…"
      ]
     },
     "metadata": {},
     "output_type": "display_data"
    },
    {
     "data": {
      "application/vnd.jupyter.widget-view+json": {
       "model_id": "",
       "version_major": 2,
       "version_minor": 0
      },
      "text/plain": [
       "Validation: |                                                                                  | 0/? [00:00<?,…"
      ]
     },
     "metadata": {},
     "output_type": "display_data"
    },
    {
     "data": {
      "application/vnd.jupyter.widget-view+json": {
       "model_id": "",
       "version_major": 2,
       "version_minor": 0
      },
      "text/plain": [
       "Validation: |                                                                                  | 0/? [00:00<?,…"
      ]
     },
     "metadata": {},
     "output_type": "display_data"
    },
    {
     "data": {
      "application/vnd.jupyter.widget-view+json": {
       "model_id": "",
       "version_major": 2,
       "version_minor": 0
      },
      "text/plain": [
       "Validation: |                                                                                  | 0/? [00:00<?,…"
      ]
     },
     "metadata": {},
     "output_type": "display_data"
    },
    {
     "data": {
      "application/vnd.jupyter.widget-view+json": {
       "model_id": "",
       "version_major": 2,
       "version_minor": 0
      },
      "text/plain": [
       "Validation: |                                                                                  | 0/? [00:00<?,…"
      ]
     },
     "metadata": {},
     "output_type": "display_data"
    },
    {
     "name": "stderr",
     "output_type": "stream",
     "text": [
      "`Trainer.fit` stopped: `max_epochs=50` reached.\n"
     ]
    },
    {
     "name": "stdout",
     "output_type": "stream",
     "text": [
      "\n",
      "--------------------------------------------------------------------------------\n",
      "| Epoch: 49 | Val Loss: 0.24414 | Val Pearson: 0.77688 | Train Pearson: 0.92977 \n",
      "--------------------------------------------------------------------------------\n",
      "\n"
     ]
    }
   ],
   "source": [
    "# Train the model\n",
    "trainer_hepg2.fit(seq_model, train_dataloaders=train_loader, val_dataloaders=val_loader)"
   ]
  },
  {
   "cell_type": "markdown",
   "id": "5a9a65f5-655f-4f8d-bfc4-969d577d448f",
   "metadata": {},
   "source": [
    "## HepG2 Evaluation"
   ]
  },
  {
   "cell_type": "code",
   "execution_count": 16,
   "id": "8e74da95-24eb-4462-ab00-7befae83f8d8",
   "metadata": {},
   "outputs": [
    {
     "name": "stderr",
     "output_type": "stream",
     "text": [
      "LOCAL_RANK: 0 - CUDA_VISIBLE_DEVICES: [0,1]\n"
     ]
    },
    {
     "data": {
      "application/vnd.jupyter.widget-view+json": {
       "model_id": "ff47298bd62e430ab5479d493e689a93",
       "version_major": 2,
       "version_minor": 0
      },
      "text/plain": [
       "Testing: |                                                                                     | 0/? [00:00<?,…"
      ]
     },
     "metadata": {},
     "output_type": "display_data"
    },
    {
     "name": "stdout",
     "output_type": "stream",
     "text": [
      "────────────────────────────────────────────────────────────────────────────────────────────────────────────────────────\n",
      "       Test metric             DataLoader 0\n",
      "────────────────────────────────────────────────────────────────────────────────────────────────────────────────────────\n",
      "        test_loss           0.2340375781059265\n",
      "      test_pearson          0.7890375852584839\n",
      "────────────────────────────────────────────────────────────────────────────────────────────────────────────────────────\n"
     ]
    },
    {
     "data": {
      "text/plain": [
       "[{'test_loss': 0.2340375781059265, 'test_pearson': 0.7890375852584839}]"
      ]
     },
     "execution_count": 16,
     "metadata": {},
     "output_type": "execute_result"
    }
   ],
   "source": [
    "best_model_path = checkpoint_callback.best_model_path\n",
    "# best_model_path = \"../data/Kircher/best_model_test10_val9.ckpt\"\n",
    "seq_model_hepg2 = LitModel_Kircher.load_from_checkpoint(\n",
    "    best_model_path,\n",
    "    model=model,\n",
    "    loss=nn.MSELoss(),\n",
    "    weight_decay=0.1,\n",
    "    lr=0.01,\n",
    "    print_each=1,\n",
    ")\n",
    "trainer_hepg2.test(seq_model_hepg2, dataloaders=test_loader)"
   ]
  },
  {
   "cell_type": "code",
   "execution_count": 18,
   "id": "a1da6a5f-52d5-4152-aac8-66ec1562fb2f",
   "metadata": {},
   "outputs": [
    {
     "name": "stderr",
     "output_type": "stream",
     "text": [
      "LOCAL_RANK: 0 - CUDA_VISIBLE_DEVICES: [0,1]\n"
     ]
    },
    {
     "data": {
      "application/vnd.jupyter.widget-view+json": {
       "model_id": "bf76d97017c14203b4285e5cc5b822a6",
       "version_major": 2,
       "version_minor": 0
      },
      "text/plain": [
       "Predicting: |                                                                                  | 0/? [00:00<?,…"
      ]
     },
     "metadata": {},
     "output_type": "display_data"
    },
    {
     "name": "stderr",
     "output_type": "stream",
     "text": [
      "LOCAL_RANK: 0 - CUDA_VISIBLE_DEVICES: [0,1]\n"
     ]
    },
    {
     "data": {
      "application/vnd.jupyter.widget-view+json": {
       "model_id": "54e34cd38026433eb602cfe0d042aa8d",
       "version_major": 2,
       "version_minor": 0
      },
      "text/plain": [
       "Predicting: |                                                                                  | 0/? [00:00<?,…"
      ]
     },
     "metadata": {},
     "output_type": "display_data"
    },
    {
     "name": "stdout",
     "output_type": "stream",
     "text": [
      "HepG2 Pearson correlation\n"
     ]
    },
    {
     "data": {
      "text/plain": [
       "tensor(0.8082)"
      ]
     },
     "execution_count": 18,
     "metadata": {},
     "output_type": "execute_result"
    }
   ],
   "source": [
    "forw_transform_hepg2 = t.Compose(\n",
    "    [t.AddFlanks(constant_left_flank, constant_right_flank), t.Seq2Tensor()]\n",
    ")\n",
    "rev_transform_hepg2 = t.Compose(\n",
    "    [\n",
    "        t.AddFlanks(constant_left_flank, constant_right_flank),\n",
    "        t.ReverseComplement(1),\n",
    "        t.Seq2Tensor(),\n",
    "    ]\n",
    ")\n",
    "\n",
    "test_forw = AgarwalDataset(\n",
    "    cell_type=\"HepG2\", split=\"test\", transform=forw_transform_hepg2, root=\"../data/\"\n",
    ")\n",
    "test_rev = AgarwalDataset(\n",
    "    cell_type=\"HepG2\", split=\"test\", transform=rev_transform_hepg2, root=\"../data/\"\n",
    ")\n",
    "\n",
    "forw_hepg2 = data.DataLoader(\n",
    "    dataset=test_forw,\n",
    "    batch_size=BATCH_SIZE,\n",
    "    shuffle=False,\n",
    "    num_workers=NUM_WORKERS,\n",
    "    pin_memory=True,\n",
    ")\n",
    "rev_hepg2 = data.DataLoader(\n",
    "    dataset=test_rev,\n",
    "    batch_size=BATCH_SIZE,\n",
    "    shuffle=False,\n",
    "    num_workers=NUM_WORKERS,\n",
    "    pin_memory=True,\n",
    ")\n",
    "\n",
    "meaned_prediction(forw_hepg2, rev_hepg2, trainer_hepg2, seq_model_hepg2, name=\"HepG2\")"
   ]
  },
  {
   "cell_type": "markdown",
   "id": "42b18b7f-1201-4eee-8994-e0b0ff9d6849",
   "metadata": {},
   "source": [
    "## Kircher's sequences evaluation"
   ]
  },
  {
   "cell_type": "code",
   "execution_count": 19,
   "id": "f7aa4709-74ff-4616-af2b-2d11072451a6",
   "metadata": {},
   "outputs": [],
   "source": [
    "elements_for_hepg2 = [\"F9\", \"LDLR.2\", \"LDLR\", \"SORT1.2\", \"SORT1\", \"SORT1-flip\"]"
   ]
  },
  {
   "cell_type": "markdown",
   "id": "7ba0b71c-83f8-47f7-92ec-0c7965fa13ce",
   "metadata": {},
   "source": [
    "### LDLR"
   ]
  },
  {
   "cell_type": "code",
   "execution_count": 20,
   "id": "cf53b6e0-7b3c-4dc6-a550-21748bea1b87",
   "metadata": {},
   "outputs": [
    {
     "name": "stderr",
     "output_type": "stream",
     "text": [
      "LOCAL_RANK: 0 - CUDA_VISIBLE_DEVICES: [0,1]\n"
     ]
    },
    {
     "name": "stdout",
     "output_type": "stream",
     "text": [
      "LDLR info\n",
      "Dataset KircherDataset of size 2176 (MpraDaraset)\n",
      "    Number of datapoints: 2176\n",
      "    Used split fold: test\n"
     ]
    },
    {
     "data": {
      "application/vnd.jupyter.widget-view+json": {
       "model_id": "24af74cff81f454a97e3bf15d891e909",
       "version_major": 2,
       "version_minor": 0
      },
      "text/plain": [
       "Predicting: |                                                                                  | 0/? [00:00<?,…"
      ]
     },
     "metadata": {},
     "output_type": "display_data"
    },
    {
     "name": "stderr",
     "output_type": "stream",
     "text": [
      "LOCAL_RANK: 0 - CUDA_VISIBLE_DEVICES: [0,1]\n"
     ]
    },
    {
     "data": {
      "application/vnd.jupyter.widget-view+json": {
       "model_id": "6b7307dfc6074b969ba3e8040e682d9f",
       "version_major": 2,
       "version_minor": 0
      },
      "text/plain": [
       "Predicting: |                                                                                  | 0/? [00:00<?,…"
      ]
     },
     "metadata": {},
     "output_type": "display_data"
    },
    {
     "name": "stdout",
     "output_type": "stream",
     "text": [
      "LDLR Pearson correlation\n"
     ]
    },
    {
     "data": {
      "text/plain": [
       "tensor(0.3660)"
      ]
     },
     "execution_count": 20,
     "metadata": {},
     "output_type": "execute_result"
    }
   ],
   "source": [
    "kircher_dataset_forw = KircherDataset(\n",
    "    length=200, elements=[\"LDLR\", \"LDLR.2\"], transform=forw_transform, root=\"../data/\"\n",
    ")\n",
    "kircher_dataset_rev = KircherDataset(\n",
    "    length=200, elements=[\"LDLR\", \"LDLR.2\"], transform=rev_transform, root=\"../data/\"\n",
    ")\n",
    "print(\"LDLR info\")\n",
    "print(kircher_dataset_forw)\n",
    "\n",
    "kircher_forw = data.DataLoader(\n",
    "    dataset=kircher_dataset_forw,\n",
    "    batch_size=BATCH_SIZE,\n",
    "    shuffle=False,\n",
    "    num_workers=NUM_WORKERS,\n",
    "    pin_memory=True,\n",
    ")\n",
    "kircher_rev = data.DataLoader(\n",
    "    dataset=kircher_dataset_rev,\n",
    "    batch_size=BATCH_SIZE,\n",
    "    shuffle=False,\n",
    "    num_workers=NUM_WORKERS,\n",
    "    pin_memory=True,\n",
    ")\n",
    "\n",
    "meaned_prediction(\n",
    "    kircher_forw,\n",
    "    kircher_rev,\n",
    "    trainer_hepg2,\n",
    "    seq_model_hepg2,\n",
    "    name=\"LDLR\",\n",
    "    is_kircher=True,\n",
    ")"
   ]
  },
  {
   "cell_type": "markdown",
   "id": "0978f22a-9105-46be-af47-e9a0ebfab6ad",
   "metadata": {},
   "source": [
    "### F9"
   ]
  },
  {
   "cell_type": "code",
   "execution_count": 21,
   "id": "e735a6a1-88f3-4fe0-a90e-1dfbcc8780ce",
   "metadata": {},
   "outputs": [
    {
     "name": "stderr",
     "output_type": "stream",
     "text": [
      "LOCAL_RANK: 0 - CUDA_VISIBLE_DEVICES: [0,1]\n"
     ]
    },
    {
     "name": "stdout",
     "output_type": "stream",
     "text": [
      "F9 info\n",
      "Dataset KircherDataset of size 984 (MpraDaraset)\n",
      "    Number of datapoints: 984\n",
      "    Used split fold: test\n"
     ]
    },
    {
     "data": {
      "application/vnd.jupyter.widget-view+json": {
       "model_id": "e30c2e8f34b9435785359746035444c9",
       "version_major": 2,
       "version_minor": 0
      },
      "text/plain": [
       "Predicting: |                                                                                  | 0/? [00:00<?,…"
      ]
     },
     "metadata": {},
     "output_type": "display_data"
    },
    {
     "name": "stderr",
     "output_type": "stream",
     "text": [
      "LOCAL_RANK: 0 - CUDA_VISIBLE_DEVICES: [0,1]\n"
     ]
    },
    {
     "data": {
      "application/vnd.jupyter.widget-view+json": {
       "model_id": "26004cbc1c0c4329b3aee74767db1a6d",
       "version_major": 2,
       "version_minor": 0
      },
      "text/plain": [
       "Predicting: |                                                                                  | 0/? [00:00<?,…"
      ]
     },
     "metadata": {},
     "output_type": "display_data"
    },
    {
     "name": "stdout",
     "output_type": "stream",
     "text": [
      "F9 Pearson correlation\n"
     ]
    },
    {
     "data": {
      "text/plain": [
       "tensor(0.4769)"
      ]
     },
     "execution_count": 21,
     "metadata": {},
     "output_type": "execute_result"
    }
   ],
   "source": [
    "kircher_dataset_forw = KircherDataset(\n",
    "    length=200, elements=[\"F9\"], transform=forw_transform, root=\"../data/\"\n",
    ")\n",
    "kircher_dataset_rev = KircherDataset(\n",
    "    length=200, elements=[\"F9\"], transform=rev_transform, root=\"../data/\"\n",
    ")\n",
    "print(\"F9 info\")\n",
    "print(kircher_dataset_forw)\n",
    "\n",
    "kircher_forw = data.DataLoader(\n",
    "    dataset=kircher_dataset_forw,\n",
    "    batch_size=BATCH_SIZE,\n",
    "    shuffle=False,\n",
    "    num_workers=NUM_WORKERS,\n",
    "    pin_memory=True,\n",
    ")\n",
    "kircher_rev = data.DataLoader(\n",
    "    dataset=kircher_dataset_rev,\n",
    "    batch_size=BATCH_SIZE,\n",
    "    shuffle=False,\n",
    "    num_workers=NUM_WORKERS,\n",
    "    pin_memory=True,\n",
    ")\n",
    "\n",
    "meaned_prediction(\n",
    "    kircher_forw,\n",
    "    kircher_rev,\n",
    "    trainer_hepg2,\n",
    "    seq_model_hepg2,\n",
    "    name=\"F9\",\n",
    "    is_kircher=True,\n",
    ")"
   ]
  },
  {
   "cell_type": "markdown",
   "id": "f15a617e-375e-4ffb-8e91-15fbc0f5737c",
   "metadata": {},
   "source": [
    "### SORT1 "
   ]
  },
  {
   "cell_type": "code",
   "execution_count": 22,
   "id": "b014ee9b-3fa0-46fd-86ac-55b28d90ca8a",
   "metadata": {},
   "outputs": [
    {
     "name": "stderr",
     "output_type": "stream",
     "text": [
      "LOCAL_RANK: 0 - CUDA_VISIBLE_DEVICES: [0,1]\n"
     ]
    },
    {
     "name": "stdout",
     "output_type": "stream",
     "text": [
      "SORT1 info\n",
      "Dataset KircherDataset of size 5898 (MpraDaraset)\n",
      "    Number of datapoints: 5898\n",
      "    Used split fold: test\n"
     ]
    },
    {
     "data": {
      "application/vnd.jupyter.widget-view+json": {
       "model_id": "ae068d61d5a24c108d9369f16a8addf0",
       "version_major": 2,
       "version_minor": 0
      },
      "text/plain": [
       "Predicting: |                                                                                  | 0/? [00:00<?,…"
      ]
     },
     "metadata": {},
     "output_type": "display_data"
    },
    {
     "name": "stderr",
     "output_type": "stream",
     "text": [
      "LOCAL_RANK: 0 - CUDA_VISIBLE_DEVICES: [0,1]\n"
     ]
    },
    {
     "data": {
      "application/vnd.jupyter.widget-view+json": {
       "model_id": "e97339e2cc63489c9c74b674aa083ee7",
       "version_major": 2,
       "version_minor": 0
      },
      "text/plain": [
       "Predicting: |                                                                                  | 0/? [00:00<?,…"
      ]
     },
     "metadata": {},
     "output_type": "display_data"
    },
    {
     "name": "stdout",
     "output_type": "stream",
     "text": [
      "SORT1 Pearson correlation\n"
     ]
    },
    {
     "data": {
      "text/plain": [
       "tensor(0.4938)"
      ]
     },
     "execution_count": 22,
     "metadata": {},
     "output_type": "execute_result"
    }
   ],
   "source": [
    "kircher_dataset_forw = KircherDataset(\n",
    "    length=200,\n",
    "    elements=[\"SORT1.2\", \"SORT1\", \"SORT1-flip\"],\n",
    "    transform=forw_transform,\n",
    "    root=\"../data/\",\n",
    ")\n",
    "kircher_dataset_rev = KircherDataset(\n",
    "    length=200,\n",
    "    elements=[\"SORT1.2\", \"SORT1\", \"SORT1-flip\"],\n",
    "    transform=rev_transform,\n",
    "    root=\"../data/\",\n",
    ")\n",
    "print(\"SORT1 info\")\n",
    "print(kircher_dataset_forw)\n",
    "\n",
    "kircher_forw = data.DataLoader(\n",
    "    dataset=kircher_dataset_forw,\n",
    "    batch_size=BATCH_SIZE,\n",
    "    shuffle=False,\n",
    "    num_workers=NUM_WORKERS,\n",
    "    pin_memory=True,\n",
    ")\n",
    "kircher_rev = data.DataLoader(\n",
    "    dataset=kircher_dataset_rev,\n",
    "    batch_size=BATCH_SIZE,\n",
    "    shuffle=False,\n",
    "    num_workers=NUM_WORKERS,\n",
    "    pin_memory=True,\n",
    ")\n",
    "\n",
    "meaned_prediction(\n",
    "    kircher_forw,\n",
    "    kircher_rev,\n",
    "    trainer_hepg2,\n",
    "    seq_model_hepg2,\n",
    "    name=\"SORT1\",\n",
    "    is_kircher=True,\n",
    ")"
   ]
  },
  {
   "cell_type": "markdown",
   "id": "0bd0553a-5ace-478b-b5bc-011fb0380c87",
   "metadata": {},
   "source": [
    "# Pretrain on Agarwal's K562"
   ]
  },
  {
   "cell_type": "code",
   "execution_count": 23,
   "id": "3789195e-e515-47a5-b475-4c24c539105b",
   "metadata": {},
   "outputs": [],
   "source": [
    "# load the data\n",
    "train_dataset = AgarwalDataset(\n",
    "    cell_type=\"K562\",\n",
    "    split=\"train\",  # could use a list e.g. [1,2,5,6,7,8] for needed folds\n",
    "    transform=train_transform,\n",
    "    root=\"../data/\",\n",
    ")\n",
    "\n",
    "val_dataset = AgarwalDataset(\n",
    "    cell_type=\"K562\",\n",
    "    split=\"val\",  # use \"val\" for default validation set or use list\n",
    "    transform=test_transform,\n",
    "    root=\"../data/\",\n",
    ")\n",
    "\n",
    "test_dataset = AgarwalDataset(\n",
    "    cell_type=\"K562\",\n",
    "    split=\"test\",  # use \"test\" for default test set or use list\n",
    "    transform=test_transform,\n",
    "    root=\"../data/\",\n",
    ")"
   ]
  },
  {
   "cell_type": "code",
   "execution_count": 98,
   "id": "f8503204-16d8-4313-9ba0-5d5a3cb0dffd",
   "metadata": {},
   "outputs": [
    {
     "name": "stdout",
     "output_type": "stream",
     "text": [
      "Dataset AgarwalDataset of size 157328 (MpraDaraset)\n",
      "    Number of datapoints: 157328\n",
      "    Used split fold: [1, 2, 3, 4, 5, 6, 7, 8]\n",
      "==================================================\n",
      "Dataset AgarwalDataset of size 19666 (MpraDaraset)\n",
      "    Number of datapoints: 19666\n",
      "    Used split fold: [9]\n",
      "==================================================\n",
      "Dataset AgarwalDataset of size 19670 (MpraDaraset)\n",
      "    Number of datapoints: 19670\n",
      "    Used split fold: [10]\n"
     ]
    }
   ],
   "source": [
    "print(train_dataset)\n",
    "print(\"=\" * 50)\n",
    "print(val_dataset)\n",
    "print(\"=\" * 50)\n",
    "print(test_dataset)"
   ]
  },
  {
   "cell_type": "code",
   "execution_count": 99,
   "id": "e4b3a79f-7696-4921-a784-9858a0173df9",
   "metadata": {},
   "outputs": [],
   "source": [
    "# encapsulate data into dataloader form\n",
    "train_loader = data.DataLoader(\n",
    "    dataset=train_dataset, batch_size=BATCH_SIZE, shuffle=True, num_workers=NUM_WORKERS\n",
    ")\n",
    "\n",
    "val_loader = data.DataLoader(\n",
    "    dataset=val_dataset, batch_size=BATCH_SIZE, shuffle=False, num_workers=NUM_WORKERS\n",
    ")\n",
    "\n",
    "test_loader = data.DataLoader(\n",
    "    dataset=test_dataset, batch_size=BATCH_SIZE, shuffle=False, num_workers=NUM_WORKERS\n",
    ")"
   ]
  },
  {
   "cell_type": "code",
   "execution_count": 24,
   "id": "8d361ec6-8715-4976-ad32-4b0d1711ac6a",
   "metadata": {},
   "outputs": [],
   "source": [
    "in_channels = len(train_dataset[0][0])\n",
    "out_channels = 1"
   ]
  },
  {
   "cell_type": "code",
   "execution_count": 25,
   "id": "561857c8-2f00-4765-9a43-f2bca5ea39d9",
   "metadata": {},
   "outputs": [],
   "source": [
    "model = HumanLegNet(\n",
    "    in_ch=in_channels,\n",
    "    output_dim=out_channels,\n",
    "    stem_ch=64,\n",
    "    stem_ks=11,\n",
    "    ef_ks=9,\n",
    "    ef_block_sizes=[80, 96, 112, 128],\n",
    "    pool_sizes=[2, 2, 2, 2],\n",
    "    resize_factor=4,\n",
    ")\n",
    "model.apply(initialize_weights)\n",
    "\n",
    "seq_model = LitModel_Kircher(\n",
    "    model=model, loss=nn.MSELoss(), weight_decay=1e-1, lr=1e-2, print_each=10\n",
    ")"
   ]
  },
  {
   "cell_type": "code",
   "execution_count": 26,
   "id": "a501e1a8-b9ec-4b99-8bc2-faed1d3ec233",
   "metadata": {},
   "outputs": [
    {
     "name": "stderr",
     "output_type": "stream",
     "text": [
      "Using 16bit Automatic Mixed Precision (AMP)\n",
      "GPU available: True (cuda), used: True\n",
      "TPU available: False, using: 0 TPU cores\n",
      "HPU available: False, using: 0 HPUs\n"
     ]
    }
   ],
   "source": [
    "checkpoint_callback = ModelCheckpoint(\n",
    "    monitor=\"val_pearson\", mode=\"max\", save_top_k=1, save_last=False\n",
    ")\n",
    "# Initialize a trainer\n",
    "trainer_k562 = L.Trainer(\n",
    "    accelerator=\"gpu\",\n",
    "    devices=[1],\n",
    "    max_epochs=50,\n",
    "    gradient_clip_val=1,\n",
    "    precision=\"16-mixed\",\n",
    "    enable_progress_bar=True,\n",
    "    num_sanity_val_steps=0,\n",
    "    callbacks=[checkpoint_callback],\n",
    ")"
   ]
  },
  {
   "cell_type": "code",
   "execution_count": 27,
   "id": "43b499ab-fa85-49d4-95ed-e9b5b0cb9e2d",
   "metadata": {},
   "outputs": [
    {
     "name": "stderr",
     "output_type": "stream",
     "text": [
      "LOCAL_RANK: 0 - CUDA_VISIBLE_DEVICES: [0,1]\n",
      "Loading `train_dataloader` to estimate number of stepping batches.\n",
      "\n",
      "  | Name          | Type            | Params | Mode \n",
      "----------------------------------------------------------\n",
      "0 | model         | HumanLegNet     | 1.3 M  | train\n",
      "1 | loss          | MSELoss         | 0      | train\n",
      "2 | train_pearson | PearsonCorrCoef | 0      | train\n",
      "3 | val_pearson   | PearsonCorrCoef | 0      | train\n",
      "4 | test_pearson  | PearsonCorrCoef | 0      | train\n",
      "----------------------------------------------------------\n",
      "1.3 M     Trainable params\n",
      "0         Non-trainable params\n",
      "1.3 M     Total params\n",
      "5.290     Total estimated model params size (MB)\n",
      "120       Modules in train mode\n",
      "0         Modules in eval mode\n"
     ]
    },
    {
     "data": {
      "application/vnd.jupyter.widget-view+json": {
       "model_id": "e1600a1a04c04614b37b9fdfbbfd53c8",
       "version_major": 2,
       "version_minor": 0
      },
      "text/plain": [
       "Training: |                                                                                       | 0/? [00:00…"
      ]
     },
     "metadata": {},
     "output_type": "display_data"
    },
    {
     "data": {
      "application/vnd.jupyter.widget-view+json": {
       "model_id": "",
       "version_major": 2,
       "version_minor": 0
      },
      "text/plain": [
       "Validation: |                                                                                     | 0/? [00:00…"
      ]
     },
     "metadata": {},
     "output_type": "display_data"
    },
    {
     "data": {
      "application/vnd.jupyter.widget-view+json": {
       "model_id": "",
       "version_major": 2,
       "version_minor": 0
      },
      "text/plain": [
       "Validation: |                                                                                     | 0/? [00:00…"
      ]
     },
     "metadata": {},
     "output_type": "display_data"
    },
    {
     "data": {
      "application/vnd.jupyter.widget-view+json": {
       "model_id": "",
       "version_major": 2,
       "version_minor": 0
      },
      "text/plain": [
       "Validation: |                                                                                     | 0/? [00:00…"
      ]
     },
     "metadata": {},
     "output_type": "display_data"
    },
    {
     "data": {
      "application/vnd.jupyter.widget-view+json": {
       "model_id": "",
       "version_major": 2,
       "version_minor": 0
      },
      "text/plain": [
       "Validation: |                                                                                     | 0/? [00:00…"
      ]
     },
     "metadata": {},
     "output_type": "display_data"
    },
    {
     "data": {
      "application/vnd.jupyter.widget-view+json": {
       "model_id": "",
       "version_major": 2,
       "version_minor": 0
      },
      "text/plain": [
       "Validation: |                                                                                     | 0/? [00:00…"
      ]
     },
     "metadata": {},
     "output_type": "display_data"
    },
    {
     "data": {
      "application/vnd.jupyter.widget-view+json": {
       "model_id": "",
       "version_major": 2,
       "version_minor": 0
      },
      "text/plain": [
       "Validation: |                                                                                     | 0/? [00:00…"
      ]
     },
     "metadata": {},
     "output_type": "display_data"
    },
    {
     "data": {
      "application/vnd.jupyter.widget-view+json": {
       "model_id": "",
       "version_major": 2,
       "version_minor": 0
      },
      "text/plain": [
       "Validation: |                                                                                     | 0/? [00:00…"
      ]
     },
     "metadata": {},
     "output_type": "display_data"
    },
    {
     "data": {
      "application/vnd.jupyter.widget-view+json": {
       "model_id": "",
       "version_major": 2,
       "version_minor": 0
      },
      "text/plain": [
       "Validation: |                                                                                     | 0/? [00:00…"
      ]
     },
     "metadata": {},
     "output_type": "display_data"
    },
    {
     "data": {
      "application/vnd.jupyter.widget-view+json": {
       "model_id": "",
       "version_major": 2,
       "version_minor": 0
      },
      "text/plain": [
       "Validation: |                                                                                     | 0/? [00:00…"
      ]
     },
     "metadata": {},
     "output_type": "display_data"
    },
    {
     "data": {
      "application/vnd.jupyter.widget-view+json": {
       "model_id": "",
       "version_major": 2,
       "version_minor": 0
      },
      "text/plain": [
       "Validation: |                                                                                     | 0/? [00:00…"
      ]
     },
     "metadata": {},
     "output_type": "display_data"
    },
    {
     "name": "stdout",
     "output_type": "stream",
     "text": [
      "\n",
      "-------------------------------------------------------------------------------\n",
      "| Epoch: 9 | Val Loss: 0.14667 | Val Pearson: 0.70573 | Train Pearson: 0.75466 \n",
      "-------------------------------------------------------------------------------\n",
      "\n"
     ]
    },
    {
     "data": {
      "application/vnd.jupyter.widget-view+json": {
       "model_id": "",
       "version_major": 2,
       "version_minor": 0
      },
      "text/plain": [
       "Validation: |                                                                                     | 0/? [00:00…"
      ]
     },
     "metadata": {},
     "output_type": "display_data"
    },
    {
     "data": {
      "application/vnd.jupyter.widget-view+json": {
       "model_id": "",
       "version_major": 2,
       "version_minor": 0
      },
      "text/plain": [
       "Validation: |                                                                                     | 0/? [00:00…"
      ]
     },
     "metadata": {},
     "output_type": "display_data"
    },
    {
     "data": {
      "application/vnd.jupyter.widget-view+json": {
       "model_id": "",
       "version_major": 2,
       "version_minor": 0
      },
      "text/plain": [
       "Validation: |                                                                                     | 0/? [00:00…"
      ]
     },
     "metadata": {},
     "output_type": "display_data"
    },
    {
     "data": {
      "application/vnd.jupyter.widget-view+json": {
       "model_id": "",
       "version_major": 2,
       "version_minor": 0
      },
      "text/plain": [
       "Validation: |                                                                                     | 0/? [00:00…"
      ]
     },
     "metadata": {},
     "output_type": "display_data"
    },
    {
     "data": {
      "application/vnd.jupyter.widget-view+json": {
       "model_id": "",
       "version_major": 2,
       "version_minor": 0
      },
      "text/plain": [
       "Validation: |                                                                                     | 0/? [00:00…"
      ]
     },
     "metadata": {},
     "output_type": "display_data"
    },
    {
     "data": {
      "application/vnd.jupyter.widget-view+json": {
       "model_id": "",
       "version_major": 2,
       "version_minor": 0
      },
      "text/plain": [
       "Validation: |                                                                                     | 0/? [00:00…"
      ]
     },
     "metadata": {},
     "output_type": "display_data"
    },
    {
     "data": {
      "application/vnd.jupyter.widget-view+json": {
       "model_id": "",
       "version_major": 2,
       "version_minor": 0
      },
      "text/plain": [
       "Validation: |                                                                                     | 0/? [00:00…"
      ]
     },
     "metadata": {},
     "output_type": "display_data"
    },
    {
     "data": {
      "application/vnd.jupyter.widget-view+json": {
       "model_id": "",
       "version_major": 2,
       "version_minor": 0
      },
      "text/plain": [
       "Validation: |                                                                                     | 0/? [00:00…"
      ]
     },
     "metadata": {},
     "output_type": "display_data"
    },
    {
     "data": {
      "application/vnd.jupyter.widget-view+json": {
       "model_id": "",
       "version_major": 2,
       "version_minor": 0
      },
      "text/plain": [
       "Validation: |                                                                                     | 0/? [00:00…"
      ]
     },
     "metadata": {},
     "output_type": "display_data"
    },
    {
     "data": {
      "application/vnd.jupyter.widget-view+json": {
       "model_id": "",
       "version_major": 2,
       "version_minor": 0
      },
      "text/plain": [
       "Validation: |                                                                                     | 0/? [00:00…"
      ]
     },
     "metadata": {},
     "output_type": "display_data"
    },
    {
     "name": "stdout",
     "output_type": "stream",
     "text": [
      "\n",
      "--------------------------------------------------------------------------------\n",
      "| Epoch: 19 | Val Loss: 0.17103 | Val Pearson: 0.74526 | Train Pearson: 0.78996 \n",
      "--------------------------------------------------------------------------------\n",
      "\n"
     ]
    },
    {
     "data": {
      "application/vnd.jupyter.widget-view+json": {
       "model_id": "",
       "version_major": 2,
       "version_minor": 0
      },
      "text/plain": [
       "Validation: |                                                                                     | 0/? [00:00…"
      ]
     },
     "metadata": {},
     "output_type": "display_data"
    },
    {
     "data": {
      "application/vnd.jupyter.widget-view+json": {
       "model_id": "",
       "version_major": 2,
       "version_minor": 0
      },
      "text/plain": [
       "Validation: |                                                                                     | 0/? [00:00…"
      ]
     },
     "metadata": {},
     "output_type": "display_data"
    },
    {
     "data": {
      "application/vnd.jupyter.widget-view+json": {
       "model_id": "",
       "version_major": 2,
       "version_minor": 0
      },
      "text/plain": [
       "Validation: |                                                                                     | 0/? [00:00…"
      ]
     },
     "metadata": {},
     "output_type": "display_data"
    },
    {
     "data": {
      "application/vnd.jupyter.widget-view+json": {
       "model_id": "",
       "version_major": 2,
       "version_minor": 0
      },
      "text/plain": [
       "Validation: |                                                                                     | 0/? [00:00…"
      ]
     },
     "metadata": {},
     "output_type": "display_data"
    },
    {
     "data": {
      "application/vnd.jupyter.widget-view+json": {
       "model_id": "",
       "version_major": 2,
       "version_minor": 0
      },
      "text/plain": [
       "Validation: |                                                                                     | 0/? [00:00…"
      ]
     },
     "metadata": {},
     "output_type": "display_data"
    },
    {
     "data": {
      "application/vnd.jupyter.widget-view+json": {
       "model_id": "",
       "version_major": 2,
       "version_minor": 0
      },
      "text/plain": [
       "Validation: |                                                                                     | 0/? [00:00…"
      ]
     },
     "metadata": {},
     "output_type": "display_data"
    },
    {
     "data": {
      "application/vnd.jupyter.widget-view+json": {
       "model_id": "",
       "version_major": 2,
       "version_minor": 0
      },
      "text/plain": [
       "Validation: |                                                                                     | 0/? [00:00…"
      ]
     },
     "metadata": {},
     "output_type": "display_data"
    },
    {
     "data": {
      "application/vnd.jupyter.widget-view+json": {
       "model_id": "",
       "version_major": 2,
       "version_minor": 0
      },
      "text/plain": [
       "Validation: |                                                                                     | 0/? [00:00…"
      ]
     },
     "metadata": {},
     "output_type": "display_data"
    },
    {
     "data": {
      "application/vnd.jupyter.widget-view+json": {
       "model_id": "",
       "version_major": 2,
       "version_minor": 0
      },
      "text/plain": [
       "Validation: |                                                                                     | 0/? [00:00…"
      ]
     },
     "metadata": {},
     "output_type": "display_data"
    },
    {
     "data": {
      "application/vnd.jupyter.widget-view+json": {
       "model_id": "",
       "version_major": 2,
       "version_minor": 0
      },
      "text/plain": [
       "Validation: |                                                                                     | 0/? [00:00…"
      ]
     },
     "metadata": {},
     "output_type": "display_data"
    },
    {
     "name": "stdout",
     "output_type": "stream",
     "text": [
      "\n",
      "--------------------------------------------------------------------------------\n",
      "| Epoch: 29 | Val Loss: 0.12919 | Val Pearson: 0.75422 | Train Pearson: 0.82394 \n",
      "--------------------------------------------------------------------------------\n",
      "\n"
     ]
    },
    {
     "data": {
      "application/vnd.jupyter.widget-view+json": {
       "model_id": "",
       "version_major": 2,
       "version_minor": 0
      },
      "text/plain": [
       "Validation: |                                                                                     | 0/? [00:00…"
      ]
     },
     "metadata": {},
     "output_type": "display_data"
    },
    {
     "data": {
      "application/vnd.jupyter.widget-view+json": {
       "model_id": "",
       "version_major": 2,
       "version_minor": 0
      },
      "text/plain": [
       "Validation: |                                                                                     | 0/? [00:00…"
      ]
     },
     "metadata": {},
     "output_type": "display_data"
    },
    {
     "data": {
      "application/vnd.jupyter.widget-view+json": {
       "model_id": "",
       "version_major": 2,
       "version_minor": 0
      },
      "text/plain": [
       "Validation: |                                                                                     | 0/? [00:00…"
      ]
     },
     "metadata": {},
     "output_type": "display_data"
    },
    {
     "data": {
      "application/vnd.jupyter.widget-view+json": {
       "model_id": "",
       "version_major": 2,
       "version_minor": 0
      },
      "text/plain": [
       "Validation: |                                                                                     | 0/? [00:00…"
      ]
     },
     "metadata": {},
     "output_type": "display_data"
    },
    {
     "data": {
      "application/vnd.jupyter.widget-view+json": {
       "model_id": "",
       "version_major": 2,
       "version_minor": 0
      },
      "text/plain": [
       "Validation: |                                                                                     | 0/? [00:00…"
      ]
     },
     "metadata": {},
     "output_type": "display_data"
    },
    {
     "data": {
      "application/vnd.jupyter.widget-view+json": {
       "model_id": "",
       "version_major": 2,
       "version_minor": 0
      },
      "text/plain": [
       "Validation: |                                                                                     | 0/? [00:00…"
      ]
     },
     "metadata": {},
     "output_type": "display_data"
    },
    {
     "data": {
      "application/vnd.jupyter.widget-view+json": {
       "model_id": "",
       "version_major": 2,
       "version_minor": 0
      },
      "text/plain": [
       "Validation: |                                                                                     | 0/? [00:00…"
      ]
     },
     "metadata": {},
     "output_type": "display_data"
    },
    {
     "data": {
      "application/vnd.jupyter.widget-view+json": {
       "model_id": "",
       "version_major": 2,
       "version_minor": 0
      },
      "text/plain": [
       "Validation: |                                                                                     | 0/? [00:00…"
      ]
     },
     "metadata": {},
     "output_type": "display_data"
    },
    {
     "data": {
      "application/vnd.jupyter.widget-view+json": {
       "model_id": "",
       "version_major": 2,
       "version_minor": 0
      },
      "text/plain": [
       "Validation: |                                                                                     | 0/? [00:00…"
      ]
     },
     "metadata": {},
     "output_type": "display_data"
    },
    {
     "data": {
      "application/vnd.jupyter.widget-view+json": {
       "model_id": "",
       "version_major": 2,
       "version_minor": 0
      },
      "text/plain": [
       "Validation: |                                                                                     | 0/? [00:00…"
      ]
     },
     "metadata": {},
     "output_type": "display_data"
    },
    {
     "name": "stdout",
     "output_type": "stream",
     "text": [
      "\n",
      "--------------------------------------------------------------------------------\n",
      "| Epoch: 39 | Val Loss: 0.13276 | Val Pearson: 0.77974 | Train Pearson: 0.87416 \n",
      "--------------------------------------------------------------------------------\n",
      "\n"
     ]
    },
    {
     "data": {
      "application/vnd.jupyter.widget-view+json": {
       "model_id": "",
       "version_major": 2,
       "version_minor": 0
      },
      "text/plain": [
       "Validation: |                                                                                     | 0/? [00:00…"
      ]
     },
     "metadata": {},
     "output_type": "display_data"
    },
    {
     "data": {
      "application/vnd.jupyter.widget-view+json": {
       "model_id": "",
       "version_major": 2,
       "version_minor": 0
      },
      "text/plain": [
       "Validation: |                                                                                     | 0/? [00:00…"
      ]
     },
     "metadata": {},
     "output_type": "display_data"
    },
    {
     "data": {
      "application/vnd.jupyter.widget-view+json": {
       "model_id": "",
       "version_major": 2,
       "version_minor": 0
      },
      "text/plain": [
       "Validation: |                                                                                     | 0/? [00:00…"
      ]
     },
     "metadata": {},
     "output_type": "display_data"
    },
    {
     "data": {
      "application/vnd.jupyter.widget-view+json": {
       "model_id": "",
       "version_major": 2,
       "version_minor": 0
      },
      "text/plain": [
       "Validation: |                                                                                     | 0/? [00:00…"
      ]
     },
     "metadata": {},
     "output_type": "display_data"
    },
    {
     "data": {
      "application/vnd.jupyter.widget-view+json": {
       "model_id": "",
       "version_major": 2,
       "version_minor": 0
      },
      "text/plain": [
       "Validation: |                                                                                     | 0/? [00:00…"
      ]
     },
     "metadata": {},
     "output_type": "display_data"
    },
    {
     "data": {
      "application/vnd.jupyter.widget-view+json": {
       "model_id": "",
       "version_major": 2,
       "version_minor": 0
      },
      "text/plain": [
       "Validation: |                                                                                     | 0/? [00:00…"
      ]
     },
     "metadata": {},
     "output_type": "display_data"
    },
    {
     "data": {
      "application/vnd.jupyter.widget-view+json": {
       "model_id": "",
       "version_major": 2,
       "version_minor": 0
      },
      "text/plain": [
       "Validation: |                                                                                     | 0/? [00:00…"
      ]
     },
     "metadata": {},
     "output_type": "display_data"
    },
    {
     "data": {
      "application/vnd.jupyter.widget-view+json": {
       "model_id": "",
       "version_major": 2,
       "version_minor": 0
      },
      "text/plain": [
       "Validation: |                                                                                     | 0/? [00:00…"
      ]
     },
     "metadata": {},
     "output_type": "display_data"
    },
    {
     "data": {
      "application/vnd.jupyter.widget-view+json": {
       "model_id": "",
       "version_major": 2,
       "version_minor": 0
      },
      "text/plain": [
       "Validation: |                                                                                     | 0/? [00:00…"
      ]
     },
     "metadata": {},
     "output_type": "display_data"
    },
    {
     "data": {
      "application/vnd.jupyter.widget-view+json": {
       "model_id": "",
       "version_major": 2,
       "version_minor": 0
      },
      "text/plain": [
       "Validation: |                                                                                     | 0/? [00:00…"
      ]
     },
     "metadata": {},
     "output_type": "display_data"
    },
    {
     "name": "stderr",
     "output_type": "stream",
     "text": [
      "`Trainer.fit` stopped: `max_epochs=50` reached.\n"
     ]
    },
    {
     "name": "stdout",
     "output_type": "stream",
     "text": [
      "\n",
      "--------------------------------------------------------------------------------\n",
      "| Epoch: 49 | Val Loss: 0.09762 | Val Pearson: 0.81021 | Train Pearson: 0.91190 \n",
      "--------------------------------------------------------------------------------\n",
      "\n"
     ]
    }
   ],
   "source": [
    "# Train the model\n",
    "trainer_k562.fit(seq_model, train_dataloaders=train_loader, val_dataloaders=val_loader)"
   ]
  },
  {
   "cell_type": "markdown",
   "id": "90a48b8c-5793-4498-8ef7-7b8474eb8e90",
   "metadata": {},
   "source": [
    "## K562 Evaluation"
   ]
  },
  {
   "cell_type": "code",
   "execution_count": 28,
   "id": "0663d367-ff74-4f0a-bdc6-86b6b2dc1d89",
   "metadata": {},
   "outputs": [],
   "source": [
    "best_model_path = checkpoint_callback.best_model_path\n",
    "seq_model_k562 = LitModel_Kircher.load_from_checkpoint(\n",
    "    best_model_path,\n",
    "    model=model,\n",
    "    loss=nn.MSELoss(),\n",
    "    weight_decay=0.1,\n",
    "    lr=0.01,\n",
    "    print_each=1,\n",
    ")"
   ]
  },
  {
   "cell_type": "code",
   "execution_count": 29,
   "id": "be354773-1b26-4da2-a56d-340c344d66c9",
   "metadata": {},
   "outputs": [
    {
     "name": "stderr",
     "output_type": "stream",
     "text": [
      "LOCAL_RANK: 0 - CUDA_VISIBLE_DEVICES: [0,1]\n"
     ]
    },
    {
     "data": {
      "application/vnd.jupyter.widget-view+json": {
       "model_id": "c468cd73ce3f4aada0ca3c85b537e1b8",
       "version_major": 2,
       "version_minor": 0
      },
      "text/plain": [
       "Predicting: |                                                                                     | 0/? [00:00…"
      ]
     },
     "metadata": {},
     "output_type": "display_data"
    },
    {
     "name": "stderr",
     "output_type": "stream",
     "text": [
      "LOCAL_RANK: 0 - CUDA_VISIBLE_DEVICES: [0,1]\n"
     ]
    },
    {
     "data": {
      "application/vnd.jupyter.widget-view+json": {
       "model_id": "62dc565ee2d04ffe90ba20e93af059b6",
       "version_major": 2,
       "version_minor": 0
      },
      "text/plain": [
       "Predicting: |                                                                                     | 0/? [00:00…"
      ]
     },
     "metadata": {},
     "output_type": "display_data"
    },
    {
     "name": "stdout",
     "output_type": "stream",
     "text": [
      "K562 Pearson correlation\n"
     ]
    },
    {
     "data": {
      "text/plain": [
       "tensor(0.8280)"
      ]
     },
     "execution_count": 29,
     "metadata": {},
     "output_type": "execute_result"
    }
   ],
   "source": [
    "forw_transform_k562 = t.Compose(\n",
    "    [t.AddFlanks(constant_left_flank, constant_right_flank), t.Seq2Tensor()]\n",
    ")\n",
    "rev_transform_k562 = t.Compose(\n",
    "    [\n",
    "        t.AddFlanks(constant_left_flank, constant_right_flank),\n",
    "        t.ReverseComplement(1),\n",
    "        t.Seq2Tensor(),\n",
    "    ]\n",
    ")\n",
    "\n",
    "test_forw = AgarwalDataset(\n",
    "    cell_type=\"K562\", split=\"test\", transform=forw_transform_k562, root=\"../data/\"\n",
    ")\n",
    "test_rev = AgarwalDataset(\n",
    "    cell_type=\"K562\", split=\"test\", transform=rev_transform_k562, root=\"../data/\"\n",
    ")\n",
    "\n",
    "forw_k562 = data.DataLoader(\n",
    "    dataset=test_forw,\n",
    "    batch_size=BATCH_SIZE,\n",
    "    shuffle=False,\n",
    "    num_workers=NUM_WORKERS,\n",
    "    pin_memory=True,\n",
    ")\n",
    "rev_k562 = data.DataLoader(\n",
    "    dataset=test_rev,\n",
    "    batch_size=BATCH_SIZE,\n",
    "    shuffle=False,\n",
    "    num_workers=NUM_WORKERS,\n",
    "    pin_memory=True,\n",
    ")\n",
    "\n",
    "meaned_prediction(forw_k562, rev_k562, trainer_k562, seq_model_k562, name=\"K562\")"
   ]
  },
  {
   "cell_type": "markdown",
   "id": "b940bcb5-efeb-4507-9ae6-5713a89cc7d0",
   "metadata": {},
   "source": [
    "## Kircher's sequences evaluation"
   ]
  },
  {
   "cell_type": "code",
   "execution_count": 30,
   "id": "56056687-6083-4788-8fd2-42336ecf206f",
   "metadata": {},
   "outputs": [],
   "source": [
    "elements_for_k562 = [\"PKLR-24h\", \"PKLR-48h\"]"
   ]
  },
  {
   "cell_type": "markdown",
   "id": "ae951c9c-4e4f-46d2-a56c-f4c5f4545ffc",
   "metadata": {},
   "source": [
    "### PKLR"
   ]
  },
  {
   "cell_type": "code",
   "execution_count": 40,
   "id": "609acfb7-87af-4365-bb50-580d68c6f453",
   "metadata": {},
   "outputs": [
    {
     "name": "stderr",
     "output_type": "stream",
     "text": [
      "LOCAL_RANK: 0 - CUDA_VISIBLE_DEVICES: [0,1]\n"
     ]
    },
    {
     "name": "stdout",
     "output_type": "stream",
     "text": [
      "PKLR info\n",
      "Dataset KircherDataset of size 1794 (MpraDaraset)\n",
      "    Number of datapoints: 1794\n",
      "    Used split fold: test\n"
     ]
    },
    {
     "data": {
      "application/vnd.jupyter.widget-view+json": {
       "model_id": "4663afe17eb84265a9752aa51366444b",
       "version_major": 2,
       "version_minor": 0
      },
      "text/plain": [
       "Predicting: |                                                                                     | 0/? [00:00…"
      ]
     },
     "metadata": {},
     "output_type": "display_data"
    },
    {
     "name": "stderr",
     "output_type": "stream",
     "text": [
      "LOCAL_RANK: 0 - CUDA_VISIBLE_DEVICES: [0,1]\n"
     ]
    },
    {
     "data": {
      "application/vnd.jupyter.widget-view+json": {
       "model_id": "9d56c4c6b3f2478f91ba4d4cab14c066",
       "version_major": 2,
       "version_minor": 0
      },
      "text/plain": [
       "Predicting: |                                                                                     | 0/? [00:00…"
      ]
     },
     "metadata": {},
     "output_type": "display_data"
    },
    {
     "name": "stdout",
     "output_type": "stream",
     "text": [
      "PKLR Pearson correlation\n"
     ]
    },
    {
     "data": {
      "text/plain": [
       "tensor(0.5429)"
      ]
     },
     "execution_count": 40,
     "metadata": {},
     "output_type": "execute_result"
    }
   ],
   "source": [
    "kircher_dataset_forw = KircherDataset(\n",
    "    length=200, elements=[\"PKLR-48h\"], transform=forw_transform, root=\"../data/\"\n",
    ")\n",
    "kircher_dataset_rev = KircherDataset(\n",
    "    length=200, elements=[\"PKLR-48h\"], transform=rev_transform, root=\"../data/\"\n",
    ")\n",
    "print(\"PKLR info\")\n",
    "print(kircher_dataset_forw)\n",
    "\n",
    "kircher_forw = data.DataLoader(\n",
    "    dataset=kircher_dataset_forw,\n",
    "    batch_size=BATCH_SIZE,\n",
    "    shuffle=False,\n",
    "    num_workers=NUM_WORKERS,\n",
    "    pin_memory=True,\n",
    ")\n",
    "kircher_rev = data.DataLoader(\n",
    "    dataset=kircher_dataset_rev,\n",
    "    batch_size=BATCH_SIZE,\n",
    "    shuffle=False,\n",
    "    num_workers=NUM_WORKERS,\n",
    "    pin_memory=True,\n",
    ")\n",
    "\n",
    "meaned_prediction(\n",
    "    kircher_forw,\n",
    "    kircher_rev,\n",
    "    trainer_k562,\n",
    "    seq_model_k562,\n",
    "    name=\"PKLR\",\n",
    "    is_kircher=True,\n",
    ")"
   ]
  }
 ],
 "metadata": {
  "kernelspec": {
   "display_name": "Python [conda env:mpramnist]",
   "language": "python",
   "name": "conda-env-mpramnist-py"
  },
  "language_info": {
   "codemirror_mode": {
    "name": "ipython",
    "version": 3
   },
   "file_extension": ".py",
   "mimetype": "text/x-python",
   "name": "python",
   "nbconvert_exporter": "python",
   "pygments_lexer": "ipython3",
   "version": "3.12.7"
  }
 },
 "nbformat": 4,
 "nbformat_minor": 5
}
