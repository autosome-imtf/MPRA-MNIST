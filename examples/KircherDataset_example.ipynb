{
 "cells": [
  {
   "cell_type": "code",
   "execution_count": 2,
   "id": "166d0830-1192-48f2-a174-fcda1320735b",
   "metadata": {},
   "outputs": [],
   "source": [
    "import mpramnist\n",
    "from mpramnist.Agarwal.dataset import AgarwalDataset\n",
    "from mpramnist.Kircher.dataset import KircherDataset\n",
    "\n",
    "from mpramnist.models import HumanLegNet\n",
    "from mpramnist.models import initialize_weights\n",
    "from mpramnist.trainers import LitModel_Kircher\n",
    "\n",
    "import mpramnist.transforms as t\n",
    "import mpramnist.target_transforms as t_t\n",
    "\n",
    "import pandas as pd\n",
    "import numpy as np\n",
    "import torch\n",
    "import torch.utils.data as data\n",
    "import pytorch_lightning as L\n",
    "\n",
    "from torchmetrics import PearsonCorrCoef"
   ]
  },
  {
   "cell_type": "code",
   "execution_count": 3,
   "id": "d2b33ea1-e20a-4beb-a3a6-b5b921b3c55a",
   "metadata": {},
   "outputs": [],
   "source": [
    "BATCH_SIZE = 1024\n",
    "NUM_WORKERS = 8"
   ]
  },
  {
   "cell_type": "code",
   "execution_count": 4,
   "id": "c9ac49dd-2f2d-4fee-819c-267587e31485",
   "metadata": {},
   "outputs": [],
   "source": [
    "# original flanks from human_legnet\n",
    "left_flank = AgarwalDataset.LEFT_FLANK \n",
    "right_flank = AgarwalDataset.RIGHT_FLANK"
   ]
  },
  {
   "cell_type": "markdown",
   "id": "8f2af647-9958-4706-9045-2ec0a0d06a0e",
   "metadata": {},
   "source": [
    "# Pretrain on Agarwal's data"
   ]
  },
  {
   "cell_type": "code",
   "execution_count": 5,
   "id": "cb1cb79b-7571-4f0a-955e-be8fb350cffc",
   "metadata": {},
   "outputs": [],
   "source": [
    "# preprocessing\n",
    "train_transform = t.Compose([\n",
    "    t.AddFlanks(\"\", right_flank), # this is original parameters for human_legnet\n",
    "    t.RightCrop(230,250),\n",
    "    t.CenterCrop(230),\n",
    "    t.Seq2Tensor(),\n",
    "    t.ReverseComplement(0.5),\n",
    "])\n",
    "test_transform = t.Compose([ # test transforms are slightly different\n",
    "    t.Seq2Tensor(), \n",
    "    t.ReverseComplement(0), # the Reverse complementary transformation is applied deterministically, not randomly with a 50% chance\n",
    "])\n",
    "\n",
    "# load the data\n",
    "train_dataset = AgarwalDataset(cell_type = \"HepG2\", \n",
    "                              split=\"train\", \n",
    "                              transform=train_transform) # could use a list e.g. [1,2,5,6,7,8] \n",
    "                                                            # for needed folds\n",
    "val_dataset = AgarwalDataset(cell_type = \"HepG2\", \n",
    "                            split=\"val\", \n",
    "                            transform=test_transform) # use \"val\" for default validation set or use list\n",
    "test_dataset = AgarwalDataset(cell_type = \"HepG2\", \n",
    "                             split=\"test\", \n",
    "                             transform=test_transform) # use \"test\" for default test set or use list"
   ]
  },
  {
   "cell_type": "code",
   "execution_count": 6,
   "id": "0688273a-1708-4dbf-8055-51416b36ce23",
   "metadata": {},
   "outputs": [],
   "source": [
    "# encapsulate data into dataloader form\n",
    "train_loader = data.DataLoader(dataset=train_dataset, batch_size=BATCH_SIZE, shuffle=True, num_workers = NUM_WORKERS)\n",
    "\n",
    "val_loader = data.DataLoader(dataset=val_dataset, batch_size=BATCH_SIZE, shuffle=False, num_workers = NUM_WORKERS)\n",
    "\n",
    "test_loader = data.DataLoader(dataset=test_dataset, batch_size=BATCH_SIZE, shuffle=False, num_workers = NUM_WORKERS)"
   ]
  },
  {
   "cell_type": "code",
   "execution_count": 7,
   "id": "d8147b3a-f743-440c-8b3d-447af56bab36",
   "metadata": {},
   "outputs": [],
   "source": [
    "in_channels = len(train_dataset[0][0])\n",
    "out_channels = 1"
   ]
  },
  {
   "cell_type": "code",
   "execution_count": 8,
   "id": "809dc1e8-6d3b-4b21-932d-924853bbf00c",
   "metadata": {},
   "outputs": [],
   "source": [
    "# Default model is HumanLegNet\n",
    "seq_model = LitModel_Kircher(in_ch = in_channels, out_ch = out_channels, weight_decay = 1e-1, lr = 1e-2, print_each = 5)"
   ]
  },
  {
   "cell_type": "code",
   "execution_count": 8,
   "id": "a7812338-7e63-4341-9a01-732aa7d35592",
   "metadata": {},
   "outputs": [
    {
     "name": "stderr",
     "output_type": "stream",
     "text": [
      "Using 16bit Automatic Mixed Precision (AMP)\n",
      "GPU available: True (cuda), used: True\n",
      "TPU available: False, using: 0 TPU cores\n",
      "HPU available: False, using: 0 HPUs\n",
      "You are using a CUDA device ('NVIDIA GeForce RTX 3090') that has Tensor Cores. To properly utilize them, you should set `torch.set_float32_matmul_precision('medium' | 'high')` which will trade-off precision for performance. For more details, read https://pytorch.org/docs/stable/generated/torch.set_float32_matmul_precision.html#torch.set_float32_matmul_precision\n",
      "2025-04-05 17:10:53.819124: I tensorflow/core/util/port.cc:153] oneDNN custom operations are on. You may see slightly different numerical results due to floating-point round-off errors from different computation orders. To turn them off, set the environment variable `TF_ENABLE_ONEDNN_OPTS=0`.\n",
      "2025-04-05 17:10:53.834125: E external/local_xla/xla/stream_executor/cuda/cuda_fft.cc:477] Unable to register cuFFT factory: Attempting to register factory for plugin cuFFT when one has already been registered\n",
      "WARNING: All log messages before absl::InitializeLog() is called are written to STDERR\n",
      "E0000 00:00:1743862253.851797 1866523 cuda_dnn.cc:8310] Unable to register cuDNN factory: Attempting to register factory for plugin cuDNN when one has already been registered\n",
      "E0000 00:00:1743862253.857267 1866523 cuda_blas.cc:1418] Unable to register cuBLAS factory: Attempting to register factory for plugin cuBLAS when one has already been registered\n",
      "2025-04-05 17:10:53.876732: I tensorflow/core/platform/cpu_feature_guard.cc:210] This TensorFlow binary is optimized to use available CPU instructions in performance-critical operations.\n",
      "To enable the following instructions: AVX2 AVX512F AVX512_VNNI FMA, in other operations, rebuild TensorFlow with the appropriate compiler flags.\n",
      "LOCAL_RANK: 0 - CUDA_VISIBLE_DEVICES: [0,1]\n",
      "Loading `train_dataloader` to estimate number of stepping batches.\n",
      "\n",
      "  | Name          | Type            | Params | Mode \n",
      "----------------------------------------------------------\n",
      "0 | loss          | MSELoss         | 0      | train\n",
      "1 | train_pearson | PearsonCorrCoef | 0      | train\n",
      "2 | val_pearson   | PearsonCorrCoef | 0      | train\n",
      "3 | test_pearson  | PearsonCorrCoef | 0      | train\n",
      "4 | model         | HumanLegNet     | 1.3 M  | train\n",
      "----------------------------------------------------------\n",
      "1.3 M     Trainable params\n",
      "0         Non-trainable params\n",
      "1.3 M     Total params\n",
      "5.290     Total estimated model params size (MB)\n",
      "120       Modules in train mode\n",
      "0         Modules in eval mode\n"
     ]
    },
    {
     "name": "stdout",
     "output_type": "stream",
     "text": [
      "\n",
      "-----------------------------------------------------------------------------------------------------\n",
      "| Epoch: 4 | Val Loss: 0.35766 | Val Pearson: 0.65240 | Train Loss: 0.33538 | Train Pearson: 0.69676 \n",
      "-----------------------------------------------------------------------------------------------------\n",
      "\n"
     ]
    },
    {
     "name": "stderr",
     "output_type": "stream",
     "text": [
      "`Trainer.fit` stopped: `max_epochs=10` reached.\n"
     ]
    },
    {
     "name": "stdout",
     "output_type": "stream",
     "text": [
      "\n",
      "-----------------------------------------------------------------------------------------------------\n",
      "| Epoch: 9 | Val Loss: 0.26829 | Val Pearson: 0.74576 | Train Loss: 0.20822 | Train Pearson: 0.82842 \n",
      "-----------------------------------------------------------------------------------------------------\n",
      "\n"
     ]
    },
    {
     "name": "stderr",
     "output_type": "stream",
     "text": [
      "LOCAL_RANK: 0 - CUDA_VISIBLE_DEVICES: [0,1]\n"
     ]
    },
    {
     "data": {
      "text/html": [
       "<pre style=\"white-space:pre;overflow-x:auto;line-height:normal;font-family:Menlo,'DejaVu Sans Mono',consolas,'Courier New',monospace\">┏━━━━━━━━━━━━━━━━━━━━━━━━━━━┳━━━━━━━━━━━━━━━━━━━━━━━━━━━┓\n",
       "┃<span style=\"font-weight: bold\">        Test metric        </span>┃<span style=\"font-weight: bold\">       DataLoader 0        </span>┃\n",
       "┡━━━━━━━━━━━━━━━━━━━━━━━━━━━╇━━━━━━━━━━━━━━━━━━━━━━━━━━━┩\n",
       "│<span style=\"color: #008080; text-decoration-color: #008080\">         test_loss         </span>│<span style=\"color: #800080; text-decoration-color: #800080\">    0.2599364221096039     </span>│\n",
       "│<span style=\"color: #008080; text-decoration-color: #008080\">       test_pearson        </span>│<span style=\"color: #800080; text-decoration-color: #800080\">    0.7570507526397705     </span>│\n",
       "└───────────────────────────┴───────────────────────────┘\n",
       "</pre>\n"
      ],
      "text/plain": [
       "┏━━━━━━━━━━━━━━━━━━━━━━━━━━━┳━━━━━━━━━━━━━━━━━━━━━━━━━━━┓\n",
       "┃\u001b[1m \u001b[0m\u001b[1m       Test metric       \u001b[0m\u001b[1m \u001b[0m┃\u001b[1m \u001b[0m\u001b[1m      DataLoader 0       \u001b[0m\u001b[1m \u001b[0m┃\n",
       "┡━━━━━━━━━━━━━━━━━━━━━━━━━━━╇━━━━━━━━━━━━━━━━━━━━━━━━━━━┩\n",
       "│\u001b[36m \u001b[0m\u001b[36m        test_loss        \u001b[0m\u001b[36m \u001b[0m│\u001b[35m \u001b[0m\u001b[35m   0.2599364221096039    \u001b[0m\u001b[35m \u001b[0m│\n",
       "│\u001b[36m \u001b[0m\u001b[36m      test_pearson       \u001b[0m\u001b[36m \u001b[0m│\u001b[35m \u001b[0m\u001b[35m   0.7570507526397705    \u001b[0m\u001b[35m \u001b[0m│\n",
       "└───────────────────────────┴───────────────────────────┘\n"
      ]
     },
     "metadata": {},
     "output_type": "display_data"
    },
    {
     "data": {
      "text/plain": [
       "[{'test_loss': 0.2599364221096039, 'test_pearson': 0.7570507526397705}]"
      ]
     },
     "execution_count": 8,
     "metadata": {},
     "output_type": "execute_result"
    }
   ],
   "source": [
    "# Initialize a trainer\n",
    "trainer = L.Trainer(\n",
    "    accelerator=\"gpu\",\n",
    "    devices=[0],\n",
    "    max_epochs=10,\n",
    "    gradient_clip_val=1,\n",
    "    precision='16-mixed', \n",
    "    enable_progress_bar = False,\n",
    "    num_sanity_val_steps=0\n",
    ")\n",
    "\n",
    "# Train the model\n",
    "trainer.fit(seq_model,\n",
    "            train_dataloaders = train_loader,\n",
    "            val_dataloaders = val_loader)\n",
    "trainer.test(seq_model, dataloaders = test_loader)"
   ]
  },
  {
   "cell_type": "markdown",
   "id": "5a9a65f5-655f-4f8d-bfc4-969d577d448f",
   "metadata": {},
   "source": [
    "# Evaluation"
   ]
  },
  {
   "cell_type": "code",
   "execution_count": 9,
   "id": "59569319-2047-4b27-bef9-2c0498a07b7b",
   "metadata": {},
   "outputs": [],
   "source": [
    "def meaned_prediction(forw, rev, trainer, seq_model, is_kircher = False):\n",
    "\n",
    "    predictions_forw = trainer.predict(seq_model, dataloaders = forw)\n",
    "    targets = torch.cat([pred[\"target\"] for pred in predictions_forw])\n",
    "    y_preds_forw = torch.cat([pred[\"ref_predicted\"] for pred in predictions_forw])\n",
    "    \n",
    "    predictions_rev = trainer.predict(seq_model, dataloaders = rev)\n",
    "    y_preds_rev = torch.cat([pred[\"ref_predicted\"] for pred in predictions_rev])\n",
    "    \n",
    "    mean_forw = torch.mean(torch.stack([y_preds_forw, y_preds_rev]), dim=0)\n",
    "    \n",
    "    pears = PearsonCorrCoef()\n",
    "    if is_kircher:\n",
    "        y_preds_forw_alt = torch.cat([pred[\"alt_predicted\"] for pred in predictions_forw])\n",
    "        y_preds_rev_alt = torch.cat([pred[\"alt_predicted\"] for pred in predictions_rev])\n",
    "        mean_alt = torch.mean(torch.stack([y_preds_forw_alt, y_preds_rev_alt]), dim=0)\n",
    "        pred = mean_alt - mean_forw\n",
    "        return pears(pred, targets) \n",
    "        \n",
    "    return pears(mean_forw, targets)"
   ]
  },
  {
   "cell_type": "code",
   "execution_count": 10,
   "id": "a1da6a5f-52d5-4152-aac8-66ec1562fb2f",
   "metadata": {},
   "outputs": [
    {
     "name": "stderr",
     "output_type": "stream",
     "text": [
      "LOCAL_RANK: 0 - CUDA_VISIBLE_DEVICES: [0,1]\n",
      "LOCAL_RANK: 0 - CUDA_VISIBLE_DEVICES: [0,1]\n"
     ]
    },
    {
     "data": {
      "text/plain": [
       "tensor(0.7719)"
      ]
     },
     "execution_count": 10,
     "metadata": {},
     "output_type": "execute_result"
    }
   ],
   "source": [
    "forw_transform = t.Compose([\n",
    "    t.Seq2Tensor()\n",
    "])\n",
    "rev_transform = t.Compose([\n",
    "    t.Seq2Tensor(),\n",
    "    t.ReverseComplement(1)\n",
    "])\n",
    "test_forw = AgarwalDataset(cell_type = \"HepG2\", split=\"test\", transform=forw_transform)\n",
    "test_rev = AgarwalDataset(cell_type = \"HepG2\", split=\"test\", transform=rev_transform)\n",
    "\n",
    "forw_hepg2 = data.DataLoader(dataset = test_forw, batch_size = BATCH_SIZE, shuffle = False, num_workers = NUM_WORKERS, pin_memory = True)\n",
    "rev_hepg2 = data.DataLoader(dataset = test_rev, batch_size = BATCH_SIZE, shuffle = False, num_workers = NUM_WORKERS, pin_memory = True)\n",
    "\n",
    "meaned_prediction(forw_hepg2, rev_hepg2, trainer, seq_model)"
   ]
  },
  {
   "cell_type": "markdown",
   "id": "42b18b7f-1201-4eee-8994-e0b0ff9d6849",
   "metadata": {},
   "source": [
    "# Kircher dataset examination"
   ]
  },
  {
   "cell_type": "code",
   "execution_count": 12,
   "id": "0857d20b-e56e-4bcd-a4d3-4fd17a03853f",
   "metadata": {},
   "outputs": [],
   "source": [
    "promoters_for_hepg2 = [\"F9\",\"LDLR.2\",\"LDLR\",\"SORT1.2\",\"SORT1\",\"SORT1-flip\"]\n",
    "promoters_for_k562 = [\"PKLR-24h\",\"PKLR-48h\"]"
   ]
  },
  {
   "cell_type": "markdown",
   "id": "8dff4fc9-b624-4f9d-bade-d80106d4c2f6",
   "metadata": {},
   "source": [
    "small quality"
   ]
  },
  {
   "cell_type": "code",
   "execution_count": 20,
   "id": "cf53b6e0-7b3c-4dc6-a550-21748bea1b87",
   "metadata": {},
   "outputs": [
    {
     "name": "stderr",
     "output_type": "stream",
     "text": [
      "LOCAL_RANK: 0 - CUDA_VISIBLE_DEVICES: [0,1]\n",
      "LOCAL_RANK: 0 - CUDA_VISIBLE_DEVICES: [0,1]\n"
     ]
    },
    {
     "data": {
      "text/plain": [
       "tensor(0.5170)"
      ]
     },
     "execution_count": 20,
     "metadata": {},
     "output_type": "execute_result"
    }
   ],
   "source": [
    "kircher_dataset_forw = KircherDataset(length = 230, promoters =  [\"LDLR\"], transform = forw_transform)\n",
    "kircher_dataset_rev = KircherDataset(length = 230, promoters =  [\"LDLR\"], transform = rev_transform)  \n",
    "\n",
    "kircher_forw = data.DataLoader(dataset = kircher_dataset_forw, batch_size = BATCH_SIZE, shuffle = False, num_workers = NUM_WORKERS, pin_memory = True)\n",
    "kircher_rev = data.DataLoader(dataset = kircher_dataset_rev, batch_size = BATCH_SIZE, shuffle = False, num_workers = NUM_WORKERS, pin_memory = True)\n",
    "    \n",
    "meaned_prediction(kircher_forw, kircher_rev, trainer, seq_model, is_kircher = True)"
   ]
  },
  {
   "cell_type": "code",
   "execution_count": 25,
   "id": "b2261e89-b0ca-42e9-b07e-c457a94d5d8e",
   "metadata": {},
   "outputs": [
    {
     "name": "stderr",
     "output_type": "stream",
     "text": [
      "LOCAL_RANK: 0 - CUDA_VISIBLE_DEVICES: [0,1]\n",
      "LOCAL_RANK: 0 - CUDA_VISIBLE_DEVICES: [0,1]\n"
     ]
    },
    {
     "data": {
      "text/plain": [
       "tensor(0.7965)"
      ]
     },
     "execution_count": 25,
     "metadata": {},
     "output_type": "execute_result"
    }
   ],
   "source": [
    "kircher_model = LitModel_Kircher.load_from_checkpoint(\"../datasets/KircherDataset/best_model_test10_val9.ckpt\",\n",
    "                                                      weight_decay = 1e-1, lr = 1e-2)\n",
    "meaned_prediction(forw_hepg2, rev_hepg2, trainer, kircher_model)"
   ]
  },
  {
   "cell_type": "code",
   "execution_count": 26,
   "id": "d8219b8f-ac91-4bca-b9f6-f7bb943f8fe9",
   "metadata": {},
   "outputs": [
    {
     "name": "stderr",
     "output_type": "stream",
     "text": [
      "LOCAL_RANK: 0 - CUDA_VISIBLE_DEVICES: [0,1]\n",
      "LOCAL_RANK: 0 - CUDA_VISIBLE_DEVICES: [0,1]\n"
     ]
    },
    {
     "data": {
      "text/plain": [
       "tensor(0.5929)"
      ]
     },
     "execution_count": 26,
     "metadata": {},
     "output_type": "execute_result"
    }
   ],
   "source": [
    "meaned_prediction(kircher_forw, kircher_rev, trainer, kircher_model, is_kircher = True)"
   ]
  }
 ],
 "metadata": {
  "kernelspec": {
   "display_name": "Python [conda env:mpra]",
   "language": "python",
   "name": "conda-env-mpra-py"
  },
  "language_info": {
   "codemirror_mode": {
    "name": "ipython",
    "version": 3
   },
   "file_extension": ".py",
   "mimetype": "text/x-python",
   "name": "python",
   "nbconvert_exporter": "python",
   "pygments_lexer": "ipython3",
   "version": "3.12.7"
  }
 },
 "nbformat": 4,
 "nbformat_minor": 5
}
