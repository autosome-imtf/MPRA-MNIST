{
 "cells": [
  {
   "cell_type": "code",
   "execution_count": 1,
   "id": "166d0830-1192-48f2-a174-fcda1320735b",
   "metadata": {},
   "outputs": [],
   "source": [
    "import mpramnist\n",
    "from mpramnist.Agarwal.dataset import AgarwalDataset\n",
    "\n",
    "from mpramnist.models import HumanLegNet\n",
    "from mpramnist.models import initialize_weights\n",
    "from mpramnist.trainers import LitModel_Agarwal\n",
    "\n",
    "import mpramnist.transforms as t\n",
    "import mpramnist.target_transforms as t_t\n",
    "\n",
    "import pandas as pd\n",
    "import numpy as np\n",
    "import torch\n",
    "import torch.nn as nn\n",
    "import torch.optim as optim\n",
    "import torch.utils.data as data\n",
    "\n",
    "import pytorch_lightning as L"
   ]
  },
  {
   "cell_type": "code",
   "execution_count": 2,
   "id": "d2b33ea1-e20a-4beb-a3a6-b5b921b3c55a",
   "metadata": {},
   "outputs": [],
   "source": [
    "NUM_EPOCHS = 50\n",
    "BATCH_SIZE = 1024\n",
    "NUM_WORKERS = 8\n",
    "lr = 0.01"
   ]
  },
  {
   "cell_type": "markdown",
   "id": "63140816-7964-49f6-9d13-7889d0fae991",
   "metadata": {},
   "source": [
    "# HepG2"
   ]
  },
  {
   "cell_type": "code",
   "execution_count": 3,
   "id": "c9ac49dd-2f2d-4fee-819c-267587e31485",
   "metadata": {},
   "outputs": [],
   "source": [
    "constant_left_flank = AgarwalDataset.CONSTANT_LEFT_FLANK # required for each sequence\n",
    "constant_rigtht_flank = AgarwalDataset.CONSTANT_RIGHT_FLANK # required for each sequence\n",
    "left_flank = AgarwalDataset.LEFT_FLANK # original flanks from human_legnet\n",
    "right_flank = AgarwalDataset.RIGHT_FLANK"
   ]
  },
  {
   "cell_type": "markdown",
   "id": "8f2af647-9958-4706-9045-2ec0a0d06a0e",
   "metadata": {},
   "source": [
    "## First, we read the MPRAdata, preprocess them and encapsulate them into dataloader form."
   ]
  },
  {
   "cell_type": "code",
   "execution_count": 4,
   "id": "cb1cb79b-7571-4f0a-955e-be8fb350cffc",
   "metadata": {},
   "outputs": [],
   "source": [
    "# preprocessing\n",
    "train_transform = t.Compose([\n",
    "    t.AddFlanks(constant_left_flank, constant_rigtht_flank),\n",
    "    t.AddFlanks(\"\", right_flank), # this is original parameters for human_legnet\n",
    "    t.RightCrop(230,250), # this is using for shifting\n",
    "    t.CenterCrop(230),\n",
    "    t.Seq2Tensor(),\n",
    "    t.ReverseComplement(0.5),\n",
    "\n",
    "])\n",
    "test_transform = t.Compose([ \n",
    "    t.AddFlanks(constant_left_flank, constant_rigtht_flank),\n",
    "    t.Seq2Tensor(), \n",
    "    t.ReverseComplement(0), \n",
    "\n",
    "])\n",
    "\n",
    "# load the data\n",
    "train_dataset = AgarwalDataset(cell_type = \"HepG2\", \n",
    "                              split=\"train\", # could use a list e.g. [1,2,5,6,7,8] for needed folds\n",
    "                              transform=train_transform,\n",
    "                              root = \"../data/\") \n",
    "\n",
    "val_dataset = AgarwalDataset(cell_type = \"HepG2\", \n",
    "                            split=\"val\", # use \"val\" for default validation set or use list\n",
    "                            transform=test_transform,\n",
    "                            root = \"../data/\") \n",
    "\n",
    "test_dataset = AgarwalDataset(cell_type = \"HepG2\", \n",
    "                             split=\"test\", # use \"test\" for default test set or use list\n",
    "                             transform=test_transform,\n",
    "                             root = \"../data/\") "
   ]
  },
  {
   "cell_type": "code",
   "execution_count": 5,
   "id": "afd0abb7-9442-474a-a231-20da01eee01e",
   "metadata": {},
   "outputs": [
    {
     "name": "stdout",
     "output_type": "stream",
     "text": [
      "Dataset AgarwalDataset of size 98336 (MpraDaraset)\n",
      "    Number of datapoints: 98336\n",
      "    Used split fold: [1, 2, 3, 4, 5, 6, 7, 8]\n",
      "------------\n",
      "Dataset AgarwalDataset of size 12298 (MpraDaraset)\n",
      "    Number of datapoints: 12298\n",
      "    Used split fold: [10]\n"
     ]
    }
   ],
   "source": [
    "print(train_dataset)\n",
    "print(\"------------\")\n",
    "print(test_dataset)"
   ]
  },
  {
   "cell_type": "code",
   "execution_count": 6,
   "id": "ede1e9f2-2e3d-4c36-ba30-b0424ad15947",
   "metadata": {},
   "outputs": [],
   "source": [
    "# encapsulate data into dataloader form\n",
    "train_loader = data.DataLoader(dataset=train_dataset, batch_size=BATCH_SIZE, shuffle=True, num_workers = NUM_WORKERS)\n",
    "\n",
    "val_loader = data.DataLoader(dataset=val_dataset, batch_size=BATCH_SIZE, shuffle=False, num_workers = NUM_WORKERS)\n",
    "\n",
    "test_loader = data.DataLoader(dataset=test_dataset, batch_size=BATCH_SIZE, shuffle=False, num_workers = NUM_WORKERS)"
   ]
  },
  {
   "cell_type": "code",
   "execution_count": 7,
   "id": "b63fa34a-52f3-42c8-bf57-86d3516e6857",
   "metadata": {},
   "outputs": [],
   "source": [
    "in_channels = len(train_dataset[0][0])\n",
    "out_channels = 1"
   ]
  },
  {
   "cell_type": "code",
   "execution_count": 8,
   "id": "39af5bd0-41e3-4f16-bb08-0c79b79e043b",
   "metadata": {},
   "outputs": [],
   "source": [
    "model = HumanLegNet(in_ch=in_channels,\n",
    "                     output_dim = out_channels,\n",
    "                     stem_ch=64,\n",
    "                     stem_ks=11,\n",
    "                     ef_ks=9,\n",
    "                     ef_block_sizes=[80, 96, 112, 128],\n",
    "                     pool_sizes=[2,2,2,2],\n",
    "                     resize_factor=4)\n",
    "model.apply(initialize_weights)\n",
    "\n",
    "seq_model_HepG2 = LitModel_Agarwal(model = model,\n",
    "                           loss = nn.MSELoss(),\n",
    "                           weight_decay = 1e-1, lr = 1e-2, print_each = 10)"
   ]
  },
  {
   "cell_type": "markdown",
   "id": "56f723ca-fc84-40c5-b5c9-12822b6b47e0",
   "metadata": {},
   "source": [
    "## Train LegNet model on HepG2 cell type for 50 epochs"
   ]
  },
  {
   "cell_type": "code",
   "execution_count": 9,
   "id": "6cd14f1e-6afa-4cdb-afa4-fedfea4dbc5d",
   "metadata": {},
   "outputs": [
    {
     "name": "stderr",
     "output_type": "stream",
     "text": [
      "Using 16bit Automatic Mixed Precision (AMP)\n",
      "You are using the plain ModelCheckpoint callback. Consider using LitModelCheckpoint which with seamless uploading to Model registry.\n",
      "GPU available: True (cuda), used: True\n",
      "TPU available: False, using: 0 TPU cores\n",
      "HPU available: False, using: 0 HPUs\n"
     ]
    }
   ],
   "source": [
    "# Initialize a trainer\n",
    "trainer = L.Trainer(\n",
    "    accelerator=\"gpu\",\n",
    "    devices=[0],\n",
    "    max_epochs=50,\n",
    "    gradient_clip_val=1,\n",
    "    precision='16-mixed', \n",
    "    enable_progress_bar = False,\n",
    "    num_sanity_val_steps=0\n",
    ")"
   ]
  },
  {
   "cell_type": "code",
   "execution_count": 10,
   "id": "a7812338-7e63-4341-9a01-732aa7d35592",
   "metadata": {},
   "outputs": [
    {
     "name": "stderr",
     "output_type": "stream",
     "text": [
      "You are using a CUDA device ('NVIDIA GeForce RTX 3090') that has Tensor Cores. To properly utilize them, you should set `torch.set_float32_matmul_precision('medium' | 'high')` which will trade-off precision for performance. For more details, read https://pytorch.org/docs/stable/generated/torch.set_float32_matmul_precision.html#torch.set_float32_matmul_precision\n",
      "LOCAL_RANK: 0 - CUDA_VISIBLE_DEVICES: [0,1]\n",
      "Loading `train_dataloader` to estimate number of stepping batches.\n",
      "\n",
      "  | Name          | Type            | Params | Mode \n",
      "----------------------------------------------------------\n",
      "0 | model         | HumanLegNet     | 1.3 M  | train\n",
      "1 | loss          | MSELoss         | 0      | train\n",
      "2 | train_pearson | PearsonCorrCoef | 0      | train\n",
      "3 | val_pearson   | PearsonCorrCoef | 0      | train\n",
      "4 | test_pearson  | PearsonCorrCoef | 0      | train\n",
      "----------------------------------------------------------\n",
      "1.3 M     Trainable params\n",
      "0         Non-trainable params\n",
      "1.3 M     Total params\n",
      "5.290     Total estimated model params size (MB)\n",
      "120       Modules in train mode\n",
      "0         Modules in eval mode\n"
     ]
    },
    {
     "name": "stdout",
     "output_type": "stream",
     "text": [
      "\n",
      "-------------------------------------------------------------------------------\n",
      "| Epoch: 9 | Val Loss: 0.36528 | Val Pearson: 0.67847 | Train Pearson: 0.72798 \n",
      "-------------------------------------------------------------------------------\n",
      "\n",
      "\n",
      "--------------------------------------------------------------------------------\n",
      "| Epoch: 19 | Val Loss: 0.31451 | Val Pearson: 0.69521 | Train Pearson: 0.78115 \n",
      "--------------------------------------------------------------------------------\n",
      "\n",
      "\n",
      "--------------------------------------------------------------------------------\n",
      "| Epoch: 29 | Val Loss: 0.33094 | Val Pearson: 0.71588 | Train Pearson: 0.84101 \n",
      "--------------------------------------------------------------------------------\n",
      "\n",
      "\n",
      "--------------------------------------------------------------------------------\n",
      "| Epoch: 39 | Val Loss: 0.25184 | Val Pearson: 0.76680 | Train Pearson: 0.89410 \n",
      "--------------------------------------------------------------------------------\n",
      "\n"
     ]
    },
    {
     "name": "stderr",
     "output_type": "stream",
     "text": [
      "`Trainer.fit` stopped: `max_epochs=50` reached.\n"
     ]
    },
    {
     "name": "stdout",
     "output_type": "stream",
     "text": [
      "\n",
      "--------------------------------------------------------------------------------\n",
      "| Epoch: 49 | Val Loss: 0.24526 | Val Pearson: 0.77403 | Train Pearson: 0.93257 \n",
      "--------------------------------------------------------------------------------\n",
      "\n"
     ]
    },
    {
     "name": "stderr",
     "output_type": "stream",
     "text": [
      "LOCAL_RANK: 0 - CUDA_VISIBLE_DEVICES: [0,1]\n"
     ]
    },
    {
     "name": "stdout",
     "output_type": "stream",
     "text": [
      "────────────────────────────────────────────────────────────────────────────────────────────────────────────────────────\n",
      "       Test metric             DataLoader 0\n",
      "────────────────────────────────────────────────────────────────────────────────────────────────────────────────────────\n",
      "        test_loss           0.2384251356124878\n",
      "      test_pearson           0.783002495765686\n",
      "────────────────────────────────────────────────────────────────────────────────────────────────────────────────────────\n"
     ]
    },
    {
     "data": {
      "text/plain": [
       "[{'test_loss': 0.2384251356124878, 'test_pearson': 0.783002495765686}]"
      ]
     },
     "execution_count": 10,
     "metadata": {},
     "output_type": "execute_result"
    }
   ],
   "source": [
    "# Train the model\n",
    "trainer.fit(seq_model_HepG2,\n",
    "            train_dataloaders = train_loader,\n",
    "            val_dataloaders = val_loader)\n",
    "trainer.test(seq_model_HepG2, dataloaders = test_loader)"
   ]
  },
  {
   "cell_type": "markdown",
   "id": "abbb117d-4f63-4a9b-93a7-e6a956ed8da5",
   "metadata": {},
   "source": [
    "## Mean evaluation"
   ]
  },
  {
   "cell_type": "code",
   "execution_count": 11,
   "id": "c3391d25-43f2-4361-b559-9d7d9c845a26",
   "metadata": {},
   "outputs": [],
   "source": [
    "from torchmetrics import PearsonCorrCoef\n",
    "\n",
    "forw_transform = t.Compose([\n",
    "    t.AddFlanks(constant_left_flank, constant_rigtht_flank),\n",
    "    t.Seq2Tensor()\n",
    "])\n",
    "rev_transform = t.Compose([\n",
    "    t.AddFlanks(constant_left_flank, constant_rigtht_flank),\n",
    "    t.Seq2Tensor(),\n",
    "    t.ReverseComplement(1)\n",
    "])\n",
    "\n",
    "def meaned_prediction(forw, rev, trainer, seq_model, name):\n",
    "\n",
    "    predictions_forw = trainer.predict(seq_model, dataloaders = forw)\n",
    "    targets = torch.cat([pred[\"target\"] for pred in predictions_forw])\n",
    "    y_preds_forw = torch.cat([pred[\"predicted\"] for pred in predictions_forw])\n",
    "    \n",
    "    predictions_rev = trainer.predict(seq_model, dataloaders = rev)\n",
    "    y_preds_rev = torch.cat([pred[\"predicted\"] for pred in predictions_rev])\n",
    "    \n",
    "    mean_forw = torch.mean(torch.stack([y_preds_forw, y_preds_rev]), dim=0)\n",
    "    \n",
    "    pears = PearsonCorrCoef()\n",
    "    print(name + \" Pearson correlation\")\n",
    "    \n",
    "    return pears(mean_forw, targets)"
   ]
  },
  {
   "cell_type": "code",
   "execution_count": 12,
   "id": "c92224bc-ef3f-4dbb-a34f-1e2403e355d3",
   "metadata": {},
   "outputs": [
    {
     "name": "stderr",
     "output_type": "stream",
     "text": [
      "LOCAL_RANK: 0 - CUDA_VISIBLE_DEVICES: [0,1]\n",
      "LOCAL_RANK: 0 - CUDA_VISIBLE_DEVICES: [0,1]\n"
     ]
    },
    {
     "name": "stdout",
     "output_type": "stream",
     "text": [
      "HepG2 Pearson correlation\n"
     ]
    },
    {
     "data": {
      "text/plain": [
       "tensor(0.8039)"
      ]
     },
     "execution_count": 12,
     "metadata": {},
     "output_type": "execute_result"
    }
   ],
   "source": [
    "test_forw = AgarwalDataset(cell_type = \"HepG2\", split=\"test\", transform=forw_transform, root = \"../data/\")\n",
    "test_rev = AgarwalDataset(cell_type = \"HepG2\", split=\"test\", transform=rev_transform, root = \"../data/\")\n",
    "\n",
    "forw_hepg2 = data.DataLoader(dataset = test_forw, batch_size = BATCH_SIZE, shuffle = False, num_workers = NUM_WORKERS, pin_memory = True)\n",
    "rev_hepg2 = data.DataLoader(dataset = test_rev, batch_size = BATCH_SIZE, shuffle = False, num_workers = NUM_WORKERS, pin_memory = True)\n",
    "\n",
    "meaned_prediction(forw_hepg2, rev_hepg2, trainer, seq_model_HepG2, \"HepG2\")"
   ]
  },
  {
   "cell_type": "markdown",
   "id": "63ccd5ec-f5b2-4c2d-a632-cc5de66e69d4",
   "metadata": {},
   "source": [
    "# K562"
   ]
  },
  {
   "cell_type": "code",
   "execution_count": 13,
   "id": "746abef6-8fd2-41c7-9074-5316f5137512",
   "metadata": {},
   "outputs": [],
   "source": [
    "# load the data\n",
    "train_dataset = AgarwalDataset(cell_type = \"K562\", split=\"train\", transform=train_transform,\n",
    "                              root = \"../data/\") # could use a list e.g. [1,2,5,6,7,8] \n",
    "                                                                                            # for needed folds\n",
    "val_dataset = AgarwalDataset(cell_type = \"K562\", split=\"val\", transform=test_transform,\n",
    "                            root = \"../data/\") # use \"val\" for default validation set or use list\n",
    "\n",
    "test_dataset = AgarwalDataset(cell_type = \"K562\", split=\"test\", transform=test_transform,\n",
    "                             root = \"../data/\") # use \"test\" for default test set or use list"
   ]
  },
  {
   "cell_type": "code",
   "execution_count": 14,
   "id": "0e5079c4-e917-43da-ad15-bba088bcecbc",
   "metadata": {},
   "outputs": [],
   "source": [
    "# encapsulate data into dataloader form\n",
    "train_loader = data.DataLoader(dataset=train_dataset, batch_size=BATCH_SIZE, shuffle=True, num_workers = NUM_WORKERS)\n",
    "\n",
    "val_loader = data.DataLoader(dataset=val_dataset, batch_size=BATCH_SIZE, shuffle=False, num_workers = NUM_WORKERS)\n",
    "\n",
    "test_loader = data.DataLoader(dataset=test_dataset, batch_size=BATCH_SIZE, shuffle=False, num_workers = NUM_WORKERS)"
   ]
  },
  {
   "cell_type": "code",
   "execution_count": 15,
   "id": "9ab220ee-2f13-429d-a467-7c03afa3341d",
   "metadata": {},
   "outputs": [],
   "source": [
    "model = HumanLegNet(in_ch=in_channels,\n",
    "                     output_dim = out_channels,\n",
    "                     stem_ch=64,\n",
    "                     stem_ks=11,\n",
    "                     ef_ks=9,\n",
    "                     ef_block_sizes=[80, 96, 112, 128],\n",
    "                     pool_sizes=[2,2,2,2],\n",
    "                     resize_factor=4)\n",
    "model.apply(initialize_weights)\n",
    "\n",
    "seq_model_K562 = LitModel_Agarwal(model = model,\n",
    "                           loss = nn.MSELoss(),\n",
    "                           weight_decay = 1e-1, lr = 1e-2, print_each = 10)"
   ]
  },
  {
   "cell_type": "code",
   "execution_count": 16,
   "id": "52f9c396-4d30-4fb7-8894-fa18ba4d43bb",
   "metadata": {},
   "outputs": [
    {
     "name": "stderr",
     "output_type": "stream",
     "text": [
      "Using 16bit Automatic Mixed Precision (AMP)\n",
      "You are using the plain ModelCheckpoint callback. Consider using LitModelCheckpoint which with seamless uploading to Model registry.\n",
      "GPU available: True (cuda), used: True\n",
      "TPU available: False, using: 0 TPU cores\n",
      "HPU available: False, using: 0 HPUs\n"
     ]
    }
   ],
   "source": [
    "# Initialize a trainer\n",
    "trainer = L.Trainer(\n",
    "    accelerator=\"gpu\",\n",
    "    devices=[0],\n",
    "    max_epochs=50,\n",
    "    gradient_clip_val=1,\n",
    "    precision='16-mixed', \n",
    "    enable_progress_bar = False,\n",
    "    num_sanity_val_steps=0\n",
    ")"
   ]
  },
  {
   "cell_type": "code",
   "execution_count": 17,
   "id": "56f0623b-a595-457c-a7ac-db970f30933f",
   "metadata": {},
   "outputs": [
    {
     "name": "stderr",
     "output_type": "stream",
     "text": [
      "LOCAL_RANK: 0 - CUDA_VISIBLE_DEVICES: [0,1]\n",
      "Loading `train_dataloader` to estimate number of stepping batches.\n",
      "\n",
      "  | Name          | Type            | Params | Mode \n",
      "----------------------------------------------------------\n",
      "0 | model         | HumanLegNet     | 1.3 M  | train\n",
      "1 | loss          | MSELoss         | 0      | train\n",
      "2 | train_pearson | PearsonCorrCoef | 0      | train\n",
      "3 | val_pearson   | PearsonCorrCoef | 0      | train\n",
      "4 | test_pearson  | PearsonCorrCoef | 0      | train\n",
      "----------------------------------------------------------\n",
      "1.3 M     Trainable params\n",
      "0         Non-trainable params\n",
      "1.3 M     Total params\n",
      "5.290     Total estimated model params size (MB)\n",
      "120       Modules in train mode\n",
      "0         Modules in eval mode\n"
     ]
    },
    {
     "name": "stdout",
     "output_type": "stream",
     "text": [
      "\n",
      "-------------------------------------------------------------------------------\n",
      "| Epoch: 9 | Val Loss: 0.12408 | Val Pearson: 0.75037 | Train Pearson: 0.76056 \n",
      "-------------------------------------------------------------------------------\n",
      "\n",
      "\n",
      "--------------------------------------------------------------------------------\n",
      "| Epoch: 19 | Val Loss: 0.11672 | Val Pearson: 0.76982 | Train Pearson: 0.79418 \n",
      "--------------------------------------------------------------------------------\n",
      "\n",
      "\n",
      "--------------------------------------------------------------------------------\n",
      "| Epoch: 29 | Val Loss: 0.12490 | Val Pearson: 0.77975 | Train Pearson: 0.82812 \n",
      "--------------------------------------------------------------------------------\n",
      "\n",
      "\n",
      "--------------------------------------------------------------------------------\n",
      "| Epoch: 39 | Val Loss: 0.09681 | Val Pearson: 0.81341 | Train Pearson: 0.87800 \n",
      "--------------------------------------------------------------------------------\n",
      "\n"
     ]
    },
    {
     "name": "stderr",
     "output_type": "stream",
     "text": [
      "`Trainer.fit` stopped: `max_epochs=50` reached.\n"
     ]
    },
    {
     "name": "stdout",
     "output_type": "stream",
     "text": [
      "\n",
      "--------------------------------------------------------------------------------\n",
      "| Epoch: 49 | Val Loss: 0.09479 | Val Pearson: 0.81651 | Train Pearson: 0.91554 \n",
      "--------------------------------------------------------------------------------\n",
      "\n"
     ]
    },
    {
     "name": "stderr",
     "output_type": "stream",
     "text": [
      "LOCAL_RANK: 0 - CUDA_VISIBLE_DEVICES: [0,1]\n"
     ]
    },
    {
     "name": "stdout",
     "output_type": "stream",
     "text": [
      "────────────────────────────────────────────────────────────────────────────────────────────────────────────────────────\n",
      "       Test metric             DataLoader 0\n",
      "────────────────────────────────────────────────────────────────────────────────────────────────────────────────────────\n",
      "        test_loss           0.0938987210392952\n",
      "      test_pearson          0.8150753378868103\n",
      "────────────────────────────────────────────────────────────────────────────────────────────────────────────────────────\n"
     ]
    },
    {
     "data": {
      "text/plain": [
       "[{'test_loss': 0.0938987210392952, 'test_pearson': 0.8150753378868103}]"
      ]
     },
     "execution_count": 17,
     "metadata": {},
     "output_type": "execute_result"
    }
   ],
   "source": [
    "# Train the model\n",
    "trainer.fit(seq_model_K562,\n",
    "            train_dataloaders = train_loader,\n",
    "            val_dataloaders = val_loader)\n",
    "trainer.test(seq_model_K562, dataloaders = test_loader)"
   ]
  },
  {
   "cell_type": "markdown",
   "id": "0860b284-6f13-48cb-8d06-88dcc2e42f70",
   "metadata": {},
   "source": [
    "## Mean evaluation"
   ]
  },
  {
   "cell_type": "code",
   "execution_count": 18,
   "id": "9c5b422e-f251-4962-adf8-362056843de7",
   "metadata": {},
   "outputs": [
    {
     "name": "stderr",
     "output_type": "stream",
     "text": [
      "LOCAL_RANK: 0 - CUDA_VISIBLE_DEVICES: [0,1]\n",
      "LOCAL_RANK: 0 - CUDA_VISIBLE_DEVICES: [0,1]\n"
     ]
    },
    {
     "name": "stdout",
     "output_type": "stream",
     "text": [
      "K562 Pearson correlation\n"
     ]
    },
    {
     "data": {
      "text/plain": [
       "tensor(0.8294)"
      ]
     },
     "execution_count": 18,
     "metadata": {},
     "output_type": "execute_result"
    }
   ],
   "source": [
    "test_forw = AgarwalDataset(cell_type = \"K562\", split=\"test\", transform=forw_transform, root = \"../data/\")\n",
    "test_rev = AgarwalDataset(cell_type = \"K562\", split=\"test\", transform=rev_transform, root = \"../data/\")\n",
    "\n",
    "forw_k562 = data.DataLoader(dataset = test_forw, batch_size = BATCH_SIZE, shuffle = False, num_workers = NUM_WORKERS, pin_memory = True)\n",
    "rev_k562 = data.DataLoader(dataset = test_rev, batch_size = BATCH_SIZE, shuffle = False, num_workers = NUM_WORKERS, pin_memory = True)\n",
    "\n",
    "meaned_prediction(forw_k562, rev_k562, trainer, seq_model_K562, \"K562\")"
   ]
  },
  {
   "cell_type": "markdown",
   "id": "1ee89970-413f-452e-9ff6-06892ad218da",
   "metadata": {},
   "source": [
    "# WTC11"
   ]
  },
  {
   "cell_type": "code",
   "execution_count": 19,
   "id": "c9e06b9a-b29a-4458-9fc6-1c613f5d61bf",
   "metadata": {},
   "outputs": [],
   "source": [
    "# load the data\n",
    "train_dataset = AgarwalDataset(cell_type = \"WTC11\", split=\"train\", transform=train_transform,\n",
    "                              root = \"../data/\") # could use a list e.g. [1,2,5,6,7,8] \n",
    "                                                                                            # for needed folds\n",
    "val_dataset = AgarwalDataset(cell_type = \"WTC11\", split=\"val\", transform=test_transform,\n",
    "                            root = \"../data/\") # use \"val\" for default validation set or use list\n",
    "\n",
    "test_dataset = AgarwalDataset(cell_type = \"WTC11\", split=\"test\", transform=test_transform,\n",
    "                             root = \"../data/\") # use \"test\" for default test set or use list"
   ]
  },
  {
   "cell_type": "code",
   "execution_count": 20,
   "id": "6365af63-48d5-4e4c-a230-333624a4fa39",
   "metadata": {},
   "outputs": [],
   "source": [
    "# encapsulate data into dataloader form\n",
    "train_loader = data.DataLoader(dataset=train_dataset, batch_size=BATCH_SIZE, shuffle=True, num_workers = NUM_WORKERS)\n",
    "\n",
    "val_loader = data.DataLoader(dataset=val_dataset, batch_size=BATCH_SIZE, shuffle=False, num_workers = NUM_WORKERS)\n",
    "\n",
    "test_loader = data.DataLoader(dataset=test_dataset, batch_size=BATCH_SIZE, shuffle=False, num_workers = NUM_WORKERS)"
   ]
  },
  {
   "cell_type": "code",
   "execution_count": 21,
   "id": "34971503-e127-4736-b731-1243d173c05d",
   "metadata": {},
   "outputs": [],
   "source": [
    "model = HumanLegNet(in_ch=in_channels,\n",
    "                     output_dim = out_channels,\n",
    "                     stem_ch=64,\n",
    "                     stem_ks=11,\n",
    "                     ef_ks=9,\n",
    "                     ef_block_sizes=[80, 96, 112, 128],\n",
    "                     pool_sizes=[2,2,2,2],\n",
    "                     resize_factor=4)\n",
    "model.apply(initialize_weights)\n",
    "\n",
    "seq_model_WTC11 = LitModel_Agarwal(model = model,\n",
    "                           loss = nn.MSELoss(),\n",
    "                           weight_decay = 1e-1, lr = 1e-2, print_each = 10)"
   ]
  },
  {
   "cell_type": "code",
   "execution_count": 22,
   "id": "c3247b3b-abb6-4637-9cf2-02438a3868db",
   "metadata": {},
   "outputs": [
    {
     "name": "stderr",
     "output_type": "stream",
     "text": [
      "Using 16bit Automatic Mixed Precision (AMP)\n",
      "You are using the plain ModelCheckpoint callback. Consider using LitModelCheckpoint which with seamless uploading to Model registry.\n",
      "GPU available: True (cuda), used: True\n",
      "TPU available: False, using: 0 TPU cores\n",
      "HPU available: False, using: 0 HPUs\n"
     ]
    }
   ],
   "source": [
    "# Initialize a trainer\n",
    "trainer = L.Trainer(\n",
    "    accelerator=\"gpu\",\n",
    "    devices=[0],\n",
    "    max_epochs=50,\n",
    "    gradient_clip_val=1,\n",
    "    precision='16-mixed', \n",
    "    enable_progress_bar = False,\n",
    "    num_sanity_val_steps=0\n",
    ")"
   ]
  },
  {
   "cell_type": "code",
   "execution_count": 23,
   "id": "caf58e46-dd4a-4db6-82ea-dcddfbd60a04",
   "metadata": {},
   "outputs": [
    {
     "name": "stderr",
     "output_type": "stream",
     "text": [
      "LOCAL_RANK: 0 - CUDA_VISIBLE_DEVICES: [0,1]\n",
      "Loading `train_dataloader` to estimate number of stepping batches.\n",
      "/home/nios/miniconda3/envs/mpramnist/lib/python3.12/site-packages/pytorch_lightning/loops/fit_loop.py:310: The number of training batches (37) is smaller than the logging interval Trainer(log_every_n_steps=50). Set a lower value for log_every_n_steps if you want to see logs for the training epoch.\n",
      "\n",
      "  | Name          | Type            | Params | Mode \n",
      "----------------------------------------------------------\n",
      "0 | model         | HumanLegNet     | 1.3 M  | train\n",
      "1 | loss          | MSELoss         | 0      | train\n",
      "2 | train_pearson | PearsonCorrCoef | 0      | train\n",
      "3 | val_pearson   | PearsonCorrCoef | 0      | train\n",
      "4 | test_pearson  | PearsonCorrCoef | 0      | train\n",
      "----------------------------------------------------------\n",
      "1.3 M     Trainable params\n",
      "0         Non-trainable params\n",
      "1.3 M     Total params\n",
      "5.290     Total estimated model params size (MB)\n",
      "120       Modules in train mode\n",
      "0         Modules in eval mode\n"
     ]
    },
    {
     "name": "stdout",
     "output_type": "stream",
     "text": [
      "\n",
      "-------------------------------------------------------------------------------\n",
      "| Epoch: 9 | Val Loss: 1.21388 | Val Pearson: 0.60671 | Train Pearson: 0.71072 \n",
      "-------------------------------------------------------------------------------\n",
      "\n",
      "\n",
      "--------------------------------------------------------------------------------\n",
      "| Epoch: 19 | Val Loss: 0.84714 | Val Pearson: 0.63644 | Train Pearson: 0.78602 \n",
      "--------------------------------------------------------------------------------\n",
      "\n",
      "\n",
      "--------------------------------------------------------------------------------\n",
      "| Epoch: 29 | Val Loss: 0.70407 | Val Pearson: 0.67494 | Train Pearson: 0.84055 \n",
      "--------------------------------------------------------------------------------\n",
      "\n",
      "\n",
      "--------------------------------------------------------------------------------\n",
      "| Epoch: 39 | Val Loss: 0.65775 | Val Pearson: 0.69793 | Train Pearson: 0.89084 \n",
      "--------------------------------------------------------------------------------\n",
      "\n"
     ]
    },
    {
     "name": "stderr",
     "output_type": "stream",
     "text": [
      "`Trainer.fit` stopped: `max_epochs=50` reached.\n"
     ]
    },
    {
     "name": "stdout",
     "output_type": "stream",
     "text": [
      "\n",
      "--------------------------------------------------------------------------------\n",
      "| Epoch: 49 | Val Loss: 0.64369 | Val Pearson: 0.70745 | Train Pearson: 0.92010 \n",
      "--------------------------------------------------------------------------------\n",
      "\n"
     ]
    },
    {
     "name": "stderr",
     "output_type": "stream",
     "text": [
      "LOCAL_RANK: 0 - CUDA_VISIBLE_DEVICES: [0,1]\n"
     ]
    },
    {
     "name": "stdout",
     "output_type": "stream",
     "text": [
      "────────────────────────────────────────────────────────────────────────────────────────────────────────────────────────\n",
      "       Test metric             DataLoader 0\n",
      "────────────────────────────────────────────────────────────────────────────────────────────────────────────────────────\n",
      "        test_loss           0.6499876976013184\n",
      "      test_pearson          0.6997539401054382\n",
      "────────────────────────────────────────────────────────────────────────────────────────────────────────────────────────\n"
     ]
    },
    {
     "data": {
      "text/plain": [
       "[{'test_loss': 0.6499876976013184, 'test_pearson': 0.6997539401054382}]"
      ]
     },
     "execution_count": 23,
     "metadata": {},
     "output_type": "execute_result"
    }
   ],
   "source": [
    "# Train the model\n",
    "trainer.fit(seq_model_WTC11,\n",
    "            train_dataloaders = train_loader,\n",
    "            val_dataloaders = val_loader)\n",
    "trainer.test(seq_model_WTC11, dataloaders = test_loader)"
   ]
  },
  {
   "cell_type": "markdown",
   "id": "39369ec3-6edc-4173-9e10-c8f23933f925",
   "metadata": {},
   "source": [
    "## Mean evaluation"
   ]
  },
  {
   "cell_type": "code",
   "execution_count": 24,
   "id": "8b6fc2bd-c7d8-4e1f-a3eb-8b182d97ce98",
   "metadata": {},
   "outputs": [
    {
     "name": "stderr",
     "output_type": "stream",
     "text": [
      "LOCAL_RANK: 0 - CUDA_VISIBLE_DEVICES: [0,1]\n",
      "LOCAL_RANK: 0 - CUDA_VISIBLE_DEVICES: [0,1]\n"
     ]
    },
    {
     "name": "stdout",
     "output_type": "stream",
     "text": [
      "WTC11 Pearson correlation\n"
     ]
    },
    {
     "data": {
      "text/plain": [
       "tensor(0.7267)"
      ]
     },
     "execution_count": 24,
     "metadata": {},
     "output_type": "execute_result"
    }
   ],
   "source": [
    "test_forw = AgarwalDataset(cell_type = \"WTC11\", split=\"test\", transform=forw_transform, root = \"../data/\")\n",
    "test_rev = AgarwalDataset(cell_type = \"WTC11\", split=\"test\", transform=rev_transform, root = \"../data/\")\n",
    "\n",
    "forw_wtc11 = data.DataLoader(dataset = test_forw, batch_size = BATCH_SIZE, shuffle = False, num_workers = NUM_WORKERS, pin_memory = True)\n",
    "rev_wtc11 = data.DataLoader(dataset = test_rev, batch_size = BATCH_SIZE, shuffle = False, num_workers = NUM_WORKERS, pin_memory = True)\n",
    "\n",
    "meaned_prediction(forw_wtc11, rev_wtc11, trainer, seq_model_WTC11, \"WTC11\")"
   ]
  }
 ],
 "metadata": {
  "kernelspec": {
   "display_name": "Python [conda env:mpramnist]",
   "language": "python",
   "name": "conda-env-mpramnist-py"
  },
  "language_info": {
   "codemirror_mode": {
    "name": "ipython",
    "version": 3
   },
   "file_extension": ".py",
   "mimetype": "text/x-python",
   "name": "python",
   "nbconvert_exporter": "python",
   "pygments_lexer": "ipython3",
   "version": "3.12.7"
  }
 },
 "nbformat": 4,
 "nbformat_minor": 5
}
