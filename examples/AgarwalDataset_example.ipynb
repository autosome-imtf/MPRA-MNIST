{
 "cells": [
  {
   "cell_type": "code",
   "execution_count": 1,
   "id": "166d0830-1192-48f2-a174-fcda1320735b",
   "metadata": {},
   "outputs": [],
   "source": [
    "import mpramnist\n",
    "from mpramnist.Agarwal.dataset import AgarwalDataset\n",
    "\n",
    "from mpramnist.models import HumanLegNet\n",
    "from mpramnist.models import initialize_weights\n",
    "from mpramnist.trainers import LitModel_Agarwal\n",
    "\n",
    "import mpramnist.transforms as t\n",
    "import mpramnist.target_transforms as t_t\n",
    "\n",
    "import pandas as pd\n",
    "import numpy as np\n",
    "import torch\n",
    "import torch.nn as nn\n",
    "import torch.optim as optim\n",
    "import torch.utils.data as data\n",
    "\n",
    "import pytorch_lightning as L"
   ]
  },
  {
   "cell_type": "code",
   "execution_count": 2,
   "id": "d2b33ea1-e20a-4beb-a3a6-b5b921b3c55a",
   "metadata": {},
   "outputs": [],
   "source": [
    "NUM_EPOCHS = 50\n",
    "BATCH_SIZE = 1024\n",
    "NUM_WORKERS = 8\n",
    "lr = 0.01"
   ]
  },
  {
   "cell_type": "code",
   "execution_count": 3,
   "id": "c9ac49dd-2f2d-4fee-819c-267587e31485",
   "metadata": {},
   "outputs": [],
   "source": [
    "left_flank = AgarwalDataset.LEFT_FLANK # original flanks from human_legnet\n",
    "right_flank = AgarwalDataset.RIGHT_FLANK"
   ]
  },
  {
   "cell_type": "markdown",
   "id": "8f2af647-9958-4706-9045-2ec0a0d06a0e",
   "metadata": {},
   "source": [
    "## First, we read the MPRAdata, preprocess them and encapsulate them into dataloader form."
   ]
  },
  {
   "cell_type": "code",
   "execution_count": 4,
   "id": "cb1cb79b-7571-4f0a-955e-be8fb350cffc",
   "metadata": {},
   "outputs": [],
   "source": [
    "# preprocessing\n",
    "train_transform = t.Compose([\n",
    "    t.AddFlanks(\"\", right_flank), # this is original parameters for human_legnet\n",
    "    t.RightCrop(230,250), # this is using for shifting\n",
    "    t.CenterCrop(230),\n",
    "    t.Seq2Tensor(),\n",
    "    t.ReverseComplement(0.5),\n",
    "\n",
    "])\n",
    "test_transform = t.Compose([ # трансформы теста слегка другие\n",
    "    t.Seq2Tensor(), \n",
    "    t.ReverseComplement(0), # обратно комплементарная трансформация для всех последовательностей без веротяности 0.5\n",
    "\n",
    "])\n",
    "\n",
    "# load the data\n",
    "train_dataset = AgarwalDataset(cell_type = \"HepG2\", \n",
    "                              split=\"train\", # could use a list e.g. [1,2,5,6,7,8] for needed folds\n",
    "                              transform=train_transform,\n",
    "                              root = \"../data/\") \n",
    "\n",
    "val_dataset = AgarwalDataset(cell_type = \"HepG2\", \n",
    "                            split=\"val\", # use \"val\" for default validation set or use list\n",
    "                            transform=test_transform,\n",
    "                            root = \"../data/\") \n",
    "\n",
    "test_dataset = AgarwalDataset(cell_type = \"HepG2\", \n",
    "                             split=\"test\", # use \"test\" for default test set or use list\n",
    "                             transform=test_transform,\n",
    "                             root = \"../data/\") "
   ]
  },
  {
   "cell_type": "code",
   "execution_count": 5,
   "id": "afd0abb7-9442-474a-a231-20da01eee01e",
   "metadata": {},
   "outputs": [
    {
     "name": "stdout",
     "output_type": "stream",
     "text": [
      "Dataset AgarwalDataset of size 98336 (MpraDaraset)\n",
      "    Number of datapoints: 98336\n",
      "    Used split fold: [1, 2, 3, 4, 5, 6, 7, 8]\n",
      "------------\n",
      "Dataset AgarwalDataset of size 12298 (MpraDaraset)\n",
      "    Number of datapoints: 12298\n",
      "    Used split fold: [10]\n"
     ]
    }
   ],
   "source": [
    "print(train_dataset)\n",
    "print(\"------------\")\n",
    "print(test_dataset)"
   ]
  },
  {
   "cell_type": "code",
   "execution_count": 6,
   "id": "ede1e9f2-2e3d-4c36-ba30-b0424ad15947",
   "metadata": {},
   "outputs": [],
   "source": [
    "# encapsulate data into dataloader form\n",
    "train_loader = data.DataLoader(dataset=train_dataset, batch_size=BATCH_SIZE, shuffle=True, num_workers = NUM_WORKERS)\n",
    "\n",
    "val_loader = data.DataLoader(dataset=val_dataset, batch_size=BATCH_SIZE, shuffle=False, num_workers = NUM_WORKERS)\n",
    "\n",
    "test_loader = data.DataLoader(dataset=test_dataset, batch_size=BATCH_SIZE, shuffle=False, num_workers = NUM_WORKERS)"
   ]
  },
  {
   "cell_type": "code",
   "execution_count": 7,
   "id": "b63fa34a-52f3-42c8-bf57-86d3516e6857",
   "metadata": {},
   "outputs": [],
   "source": [
    "in_channels = len(train_dataset[0][0])\n",
    "out_channels = 1"
   ]
  },
  {
   "cell_type": "code",
   "execution_count": 8,
   "id": "39af5bd0-41e3-4f16-bb08-0c79b79e043b",
   "metadata": {},
   "outputs": [],
   "source": [
    "model = HumanLegNet(in_ch=in_channels,\n",
    "                     output_dim = out_channels,\n",
    "                     stem_ch=64,\n",
    "                     stem_ks=11,\n",
    "                     ef_ks=9,\n",
    "                     ef_block_sizes=[80, 96, 112, 128],\n",
    "                     pool_sizes=[2,2,2,2],\n",
    "                     resize_factor=4)\n",
    "model.apply(initialize_weights)\n",
    "\n",
    "seq_model = LitModel_Agarwal(model = model,\n",
    "                           loss = nn.MSELoss(),\n",
    "                           weight_decay = 1e-1, lr = 1e-2, print_each = 5)"
   ]
  },
  {
   "cell_type": "markdown",
   "id": "56f723ca-fc84-40c5-b5c9-12822b6b47e0",
   "metadata": {},
   "source": [
    "## Train LegNet model on HepG2 cell type for 50 epochs"
   ]
  },
  {
   "cell_type": "code",
   "execution_count": 9,
   "id": "a7812338-7e63-4341-9a01-732aa7d35592",
   "metadata": {},
   "outputs": [
    {
     "name": "stderr",
     "output_type": "stream",
     "text": [
      "Using 16bit Automatic Mixed Precision (AMP)\n",
      "You are using the plain ModelCheckpoint callback. Consider using LitModelCheckpoint which with seamless uploading to Model registry.\n",
      "GPU available: True (cuda), used: True\n",
      "TPU available: False, using: 0 TPU cores\n",
      "HPU available: False, using: 0 HPUs\n",
      "You are using a CUDA device ('NVIDIA GeForce RTX 3090') that has Tensor Cores. To properly utilize them, you should set `torch.set_float32_matmul_precision('medium' | 'high')` which will trade-off precision for performance. For more details, read https://pytorch.org/docs/stable/generated/torch.set_float32_matmul_precision.html#torch.set_float32_matmul_precision\n",
      "LOCAL_RANK: 0 - CUDA_VISIBLE_DEVICES: [0,1]\n",
      "Loading `train_dataloader` to estimate number of stepping batches.\n",
      "\n",
      "  | Name          | Type            | Params | Mode \n",
      "----------------------------------------------------------\n",
      "0 | model         | HumanLegNet     | 1.3 M  | train\n",
      "1 | loss          | MSELoss         | 0      | train\n",
      "2 | train_pearson | PearsonCorrCoef | 0      | train\n",
      "3 | val_pearson   | PearsonCorrCoef | 0      | train\n",
      "4 | test_pearson  | PearsonCorrCoef | 0      | train\n",
      "----------------------------------------------------------\n",
      "1.3 M     Trainable params\n",
      "0         Non-trainable params\n",
      "1.3 M     Total params\n",
      "5.290     Total estimated model params size (MB)\n",
      "120       Modules in train mode\n",
      "0         Modules in eval mode\n",
      "`Trainer.fit` stopped: `max_epochs=1` reached.\n",
      "LOCAL_RANK: 0 - CUDA_VISIBLE_DEVICES: [0,1]\n"
     ]
    },
    {
     "name": "stdout",
     "output_type": "stream",
     "text": [
      "────────────────────────────────────────────────────────────────────────────────────────────────────────────────────────\n",
      "       Test metric             DataLoader 0\n",
      "────────────────────────────────────────────────────────────────────────────────────────────────────────────────────────\n",
      "        test_loss           0.40610504150390625\n",
      "      test_pearson          0.5787808299064636\n",
      "────────────────────────────────────────────────────────────────────────────────────────────────────────────────────────\n"
     ]
    },
    {
     "data": {
      "text/plain": [
       "[{'test_loss': 0.40610504150390625, 'test_pearson': 0.5787808299064636}]"
      ]
     },
     "execution_count": 9,
     "metadata": {},
     "output_type": "execute_result"
    }
   ],
   "source": [
    "# Initialize a trainer\n",
    "trainer = L.Trainer(\n",
    "    accelerator=\"gpu\",\n",
    "    devices=[0],\n",
    "    max_epochs=1,\n",
    "    gradient_clip_val=1,\n",
    "    precision='16-mixed', \n",
    "    enable_progress_bar = False,\n",
    "    num_sanity_val_steps=0\n",
    ")\n",
    "\n",
    "# Train the model\n",
    "trainer.fit(seq_model,\n",
    "            train_dataloaders = train_loader,\n",
    "            val_dataloaders = val_loader)\n",
    "trainer.test(seq_model, dataloaders = test_loader)"
   ]
  },
  {
   "cell_type": "markdown",
   "id": "63ccd5ec-f5b2-4c2d-a632-cc5de66e69d4",
   "metadata": {},
   "source": [
    "## Lets train now for K562 cell type for 50 epochs"
   ]
  },
  {
   "cell_type": "code",
   "execution_count": 14,
   "id": "746abef6-8fd2-41c7-9074-5316f5137512",
   "metadata": {},
   "outputs": [],
   "source": [
    "# load the data\n",
    "train_dataset = AgarwalDataset(cell_type = \"K562\", split=\"train\", transform=train_transform) # could use a list e.g. [1,2,5,6,7,8] \n",
    "                                                                                            # for needed folds\n",
    "val_dataset = AgarwalDataset(cell_type = \"K562\", split=\"val\", transform=test_transform) # use \"val\" for default validation set or use list\n",
    "\n",
    "test_dataset = AgarwalDataset(cell_type = \"K562\", split=\"test\", transform=test_transform) # use \"test\" for default test set or use list"
   ]
  },
  {
   "cell_type": "code",
   "execution_count": null,
   "id": "0e5079c4-e917-43da-ad15-bba088bcecbc",
   "metadata": {},
   "outputs": [],
   "source": [
    "# encapsulate data into dataloader form\n",
    "train_loader = data.DataLoader(dataset=train_dataset, batch_size=BATCH_SIZE, shuffle=True, num_workers = NUM_WORKERS)\n",
    "val_loader = data.DataLoader(dataset=val_dataset, batch_size=BATCH_SIZE, shuffle=False, num_workers = NUM_WORKERS)\n",
    "test_loader = data.DataLoader(dataset=test_dataset, batch_size=BATCH_SIZE, shuffle=False, num_workers = NUM_WORKERS)"
   ]
  },
  {
   "cell_type": "code",
   "execution_count": null,
   "id": "9ab220ee-2f13-429d-a467-7c03afa3341d",
   "metadata": {},
   "outputs": [],
   "source": []
  }
 ],
 "metadata": {
  "kernelspec": {
   "display_name": "Python [conda env:mpramnist]",
   "language": "python",
   "name": "conda-env-mpramnist-py"
  },
  "language_info": {
   "codemirror_mode": {
    "name": "ipython",
    "version": 3
   },
   "file_extension": ".py",
   "mimetype": "text/x-python",
   "name": "python",
   "nbconvert_exporter": "python",
   "pygments_lexer": "ipython3",
   "version": "3.12.7"
  }
 },
 "nbformat": 4,
 "nbformat_minor": 5
}
