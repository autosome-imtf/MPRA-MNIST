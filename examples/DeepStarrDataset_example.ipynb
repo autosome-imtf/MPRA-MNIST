{
 "cells": [
  {
   "cell_type": "code",
   "execution_count": 2,
   "id": "9f191993-d46f-4115-920f-607ef4a35924",
   "metadata": {},
   "outputs": [],
   "source": [
    "import mpramnist\n",
    "from mpramnist.deepstarrdataset import DeepStarrDataset\n",
    "from mpramnist import transforms as t\n",
    "from mpramnist import target_transforms as t_t\n",
    "\n",
    "import numpy as np\n",
    "import torch\n",
    "import torch.nn as nn\n",
    "import torch.optim as optim\n",
    "import torch.utils.data as data\n",
    "\n",
    "import pytorch_lightning as pl\n",
    "from pytorch_lightning import loggers as pl_loggers"
   ]
  },
  {
   "cell_type": "code",
   "execution_count": 3,
   "id": "4dc09eaa-5df9-4571-b301-c4b59499331f",
   "metadata": {},
   "outputs": [
    {
     "name": "stdout",
     "output_type": "stream",
     "text": [
      "cuda\n"
     ]
    }
   ],
   "source": [
    "BATCH_SIZE = 1024\n",
    "NUM_WORKERS = 103\n",
    "device = torch.device(\"cuda\" if torch.cuda.is_available() else \"cpu\")\n",
    "print(device)\n",
    "\n",
    "train_transform = t.Compose([\n",
    "    t.Seq2Tensor()\n",
    "])\n",
    "val_test_transform = t.Compose([\n",
    "    t.Seq2Tensor()\n",
    "])"
   ]
  },
  {
   "cell_type": "markdown",
   "id": "010c91c0-3969-4002-81ef-f071de65790c",
   "metadata": {},
   "source": [
    "# Regression task"
   ]
  },
  {
   "cell_type": "code",
   "execution_count": 4,
   "id": "c4d3a488-e369-44f5-8d50-dd3ed7d24e27",
   "metadata": {},
   "outputs": [],
   "source": [
    "activity_columns = [\"Dev_log2\", \"Hk_log2\"]\n",
    "\n",
    "train_dataset = DeepStarrDataset(activity_columns = activity_columns, split = \"train\",transform = train_transform)\n",
    "\n",
    "val_dataset = DeepStarrDataset(activity_columns = activity_columns, split = \"val\",transform = val_test_transform) \n",
    "\n",
    "test_dataset = DeepStarrDataset(activity_columns = activity_columns, split = \"test\", transform = val_test_transform)\n",
    "\n",
    "in_channels = len(train_dataset[0][0])"
   ]
  },
  {
   "cell_type": "code",
   "execution_count": 5,
   "id": "50f01d5e-65d7-4ccc-b284-eff3027d0afd",
   "metadata": {},
   "outputs": [],
   "source": [
    "import math\n",
    "\n",
    "import torch\n",
    "import torch.nn as nn\n",
    "import torch.nn.functional as F\n",
    "\n",
    "def initialize_weights(m):\n",
    "    if isinstance(m, nn.Conv1d):\n",
    "        n = m.kernel_size[0] * m.out_channels\n",
    "        m.weight.data.normal_(0, math.sqrt(2 / n))\n",
    "        if m.bias is not None:\n",
    "            nn.init.constant_(m.bias.data, 0)\n",
    "    elif isinstance(m, nn.BatchNorm1d):\n",
    "        nn.init.constant_(m.weight.data, 1)\n",
    "        nn.init.constant_(m.bias.data, 0)\n",
    "    elif isinstance(m, nn.Linear):\n",
    "        m.weight.data.normal_(0, 0.001)\n",
    "        if m.bias is not None:\n",
    "            nn.init.constant_(m.bias.data, 0)\n",
    "\n",
    "class SELayer(nn.Module):\n",
    "    def __init__(self, inp, reduction=4):\n",
    "        super(SELayer, self).__init__()\n",
    "        self.fc = nn.Sequential(\n",
    "                nn.Linear(inp, int(inp // reduction)),\n",
    "                nn.SiLU(),\n",
    "                nn.Linear(int(inp // reduction), inp),\n",
    "                nn.Sigmoid()\n",
    "        )\n",
    "\n",
    "    def forward(self, x):\n",
    "        b, c, _, = x.size()\n",
    "        y = x.view(b, c, -1).mean(dim=2)\n",
    "        y = self.fc(y).view(b, c, 1)\n",
    "        return x * y\n",
    "\n",
    "class EffBlock(nn.Module):\n",
    "    def __init__(self, in_ch, ks, resize_factor, activation, out_ch=None, se_reduction=None):\n",
    "        super().__init__()\n",
    "        self.in_ch = in_ch\n",
    "        self.out_ch = self.in_ch if out_ch is None else out_ch\n",
    "        self.resize_factor = resize_factor\n",
    "        self.se_reduction = resize_factor if se_reduction is None else se_reduction\n",
    "        self.ks = ks\n",
    "        self.inner_dim = self.in_ch * self.resize_factor\n",
    "\n",
    "        block = nn.Sequential(\n",
    "                        nn.Conv1d(\n",
    "                            in_channels=self.in_ch,\n",
    "                            out_channels=self.inner_dim,\n",
    "                            kernel_size=1,\n",
    "                            padding='same',\n",
    "                            bias=False\n",
    "                       ),\n",
    "                       nn.BatchNorm1d(self.inner_dim),\n",
    "                       activation(),\n",
    "\n",
    "                       nn.Conv1d(\n",
    "                            in_channels=self.inner_dim,\n",
    "                            out_channels=self.inner_dim,\n",
    "                            kernel_size=ks,\n",
    "                            groups=self.inner_dim,\n",
    "                            padding='same',\n",
    "                            bias=False\n",
    "                       ),\n",
    "                       nn.BatchNorm1d(self.inner_dim),\n",
    "                       activation(),\n",
    "                       SELayer(self.inner_dim, reduction=self.se_reduction),\n",
    "                       nn.Conv1d(\n",
    "                            in_channels=self.inner_dim,\n",
    "                            out_channels=self.in_ch,\n",
    "                            kernel_size=1,\n",
    "                            padding='same',\n",
    "                            bias=False\n",
    "                       ),\n",
    "                       nn.BatchNorm1d(self.in_ch),\n",
    "                       activation(),\n",
    "        )\n",
    "\n",
    "        self.block = block\n",
    "\n",
    "    def forward(self, x):\n",
    "        return self.block(x)\n",
    "\n",
    "class LocalBlock(nn.Module):\n",
    "    def __init__(self, in_ch, ks, activation, out_ch=None):\n",
    "        super().__init__()\n",
    "        self.in_ch = in_ch\n",
    "        self.out_ch = self.in_ch if out_ch is None else out_ch\n",
    "        self.ks = ks\n",
    "\n",
    "        self.block = nn.Sequential(\n",
    "                       nn.Conv1d(\n",
    "                            in_channels=self.in_ch,\n",
    "                            out_channels=self.out_ch,\n",
    "                            kernel_size=self.ks,\n",
    "                            padding='same',\n",
    "                            bias=False\n",
    "                       ),\n",
    "                       nn.BatchNorm1d(self.out_ch),\n",
    "                       activation()\n",
    "        )\n",
    "\n",
    "    def forward(self, x):\n",
    "        return self.block(x)\n",
    "\n",
    "class ResidualConcat(nn.Module):\n",
    "    def __init__(self, fn):\n",
    "        super().__init__()\n",
    "        self.fn = fn\n",
    "\n",
    "    def forward(self, x, **kwargs):\n",
    "        return torch.concat([self.fn(x, **kwargs), x], dim=1)\n",
    "\n",
    "class MapperBlock(nn.Module):\n",
    "    def __init__(self, in_features, out_features, activation=nn.SiLU):\n",
    "        super().__init__()\n",
    "        self.block = nn.Sequential(\n",
    "            nn.BatchNorm1d(in_features),\n",
    "            nn.Conv1d(in_channels=in_features,\n",
    "                      out_channels=out_features,\n",
    "                      kernel_size=1),\n",
    "        )\n",
    "\n",
    "    def forward(self, x):\n",
    "        return self.block(x)\n",
    "\n",
    "class HumanLegNet(nn.Module):\n",
    "    def __init__(self,\n",
    "                 in_ch,\n",
    "                 output_dim,\n",
    "                 stem_ch,\n",
    "                 stem_ks,\n",
    "                 ef_ks,\n",
    "                 ef_block_sizes,\n",
    "                 pool_sizes,\n",
    "                 resize_factor,\n",
    "                 activation=nn.SiLU,\n",
    "                 ):\n",
    "        super().__init__()\n",
    "        assert len(pool_sizes) == len(ef_block_sizes)\n",
    "\n",
    "        self.in_ch = in_ch\n",
    "        self.stem = LocalBlock(in_ch=in_ch,\n",
    "                               out_ch=stem_ch,\n",
    "                               ks=stem_ks,\n",
    "                               activation=activation)\n",
    "\n",
    "        blocks = []\n",
    "        self.output_dim = output_dim\n",
    "        in_ch = stem_ch\n",
    "        out_ch = stem_ch\n",
    "        for pool_sz, out_ch in zip(pool_sizes, ef_block_sizes):\n",
    "            blc = nn.Sequential(\n",
    "                ResidualConcat(\n",
    "                    EffBlock(\n",
    "                        in_ch=in_ch,\n",
    "                        out_ch=in_ch,\n",
    "                        ks=ef_ks,\n",
    "                        resize_factor=resize_factor,\n",
    "                        activation=activation)\n",
    "                ),\n",
    "                LocalBlock(in_ch=in_ch * 2,\n",
    "                           out_ch=out_ch,\n",
    "                           ks=ef_ks,\n",
    "                           activation=activation),\n",
    "                nn.MaxPool1d(pool_sz) if pool_sz != 1 else nn.Identity()\n",
    "            )\n",
    "            in_ch = out_ch\n",
    "            blocks.append(blc)\n",
    "        self.main = nn.Sequential(*blocks)\n",
    "\n",
    "        self.mapper = MapperBlock(in_features=out_ch,\n",
    "                                  out_features=out_ch * 2)\n",
    "        self.head = nn.Sequential(nn.Linear(out_ch * 2, out_ch * 2),\n",
    "                                   nn.BatchNorm1d(out_ch * 2),\n",
    "                                   activation(),\n",
    "                                   nn.Linear(out_ch * 2, self.output_dim))\n",
    "\n",
    "    def forward(self, x):\n",
    "        x = self.stem(x)\n",
    "        x = self.main(x)\n",
    "        x = self.mapper(x)\n",
    "        x =  F.adaptive_avg_pool1d(x, 1)\n",
    "        x = x.squeeze(-1)\n",
    "        x = self.head(x)\n",
    "        x = x.squeeze(-1)\n",
    "        return x"
   ]
  },
  {
   "cell_type": "code",
   "execution_count": 12,
   "id": "59ea2b0b-788c-4256-b383-86701bd82d51",
   "metadata": {},
   "outputs": [],
   "source": [
    "import pytorch_lightning as L\n",
    "from torch.nn import functional as F\n",
    "\n",
    "def pearson_correlation(x, y):\n",
    "    vx = x - torch.mean(x, dim=0)\n",
    "    vy = y - torch.mean(y, dim=0)\n",
    "    pearsons = torch.sum(vx * vy, dim=0) / (torch.sqrt(torch.sum(vx ** 2, dim=0)) * torch.sqrt(torch.sum(vy ** 2, dim=0)) + 1e-10)\n",
    "    return torch.mean(pearsons)\n",
    "    \n",
    "class Seq1Model(L.LightningModule):\n",
    "    \n",
    "    def __init__(self, in_ch, out_ch, lr=3e-4):\n",
    "        super().__init__()\n",
    "        \n",
    "        self.model = HumanLegNet(in_ch=in_ch,\n",
    "                                 output_dim = out_ch,\n",
    "                                 stem_ch=64,\n",
    "                                 stem_ks=11,\n",
    "                                 ef_ks=9,\n",
    "                                 ef_block_sizes=[80, 96, 112, 128],\n",
    "                                 pool_sizes=[2,2,2,2],\n",
    "                                 resize_factor=4)\n",
    "        self.model.apply(initialize_weights)\n",
    "    \n",
    "        self.loss = nn.MSELoss() \n",
    "        self.lr = lr\n",
    "        self.train_loss = torch.tensor([]).to(device)\n",
    "        self.val_loss = torch.tensor([]).to(device)\n",
    "        self.pred = torch.empty(0).to(device)\n",
    "        self.target = torch.empty(0).to(device)\n",
    "        \n",
    "    def forward(self, x):\n",
    "        return self.model(x)\n",
    "\n",
    "    def training_step(self, batch, batch_nb):\n",
    "        X, y = batch\n",
    "        y_hat = self.model(X)\n",
    "        loss = self.loss(y_hat, y)\n",
    "        self.log(\"train_loss\", loss, prog_bar=True,  on_step=True, on_epoch=True, logger = True)\n",
    "        self.train_loss = torch.cat([self.train_loss, loss.unsqueeze(0)])\n",
    "    \n",
    "        lr = self.optimizers().param_groups[0]['lr']\n",
    "        self.log('learning_rate', lr, on_step=True, on_epoch=True, prog_bar=True, logger=True)\n",
    "        \n",
    "        return loss\n",
    "        \n",
    "    def validation_step(self, batch, batch_idx):\n",
    "        x, y = batch\n",
    "        y_hat = self.model(x)\n",
    "        loss = self.loss(y_hat, y)\n",
    "        \n",
    "        self.log('val_loss', loss, on_step=False, on_epoch=True, prog_bar=True)\n",
    "        self.val_loss = torch.cat([self.val_loss, loss.unsqueeze(0)])\n",
    "\n",
    "        self.pred = torch.cat([self.pred, y_hat], dim = 0)\n",
    "        self.target = torch.cat([self.target, y], dim = 0)\n",
    "        \n",
    "    def on_validation_epoch_end(self):\n",
    "        train_loss = torch.mean(self.train_loss)\n",
    "        val_loss = torch.mean(self.val_loss)\n",
    "        \n",
    "        res_str = '|' + ' {}: {:.5f} |'.format(\"current_epoch\", self.current_epoch) \n",
    "        res_str += ' {}: {:.5f} |'.format(\"val_loss\", val_loss)\n",
    "\n",
    "        corr = pearson_correlation(self.pred.clone().detach(), self.target.clone().detach())\n",
    "        self.log(\"val_pearson\", corr, on_epoch=True, prog_bar=True, on_step = False)\n",
    "        res_str += ' {}: {:.5f} |'.format(\"val_pearson_r\", corr)\n",
    "    \n",
    "        res_str += ' {}: {:.5f} |'.format(\"train_loss\", train_loss)\n",
    "        \n",
    "        border = '-'*100 #len(res_str)\n",
    "        print(\"\\n\".join(['', border, res_str, border, '']))\n",
    "\n",
    "        self.val_loss = torch.tensor([]).to(device)\n",
    "        self.pred = torch.empty(0).to(device)\n",
    "        self.target = torch.empty(0).to(device)\n",
    "        self.train_loss = torch.tensor([]).to(device)\n",
    "        \n",
    "    def test_step(self, batch, _):\n",
    "        x, y = batch\n",
    "        y_hat = self.model(x)\n",
    "        loss = self.loss(y_hat, y)\n",
    "        \n",
    "        self.log('test_loss', \n",
    "                 loss, \n",
    "                 prog_bar=True, \n",
    "                 on_step=False,\n",
    "                 on_epoch=True)\n",
    "\n",
    "        self.pred = torch.cat([self.pred, y_hat], dim = 0)\n",
    "        self.target = torch.cat([self.target, y], dim = 0)\n",
    "        \n",
    "    def on_test_epoch_end(self):\n",
    "        corr = pearson_correlation(self.pred, self.target)\n",
    "        self.log('test_pearson_r', corr, on_step=False, on_epoch=True, prog_bar=True)\n",
    "        \n",
    "    def predict_step(self, batch, batch_idx, dataloader_idx=0):\n",
    "        x, y = batch\n",
    "        y_hat = self.model(x)          \n",
    "        \n",
    "        return {\"y\": y.cpu().detach().float(), \"pred\": y_hat.cpu().detach().float()}\n",
    "    \n",
    "    def train_dataloader(self):\n",
    "        return data.DataLoader(dataset=train_dataset, batch_size=BATCH_SIZE, shuffle=True, num_workers = NUM_WORKERS, pin_memory=True)\n",
    "\n",
    "    def val_dataloader(self):\n",
    "        return data.DataLoader(dataset=val_dataset, batch_size=BATCH_SIZE, shuffle=False, num_workers = NUM_WORKERS, pin_memory=True)\n",
    "    \n",
    "    def test_dataloader(self):\n",
    "        return data.DataLoader(dataset=test_dataset, batch_size=BATCH_SIZE, shuffle=False, num_workers = NUM_WORKERS, pin_memory=True)\n",
    "    \n",
    "    def configure_optimizers(self):\n",
    "        \n",
    "        self.optimizer = torch.optim.AdamW(self.parameters(),\n",
    "                                               lr=self.lr,\n",
    "                                               weight_decay = 1e-6)\n",
    "        \n",
    "        lr_scheduler = torch.optim.lr_scheduler.OneCycleLR(self.optimizer, # type: ignore\n",
    "                                                        max_lr=self.lr,\n",
    "                                                        three_phase=False, \n",
    "                                                        total_steps=self.trainer.estimated_stepping_batches, # type: ignore\n",
    "                                                        pct_start=0.3,\n",
    "                                                        cycle_momentum =False)\n",
    "        lr_scheduler_config = {\n",
    "                    \"scheduler\": lr_scheduler,\n",
    "                    \"interval\": \"step\",\n",
    "                    \"frequency\": 1,\n",
    "                    \"name\": \"cycle_lr\"\n",
    "            }\n",
    "            \n",
    "        return [self.optimizer], [lr_scheduler_config]\n",
    "        "
   ]
  },
  {
   "cell_type": "code",
   "execution_count": 13,
   "id": "00fcda08-42b8-4546-95c9-85b10fa059e0",
   "metadata": {},
   "outputs": [
    {
     "name": "stderr",
     "output_type": "stream",
     "text": [
      "Using 16bit Automatic Mixed Precision (AMP)\n",
      "GPU available: True (cuda), used: True\n",
      "TPU available: False, using: 0 TPU cores\n",
      "HPU available: False, using: 0 HPUs\n",
      "LOCAL_RANK: 0 - CUDA_VISIBLE_DEVICES: [0,1]\n",
      "Loading `train_dataloader` to estimate number of stepping batches.\n",
      "\n",
      "  | Name  | Type        | Params | Mode \n",
      "----------------------------------------------\n",
      "0 | model | HumanLegNet | 1.3 M  | train\n",
      "1 | loss  | MSELoss     | 0      | train\n",
      "----------------------------------------------\n",
      "1.3 M     Trainable params\n",
      "0         Non-trainable params\n",
      "1.3 M     Total params\n",
      "5.291     Total estimated model params size (MB)\n",
      "117       Modules in train mode\n",
      "0         Modules in eval mode\n"
     ]
    },
    {
     "data": {
      "application/vnd.jupyter.widget-view+json": {
       "model_id": "5f57768df3ed455fab4df010739a9f4b",
       "version_major": 2,
       "version_minor": 0
      },
      "text/plain": [
       "Training: |                                                                                       | 0/? [00:00…"
      ]
     },
     "metadata": {},
     "output_type": "display_data"
    },
    {
     "data": {
      "application/vnd.jupyter.widget-view+json": {
       "model_id": "",
       "version_major": 2,
       "version_minor": 0
      },
      "text/plain": [
       "Validation: |                                                                                     | 0/? [00:00…"
      ]
     },
     "metadata": {},
     "output_type": "display_data"
    },
    {
     "name": "stdout",
     "output_type": "stream",
     "text": [
      "\n",
      "----------------------------------------------------------------------------------------------------\n",
      "| current_epoch: 0.00000 | val_loss: 1.90624 | val_pearson_r: 0.61691 | train_loss: 1.87281 |\n",
      "----------------------------------------------------------------------------------------------------\n",
      "\n"
     ]
    },
    {
     "data": {
      "application/vnd.jupyter.widget-view+json": {
       "model_id": "",
       "version_major": 2,
       "version_minor": 0
      },
      "text/plain": [
       "Validation: |                                                                                     | 0/? [00:00…"
      ]
     },
     "metadata": {},
     "output_type": "display_data"
    },
    {
     "name": "stdout",
     "output_type": "stream",
     "text": [
      "\n",
      "----------------------------------------------------------------------------------------------------\n",
      "| current_epoch: 1.00000 | val_loss: 1.34478 | val_pearson_r: 0.68865 | train_loss: 1.40194 |\n",
      "----------------------------------------------------------------------------------------------------\n",
      "\n"
     ]
    },
    {
     "data": {
      "application/vnd.jupyter.widget-view+json": {
       "model_id": "",
       "version_major": 2,
       "version_minor": 0
      },
      "text/plain": [
       "Validation: |                                                                                     | 0/? [00:00…"
      ]
     },
     "metadata": {},
     "output_type": "display_data"
    },
    {
     "name": "stdout",
     "output_type": "stream",
     "text": [
      "\n",
      "----------------------------------------------------------------------------------------------------\n",
      "| current_epoch: 2.00000 | val_loss: 1.24890 | val_pearson_r: 0.71428 | train_loss: 1.22425 |\n",
      "----------------------------------------------------------------------------------------------------\n",
      "\n"
     ]
    },
    {
     "data": {
      "application/vnd.jupyter.widget-view+json": {
       "model_id": "",
       "version_major": 2,
       "version_minor": 0
      },
      "text/plain": [
       "Validation: |                                                                                     | 0/? [00:00…"
      ]
     },
     "metadata": {},
     "output_type": "display_data"
    },
    {
     "name": "stdout",
     "output_type": "stream",
     "text": [
      "\n",
      "----------------------------------------------------------------------------------------------------\n",
      "| current_epoch: 3.00000 | val_loss: 1.20885 | val_pearson_r: 0.72473 | train_loss: 1.06676 |\n",
      "----------------------------------------------------------------------------------------------------\n",
      "\n"
     ]
    },
    {
     "data": {
      "application/vnd.jupyter.widget-view+json": {
       "model_id": "",
       "version_major": 2,
       "version_minor": 0
      },
      "text/plain": [
       "Validation: |                                                                                     | 0/? [00:00…"
      ]
     },
     "metadata": {},
     "output_type": "display_data"
    },
    {
     "name": "stdout",
     "output_type": "stream",
     "text": [
      "\n",
      "----------------------------------------------------------------------------------------------------\n",
      "| current_epoch: 4.00000 | val_loss: 1.22104 | val_pearson_r: 0.72183 | train_loss: 0.92913 |\n",
      "----------------------------------------------------------------------------------------------------\n",
      "\n"
     ]
    },
    {
     "name": "stderr",
     "output_type": "stream",
     "text": [
      "`Trainer.fit` stopped: `max_epochs=5` reached.\n",
      "LOCAL_RANK: 0 - CUDA_VISIBLE_DEVICES: [0,1]\n"
     ]
    },
    {
     "data": {
      "application/vnd.jupyter.widget-view+json": {
       "model_id": "0c0b0f7644694d1b9bba065a0fdab764",
       "version_major": 2,
       "version_minor": 0
      },
      "text/plain": [
       "Testing: |                                                                                        | 0/? [00:00…"
      ]
     },
     "metadata": {},
     "output_type": "display_data"
    },
    {
     "data": {
      "text/html": [
       "<pre style=\"white-space:pre;overflow-x:auto;line-height:normal;font-family:Menlo,'DejaVu Sans Mono',consolas,'Courier New',monospace\">┏━━━━━━━━━━━━━━━━━━━━━━━━━━━┳━━━━━━━━━━━━━━━━━━━━━━━━━━━┓\n",
       "┃<span style=\"font-weight: bold\">        Test metric        </span>┃<span style=\"font-weight: bold\">       DataLoader 0        </span>┃\n",
       "┡━━━━━━━━━━━━━━━━━━━━━━━━━━━╇━━━━━━━━━━━━━━━━━━━━━━━━━━━┩\n",
       "│<span style=\"color: #008080; text-decoration-color: #008080\">         test_loss         </span>│<span style=\"color: #800080; text-decoration-color: #800080\">    1.2120991945266724     </span>│\n",
       "│<span style=\"color: #008080; text-decoration-color: #008080\">      test_pearson_r       </span>│<span style=\"color: #800080; text-decoration-color: #800080\">    0.7285802364349365     </span>│\n",
       "└───────────────────────────┴───────────────────────────┘\n",
       "</pre>\n"
      ],
      "text/plain": [
       "┏━━━━━━━━━━━━━━━━━━━━━━━━━━━┳━━━━━━━━━━━━━━━━━━━━━━━━━━━┓\n",
       "┃\u001b[1m \u001b[0m\u001b[1m       Test metric       \u001b[0m\u001b[1m \u001b[0m┃\u001b[1m \u001b[0m\u001b[1m      DataLoader 0       \u001b[0m\u001b[1m \u001b[0m┃\n",
       "┡━━━━━━━━━━━━━━━━━━━━━━━━━━━╇━━━━━━━━━━━━━━━━━━━━━━━━━━━┩\n",
       "│\u001b[36m \u001b[0m\u001b[36m        test_loss        \u001b[0m\u001b[36m \u001b[0m│\u001b[35m \u001b[0m\u001b[35m   1.2120991945266724    \u001b[0m\u001b[35m \u001b[0m│\n",
       "│\u001b[36m \u001b[0m\u001b[36m     test_pearson_r      \u001b[0m\u001b[36m \u001b[0m│\u001b[35m \u001b[0m\u001b[35m   0.7285802364349365    \u001b[0m\u001b[35m \u001b[0m│\n",
       "└───────────────────────────┴───────────────────────────┘\n"
      ]
     },
     "metadata": {},
     "output_type": "display_data"
    },
    {
     "data": {
      "text/plain": [
       "[{'test_loss': 1.2120991945266724, 'test_pearson_r': 0.7285802364349365}]"
      ]
     },
     "execution_count": 13,
     "metadata": {},
     "output_type": "execute_result"
    }
   ],
   "source": [
    "seq_model = Seq1Model(in_ch = in_channels, out_ch = 2, lr = 0.002)\n",
    "\n",
    "callback_es = pl.callbacks.early_stopping.EarlyStopping(monitor='val_loss', patience=10)\n",
    "\n",
    "# Initialize a trainer\n",
    "trainer = L.Trainer(\n",
    "    accelerator=\"gpu\",\n",
    "    devices=[0],\n",
    "    max_epochs=5,\n",
    "    callbacks=[callback_es],\n",
    "    gradient_clip_val=1,\n",
    "    precision='16-mixed', \n",
    "    enable_progress_bar = True,\n",
    "    num_sanity_val_steps=0\n",
    ")\n",
    "\n",
    "# Train the model\n",
    "trainer.fit(seq_model)\n",
    "\n",
    "trainer.test(seq_model)"
   ]
  },
  {
   "cell_type": "code",
   "execution_count": null,
   "id": "fff0b7b7-c565-405e-9eac-87225bf41b51",
   "metadata": {},
   "outputs": [],
   "source": []
  }
 ],
 "metadata": {
  "kernelspec": {
   "display_name": "Python [conda env:mpra]",
   "language": "python",
   "name": "conda-env-mpra-py"
  },
  "language_info": {
   "codemirror_mode": {
    "name": "ipython",
    "version": 3
   },
   "file_extension": ".py",
   "mimetype": "text/x-python",
   "name": "python",
   "nbconvert_exporter": "python",
   "pygments_lexer": "ipython3",
   "version": "3.12.7"
  }
 },
 "nbformat": 4,
 "nbformat_minor": 5
}
