{
 "cells": [
  {
   "cell_type": "code",
   "execution_count": 10,
   "id": "4229e853-d3e5-4fcb-a5b5-b6a4895d3fd4",
   "metadata": {},
   "outputs": [],
   "source": [
    "import mpramnist\n",
    "from mpramnist.AgarwalJoint.dataset import AgarwalJointDataset\n",
    "\n",
    "from mpramnist.models import HumanLegNet\n",
    "from mpramnist.models import initialize_weights\n",
    "from mpramnist.trainers import LitModel_AgarwalJoint\n",
    "\n",
    "import mpramnist.transforms as t\n",
    "import mpramnist.target_transforms as t_t\n",
    "\n",
    "import torch\n",
    "import torch.nn as nn\n",
    "import torch.utils.data as data\n",
    "\n",
    "import lightning.pytorch as L"
   ]
  },
  {
   "cell_type": "code",
   "execution_count": 11,
   "id": "af4622b7-8276-4bd3-ad3d-fbeed1775a92",
   "metadata": {},
   "outputs": [],
   "source": [
    "BATCH_SIZE = 1024\n",
    "NUM_WORKERS = 103\n",
    "lr = 0.01"
   ]
  },
  {
   "cell_type": "code",
   "execution_count": 12,
   "id": "d05c61d7-1334-4a51-b595-ee5f091de62f",
   "metadata": {},
   "outputs": [],
   "source": [
    "constant_left_flank = (\n",
    "    AgarwalJointDataset.CONSTANT_LEFT_FLANK\n",
    ")  # required for each sequence\n",
    "constant_rigtht_flank = (\n",
    "    AgarwalJointDataset.CONSTANT_RIGHT_FLANK\n",
    ")  # required for each sequence\n",
    "left_flank = AgarwalJointDataset.LEFT_FLANK  # original flanks from human_legnet\n",
    "right_flank = AgarwalJointDataset.RIGHT_FLANK"
   ]
  },
  {
   "cell_type": "markdown",
   "id": "08a1a951-f9f4-4bfd-a8af-478915fe4f03",
   "metadata": {},
   "source": [
    "## First, we read the MPRAdata, preprocess them and encapsulate them into dataloader form."
   ]
  },
  {
   "cell_type": "code",
   "execution_count": 13,
   "id": "738d9114-4aca-4bcc-9c51-716a8573d29d",
   "metadata": {},
   "outputs": [],
   "source": [
    "# preprocessing\n",
    "train_transform = t.Compose(\n",
    "    [\n",
    "        t.AddFlanks(constant_left_flank, constant_rigtht_flank),\n",
    "        t.AddFlanks(\"\", right_flank),  # this is original parameters for human_legnet\n",
    "        t.RightCrop(230, 250),\n",
    "        t.LeftCrop(230, 230),\n",
    "        t.ReverseComplement(0.5),\n",
    "        t.Seq2Tensor(),\n",
    "    ]\n",
    ")\n",
    "test_transform = t.Compose(\n",
    "    [  # test transforms slighty different\n",
    "        t.AddFlanks(constant_left_flank, constant_rigtht_flank),\n",
    "        t.Seq2Tensor(),\n",
    "    ]\n",
    ")\n",
    "test_transform_reversed = t.Compose(\n",
    "    [\n",
    "        t.AddFlanks(constant_left_flank, constant_rigtht_flank),\n",
    "        t.ReverseComplement(1),\n",
    "        t.Seq2Tensor(),\n",
    "    ]\n",
    ")\n",
    "\n",
    "activity_columns = [\"HepG2\", \"K562\", \"WTC11\"]\n",
    "\n",
    "# load the data\n",
    "train_dataset = AgarwalJointDataset(\n",
    "    cell_type=activity_columns,\n",
    "    split=\"train\",\n",
    "    transform=train_transform,\n",
    "    root=\"../data/\",\n",
    ")  # could use a list e.g. [1,2,5,6,7,8]                                                                                             # for needed folds\n",
    "val_dataset = AgarwalJointDataset(\n",
    "    cell_type=activity_columns, split=\"val\", transform=test_transform, root=\"../data/\"\n",
    ")  # use \"val\" for default validation set\n",
    "\n",
    "test_dataset = AgarwalJointDataset(\n",
    "    cell_type=activity_columns, split=\"test\", transform=test_transform, root=\"../data/\"\n",
    ")  # use \"test\" for default test set\n",
    "\n",
    "# reversed test sequences\n",
    "test_dataset_rev = AgarwalJointDataset(\n",
    "    cell_type=activity_columns,\n",
    "    split=\"test\",\n",
    "    transform=test_transform_reversed,\n",
    "    root=\"../data/\",\n",
    ")\n",
    "\n",
    "# encapsulate data into dataloader form\n",
    "train_loader = data.DataLoader(\n",
    "    dataset=train_dataset, batch_size=BATCH_SIZE, shuffle=True, num_workers=NUM_WORKERS\n",
    ")\n",
    "val_loader = data.DataLoader(\n",
    "    dataset=val_dataset, batch_size=BATCH_SIZE, shuffle=False, num_workers=NUM_WORKERS\n",
    ")\n",
    "\n",
    "test_loader = data.DataLoader(\n",
    "    dataset=test_dataset, batch_size=BATCH_SIZE, shuffle=False, num_workers=NUM_WORKERS\n",
    ")\n",
    "\n",
    "# reversed test sequences loader\n",
    "test_loader_rev = data.DataLoader(\n",
    "    dataset=test_dataset_rev,\n",
    "    batch_size=BATCH_SIZE,\n",
    "    shuffle=False,\n",
    "    num_workers=NUM_WORKERS,\n",
    ")"
   ]
  },
  {
   "cell_type": "code",
   "execution_count": 14,
   "id": "7afc1cd2-8359-4124-ac99-9a407bcb4600",
   "metadata": {},
   "outputs": [
    {
     "name": "stdout",
     "output_type": "stream",
     "text": [
      "Dataset AgarwalJointDataset (MpraDaraset)\n",
      "    Number of datapoints: 44264\n",
      "    Root location: ../data/AgarwalJoint\n",
      "    Using split: [1, 2, 3, 4, 5, 6, 7, 8]\n",
      "    Split: {'train': 36946, 'val': 4622, 'test': 4622}\n",
      "    Task: Regression\n",
      "    Description: The AgarwalJoint dataset contains 55,338 sequences, each 200 nucleotides long, comprising enhancers from the HepG2, K562, and WTC11 cell lines. The regression task is to predict three scalar values of regulatory activity for each of these cell lines.\n",
      "===================\n",
      "Dataset AgarwalJointDataset (MpraDaraset)\n",
      "    Number of datapoints: 5541\n",
      "    Root location: ../data/AgarwalJoint\n",
      "    Using split: [10]\n",
      "    Split: {'train': 36946, 'val': 4622, 'test': 4622}\n",
      "    Task: Regression\n",
      "    Description: The AgarwalJoint dataset contains 55,338 sequences, each 200 nucleotides long, comprising enhancers from the HepG2, K562, and WTC11 cell lines. The regression task is to predict three scalar values of regulatory activity for each of these cell lines.\n"
     ]
    }
   ],
   "source": [
    "print(train_dataset)\n",
    "print(\"===================\")\n",
    "print(test_dataset)"
   ]
  },
  {
   "cell_type": "code",
   "execution_count": 15,
   "id": "f63cc026-fa70-4838-bc2b-70134901ecce",
   "metadata": {},
   "outputs": [],
   "source": [
    "in_channels = len(train_dataset[0][0])\n",
    "out_channels = len(activity_columns)"
   ]
  },
  {
   "cell_type": "code",
   "execution_count": 16,
   "id": "989071fa-3384-428c-ae74-697c08d27069",
   "metadata": {},
   "outputs": [],
   "source": [
    "model = HumanLegNet(\n",
    "    in_ch=in_channels,\n",
    "    output_dim=out_channels,\n",
    "    stem_ch=64,\n",
    "    stem_ks=11,\n",
    "    ef_ks=9,\n",
    "    ef_block_sizes=[80, 96, 112, 128],\n",
    "    pool_sizes=[2, 2, 2, 2],\n",
    "    resize_factor=4,\n",
    ")\n",
    "model.apply(initialize_weights)\n",
    "\n",
    "seq_model = LitModel_AgarwalJoint(\n",
    "    model=model,\n",
    "    num_outputs=out_channels,\n",
    "    loss=nn.MSELoss(),\n",
    "    weight_decay=1e-1,\n",
    "    lr=1e-2,\n",
    "    print_each=10,\n",
    ")"
   ]
  },
  {
   "cell_type": "code",
   "execution_count": 17,
   "id": "aa981857-0925-47ac-8ef9-29756e20d50f",
   "metadata": {},
   "outputs": [
    {
     "name": "stderr",
     "output_type": "stream",
     "text": [
      "Using 16bit Automatic Mixed Precision (AMP)\n",
      "💡 Tip: For seamless cloud uploads and versioning, try installing [litmodels](https://pypi.org/project/litmodels/) to enable LitModelCheckpoint, which syncs automatically with the Lightning model registry.\n",
      "GPU available: True (cuda), used: True\n",
      "TPU available: False, using: 0 TPU cores\n",
      "HPU available: False, using: 0 HPUs\n",
      "LOCAL_RANK: 0 - CUDA_VISIBLE_DEVICES: [0,1]\n",
      "Loading `train_dataloader` to estimate number of stepping batches.\n",
      "/home/nios/miniconda3/envs/mpramnist/lib/python3.12/site-packages/lightning/pytorch/loops/fit_loop.py:310: The number of training batches (44) is smaller than the logging interval Trainer(log_every_n_steps=50). Set a lower value for log_every_n_steps if you want to see logs for the training epoch.\n",
      "\n",
      "  | Name          | Type            | Params | Mode \n",
      "----------------------------------------------------------\n",
      "0 | model         | HumanLegNet     | 1.3 M  | train\n",
      "1 | loss          | MSELoss         | 0      | train\n",
      "2 | train_pearson | PearsonCorrCoef | 0      | train\n",
      "3 | val_pearson   | PearsonCorrCoef | 0      | train\n",
      "4 | test_pearson  | PearsonCorrCoef | 0      | train\n",
      "----------------------------------------------------------\n",
      "1.3 M     Trainable params\n",
      "0         Non-trainable params\n",
      "1.3 M     Total params\n",
      "5.292     Total estimated model params size (MB)\n",
      "120       Modules in train mode\n",
      "0         Modules in eval mode\n"
     ]
    },
    {
     "data": {
      "application/vnd.jupyter.widget-view+json": {
       "model_id": "5e7b2c82dd0c4d45a26f069b6f030ae6",
       "version_major": 2,
       "version_minor": 0
      },
      "text/plain": [
       "Training: |          | 0/? [00:00<?, ?it/s]"
      ]
     },
     "metadata": {},
     "output_type": "display_data"
    },
    {
     "data": {
      "application/vnd.jupyter.widget-view+json": {
       "model_id": "30697cb5e3c5455ea21ef5374f987bb6",
       "version_major": 2,
       "version_minor": 0
      },
      "text/plain": [
       "Validation: |          | 0/? [00:00<?, ?it/s]"
      ]
     },
     "metadata": {},
     "output_type": "display_data"
    },
    {
     "data": {
      "application/vnd.jupyter.widget-view+json": {
       "model_id": "a66b4abe4a1b4d8b85b12b47a03d5c03",
       "version_major": 2,
       "version_minor": 0
      },
      "text/plain": [
       "Validation: |          | 0/? [00:00<?, ?it/s]"
      ]
     },
     "metadata": {},
     "output_type": "display_data"
    },
    {
     "data": {
      "application/vnd.jupyter.widget-view+json": {
       "model_id": "1e513c316f6b48738fb8a1ab0f9990b1",
       "version_major": 2,
       "version_minor": 0
      },
      "text/plain": [
       "Validation: |          | 0/? [00:00<?, ?it/s]"
      ]
     },
     "metadata": {},
     "output_type": "display_data"
    },
    {
     "data": {
      "application/vnd.jupyter.widget-view+json": {
       "model_id": "2014493e04a24babac9dbb2a76aadf3d",
       "version_major": 2,
       "version_minor": 0
      },
      "text/plain": [
       "Validation: |          | 0/? [00:00<?, ?it/s]"
      ]
     },
     "metadata": {},
     "output_type": "display_data"
    },
    {
     "data": {
      "application/vnd.jupyter.widget-view+json": {
       "model_id": "4ac0b196d6d0444dae1406fd640f8593",
       "version_major": 2,
       "version_minor": 0
      },
      "text/plain": [
       "Validation: |          | 0/? [00:00<?, ?it/s]"
      ]
     },
     "metadata": {},
     "output_type": "display_data"
    },
    {
     "data": {
      "application/vnd.jupyter.widget-view+json": {
       "model_id": "f3dabc41ea4c4ecd914a2eccdb417f96",
       "version_major": 2,
       "version_minor": 0
      },
      "text/plain": [
       "Validation: |          | 0/? [00:00<?, ?it/s]"
      ]
     },
     "metadata": {},
     "output_type": "display_data"
    },
    {
     "data": {
      "application/vnd.jupyter.widget-view+json": {
       "model_id": "9c654a9c588641a18267f21abd20c3f9",
       "version_major": 2,
       "version_minor": 0
      },
      "text/plain": [
       "Validation: |          | 0/? [00:00<?, ?it/s]"
      ]
     },
     "metadata": {},
     "output_type": "display_data"
    },
    {
     "data": {
      "application/vnd.jupyter.widget-view+json": {
       "model_id": "751b7bfc7c974ce182653caef31537d0",
       "version_major": 2,
       "version_minor": 0
      },
      "text/plain": [
       "Validation: |          | 0/? [00:00<?, ?it/s]"
      ]
     },
     "metadata": {},
     "output_type": "display_data"
    },
    {
     "data": {
      "application/vnd.jupyter.widget-view+json": {
       "model_id": "ac4ed00c2e8b47cab0f579b2c454c1d5",
       "version_major": 2,
       "version_minor": 0
      },
      "text/plain": [
       "Validation: |          | 0/? [00:00<?, ?it/s]"
      ]
     },
     "metadata": {},
     "output_type": "display_data"
    },
    {
     "data": {
      "application/vnd.jupyter.widget-view+json": {
       "model_id": "3038fb302dbf40a98fcb0f811481f6a1",
       "version_major": 2,
       "version_minor": 0
      },
      "text/plain": [
       "Validation: |          | 0/? [00:00<?, ?it/s]"
      ]
     },
     "metadata": {},
     "output_type": "display_data"
    },
    {
     "name": "stdout",
     "output_type": "stream",
     "text": [
      "\n",
      "--------------------------------------------------------------------------------------------------------------------------\n",
      "| Epoch: 9 | Val Loss: 0.63712 \n",
      "| Val Pearson HepG2: 0.64639 | Val Pearson K562: 0.62297 | Val Pearson WTC11: 0.62773 | Mean Val Pearson: 0.63236 |\n",
      "| Train Pearson HepG2: 0.70237 | Train Pearson K562: 0.65580 | Train Pearson WTC11: 0.68951 | Mean Train Pearson: 0.68256 |\n",
      "--------------------------------------------------------------------------------------------------------------------------\n",
      "\n"
     ]
    },
    {
     "data": {
      "application/vnd.jupyter.widget-view+json": {
       "model_id": "cefece0652914ea4a8cc237840275b1f",
       "version_major": 2,
       "version_minor": 0
      },
      "text/plain": [
       "Validation: |          | 0/? [00:00<?, ?it/s]"
      ]
     },
     "metadata": {},
     "output_type": "display_data"
    },
    {
     "data": {
      "application/vnd.jupyter.widget-view+json": {
       "model_id": "b70d1d4a082849ce923c9bf482b7ed20",
       "version_major": 2,
       "version_minor": 0
      },
      "text/plain": [
       "Validation: |          | 0/? [00:00<?, ?it/s]"
      ]
     },
     "metadata": {},
     "output_type": "display_data"
    },
    {
     "data": {
      "application/vnd.jupyter.widget-view+json": {
       "model_id": "92add32db06848a9b2cdd572a8031603",
       "version_major": 2,
       "version_minor": 0
      },
      "text/plain": [
       "Validation: |          | 0/? [00:00<?, ?it/s]"
      ]
     },
     "metadata": {},
     "output_type": "display_data"
    },
    {
     "data": {
      "application/vnd.jupyter.widget-view+json": {
       "model_id": "f6b32d4e8bda4041bb8efff7a65e46b3",
       "version_major": 2,
       "version_minor": 0
      },
      "text/plain": [
       "Validation: |          | 0/? [00:00<?, ?it/s]"
      ]
     },
     "metadata": {},
     "output_type": "display_data"
    },
    {
     "data": {
      "application/vnd.jupyter.widget-view+json": {
       "model_id": "ad557ba02dc243f396efdcf83768230c",
       "version_major": 2,
       "version_minor": 0
      },
      "text/plain": [
       "Validation: |          | 0/? [00:00<?, ?it/s]"
      ]
     },
     "metadata": {},
     "output_type": "display_data"
    },
    {
     "data": {
      "application/vnd.jupyter.widget-view+json": {
       "model_id": "3877abd5f1334b69bb9eb8490cfb6212",
       "version_major": 2,
       "version_minor": 0
      },
      "text/plain": [
       "Validation: |          | 0/? [00:00<?, ?it/s]"
      ]
     },
     "metadata": {},
     "output_type": "display_data"
    },
    {
     "data": {
      "application/vnd.jupyter.widget-view+json": {
       "model_id": "0e37d23c0d824d27929d44d80862d1c7",
       "version_major": 2,
       "version_minor": 0
      },
      "text/plain": [
       "Validation: |          | 0/? [00:00<?, ?it/s]"
      ]
     },
     "metadata": {},
     "output_type": "display_data"
    },
    {
     "data": {
      "application/vnd.jupyter.widget-view+json": {
       "model_id": "fdce1d63add844fb93956917925325a2",
       "version_major": 2,
       "version_minor": 0
      },
      "text/plain": [
       "Validation: |          | 0/? [00:00<?, ?it/s]"
      ]
     },
     "metadata": {},
     "output_type": "display_data"
    },
    {
     "data": {
      "application/vnd.jupyter.widget-view+json": {
       "model_id": "79c14f4c242d4320a6c9f07cf86876dd",
       "version_major": 2,
       "version_minor": 0
      },
      "text/plain": [
       "Validation: |          | 0/? [00:00<?, ?it/s]"
      ]
     },
     "metadata": {},
     "output_type": "display_data"
    },
    {
     "data": {
      "application/vnd.jupyter.widget-view+json": {
       "model_id": "dac905f9b2db4198b5bea35304f6a3e0",
       "version_major": 2,
       "version_minor": 0
      },
      "text/plain": [
       "Validation: |          | 0/? [00:00<?, ?it/s]"
      ]
     },
     "metadata": {},
     "output_type": "display_data"
    },
    {
     "name": "stdout",
     "output_type": "stream",
     "text": [
      "\n",
      "--------------------------------------------------------------------------------------------------------------------------\n",
      "| Epoch: 19 | Val Loss: 0.53071 \n",
      "| Val Pearson HepG2: 0.74307 | Val Pearson K562: 0.69644 | Val Pearson WTC11: 0.71404 | Mean Val Pearson: 0.71785 |\n",
      "| Train Pearson HepG2: 0.81268 | Train Pearson K562: 0.78695 | Train Pearson WTC11: 0.79978 | Mean Train Pearson: 0.79980 |\n",
      "--------------------------------------------------------------------------------------------------------------------------\n",
      "\n"
     ]
    },
    {
     "data": {
      "application/vnd.jupyter.widget-view+json": {
       "model_id": "99be733cb5aa4cb2ac0e2fed35a1790d",
       "version_major": 2,
       "version_minor": 0
      },
      "text/plain": [
       "Validation: |          | 0/? [00:00<?, ?it/s]"
      ]
     },
     "metadata": {},
     "output_type": "display_data"
    },
    {
     "data": {
      "application/vnd.jupyter.widget-view+json": {
       "model_id": "a7a32986a46b4ff9ab951b91eef84df5",
       "version_major": 2,
       "version_minor": 0
      },
      "text/plain": [
       "Validation: |          | 0/? [00:00<?, ?it/s]"
      ]
     },
     "metadata": {},
     "output_type": "display_data"
    },
    {
     "data": {
      "application/vnd.jupyter.widget-view+json": {
       "model_id": "e6fff189092f4f9b90f8d26f94ee8abf",
       "version_major": 2,
       "version_minor": 0
      },
      "text/plain": [
       "Validation: |          | 0/? [00:00<?, ?it/s]"
      ]
     },
     "metadata": {},
     "output_type": "display_data"
    },
    {
     "data": {
      "application/vnd.jupyter.widget-view+json": {
       "model_id": "6bc8febaada84ddd978fc317143072d8",
       "version_major": 2,
       "version_minor": 0
      },
      "text/plain": [
       "Validation: |          | 0/? [00:00<?, ?it/s]"
      ]
     },
     "metadata": {},
     "output_type": "display_data"
    },
    {
     "data": {
      "application/vnd.jupyter.widget-view+json": {
       "model_id": "53dc7765c2ce403ca955d3e68fae23aa",
       "version_major": 2,
       "version_minor": 0
      },
      "text/plain": [
       "Validation: |          | 0/? [00:00<?, ?it/s]"
      ]
     },
     "metadata": {},
     "output_type": "display_data"
    },
    {
     "data": {
      "application/vnd.jupyter.widget-view+json": {
       "model_id": "2c3f6afae3424067be8eb7dc317b29c8",
       "version_major": 2,
       "version_minor": 0
      },
      "text/plain": [
       "Validation: |          | 0/? [00:00<?, ?it/s]"
      ]
     },
     "metadata": {},
     "output_type": "display_data"
    },
    {
     "data": {
      "application/vnd.jupyter.widget-view+json": {
       "model_id": "ec9eca58a0dc40cf9edea634532a8872",
       "version_major": 2,
       "version_minor": 0
      },
      "text/plain": [
       "Validation: |          | 0/? [00:00<?, ?it/s]"
      ]
     },
     "metadata": {},
     "output_type": "display_data"
    },
    {
     "data": {
      "application/vnd.jupyter.widget-view+json": {
       "model_id": "dda32e12fb214848aa517a196ea15fde",
       "version_major": 2,
       "version_minor": 0
      },
      "text/plain": [
       "Validation: |          | 0/? [00:00<?, ?it/s]"
      ]
     },
     "metadata": {},
     "output_type": "display_data"
    },
    {
     "data": {
      "application/vnd.jupyter.widget-view+json": {
       "model_id": "f95f0af47c354af7bf5b31269dcae257",
       "version_major": 2,
       "version_minor": 0
      },
      "text/plain": [
       "Validation: |          | 0/? [00:00<?, ?it/s]"
      ]
     },
     "metadata": {},
     "output_type": "display_data"
    },
    {
     "data": {
      "application/vnd.jupyter.widget-view+json": {
       "model_id": "fd8ee2a97386470b888837ffdfa727bc",
       "version_major": 2,
       "version_minor": 0
      },
      "text/plain": [
       "Validation: |          | 0/? [00:00<?, ?it/s]"
      ]
     },
     "metadata": {},
     "output_type": "display_data"
    },
    {
     "name": "stdout",
     "output_type": "stream",
     "text": [
      "\n",
      "--------------------------------------------------------------------------------------------------------------------------\n",
      "| Epoch: 29 | Val Loss: 0.41794 \n",
      "| Val Pearson HepG2: 0.78618 | Val Pearson K562: 0.73910 | Val Pearson WTC11: 0.76173 | Mean Val Pearson: 0.76234 |\n",
      "| Train Pearson HepG2: 0.90787 | Train Pearson K562: 0.89179 | Train Pearson WTC11: 0.89692 | Mean Train Pearson: 0.89886 |\n",
      "--------------------------------------------------------------------------------------------------------------------------\n",
      "\n"
     ]
    },
    {
     "data": {
      "application/vnd.jupyter.widget-view+json": {
       "model_id": "18b13f98e6024281a9ffdc34e47a2780",
       "version_major": 2,
       "version_minor": 0
      },
      "text/plain": [
       "Validation: |          | 0/? [00:00<?, ?it/s]"
      ]
     },
     "metadata": {},
     "output_type": "display_data"
    },
    {
     "data": {
      "application/vnd.jupyter.widget-view+json": {
       "model_id": "8857494894034f6a85cb7e253043be7c",
       "version_major": 2,
       "version_minor": 0
      },
      "text/plain": [
       "Validation: |          | 0/? [00:00<?, ?it/s]"
      ]
     },
     "metadata": {},
     "output_type": "display_data"
    },
    {
     "data": {
      "application/vnd.jupyter.widget-view+json": {
       "model_id": "71e0f8c15173422492b8fbdd67a0bb50",
       "version_major": 2,
       "version_minor": 0
      },
      "text/plain": [
       "Validation: |          | 0/? [00:00<?, ?it/s]"
      ]
     },
     "metadata": {},
     "output_type": "display_data"
    },
    {
     "data": {
      "application/vnd.jupyter.widget-view+json": {
       "model_id": "60df5d9da94c4dd789eed77595f3581c",
       "version_major": 2,
       "version_minor": 0
      },
      "text/plain": [
       "Validation: |          | 0/? [00:00<?, ?it/s]"
      ]
     },
     "metadata": {},
     "output_type": "display_data"
    },
    {
     "data": {
      "application/vnd.jupyter.widget-view+json": {
       "model_id": "ff29b3c34df74beb89f7c6059ef4a7eb",
       "version_major": 2,
       "version_minor": 0
      },
      "text/plain": [
       "Validation: |          | 0/? [00:00<?, ?it/s]"
      ]
     },
     "metadata": {},
     "output_type": "display_data"
    },
    {
     "name": "stderr",
     "output_type": "stream",
     "text": [
      "`Trainer.fit` stopped: `max_epochs=35` reached.\n"
     ]
    }
   ],
   "source": [
    "# Initialize a trainer\n",
    "trainer = L.Trainer(\n",
    "    accelerator=\"gpu\",\n",
    "    devices=[0],\n",
    "    max_epochs=35,\n",
    "    gradient_clip_val=1,\n",
    "    precision=\"16-mixed\",\n",
    "    enable_progress_bar=True,\n",
    "    num_sanity_val_steps=0,\n",
    ")\n",
    "\n",
    "# Train the model\n",
    "trainer.fit(seq_model, train_dataloaders=train_loader, val_dataloaders=val_loader)"
   ]
  },
  {
   "cell_type": "code",
   "execution_count": 18,
   "id": "05f76766-ddb1-4f89-8ec5-f9f79ff6d974",
   "metadata": {},
   "outputs": [
    {
     "name": "stderr",
     "output_type": "stream",
     "text": [
      "LOCAL_RANK: 0 - CUDA_VISIBLE_DEVICES: [0,1]\n"
     ]
    },
    {
     "data": {
      "application/vnd.jupyter.widget-view+json": {
       "model_id": "beb8e1c65e4141a4bc3782280d9b4825",
       "version_major": 2,
       "version_minor": 0
      },
      "text/plain": [
       "Predicting: |          | 0/? [00:00<?, ?it/s]"
      ]
     },
     "metadata": {},
     "output_type": "display_data"
    },
    {
     "name": "stderr",
     "output_type": "stream",
     "text": [
      "LOCAL_RANK: 0 - CUDA_VISIBLE_DEVICES: [0,1]\n"
     ]
    },
    {
     "data": {
      "application/vnd.jupyter.widget-view+json": {
       "model_id": "ee121f9f97a04f43bd009f6ca50b47d0",
       "version_major": 2,
       "version_minor": 0
      },
      "text/plain": [
       "Predicting: |          | 0/? [00:00<?, ?it/s]"
      ]
     },
     "metadata": {},
     "output_type": "display_data"
    },
    {
     "data": {
      "text/plain": [
       "tensor([0.7969, 0.7608, 0.7685])"
      ]
     },
     "execution_count": 18,
     "metadata": {},
     "output_type": "execute_result"
    }
   ],
   "source": [
    "from torchmetrics import PearsonCorrCoef\n",
    "\n",
    "predictions_forw = trainer.predict(seq_model, dataloaders=test_loader)\n",
    "targets = torch.cat([pred[\"target\"] for pred in predictions_forw])\n",
    "y_preds_forw = torch.cat([pred[\"predicted\"] for pred in predictions_forw])\n",
    "\n",
    "predictions_rev = trainer.predict(seq_model, dataloaders=test_loader_rev)\n",
    "y_preds_rev = torch.cat([pred[\"predicted\"] for pred in predictions_rev])\n",
    "\n",
    "mean_forw = torch.mean(torch.stack([y_preds_forw, y_preds_rev]), dim=0)\n",
    "pears = PearsonCorrCoef(num_outputs=out_channels)\n",
    "\n",
    "pears(mean_forw, targets)"
   ]
  },
  {
   "cell_type": "code",
   "execution_count": null,
   "id": "8ac471cd-8c7c-40cc-8a5e-6f3713b53f07",
   "metadata": {},
   "outputs": [],
   "source": []
  }
 ],
 "metadata": {
  "kernelspec": {
   "display_name": "mpramnist",
   "language": "python",
   "name": "python3"
  },
  "language_info": {
   "codemirror_mode": {
    "name": "ipython",
    "version": 3
   },
   "file_extension": ".py",
   "mimetype": "text/x-python",
   "name": "python",
   "nbconvert_exporter": "python",
   "pygments_lexer": "ipython3",
   "version": "3.12.7"
  }
 },
 "nbformat": 4,
 "nbformat_minor": 5
}
