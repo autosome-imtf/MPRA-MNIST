{
 "cells": [
  {
   "cell_type": "code",
   "execution_count": 1,
   "id": "4229e853-d3e5-4fcb-a5b5-b6a4895d3fd4",
   "metadata": {},
   "outputs": [],
   "source": [
    "import mpramnist\n",
    "from mpramnist.AgarwalJoint.dataset import AgarwalJointDataset\n",
    "\n",
    "from mpramnist.models import HumanLegNet\n",
    "from mpramnist.models import initialize_weights\n",
    "from mpramnist.trainers import LitModel_AgarwalJoint\n",
    "\n",
    "import mpramnist.transforms as t\n",
    "import mpramnist.target_transforms as t_t\n",
    "\n",
    "import torch\n",
    "import torch.nn as nn\n",
    "import torch.utils.data as data\n",
    "\n",
    "import lightning.pytorch as L"
   ]
  },
  {
   "cell_type": "code",
   "execution_count": 2,
   "id": "af4622b7-8276-4bd3-ad3d-fbeed1775a92",
   "metadata": {},
   "outputs": [],
   "source": [
    "BATCH_SIZE = 1024\n",
    "NUM_WORKERS = 103\n",
    "lr = 0.01"
   ]
  },
  {
   "cell_type": "code",
   "execution_count": 3,
   "id": "d05c61d7-1334-4a51-b595-ee5f091de62f",
   "metadata": {},
   "outputs": [],
   "source": [
    "constant_left_flank = (\n",
    "    AgarwalJointDataset.CONSTANT_LEFT_FLANK\n",
    ")  # required for each sequence\n",
    "constant_rigtht_flank = (\n",
    "    AgarwalJointDataset.CONSTANT_RIGHT_FLANK\n",
    ")  # required for each sequence\n",
    "left_flank = AgarwalJointDataset.LEFT_FLANK  # original flanks from human_legnet\n",
    "right_flank = AgarwalJointDataset.RIGHT_FLANK"
   ]
  },
  {
   "cell_type": "markdown",
   "id": "08a1a951-f9f4-4bfd-a8af-478915fe4f03",
   "metadata": {},
   "source": [
    "## First, we read the MPRAdata, preprocess them and encapsulate them into dataloader form."
   ]
  },
  {
   "cell_type": "code",
   "execution_count": 4,
   "id": "738d9114-4aca-4bcc-9c51-716a8573d29d",
   "metadata": {},
   "outputs": [],
   "source": [
    "# preprocessing\n",
    "train_transform = t.Compose(\n",
    "    [\n",
    "        t.AddFlanks(constant_left_flank, constant_rigtht_flank),\n",
    "        t.AddFlanks(\"\", right_flank),  # this is original parameters for human_legnet\n",
    "        t.RightCrop(230, 250),\n",
    "        t.RandomCrop(230),\n",
    "        t.ReverseComplement(0.5),\n",
    "        t.Seq2Tensor(),\n",
    "    ]\n",
    ")\n",
    "test_transform = t.Compose(\n",
    "    [  # трансформы теста слегка другие\n",
    "        t.AddFlanks(constant_left_flank, constant_rigtht_flank),\n",
    "        t.Seq2Tensor(),\n",
    "    ]\n",
    ")\n",
    "test_transform_reversed = t.Compose(\n",
    "    [\n",
    "        t.AddFlanks(constant_left_flank, constant_rigtht_flank),\n",
    "        t.ReverseComplement(1),\n",
    "        t.Seq2Tensor(),\n",
    "    ]\n",
    ")\n",
    "\n",
    "activity_columns = [\"HepG2\", \"K562\", \"WTC11\"]\n",
    "\n",
    "# load the data\n",
    "train_dataset = AgarwalJointDataset(\n",
    "    cell_type=activity_columns,\n",
    "    split=\"train\",\n",
    "    transform=train_transform,\n",
    "    root=\"../data/\",\n",
    ")  # could use a list e.g. [1,2,5,6,7,8]                                                                                             # for needed folds\n",
    "val_dataset = AgarwalJointDataset(\n",
    "    cell_type=activity_columns, split=\"val\", transform=test_transform, root=\"../data/\"\n",
    ")  # use \"val\" for default validation set\n",
    "\n",
    "test_dataset = AgarwalJointDataset(\n",
    "    cell_type=activity_columns, split=\"test\", transform=test_transform, root=\"../data/\"\n",
    ")  # use \"test\" for default test set\n",
    "\n",
    "# reversed test sequences\n",
    "test_dataset_rev = AgarwalJointDataset(\n",
    "    cell_type=activity_columns,\n",
    "    split=\"test\",\n",
    "    transform=test_transform_reversed,\n",
    "    root=\"../data/\",\n",
    ")\n",
    "\n",
    "# encapsulate data into dataloader form\n",
    "train_loader = data.DataLoader(\n",
    "    dataset=train_dataset, batch_size=BATCH_SIZE, shuffle=True, num_workers=NUM_WORKERS\n",
    ")\n",
    "val_loader = data.DataLoader(\n",
    "    dataset=val_dataset, batch_size=BATCH_SIZE, shuffle=False, num_workers=NUM_WORKERS\n",
    ")\n",
    "\n",
    "test_loader = data.DataLoader(\n",
    "    dataset=test_dataset, batch_size=BATCH_SIZE, shuffle=False, num_workers=NUM_WORKERS\n",
    ")\n",
    "\n",
    "# reversed test sequences loader\n",
    "test_loader_rev = data.DataLoader(\n",
    "    dataset=test_dataset_rev,\n",
    "    batch_size=BATCH_SIZE,\n",
    "    shuffle=False,\n",
    "    num_workers=NUM_WORKERS,\n",
    ")"
   ]
  },
  {
   "cell_type": "code",
   "execution_count": 5,
   "id": "7afc1cd2-8359-4124-ac99-9a407bcb4600",
   "metadata": {},
   "outputs": [
    {
     "name": "stdout",
     "output_type": "stream",
     "text": [
      "Dataset AgarwalJointDataset of size 44264 (MpraDaraset)\n",
      "    Number of datapoints: 44264\n",
      "    Used split fold: [1, 2, 3, 4, 5, 6, 7, 8]\n",
      "===================\n",
      "Dataset AgarwalJointDataset of size 5541 (MpraDaraset)\n",
      "    Number of datapoints: 5541\n",
      "    Used split fold: [10]\n"
     ]
    }
   ],
   "source": [
    "print(train_dataset)\n",
    "print(\"===================\")\n",
    "print(test_dataset)"
   ]
  },
  {
   "cell_type": "code",
   "execution_count": 6,
   "id": "f63cc026-fa70-4838-bc2b-70134901ecce",
   "metadata": {},
   "outputs": [],
   "source": [
    "in_channels = len(train_dataset[0][0])\n",
    "out_channels = len(activity_columns)"
   ]
  },
  {
   "cell_type": "code",
   "execution_count": 7,
   "id": "989071fa-3384-428c-ae74-697c08d27069",
   "metadata": {},
   "outputs": [],
   "source": [
    "model = HumanLegNet(\n",
    "    in_ch=in_channels,\n",
    "    output_dim=out_channels,\n",
    "    stem_ch=64,\n",
    "    stem_ks=11,\n",
    "    ef_ks=9,\n",
    "    ef_block_sizes=[80, 96, 112, 128],\n",
    "    pool_sizes=[2, 2, 2, 2],\n",
    "    resize_factor=4,\n",
    ")\n",
    "model.apply(initialize_weights)\n",
    "\n",
    "seq_model = LitModel_AgarwalJoint(\n",
    "    model=model,\n",
    "    num_outputs=out_channels,\n",
    "    loss=nn.MSELoss(),\n",
    "    weight_decay=1e-1,\n",
    "    lr=1e-2,\n",
    "    print_each=10,\n",
    ")"
   ]
  },
  {
   "cell_type": "code",
   "execution_count": 8,
   "id": "aa981857-0925-47ac-8ef9-29756e20d50f",
   "metadata": {},
   "outputs": [
    {
     "name": "stderr",
     "output_type": "stream",
     "text": [
      "Using 16bit Automatic Mixed Precision (AMP)\n",
      "💡 Tip: For seamless cloud uploads and versioning, try installing [litmodels](https://pypi.org/project/litmodels/) to enable LitModelCheckpoint, which syncs automatically with the Lightning model registry.\n",
      "GPU available: True (cuda), used: True\n",
      "TPU available: False, using: 0 TPU cores\n",
      "HPU available: False, using: 0 HPUs\n",
      "You are using a CUDA device ('NVIDIA GeForce RTX 3090') that has Tensor Cores. To properly utilize them, you should set `torch.set_float32_matmul_precision('medium' | 'high')` which will trade-off precision for performance. For more details, read https://pytorch.org/docs/stable/generated/torch.set_float32_matmul_precision.html#torch.set_float32_matmul_precision\n",
      "LOCAL_RANK: 0 - CUDA_VISIBLE_DEVICES: [0,1]\n",
      "Loading `train_dataloader` to estimate number of stepping batches.\n",
      "/home/nios/miniconda3/envs/mpramnist/lib/python3.12/site-packages/lightning/pytorch/loops/fit_loop.py:310: The number of training batches (44) is smaller than the logging interval Trainer(log_every_n_steps=50). Set a lower value for log_every_n_steps if you want to see logs for the training epoch.\n",
      "\n",
      "  | Name          | Type            | Params | Mode \n",
      "----------------------------------------------------------\n",
      "0 | model         | HumanLegNet     | 1.3 M  | train\n",
      "1 | loss          | MSELoss         | 0      | train\n",
      "2 | train_pearson | PearsonCorrCoef | 0      | train\n",
      "3 | val_pearson   | PearsonCorrCoef | 0      | train\n",
      "4 | test_pearson  | PearsonCorrCoef | 0      | train\n",
      "----------------------------------------------------------\n",
      "1.3 M     Trainable params\n",
      "0         Non-trainable params\n",
      "1.3 M     Total params\n",
      "5.292     Total estimated model params size (MB)\n",
      "120       Modules in train mode\n",
      "0         Modules in eval mode\n"
     ]
    },
    {
     "data": {
      "application/vnd.jupyter.widget-view+json": {
       "model_id": "7fcb9216bf0d4ec2aafe96f420f8e884",
       "version_major": 2,
       "version_minor": 0
      },
      "text/plain": [
       "Training: |                                                                                       | 0/? [00:00…"
      ]
     },
     "metadata": {},
     "output_type": "display_data"
    },
    {
     "data": {
      "application/vnd.jupyter.widget-view+json": {
       "model_id": "",
       "version_major": 2,
       "version_minor": 0
      },
      "text/plain": [
       "Validation: |                                                                                     | 0/? [00:00…"
      ]
     },
     "metadata": {},
     "output_type": "display_data"
    },
    {
     "data": {
      "application/vnd.jupyter.widget-view+json": {
       "model_id": "",
       "version_major": 2,
       "version_minor": 0
      },
      "text/plain": [
       "Validation: |                                                                                     | 0/? [00:00…"
      ]
     },
     "metadata": {},
     "output_type": "display_data"
    },
    {
     "name": "stderr",
     "output_type": "stream",
     "text": [
      "`Trainer.fit` stopped: `max_epochs=2` reached.\n"
     ]
    }
   ],
   "source": [
    "# Initialize a trainer\n",
    "trainer = L.Trainer(\n",
    "    accelerator=\"gpu\",\n",
    "    devices=[0],\n",
    "    max_epochs=50,\n",
    "    gradient_clip_val=1,\n",
    "    precision=\"16-mixed\",\n",
    "    enable_progress_bar=True,\n",
    "    num_sanity_val_steps=0,\n",
    ")\n",
    "\n",
    "# Train the model\n",
    "trainer.fit(seq_model, train_dataloaders=train_loader, val_dataloaders=val_loader)"
   ]
  },
  {
   "cell_type": "code",
   "execution_count": 9,
   "id": "05f76766-ddb1-4f89-8ec5-f9f79ff6d974",
   "metadata": {},
   "outputs": [
    {
     "name": "stderr",
     "output_type": "stream",
     "text": [
      "LOCAL_RANK: 0 - CUDA_VISIBLE_DEVICES: [0,1]\n"
     ]
    },
    {
     "data": {
      "application/vnd.jupyter.widget-view+json": {
       "model_id": "8a33bd3d22eb473a9964cd2e8fd053db",
       "version_major": 2,
       "version_minor": 0
      },
      "text/plain": [
       "Predicting: |                                                                                     | 0/? [00:00…"
      ]
     },
     "metadata": {},
     "output_type": "display_data"
    },
    {
     "name": "stderr",
     "output_type": "stream",
     "text": [
      "LOCAL_RANK: 0 - CUDA_VISIBLE_DEVICES: [0,1]\n"
     ]
    },
    {
     "data": {
      "application/vnd.jupyter.widget-view+json": {
       "model_id": "7c45c3e3ad734994ba186b4235f743cc",
       "version_major": 2,
       "version_minor": 0
      },
      "text/plain": [
       "Predicting: |                                                                                     | 0/? [00:00…"
      ]
     },
     "metadata": {},
     "output_type": "display_data"
    },
    {
     "data": {
      "text/plain": [
       "tensor([0.6269, 0.5636, 0.5804])"
      ]
     },
     "execution_count": 9,
     "metadata": {},
     "output_type": "execute_result"
    }
   ],
   "source": [
    "from torchmetrics import PearsonCorrCoef\n",
    "\n",
    "predictions_forw = trainer.predict(seq_model, dataloaders=test_loader)\n",
    "targets = torch.cat([pred[\"target\"] for pred in predictions_forw])\n",
    "y_preds_forw = torch.cat([pred[\"predicted\"] for pred in predictions_forw])\n",
    "\n",
    "predictions_rev = trainer.predict(seq_model, dataloaders=test_loader_rev)\n",
    "y_preds_rev = torch.cat([pred[\"predicted\"] for pred in predictions_rev])\n",
    "\n",
    "mean_forw = torch.mean(torch.stack([y_preds_forw, y_preds_rev]), dim=0)\n",
    "pears = PearsonCorrCoef(num_outputs=out_channels)\n",
    "\n",
    "pears(mean_forw, targets)"
   ]
  },
  {
   "cell_type": "code",
   "execution_count": null,
   "id": "8ac471cd-8c7c-40cc-8a5e-6f3713b53f07",
   "metadata": {},
   "outputs": [],
   "source": []
  }
 ],
 "metadata": {
  "kernelspec": {
   "display_name": "Python [conda env:mpramnist]",
   "language": "python",
   "name": "conda-env-mpramnist-py"
  },
  "language_info": {
   "codemirror_mode": {
    "name": "ipython",
    "version": 3
   },
   "file_extension": ".py",
   "mimetype": "text/x-python",
   "name": "python",
   "nbconvert_exporter": "python",
   "pygments_lexer": "ipython3",
   "version": "3.12.7"
  }
 },
 "nbformat": 4,
 "nbformat_minor": 5
}
