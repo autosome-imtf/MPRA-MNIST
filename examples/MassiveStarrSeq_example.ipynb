{
 "cells": [
  {
   "cell_type": "code",
   "execution_count": 1,
   "id": "5754da7f-c360-499e-be3c-8d7df299775f",
   "metadata": {},
   "outputs": [],
   "source": [
    "import mpramnist\n",
    "from mpramnist.massivestarrdataset import MassiveStarrDataset\n",
    "from mpramnist import transforms as t\n",
    "from mpramnist import target_transforms as t_t\n",
    "\n",
    "import numpy as np\n",
    "import torch\n",
    "import torch.nn as nn\n",
    "import torch.optim as optim\n",
    "import torch.utils.data as data"
   ]
  },
  {
   "cell_type": "code",
   "execution_count": 9,
   "id": "b7fc96a6-928c-47bc-87f4-2f8316705d6f",
   "metadata": {},
   "outputs": [],
   "source": [
    "class Simple_Net(nn.Module):\n",
    "    \n",
    "    def __init__(self, seq_len, block_sizes=[16, 24, 32, 40, 48], kernel_size=3):\n",
    "        \n",
    "        super().__init__()\n",
    "        self.seq_len = seq_len\n",
    "        out_ch = 64\n",
    "        nn_blocks = []\n",
    "      \n",
    "        for in_bs, out_bs in zip([4] + block_sizes, block_sizes):\n",
    "            \n",
    "            block = nn.Sequential(\n",
    "                nn.Conv1d(in_bs, out_bs, kernel_size=kernel_size, padding=kernel_size // 2), # Padding для сохранения размера\n",
    "                nn.SiLU(),\n",
    "                nn.BatchNorm1d(out_bs)\n",
    "            )\n",
    "            nn_blocks.append(block)\n",
    "\n",
    "        final_feature_size = seq_len  # Размер последовательности остаётся неизменным из-за padding\n",
    "        \n",
    "        self.conv_net = nn.Sequential(\n",
    "            *nn_blocks,\n",
    "            nn.Flatten(),\n",
    "            nn.Linear(block_sizes[-1] * final_feature_size, out_ch),\n",
    "            nn.SiLU(),\n",
    "        )\n",
    "        \n",
    "        self.head = nn.Sequential(nn.Linear(out_ch, out_ch),\n",
    "                                  nn.SiLU(),\n",
    "                                   nn.BatchNorm1d(out_ch),\n",
    "                                   nn.Linear(out_ch, 1))\n",
    "        \n",
    "        self.output_activation = nn.Sigmoid().cuda()\n",
    "\n",
    "    def forward(self, x):\n",
    "        \n",
    "        out = self.conv_net(x)\n",
    "        out = self.head(out)\n",
    "        \n",
    "        #return self.output_activation(out)\n",
    "        return out"
   ]
  },
  {
   "cell_type": "code",
   "execution_count": 10,
   "id": "175e2b76-ed9d-4ab5-ac8f-b197f3cb2f7e",
   "metadata": {},
   "outputs": [],
   "source": [
    "import pytorch_lightning as L\n",
    "from pytorch_lightning import loggers as pl_loggers\n",
    "from torch.cuda.amp import autocast\n",
    "from torch.nn import functional as F\n",
    "class Seq1Model(L.LightningModule):\n",
    "    \n",
    "    def __init__(self, seq_len, lr=3e-4):\n",
    "        super().__init__()\n",
    "        self.model = Simple_Net(seq_len)\n",
    "        self.loss = torch.nn.BCEWithLogitsLoss().cuda()\n",
    "        self.lr = lr\n",
    "        self.val_loss = []\n",
    "        \n",
    "    def forward(self, x):\n",
    "        return self.model(x)\n",
    "\n",
    "    def training_step(self, batch, batch_nb):\n",
    "        X, y = batch\n",
    "        y_hat = self.model(X).squeeze().cuda()\n",
    "        y = y.cuda()\n",
    "        loss = self.loss(y_hat, y)\n",
    "        self.log(\"train_loss\", loss, prog_bar=True,  on_step=True, on_epoch=True, logger = True)\n",
    "        \n",
    "        lr = self.optimizers().param_groups[0]['lr']  # Get current learning rate\n",
    "        self.log('learning_rate', lr, on_step=True, on_epoch=True, prog_bar=True, logger=True)\n",
    "        \n",
    "        return loss\n",
    "        \n",
    "    def validation_step(self, batch, batch_idx):\n",
    "        x, y = batch\n",
    "        y_hat = self.model(x).squeeze().cuda()\n",
    "        y = y.cuda()\n",
    "        loss = self.loss(y_hat, y)\n",
    "        \n",
    "        self.log('val_loss', loss, on_step=False, on_epoch=True, prog_bar=True)\n",
    "        self.val_loss.append(loss)\n",
    "        \n",
    "    def on_validation_epoch_end(self):\n",
    "\n",
    "        val_loss = torch.stack(self.val_loss, dim = 0).mean()\n",
    "        \n",
    "        res_str = '|' + ' {}: {:.5f} |'.format(\"current_epoch\", self.current_epoch) \n",
    "        res_str += ' {}: {:.5f} |'.format(\"val_loss\", val_loss)\n",
    "        border = '-'*len(res_str)\n",
    "        print(\"\\n\".join(['',border, res_str, border,'']))\n",
    "        self.val_loss.clear()\n",
    "        return None\n",
    "        \n",
    "    def test_step(self, batch, _):\n",
    "        x, y = batch\n",
    "        y_hat = self.model(x).squeeze()\n",
    "        loss = self.loss(y_hat, y)\n",
    "        \n",
    "        self.log('test_loss', \n",
    "                 loss, \n",
    "                 prog_bar=True, \n",
    "                 on_step=False,\n",
    "                 on_epoch=True)\n",
    "        \n",
    "    def predict_step(self, batch, batch_idx, dataloader_idx=0):\n",
    "        if isinstance(batch, tuple) or isinstance(batch, list):\n",
    "            x, _ = batch\n",
    "        else:\n",
    "            x = batch\n",
    "        return self(x)\n",
    "\n",
    "    def configure_optimizers(self):\n",
    "        \n",
    "        self.optimizer = torch.optim.AdamW(self.parameters(),\n",
    "                                               lr=self.lr,\n",
    "                                               weight_decay = 0.01)\n",
    "        \n",
    "        lr_scheduler = torch.optim.lr_scheduler.OneCycleLR(self.optimizer, # type: ignore\n",
    "                                                        max_lr=self.lr,\n",
    "                                                        three_phase=False, \n",
    "                                                        total_steps=self.trainer.estimated_stepping_batches, # type: ignore\n",
    "                                                        pct_start=0.3,\n",
    "                                                        cycle_momentum =False)\n",
    "        lr_scheduler_config = {\n",
    "                    \"scheduler\": lr_scheduler,\n",
    "                    \"interval\": \"step\",\n",
    "                    \"frequency\": 1,\n",
    "                    \"name\": \"cycle_lr\"\n",
    "            }\n",
    "            \n",
    "        return [self.optimizer], [lr_scheduler_config]"
   ]
  },
  {
   "cell_type": "code",
   "execution_count": 29,
   "id": "c5ad8c53-68e2-48af-89a9-b2b540f490d9",
   "metadata": {},
   "outputs": [],
   "source": [
    "import sklearn\n",
    "from sklearn.metrics import precision_score, recall_score, precision_recall_curve, auc\n",
    "import matplotlib.pyplot as plt\n",
    "def plotting_PR_AUC(seq_model, loader):\n",
    "    act = nn.Sigmoid()\n",
    "    #get predicted values\n",
    "    y_preds = trainer.predict(seq_model, dataloaders=loader)\n",
    "    y_preds = torch.concat(y_preds).cpu().numpy()\n",
    "    y_preds = torch.tensor(y_preds).squeeze()\n",
    "    #get target values\n",
    "    targets = []\n",
    "    for i, batch in enumerate(loader):\n",
    "        x, y = batch\n",
    "        targets.append(y)\n",
    "    targets = torch.tensor(torch.concat(targets).cpu().numpy())\n",
    "    y_preds = act(y_preds)\n",
    "    \n",
    "    threshold = 0.5  # Пример порога\n",
    "    y_true = targets.numpy()\n",
    "    y_pred = (y_preds.numpy() >= threshold).astype(int)\n",
    "    y_scores = y_preds.numpy()\n",
    "    \n",
    "    precision = precision_score(y_true, y_pred)\n",
    "    recall = recall_score(y_true, y_pred)\n",
    "    \n",
    "    print(f\"Precision (при пороге {threshold}): {precision:.2f}\")\n",
    "    print(f\"Recall (при пороге {threshold}): {recall:.2f}\")\n",
    "    \n",
    "    # 2. Построение PR-кривой\n",
    "    precision_vals, recall_vals, thresholds = precision_recall_curve(y_true, y_scores)\n",
    "    \n",
    "    # Вычисление PR-AUC\n",
    "    pr_auc = auc(recall_vals, precision_vals)\n",
    "    \n",
    "    print(f\"PR-AUC: {pr_auc:.2f}\")\n",
    "    \n",
    "    # 3. Построение графика PR-кривой\n",
    "    plt.figure(figsize=(4,3))\n",
    "    plt.plot(recall_vals, precision_vals, label=f'PR Curve (AUC = {pr_auc:.2f})', linewidth=2)\n",
    "    plt.xlabel('Recall', fontsize=6)\n",
    "    plt.ylabel('Precision', fontsize=6)\n",
    "    plt.title('Precision-Recall Curve', fontsize=7)\n",
    "    plt.legend(loc='best')\n",
    "    plt.grid(True)\n",
    "    plt.show()"
   ]
  },
  {
   "cell_type": "markdown",
   "id": "0ca78d4a-0c52-4be6-a469-993b986c6de5",
   "metadata": {},
   "source": [
    "# Tasks"
   ]
  },
  {
   "cell_type": "code",
   "execution_count": 27,
   "id": "2ca0b33b-52f6-4294-97dc-b915e818a29c",
   "metadata": {},
   "outputs": [],
   "source": [
    " tasks = [\"RandomEnhancer\",\n",
    "          \"GenomeEnhancer\",\n",
    "          \"GenomePromoter\",\n",
    "          \"differentialExpression\",\n",
    "          \"CapturePromoter\", \n",
    "          \"AtacSeq\",\n",
    "          \"Binary\"]"
   ]
  },
  {
   "cell_type": "markdown",
   "id": "4a485838-9e97-4efe-82a4-cb5f37aeef7a",
   "metadata": {},
   "source": [
    "# Promoter capture"
   ]
  },
  {
   "cell_type": "code",
   "execution_count": null,
   "id": "4b4262d8-a8d0-4e76-b142-898295a5864d",
   "metadata": {},
   "outputs": [],
   "source": [
    "BATCH_SIZE = 512\n",
    "NUM_WORKERS = 103\n",
    "train_transform = t.Compose([\n",
    "    t.Seq2Tensor()\n",
    "])\n",
    "val_test_transform = t.Compose([\n",
    "    t.Seq2Tensor()\n",
    "])\n",
    "task = \"CapturePromoter\"\n",
    "train_dataset = MassiveStarrDataset(task = task, split = \"train\",transform = train_transform)\n",
    "\n",
    "val_dataset = MassiveStarrDataset(task = task, split = \"val\",transform = val_test_transform) \n",
    "\n",
    "test_dataset = MassiveStarrDataset(task = task, split = \"test\", transform = val_test_transform)\n",
    "\n",
    "# encapsulate data into dataloader form\n",
    "train_loader = data.DataLoader(dataset=train_dataset, batch_size=BATCH_SIZE, shuffle=True, num_workers = NUM_WORKERS)\n",
    "val_loader = data.DataLoader(dataset=val_dataset, batch_size=BATCH_SIZE, shuffle=False, num_workers = NUM_WORKERS)\n",
    "test_loader = data.DataLoader(dataset=test_dataset, batch_size=BATCH_SIZE, shuffle=False, num_workers = NUM_WORKERS)"
   ]
  },
  {
   "cell_type": "code",
   "execution_count": 23,
   "id": "927b2480-1640-4ed2-b067-28bf3f0cf972",
   "metadata": {
    "collapsed": true,
    "jupyter": {
     "outputs_hidden": true
    }
   },
   "outputs": [
    {
     "name": "stderr",
     "output_type": "stream",
     "text": [
      "Using 16bit Automatic Mixed Precision (AMP)\n",
      "GPU available: True (cuda), used: True\n",
      "TPU available: False, using: 0 TPU cores\n",
      "HPU available: False, using: 0 HPUs\n",
      "LOCAL_RANK: 0 - CUDA_VISIBLE_DEVICES: [0,1]\n",
      "Loading `train_dataloader` to estimate number of stepping batches.\n",
      "\n",
      "  | Name  | Type              | Params | Mode \n",
      "----------------------------------------------------\n",
      "0 | model | Simple_Net        | 386 K  | train\n",
      "1 | loss  | BCEWithLogitsLoss | 0      | train\n",
      "----------------------------------------------------\n",
      "386 K     Trainable params\n",
      "0         Non-trainable params\n",
      "386 K     Total params\n",
      "1.547     Total estimated model params size (MB)\n",
      "32        Modules in train mode\n",
      "0         Modules in eval mode\n"
     ]
    },
    {
     "name": "stdout",
     "output_type": "stream",
     "text": [
      "\n",
      "----------------------------------------------\n",
      "| current_epoch: 0.00000 | val_loss: 0.74757 |\n",
      "----------------------------------------------\n",
      "\n",
      "\n",
      "----------------------------------------------\n",
      "| current_epoch: 0.00000 | val_loss: 0.46338 |\n",
      "----------------------------------------------\n",
      "\n",
      "\n",
      "----------------------------------------------\n",
      "| current_epoch: 1.00000 | val_loss: 0.38620 |\n",
      "----------------------------------------------\n",
      "\n",
      "\n",
      "----------------------------------------------\n",
      "| current_epoch: 2.00000 | val_loss: 0.38771 |\n",
      "----------------------------------------------\n",
      "\n",
      "\n",
      "----------------------------------------------\n",
      "| current_epoch: 3.00000 | val_loss: 0.36657 |\n",
      "----------------------------------------------\n",
      "\n",
      "\n",
      "----------------------------------------------\n",
      "| current_epoch: 4.00000 | val_loss: 0.39604 |\n",
      "----------------------------------------------\n",
      "\n",
      "\n",
      "----------------------------------------------\n",
      "| current_epoch: 5.00000 | val_loss: 0.44249 |\n",
      "----------------------------------------------\n",
      "\n",
      "\n",
      "----------------------------------------------\n",
      "| current_epoch: 6.00000 | val_loss: 0.47434 |\n",
      "----------------------------------------------\n",
      "\n",
      "\n",
      "----------------------------------------------\n",
      "| current_epoch: 7.00000 | val_loss: 0.50683 |\n",
      "----------------------------------------------\n",
      "\n",
      "\n",
      "----------------------------------------------\n",
      "| current_epoch: 8.00000 | val_loss: 0.76347 |\n",
      "----------------------------------------------\n",
      "\n",
      "\n",
      "----------------------------------------------\n",
      "| current_epoch: 9.00000 | val_loss: 0.86615 |\n",
      "----------------------------------------------\n",
      "\n",
      "\n",
      "-----------------------------------------------\n",
      "| current_epoch: 10.00000 | val_loss: 1.01802 |\n",
      "-----------------------------------------------\n",
      "\n",
      "\n",
      "-----------------------------------------------\n",
      "| current_epoch: 11.00000 | val_loss: 1.08005 |\n",
      "-----------------------------------------------\n",
      "\n",
      "\n",
      "-----------------------------------------------\n",
      "| current_epoch: 12.00000 | val_loss: 1.10340 |\n",
      "-----------------------------------------------\n",
      "\n",
      "\n",
      "-----------------------------------------------\n",
      "| current_epoch: 13.00000 | val_loss: 1.12571 |\n",
      "-----------------------------------------------\n",
      "\n"
     ]
    },
    {
     "name": "stderr",
     "output_type": "stream",
     "text": [
      "`Trainer.fit` stopped: `max_epochs=15` reached.\n"
     ]
    },
    {
     "name": "stdout",
     "output_type": "stream",
     "text": [
      "\n",
      "-----------------------------------------------\n",
      "| current_epoch: 14.00000 | val_loss: 1.12735 |\n",
      "-----------------------------------------------\n",
      "\n"
     ]
    }
   ],
   "source": [
    "seq_model = Seq1Model(seq_len=len(train_dataset[0][0][0]), lr = 0.01)\n",
    "\n",
    "# Initialize a trainer\n",
    "trainer = L.Trainer(\n",
    "    accelerator=\"gpu\",\n",
    "    devices=[0],\n",
    "    max_epochs=5,\n",
    "    gradient_clip_val=1,\n",
    "    precision='16-mixed', \n",
    "    enable_progress_bar = False,\n",
    "    #callbacks=[TQDMProgressBar(refresh_rate=55)]\n",
    "    #logger = logger\n",
    ")\n",
    "\n",
    "# Train the model\n",
    "trainer.fit(seq_model,\n",
    "            train_dataloaders=train_loader,\n",
    "            val_dataloaders=val_loader)"
   ]
  },
  {
   "cell_type": "code",
   "execution_count": 30,
   "id": "fba55eab-85e6-4303-9c6b-38bb8afa24a3",
   "metadata": {},
   "outputs": [
    {
     "name": "stderr",
     "output_type": "stream",
     "text": [
      "LOCAL_RANK: 0 - CUDA_VISIBLE_DEVICES: [0,1]\n"
     ]
    },
    {
     "name": "stdout",
     "output_type": "stream",
     "text": [
      "Precision (при пороге 0.5): 0.83\n",
      "Recall (при пороге 0.5): 0.82\n",
      "PR-AUC: 0.90\n"
     ]
    },
    {
     "data": {
      "image/png": "[encoded data removed]",
      "text/plain": [
       "<Figure size 400x300 with 1 Axes>"
      ]
     },
     "metadata": {},
     "output_type": "display_data"
    }
   ],
   "source": [
    "plotting_PR_AUC(seq_model, test_loader)"
   ]
  },
  {
   "cell_type": "markdown",
   "id": "edacab3d-b29e-4c79-b26a-f15664dda872",
   "metadata": {},
   "source": [
    "# ATACseq"
   ]
  },
  {
   "cell_type": "code",
   "execution_count": 36,
   "id": "c04435b0-1f92-4427-989f-14c7e5e65eab",
   "metadata": {},
   "outputs": [],
   "source": [
    "BATCH_SIZE = 2048\n",
    "NUM_WORKERS = 103\n",
    "train_transform = t.Compose([\n",
    "    t.Seq2Tensor()\n",
    "])\n",
    "val_test_transform = t.Compose([\n",
    "    t.Seq2Tensor()\n",
    "])\n",
    "task = \"atacseq\"\n",
    "train_dataset = MassiveStarrDataset(task = task, split = \"train\",transform = train_transform)\n",
    "\n",
    "val_dataset = MassiveStarrDataset(task = task, split = \"val\",transform = val_test_transform) \n",
    "\n",
    "test_dataset = MassiveStarrDataset(task = task, split = \"test\", transform = val_test_transform)\n",
    "\n",
    "# encapsulate data into dataloader form\n",
    "train_loader = data.DataLoader(dataset=train_dataset, batch_size=BATCH_SIZE, shuffle=True, num_workers = NUM_WORKERS)\n",
    "val_loader = data.DataLoader(dataset=val_dataset, batch_size=BATCH_SIZE, shuffle=False, num_workers = NUM_WORKERS)\n",
    "test_loader = data.DataLoader(dataset=test_dataset, batch_size=BATCH_SIZE, shuffle=False, num_workers = NUM_WORKERS)"
   ]
  },
  {
   "cell_type": "code",
   "execution_count": 37,
   "id": "95c60215-76a5-4b23-affa-0e4f606c221a",
   "metadata": {},
   "outputs": [
    {
     "name": "stderr",
     "output_type": "stream",
     "text": [
      "Using 16bit Automatic Mixed Precision (AMP)\n",
      "GPU available: True (cuda), used: True\n",
      "TPU available: False, using: 0 TPU cores\n",
      "HPU available: False, using: 0 HPUs\n",
      "LOCAL_RANK: 0 - CUDA_VISIBLE_DEVICES: [0,1]\n",
      "Loading `train_dataloader` to estimate number of stepping batches.\n",
      "\n",
      "  | Name  | Type              | Params | Mode \n",
      "----------------------------------------------------\n",
      "0 | model | Simple_Net        | 540 K  | train\n",
      "1 | loss  | BCEWithLogitsLoss | 0      | train\n",
      "----------------------------------------------------\n",
      "540 K     Trainable params\n",
      "0         Non-trainable params\n",
      "540 K     Total params\n",
      "2.162     Total estimated model params size (MB)\n",
      "32        Modules in train mode\n",
      "0         Modules in eval mode\n"
     ]
    },
    {
     "name": "stdout",
     "output_type": "stream",
     "text": [
      "\n",
      "----------------------------------------------\n",
      "| current_epoch: 0.00000 | val_loss: 0.72036 |\n",
      "----------------------------------------------\n",
      "\n",
      "\n",
      "----------------------------------------------\n",
      "| current_epoch: 0.00000 | val_loss: 0.39401 |\n",
      "----------------------------------------------\n",
      "\n",
      "\n",
      "----------------------------------------------\n",
      "| current_epoch: 1.00000 | val_loss: 0.38693 |\n",
      "----------------------------------------------\n",
      "\n",
      "\n",
      "----------------------------------------------\n",
      "| current_epoch: 2.00000 | val_loss: 0.37577 |\n",
      "----------------------------------------------\n",
      "\n",
      "\n",
      "----------------------------------------------\n",
      "| current_epoch: 3.00000 | val_loss: 0.37593 |\n",
      "----------------------------------------------\n",
      "\n"
     ]
    },
    {
     "name": "stderr",
     "output_type": "stream",
     "text": [
      "`Trainer.fit` stopped: `max_epochs=5` reached.\n"
     ]
    },
    {
     "name": "stdout",
     "output_type": "stream",
     "text": [
      "\n",
      "----------------------------------------------\n",
      "| current_epoch: 4.00000 | val_loss: 0.38308 |\n",
      "----------------------------------------------\n",
      "\n"
     ]
    }
   ],
   "source": [
    "seq_model = Seq1Model(seq_len=len(train_dataset[0][0][0]), lr = 0.01)\n",
    "\n",
    "# Initialize a trainer\n",
    "trainer = L.Trainer(\n",
    "    accelerator=\"gpu\",\n",
    "    devices=[0],\n",
    "    max_epochs=5,\n",
    "    gradient_clip_val=1,\n",
    "    precision='16-mixed', \n",
    "    enable_progress_bar = False,\n",
    "    #callbacks=[TQDMProgressBar(refresh_rate=55)]\n",
    "    #logger = logger\n",
    ")\n",
    "\n",
    "# Train the model\n",
    "trainer.fit(seq_model,\n",
    "            train_dataloaders=train_loader,\n",
    "            val_dataloaders=val_loader)"
   ]
  },
  {
   "cell_type": "code",
   "execution_count": 38,
   "id": "f17b6506-b9e1-4864-96d2-74903a5d2ca4",
   "metadata": {},
   "outputs": [
    {
     "name": "stderr",
     "output_type": "stream",
     "text": [
      "LOCAL_RANK: 0 - CUDA_VISIBLE_DEVICES: [0,1]\n"
     ]
    },
    {
     "name": "stdout",
     "output_type": "stream",
     "text": [
      "Precision (при пороге 0.5): 0.86\n",
      "Recall (при пороге 0.5): 0.73\n",
      "PR-AUC: 0.90\n"
     ]
    },
    {
     "data": {
      "image/png": "[encoded data removed]",
      "text/plain": [
       "<Figure size 400x300 with 1 Axes>"
      ]
     },
     "metadata": {},
     "output_type": "display_data"
    }
   ],
   "source": [
    "plotting_PR_AUC(seq_model, test_loader)"
   ]
  },
  {
   "cell_type": "code",
   "execution_count": 42,
   "id": "1c2dcc49-003e-4595-acbc-4a50d5b3e526",
   "metadata": {},
   "outputs": [
    {
     "name": "stderr",
     "output_type": "stream",
     "text": [
      "LOCAL_RANK: 0 - CUDA_VISIBLE_DEVICES: [0,1]\n"
     ]
    }
   ],
   "source": [
    "act = nn.Sigmoid()\n",
    "    #get predicted values\n",
    "y_preds = trainer.predict(seq_model, dataloaders=test_loader)\n",
    "y_preds = torch.concat(y_preds).cpu().numpy()\n",
    "y_preds = torch.tensor(y_preds).squeeze()\n",
    "    #get target values\n",
    "targets = []\n",
    "for i, batch in enumerate(test_loader):\n",
    "    x, y = batch\n",
    "    targets.append(y)\n",
    "targets = torch.tensor(torch.concat(targets).cpu().numpy())\n",
    "y_preds = act(y_preds)"
   ]
  },
  {
   "cell_type": "code",
   "execution_count": 49,
   "id": "4d091c45-75c8-44c7-9372-b7a6be7f69dc",
   "metadata": {},
   "outputs": [
    {
     "data": {
      "text/plain": [
       "572511"
      ]
     },
     "execution_count": 49,
     "metadata": {},
     "output_type": "execute_result"
    }
   ],
   "source": [
    "len(y_preds[y_preds<=0.5])"
   ]
  },
  {
   "cell_type": "code",
   "execution_count": null,
   "id": "aefebf5c-d4e1-4330-a291-97fe2ad9acf5",
   "metadata": {},
   "outputs": [],
   "source": []
  }
 ],
 "metadata": {
  "kernelspec": {
   "display_name": "Python [conda env:mpra]",
   "language": "python",
   "name": "conda-env-mpra-py"
  },
  "language_info": {
   "codemirror_mode": {
    "name": "ipython",
    "version": 3
   },
   "file_extension": ".py",
   "mimetype": "text/x-python",
   "name": "python",
   "nbconvert_exporter": "python",
   "pygments_lexer": "ipython3",
   "version": "3.12.7"
  }
 },
 "nbformat": 4,
 "nbformat_minor": 5
}
