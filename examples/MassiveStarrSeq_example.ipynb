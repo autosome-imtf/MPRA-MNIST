{
 "cells": [
  {
   "cell_type": "code",
   "execution_count": 1,
   "id": "5754da7f-c360-499e-be3c-8d7df299775f",
   "metadata": {},
   "outputs": [],
   "source": [
    "import mpramnist\n",
    "from mpramnist.massivestarrdataset import MassiveStarrDataset\n",
    "from mpramnist import transforms as t\n",
    "from mpramnist import target_transforms as t_t\n",
    "\n",
    "import numpy as np\n",
    "import torch\n",
    "import torch.nn as nn\n",
    "import torch.optim as optim\n",
    "import torch.utils.data as data\n",
    "\n",
    "import pytorch_lightning as L\n",
    "from pytorch_lightning import loggers as pl_loggers\n",
    "from torch.cuda.amp import autocast\n",
    "from torch.nn import functional as F"
   ]
  },
  {
   "cell_type": "code",
   "execution_count": 2,
   "id": "b7fc96a6-928c-47bc-87f4-2f8316705d6f",
   "metadata": {},
   "outputs": [],
   "source": [
    "class Simple_Net(nn.Module):\n",
    "    \n",
    "    def __init__(self, seq_len, block_sizes=[16, 24, 32, 40, 48], kernel_size=3):\n",
    "        \n",
    "        super().__init__()\n",
    "        self.seq_len = seq_len\n",
    "        out_ch = 64\n",
    "        nn_blocks = []\n",
    "      \n",
    "        for in_bs, out_bs in zip([4] + block_sizes, block_sizes):\n",
    "            \n",
    "            block = nn.Sequential(\n",
    "                nn.Conv1d(in_bs, out_bs, kernel_size=kernel_size, padding=kernel_size // 2), # Padding для сохранения размера\n",
    "                nn.SiLU(),\n",
    "                nn.BatchNorm1d(out_bs)\n",
    "            )\n",
    "            nn_blocks.append(block)\n",
    "\n",
    "        final_feature_size = seq_len  # Размер последовательности остаётся неизменным из-за padding\n",
    "        \n",
    "        self.conv_net = nn.Sequential(\n",
    "            *nn_blocks,\n",
    "            nn.Flatten(),\n",
    "            nn.Linear(block_sizes[-1] * final_feature_size, out_ch),\n",
    "            nn.SiLU(),\n",
    "        )\n",
    "        \n",
    "        self.head = nn.Sequential(nn.Linear(out_ch, out_ch),\n",
    "                                  nn.SiLU(),\n",
    "                                   nn.BatchNorm1d(out_ch),\n",
    "                                   nn.Linear(out_ch, 1))\n",
    "        \n",
    "        self.output_activation = nn.Sigmoid().cuda()\n",
    "\n",
    "    def forward(self, x):\n",
    "        \n",
    "        out = self.conv_net(x)\n",
    "        out = self.head(out)\n",
    "        \n",
    "        #return self.output_activation(out)\n",
    "        return out"
   ]
  },
  {
   "cell_type": "code",
   "execution_count": 3,
   "id": "175e2b76-ed9d-4ab5-ac8f-b197f3cb2f7e",
   "metadata": {},
   "outputs": [],
   "source": [
    "class Seq1Model(L.LightningModule):\n",
    "    \n",
    "    def __init__(self, seq_len, lr=3e-4):\n",
    "        super().__init__()\n",
    "        self.model = Simple_Net(seq_len)\n",
    "        self.loss = torch.nn.BCEWithLogitsLoss().cuda()\n",
    "        self.lr = lr\n",
    "        self.val_loss = []\n",
    "        \n",
    "    def forward(self, x):\n",
    "        return self.model(x)\n",
    "\n",
    "    def training_step(self, batch, batch_nb):\n",
    "        X, y = batch\n",
    "        y_hat = self.model(X).squeeze().cuda()\n",
    "        y = y.cuda()\n",
    "        loss = self.loss(y_hat, y)\n",
    "        self.log(\"train_loss\", loss, prog_bar=True,  on_step=True, on_epoch=True, logger = True)\n",
    "        \n",
    "        lr = self.optimizers().param_groups[0]['lr']  # Get current learning rate\n",
    "        self.log('learning_rate', lr, on_step=True, on_epoch=True, prog_bar=True, logger=True)\n",
    "        \n",
    "        return loss\n",
    "        \n",
    "    def validation_step(self, batch, batch_idx):\n",
    "        x, y = batch\n",
    "        y_hat = self.model(x).squeeze().cuda()\n",
    "        y = y.cuda()\n",
    "        loss = self.loss(y_hat, y)\n",
    "        \n",
    "        self.log('val_loss', loss, on_step=False, on_epoch=True, prog_bar=True)\n",
    "        self.val_loss.append(loss)\n",
    "        \n",
    "    def on_validation_epoch_end(self):\n",
    "\n",
    "        val_loss = torch.stack(self.val_loss, dim = 0).mean()\n",
    "        \n",
    "        res_str = '|' + ' {}: {:.5f} |'.format(\"current_epoch\", self.current_epoch) \n",
    "        res_str += ' {}: {:.5f} |'.format(\"val_loss\", val_loss)\n",
    "        border = '-'*len(res_str)\n",
    "        print(\"\\n\".join(['',border, res_str, border,'']))\n",
    "        self.val_loss.clear()\n",
    "        return None\n",
    "        \n",
    "    def test_step(self, batch, _):\n",
    "        x, y = batch\n",
    "        y_hat = self.model(x).squeeze()\n",
    "        loss = self.loss(y_hat, y)\n",
    "        \n",
    "        self.log('test_loss', \n",
    "                 loss, \n",
    "                 prog_bar=True, \n",
    "                 on_step=False,\n",
    "                 on_epoch=True)\n",
    "        \n",
    "    def predict_step(self, batch, batch_idx, dataloader_idx=0):\n",
    "        if isinstance(batch, tuple) or isinstance(batch, list):\n",
    "            x, _ = batch\n",
    "        else:\n",
    "            x = batch\n",
    "        return self(x)\n",
    "\n",
    "    def configure_optimizers(self):\n",
    "        \n",
    "        self.optimizer = torch.optim.AdamW(self.parameters(),\n",
    "                                               lr=self.lr,\n",
    "                                               weight_decay = 0.01)\n",
    "        \n",
    "        lr_scheduler = torch.optim.lr_scheduler.OneCycleLR(self.optimizer, # type: ignore\n",
    "                                                        max_lr=self.lr,\n",
    "                                                        three_phase=False, \n",
    "                                                        total_steps=self.trainer.estimated_stepping_batches, # type: ignore\n",
    "                                                        pct_start=0.3,\n",
    "                                                        cycle_momentum =False)\n",
    "        lr_scheduler_config = {\n",
    "                    \"scheduler\": lr_scheduler,\n",
    "                    \"interval\": \"step\",\n",
    "                    \"frequency\": 1,\n",
    "                    \"name\": \"cycle_lr\"\n",
    "            }\n",
    "            \n",
    "        return [self.optimizer], [lr_scheduler_config]"
   ]
  },
  {
   "cell_type": "code",
   "execution_count": 4,
   "id": "c5ad8c53-68e2-48af-89a9-b2b540f490d9",
   "metadata": {},
   "outputs": [],
   "source": [
    "import sklearn\n",
    "from sklearn.metrics import precision_score, recall_score, precision_recall_curve, auc, average_precision_score\n",
    "import matplotlib.pyplot as plt\n",
    "def plotting_PR_AUC(seq_model, loader):\n",
    "    act = nn.Sigmoid()\n",
    "    #get predicted values\n",
    "    y_preds = trainer.predict(seq_model, dataloaders=loader)\n",
    "    y_preds = torch.concat(y_preds).cpu().numpy()\n",
    "    y_preds = torch.tensor(y_preds).squeeze()\n",
    "    #get target values\n",
    "    targets = []\n",
    "    for i, batch in enumerate(loader):\n",
    "        x, y = batch\n",
    "        targets.append(y)\n",
    "    targets = torch.tensor(torch.concat(targets).cpu().numpy())\n",
    "    y_preds = act(y_preds)\n",
    "    \n",
    "    threshold = 0.5  # Пример порога\n",
    "    y_true = targets.numpy()\n",
    "    y_pred = (y_preds.numpy() >= threshold).astype(int)\n",
    "    y_scores = y_preds.numpy()\n",
    "    \n",
    "    precision = precision_score(y_true, y_pred)\n",
    "    recall = recall_score(y_true, y_pred)\n",
    "    prauc = average_precision_score(y_true, y_scores)\n",
    "    \n",
    "    print(f\"Precision (при пороге {threshold}): {precision:.2f}\")\n",
    "    print(f\"Recall (при пороге {threshold}): {recall:.2f}\")\n",
    "    print(f\"PR-AUC (correct): {prauc:.2f}\")\n",
    "    \n",
    "    # 2. Построение PR-кривой\n",
    "    precision_vals, recall_vals, thresholds = precision_recall_curve(y_true, y_scores)\n",
    "    \n",
    "    # Вычисление PR-AUC\n",
    "    pr_auc = auc(recall_vals, precision_vals)\n",
    "    \n",
    "    print(f\"PR-AUC: {pr_auc:.2f}\")\n",
    "    \n",
    "    # 3. Построение графика PR-кривой\n",
    "    plt.figure(figsize=(4,3))\n",
    "    plt.plot(recall_vals, precision_vals, label=f'PR Curve (AUC = {pr_auc:.2f})', linewidth=2)\n",
    "    plt.xlabel('Recall', fontsize=6)\n",
    "    plt.ylabel('Precision', fontsize=6)\n",
    "    plt.title('Precision-Recall Curve', fontsize=7)\n",
    "    plt.legend(loc='best')\n",
    "    plt.grid(True)\n",
    "    plt.show()"
   ]
  },
  {
   "cell_type": "markdown",
   "id": "0ca78d4a-0c52-4be6-a469-993b986c6de5",
   "metadata": {},
   "source": [
    "# Tasks"
   ]
  },
  {
   "cell_type": "code",
   "execution_count": 5,
   "id": "2ca0b33b-52f6-4294-97dc-b915e818a29c",
   "metadata": {},
   "outputs": [],
   "source": [
    "tasks = [\"RandomEnhancer\",           # 0\n",
    "          \"GenomicPromoter\",         # 1\n",
    "          \"CapturePromoter\",         # 2\n",
    "          \n",
    "          \"GenomicEnhancer\",         # 3\n",
    "          \"AtacSeq\",                 # 4\n",
    "          \n",
    "          \"differentialExpression\",  # 5\n",
    "\n",
    "          \"Binary\"                   # 6\n",
    "         ]"
   ]
  },
  {
   "cell_type": "markdown",
   "id": "72f54412-dad5-47f0-bb49-c3040d4203bd",
   "metadata": {
    "jp-MarkdownHeadingCollapsed": true
   },
   "source": [
    "# Random Enhancer"
   ]
  },
  {
   "cell_type": "code",
   "execution_count": 5,
   "id": "99c61de3-612d-4d0a-8a93-e08519aaf908",
   "metadata": {},
   "outputs": [],
   "source": [
    "BATCH_SIZE = 1024\n",
    "NUM_WORKERS = 103\n",
    "train_transform = t.Compose([\n",
    "    t.Seq2Tensor()\n",
    "])\n",
    "val_test_transform = t.Compose([\n",
    "    t.Seq2Tensor()\n",
    "])\n",
    "task = \"RandomEnhancer\"\n",
    "train_dataset = MassiveStarrDataset(task = task, split = \"train\",transform = train_transform)\n",
    "\n",
    "val_dataset = MassiveStarrDataset(task = task, split = \"val\",transform = val_test_transform) \n",
    "\n",
    "test_dataset = MassiveStarrDataset(task = task, split = \"test\", transform = val_test_transform)\n",
    "\n",
    "# encapsulate data into dataloader form\n",
    "train_loader = data.DataLoader(dataset=train_dataset, batch_size=BATCH_SIZE, shuffle=True, num_workers = NUM_WORKERS)\n",
    "val_loader = data.DataLoader(dataset=val_dataset, batch_size=BATCH_SIZE, shuffle=False, num_workers = NUM_WORKERS)\n",
    "test_loader = data.DataLoader(dataset=test_dataset, batch_size=BATCH_SIZE, shuffle=False, num_workers = NUM_WORKERS)"
   ]
  },
  {
   "cell_type": "code",
   "execution_count": 6,
   "id": "e5b67a6e-e983-4e2a-8980-b27860a8cebd",
   "metadata": {},
   "outputs": [
    {
     "name": "stderr",
     "output_type": "stream",
     "text": [
      "Using 16bit Automatic Mixed Precision (AMP)\n",
      "GPU available: True (cuda), used: True\n",
      "TPU available: False, using: 0 TPU cores\n",
      "HPU available: False, using: 0 HPUs\n",
      "You are using a CUDA device ('NVIDIA GeForce RTX 3090') that has Tensor Cores. To properly utilize them, you should set `torch.set_float32_matmul_precision('medium' | 'high')` which will trade-off precision for performance. For more details, read https://pytorch.org/docs/stable/generated/torch.set_float32_matmul_precision.html#torch.set_float32_matmul_precision\n",
      "2025-01-17 18:41:33.485035: I tensorflow/core/util/port.cc:153] oneDNN custom operations are on. You may see slightly different numerical results due to floating-point round-off errors from different computation orders. To turn them off, set the environment variable `TF_ENABLE_ONEDNN_OPTS=0`.\n",
      "2025-01-17 18:41:33.498908: E external/local_xla/xla/stream_executor/cuda/cuda_fft.cc:477] Unable to register cuFFT factory: Attempting to register factory for plugin cuFFT when one has already been registered\n",
      "WARNING: All log messages before absl::InitializeLog() is called are written to STDERR\n",
      "E0000 00:00:1737128493.515948 2958700 cuda_dnn.cc:8310] Unable to register cuDNN factory: Attempting to register factory for plugin cuDNN when one has already been registered\n",
      "E0000 00:00:1737128493.521017 2958700 cuda_blas.cc:1418] Unable to register cuBLAS factory: Attempting to register factory for plugin cuBLAS when one has already been registered\n",
      "2025-01-17 18:41:33.538957: I tensorflow/core/platform/cpu_feature_guard.cc:210] This TensorFlow binary is optimized to use available CPU instructions in performance-critical operations.\n",
      "To enable the following instructions: AVX2 AVX512F AVX512_VNNI FMA, in other operations, rebuild TensorFlow with the appropriate compiler flags.\n",
      "LOCAL_RANK: 0 - CUDA_VISIBLE_DEVICES: [0,1]\n",
      "Loading `train_dataloader` to estimate number of stepping batches.\n",
      "\n",
      "  | Name  | Type              | Params | Mode \n",
      "----------------------------------------------------\n",
      "0 | model | Simple_Net        | 540 K  | train\n",
      "1 | loss  | BCEWithLogitsLoss | 0      | train\n",
      "----------------------------------------------------\n",
      "540 K     Trainable params\n",
      "0         Non-trainable params\n",
      "540 K     Total params\n",
      "2.162     Total estimated model params size (MB)\n",
      "32        Modules in train mode\n",
      "0         Modules in eval mode\n"
     ]
    },
    {
     "name": "stdout",
     "output_type": "stream",
     "text": [
      "\n",
      "----------------------------------------------\n",
      "| current_epoch: 0.00000 | val_loss: 0.69741 |\n",
      "----------------------------------------------\n",
      "\n",
      "\n",
      "----------------------------------------------\n",
      "| current_epoch: 0.00000 | val_loss: 0.67923 |\n",
      "----------------------------------------------\n",
      "\n",
      "\n",
      "----------------------------------------------\n",
      "| current_epoch: 1.00000 | val_loss: 0.67754 |\n",
      "----------------------------------------------\n",
      "\n",
      "\n",
      "----------------------------------------------\n",
      "| current_epoch: 2.00000 | val_loss: 0.67562 |\n",
      "----------------------------------------------\n",
      "\n",
      "\n",
      "----------------------------------------------\n",
      "| current_epoch: 3.00000 | val_loss: 0.67354 |\n",
      "----------------------------------------------\n",
      "\n"
     ]
    },
    {
     "name": "stderr",
     "output_type": "stream",
     "text": [
      "`Trainer.fit` stopped: `max_epochs=5` reached.\n"
     ]
    },
    {
     "name": "stdout",
     "output_type": "stream",
     "text": [
      "\n",
      "----------------------------------------------\n",
      "| current_epoch: 4.00000 | val_loss: 0.67350 |\n",
      "----------------------------------------------\n",
      "\n"
     ]
    }
   ],
   "source": [
    "seq_model = Seq1Model(seq_len=len(train_dataset[0][0][0]), lr = 0.01)\n",
    "\n",
    "# Initialize a trainer\n",
    "trainer = L.Trainer(\n",
    "    accelerator=\"gpu\",\n",
    "    devices=[0],\n",
    "    max_epochs=5,\n",
    "    gradient_clip_val=1,\n",
    "    precision='16-mixed', \n",
    "    enable_progress_bar = False,\n",
    "    #callbacks=[TQDMProgressBar(refresh_rate=55)]\n",
    "    #logger = logger\n",
    ")\n",
    "\n",
    "# Train the model\n",
    "trainer.fit(seq_model,\n",
    "            train_dataloaders=train_loader,\n",
    "            val_dataloaders=val_loader)"
   ]
  },
  {
   "cell_type": "code",
   "execution_count": 7,
   "id": "793763d9-247d-4891-a016-5f8314c29aa9",
   "metadata": {},
   "outputs": [
    {
     "name": "stderr",
     "output_type": "stream",
     "text": [
      "LOCAL_RANK: 0 - CUDA_VISIBLE_DEVICES: [0,1]\n"
     ]
    },
    {
     "name": "stdout",
     "output_type": "stream",
     "text": [
      "Precision (при пороге 0.5): 0.58\n",
      "Recall (при пороге 0.5): 0.40\n",
      "PR-AUC: 0.61\n"
     ]
    },
    {
     "data": {
      "image/png": "[encoded data removed]",
      "text/plain": [
       "<Figure size 400x300 with 1 Axes>"
      ]
     },
     "metadata": {},
     "output_type": "display_data"
    }
   ],
   "source": [
    "plotting_PR_AUC(seq_model, test_loader)"
   ]
  },
  {
   "cell_type": "code",
   "execution_count": null,
   "id": "fbbfa3dd-380a-4bf9-982e-bf6b285ae93d",
   "metadata": {},
   "outputs": [],
   "source": []
  },
  {
   "cell_type": "markdown",
   "id": "179872c4-1471-4eda-ba89-89bd1b71db35",
   "metadata": {},
   "source": [
    "# Genomic promoter"
   ]
  },
  {
   "cell_type": "code",
   "execution_count": 6,
   "id": "38228eca-2681-4fff-956c-859c437c0c28",
   "metadata": {},
   "outputs": [],
   "source": [
    "BATCH_SIZE = 128\n",
    "NUM_WORKERS = 103\n",
    "train_transform = t.Compose([\n",
    "    t.Seq2Tensor(),\n",
    "    t.Reverse(0.5)\n",
    "])\n",
    "val_test_transform = t.Compose([\n",
    "    #t.Seq2Tensor()\n",
    "])\n",
    "task = \"genomicpromoter\"\n",
    "train_dataset = MassiveStarrDataset(task = task, split = \"train\",transform = train_transform)\n",
    "\n",
    "val_dataset = MassiveStarrDataset(task = task, split = \"val\",transform = val_test_transform) \n",
    "\n",
    "test_dataset = MassiveStarrDataset(task = task, split = \"test\", transform = val_test_transform)\n",
    "\n",
    "# encapsulate data into dataloader form\n",
    "train_loader = data.DataLoader(dataset=train_dataset, batch_size=BATCH_SIZE, shuffle=True, num_workers = NUM_WORKERS)\n",
    "val_loader = data.DataLoader(dataset=val_dataset, batch_size=BATCH_SIZE, shuffle=False, num_workers = NUM_WORKERS)\n",
    "test_loader = data.DataLoader(dataset=test_dataset, batch_size=BATCH_SIZE, shuffle=False, num_workers = NUM_WORKERS)"
   ]
  },
  {
   "cell_type": "code",
   "execution_count": 7,
   "id": "e78182d5-76a2-41ea-8cd6-b7c0a49cdbe0",
   "metadata": {},
   "outputs": [
    {
     "data": {
      "text/plain": [
       "('ttgtcctcattctagtatgtaggctgaccagagcagccaccaattggggattgccattacccatagtataaagaaaaagaaagcatagcaaatcatagtgaactttcttaaatcatccat',\n",
       " np.float32(0.0))"
      ]
     },
     "execution_count": 7,
     "metadata": {},
     "output_type": "execute_result"
    }
   ],
   "source": [
    "test_dataset[4715]"
   ]
  },
  {
   "cell_type": "code",
   "execution_count": 8,
   "id": "406dda9a-fc90-476c-8bc5-d4ffa730ae62",
   "metadata": {
    "scrolled": true
   },
   "outputs": [
    {
     "name": "stderr",
     "output_type": "stream",
     "text": [
      "Using 16bit Automatic Mixed Precision (AMP)\n",
      "GPU available: True (cuda), used: True\n",
      "TPU available: False, using: 0 TPU cores\n",
      "HPU available: False, using: 0 HPUs\n",
      "You are using a CUDA device ('NVIDIA GeForce RTX 3090') that has Tensor Cores. To properly utilize them, you should set `torch.set_float32_matmul_precision('medium' | 'high')` which will trade-off precision for performance. For more details, read https://pytorch.org/docs/stable/generated/torch.set_float32_matmul_precision.html#torch.set_float32_matmul_precision\n",
      "2025-02-05 18:44:02.298750: I tensorflow/core/util/port.cc:153] oneDNN custom operations are on. You may see slightly different numerical results due to floating-point round-off errors from different computation orders. To turn them off, set the environment variable `TF_ENABLE_ONEDNN_OPTS=0`.\n",
      "2025-02-05 18:44:02.314569: E external/local_xla/xla/stream_executor/cuda/cuda_fft.cc:477] Unable to register cuFFT factory: Attempting to register factory for plugin cuFFT when one has already been registered\n",
      "WARNING: All log messages before absl::InitializeLog() is called are written to STDERR\n",
      "E0000 00:00:1738770242.332001 2046530 cuda_dnn.cc:8310] Unable to register cuDNN factory: Attempting to register factory for plugin cuDNN when one has already been registered\n",
      "E0000 00:00:1738770242.337256 2046530 cuda_blas.cc:1418] Unable to register cuBLAS factory: Attempting to register factory for plugin cuBLAS when one has already been registered\n",
      "2025-02-05 18:44:02.356903: I tensorflow/core/platform/cpu_feature_guard.cc:210] This TensorFlow binary is optimized to use available CPU instructions in performance-critical operations.\n",
      "To enable the following instructions: AVX2 AVX512F AVX512_VNNI FMA, in other operations, rebuild TensorFlow with the appropriate compiler flags.\n",
      "LOCAL_RANK: 0 - CUDA_VISIBLE_DEVICES: [0,1]\n",
      "Loading `train_dataloader` to estimate number of stepping batches.\n",
      "\n",
      "  | Name  | Type              | Params | Mode \n",
      "----------------------------------------------------\n",
      "0 | model | Simple_Net        | 21.3 K | train\n",
      "1 | loss  | BCEWithLogitsLoss | 0      | train\n",
      "----------------------------------------------------\n",
      "21.3 K    Trainable params\n",
      "0         Non-trainable params\n",
      "21.3 K    Total params\n",
      "0.085     Total estimated model params size (MB)\n",
      "32        Modules in train mode\n",
      "0         Modules in eval mode\n"
     ]
    },
    {
     "ename": "TypeError",
     "evalue": "conv1d() received an invalid combination of arguments - got (tuple, Parameter, Parameter, tuple, tuple, tuple, int), but expected one of:\n * (Tensor input, Tensor weight, Tensor bias = None, tuple of ints stride = 1, tuple of ints padding = 0, tuple of ints dilation = 1, int groups = 1)\n      didn't match because some of the arguments have invalid types: (!tuple of (str, str, str, str, str, str, str, str, str, str, str, str, str, str, str, str, str, str, str, str, str, str, str, str, str, str, str, str, str, str, str, str, str, str, str, str, str, str, str, str, str, str, str, str, str, str, str, str, str, str, str, str, str, str, str, str, str, str, str, str, str, str, str, str, str, str, str, str, str, str, str, str, str, str, str, str, str, str, str, str, str, str, str, str, str, str, str, str, str, str, str, str, str, str, str, str, str, str, str, str, str, str, str, str, str, str, str, str, str, str, str, str, str, str, str, str, str, str, str, str, str, str, str, str, str, str, str, str)!, !Parameter!,",
     "output_type": "error",
     "traceback": [
      "\u001b[0;31m---------------------------------------------------------------------------\u001b[0m",
      "\u001b[0;31mTypeError\u001b[0m                                 Traceback (most recent call last)",
      "Cell \u001b[0;32mIn[8], line 16\u001b[0m\n\u001b[1;32m      4\u001b[0m trainer \u001b[38;5;241m=\u001b[39m L\u001b[38;5;241m.\u001b[39mTrainer(\n\u001b[1;32m      5\u001b[0m     accelerator\u001b[38;5;241m=\u001b[39m\u001b[38;5;124m\"\u001b[39m\u001b[38;5;124mgpu\u001b[39m\u001b[38;5;124m\"\u001b[39m,\n\u001b[1;32m      6\u001b[0m     devices\u001b[38;5;241m=\u001b[39m[\u001b[38;5;241m0\u001b[39m],\n\u001b[0;32m   (...)\u001b[0m\n\u001b[1;32m     12\u001b[0m     \u001b[38;5;66;03m#logger = logger\u001b[39;00m\n\u001b[1;32m     13\u001b[0m )\n\u001b[1;32m     15\u001b[0m \u001b[38;5;66;03m# Train the model\u001b[39;00m\n\u001b[0;32m---> 16\u001b[0m \u001b[43mtrainer\u001b[49m\u001b[38;5;241;43m.\u001b[39;49m\u001b[43mfit\u001b[49m\u001b[43m(\u001b[49m\u001b[43mseq_model\u001b[49m\u001b[43m,\u001b[49m\n\u001b[1;32m     17\u001b[0m \u001b[43m            \u001b[49m\u001b[43mtrain_dataloaders\u001b[49m\u001b[38;5;241;43m=\u001b[39;49m\u001b[43mtrain_loader\u001b[49m\u001b[43m,\u001b[49m\n\u001b[1;32m     18\u001b[0m \u001b[43m            \u001b[49m\u001b[43mval_dataloaders\u001b[49m\u001b[38;5;241;43m=\u001b[39;49m\u001b[43mtest_loader\u001b[49m\u001b[43m)\u001b[49m\n",
      "File \u001b[0;32m~/miniconda3/envs/mpra/lib/python3.12/site-packages/pytorch_lightning/trainer/trainer.py:538\u001b[0m, in \u001b[0;36mTrainer.fit\u001b[0;34m(self, model, train_dataloaders, val_dataloaders, datamodule, ckpt_path)\u001b[0m\n\u001b[1;32m    536\u001b[0m \u001b[38;5;28mself\u001b[39m\u001b[38;5;241m.\u001b[39mstate\u001b[38;5;241m.\u001b[39mstatus \u001b[38;5;241m=\u001b[39m TrainerStatus\u001b[38;5;241m.\u001b[39mRUNNING\n\u001b[1;32m    537\u001b[0m \u001b[38;5;28mself\u001b[39m\u001b[38;5;241m.\u001b[39mtraining \u001b[38;5;241m=\u001b[39m \u001b[38;5;28;01mTrue\u001b[39;00m\n\u001b[0;32m--> 538\u001b[0m \u001b[43mcall\u001b[49m\u001b[38;5;241;43m.\u001b[39;49m\u001b[43m_call_and_handle_interrupt\u001b[49m\u001b[43m(\u001b[49m\n\u001b[1;32m    539\u001b[0m \u001b[43m    \u001b[49m\u001b[38;5;28;43mself\u001b[39;49m\u001b[43m,\u001b[49m\u001b[43m \u001b[49m\u001b[38;5;28;43mself\u001b[39;49m\u001b[38;5;241;43m.\u001b[39;49m\u001b[43m_fit_impl\u001b[49m\u001b[43m,\u001b[49m\u001b[43m \u001b[49m\u001b[43mmodel\u001b[49m\u001b[43m,\u001b[49m\u001b[43m \u001b[49m\u001b[43mtrain_dataloaders\u001b[49m\u001b[43m,\u001b[49m\u001b[43m \u001b[49m\u001b[43mval_dataloaders\u001b[49m\u001b[43m,\u001b[49m\u001b[43m \u001b[49m\u001b[43mdatamodule\u001b[49m\u001b[43m,\u001b[49m\u001b[43m \u001b[49m\u001b[43mckpt_path\u001b[49m\n\u001b[1;32m    540\u001b[0m \u001b[43m\u001b[49m\u001b[43m)\u001b[49m\n",
      "File \u001b[0;32m~/miniconda3/envs/mpra/lib/python3.12/site-packages/pytorch_lightning/trainer/call.py:47\u001b[0m, in \u001b[0;36m_call_and_handle_interrupt\u001b[0;34m(trainer, trainer_fn, *args, **kwargs)\u001b[0m\n\u001b[1;32m     45\u001b[0m     \u001b[38;5;28;01mif\u001b[39;00m trainer\u001b[38;5;241m.\u001b[39mstrategy\u001b[38;5;241m.\u001b[39mlauncher \u001b[38;5;129;01mis\u001b[39;00m \u001b[38;5;129;01mnot\u001b[39;00m \u001b[38;5;28;01mNone\u001b[39;00m:\n\u001b[1;32m     46\u001b[0m         \u001b[38;5;28;01mreturn\u001b[39;00m trainer\u001b[38;5;241m.\u001b[39mstrategy\u001b[38;5;241m.\u001b[39mlauncher\u001b[38;5;241m.\u001b[39mlaunch(trainer_fn, \u001b[38;5;241m*\u001b[39margs, trainer\u001b[38;5;241m=\u001b[39mtrainer, \u001b[38;5;241m*\u001b[39m\u001b[38;5;241m*\u001b[39mkwargs)\n\u001b[0;32m---> 47\u001b[0m     \u001b[38;5;28;01mreturn\u001b[39;00m \u001b[43mtrainer_fn\u001b[49m\u001b[43m(\u001b[49m\u001b[38;5;241;43m*\u001b[39;49m\u001b[43margs\u001b[49m\u001b[43m,\u001b[49m\u001b[43m \u001b[49m\u001b[38;5;241;43m*\u001b[39;49m\u001b[38;5;241;43m*\u001b[39;49m\u001b[43mkwargs\u001b[49m\u001b[43m)\u001b[49m\n\u001b[1;32m     49\u001b[0m \u001b[38;5;28;01mexcept\u001b[39;00m _TunerExitException:\n\u001b[1;32m     50\u001b[0m     _call_teardown_hook(trainer)\n",
      "File \u001b[0;32m~/miniconda3/envs/mpra/lib/python3.12/site-packages/pytorch_lightning/trainer/trainer.py:574\u001b[0m, in \u001b[0;36mTrainer._fit_impl\u001b[0;34m(self, model, train_dataloaders, val_dataloaders, datamodule, ckpt_path)\u001b[0m\n\u001b[1;32m    567\u001b[0m \u001b[38;5;28;01massert\u001b[39;00m \u001b[38;5;28mself\u001b[39m\u001b[38;5;241m.\u001b[39mstate\u001b[38;5;241m.\u001b[39mfn \u001b[38;5;129;01mis\u001b[39;00m \u001b[38;5;129;01mnot\u001b[39;00m \u001b[38;5;28;01mNone\u001b[39;00m\n\u001b[1;32m    568\u001b[0m ckpt_path \u001b[38;5;241m=\u001b[39m \u001b[38;5;28mself\u001b[39m\u001b[38;5;241m.\u001b[39m_checkpoint_connector\u001b[38;5;241m.\u001b[39m_select_ckpt_path(\n\u001b[1;32m    569\u001b[0m     \u001b[38;5;28mself\u001b[39m\u001b[38;5;241m.\u001b[39mstate\u001b[38;5;241m.\u001b[39mfn,\n\u001b[1;32m    570\u001b[0m     ckpt_path,\n\u001b[1;32m    571\u001b[0m     model_provided\u001b[38;5;241m=\u001b[39m\u001b[38;5;28;01mTrue\u001b[39;00m,\n\u001b[1;32m    572\u001b[0m     model_connected\u001b[38;5;241m=\u001b[39m\u001b[38;5;28mself\u001b[39m\u001b[38;5;241m.\u001b[39mlightning_module \u001b[38;5;129;01mis\u001b[39;00m \u001b[38;5;129;01mnot\u001b[39;00m \u001b[38;5;28;01mNone\u001b[39;00m,\n\u001b[1;32m    573\u001b[0m )\n\u001b[0;32m--> 574\u001b[0m \u001b[38;5;28;43mself\u001b[39;49m\u001b[38;5;241;43m.\u001b[39;49m\u001b[43m_run\u001b[49m\u001b[43m(\u001b[49m\u001b[43mmodel\u001b[49m\u001b[43m,\u001b[49m\u001b[43m \u001b[49m\u001b[43mckpt_path\u001b[49m\u001b[38;5;241;43m=\u001b[39;49m\u001b[43mckpt_path\u001b[49m\u001b[43m)\u001b[49m\n\u001b[1;32m    576\u001b[0m \u001b[38;5;28;01massert\u001b[39;00m \u001b[38;5;28mself\u001b[39m\u001b[38;5;241m.\u001b[39mstate\u001b[38;5;241m.\u001b[39mstopped\n\u001b[1;32m    577\u001b[0m \u001b[38;5;28mself\u001b[39m\u001b[38;5;241m.\u001b[39mtraining \u001b[38;5;241m=\u001b[39m \u001b[38;5;28;01mFalse\u001b[39;00m\n",
      "File \u001b[0;32m~/miniconda3/envs/mpra/lib/python3.12/site-packages/pytorch_lightning/trainer/trainer.py:981\u001b[0m, in \u001b[0;36mTrainer._run\u001b[0;34m(self, model, ckpt_path)\u001b[0m\n\u001b[1;32m    976\u001b[0m \u001b[38;5;28mself\u001b[39m\u001b[38;5;241m.\u001b[39m_signal_connector\u001b[38;5;241m.\u001b[39mregister_signal_handlers()\n\u001b[1;32m    978\u001b[0m \u001b[38;5;66;03m# ----------------------------\u001b[39;00m\n\u001b[1;32m    979\u001b[0m \u001b[38;5;66;03m# RUN THE TRAINER\u001b[39;00m\n\u001b[1;32m    980\u001b[0m \u001b[38;5;66;03m# ----------------------------\u001b[39;00m\n\u001b[0;32m--> 981\u001b[0m results \u001b[38;5;241m=\u001b[39m \u001b[38;5;28;43mself\u001b[39;49m\u001b[38;5;241;43m.\u001b[39;49m\u001b[43m_run_stage\u001b[49m\u001b[43m(\u001b[49m\u001b[43m)\u001b[49m\n\u001b[1;32m    983\u001b[0m \u001b[38;5;66;03m# ----------------------------\u001b[39;00m\n\u001b[1;32m    984\u001b[0m \u001b[38;5;66;03m# POST-Training CLEAN UP\u001b[39;00m\n\u001b[1;32m    985\u001b[0m \u001b[38;5;66;03m# ----------------------------\u001b[39;00m\n\u001b[1;32m    986\u001b[0m log\u001b[38;5;241m.\u001b[39mdebug(\u001b[38;5;124mf\u001b[39m\u001b[38;5;124m\"\u001b[39m\u001b[38;5;132;01m{\u001b[39;00m\u001b[38;5;28mself\u001b[39m\u001b[38;5;241m.\u001b[39m\u001b[38;5;18m__class__\u001b[39m\u001b[38;5;241m.\u001b[39m\u001b[38;5;18m__name__\u001b[39m\u001b[38;5;132;01m}\u001b[39;00m\u001b[38;5;124m: trainer tearing down\u001b[39m\u001b[38;5;124m\"\u001b[39m)\n",
      "File \u001b[0;32m~/miniconda3/envs/mpra/lib/python3.12/site-packages/pytorch_lightning/trainer/trainer.py:1023\u001b[0m, in \u001b[0;36mTrainer._run_stage\u001b[0;34m(self)\u001b[0m\n\u001b[1;32m   1021\u001b[0m \u001b[38;5;28;01mif\u001b[39;00m \u001b[38;5;28mself\u001b[39m\u001b[38;5;241m.\u001b[39mtraining:\n\u001b[1;32m   1022\u001b[0m     \u001b[38;5;28;01mwith\u001b[39;00m isolate_rng():\n\u001b[0;32m-> 1023\u001b[0m         \u001b[38;5;28;43mself\u001b[39;49m\u001b[38;5;241;43m.\u001b[39;49m\u001b[43m_run_sanity_check\u001b[49m\u001b[43m(\u001b[49m\u001b[43m)\u001b[49m\n\u001b[1;32m   1024\u001b[0m     \u001b[38;5;28;01mwith\u001b[39;00m torch\u001b[38;5;241m.\u001b[39mautograd\u001b[38;5;241m.\u001b[39mset_detect_anomaly(\u001b[38;5;28mself\u001b[39m\u001b[38;5;241m.\u001b[39m_detect_anomaly):\n\u001b[1;32m   1025\u001b[0m         \u001b[38;5;28mself\u001b[39m\u001b[38;5;241m.\u001b[39mfit_loop\u001b[38;5;241m.\u001b[39mrun()\n",
      "File \u001b[0;32m~/miniconda3/envs/mpra/lib/python3.12/site-packages/pytorch_lightning/trainer/trainer.py:1052\u001b[0m, in \u001b[0;36mTrainer._run_sanity_check\u001b[0;34m(self)\u001b[0m\n\u001b[1;32m   1049\u001b[0m call\u001b[38;5;241m.\u001b[39m_call_callback_hooks(\u001b[38;5;28mself\u001b[39m, \u001b[38;5;124m\"\u001b[39m\u001b[38;5;124mon_sanity_check_start\u001b[39m\u001b[38;5;124m\"\u001b[39m)\n\u001b[1;32m   1051\u001b[0m \u001b[38;5;66;03m# run eval step\u001b[39;00m\n\u001b[0;32m-> 1052\u001b[0m \u001b[43mval_loop\u001b[49m\u001b[38;5;241;43m.\u001b[39;49m\u001b[43mrun\u001b[49m\u001b[43m(\u001b[49m\u001b[43m)\u001b[49m\n\u001b[1;32m   1054\u001b[0m call\u001b[38;5;241m.\u001b[39m_call_callback_hooks(\u001b[38;5;28mself\u001b[39m, \u001b[38;5;124m\"\u001b[39m\u001b[38;5;124mon_sanity_check_end\u001b[39m\u001b[38;5;124m\"\u001b[39m)\n\u001b[1;32m   1056\u001b[0m \u001b[38;5;66;03m# reset logger connector\u001b[39;00m\n",
      "File \u001b[0;32m~/miniconda3/envs/mpra/lib/python3.12/site-packages/pytorch_lightning/loops/utilities.py:178\u001b[0m, in \u001b[0;36m_no_grad_context.<locals>._decorator\u001b[0;34m(self, *args, **kwargs)\u001b[0m\n\u001b[1;32m    176\u001b[0m     context_manager \u001b[38;5;241m=\u001b[39m torch\u001b[38;5;241m.\u001b[39mno_grad\n\u001b[1;32m    177\u001b[0m \u001b[38;5;28;01mwith\u001b[39;00m context_manager():\n\u001b[0;32m--> 178\u001b[0m     \u001b[38;5;28;01mreturn\u001b[39;00m \u001b[43mloop_run\u001b[49m\u001b[43m(\u001b[49m\u001b[38;5;28;43mself\u001b[39;49m\u001b[43m,\u001b[49m\u001b[43m \u001b[49m\u001b[38;5;241;43m*\u001b[39;49m\u001b[43margs\u001b[49m\u001b[43m,\u001b[49m\u001b[43m \u001b[49m\u001b[38;5;241;43m*\u001b[39;49m\u001b[38;5;241;43m*\u001b[39;49m\u001b[43mkwargs\u001b[49m\u001b[43m)\u001b[49m\n",
      "File \u001b[0;32m~/miniconda3/envs/mpra/lib/python3.12/site-packages/pytorch_lightning/loops/evaluation_loop.py:135\u001b[0m, in \u001b[0;36m_EvaluationLoop.run\u001b[0;34m(self)\u001b[0m\n\u001b[1;32m    133\u001b[0m     \u001b[38;5;28mself\u001b[39m\u001b[38;5;241m.\u001b[39mbatch_progress\u001b[38;5;241m.\u001b[39mis_last_batch \u001b[38;5;241m=\u001b[39m data_fetcher\u001b[38;5;241m.\u001b[39mdone\n\u001b[1;32m    134\u001b[0m     \u001b[38;5;66;03m# run step hooks\u001b[39;00m\n\u001b[0;32m--> 135\u001b[0m     \u001b[38;5;28;43mself\u001b[39;49m\u001b[38;5;241;43m.\u001b[39;49m\u001b[43m_evaluation_step\u001b[49m\u001b[43m(\u001b[49m\u001b[43mbatch\u001b[49m\u001b[43m,\u001b[49m\u001b[43m \u001b[49m\u001b[43mbatch_idx\u001b[49m\u001b[43m,\u001b[49m\u001b[43m \u001b[49m\u001b[43mdataloader_idx\u001b[49m\u001b[43m,\u001b[49m\u001b[43m \u001b[49m\u001b[43mdataloader_iter\u001b[49m\u001b[43m)\u001b[49m\n\u001b[1;32m    136\u001b[0m \u001b[38;5;28;01mexcept\u001b[39;00m \u001b[38;5;167;01mStopIteration\u001b[39;00m:\n\u001b[1;32m    137\u001b[0m     \u001b[38;5;66;03m# this needs to wrap the `*_step` call too (not just `next`) for `dataloader_iter` support\u001b[39;00m\n\u001b[1;32m    138\u001b[0m     \u001b[38;5;28;01mbreak\u001b[39;00m\n",
      "File \u001b[0;32m~/miniconda3/envs/mpra/lib/python3.12/site-packages/pytorch_lightning/loops/evaluation_loop.py:396\u001b[0m, in \u001b[0;36m_EvaluationLoop._evaluation_step\u001b[0;34m(self, batch, batch_idx, dataloader_idx, dataloader_iter)\u001b[0m\n\u001b[1;32m    390\u001b[0m hook_name \u001b[38;5;241m=\u001b[39m \u001b[38;5;124m\"\u001b[39m\u001b[38;5;124mtest_step\u001b[39m\u001b[38;5;124m\"\u001b[39m \u001b[38;5;28;01mif\u001b[39;00m trainer\u001b[38;5;241m.\u001b[39mtesting \u001b[38;5;28;01melse\u001b[39;00m \u001b[38;5;124m\"\u001b[39m\u001b[38;5;124mvalidation_step\u001b[39m\u001b[38;5;124m\"\u001b[39m\n\u001b[1;32m    391\u001b[0m step_args \u001b[38;5;241m=\u001b[39m (\n\u001b[1;32m    392\u001b[0m     \u001b[38;5;28mself\u001b[39m\u001b[38;5;241m.\u001b[39m_build_step_args_from_hook_kwargs(hook_kwargs, hook_name)\n\u001b[1;32m    393\u001b[0m     \u001b[38;5;28;01mif\u001b[39;00m \u001b[38;5;129;01mnot\u001b[39;00m using_dataloader_iter\n\u001b[1;32m    394\u001b[0m     \u001b[38;5;28;01melse\u001b[39;00m (dataloader_iter,)\n\u001b[1;32m    395\u001b[0m )\n\u001b[0;32m--> 396\u001b[0m output \u001b[38;5;241m=\u001b[39m \u001b[43mcall\u001b[49m\u001b[38;5;241;43m.\u001b[39;49m\u001b[43m_call_strategy_hook\u001b[49m\u001b[43m(\u001b[49m\u001b[43mtrainer\u001b[49m\u001b[43m,\u001b[49m\u001b[43m \u001b[49m\u001b[43mhook_name\u001b[49m\u001b[43m,\u001b[49m\u001b[43m \u001b[49m\u001b[38;5;241;43m*\u001b[39;49m\u001b[43mstep_args\u001b[49m\u001b[43m)\u001b[49m\n\u001b[1;32m    398\u001b[0m \u001b[38;5;28mself\u001b[39m\u001b[38;5;241m.\u001b[39mbatch_progress\u001b[38;5;241m.\u001b[39mincrement_processed()\n\u001b[1;32m    400\u001b[0m \u001b[38;5;28;01mif\u001b[39;00m using_dataloader_iter:\n\u001b[1;32m    401\u001b[0m     \u001b[38;5;66;03m# update the hook kwargs now that the step method might have consumed the iterator\u001b[39;00m\n",
      "File \u001b[0;32m~/miniconda3/envs/mpra/lib/python3.12/site-packages/pytorch_lightning/trainer/call.py:319\u001b[0m, in \u001b[0;36m_call_strategy_hook\u001b[0;34m(trainer, hook_name, *args, **kwargs)\u001b[0m\n\u001b[1;32m    316\u001b[0m     \u001b[38;5;28;01mreturn\u001b[39;00m \u001b[38;5;28;01mNone\u001b[39;00m\n\u001b[1;32m    318\u001b[0m \u001b[38;5;28;01mwith\u001b[39;00m trainer\u001b[38;5;241m.\u001b[39mprofiler\u001b[38;5;241m.\u001b[39mprofile(\u001b[38;5;124mf\u001b[39m\u001b[38;5;124m\"\u001b[39m\u001b[38;5;124m[Strategy]\u001b[39m\u001b[38;5;132;01m{\u001b[39;00mtrainer\u001b[38;5;241m.\u001b[39mstrategy\u001b[38;5;241m.\u001b[39m\u001b[38;5;18m__class__\u001b[39m\u001b[38;5;241m.\u001b[39m\u001b[38;5;18m__name__\u001b[39m\u001b[38;5;132;01m}\u001b[39;00m\u001b[38;5;124m.\u001b[39m\u001b[38;5;132;01m{\u001b[39;00mhook_name\u001b[38;5;132;01m}\u001b[39;00m\u001b[38;5;124m\"\u001b[39m):\n\u001b[0;32m--> 319\u001b[0m     output \u001b[38;5;241m=\u001b[39m \u001b[43mfn\u001b[49m\u001b[43m(\u001b[49m\u001b[38;5;241;43m*\u001b[39;49m\u001b[43margs\u001b[49m\u001b[43m,\u001b[49m\u001b[43m \u001b[49m\u001b[38;5;241;43m*\u001b[39;49m\u001b[38;5;241;43m*\u001b[39;49m\u001b[43mkwargs\u001b[49m\u001b[43m)\u001b[49m\n\u001b[1;32m    321\u001b[0m \u001b[38;5;66;03m# restore current_fx when nested context\u001b[39;00m\n\u001b[1;32m    322\u001b[0m pl_module\u001b[38;5;241m.\u001b[39m_current_fx_name \u001b[38;5;241m=\u001b[39m prev_fx_name\n",
      "File \u001b[0;32m~/miniconda3/envs/mpra/lib/python3.12/site-packages/pytorch_lightning/strategies/strategy.py:411\u001b[0m, in \u001b[0;36mStrategy.validation_step\u001b[0;34m(self, *args, **kwargs)\u001b[0m\n\u001b[1;32m    409\u001b[0m \u001b[38;5;28;01mif\u001b[39;00m \u001b[38;5;28mself\u001b[39m\u001b[38;5;241m.\u001b[39mmodel \u001b[38;5;241m!=\u001b[39m \u001b[38;5;28mself\u001b[39m\u001b[38;5;241m.\u001b[39mlightning_module:\n\u001b[1;32m    410\u001b[0m     \u001b[38;5;28;01mreturn\u001b[39;00m \u001b[38;5;28mself\u001b[39m\u001b[38;5;241m.\u001b[39m_forward_redirection(\u001b[38;5;28mself\u001b[39m\u001b[38;5;241m.\u001b[39mmodel, \u001b[38;5;28mself\u001b[39m\u001b[38;5;241m.\u001b[39mlightning_module, \u001b[38;5;124m\"\u001b[39m\u001b[38;5;124mvalidation_step\u001b[39m\u001b[38;5;124m\"\u001b[39m, \u001b[38;5;241m*\u001b[39margs, \u001b[38;5;241m*\u001b[39m\u001b[38;5;241m*\u001b[39mkwargs)\n\u001b[0;32m--> 411\u001b[0m \u001b[38;5;28;01mreturn\u001b[39;00m \u001b[38;5;28;43mself\u001b[39;49m\u001b[38;5;241;43m.\u001b[39;49m\u001b[43mlightning_module\u001b[49m\u001b[38;5;241;43m.\u001b[39;49m\u001b[43mvalidation_step\u001b[49m\u001b[43m(\u001b[49m\u001b[38;5;241;43m*\u001b[39;49m\u001b[43margs\u001b[49m\u001b[43m,\u001b[49m\u001b[43m \u001b[49m\u001b[38;5;241;43m*\u001b[39;49m\u001b[38;5;241;43m*\u001b[39;49m\u001b[43mkwargs\u001b[49m\u001b[43m)\u001b[49m\n",
      "Cell \u001b[0;32mIn[3], line 31\u001b[0m, in \u001b[0;36mSeq1Model.validation_step\u001b[0;34m(self, batch, batch_idx)\u001b[0m\n\u001b[1;32m     29\u001b[0m \u001b[38;5;28;01mdef\u001b[39;00m \u001b[38;5;21mvalidation_step\u001b[39m(\u001b[38;5;28mself\u001b[39m, batch, batch_idx):\n\u001b[1;32m     30\u001b[0m     x, y \u001b[38;5;241m=\u001b[39m batch\n\u001b[0;32m---> 31\u001b[0m     y_hat \u001b[38;5;241m=\u001b[39m \u001b[38;5;28;43mself\u001b[39;49m\u001b[38;5;241;43m.\u001b[39;49m\u001b[43mmodel\u001b[49m\u001b[43m(\u001b[49m\u001b[43mx\u001b[49m\u001b[43m)\u001b[49m\u001b[38;5;241m.\u001b[39msqueeze()\u001b[38;5;241m.\u001b[39mcuda()\n\u001b[1;32m     32\u001b[0m     y \u001b[38;5;241m=\u001b[39m y\u001b[38;5;241m.\u001b[39mcuda()\n\u001b[1;32m     33\u001b[0m     loss \u001b[38;5;241m=\u001b[39m \u001b[38;5;28mself\u001b[39m\u001b[38;5;241m.\u001b[39mloss(y_hat, y)\n",
      "File \u001b[0;32m~/miniconda3/envs/mpra/lib/python3.12/site-packages/torch/nn/modules/module.py:1553\u001b[0m, in \u001b[0;36mModule._wrapped_call_impl\u001b[0;34m(self, *args, **kwargs)\u001b[0m\n\u001b[1;32m   1551\u001b[0m     \u001b[38;5;28;01mreturn\u001b[39;00m \u001b[38;5;28mself\u001b[39m\u001b[38;5;241m.\u001b[39m_compiled_call_impl(\u001b[38;5;241m*\u001b[39margs, \u001b[38;5;241m*\u001b[39m\u001b[38;5;241m*\u001b[39mkwargs)  \u001b[38;5;66;03m# type: ignore[misc]\u001b[39;00m\n\u001b[1;32m   1552\u001b[0m \u001b[38;5;28;01melse\u001b[39;00m:\n\u001b[0;32m-> 1553\u001b[0m     \u001b[38;5;28;01mreturn\u001b[39;00m \u001b[38;5;28;43mself\u001b[39;49m\u001b[38;5;241;43m.\u001b[39;49m\u001b[43m_call_impl\u001b[49m\u001b[43m(\u001b[49m\u001b[38;5;241;43m*\u001b[39;49m\u001b[43margs\u001b[49m\u001b[43m,\u001b[49m\u001b[43m \u001b[49m\u001b[38;5;241;43m*\u001b[39;49m\u001b[38;5;241;43m*\u001b[39;49m\u001b[43mkwargs\u001b[49m\u001b[43m)\u001b[49m\n",
      "File \u001b[0;32m~/miniconda3/envs/mpra/lib/python3.12/site-packages/torch/nn/modules/module.py:1562\u001b[0m, in \u001b[0;36mModule._call_impl\u001b[0;34m(self, *args, **kwargs)\u001b[0m\n\u001b[1;32m   1557\u001b[0m \u001b[38;5;66;03m# If we don't have any hooks, we want to skip the rest of the logic in\u001b[39;00m\n\u001b[1;32m   1558\u001b[0m \u001b[38;5;66;03m# this function, and just call forward.\u001b[39;00m\n\u001b[1;32m   1559\u001b[0m \u001b[38;5;28;01mif\u001b[39;00m \u001b[38;5;129;01mnot\u001b[39;00m (\u001b[38;5;28mself\u001b[39m\u001b[38;5;241m.\u001b[39m_backward_hooks \u001b[38;5;129;01mor\u001b[39;00m \u001b[38;5;28mself\u001b[39m\u001b[38;5;241m.\u001b[39m_backward_pre_hooks \u001b[38;5;129;01mor\u001b[39;00m \u001b[38;5;28mself\u001b[39m\u001b[38;5;241m.\u001b[39m_forward_hooks \u001b[38;5;129;01mor\u001b[39;00m \u001b[38;5;28mself\u001b[39m\u001b[38;5;241m.\u001b[39m_forward_pre_hooks\n\u001b[1;32m   1560\u001b[0m         \u001b[38;5;129;01mor\u001b[39;00m _global_backward_pre_hooks \u001b[38;5;129;01mor\u001b[39;00m _global_backward_hooks\n\u001b[1;32m   1561\u001b[0m         \u001b[38;5;129;01mor\u001b[39;00m _global_forward_hooks \u001b[38;5;129;01mor\u001b[39;00m _global_forward_pre_hooks):\n\u001b[0;32m-> 1562\u001b[0m     \u001b[38;5;28;01mreturn\u001b[39;00m \u001b[43mforward_call\u001b[49m\u001b[43m(\u001b[49m\u001b[38;5;241;43m*\u001b[39;49m\u001b[43margs\u001b[49m\u001b[43m,\u001b[49m\u001b[43m \u001b[49m\u001b[38;5;241;43m*\u001b[39;49m\u001b[38;5;241;43m*\u001b[39;49m\u001b[43mkwargs\u001b[49m\u001b[43m)\u001b[49m\n\u001b[1;32m   1564\u001b[0m \u001b[38;5;28;01mtry\u001b[39;00m:\n\u001b[1;32m   1565\u001b[0m     result \u001b[38;5;241m=\u001b[39m \u001b[38;5;28;01mNone\u001b[39;00m\n",
      "Cell \u001b[0;32mIn[5], line 33\u001b[0m, in \u001b[0;36mSimple_Net.forward\u001b[0;34m(self, x)\u001b[0m\n\u001b[1;32m     31\u001b[0m \u001b[38;5;28;01mdef\u001b[39;00m \u001b[38;5;21mforward\u001b[39m(\u001b[38;5;28mself\u001b[39m, x):\n\u001b[0;32m---> 33\u001b[0m     out \u001b[38;5;241m=\u001b[39m \u001b[38;5;28;43mself\u001b[39;49m\u001b[38;5;241;43m.\u001b[39;49m\u001b[43mconv_net\u001b[49m\u001b[43m(\u001b[49m\u001b[43mx\u001b[49m\u001b[43m)\u001b[49m\n\u001b[1;32m     34\u001b[0m     \u001b[38;5;66;03m#out = self.head(out)\u001b[39;00m\n\u001b[1;32m     35\u001b[0m     \n\u001b[1;32m     36\u001b[0m     \u001b[38;5;66;03m#return self.output_activation(out)\u001b[39;00m\n\u001b[1;32m     37\u001b[0m     \u001b[38;5;28;01mreturn\u001b[39;00m out\n",
      "File \u001b[0;32m~/miniconda3/envs/mpra/lib/python3.12/site-packages/torch/nn/modules/module.py:1553\u001b[0m, in \u001b[0;36mModule._wrapped_call_impl\u001b[0;34m(self, *args, **kwargs)\u001b[0m\n\u001b[1;32m   1551\u001b[0m     \u001b[38;5;28;01mreturn\u001b[39;00m \u001b[38;5;28mself\u001b[39m\u001b[38;5;241m.\u001b[39m_compiled_call_impl(\u001b[38;5;241m*\u001b[39margs, \u001b[38;5;241m*\u001b[39m\u001b[38;5;241m*\u001b[39mkwargs)  \u001b[38;5;66;03m# type: ignore[misc]\u001b[39;00m\n\u001b[1;32m   1552\u001b[0m \u001b[38;5;28;01melse\u001b[39;00m:\n\u001b[0;32m-> 1553\u001b[0m     \u001b[38;5;28;01mreturn\u001b[39;00m \u001b[38;5;28;43mself\u001b[39;49m\u001b[38;5;241;43m.\u001b[39;49m\u001b[43m_call_impl\u001b[49m\u001b[43m(\u001b[49m\u001b[38;5;241;43m*\u001b[39;49m\u001b[43margs\u001b[49m\u001b[43m,\u001b[49m\u001b[43m \u001b[49m\u001b[38;5;241;43m*\u001b[39;49m\u001b[38;5;241;43m*\u001b[39;49m\u001b[43mkwargs\u001b[49m\u001b[43m)\u001b[49m\n",
      "File \u001b[0;32m~/miniconda3/envs/mpra/lib/python3.12/site-packages/torch/nn/modules/module.py:1562\u001b[0m, in \u001b[0;36mModule._call_impl\u001b[0;34m(self, *args, **kwargs)\u001b[0m\n\u001b[1;32m   1557\u001b[0m \u001b[38;5;66;03m# If we don't have any hooks, we want to skip the rest of the logic in\u001b[39;00m\n\u001b[1;32m   1558\u001b[0m \u001b[38;5;66;03m# this function, and just call forward.\u001b[39;00m\n\u001b[1;32m   1559\u001b[0m \u001b[38;5;28;01mif\u001b[39;00m \u001b[38;5;129;01mnot\u001b[39;00m (\u001b[38;5;28mself\u001b[39m\u001b[38;5;241m.\u001b[39m_backward_hooks \u001b[38;5;129;01mor\u001b[39;00m \u001b[38;5;28mself\u001b[39m\u001b[38;5;241m.\u001b[39m_backward_pre_hooks \u001b[38;5;129;01mor\u001b[39;00m \u001b[38;5;28mself\u001b[39m\u001b[38;5;241m.\u001b[39m_forward_hooks \u001b[38;5;129;01mor\u001b[39;00m \u001b[38;5;28mself\u001b[39m\u001b[38;5;241m.\u001b[39m_forward_pre_hooks\n\u001b[1;32m   1560\u001b[0m         \u001b[38;5;129;01mor\u001b[39;00m _global_backward_pre_hooks \u001b[38;5;129;01mor\u001b[39;00m _global_backward_hooks\n\u001b[1;32m   1561\u001b[0m         \u001b[38;5;129;01mor\u001b[39;00m _global_forward_hooks \u001b[38;5;129;01mor\u001b[39;00m _global_forward_pre_hooks):\n\u001b[0;32m-> 1562\u001b[0m     \u001b[38;5;28;01mreturn\u001b[39;00m \u001b[43mforward_call\u001b[49m\u001b[43m(\u001b[49m\u001b[38;5;241;43m*\u001b[39;49m\u001b[43margs\u001b[49m\u001b[43m,\u001b[49m\u001b[43m \u001b[49m\u001b[38;5;241;43m*\u001b[39;49m\u001b[38;5;241;43m*\u001b[39;49m\u001b[43mkwargs\u001b[49m\u001b[43m)\u001b[49m\n\u001b[1;32m   1564\u001b[0m \u001b[38;5;28;01mtry\u001b[39;00m:\n\u001b[1;32m   1565\u001b[0m     result \u001b[38;5;241m=\u001b[39m \u001b[38;5;28;01mNone\u001b[39;00m\n",
      "File \u001b[0;32m~/miniconda3/envs/mpra/lib/python3.12/site-packages/torch/nn/modules/container.py:219\u001b[0m, in \u001b[0;36mSequential.forward\u001b[0;34m(self, input)\u001b[0m\n\u001b[1;32m    217\u001b[0m \u001b[38;5;28;01mdef\u001b[39;00m \u001b[38;5;21mforward\u001b[39m(\u001b[38;5;28mself\u001b[39m, \u001b[38;5;28minput\u001b[39m):\n\u001b[1;32m    218\u001b[0m     \u001b[38;5;28;01mfor\u001b[39;00m module \u001b[38;5;129;01min\u001b[39;00m \u001b[38;5;28mself\u001b[39m:\n\u001b[0;32m--> 219\u001b[0m         \u001b[38;5;28minput\u001b[39m \u001b[38;5;241m=\u001b[39m \u001b[43mmodule\u001b[49m\u001b[43m(\u001b[49m\u001b[38;5;28;43minput\u001b[39;49m\u001b[43m)\u001b[49m\n\u001b[1;32m    220\u001b[0m     \u001b[38;5;28;01mreturn\u001b[39;00m \u001b[38;5;28minput\u001b[39m\n",
      "File \u001b[0;32m~/miniconda3/envs/mpra/lib/python3.12/site-packages/torch/nn/modules/module.py:1553\u001b[0m, in \u001b[0;36mModule._wrapped_call_impl\u001b[0;34m(self, *args, **kwargs)\u001b[0m\n\u001b[1;32m   1551\u001b[0m     \u001b[38;5;28;01mreturn\u001b[39;00m \u001b[38;5;28mself\u001b[39m\u001b[38;5;241m.\u001b[39m_compiled_call_impl(\u001b[38;5;241m*\u001b[39margs, \u001b[38;5;241m*\u001b[39m\u001b[38;5;241m*\u001b[39mkwargs)  \u001b[38;5;66;03m# type: ignore[misc]\u001b[39;00m\n\u001b[1;32m   1552\u001b[0m \u001b[38;5;28;01melse\u001b[39;00m:\n\u001b[0;32m-> 1553\u001b[0m     \u001b[38;5;28;01mreturn\u001b[39;00m \u001b[38;5;28;43mself\u001b[39;49m\u001b[38;5;241;43m.\u001b[39;49m\u001b[43m_call_impl\u001b[49m\u001b[43m(\u001b[49m\u001b[38;5;241;43m*\u001b[39;49m\u001b[43margs\u001b[49m\u001b[43m,\u001b[49m\u001b[43m \u001b[49m\u001b[38;5;241;43m*\u001b[39;49m\u001b[38;5;241;43m*\u001b[39;49m\u001b[43mkwargs\u001b[49m\u001b[43m)\u001b[49m\n",
      "File \u001b[0;32m~/miniconda3/envs/mpra/lib/python3.12/site-packages/torch/nn/modules/module.py:1562\u001b[0m, in \u001b[0;36mModule._call_impl\u001b[0;34m(self, *args, **kwargs)\u001b[0m\n\u001b[1;32m   1557\u001b[0m \u001b[38;5;66;03m# If we don't have any hooks, we want to skip the rest of the logic in\u001b[39;00m\n\u001b[1;32m   1558\u001b[0m \u001b[38;5;66;03m# this function, and just call forward.\u001b[39;00m\n\u001b[1;32m   1559\u001b[0m \u001b[38;5;28;01mif\u001b[39;00m \u001b[38;5;129;01mnot\u001b[39;00m (\u001b[38;5;28mself\u001b[39m\u001b[38;5;241m.\u001b[39m_backward_hooks \u001b[38;5;129;01mor\u001b[39;00m \u001b[38;5;28mself\u001b[39m\u001b[38;5;241m.\u001b[39m_backward_pre_hooks \u001b[38;5;129;01mor\u001b[39;00m \u001b[38;5;28mself\u001b[39m\u001b[38;5;241m.\u001b[39m_forward_hooks \u001b[38;5;129;01mor\u001b[39;00m \u001b[38;5;28mself\u001b[39m\u001b[38;5;241m.\u001b[39m_forward_pre_hooks\n\u001b[1;32m   1560\u001b[0m         \u001b[38;5;129;01mor\u001b[39;00m _global_backward_pre_hooks \u001b[38;5;129;01mor\u001b[39;00m _global_backward_hooks\n\u001b[1;32m   1561\u001b[0m         \u001b[38;5;129;01mor\u001b[39;00m _global_forward_hooks \u001b[38;5;129;01mor\u001b[39;00m _global_forward_pre_hooks):\n\u001b[0;32m-> 1562\u001b[0m     \u001b[38;5;28;01mreturn\u001b[39;00m \u001b[43mforward_call\u001b[49m\u001b[43m(\u001b[49m\u001b[38;5;241;43m*\u001b[39;49m\u001b[43margs\u001b[49m\u001b[43m,\u001b[49m\u001b[43m \u001b[49m\u001b[38;5;241;43m*\u001b[39;49m\u001b[38;5;241;43m*\u001b[39;49m\u001b[43mkwargs\u001b[49m\u001b[43m)\u001b[49m\n\u001b[1;32m   1564\u001b[0m \u001b[38;5;28;01mtry\u001b[39;00m:\n\u001b[1;32m   1565\u001b[0m     result \u001b[38;5;241m=\u001b[39m \u001b[38;5;28;01mNone\u001b[39;00m\n",
      "File \u001b[0;32m~/miniconda3/envs/mpra/lib/python3.12/site-packages/torch/nn/modules/container.py:219\u001b[0m, in \u001b[0;36mSequential.forward\u001b[0;34m(self, input)\u001b[0m\n\u001b[1;32m    217\u001b[0m \u001b[38;5;28;01mdef\u001b[39;00m \u001b[38;5;21mforward\u001b[39m(\u001b[38;5;28mself\u001b[39m, \u001b[38;5;28minput\u001b[39m):\n\u001b[1;32m    218\u001b[0m     \u001b[38;5;28;01mfor\u001b[39;00m module \u001b[38;5;129;01min\u001b[39;00m \u001b[38;5;28mself\u001b[39m:\n\u001b[0;32m--> 219\u001b[0m         \u001b[38;5;28minput\u001b[39m \u001b[38;5;241m=\u001b[39m \u001b[43mmodule\u001b[49m\u001b[43m(\u001b[49m\u001b[38;5;28;43minput\u001b[39;49m\u001b[43m)\u001b[49m\n\u001b[1;32m    220\u001b[0m     \u001b[38;5;28;01mreturn\u001b[39;00m \u001b[38;5;28minput\u001b[39m\n",
      "File \u001b[0;32m~/miniconda3/envs/mpra/lib/python3.12/site-packages/torch/nn/modules/module.py:1553\u001b[0m, in \u001b[0;36mModule._wrapped_call_impl\u001b[0;34m(self, *args, **kwargs)\u001b[0m\n\u001b[1;32m   1551\u001b[0m     \u001b[38;5;28;01mreturn\u001b[39;00m \u001b[38;5;28mself\u001b[39m\u001b[38;5;241m.\u001b[39m_compiled_call_impl(\u001b[38;5;241m*\u001b[39margs, \u001b[38;5;241m*\u001b[39m\u001b[38;5;241m*\u001b[39mkwargs)  \u001b[38;5;66;03m# type: ignore[misc]\u001b[39;00m\n\u001b[1;32m   1552\u001b[0m \u001b[38;5;28;01melse\u001b[39;00m:\n\u001b[0;32m-> 1553\u001b[0m     \u001b[38;5;28;01mreturn\u001b[39;00m \u001b[38;5;28;43mself\u001b[39;49m\u001b[38;5;241;43m.\u001b[39;49m\u001b[43m_call_impl\u001b[49m\u001b[43m(\u001b[49m\u001b[38;5;241;43m*\u001b[39;49m\u001b[43margs\u001b[49m\u001b[43m,\u001b[49m\u001b[43m \u001b[49m\u001b[38;5;241;43m*\u001b[39;49m\u001b[38;5;241;43m*\u001b[39;49m\u001b[43mkwargs\u001b[49m\u001b[43m)\u001b[49m\n",
      "File \u001b[0;32m~/miniconda3/envs/mpra/lib/python3.12/site-packages/torch/nn/modules/module.py:1562\u001b[0m, in \u001b[0;36mModule._call_impl\u001b[0;34m(self, *args, **kwargs)\u001b[0m\n\u001b[1;32m   1557\u001b[0m \u001b[38;5;66;03m# If we don't have any hooks, we want to skip the rest of the logic in\u001b[39;00m\n\u001b[1;32m   1558\u001b[0m \u001b[38;5;66;03m# this function, and just call forward.\u001b[39;00m\n\u001b[1;32m   1559\u001b[0m \u001b[38;5;28;01mif\u001b[39;00m \u001b[38;5;129;01mnot\u001b[39;00m (\u001b[38;5;28mself\u001b[39m\u001b[38;5;241m.\u001b[39m_backward_hooks \u001b[38;5;129;01mor\u001b[39;00m \u001b[38;5;28mself\u001b[39m\u001b[38;5;241m.\u001b[39m_backward_pre_hooks \u001b[38;5;129;01mor\u001b[39;00m \u001b[38;5;28mself\u001b[39m\u001b[38;5;241m.\u001b[39m_forward_hooks \u001b[38;5;129;01mor\u001b[39;00m \u001b[38;5;28mself\u001b[39m\u001b[38;5;241m.\u001b[39m_forward_pre_hooks\n\u001b[1;32m   1560\u001b[0m         \u001b[38;5;129;01mor\u001b[39;00m _global_backward_pre_hooks \u001b[38;5;129;01mor\u001b[39;00m _global_backward_hooks\n\u001b[1;32m   1561\u001b[0m         \u001b[38;5;129;01mor\u001b[39;00m _global_forward_hooks \u001b[38;5;129;01mor\u001b[39;00m _global_forward_pre_hooks):\n\u001b[0;32m-> 1562\u001b[0m     \u001b[38;5;28;01mreturn\u001b[39;00m \u001b[43mforward_call\u001b[49m\u001b[43m(\u001b[49m\u001b[38;5;241;43m*\u001b[39;49m\u001b[43margs\u001b[49m\u001b[43m,\u001b[49m\u001b[43m \u001b[49m\u001b[38;5;241;43m*\u001b[39;49m\u001b[38;5;241;43m*\u001b[39;49m\u001b[43mkwargs\u001b[49m\u001b[43m)\u001b[49m\n\u001b[1;32m   1564\u001b[0m \u001b[38;5;28;01mtry\u001b[39;00m:\n\u001b[1;32m   1565\u001b[0m     result \u001b[38;5;241m=\u001b[39m \u001b[38;5;28;01mNone\u001b[39;00m\n",
      "File \u001b[0;32m~/miniconda3/envs/mpra/lib/python3.12/site-packages/torch/nn/modules/conv.py:308\u001b[0m, in \u001b[0;36mConv1d.forward\u001b[0;34m(self, input)\u001b[0m\n\u001b[1;32m    307\u001b[0m \u001b[38;5;28;01mdef\u001b[39;00m \u001b[38;5;21mforward\u001b[39m(\u001b[38;5;28mself\u001b[39m, \u001b[38;5;28minput\u001b[39m: Tensor) \u001b[38;5;241m-\u001b[39m\u001b[38;5;241m>\u001b[39m Tensor:\n\u001b[0;32m--> 308\u001b[0m     \u001b[38;5;28;01mreturn\u001b[39;00m \u001b[38;5;28;43mself\u001b[39;49m\u001b[38;5;241;43m.\u001b[39;49m\u001b[43m_conv_forward\u001b[49m\u001b[43m(\u001b[49m\u001b[38;5;28;43minput\u001b[39;49m\u001b[43m,\u001b[49m\u001b[43m \u001b[49m\u001b[38;5;28;43mself\u001b[39;49m\u001b[38;5;241;43m.\u001b[39;49m\u001b[43mweight\u001b[49m\u001b[43m,\u001b[49m\u001b[43m \u001b[49m\u001b[38;5;28;43mself\u001b[39;49m\u001b[38;5;241;43m.\u001b[39;49m\u001b[43mbias\u001b[49m\u001b[43m)\u001b[49m\n",
      "File \u001b[0;32m~/miniconda3/envs/mpra/lib/python3.12/site-packages/torch/nn/modules/conv.py:304\u001b[0m, in \u001b[0;36mConv1d._conv_forward\u001b[0;34m(self, input, weight, bias)\u001b[0m\n\u001b[1;32m    300\u001b[0m \u001b[38;5;28;01mif\u001b[39;00m \u001b[38;5;28mself\u001b[39m\u001b[38;5;241m.\u001b[39mpadding_mode \u001b[38;5;241m!=\u001b[39m \u001b[38;5;124m'\u001b[39m\u001b[38;5;124mzeros\u001b[39m\u001b[38;5;124m'\u001b[39m:\n\u001b[1;32m    301\u001b[0m     \u001b[38;5;28;01mreturn\u001b[39;00m F\u001b[38;5;241m.\u001b[39mconv1d(F\u001b[38;5;241m.\u001b[39mpad(\u001b[38;5;28minput\u001b[39m, \u001b[38;5;28mself\u001b[39m\u001b[38;5;241m.\u001b[39m_reversed_padding_repeated_twice, mode\u001b[38;5;241m=\u001b[39m\u001b[38;5;28mself\u001b[39m\u001b[38;5;241m.\u001b[39mpadding_mode),\n\u001b[1;32m    302\u001b[0m                     weight, bias, \u001b[38;5;28mself\u001b[39m\u001b[38;5;241m.\u001b[39mstride,\n\u001b[1;32m    303\u001b[0m                     _single(\u001b[38;5;241m0\u001b[39m), \u001b[38;5;28mself\u001b[39m\u001b[38;5;241m.\u001b[39mdilation, \u001b[38;5;28mself\u001b[39m\u001b[38;5;241m.\u001b[39mgroups)\n\u001b[0;32m--> 304\u001b[0m \u001b[38;5;28;01mreturn\u001b[39;00m \u001b[43mF\u001b[49m\u001b[38;5;241;43m.\u001b[39;49m\u001b[43mconv1d\u001b[49m\u001b[43m(\u001b[49m\u001b[38;5;28;43minput\u001b[39;49m\u001b[43m,\u001b[49m\u001b[43m \u001b[49m\u001b[43mweight\u001b[49m\u001b[43m,\u001b[49m\u001b[43m \u001b[49m\u001b[43mbias\u001b[49m\u001b[43m,\u001b[49m\u001b[43m \u001b[49m\u001b[38;5;28;43mself\u001b[39;49m\u001b[38;5;241;43m.\u001b[39;49m\u001b[43mstride\u001b[49m\u001b[43m,\u001b[49m\n\u001b[1;32m    305\u001b[0m \u001b[43m                \u001b[49m\u001b[38;5;28;43mself\u001b[39;49m\u001b[38;5;241;43m.\u001b[39;49m\u001b[43mpadding\u001b[49m\u001b[43m,\u001b[49m\u001b[43m \u001b[49m\u001b[38;5;28;43mself\u001b[39;49m\u001b[38;5;241;43m.\u001b[39;49m\u001b[43mdilation\u001b[49m\u001b[43m,\u001b[49m\u001b[43m \u001b[49m\u001b[38;5;28;43mself\u001b[39;49m\u001b[38;5;241;43m.\u001b[39;49m\u001b[43mgroups\u001b[49m\u001b[43m)\u001b[49m\n",
      "\u001b[0;31mTypeError\u001b[0m: conv1d() received an invalid combination of arguments - got (tuple, Parameter, Parameter, tuple, tuple, tuple, int), but expected one of:\n * (Tensor input, Tensor weight, Tensor bias = None, tuple of ints stride = 1, tuple of ints padding = 0, tuple of ints dilation = 1, int groups = 1)\n      didn't match because some of the arguments have invalid types: (!tuple of (str, str, str, str, str, str, str, str, str, str, str, str, str, str, str, str, str, str, str, str, str, str, str, str, str, str, str, str, str, str, str, str, str, str, str, str, str, str, str, str, str, str, str, str, str, str, str, str, str, str, str, str, str, str, str, str, str, str, str, str, str, str, str, str, str, str, str, str, str, str, str, str, str, str, str, str, str, str, str, str, str, str, str, str, str, str, str, str, str, str, str, str, str, str, str, str, str, str, str, str, str, str, str, str, str, str, str, str, str, str, str, str, str, str, str, str, str, str, str, str, str, str, str, str, str, str, str, str)!, !Parameter!,"
     ]
    }
   ],
   "source": [
    "seq_model = Seq1Model(seq_len=len(train_dataset[0][0][0]), lr = 3e-3)\n",
    "\n",
    "# Initialize a trainer\n",
    "trainer = L.Trainer(\n",
    "    accelerator=\"gpu\",\n",
    "    devices=[0],\n",
    "    max_epochs=20,\n",
    "    gradient_clip_val=1,\n",
    "    precision='16-mixed', \n",
    "    enable_progress_bar = False,\n",
    "    #callbacks=[TQDMProgressBar(refresh_rate=55)]\n",
    "    #logger = logger\n",
    ")\n",
    "\n",
    "# Train the model\n",
    "trainer.fit(seq_model,\n",
    "            train_dataloaders=train_loader,\n",
    "            val_dataloaders=val_loader)"
   ]
  },
  {
   "cell_type": "code",
   "execution_count": 22,
   "id": "18204ae5-c088-42bf-a69a-cfb6712832b0",
   "metadata": {},
   "outputs": [
    {
     "name": "stderr",
     "output_type": "stream",
     "text": [
      "LOCAL_RANK: 0 - CUDA_VISIBLE_DEVICES: [0,1]\n"
     ]
    },
    {
     "name": "stdout",
     "output_type": "stream",
     "text": [
      "Precision (при пороге 0.5): 0.85\n",
      "Recall (при пороге 0.5): 0.88\n",
      "PR-AUC (correct): 0.95\n",
      "PR-AUC: 0.95\n"
     ]
    },
    {
     "data": {
      "image/png": "[encoded data removed]",
      "text/plain": [
       "<Figure size 400x300 with 1 Axes>"
      ]
     },
     "metadata": {},
     "output_type": "display_data"
    }
   ],
   "source": [
    "plotting_PR_AUC(seq_model, val_loader)"
   ]
  },
  {
   "cell_type": "code",
   "execution_count": 18,
   "id": "deb87d55-2682-458b-8a26-7d431f86af07",
   "metadata": {},
   "outputs": [
    {
     "name": "stderr",
     "output_type": "stream",
     "text": [
      "LOCAL_RANK: 0 - CUDA_VISIBLE_DEVICES: [0,1]\n"
     ]
    }
   ],
   "source": [
    "act = nn.Sigmoid()\n",
    "    #get predicted values\n",
    "y_preds = trainer.predict(seq_model, dataloaders=test_loader)\n",
    "y_preds = torch.concat(y_preds).cpu().numpy()\n",
    "y_preds = torch.tensor(y_preds).squeeze()\n",
    "    #get target values\n",
    "targets = []\n",
    "for i, batch in enumerate(test_loader):\n",
    "    x, y = batch\n",
    "    targets.append(y)\n",
    "targets = torch.tensor(torch.concat(targets).cpu().numpy())\n",
    "y_preds = act(y_preds)"
   ]
  },
  {
   "cell_type": "code",
   "execution_count": 19,
   "id": "ebeb01cc-f00c-4e3d-ac66-a57f744fdc5b",
   "metadata": {},
   "outputs": [
    {
     "data": {
      "text/plain": [
       "1226"
      ]
     },
     "execution_count": 19,
     "metadata": {},
     "output_type": "execute_result"
    }
   ],
   "source": [
    "len(y_preds[y_preds > 0.5])"
   ]
  },
  {
   "cell_type": "markdown",
   "id": "4a485838-9e97-4efe-82a4-cb5f37aeef7a",
   "metadata": {
    "jp-MarkdownHeadingCollapsed": true
   },
   "source": [
    "# Promoter capture"
   ]
  },
  {
   "cell_type": "code",
   "execution_count": 9,
   "id": "4b4262d8-a8d0-4e76-b142-898295a5864d",
   "metadata": {},
   "outputs": [],
   "source": [
    "BATCH_SIZE = 512\n",
    "NUM_WORKERS = 103\n",
    "train_transform = t.Compose([\n",
    "    t.Seq2Tensor()\n",
    "])\n",
    "val_test_transform = t.Compose([\n",
    "    t.Seq2Tensor()\n",
    "])\n",
    "task = \"CapturePromoter\"\n",
    "train_dataset = MassiveStarrDataset(task = task, split = \"train\",transform = train_transform)\n",
    "\n",
    "val_dataset = MassiveStarrDataset(task = task, split = \"val\",transform = val_test_transform) \n",
    "\n",
    "test_dataset = MassiveStarrDataset(task = task, split = \"test\", transform = val_test_transform)\n",
    "\n",
    "# encapsulate data into dataloader form\n",
    "train_loader = data.DataLoader(dataset=train_dataset, batch_size=BATCH_SIZE, shuffle=True, num_workers = NUM_WORKERS)\n",
    "val_loader = data.DataLoader(dataset=val_dataset, batch_size=BATCH_SIZE, shuffle=False, num_workers = NUM_WORKERS)\n",
    "test_loader = data.DataLoader(dataset=test_dataset, batch_size=BATCH_SIZE, shuffle=False, num_workers = NUM_WORKERS)"
   ]
  },
  {
   "cell_type": "code",
   "execution_count": 10,
   "id": "927b2480-1640-4ed2-b067-28bf3f0cf972",
   "metadata": {
    "scrolled": true
   },
   "outputs": [
    {
     "name": "stderr",
     "output_type": "stream",
     "text": [
      "Using 16bit Automatic Mixed Precision (AMP)\n",
      "GPU available: True (cuda), used: True\n",
      "TPU available: False, using: 0 TPU cores\n",
      "HPU available: False, using: 0 HPUs\n",
      "LOCAL_RANK: 0 - CUDA_VISIBLE_DEVICES: [0,1]\n",
      "Loading `train_dataloader` to estimate number of stepping batches.\n",
      "\n",
      "  | Name  | Type              | Params | Mode \n",
      "----------------------------------------------------\n",
      "0 | model | Simple_Net        | 21.3 K | train\n",
      "1 | loss  | BCEWithLogitsLoss | 0      | train\n",
      "----------------------------------------------------\n",
      "21.3 K    Trainable params\n",
      "0         Non-trainable params\n",
      "21.3 K    Total params\n",
      "0.085     Total estimated model params size (MB)\n",
      "32        Modules in train mode\n",
      "0         Modules in eval mode\n"
     ]
    },
    {
     "name": "stdout",
     "output_type": "stream",
     "text": [
      "\n",
      "----------------------------------------------\n",
      "| current_epoch: 0.00000 | val_loss: 0.69866 |\n",
      "----------------------------------------------\n",
      "\n",
      "\n",
      "----------------------------------------------\n",
      "| current_epoch: 0.00000 | val_loss: 0.59919 |\n",
      "----------------------------------------------\n",
      "\n",
      "\n",
      "----------------------------------------------\n",
      "| current_epoch: 1.00000 | val_loss: 0.55338 |\n",
      "----------------------------------------------\n",
      "\n",
      "\n",
      "----------------------------------------------\n",
      "| current_epoch: 2.00000 | val_loss: 0.55768 |\n",
      "----------------------------------------------\n",
      "\n",
      "\n",
      "----------------------------------------------\n",
      "| current_epoch: 3.00000 | val_loss: 0.55359 |\n",
      "----------------------------------------------\n",
      "\n"
     ]
    },
    {
     "name": "stderr",
     "output_type": "stream",
     "text": [
      "`Trainer.fit` stopped: `max_epochs=5` reached.\n"
     ]
    },
    {
     "name": "stdout",
     "output_type": "stream",
     "text": [
      "\n",
      "----------------------------------------------\n",
      "| current_epoch: 4.00000 | val_loss: 0.55898 |\n",
      "----------------------------------------------\n",
      "\n"
     ]
    }
   ],
   "source": [
    "seq_model = Seq1Model(seq_len=len(train_dataset[0][0][0]), lr = 0.01)\n",
    "\n",
    "# Initialize a trainer\n",
    "trainer = L.Trainer(\n",
    "    accelerator=\"gpu\",\n",
    "    devices=[0],\n",
    "    max_epochs=5,\n",
    "    gradient_clip_val=1,\n",
    "    precision='16-mixed', \n",
    "    enable_progress_bar = False,\n",
    "    #callbacks=[TQDMProgressBar(refresh_rate=55)]\n",
    "    #logger = logger\n",
    ")\n",
    "\n",
    "# Train the model\n",
    "trainer.fit(seq_model,\n",
    "            train_dataloaders=train_loader,\n",
    "            val_dataloaders=val_loader)"
   ]
  },
  {
   "cell_type": "code",
   "execution_count": 52,
   "id": "fba55eab-85e6-4303-9c6b-38bb8afa24a3",
   "metadata": {},
   "outputs": [
    {
     "name": "stderr",
     "output_type": "stream",
     "text": [
      "LOCAL_RANK: 0 - CUDA_VISIBLE_DEVICES: [0,1]\n"
     ]
    },
    {
     "name": "stdout",
     "output_type": "stream",
     "text": [
      "Precision (при пороге 0.5): 0.85\n",
      "Recall (при пороге 0.5): 0.83\n",
      "PR-AUC: 0.92\n"
     ]
    },
    {
     "data": {
      "image/png": "[encoded data removed]",
      "text/plain": [
       "<Figure size 400x300 with 1 Axes>"
      ]
     },
     "metadata": {},
     "output_type": "display_data"
    }
   ],
   "source": [
    "plotting_PR_AUC(seq_model, test_loader)"
   ]
  },
  {
   "cell_type": "markdown",
   "id": "4f8dcffb-6772-4791-9386-015d3cec982c",
   "metadata": {
    "jp-MarkdownHeadingCollapsed": true
   },
   "source": [
    "# Genome enhancer"
   ]
  },
  {
   "cell_type": "code",
   "execution_count": 10,
   "id": "c137677c-cf79-4a9e-9dc1-47c16f69112f",
   "metadata": {},
   "outputs": [],
   "source": [
    "BATCH_SIZE = 1024\n",
    "NUM_WORKERS = 103\n",
    "train_transform = t.Compose([\n",
    "    t.Seq2Tensor()\n",
    "])\n",
    "val_test_transform = t.Compose([\n",
    "    t.Seq2Tensor()\n",
    "])\n",
    "task = \"GenomicEnhancer\"\n",
    "train_dataset = MassiveStarrDataset(task = task, split = \"train\",transform = train_transform)\n",
    "\n",
    "val_dataset = MassiveStarrDataset(task = task, split = \"val\",transform = val_test_transform) \n",
    "\n",
    "test_dataset = MassiveStarrDataset(task = task, split = \"test\", transform = val_test_transform)\n",
    "\n",
    "# encapsulate data into dataloader form\n",
    "train_loader = data.DataLoader(dataset=train_dataset, batch_size=BATCH_SIZE, shuffle=True, num_workers = NUM_WORKERS)\n",
    "val_loader = data.DataLoader(dataset=val_dataset, batch_size=BATCH_SIZE, shuffle=False, num_workers = NUM_WORKERS)\n",
    "test_loader = data.DataLoader(dataset=test_dataset, batch_size=BATCH_SIZE, shuffle=False, num_workers = NUM_WORKERS)"
   ]
  },
  {
   "cell_type": "code",
   "execution_count": 6,
   "id": "69a84dbc-641a-4ef4-907a-aee77804b841",
   "metadata": {},
   "outputs": [
    {
     "name": "stderr",
     "output_type": "stream",
     "text": [
      "Using 16bit Automatic Mixed Precision (AMP)\n",
      "GPU available: True (cuda), used: True\n",
      "TPU available: False, using: 0 TPU cores\n",
      "HPU available: False, using: 0 HPUs\n",
      "You are using a CUDA device ('NVIDIA GeForce RTX 3090') that has Tensor Cores. To properly utilize them, you should set `torch.set_float32_matmul_precision('medium' | 'high')` which will trade-off precision for performance. For more details, read https://pytorch.org/docs/stable/generated/torch.set_float32_matmul_precision.html#torch.set_float32_matmul_precision\n",
      "2024-12-22 21:25:48.873007: I tensorflow/core/util/port.cc:153] oneDNN custom operations are on. You may see slightly different numerical results due to floating-point round-off errors from different computation orders. To turn them off, set the environment variable `TF_ENABLE_ONEDNN_OPTS=0`.\n",
      "2024-12-22 21:25:48.888167: E external/local_xla/xla/stream_executor/cuda/cuda_fft.cc:477] Unable to register cuFFT factory: Attempting to register factory for plugin cuFFT when one has already been registered\n",
      "WARNING: All log messages before absl::InitializeLog() is called are written to STDERR\n",
      "E0000 00:00:1734891948.905770  183772 cuda_dnn.cc:8310] Unable to register cuDNN factory: Attempting to register factory for plugin cuDNN when one has already been registered\n",
      "E0000 00:00:1734891948.911044  183772 cuda_blas.cc:1418] Unable to register cuBLAS factory: Attempting to register factory for plugin cuBLAS when one has already been registered\n",
      "2024-12-22 21:25:48.930547: I tensorflow/core/platform/cpu_feature_guard.cc:210] This TensorFlow binary is optimized to use available CPU instructions in performance-critical operations.\n",
      "To enable the following instructions: AVX2 AVX512F AVX512_VNNI FMA, in other operations, rebuild TensorFlow with the appropriate compiler flags.\n",
      "LOCAL_RANK: 0 - CUDA_VISIBLE_DEVICES: [0,1]\n",
      "Loading `train_dataloader` to estimate number of stepping batches.\n",
      "\n",
      "  | Name  | Type              | Params | Mode \n",
      "----------------------------------------------------\n",
      "0 | model | Simple_Net        | 540 K  | train\n",
      "1 | loss  | BCEWithLogitsLoss | 0      | train\n",
      "----------------------------------------------------\n",
      "540 K     Trainable params\n",
      "0         Non-trainable params\n",
      "540 K     Total params\n",
      "2.162     Total estimated model params size (MB)\n",
      "32        Modules in train mode\n",
      "0         Modules in eval mode\n"
     ]
    },
    {
     "name": "stdout",
     "output_type": "stream",
     "text": [
      "\n",
      "----------------------------------------------\n",
      "| current_epoch: 0.00000 | val_loss: 0.62637 |\n",
      "----------------------------------------------\n",
      "\n",
      "\n",
      "----------------------------------------------\n",
      "| current_epoch: 0.00000 | val_loss: 0.56372 |\n",
      "----------------------------------------------\n",
      "\n",
      "\n",
      "----------------------------------------------\n",
      "| current_epoch: 1.00000 | val_loss: 0.55484 |\n",
      "----------------------------------------------\n",
      "\n",
      "\n",
      "----------------------------------------------\n",
      "| current_epoch: 2.00000 | val_loss: 0.53585 |\n",
      "----------------------------------------------\n",
      "\n",
      "\n",
      "----------------------------------------------\n",
      "| current_epoch: 3.00000 | val_loss: 0.52830 |\n",
      "----------------------------------------------\n",
      "\n"
     ]
    },
    {
     "name": "stderr",
     "output_type": "stream",
     "text": [
      "`Trainer.fit` stopped: `max_epochs=5` reached.\n"
     ]
    },
    {
     "name": "stdout",
     "output_type": "stream",
     "text": [
      "\n",
      "----------------------------------------------\n",
      "| current_epoch: 4.00000 | val_loss: 0.54086 |\n",
      "----------------------------------------------\n",
      "\n"
     ]
    }
   ],
   "source": [
    "seq_model = Seq1Model(seq_len=len(train_dataset[0][0][0]), lr = 0.01)\n",
    "\n",
    "# Initialize a trainer\n",
    "trainer = L.Trainer(\n",
    "    accelerator=\"gpu\",\n",
    "    devices=[0],\n",
    "    max_epochs=5,\n",
    "    gradient_clip_val=1,\n",
    "    precision='16-mixed', \n",
    "    enable_progress_bar = False,\n",
    "    #callbacks=[TQDMProgressBar(refresh_rate=55)]\n",
    "    #logger = logger\n",
    ")\n",
    "\n",
    "# Train the model\n",
    "trainer.fit(seq_model,\n",
    "            train_dataloaders=train_loader,\n",
    "            val_dataloaders=val_loader)"
   ]
  },
  {
   "cell_type": "code",
   "execution_count": 7,
   "id": "dea7d04f-7df9-412c-9e0a-cd238e4cdca6",
   "metadata": {},
   "outputs": [
    {
     "name": "stderr",
     "output_type": "stream",
     "text": [
      "LOCAL_RANK: 0 - CUDA_VISIBLE_DEVICES: [0,1]\n"
     ]
    },
    {
     "name": "stdout",
     "output_type": "stream",
     "text": [
      "Precision (при пороге 0.5): 0.81\n",
      "Recall (при пороге 0.5): 0.63\n",
      "PR-AUC: 0.84\n"
     ]
    },
    {
     "data": {
      "image/png": "[encoded data removed]",
      "text/plain": [
       "<Figure size 400x300 with 1 Axes>"
      ]
     },
     "metadata": {},
     "output_type": "display_data"
    }
   ],
   "source": [
    "plotting_PR_AUC(seq_model, test_loader)"
   ]
  },
  {
   "cell_type": "markdown",
   "id": "edacab3d-b29e-4c79-b26a-f15664dda872",
   "metadata": {
    "jp-MarkdownHeadingCollapsed": true
   },
   "source": [
    "# ATACseq"
   ]
  },
  {
   "cell_type": "code",
   "execution_count": 11,
   "id": "c04435b0-1f92-4427-989f-14c7e5e65eab",
   "metadata": {},
   "outputs": [],
   "source": [
    "BATCH_SIZE = 2048\n",
    "NUM_WORKERS = 103\n",
    "train_transform = t.Compose([\n",
    "    t.Seq2Tensor()\n",
    "])\n",
    "val_test_transform = t.Compose([\n",
    "    t.Seq2Tensor()\n",
    "])\n",
    "task = \"atacseq\"\n",
    "train_dataset = MassiveStarrDataset(task = task, split = \"train\",transform = train_transform)\n",
    "\n",
    "val_dataset = MassiveStarrDataset(task = task, split = \"val\",transform = val_test_transform) \n",
    "\n",
    "test_dataset = MassiveStarrDataset(task = task, split = \"test\", transform = val_test_transform)\n",
    "\n",
    "# encapsulate data into dataloader form\n",
    "train_loader = data.DataLoader(dataset=train_dataset, batch_size=BATCH_SIZE, shuffle=True, num_workers = NUM_WORKERS)\n",
    "val_loader = data.DataLoader(dataset=val_dataset, batch_size=BATCH_SIZE, shuffle=False, num_workers = NUM_WORKERS)\n",
    "test_loader = data.DataLoader(dataset=test_dataset, batch_size=BATCH_SIZE, shuffle=False, num_workers = NUM_WORKERS)"
   ]
  },
  {
   "cell_type": "code",
   "execution_count": 37,
   "id": "95c60215-76a5-4b23-affa-0e4f606c221a",
   "metadata": {},
   "outputs": [
    {
     "name": "stderr",
     "output_type": "stream",
     "text": [
      "Using 16bit Automatic Mixed Precision (AMP)\n",
      "GPU available: True (cuda), used: True\n",
      "TPU available: False, using: 0 TPU cores\n",
      "HPU available: False, using: 0 HPUs\n",
      "LOCAL_RANK: 0 - CUDA_VISIBLE_DEVICES: [0,1]\n",
      "Loading `train_dataloader` to estimate number of stepping batches.\n",
      "\n",
      "  | Name  | Type              | Params | Mode \n",
      "----------------------------------------------------\n",
      "0 | model | Simple_Net        | 540 K  | train\n",
      "1 | loss  | BCEWithLogitsLoss | 0      | train\n",
      "----------------------------------------------------\n",
      "540 K     Trainable params\n",
      "0         Non-trainable params\n",
      "540 K     Total params\n",
      "2.162     Total estimated model params size (MB)\n",
      "32        Modules in train mode\n",
      "0         Modules in eval mode\n"
     ]
    },
    {
     "name": "stdout",
     "output_type": "stream",
     "text": [
      "\n",
      "----------------------------------------------\n",
      "| current_epoch: 0.00000 | val_loss: 0.72036 |\n",
      "----------------------------------------------\n",
      "\n",
      "\n",
      "----------------------------------------------\n",
      "| current_epoch: 0.00000 | val_loss: 0.39401 |\n",
      "----------------------------------------------\n",
      "\n",
      "\n",
      "----------------------------------------------\n",
      "| current_epoch: 1.00000 | val_loss: 0.38693 |\n",
      "----------------------------------------------\n",
      "\n",
      "\n",
      "----------------------------------------------\n",
      "| current_epoch: 2.00000 | val_loss: 0.37577 |\n",
      "----------------------------------------------\n",
      "\n",
      "\n",
      "----------------------------------------------\n",
      "| current_epoch: 3.00000 | val_loss: 0.37593 |\n",
      "----------------------------------------------\n",
      "\n"
     ]
    },
    {
     "name": "stderr",
     "output_type": "stream",
     "text": [
      "`Trainer.fit` stopped: `max_epochs=5` reached.\n"
     ]
    },
    {
     "name": "stdout",
     "output_type": "stream",
     "text": [
      "\n",
      "----------------------------------------------\n",
      "| current_epoch: 4.00000 | val_loss: 0.38308 |\n",
      "----------------------------------------------\n",
      "\n"
     ]
    }
   ],
   "source": [
    "seq_model = Seq1Model(seq_len=len(train_dataset[0][0][0]), lr = 0.01)\n",
    "\n",
    "# Initialize a trainer\n",
    "trainer = L.Trainer(\n",
    "    accelerator=\"gpu\",\n",
    "    devices=[0],\n",
    "    max_epochs=5,\n",
    "    gradient_clip_val=1,\n",
    "    precision='16-mixed', \n",
    "    enable_progress_bar = False,\n",
    "    #callbacks=[TQDMProgressBar(refresh_rate=55)]\n",
    "    #logger = logger\n",
    ")\n",
    "\n",
    "# Train the model\n",
    "trainer.fit(seq_model,\n",
    "            train_dataloaders=train_loader,\n",
    "            val_dataloaders=val_loader)"
   ]
  },
  {
   "cell_type": "code",
   "execution_count": 38,
   "id": "f17b6506-b9e1-4864-96d2-74903a5d2ca4",
   "metadata": {},
   "outputs": [
    {
     "name": "stderr",
     "output_type": "stream",
     "text": [
      "LOCAL_RANK: 0 - CUDA_VISIBLE_DEVICES: [0,1]\n"
     ]
    },
    {
     "name": "stdout",
     "output_type": "stream",
     "text": [
      "Precision (при пороге 0.5): 0.86\n",
      "Recall (при пороге 0.5): 0.73\n",
      "PR-AUC: 0.90\n"
     ]
    },
    {
     "data": {
      "image/png": "[encoded data removed]",
      "text/plain": [
       "<Figure size 400x300 with 1 Axes>"
      ]
     },
     "metadata": {},
     "output_type": "display_data"
    }
   ],
   "source": [
    "plotting_PR_AUC(seq_model, test_loader)"
   ]
  },
  {
   "cell_type": "markdown",
   "id": "8adbcccd-e25b-4ea6-88ea-cc6ed283092b",
   "metadata": {},
   "source": [
    "# Differential Expression task"
   ]
  },
  {
   "cell_type": "code",
   "execution_count": 6,
   "id": "7f7f00de-61b1-44e8-976b-d3edcd0ff33f",
   "metadata": {},
   "outputs": [],
   "source": [
    "class diff_expr_net(nn.Module):\n",
    "    \n",
    "    def __init__(self, output_dim = 1, seq_len = 150, in_ch = 4, block_sizes=[256]\n",
    ", kernel_size=7):\n",
    "        \n",
    "        super().__init__()\n",
    "        self.seq_len = seq_len\n",
    "        self.in_ch = in_ch\n",
    "        self.out_ch = output_dim\n",
    "        out_ch = 64\n",
    "        nn_blocks = []\n",
    "      \n",
    "        for in_bs, out_bs in zip([in_ch] + block_sizes, block_sizes):\n",
    "            \n",
    "            block = nn.Sequential(\n",
    "                nn.Conv1d(in_bs, out_bs, kernel_size=kernel_size, padding=1),\n",
    "                nn.SiLU(),\n",
    "                nn.BatchNorm1d(out_bs)\n",
    "            )\n",
    "            nn_blocks.append(block)\n",
    "            \n",
    "        self.conv_net = nn.Sequential(\n",
    "            *nn_blocks,\n",
    "            nn.Flatten(),\n",
    "            nn.Linear(block_sizes[-1] * (seq_len + len(block_sizes)*(3-kernel_size)), out_ch),\n",
    "        )\n",
    "        self.head = nn.Sequential(nn.Linear(out_ch, out_ch),\n",
    "                                   nn.BatchNorm1d(out_ch),\n",
    "                                   nn.SiLU(),\n",
    "                                   nn.Linear(out_ch, self.out_ch))\n",
    "\n",
    "    def forward(self, x):\n",
    "       \n",
    "        out = self.conv_net(x)\n",
    "        out = self.head(out)\n",
    "        \n",
    "        return out\n",
    "        "
   ]
  },
  {
   "cell_type": "code",
   "execution_count": 7,
   "id": "c4ec09a6-21e6-40b5-a0f4-4e75d1d85c0a",
   "metadata": {},
   "outputs": [],
   "source": [
    "import math\n",
    "\n",
    "import torch\n",
    "import torch.nn as nn\n",
    "import torch.nn.functional as F\n",
    "\n",
    "def initialize_weights(m):\n",
    "    if isinstance(m, nn.Conv1d):\n",
    "        n = m.kernel_size[0] * m.out_channels\n",
    "        m.weight.data.normal_(0, math.sqrt(2 / n))\n",
    "        if m.bias is not None:\n",
    "            nn.init.constant_(m.bias.data, 0)\n",
    "    elif isinstance(m, nn.BatchNorm1d):\n",
    "        nn.init.constant_(m.weight.data, 1)\n",
    "        nn.init.constant_(m.bias.data, 0)\n",
    "    elif isinstance(m, nn.Linear):\n",
    "        m.weight.data.normal_(0, 0.001)\n",
    "        if m.bias is not None:\n",
    "            nn.init.constant_(m.bias.data, 0)\n",
    "\n",
    "class SELayer(nn.Module):\n",
    "    def __init__(self, inp, reduction=4):\n",
    "        super(SELayer, self).__init__()\n",
    "        self.fc = nn.Sequential(\n",
    "                nn.Linear(inp, int(inp // reduction)),\n",
    "                nn.SiLU(),\n",
    "                nn.Linear(int(inp // reduction), inp),\n",
    "                nn.Sigmoid()\n",
    "        )\n",
    "\n",
    "    def forward(self, x):\n",
    "        b, c, _, = x.size()\n",
    "        y = x.view(b, c, -1).mean(dim=2)\n",
    "        y = self.fc(y).view(b, c, 1)\n",
    "        return x * y\n",
    "\n",
    "class EffBlock(nn.Module):\n",
    "    def __init__(self, in_ch, ks, resize_factor, activation, out_ch=None, se_reduction=None):\n",
    "        super().__init__()\n",
    "        self.in_ch = in_ch\n",
    "        self.out_ch = self.in_ch if out_ch is None else out_ch\n",
    "        self.resize_factor = resize_factor\n",
    "        self.se_reduction = resize_factor if se_reduction is None else se_reduction\n",
    "        self.ks = ks\n",
    "        self.inner_dim = self.in_ch * self.resize_factor\n",
    "\n",
    "        block = nn.Sequential(\n",
    "                        nn.Conv1d(\n",
    "                            in_channels=self.in_ch,\n",
    "                            out_channels=self.inner_dim,\n",
    "                            kernel_size=1,\n",
    "                            padding='same',\n",
    "                            bias=False\n",
    "                       ),\n",
    "                       nn.BatchNorm1d(self.inner_dim),\n",
    "                       activation(),\n",
    "\n",
    "                       nn.Conv1d(\n",
    "                            in_channels=self.inner_dim,\n",
    "                            out_channels=self.inner_dim,\n",
    "                            kernel_size=ks,\n",
    "                            groups=self.inner_dim,\n",
    "                            padding='same',\n",
    "                            bias=False\n",
    "                       ),\n",
    "                       nn.BatchNorm1d(self.inner_dim),\n",
    "                       activation(),\n",
    "                       SELayer(self.inner_dim, reduction=self.se_reduction),\n",
    "                       nn.Conv1d(\n",
    "                            in_channels=self.inner_dim,\n",
    "                            out_channels=self.in_ch,\n",
    "                            kernel_size=1,\n",
    "                            padding='same',\n",
    "                            bias=False\n",
    "                       ),\n",
    "                       nn.BatchNorm1d(self.in_ch),\n",
    "                       activation(),\n",
    "        )\n",
    "\n",
    "        self.block = block\n",
    "\n",
    "    def forward(self, x):\n",
    "        return self.block(x)\n",
    "\n",
    "class LocalBlock(nn.Module):\n",
    "    def __init__(self, in_ch, ks, activation, out_ch=None):\n",
    "        super().__init__()\n",
    "        self.in_ch = in_ch\n",
    "        self.out_ch = self.in_ch if out_ch is None else out_ch\n",
    "        self.ks = ks\n",
    "\n",
    "        self.block = nn.Sequential(\n",
    "                       nn.Conv1d(\n",
    "                            in_channels=self.in_ch,\n",
    "                            out_channels=self.out_ch,\n",
    "                            kernel_size=self.ks,\n",
    "                            padding='same',\n",
    "                            bias=False\n",
    "                       ),\n",
    "                       nn.BatchNorm1d(self.out_ch),\n",
    "                       activation()\n",
    "        )\n",
    "\n",
    "    def forward(self, x):\n",
    "        return self.block(x)\n",
    "\n",
    "class ResidualConcat(nn.Module):\n",
    "    def __init__(self, fn):\n",
    "        super().__init__()\n",
    "        self.fn = fn\n",
    "\n",
    "    def forward(self, x, **kwargs):\n",
    "        return torch.concat([self.fn(x, **kwargs), x], dim=1)\n",
    "\n",
    "class MapperBlock(nn.Module):\n",
    "    def __init__(self, in_features, out_features, activation=nn.SiLU):\n",
    "        super().__init__()\n",
    "        self.block = nn.Sequential(\n",
    "            nn.BatchNorm1d(in_features),\n",
    "            nn.Conv1d(in_channels=in_features,\n",
    "                      out_channels=out_features,\n",
    "                      kernel_size=1),\n",
    "        )\n",
    "\n",
    "    def forward(self, x):\n",
    "        return self.block(x)\n",
    "\n",
    "class HumanLegNet(nn.Module):\n",
    "    def __init__(self,\n",
    "                 in_ch,\n",
    "                 stem_ch,\n",
    "                 stem_ks,\n",
    "                 ef_ks,\n",
    "                 ef_block_sizes,\n",
    "                 pool_sizes,\n",
    "                 resize_factor,\n",
    "                 activation=nn.SiLU,\n",
    "                 ):\n",
    "        super().__init__()\n",
    "        assert len(pool_sizes) == len(ef_block_sizes)\n",
    "\n",
    "        self.in_ch = in_ch\n",
    "        self.stem = LocalBlock(in_ch=in_ch,\n",
    "                               out_ch=stem_ch,\n",
    "                               ks=stem_ks,\n",
    "                               activation=activation)\n",
    "\n",
    "        blocks = []\n",
    "\n",
    "        in_ch = stem_ch\n",
    "        out_ch = stem_ch\n",
    "        for pool_sz, out_ch in zip(pool_sizes, ef_block_sizes):\n",
    "            blc = nn.Sequential(\n",
    "                ResidualConcat(\n",
    "                    EffBlock(\n",
    "                        in_ch=in_ch,\n",
    "                        out_ch=in_ch,\n",
    "                        ks=ef_ks,\n",
    "                        resize_factor=resize_factor,\n",
    "                        activation=activation)\n",
    "                ),\n",
    "                LocalBlock(in_ch=in_ch * 2,\n",
    "                           out_ch=out_ch,\n",
    "                           ks=ef_ks,\n",
    "                           activation=activation),\n",
    "                nn.MaxPool1d(pool_sz) if pool_sz != 1 else nn.Identity()\n",
    "            )\n",
    "            in_ch = out_ch\n",
    "            blocks.append(blc)\n",
    "        self.main = nn.Sequential(*blocks)\n",
    "\n",
    "        self.mapper = MapperBlock(in_features=out_ch,\n",
    "                                  out_features=out_ch * 2)\n",
    "        self.head = nn.Sequential(nn.Linear(out_ch * 2, out_ch * 2),\n",
    "                                   nn.BatchNorm1d(out_ch * 2),\n",
    "                                   activation(),\n",
    "                                   nn.Linear(out_ch * 2, 1))\n",
    "\n",
    "    def forward(self, x):\n",
    "        x = self.stem(x)\n",
    "        x = self.main(x)\n",
    "        x = self.mapper(x)\n",
    "        x =  F.adaptive_avg_pool1d(x, 1)\n",
    "        x = x.squeeze(-1)\n",
    "        x = self.head(x)\n",
    "        x = x.squeeze(-1)\n",
    "        return x"
   ]
  },
  {
   "cell_type": "code",
   "execution_count": 8,
   "id": "f41ea46d-75cd-4848-ab30-ceb05e08ece8",
   "metadata": {
    "scrolled": true
   },
   "outputs": [],
   "source": [
    "BATCH_SIZE = 64\n",
    "NUM_WORKERS = 103\n",
    "train_transform = t.Compose([\n",
    "    t.Seq2Tensor(),\n",
    "    t.Reverse(0.5)\n",
    "])\n",
    "val_test_transform = t.Compose([\n",
    "    t.Seq2Tensor()\n",
    "])\n",
    "\n",
    "task = tasks[5]\n",
    "length = 150\n",
    "\n",
    "train_dataset = MassiveStarrDataset(task = task, split = \"train\", length = length, transform = train_transform)\n",
    "\n",
    "val_dataset = MassiveStarrDataset(task = task, split = \"val\", length = length, transform = val_test_transform) \n",
    "\n",
    "test_dataset = MassiveStarrDataset(task = task, split = \"test\", length = length, transform = val_test_transform)\n"
   ]
  },
  {
   "cell_type": "code",
   "execution_count": 9,
   "id": "a3eb8bc5-927e-49b3-811f-e913fd5d8bc3",
   "metadata": {
    "scrolled": true
   },
   "outputs": [
    {
     "name": "stdout",
     "output_type": "stream",
     "text": [
      "Dataset MassiveStarrDataset of size 8230 (MpraDaraset)\n",
      "    Number of datapoints: 8230\n",
      "    Default split folds: {}\n",
      "    Used split fold: ['chr1', 'chr3', 'chr5', 'chr7', 'chr9', 'chr13', 'chr14', 'chr15', 'chr16', 'chr17', 'chr18', 'chr19', 'chr20', 'chr21', 'chr22', 'chrX']\n",
      "    Scalar features: {}\n",
      "    Vector features: {}\n",
      "    Cell types: None\n",
      "    Сell type used: None\n",
      "    Target columns that can be used: {}\n",
      "    Number of channels: 150\n",
      "    Sequence size: 1\n",
      "    Number of samples: {}\n",
      "    Description: MassiveStarrDataset is based on \n",
      "====================\n",
      "Dataset MassiveStarrDataset of size 1467 (MpraDaraset)\n",
      "    Number of datapoints: 1467\n",
      "    Default split folds: {}\n",
      "    Used split fold: ['chr4', 'chr6', 'chr8']\n",
      "    Scalar features: {}\n",
      "    Vector features: {}\n",
      "    Cell types: None\n",
      "    Сell type used: None\n",
      "    Target columns that can be used: {}\n",
      "    Number of channels: 150\n",
      "    Sequence size: 1\n",
      "    Number of samples: {}\n",
      "    Description: MassiveStarrDataset is based on \n",
      "====================\n",
      "Dataset MassiveStarrDataset of size 2041 (MpraDaraset)\n",
      "    Number of datapoints: 2041\n",
      "    Default split folds: {}\n",
      "    Used split fold: ['chr2', 'chr10', 'chr11']\n",
      "    Scalar features: {}\n",
      "    Vector features: {}\n",
      "    Cell types: None\n",
      "    Сell type used: None\n",
      "    Target columns that can be used: {}\n",
      "    Number of channels: 150\n",
      "    Sequence size: 1\n",
      "    Number of samples: {}\n",
      "    Description: MassiveStarrDataset is based on \n"
     ]
    }
   ],
   "source": [
    "print(train_dataset)\n",
    "print(\"=\"*20)\n",
    "print(val_dataset)\n",
    "print(\"=\"*20)\n",
    "print(test_dataset)"
   ]
  },
  {
   "cell_type": "code",
   "execution_count": 10,
   "id": "45513b4f-f4a9-4007-99ac-fa79a2775c8f",
   "metadata": {},
   "outputs": [],
   "source": [
    "import pytorch_lightning as L\n",
    "from torch.nn import functional as F\n",
    "\n",
    "def pearson_correlation(x, y):\n",
    "    vx = x - torch.mean(x, dim=0)\n",
    "    vy = y - torch.mean(y, dim=0)\n",
    "    pearsons = torch.sum(vx * vy, dim=0) / (torch.sqrt(torch.sum(vx ** 2, dim=0)) * torch.sqrt(torch.sum(vy ** 2, dim=0)) + 1e-10)\n",
    "    return torch.mean(pearsons)\n",
    "    \n",
    "class SeqModel(L.LightningModule):\n",
    "    \n",
    "    def __init__(self, seq_len, lr=3e-4):\n",
    "        super().__init__()\n",
    "        self.model = diff_expr_net(seq_len = seq_len)\n",
    "        '''\n",
    "        self.model = HumanLegNet(in_ch=4,\n",
    "                                 stem_ch=64,\n",
    "                                 stem_ks=11,\n",
    "                                 ef_ks=9,\n",
    "                                 ef_block_sizes=[80, 96, 112, 128],\n",
    "                                 pool_sizes=[2,2,2,2],\n",
    "                                 resize_factor=4)\n",
    "        self.model.apply(initialize_weights)\n",
    "        '''\n",
    "        self.loss = nn.MSELoss().cuda()\n",
    "        self.lr = lr\n",
    "        self.val_loss = []\n",
    "        self.val_pears = []\n",
    "\n",
    "        self.train_loss = []\n",
    "        self.train_pears = []\n",
    "        \n",
    "    def forward(self, x):\n",
    "        return self.model(x)\n",
    "\n",
    "    def training_step(self, batch, batch_nb):\n",
    "        X, y = batch\n",
    "        y_hat = self.model(X).squeeze().cuda()\n",
    "        y = y.cuda()\n",
    "        loss = self.loss(y_hat, y)\n",
    "        self.log(\"train_loss\", loss, prog_bar=True,  on_step=True, on_epoch=True, logger = True)\n",
    "        self.train_loss.append(loss)\n",
    "\n",
    "        corr = pearson_correlation(y_hat, y)\n",
    "        self.train_pears.append(corr)\n",
    "        \n",
    "        lr = self.optimizers().param_groups[0]['lr']  # Get current learning rate\n",
    "        self.log('learning_rate', lr, on_step=True, on_epoch=True, prog_bar=True, logger=True)\n",
    "        \n",
    "        return loss\n",
    "        \n",
    "    def validation_step(self, batch, batch_idx):\n",
    "        x, y = batch\n",
    "        y_hat = self.model(x).squeeze().cuda()\n",
    "        y = y.cuda()\n",
    "        loss = self.loss(y_hat, y)\n",
    "        \n",
    "        self.log('val_loss', loss, on_step=False, on_epoch=True, prog_bar=True)\n",
    "        self.val_loss.append(loss)\n",
    "\n",
    "        corr = pearson_correlation(y_hat, y)\n",
    "        self.val_pears.append(corr)\n",
    "        self.log(\"val_pearson\", corr, on_epoch=True, prog_bar=True, on_step = False)\n",
    "        \n",
    "    def on_validation_epoch_end(self):\n",
    "\n",
    "        val_loss = torch.stack(self.val_loss, dim = 0).mean()\n",
    "        val_pears = torch.stack(self.val_pears, dim = 0).mean()\n",
    "        if len(self.train_loss) != 0:\n",
    "            train_loss = torch.stack(self.train_loss, dim = 0).mean()\n",
    "            train_pears = torch.stack(self.train_pears, dim = 0).mean()\n",
    "        \n",
    "        res_str = '|' + ' {}: {:.5f} |'.format(\"current_epoch\", self.current_epoch) \n",
    "        res_str += ' {}: {:.5f} |'.format(\"val_loss\", val_loss)\n",
    "        res_str += ' {}: {:.5f} |'.format(\"val_pearson\", val_pears)\n",
    "        if len(self.train_loss) != 0:\n",
    "            res_str += ' {}: {:.5f} |'.format(\"train_loss\", train_loss)\n",
    "            res_str += ' {}: {:.5f} |'.format(\"train_pearson\", train_pears)\n",
    "        border = '-'*len(res_str)\n",
    "        print(\"\\n\".join(['',border, res_str, border,'']))\n",
    "        self.val_loss.clear()\n",
    "        self.val_pears.clear()\n",
    "        if len(self.train_loss) != 0:\n",
    "            self.train_loss.clear()\n",
    "            self.train_pears.clear()\n",
    "        return None\n",
    "        \n",
    "    def test_step(self, batch, _):\n",
    "        x, y = batch\n",
    "        y_hat = self.model(x).squeeze()\n",
    "        loss = self.loss(y_hat, y)\n",
    "        \n",
    "        self.log('test_loss', \n",
    "                 loss, \n",
    "                 prog_bar=True, \n",
    "                 on_step=False,\n",
    "                 on_epoch=True)\n",
    "        corr = pearson_correlation(y_hat, y)\n",
    "        self.log(\"test_pearson\", \n",
    "                 corr ,\n",
    "                 on_epoch=True,\n",
    "                 prog_bar=True,\n",
    "                 on_step=False,)\n",
    "        \n",
    "    def predict_step(self, batch, batch_idx, dataloader_idx=0):\n",
    "        if isinstance(batch, tuple) or isinstance(batch, list):\n",
    "            x, _ = batch\n",
    "        else:\n",
    "            x = batch\n",
    "        return self(x)\n",
    "\n",
    "    def train_dataloader(self):\n",
    "        \n",
    "        return data.DataLoader(dataset = train_dataset, batch_size = BATCH_SIZE, shuffle = True, num_workers = NUM_WORKERS)\n",
    "\n",
    "    def val_dataloader(self):\n",
    "        \n",
    "        return data.DataLoader(dataset = val_dataset, batch_size = BATCH_SIZE, shuffle = False, num_workers = NUM_WORKERS)\n",
    "    \n",
    "    def test_dataloader(self):\n",
    "        \n",
    "        return data.DataLoader(dataset = test_dataset, batch_size = BATCH_SIZE, shuffle = False, num_workers = NUM_WORKERS)\n",
    "        \n",
    "    '''\n",
    "    def configure_optimizers(self):\n",
    "        \n",
    "        self.optimizer = torch.optim.AdamW(self.parameters(),\n",
    "                                               lr=self.lr,\n",
    "                                               weight_decay = 0.001)\n",
    "        \n",
    "        lr_scheduler = torch.optim.lr_scheduler.OneCycleLR(self.optimizer, # type: ignore\n",
    "                                                        max_lr=self.lr,\n",
    "                                                        three_phase=False, \n",
    "                                                        total_steps=self.trainer.estimated_stepping_batches, # type: ignore\n",
    "                                                        pct_start=0.3,\n",
    "                                                        cycle_momentum =False)\n",
    "        lr_scheduler_config = {\n",
    "                    \"scheduler\": lr_scheduler,\n",
    "                    \"interval\": \"step\",\n",
    "                    \"frequency\": 1,\n",
    "                    \"name\": \"cycle_lr\"\n",
    "            }\n",
    "            \n",
    "        return [self.optimizer], [lr_scheduler_config]\n",
    "    '''\n",
    "\n",
    "    def configure_optimizers(self):\n",
    "        \n",
    "        self.optimizer = torch.optim.Adam(self.parameters(),\n",
    "                                               lr=self.lr,\n",
    "                                               weight_decay = 0.001)\n",
    "        return self.optimizer\n",
    "    "
   ]
  },
  {
   "cell_type": "code",
   "execution_count": 13,
   "id": "98f043a7-0955-4a21-8b6e-be82d2a94299",
   "metadata": {},
   "outputs": [
    {
     "data": {
      "application/vnd.jupyter.widget-view+json": {
       "model_id": "9dcac6ce91da49c3acd79db969dd6beb",
       "version_major": 2,
       "version_minor": 0
      },
      "text/plain": [
       "  0%|          | 0/100 [00:00<?, ?it/s]"
      ]
     },
     "metadata": {},
     "output_type": "display_data"
    },
    {
     "name": "stdout",
     "output_type": "stream",
     "text": [
      "Stopping early, the loss has diverged\n",
      "Learning rate search finished. See the graph with {finder_name}.plot()\n",
      "LR suggestion: steepest gradient\n",
      "Suggested LR: 9.77E-05\n"
     ]
    },
    {
     "data": {
      "image/png": "[encoded data removed]",
      "text/plain": [
       "<Figure size 640x480 with 1 Axes>"
      ]
     },
     "metadata": {},
     "output_type": "display_data"
    }
   ],
   "source": [
    "from torch_lr_finder import LRFinder\n",
    "import matplotlib.pyplot as plt\n",
    "\n",
    "model = diff_expr_net(seq_len=len(train_dataset[0][0][0]))\n",
    "'''\n",
    "model = HumanLegNet(in_ch=4,\n",
    "                                 stem_ch=64,\n",
    "                                 stem_ks=11,\n",
    "                                 ef_ks=9,\n",
    "                                 ef_block_sizes=[80, 96, 112, 128],\n",
    "                                 pool_sizes=[2,2,2,2],\n",
    "                                 resize_factor=4)\n",
    "'''\n",
    "optimizer = torch.optim.Adam(model.parameters(), lr=1e-7, weight_decay = 1e-3,)\n",
    "\n",
    "criterion = nn.MSELoss() \n",
    "train_loader = data.DataLoader(dataset = train_dataset, batch_size = BATCH_SIZE, shuffle = True, num_workers = NUM_WORKERS)\n",
    "lr_finder = LRFinder(model, optimizer, criterion, device=\"cuda\")\n",
    "lr_finder.range_test(train_loader, start_lr=1e-7, end_lr=10, num_iter=100)\n",
    "\n",
    "lr_finder.plot()  \n",
    "plt.show()"
   ]
  },
  {
   "cell_type": "code",
   "execution_count": null,
   "id": "89c63e2e-18b4-4dbb-88a3-5a365e71a356",
   "metadata": {},
   "outputs": [
    {
     "name": "stderr",
     "output_type": "stream",
     "text": [
      "Using 16bit Automatic Mixed Precision (AMP)\n",
      "GPU available: True (cuda), used: True\n",
      "TPU available: False, using: 0 TPU cores\n",
      "HPU available: False, using: 0 HPUs\n",
      "You are using a CUDA device ('NVIDIA GeForce RTX 3090') that has Tensor Cores. To properly utilize them, you should set `torch.set_float32_matmul_precision('medium' | 'high')` which will trade-off precision for performance. For more details, read https://pytorch.org/docs/stable/generated/torch.set_float32_matmul_precision.html#torch.set_float32_matmul_precision\n",
      "2025-02-11 12:39:45.051249: I tensorflow/core/util/port.cc:153] oneDNN custom operations are on. You may see slightly different numerical results due to floating-point round-off errors from different computation orders. To turn them off, set the environment variable `TF_ENABLE_ONEDNN_OPTS=0`.\n",
      "2025-02-11 12:39:45.067780: E external/local_xla/xla/stream_executor/cuda/cuda_fft.cc:477] Unable to register cuFFT factory: Attempting to register factory for plugin cuFFT when one has already been registered\n",
      "WARNING: All log messages before absl::InitializeLog() is called are written to STDERR\n",
      "E0000 00:00:1739266785.086249 1618955 cuda_dnn.cc:8310] Unable to register cuDNN factory: Attempting to register factory for plugin cuDNN when one has already been registered\n",
      "E0000 00:00:1739266785.091799 1618955 cuda_blas.cc:1418] Unable to register cuBLAS factory: Attempting to register factory for plugin cuBLAS when one has already been registered\n",
      "2025-02-11 12:39:45.112558: I tensorflow/core/platform/cpu_feature_guard.cc:210] This TensorFlow binary is optimized to use available CPU instructions in performance-critical operations.\n",
      "To enable the following instructions: AVX2 AVX512F AVX512_VNNI FMA, in other operations, rebuild TensorFlow with the appropriate compiler flags.\n",
      "LOCAL_RANK: 0 - CUDA_VISIBLE_DEVICES: [0,1]\n",
      "\n",
      "  | Name  | Type          | Params | Mode \n",
      "------------------------------------------------\n",
      "0 | model | diff_expr_net | 2.4 M  | train\n",
      "1 | loss  | MSELoss       | 0      | train\n",
      "------------------------------------------------\n",
      "2.4 M     Trainable params\n",
      "0         Non-trainable params\n",
      "2.4 M     Total params\n",
      "9.618     Total estimated model params size (MB)\n",
      "14        Modules in train mode\n",
      "0         Modules in eval mode\n"
     ]
    },
    {
     "data": {
      "application/vnd.jupyter.widget-view+json": {
       "model_id": "",
       "version_major": 2,
       "version_minor": 0
      },
      "text/plain": [
       "Sanity Checking: |                                                                             | 0/? [00:00<?,…"
      ]
     },
     "metadata": {},
     "output_type": "display_data"
    },
    {
     "name": "stdout",
     "output_type": "stream",
     "text": [
      "\n",
      "---------------------------------------------------------------------\n",
      "| current_epoch: 0.00000 | val_loss: 3.25751 | val_pearson: 0.03820 |\n",
      "---------------------------------------------------------------------\n",
      "\n"
     ]
    },
    {
     "data": {
      "application/vnd.jupyter.widget-view+json": {
       "model_id": "4dadc9a45f7842448bf287353dc06fe9",
       "version_major": 2,
       "version_minor": 0
      },
      "text/plain": [
       "Training: |                                                                                    | 0/? [00:00<?,…"
      ]
     },
     "metadata": {},
     "output_type": "display_data"
    },
    {
     "data": {
      "application/vnd.jupyter.widget-view+json": {
       "model_id": "",
       "version_major": 2,
       "version_minor": 0
      },
      "text/plain": [
       "Validation: |                                                                                  | 0/? [00:00<?,…"
      ]
     },
     "metadata": {},
     "output_type": "display_data"
    },
    {
     "name": "stdout",
     "output_type": "stream",
     "text": [
      "\n",
      "----------------------------------------------------------------------------------------------------------------------\n",
      "| current_epoch: 0.00000 | val_loss: 4.55771 | val_pearson: -0.02444 | train_loss: 3.56216 | train_pearson: -0.01544 |\n",
      "----------------------------------------------------------------------------------------------------------------------\n",
      "\n"
     ]
    },
    {
     "data": {
      "application/vnd.jupyter.widget-view+json": {
       "model_id": "",
       "version_major": 2,
       "version_minor": 0
      },
      "text/plain": [
       "Validation: |                                                                                  | 0/? [00:00<?,…"
      ]
     },
     "metadata": {},
     "output_type": "display_data"
    },
    {
     "name": "stdout",
     "output_type": "stream",
     "text": [
      "\n",
      "---------------------------------------------------------------------------------------------------------------------\n",
      "| current_epoch: 1.00000 | val_loss: 4.51995 | val_pearson: -0.02081 | train_loss: 3.30842 | train_pearson: 0.16025 |\n",
      "---------------------------------------------------------------------------------------------------------------------\n",
      "\n"
     ]
    },
    {
     "data": {
      "application/vnd.jupyter.widget-view+json": {
       "model_id": "",
       "version_major": 2,
       "version_minor": 0
      },
      "text/plain": [
       "Validation: |                                                                                  | 0/? [00:00<?,…"
      ]
     },
     "metadata": {},
     "output_type": "display_data"
    },
    {
     "name": "stdout",
     "output_type": "stream",
     "text": [
      "\n",
      "--------------------------------------------------------------------------------------------------------------------\n",
      "| current_epoch: 2.00000 | val_loss: 4.49260 | val_pearson: 0.02355 | train_loss: 3.20720 | train_pearson: 0.25290 |\n",
      "--------------------------------------------------------------------------------------------------------------------\n",
      "\n"
     ]
    },
    {
     "data": {
      "application/vnd.jupyter.widget-view+json": {
       "model_id": "",
       "version_major": 2,
       "version_minor": 0
      },
      "text/plain": [
       "Validation: |                                                                                  | 0/? [00:00<?,…"
      ]
     },
     "metadata": {},
     "output_type": "display_data"
    },
    {
     "name": "stdout",
     "output_type": "stream",
     "text": [
      "\n",
      "--------------------------------------------------------------------------------------------------------------------\n",
      "| current_epoch: 3.00000 | val_loss: 4.51684 | val_pearson: 0.00542 | train_loss: 3.15531 | train_pearson: 0.30422 |\n",
      "--------------------------------------------------------------------------------------------------------------------\n",
      "\n"
     ]
    },
    {
     "data": {
      "application/vnd.jupyter.widget-view+json": {
       "model_id": "",
       "version_major": 2,
       "version_minor": 0
      },
      "text/plain": [
       "Validation: |                                                                                  | 0/? [00:00<?,…"
      ]
     },
     "metadata": {},
     "output_type": "display_data"
    },
    {
     "name": "stdout",
     "output_type": "stream",
     "text": [
      "\n",
      "--------------------------------------------------------------------------------------------------------------------\n",
      "| current_epoch: 4.00000 | val_loss: 4.53558 | val_pearson: 0.01082 | train_loss: 3.09804 | train_pearson: 0.34633 |\n",
      "--------------------------------------------------------------------------------------------------------------------\n",
      "\n"
     ]
    },
    {
     "data": {
      "application/vnd.jupyter.widget-view+json": {
       "model_id": "",
       "version_major": 2,
       "version_minor": 0
      },
      "text/plain": [
       "Validation: |                                                                                  | 0/? [00:00<?,…"
      ]
     },
     "metadata": {},
     "output_type": "display_data"
    },
    {
     "name": "stdout",
     "output_type": "stream",
     "text": [
      "\n",
      "--------------------------------------------------------------------------------------------------------------------\n",
      "| current_epoch: 5.00000 | val_loss: 4.48967 | val_pearson: 0.02695 | train_loss: 3.04628 | train_pearson: 0.37404 |\n",
      "--------------------------------------------------------------------------------------------------------------------\n",
      "\n"
     ]
    },
    {
     "data": {
      "application/vnd.jupyter.widget-view+json": {
       "model_id": "",
       "version_major": 2,
       "version_minor": 0
      },
      "text/plain": [
       "Validation: |                                                                                  | 0/? [00:00<?,…"
      ]
     },
     "metadata": {},
     "output_type": "display_data"
    },
    {
     "name": "stdout",
     "output_type": "stream",
     "text": [
      "\n",
      "---------------------------------------------------------------------------------------------------------------------\n",
      "| current_epoch: 6.00000 | val_loss: 4.57407 | val_pearson: -0.00324 | train_loss: 3.04849 | train_pearson: 0.37236 |\n",
      "---------------------------------------------------------------------------------------------------------------------\n",
      "\n"
     ]
    },
    {
     "data": {
      "application/vnd.jupyter.widget-view+json": {
       "model_id": "",
       "version_major": 2,
       "version_minor": 0
      },
      "text/plain": [
       "Validation: |                                                                                  | 0/? [00:00<?,…"
      ]
     },
     "metadata": {},
     "output_type": "display_data"
    },
    {
     "name": "stdout",
     "output_type": "stream",
     "text": [
      "\n",
      "---------------------------------------------------------------------------------------------------------------------\n",
      "| current_epoch: 7.00000 | val_loss: 4.57448 | val_pearson: -0.01690 | train_loss: 3.01802 | train_pearson: 0.39969 |\n",
      "---------------------------------------------------------------------------------------------------------------------\n",
      "\n"
     ]
    },
    {
     "data": {
      "application/vnd.jupyter.widget-view+json": {
       "model_id": "",
       "version_major": 2,
       "version_minor": 0
      },
      "text/plain": [
       "Validation: |                                                                                  | 0/? [00:00<?,…"
      ]
     },
     "metadata": {},
     "output_type": "display_data"
    },
    {
     "name": "stdout",
     "output_type": "stream",
     "text": [
      "\n",
      "--------------------------------------------------------------------------------------------------------------------\n",
      "| current_epoch: 8.00000 | val_loss: 4.54464 | val_pearson: 0.00861 | train_loss: 3.00039 | train_pearson: 0.40203 |\n",
      "--------------------------------------------------------------------------------------------------------------------\n",
      "\n"
     ]
    },
    {
     "data": {
      "application/vnd.jupyter.widget-view+json": {
       "model_id": "",
       "version_major": 2,
       "version_minor": 0
      },
      "text/plain": [
       "Validation: |                                                                                  | 0/? [00:00<?,…"
      ]
     },
     "metadata": {},
     "output_type": "display_data"
    },
    {
     "name": "stdout",
     "output_type": "stream",
     "text": [
      "\n",
      "---------------------------------------------------------------------------------------------------------------------\n",
      "| current_epoch: 9.00000 | val_loss: 4.60918 | val_pearson: -0.02262 | train_loss: 2.97750 | train_pearson: 0.41041 |\n",
      "---------------------------------------------------------------------------------------------------------------------\n",
      "\n"
     ]
    },
    {
     "data": {
      "application/vnd.jupyter.widget-view+json": {
       "model_id": "",
       "version_major": 2,
       "version_minor": 0
      },
      "text/plain": [
       "Validation: |                                                                                  | 0/? [00:00<?,…"
      ]
     },
     "metadata": {},
     "output_type": "display_data"
    },
    {
     "name": "stdout",
     "output_type": "stream",
     "text": [
      "\n",
      "----------------------------------------------------------------------------------------------------------------------\n",
      "| current_epoch: 10.00000 | val_loss: 4.61925 | val_pearson: -0.02390 | train_loss: 2.96489 | train_pearson: 0.42082 |\n",
      "----------------------------------------------------------------------------------------------------------------------\n",
      "\n"
     ]
    },
    {
     "data": {
      "application/vnd.jupyter.widget-view+json": {
       "model_id": "",
       "version_major": 2,
       "version_minor": 0
      },
      "text/plain": [
       "Validation: |                                                                                  | 0/? [00:00<?,…"
      ]
     },
     "metadata": {},
     "output_type": "display_data"
    },
    {
     "name": "stdout",
     "output_type": "stream",
     "text": [
      "\n",
      "---------------------------------------------------------------------------------------------------------------------\n",
      "| current_epoch: 11.00000 | val_loss: 4.56110 | val_pearson: 0.01214 | train_loss: 2.94076 | train_pearson: 0.42920 |\n",
      "---------------------------------------------------------------------------------------------------------------------\n",
      "\n"
     ]
    },
    {
     "data": {
      "application/vnd.jupyter.widget-view+json": {
       "model_id": "",
       "version_major": 2,
       "version_minor": 0
      },
      "text/plain": [
       "Validation: |                                                                                  | 0/? [00:00<?,…"
      ]
     },
     "metadata": {},
     "output_type": "display_data"
    },
    {
     "name": "stdout",
     "output_type": "stream",
     "text": [
      "\n",
      "---------------------------------------------------------------------------------------------------------------------\n",
      "| current_epoch: 12.00000 | val_loss: 4.54532 | val_pearson: 0.02396 | train_loss: 2.95168 | train_pearson: 0.42673 |\n",
      "---------------------------------------------------------------------------------------------------------------------\n",
      "\n"
     ]
    },
    {
     "data": {
      "application/vnd.jupyter.widget-view+json": {
       "model_id": "",
       "version_major": 2,
       "version_minor": 0
      },
      "text/plain": [
       "Validation: |                                                                                  | 0/? [00:00<?,…"
      ]
     },
     "metadata": {},
     "output_type": "display_data"
    },
    {
     "name": "stdout",
     "output_type": "stream",
     "text": [
      "\n",
      "----------------------------------------------------------------------------------------------------------------------\n",
      "| current_epoch: 13.00000 | val_loss: 4.62059 | val_pearson: -0.00169 | train_loss: 2.94462 | train_pearson: 0.42583 |\n",
      "----------------------------------------------------------------------------------------------------------------------\n",
      "\n"
     ]
    },
    {
     "data": {
      "application/vnd.jupyter.widget-view+json": {
       "model_id": "",
       "version_major": 2,
       "version_minor": 0
      },
      "text/plain": [
       "Validation: |                                                                                  | 0/? [00:00<?,…"
      ]
     },
     "metadata": {},
     "output_type": "display_data"
    },
    {
     "name": "stdout",
     "output_type": "stream",
     "text": [
      "\n",
      "---------------------------------------------------------------------------------------------------------------------\n",
      "| current_epoch: 14.00000 | val_loss: 4.58575 | val_pearson: 0.01060 | train_loss: 2.94402 | train_pearson: 0.42640 |\n",
      "---------------------------------------------------------------------------------------------------------------------\n",
      "\n"
     ]
    }
   ],
   "source": [
    "seq_model = SeqModel(seq_len=len(train_dataset[0][0][0]), lr = 9.77E-05)\n",
    "\n",
    "# Initialize a trainer\n",
    "trainer = L.Trainer(\n",
    "    accelerator=\"gpu\",\n",
    "    devices=[0],\n",
    "    max_epochs=50,\n",
    "    gradient_clip_val=1,\n",
    "    precision='16-mixed', \n",
    "    enable_progress_bar = True,\n",
    "    #callbacks=[TQDMProgressBar(refresh_rate=55)]\n",
    "    #logger = logger\n",
    ")\n",
    "\n",
    "# Train the model\n",
    "trainer.fit(seq_model)"
   ]
  },
  {
   "cell_type": "code",
   "execution_count": null,
   "id": "c054820d-a097-4047-a529-8ea6ec17a152",
   "metadata": {},
   "outputs": [],
   "source": [
    "trainer.test(seq_model)"
   ]
  },
  {
   "cell_type": "markdown",
   "id": "8c6ff8a7-8b1a-4df5-899f-4127df2a9642",
   "metadata": {},
   "source": [
    "# Binary task"
   ]
  },
  {
   "cell_type": "code",
   "execution_count": 6,
   "id": "41c7d32e-6d92-4578-9bbf-50f868968c4f",
   "metadata": {},
   "outputs": [],
   "source": [
    "import sklearn\n",
    "from sklearn.metrics import precision_score, recall_score, precision_recall_curve, auc, average_precision_score\n",
    "import matplotlib.pyplot as plt\n",
    "def plotting_PR_AUC_binary(seq_model, test_loader):\n",
    "    act = nn.Sigmoid()\n",
    "    \n",
    "    #get predicted values\n",
    "    y_preds = trainer.predict(seq_model, test_loader)\n",
    "\n",
    "    y_preds = torch.concat(y_preds)\n",
    "    \n",
    "    targets = []\n",
    "    for i, batch in enumerate(test_loader):\n",
    "        x, y = batch\n",
    "        targets.append(y)\n",
    "    targets = torch.tensor(torch.concat(targets).cpu().numpy())\n",
    "    y_preds = act(y_preds)\n",
    "    \n",
    "    threshold = 0.5  # Пример порога\n",
    "    y_true = targets.cpu().numpy()\n",
    "    y_pred = (y_preds.numpy() >= threshold).astype(int)\n",
    "    y_scores = y_preds.numpy()\n",
    "    \n",
    "    precision = precision_score(y_true, y_pred)\n",
    "    recall = recall_score(y_true, y_pred)\n",
    "    prauc = average_precision_score(y_true, y_scores)\n",
    "    \n",
    "    print(f\"Precision (при пороге {threshold}): {precision:.2f}\")\n",
    "    print(f\"Recall (при пороге {threshold}): {recall:.2f}\")\n",
    "    print(f\"PR-AUC (correct): {prauc:.2f}\")\n",
    "    \n",
    "    # 2. Построение PR-кривой\n",
    "    precision_vals, recall_vals, thresholds = precision_recall_curve(y_true, y_scores)\n",
    "    \n",
    "    # Вычисление PR-AUC\n",
    "    pr_auc = auc(recall_vals, precision_vals)\n",
    "    \n",
    "    print(f\"PR-AUC: {pr_auc:.2f}\")\n",
    "    \n",
    "    # 3. Построение графика PR-кривой\n",
    "    plt.figure(figsize=(4,3))\n",
    "    plt.plot(recall_vals, precision_vals, label=f'PR Curve (AUC = {pr_auc:.2f})', linewidth=2)\n",
    "    plt.xlabel('Recall', fontsize=6)\n",
    "    plt.ylabel('Precision', fontsize=6)\n",
    "    plt.title('Precision-Recall Curve', fontsize=7)\n",
    "    plt.legend(loc='best')\n",
    "    plt.grid(True)\n",
    "    plt.show()"
   ]
  },
  {
   "cell_type": "code",
   "execution_count": 7,
   "id": "7c9b246f-fb7e-4923-ae10-4932e2a3fe4a",
   "metadata": {},
   "outputs": [],
   "source": [
    "class binary_net(nn.Module):\n",
    "    \n",
    "    def __init__(self, block_sizes=[16, 32, 64, 96, 126, 64], kernel_size=5):\n",
    "        \n",
    "        super().__init__()\n",
    "        nn_blocks = []\n",
    "        self.block_sizes = block_sizes\n",
    "        for in_bs, out_bs in zip([4] + block_sizes, block_sizes):\n",
    "            \n",
    "            block = nn.Sequential(\n",
    "                nn.Conv1d(in_bs, out_bs, kernel_size=kernel_size, padding = kernel_size // 2), # Padding для сохранения размера\n",
    "                nn.BatchNorm1d(out_bs),\n",
    "                nn.SiLU(),\n",
    "                nn.Dropout(0.3)\n",
    "            )\n",
    "            nn_blocks.append(block)\n",
    "        \n",
    "        self.conv_net = nn.Sequential(\n",
    "            *nn_blocks,\n",
    "            nn.Flatten()\n",
    "        )\n",
    "        \n",
    "    def forward(self, x):\n",
    "        out = self.conv_net(x)\n",
    "\n",
    "        return out"
   ]
  },
  {
   "cell_type": "code",
   "execution_count": 8,
   "id": "24bdae1a-3d11-4abc-9d07-de1ad0d3b52a",
   "metadata": {},
   "outputs": [
    {
     "name": "stdout",
     "output_type": "stream",
     "text": [
      "using train\n",
      "using val\n",
      "using test\n"
     ]
    }
   ],
   "source": [
    "BATCH_SIZE = 1024\n",
    "NUM_WORKERS = 103\n",
    "train_transform = t.Compose([\n",
    "    t.Seq2Tensor(),\n",
    "    t.Reverse(0.5)\n",
    "])\n",
    "val_test_transform = t.Compose([\n",
    "    t.Seq2Tensor()\n",
    "])\n",
    "binary_train = [\"promoter_from_input\", \"enhancer_permutated\", \"enhancer_from_input\"]\n",
    "\n",
    "task = tasks[6]\n",
    "\n",
    "train_dataset = MassiveStarrDataset(task = task, binary_class = None, split = \"train\",transform = train_transform)\n",
    "\n",
    "val_dataset = MassiveStarrDataset(task = task, split = \"val\",transform = val_test_transform) \n",
    "\n",
    "test_dataset = MassiveStarrDataset(task = task, split = \"test\", transform = val_test_transform)\n"
   ]
  },
  {
   "cell_type": "code",
   "execution_count": 13,
   "id": "68a0fb9f-983c-44e4-8cee-9138bf08deb8",
   "metadata": {},
   "outputs": [],
   "source": [
    "class binary_trainer(L.LightningModule):\n",
    "    \n",
    "    def __init__(self, seq_len, batch_size, lr=3e-4):\n",
    "        super().__init__()\n",
    "        self.model = binary_net()\n",
    "        self.seq_len = seq_len\n",
    "        self.loss = torch.nn.BCEWithLogitsLoss().cuda()\n",
    "        self.lr = lr\n",
    "        self.batch_size = batch_size\n",
    "        self.val_loss = []\n",
    "        final_feature_size = seq_len  # Размер последовательности остаётся неизменным из-за padding\n",
    "        out_bs = 32\n",
    "        self.last_block = nn.Sequential(\n",
    "                nn.Linear(self.model.block_sizes[-1] * final_feature_size * 2, out_bs), # Padding для сохранения размера\n",
    "                nn.BatchNorm1d(out_bs),\n",
    "                nn.SiLU(),\n",
    "                nn.Dropout(0.3),\n",
    "                nn.Linear(out_bs, 1)\n",
    "            )\n",
    "        \n",
    "        \n",
    "    def forward(self, x):       \n",
    "        return self.model(x)\n",
    "\n",
    "    def training_step(self, batch, batch_nb):\n",
    "        seqs, labels = batch\n",
    "        \n",
    "        enh_x = seqs[\"seq1\"]\n",
    "        prom_x = seqs[\"seq2\"]\n",
    "        \n",
    "        enhancer = self(enh_x)\n",
    "        promoter = self(prom_x)\n",
    "        \n",
    "        concat = torch.cat([enhancer, promoter], dim=1)\n",
    "        out = self.last_block(concat).squeeze().cuda()\n",
    "        \n",
    "        loss = self.loss(out, labels)\n",
    "        \n",
    "        self.log(\"train_loss\", loss, prog_bar=True,  on_step=True, on_epoch=True, logger = True, batch_size=self.batch_size)\n",
    "        \n",
    "        lr = self.optimizers().param_groups[0]['lr']  # Get current learning rate\n",
    "        self.log('learning_rate', lr, on_step=True, on_epoch=True, prog_bar=True, logger=True, batch_size=self.batch_size)\n",
    "        \n",
    "        return loss\n",
    "        \n",
    "    def validation_step(self, batch, batch_idx):\n",
    "        seqs, labels = batch\n",
    "        \n",
    "        enh_x = seqs[\"seq1\"]\n",
    "        prom_x = seqs[\"seq2\"]\n",
    "        \n",
    "        enhancer = self(enh_x)\n",
    "        promoter = self(prom_x)\n",
    "        \n",
    "        concat = torch.cat([enhancer, promoter], dim=1)\n",
    "        out = self.last_block(concat).squeeze().cuda()\n",
    "    \n",
    "        loss = self.loss(out, labels)\n",
    "        \n",
    "        self.log('val_loss', loss, on_step=False, on_epoch=True, prog_bar=True, batch_size=self.batch_size)\n",
    "        self.val_loss.append(loss)\n",
    "        \n",
    "    def on_validation_epoch_end(self):\n",
    "\n",
    "        val_loss = torch.stack(self.val_loss, dim = 0).mean()\n",
    "        \n",
    "        res_str = '|' + ' {}: {:.5f} |'.format(\"current_epoch\", self.current_epoch) \n",
    "        res_str += ' {}: {:.5f} |'.format(\"val_loss\", val_loss)\n",
    "        border = '-'*len(res_str)\n",
    "        print(\"\\n\".join(['',border, res_str, border,'']))\n",
    "        self.val_loss.clear()\n",
    "        return None\n",
    "        \n",
    "    def test_step(self, batch):\n",
    "        seqs, labels = batch\n",
    "        \n",
    "        enh_x = seqs[\"seq1\"]\n",
    "        prom_x = seqs[\"seq2\"]\n",
    "        \n",
    "        enhancer = self(enh_x)\n",
    "        promoter = self(prom_x)\n",
    "\n",
    "        concat = torch.cat([enhancer, promoter], dim=1)\n",
    "\n",
    "        out = self.last_block(concat).squeeze().cuda()\n",
    "\n",
    "        loss = self.loss(out, labels)\n",
    "        \n",
    "        self.log('test_loss', \n",
    "                 loss, \n",
    "                 prog_bar=True, \n",
    "                 on_step=False,\n",
    "                 on_epoch=True, batch_size=self.batch_size)\n",
    "        \n",
    "    def predict_step(self, batch, batch_idx, dataloader_idx = 0):\n",
    "        seqs, labels = batch\n",
    "        \n",
    "        enh_x = seqs[\"seq1\"]\n",
    "        prom_x = seqs[\"seq2\"]\n",
    "        \n",
    "        enhancer = self(enh_x)\n",
    "        promoter = self(prom_x)\n",
    "\n",
    "        concat = torch.cat([enhancer, promoter], dim=1)\n",
    "\n",
    "        out = self.last_block(concat).squeeze().cuda()\n",
    "        \n",
    "        return out\n",
    "        \n",
    "    def train_dataloader(self):\n",
    "        \n",
    "        return data.DataLoader(dataset = train_dataset, batch_size = BATCH_SIZE, shuffle = True, num_workers = NUM_WORKERS)\n",
    "\n",
    "    def val_dataloader(self):\n",
    "        \n",
    "        return data.DataLoader(dataset = val_dataset, batch_size = BATCH_SIZE, shuffle = False, num_workers = NUM_WORKERS)\n",
    "    \n",
    "    def test_dataloader(self):\n",
    "        \n",
    "        return data.DataLoader(dataset = test_dataset, batch_size = BATCH_SIZE, shuffle = False, num_workers = NUM_WORKERS)\n",
    "\n",
    "    def configure_optimizers(self):\n",
    "        \n",
    "        self.optimizer = torch.optim.Adam(self.parameters(),\n",
    "                                               lr=self.lr,\n",
    "                                               weight_decay = 0.0001)\n",
    "        return self.optimizer"
   ]
  },
  {
   "cell_type": "code",
   "execution_count": 14,
   "id": "f5ecff7b-3861-462d-9a43-1eda583f537b",
   "metadata": {},
   "outputs": [
    {
     "name": "stderr",
     "output_type": "stream",
     "text": [
      "Using 16bit Automatic Mixed Precision (AMP)\n",
      "GPU available: True (cuda), used: True\n",
      "TPU available: False, using: 0 TPU cores\n",
      "HPU available: False, using: 0 HPUs\n",
      "LOCAL_RANK: 0 - CUDA_VISIBLE_DEVICES: [0,1]\n",
      "\n",
      "  | Name       | Type              | Params | Mode \n",
      "---------------------------------------------------------\n",
      "0 | model      | binary_net        | 145 K  | train\n",
      "1 | loss       | BCEWithLogitsLoss | 0      | train\n",
      "2 | last_block | Sequential        | 614 K  | train\n",
      "---------------------------------------------------------\n",
      "760 K     Trainable params\n",
      "0         Non-trainable params\n",
      "760 K     Total params\n",
      "3.041     Total estimated model params size (MB)\n",
      "40        Modules in train mode\n",
      "0         Modules in eval mode\n"
     ]
    },
    {
     "data": {
      "application/vnd.jupyter.widget-view+json": {
       "model_id": "",
       "version_major": 2,
       "version_minor": 0
      },
      "text/plain": [
       "Sanity Checking: |                                                                             | 0/? [00:00<?,…"
      ]
     },
     "metadata": {},
     "output_type": "display_data"
    },
    {
     "name": "stdout",
     "output_type": "stream",
     "text": [
      "\n",
      "----------------------------------------------\n",
      "| current_epoch: 0.00000 | val_loss: 0.67441 |\n",
      "----------------------------------------------\n",
      "\n"
     ]
    },
    {
     "data": {
      "application/vnd.jupyter.widget-view+json": {
       "model_id": "92f34c8929354f19aa6d4fbd82bdb3c1",
       "version_major": 2,
       "version_minor": 0
      },
      "text/plain": [
       "Training: |                                                                                    | 0/? [00:00<?,…"
      ]
     },
     "metadata": {},
     "output_type": "display_data"
    },
    {
     "data": {
      "application/vnd.jupyter.widget-view+json": {
       "model_id": "",
       "version_major": 2,
       "version_minor": 0
      },
      "text/plain": [
       "Validation: |                                                                                  | 0/? [00:00<?,…"
      ]
     },
     "metadata": {},
     "output_type": "display_data"
    },
    {
     "name": "stdout",
     "output_type": "stream",
     "text": [
      "\n",
      "----------------------------------------------\n",
      "| current_epoch: 0.00000 | val_loss: 0.66178 |\n",
      "----------------------------------------------\n",
      "\n"
     ]
    },
    {
     "data": {
      "application/vnd.jupyter.widget-view+json": {
       "model_id": "",
       "version_major": 2,
       "version_minor": 0
      },
      "text/plain": [
       "Validation: |                                                                                  | 0/? [00:00<?,…"
      ]
     },
     "metadata": {},
     "output_type": "display_data"
    },
    {
     "name": "stdout",
     "output_type": "stream",
     "text": [
      "\n",
      "----------------------------------------------\n",
      "| current_epoch: 1.00000 | val_loss: 0.61373 |\n",
      "----------------------------------------------\n",
      "\n"
     ]
    },
    {
     "data": {
      "application/vnd.jupyter.widget-view+json": {
       "model_id": "",
       "version_major": 2,
       "version_minor": 0
      },
      "text/plain": [
       "Validation: |                                                                                  | 0/? [00:00<?,…"
      ]
     },
     "metadata": {},
     "output_type": "display_data"
    },
    {
     "name": "stdout",
     "output_type": "stream",
     "text": [
      "\n",
      "----------------------------------------------\n",
      "| current_epoch: 2.00000 | val_loss: 0.60652 |\n",
      "----------------------------------------------\n",
      "\n"
     ]
    },
    {
     "data": {
      "application/vnd.jupyter.widget-view+json": {
       "model_id": "",
       "version_major": 2,
       "version_minor": 0
      },
      "text/plain": [
       "Validation: |                                                                                  | 0/? [00:00<?,…"
      ]
     },
     "metadata": {},
     "output_type": "display_data"
    },
    {
     "name": "stdout",
     "output_type": "stream",
     "text": [
      "\n",
      "----------------------------------------------\n",
      "| current_epoch: 3.00000 | val_loss: 0.60460 |\n",
      "----------------------------------------------\n",
      "\n"
     ]
    },
    {
     "data": {
      "application/vnd.jupyter.widget-view+json": {
       "model_id": "",
       "version_major": 2,
       "version_minor": 0
      },
      "text/plain": [
       "Validation: |                                                                                  | 0/? [00:00<?,…"
      ]
     },
     "metadata": {},
     "output_type": "display_data"
    },
    {
     "name": "stdout",
     "output_type": "stream",
     "text": [
      "\n",
      "----------------------------------------------\n",
      "| current_epoch: 4.00000 | val_loss: 0.57859 |\n",
      "----------------------------------------------\n",
      "\n"
     ]
    },
    {
     "data": {
      "application/vnd.jupyter.widget-view+json": {
       "model_id": "",
       "version_major": 2,
       "version_minor": 0
      },
      "text/plain": [
       "Validation: |                                                                                  | 0/? [00:00<?,…"
      ]
     },
     "metadata": {},
     "output_type": "display_data"
    },
    {
     "name": "stdout",
     "output_type": "stream",
     "text": [
      "\n",
      "----------------------------------------------\n",
      "| current_epoch: 5.00000 | val_loss: 0.56611 |\n",
      "----------------------------------------------\n",
      "\n"
     ]
    },
    {
     "data": {
      "application/vnd.jupyter.widget-view+json": {
       "model_id": "",
       "version_major": 2,
       "version_minor": 0
      },
      "text/plain": [
       "Validation: |                                                                                  | 0/? [00:00<?,…"
      ]
     },
     "metadata": {},
     "output_type": "display_data"
    },
    {
     "name": "stdout",
     "output_type": "stream",
     "text": [
      "\n",
      "----------------------------------------------\n",
      "| current_epoch: 6.00000 | val_loss: 0.56265 |\n",
      "----------------------------------------------\n",
      "\n"
     ]
    },
    {
     "data": {
      "application/vnd.jupyter.widget-view+json": {
       "model_id": "",
       "version_major": 2,
       "version_minor": 0
      },
      "text/plain": [
       "Validation: |                                                                                  | 0/? [00:00<?,…"
      ]
     },
     "metadata": {},
     "output_type": "display_data"
    },
    {
     "name": "stdout",
     "output_type": "stream",
     "text": [
      "\n",
      "----------------------------------------------\n",
      "| current_epoch: 7.00000 | val_loss: 0.56404 |\n",
      "----------------------------------------------\n",
      "\n"
     ]
    },
    {
     "data": {
      "application/vnd.jupyter.widget-view+json": {
       "model_id": "",
       "version_major": 2,
       "version_minor": 0
      },
      "text/plain": [
       "Validation: |                                                                                  | 0/? [00:00<?,…"
      ]
     },
     "metadata": {},
     "output_type": "display_data"
    },
    {
     "name": "stdout",
     "output_type": "stream",
     "text": [
      "\n",
      "----------------------------------------------\n",
      "| current_epoch: 8.00000 | val_loss: 0.56841 |\n",
      "----------------------------------------------\n",
      "\n"
     ]
    },
    {
     "data": {
      "application/vnd.jupyter.widget-view+json": {
       "model_id": "",
       "version_major": 2,
       "version_minor": 0
      },
      "text/plain": [
       "Validation: |                                                                                  | 0/? [00:00<?,…"
      ]
     },
     "metadata": {},
     "output_type": "display_data"
    },
    {
     "name": "stderr",
     "output_type": "stream",
     "text": [
      "`Trainer.fit` stopped: `max_epochs=10` reached.\n"
     ]
    },
    {
     "name": "stdout",
     "output_type": "stream",
     "text": [
      "\n",
      "----------------------------------------------\n",
      "| current_epoch: 9.00000 | val_loss: 0.59102 |\n",
      "----------------------------------------------\n",
      "\n"
     ]
    }
   ],
   "source": [
    "seq_model = binary_trainer(seq_len = len(train_dataset[0][0][\"seq1\"][0]), lr = 3e-4, batch_size = BATCH_SIZE)\n",
    "\n",
    "# Initialize a trainer\n",
    "trainer = L.Trainer(\n",
    "    accelerator=\"gpu\",\n",
    "    devices=[0],\n",
    "    max_epochs=10,\n",
    "    gradient_clip_val=1,\n",
    "    precision='16-mixed', \n",
    "    enable_progress_bar = True,\n",
    "    #callbacks=[TQDMProgressBar(refresh_rate=55)]\n",
    "    #logger = logger\n",
    ")\n",
    "\n",
    "# Train the model\n",
    "\n",
    "trainer.fit(seq_model)\n",
    "#trainer.test(seq_model)"
   ]
  },
  {
   "cell_type": "code",
   "execution_count": 15,
   "id": "384505d4-1818-43da-91dc-a8265bb63537",
   "metadata": {
    "collapsed": true,
    "jupyter": {
     "outputs_hidden": true,
     "source_hidden": true
    }
   },
   "outputs": [
    {
     "name": "stderr",
     "output_type": "stream",
     "text": [
      "LOCAL_RANK: 0 - CUDA_VISIBLE_DEVICES: [0,1]\n"
     ]
    },
    {
     "data": {
      "application/vnd.jupyter.widget-view+json": {
       "model_id": "39950291058448daa989347cd39fc1c4",
       "version_major": 2,
       "version_minor": 0
      },
      "text/plain": [
       "Predicting: |                                                                                  | 0/? [00:00<?,…"
      ]
     },
     "metadata": {},
     "output_type": "display_data"
    },
    {
     "name": "stdout",
     "output_type": "stream",
     "text": [
      "Precision (при пороге 0.5): 0.86\n",
      "Recall (при пороге 0.5): 0.48\n",
      "PR-AUC (correct): 0.82\n",
      "PR-AUC: 0.82\n"
     ]
    },
    {
     "data": {
      "image/png": "[encoded data removed]",
      "text/plain": [
       "<Figure size 400x300 with 1 Axes>"
      ]
     },
     "metadata": {},
     "output_type": "display_data"
    }
   ],
   "source": [
    "val_loader = data.DataLoader(dataset = val_dataset, batch_size = BATCH_SIZE, shuffle = False, num_workers = NUM_WORKERS)\n",
    "plotting_PR_AUC_binary(seq_model, val_loader)"
   ]
  },
  {
   "cell_type": "code",
   "execution_count": 16,
   "id": "6f280ae1-b0bf-4271-9960-1bbe41fa2346",
   "metadata": {},
   "outputs": [
    {
     "name": "stderr",
     "output_type": "stream",
     "text": [
      "LOCAL_RANK: 0 - CUDA_VISIBLE_DEVICES: [0,1]\n"
     ]
    },
    {
     "data": {
      "application/vnd.jupyter.widget-view+json": {
       "model_id": "735a97e4f1304780ba0c96c2327172b0",
       "version_major": 2,
       "version_minor": 0
      },
      "text/plain": [
       "Predicting: |                                                                                  | 0/? [00:00<?,…"
      ]
     },
     "metadata": {},
     "output_type": "display_data"
    },
    {
     "name": "stdout",
     "output_type": "stream",
     "text": [
      "Precision (при пороге 0.5): 0.86\n",
      "Recall (при пороге 0.5): 0.48\n",
      "PR-AUC (correct): 0.82\n",
      "PR-AUC: 0.82\n"
     ]
    },
    {
     "data": {
      "image/png": "[encoded data removed]",
      "text/plain": [
       "<Figure size 400x300 with 1 Axes>"
      ]
     },
     "metadata": {},
     "output_type": "display_data"
    }
   ],
   "source": [
    "test_loader = data.DataLoader(dataset = test_dataset, batch_size = BATCH_SIZE, shuffle = False, num_workers = NUM_WORKERS)\n",
    "plotting_PR_AUC_binary(seq_model, test_loader)"
   ]
  },
  {
   "cell_type": "code",
   "execution_count": null,
   "id": "ecae3b76-100b-4971-94f8-1213de01bb29",
   "metadata": {},
   "outputs": [],
   "source": []
  }
 ],
 "metadata": {
  "kernelspec": {
   "display_name": "Python [conda env:mpra]",
   "language": "python",
   "name": "conda-env-mpra-py"
  },
  "language_info": {
   "codemirror_mode": {
    "name": "ipython",
    "version": 3
   },
   "file_extension": ".py",
   "mimetype": "text/x-python",
   "name": "python",
   "nbconvert_exporter": "python",
   "pygments_lexer": "ipython3",
   "version": "3.12.7"
  }
 },
 "nbformat": 4,
 "nbformat_minor": 5
}
