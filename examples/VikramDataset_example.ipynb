{
 "cells": [
  {
   "cell_type": "code",
   "execution_count": 1,
   "id": "4229e853-d3e5-4fcb-a5b5-b6a4895d3fd4",
   "metadata": {},
   "outputs": [],
   "source": [
    "from tqdm import tqdm\n",
    "import mpramnist\n",
    "from mpramnist.vikramdataset import VikramDataset\n",
    "\n",
    "import mpramnist.transforms as t\n",
    "import mpramnist.target_transforms as t_t\n",
    "\n",
    "import numpy as np\n",
    "import torch\n",
    "import torch.nn as nn\n",
    "import torch.optim as optim\n",
    "import torch.utils.data as data"
   ]
  },
  {
   "cell_type": "code",
   "execution_count": 6,
   "id": "af4622b7-8276-4bd3-ad3d-fbeed1775a92",
   "metadata": {},
   "outputs": [],
   "source": [
    "NUM_EPOCHS = 5\n",
    "BATCH_SIZE = 64\n",
    "lr = 0.001"
   ]
  },
  {
   "cell_type": "markdown",
   "id": "08a1a951-f9f4-4bfd-a8af-478915fe4f03",
   "metadata": {},
   "source": [
    "## First, we read the MPRAdata, preprocess them and encapsulate them into dataloader form."
   ]
  },
  {
   "cell_type": "code",
   "execution_count": 7,
   "id": "738d9114-4aca-4bcc-9c51-716a8573d29d",
   "metadata": {},
   "outputs": [],
   "source": [
    "# preprocessing\n",
    "train_transform = t.Compose([\n",
    "    t.AddFlanks(\"GGCCCGCTCTAGACCTGCAGG\",\"CACTAGAGGGTATATAATGGAAGCTCGACTTCCAGCTTGGCAATCCGGTACTGT\"),\n",
    "    t.RandomCrop(230),\n",
    "    t.Seq2Tensor(),\n",
    "    t.Reverse(0.5),\n",
    "    t.AddReverseChannel()\n",
    "\n",
    "])\n",
    "test_transform = t.Compose([\n",
    "    t.Seq2Tensor(),\n",
    "    t.AddReverseChannel()\n",
    "])\n",
    "\n",
    "# load the data\n",
    "train_dataset = VikramDataset(cell_type = \"HepG2\", split=\"train\", transform=train_transform) # could use a list e.g. [1,2,5,6,7,8] \n",
    "                                                                                            # for needed folds\n",
    "val_dataset = VikramDataset(cell_type = \"HepG2\", split=\"val\", transform=test_transform) # use \"val\" for default validation set\n",
    "test_dataset = VikramDataset(cell_type = \"HepG2\", split=\"test\", transform=test_transform) # use \"test\" for default test set\n",
    "\n",
    "# encapsulate data into dataloader form\n",
    "train_loader = data.DataLoader(dataset=train_dataset, batch_size=BATCH_SIZE, shuffle=True)\n",
    "val_loader = data.DataLoader(dataset=val_dataset, batch_size=BATCH_SIZE, shuffle=False)\n",
    "test_loader = data.DataLoader(dataset=test_dataset, batch_size=BATCH_SIZE, shuffle=False)"
   ]
  },
  {
   "cell_type": "code",
   "execution_count": 8,
   "id": "7afc1cd2-8359-4124-ac99-9a407bcb4600",
   "metadata": {},
   "outputs": [
    {
     "name": "stdout",
     "output_type": "stream",
     "text": [
      "Dataset VikramDataset of size 98336 (MpraDaraset)\n",
      "    Number of datapoints: 98336\n",
      "    Default split folds: {'train': '1, 2, 3, 4, 5, 6, 7, 8', 'val': 9, 'test': 10}\n",
      "    Used split fold: [1, 2, 3, 4, 5, 6, 7, 8]\n",
      "    Scalar features: {}\n",
      "    Vector features: {}\n",
      "    Cell types: ['HepG2', 'K562', 'WTC11']\n",
      "    Сell type used: HepG2\n",
      "    Target columns that can be used: {'averaged_expression', 'expression'}\n",
      "    Number of channels: 5\n",
      "    Sequence size: 230\n",
      "    Number of samples: {'train': 98336, 'val': 12292, 'test': 12292}\n",
      "    Description: The VikramDataset is based on lentiMPRA assay, which determines the regulatory activity of over 680,000 sequences, representing a nearly comprehensive set of all annotated CREs among three cell types (HepG2, K562, and WTC11). HepG2 is a human liver cancer cell line, K562 is myelogenous leukemia cell line, WTC11 is pluripotent stem cell line derived from adult skin \n",
      "===================\n",
      "Dataset VikramDataset of size 12298 (MpraDaraset)\n",
      "    Number of datapoints: 12298\n",
      "    Default split folds: {'train': '1, 2, 3, 4, 5, 6, 7, 8', 'val': 9, 'test': 10}\n",
      "    Used split fold: [10]\n",
      "    Scalar features: {}\n",
      "    Vector features: {}\n",
      "    Cell types: ['HepG2', 'K562', 'WTC11']\n",
      "    Сell type used: HepG2\n",
      "    Target columns that can be used: {'averaged_expression', 'expression'}\n",
      "    Number of channels: 5\n",
      "    Sequence size: 230\n",
      "    Number of samples: {'train': 98336, 'val': 12292, 'test': 12292}\n",
      "    Description: The VikramDataset is based on lentiMPRA assay, which determines the regulatory activity of over 680,000 sequences, representing a nearly comprehensive set of all annotated CREs among three cell types (HepG2, K562, and WTC11). HepG2 is a human liver cancer cell line, K562 is myelogenous leukemia cell line, WTC11 is pluripotent stem cell line derived from adult skin \n"
     ]
    }
   ],
   "source": [
    "print(train_dataset)\n",
    "print(\"===================\")\n",
    "print(test_dataset)"
   ]
  },
  {
   "cell_type": "markdown",
   "id": "4af8d935-69f6-4862-9b42-983578130d01",
   "metadata": {},
   "source": [
    "## Then, we define a simple model for illustration, object function and optimizer that we use to classify."
   ]
  },
  {
   "cell_type": "code",
   "execution_count": 14,
   "id": "a1e04a46-9df2-4c97-ab34-d980727426ce",
   "metadata": {},
   "outputs": [],
   "source": [
    "class Net(nn.Module):\n",
    "    \n",
    "    def __init__(self, seq_len = 230, in_ch = 4, block_sizes=[16, 24, 32, 40, 48], kernel_size=7):\n",
    "        \n",
    "        super().__init__()\n",
    "        self.seq_len = seq_len\n",
    "        self.in_ch = in_ch\n",
    "        out_ch = 64\n",
    "        nn_blocks = []\n",
    "      \n",
    "        for in_bs, out_bs in zip([in_ch] + block_sizes, block_sizes):\n",
    "            \n",
    "            block = nn.Sequential(\n",
    "                nn.Conv1d(in_bs, out_bs, kernel_size=kernel_size, padding=1),\n",
    "                nn.SiLU(),\n",
    "                nn.BatchNorm1d(out_bs)\n",
    "            )\n",
    "            nn_blocks.append(block)\n",
    "            \n",
    "        self.conv_net = nn.Sequential(\n",
    "            *nn_blocks,\n",
    "            nn.Flatten(),\n",
    "            nn.Linear(block_sizes[-1] * (seq_len + len(block_sizes)*(3-kernel_size)), out_ch),\n",
    "        )\n",
    "        self.head = nn.Sequential(nn.Linear(out_ch, out_ch),\n",
    "                                   nn.BatchNorm1d(out_ch),\n",
    "                                   nn.SiLU(),\n",
    "                                   nn.Linear(out_ch, 1))\n",
    "\n",
    "    def forward(self, x):\n",
    "       \n",
    "        out = self.conv_net(x)\n",
    "        out = self.head(out)\n",
    "        \n",
    "        return out\n",
    "        \n",
    "model = Net(in_ch=len(train_dataset[0][0]), seq_len = len(train_dataset[0][0][0]))\n",
    "model = model.to(\"cuda\")\n",
    "\n",
    "# define loss function and optimizer\n",
    "criterion = nn.MSELoss()\n",
    "\n",
    "optimizer = torch.optim.AdamW(model.parameters(), \n",
    "                                      lr=lr,\n",
    "                                      weight_decay=lr)"
   ]
  },
  {
   "cell_type": "markdown",
   "id": "7560b4ed-95b9-4dab-b0db-d49eff6c85f6",
   "metadata": {},
   "source": [
    "## Now we can start to train"
   ]
  },
  {
   "cell_type": "markdown",
   "id": "0eed3262-039f-4eda-acd8-f13690f20d1b",
   "metadata": {},
   "source": [
    "Use \"cuda\" device to select gpu"
   ]
  },
  {
   "cell_type": "code",
   "execution_count": 15,
   "id": "1a70a137-68cf-4f1b-a570-eaf99b948f63",
   "metadata": {},
   "outputs": [
    {
     "name": "stdout",
     "output_type": "stream",
     "text": [
      "cuda\n"
     ]
    }
   ],
   "source": [
    "device = torch.device(\"cuda\" if torch.cuda.is_available() else \"cpu\")\n",
    "print(device)"
   ]
  },
  {
   "cell_type": "code",
   "execution_count": 16,
   "id": "c7d4dcde-efc1-487c-9a83-41c478dd731c",
   "metadata": {},
   "outputs": [
    {
     "name": "stderr",
     "output_type": "stream",
     "text": [
      "100%|███████████████████████████████████████████████████████████████████████████████| 1537/1537 [01:12<00:00, 21.11it/s]\n",
      "100%|█████████████████████████████████████████████████████████████████████████████████| 193/193 [00:06<00:00, 28.10it/s]\n"
     ]
    },
    {
     "name": "stdout",
     "output_type": "stream",
     "text": [
      "val  loss: 0.270  val_pearson:0.494\n"
     ]
    },
    {
     "name": "stderr",
     "output_type": "stream",
     "text": [
      "100%|███████████████████████████████████████████████████████████████████████████████| 1537/1537 [01:18<00:00, 19.48it/s]\n",
      "100%|█████████████████████████████████████████████████████████████████████████████████| 193/193 [00:05<00:00, 38.16it/s]\n"
     ]
    },
    {
     "name": "stdout",
     "output_type": "stream",
     "text": [
      "val  loss: 0.209  val_pearson:0.589\n"
     ]
    },
    {
     "name": "stderr",
     "output_type": "stream",
     "text": [
      "100%|███████████████████████████████████████████████████████████████████████████████| 1537/1537 [01:08<00:00, 22.44it/s]\n",
      "100%|█████████████████████████████████████████████████████████████████████████████████| 193/193 [00:05<00:00, 34.44it/s]\n"
     ]
    },
    {
     "name": "stdout",
     "output_type": "stream",
     "text": [
      "val  loss: 0.030  val_pearson:0.622\n"
     ]
    },
    {
     "name": "stderr",
     "output_type": "stream",
     "text": [
      "100%|███████████████████████████████████████████████████████████████████████████████| 1537/1537 [01:17<00:00, 19.73it/s]\n",
      "100%|█████████████████████████████████████████████████████████████████████████████████| 193/193 [00:05<00:00, 36.15it/s]\n"
     ]
    },
    {
     "name": "stdout",
     "output_type": "stream",
     "text": [
      "val  loss: 0.065  val_pearson:0.637\n"
     ]
    },
    {
     "name": "stderr",
     "output_type": "stream",
     "text": [
      "100%|███████████████████████████████████████████████████████████████████████████████| 1537/1537 [01:14<00:00, 20.50it/s]\n",
      "100%|█████████████████████████████████████████████████████████████████████████████████| 193/193 [00:06<00:00, 30.84it/s]"
     ]
    },
    {
     "name": "stdout",
     "output_type": "stream",
     "text": [
      "val  loss: 0.165  val_pearson:0.647\n"
     ]
    },
    {
     "name": "stderr",
     "output_type": "stream",
     "text": [
      "\n"
     ]
    }
   ],
   "source": [
    "from torchmetrics import PearsonCorrCoef\n",
    "for epoch in range(NUM_EPOCHS):\n",
    "    \n",
    "    model.train()\n",
    "    for inputs, targets in tqdm(train_loader):\n",
    "        \n",
    "        # forward + backward + optimize\n",
    "        optimizer.zero_grad()\n",
    "    \n",
    "        outputs = model(inputs.to(device))\n",
    "        outputs = outputs.view(-1)\n",
    " \n",
    "        targets = targets.squeeze().to(device)\n",
    "\n",
    "        loss = criterion(outputs, targets)\n",
    "        loss.backward()\n",
    "        optimizer.step()\n",
    "        \n",
    "    model.eval()\n",
    "    y_loss = 0\n",
    "    y_val_pearson = 0\n",
    "    loss_mse = nn.MSELoss() \n",
    "    val_pearson_coef = PearsonCorrCoef().to(device)\n",
    "    \n",
    "    with torch.no_grad():\n",
    "        \n",
    "        for inputs, targets in tqdm(val_loader):\n",
    "            outputs = model(inputs.to(device))\n",
    "\n",
    "            outputs = outputs.view(-1)\n",
    "            targets = targets.squeeze().to(device)\n",
    "            \n",
    "            val_pearson_coef.update(outputs, targets)\n",
    "\n",
    "            y_loss = loss_mse(outputs, targets)\n",
    "        print('%s  loss: %.3f  val_pearson:%.3f' % (\"val\", y_loss, val_pearson_coef.compute()))"
   ]
  },
  {
   "cell_type": "markdown",
   "id": "5e228d0b-4226-45e3-b750-758abd591df9",
   "metadata": {},
   "source": [
    "train more epochs for better quality"
   ]
  },
  {
   "cell_type": "code",
   "execution_count": 17,
   "id": "4a65c1cc-a0ea-4d08-800a-43bd2fc83d06",
   "metadata": {},
   "outputs": [
    {
     "name": "stdout",
     "output_type": "stream",
     "text": [
      "==> Evaluating ...\n",
      "val  loss: 0.165  val_pearson:0.647\n",
      "test  loss: 0.324  val_pearson:0.667\n"
     ]
    }
   ],
   "source": [
    "# evaluation\n",
    "\n",
    "def test(split):\n",
    "    model.eval()\n",
    "    y_loss = 0\n",
    "    y_val_pearson = 0\n",
    "    loss_mse = nn.MSELoss() \n",
    "    val_pearson_coef = PearsonCorrCoef().to(device)\n",
    "    if split == \"test\":\n",
    "        data_loader = test_loader\n",
    "    elif split == \"val\":\n",
    "        data_loader = val_loader\n",
    "    else:\n",
    "        raise Exception(f'Wrong split: {split}')\n",
    "    with torch.no_grad():\n",
    "        for inputs, targets in data_loader:\n",
    "            outputs = model(inputs.to(device))\n",
    "\n",
    "            outputs = outputs.view(-1)\n",
    "            targets = targets.squeeze().to(device)\n",
    "            \n",
    "            val_pearson_coef.update(outputs, targets)\n",
    "\n",
    "            loss = loss_mse(outputs, targets)\n",
    "            y_loss = loss\n",
    "    \n",
    "        print('%s  loss: %.3f  val_pearson:%.3f' % (split, y_loss, val_pearson_coef.compute()))\n",
    "\n",
    "        \n",
    "print('==> Evaluating ...')\n",
    "test('val')\n",
    "test('test')"
   ]
  },
  {
   "cell_type": "code",
   "execution_count": null,
   "id": "e8758c6e-6386-47c7-bdcd-2f6d272b0915",
   "metadata": {},
   "outputs": [],
   "source": []
  },
  {
   "cell_type": "code",
   "execution_count": null,
   "id": "289decde-c1be-4ddd-8989-d012c944f071",
   "metadata": {},
   "outputs": [],
   "source": []
  }
 ],
 "metadata": {
  "kernelspec": {
   "display_name": "Python [conda env:mpra]",
   "language": "python",
   "name": "conda-env-mpra-py"
  },
  "language_info": {
   "codemirror_mode": {
    "name": "ipython",
    "version": 3
   },
   "file_extension": ".py",
   "mimetype": "text/x-python",
   "name": "python",
   "nbconvert_exporter": "python",
   "pygments_lexer": "ipython3",
   "version": "3.12.7"
  }
 },
 "nbformat": 4,
 "nbformat_minor": 5
}
