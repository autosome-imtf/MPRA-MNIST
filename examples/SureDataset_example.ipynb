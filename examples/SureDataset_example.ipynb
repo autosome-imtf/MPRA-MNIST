{
 "cells": [
  {
   "cell_type": "code",
   "execution_count": 1,
   "id": "eb50d60d-0caf-443a-ad75-6be23f5a9bf9",
   "metadata": {},
   "outputs": [],
   "source": [
    "import mpramnist\n",
    "from mpramnist.suredataset import SureDataset\n",
    "from mpramnist import transforms as t\n",
    "from mpramnist import target_transforms as t_t\n",
    "\n",
    "import pyfastx\n",
    "import pandas as pd\n",
    "import os\n",
    "import numpy as np\n",
    "import torch\n",
    "import torch.nn as nn\n",
    "import torch.optim as optim\n",
    "import torch.utils.data as data"
   ]
  },
  {
   "cell_type": "code",
   "execution_count": 2,
   "id": "99495f77-7f7d-4123-978b-024179fbab54",
   "metadata": {},
   "outputs": [
    {
     "name": "stdout",
     "output_type": "stream",
     "text": [
      "cuda\n"
     ]
    }
   ],
   "source": [
    "NUM_EPOCHS = 50\n",
    "BATCH_SIZE = 1024\n",
    "NUM_WORKERS = 16\n",
    "lr = 0.01\n",
    "device = torch.device(\"cuda\" if torch.cuda.is_available() else \"cpu\")\n",
    "print(device)"
   ]
  },
  {
   "cell_type": "code",
   "execution_count": 3,
   "id": "ef20fb37-a43d-4539-978b-ea02acd2f53d",
   "metadata": {},
   "outputs": [],
   "source": [
    "# preprocessing\n",
    "train_transform = t.Compose([\n",
    "    t.Seq2Tensor(),\n",
    "    t.Reverse(0.5),\n",
    "])\n",
    "test_transform = t.Compose([ # трансформы теста слегка другие\n",
    "    t.Seq2Tensor(), ])\n",
    "\n",
    "task = \"regression\"\n",
    "genome_ids = [\"SuRE42_HG02601\",\n",
    "             \"SuRE43_GM18983\",\n",
    "             \"SuRE44_HG01241\",\n",
    "             \"SuRE45_HG03464\"]\n",
    "\n",
    "# load the data\n",
    "train_dataset = SureDataset(task = task, genome_id = genome_ids[1], split=\"train\", transform=train_transform)                                                                                              # for needed folds\n",
    "val_dataset = SureDataset(task = task, genome_id = genome_ids[1], split=\"val\", transform=test_transform) # use \"val\" for default validation set\n",
    "test_dataset = SureDataset(task = task, genome_id = genome_ids[1], split=\"test\", transform=test_transform) # use \"test\" for default test set\n",
    "\n",
    "# encapsulate data into dataloader form\n",
    "train_loader = data.DataLoader(dataset=train_dataset, batch_size=BATCH_SIZE, shuffle=True, num_workers = NUM_WORKERS)\n",
    "val_loader = data.DataLoader(dataset=val_dataset, batch_size=BATCH_SIZE, shuffle=False, num_workers = NUM_WORKERS)\n",
    "test_loader = data.DataLoader(dataset=test_dataset, batch_size=BATCH_SIZE, shuffle=False, num_workers = NUM_WORKERS)"
   ]
  },
  {
   "cell_type": "code",
   "execution_count": 6,
   "id": "34c72087-cefc-4b44-86d9-bedfad1b3991",
   "metadata": {},
   "outputs": [
    {
     "name": "stdout",
     "output_type": "stream",
     "text": [
      "Dataset SureDataset of size 554829 (MpraDaraset)\n",
      "    Number of datapoints: 554829\n",
      "    Default split folds: {}\n",
      "    Used split fold: train\n",
      "    Scalar features: {}\n",
      "    Vector features: {}\n",
      "    Cell types: ['SuRE42_HG02601', 'SuRE43_GM18983', 'SuRE44_HG01241', 'SuRE45_HG03464']\n",
      "    Сell type used: SuRE43_GM18983\n",
      "    Target columns that can be used: {}\n",
      "    Number of channels: 4\n",
      "    Sequence size: 166\n",
      "    Number of samples: {}\n",
      "    Description: SureDataset is based on \n",
      "##################################################\n",
      "Dataset SureDataset of size 72758 (MpraDaraset)\n",
      "    Number of datapoints: 72758\n",
      "    Default split folds: {}\n",
      "    Used split fold: val\n",
      "    Scalar features: {}\n",
      "    Vector features: {}\n",
      "    Cell types: ['SuRE42_HG02601', 'SuRE43_GM18983', 'SuRE44_HG01241', 'SuRE45_HG03464']\n",
      "    Сell type used: SuRE43_GM18983\n",
      "    Target columns that can be used: {}\n",
      "    Number of channels: 4\n",
      "    Sequence size: 314\n",
      "    Number of samples: {}\n",
      "    Description: SureDataset is based on \n",
      "##################################################\n",
      "Dataset SureDataset of size 72774 (MpraDaraset)\n",
      "    Number of datapoints: 72774\n",
      "    Default split folds: {}\n",
      "    Used split fold: test\n",
      "    Scalar features: {}\n",
      "    Vector features: {}\n",
      "    Cell types: ['SuRE42_HG02601', 'SuRE43_GM18983', 'SuRE44_HG01241', 'SuRE45_HG03464']\n",
      "    Сell type used: SuRE43_GM18983\n",
      "    Target columns that can be used: {}\n",
      "    Number of channels: 4\n",
      "    Sequence size: 355\n",
      "    Number of samples: {}\n",
      "    Description: SureDataset is based on \n"
     ]
    }
   ],
   "source": [
    "print(train_dataset)\n",
    "print(\"#\"*50)\n",
    "print(val_dataset)\n",
    "print(\"#\"*50)\n",
    "print(test_dataset)"
   ]
  },
  {
   "cell_type": "code",
   "execution_count": null,
   "id": "ad04cf6d-73ff-4fd0-b724-6293f5c3b85c",
   "metadata": {},
   "outputs": [],
   "source": []
  }
 ],
 "metadata": {
  "kernelspec": {
   "display_name": "Python [conda env:mpra]",
   "language": "python",
   "name": "conda-env-mpra-py"
  },
  "language_info": {
   "codemirror_mode": {
    "name": "ipython",
    "version": 3
   },
   "file_extension": ".py",
   "mimetype": "text/x-python",
   "name": "python",
   "nbconvert_exporter": "python",
   "pygments_lexer": "ipython3",
   "version": "3.12.7"
  }
 },
 "nbformat": 4,
 "nbformat_minor": 5
}
