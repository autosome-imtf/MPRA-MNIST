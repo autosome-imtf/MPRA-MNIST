{
 "cells": [
  {
   "cell_type": "markdown",
   "id": "6726501f-b860-4a6e-9f82-e53cd4342538",
   "metadata": {},
   "source": [
    "Currently, operations with genomic regions are implemented for Agarwal, AgarwalJoint, Malinois, DeepSTARR data."
   ]
  },
  {
   "cell_type": "markdown",
   "id": "8a3768cb-e83b-463a-a881-878617ec5ead",
   "metadata": {},
   "source": [
    "# Agarwal dataset"
   ]
  },
  {
   "cell_type": "markdown",
   "id": "4206d433-af7b-483e-bd48-9972b2df0bae",
   "metadata": {},
   "source": [
    "Agarwal data uses hg38"
   ]
  },
  {
   "cell_type": "code",
   "execution_count": 1,
   "id": "83b075fb-73e0-4e06-a0f6-d2b0c52e4534",
   "metadata": {},
   "outputs": [],
   "source": [
    "import mpramnist\n",
    "from mpramnist.Agarwal.dataset import AgarwalDataset"
   ]
  },
  {
   "cell_type": "markdown",
   "id": "ae84e58c-f710-49b3-a6e0-cff942da6b95",
   "metadata": {},
   "source": [
    "## Common use"
   ]
  },
  {
   "cell_type": "code",
   "execution_count": 2,
   "id": "2b6f98aa-a63e-4642-bff5-90bea0ad6454",
   "metadata": {},
   "outputs": [
    {
     "name": "stdout",
     "output_type": "stream",
     "text": [
      "Dataset AgarwalDataset of size 98336 (MpraDaraset)\n",
      "    Number of datapoints: 98336\n",
      "    Used split fold: [1, 2, 3, 4, 5, 6, 7, 8]\n",
      "------------\n",
      "Dataset AgarwalDataset of size 12292 (MpraDaraset)\n",
      "    Number of datapoints: 12292\n",
      "    Used split fold: [9]\n",
      "------------\n",
      "Dataset AgarwalDataset of size 12298 (MpraDaraset)\n",
      "    Number of datapoints: 12298\n",
      "    Used split fold: [10]\n"
     ]
    }
   ],
   "source": [
    "train = AgarwalDataset(split=\"train\", cell_type=\"HepG2\", root=\"../data/\")\n",
    "val = AgarwalDataset(split=\"val\", cell_type=\"HepG2\", root=\"../data/\")\n",
    "test = AgarwalDataset(split=\"test\", cell_type=\"HepG2\", root=\"../data/\")\n",
    "print(train)\n",
    "print(\"------------\")\n",
    "print(val)\n",
    "print(\"------------\")\n",
    "print(test)"
   ]
  },
  {
   "cell_type": "markdown",
   "id": "7f7c7ee6-32ae-4c09-8ace-b5542cba8ea4",
   "metadata": {},
   "source": [
    "## Exclude genomic regions"
   ]
  },
  {
   "cell_type": "code",
   "execution_count": 3,
   "id": "04a2b264-6bf3-433e-81d5-1ee79e43941e",
   "metadata": {},
   "outputs": [],
   "source": [
    "test_regions = [\n",
    "    {\"chrom\": \"10\", \"start\": 1, \"end\": 1000000000},\n",
    "    {\"chrom\": \"1\", \"start\": 1, \"end\": 89032143},\n",
    "]\n",
    "\n",
    "test_dataset = AgarwalDataset(\n",
    "    split=\"test\", cell_type=\"WTC11\", genomic_regions=test_regions, root=\"../data/\"\n",
    ")\n",
    "\n",
    "train_dataset = AgarwalDataset(\n",
    "    split=\"train\",\n",
    "    cell_type=\"WTC11\",\n",
    "    genomic_regions=test_regions,\n",
    "    exclude_regions=True,\n",
    "    root=\"../data/\",\n",
    ")"
   ]
  },
  {
   "cell_type": "code",
   "execution_count": 4,
   "id": "9a416cc0-d180-4e63-adab-6a8bb57383d1",
   "metadata": {},
   "outputs": [
    {
     "name": "stdout",
     "output_type": "stream",
     "text": [
      "Dataset AgarwalDataset of size 41878 (MpraDaraset)\n",
      "    Number of datapoints: 41878\n",
      "    Used split fold: genomic region\n",
      "===================\n",
      "Dataset AgarwalDataset of size 4307 (MpraDaraset)\n",
      "    Number of datapoints: 4307\n",
      "    Used split fold: genomic region\n"
     ]
    }
   ],
   "source": [
    "print(train_dataset)\n",
    "print(\"===================\")\n",
    "print(test_dataset)"
   ]
  },
  {
   "cell_type": "markdown",
   "id": "6334b9b6-897a-41ce-a8ae-1d6c367211b6",
   "metadata": {},
   "source": [
    "## Include genomic regions"
   ]
  },
  {
   "cell_type": "code",
   "execution_count": 5,
   "id": "98c7fed9-99e9-4c1d-be21-1f8556ea2f94",
   "metadata": {},
   "outputs": [
    {
     "name": "stderr",
     "output_type": "stream",
     "text": [
      "/home/nios/5Term/mpramnist/Agarwal/dataset.py:65: DtypeWarning: Columns (1) have mixed types. Specify dtype option on import or set low_memory=False.\n",
      "  df = pd.read_csv(file_path, sep='\\t')\n",
      "/home/nios/5Term/mpramnist/Agarwal/dataset.py:65: DtypeWarning: Columns (1) have mixed types. Specify dtype option on import or set low_memory=False.\n",
      "  df = pd.read_csv(file_path, sep='\\t')\n",
      "/home/nios/5Term/mpramnist/Agarwal/dataset.py:65: DtypeWarning: Columns (1) have mixed types. Specify dtype option on import or set low_memory=False.\n",
      "  df = pd.read_csv(file_path, sep='\\t')\n"
     ]
    }
   ],
   "source": [
    "test_regions = [\n",
    "    {\"chrom\": \"10\", \"start\": 1, \"end\": 1000000000},\n",
    "    {\"chrom\": \"1\", \"start\": 1, \"end\": 1000000000},\n",
    "    {\"chrom\": \"20\", \"start\": 1, \"end\": 1000000000},\n",
    "]\n",
    "val_regions = [\n",
    "    {\"chrom\": \"2\", \"start\": 1, \"end\": 1000000000},\n",
    "    {\"chrom\": \"3\", \"start\": 1, \"end\": 1000000000},\n",
    "    {\"chrom\": \"4\", \"start\": 1, \"end\": 1000000000},\n",
    "    {\"chrom\": \"Y\", \"start\": 1, \"end\": 1000000000},\n",
    "]\n",
    "train_regions = [\n",
    "    {\"chrom\": \"5\", \"start\": 1, \"end\": 1000000000},\n",
    "    {\"chrom\": \"6\", \"start\": 1, \"end\": 1000000000},\n",
    "    {\"chrom\": \"7\", \"start\": 1, \"end\": 1000000000},\n",
    "    {\"chrom\": \"X\", \"start\": 1, \"end\": 1000000000},\n",
    "]\n",
    "\n",
    "test = AgarwalDataset(\n",
    "    split=\"test\", cell_type=\"K562\", genomic_regions=test_regions, root=\"../data/\"\n",
    ")\n",
    "\n",
    "val = AgarwalDataset(\n",
    "    split=\"val\", cell_type=\"K562\", genomic_regions=val_regions, root=\"../data/\"\n",
    ")\n",
    "\n",
    "train = AgarwalDataset(\n",
    "    split=\"train\", cell_type=\"K562\", genomic_regions=train_regions, root=\"../data/\"\n",
    ")"
   ]
  },
  {
   "cell_type": "code",
   "execution_count": 6,
   "id": "8741e08f-09b1-4329-a7bf-8642316f839e",
   "metadata": {},
   "outputs": [
    {
     "name": "stdout",
     "output_type": "stream",
     "text": [
      "Dataset AgarwalDataset of size 22044 (MpraDaraset)\n",
      "    Number of datapoints: 22044\n",
      "    Used split fold: genomic region\n",
      "===================\n",
      "Dataset AgarwalDataset of size 4674 (MpraDaraset)\n",
      "    Number of datapoints: 4674\n",
      "    Used split fold: genomic region\n",
      "===================\n",
      "Dataset AgarwalDataset of size 10814 (MpraDaraset)\n",
      "    Number of datapoints: 10814\n",
      "    Used split fold: genomic region\n"
     ]
    }
   ],
   "source": [
    "print(train)\n",
    "print(\"===================\")\n",
    "print(val)\n",
    "print(\"===================\")\n",
    "print(test)"
   ]
  },
  {
   "cell_type": "markdown",
   "id": "e8b2c34f-2108-42c0-9e59-fee5eafc9247",
   "metadata": {},
   "source": [
    "## Download regions from BED-file"
   ]
  },
  {
   "cell_type": "code",
   "execution_count": 7,
   "id": "c614cab3-6b04-44da-8909-ddc803dcd792",
   "metadata": {},
   "outputs": [],
   "source": [
    "test_regions = [\"10\\t1\\t1000000000\", \"1\\t1\\t1000000000\", \"20\\t1\\t1000000000\"]\n",
    "\n",
    "with open(\"test_regions.bed\", \"w\") as f:\n",
    "    for region in test_regions:\n",
    "        f.write(region + \"\\n\")"
   ]
  },
  {
   "cell_type": "code",
   "execution_count": 8,
   "id": "39d16fde-cde5-4851-a963-f09c19e36689",
   "metadata": {},
   "outputs": [],
   "source": [
    "test_dataset = AgarwalDataset(\n",
    "    split=\"test\",\n",
    "    cell_type=\"HepG2\",\n",
    "    genomic_regions=\"./test_regions.bed\",\n",
    "    root=\"../data/\",\n",
    ")\n",
    "train_dataset = AgarwalDataset(\n",
    "    split=\"train\",\n",
    "    cell_type=\"HepG2\",\n",
    "    genomic_regions=\"./test_regions.bed\",\n",
    "    exclude_regions=True,\n",
    "    root=\"../data/\",\n",
    ")"
   ]
  },
  {
   "cell_type": "code",
   "execution_count": 9,
   "id": "3110842a-b44d-4230-ab05-5a560db125ee",
   "metadata": {},
   "outputs": [
    {
     "name": "stdout",
     "output_type": "stream",
     "text": [
      "Dataset AgarwalDataset of size 99736 (MpraDaraset)\n",
      "    Number of datapoints: 99736\n",
      "    Used split fold: genomic region\n",
      "===================\n",
      "Dataset AgarwalDataset of size 23190 (MpraDaraset)\n",
      "    Number of datapoints: 23190\n",
      "    Used split fold: genomic region\n"
     ]
    }
   ],
   "source": [
    "print(train_dataset)\n",
    "print(\"===================\")\n",
    "print(test_dataset)"
   ]
  },
  {
   "cell_type": "markdown",
   "id": "a4441eb9-6472-4dd7-aa1d-51d52f158f18",
   "metadata": {},
   "source": [
    "# AgarwalJoint dataset"
   ]
  },
  {
   "cell_type": "markdown",
   "id": "f0fcf299-aa03-4d83-8235-fa131e43b9eb",
   "metadata": {},
   "source": [
    "AgarwalJoint data uses hg38"
   ]
  },
  {
   "cell_type": "code",
   "execution_count": 1,
   "id": "c43cc807-fae8-4e7a-961d-5781be7af3f6",
   "metadata": {},
   "outputs": [],
   "source": [
    "import mpramnist\n",
    "from mpramnist.AgarwalJoint.dataset import AgarwalJointDataset"
   ]
  },
  {
   "cell_type": "code",
   "execution_count": 6,
   "id": "9f192b33-b082-4887-bdd7-f987e976e557",
   "metadata": {},
   "outputs": [],
   "source": [
    "test_regions = [\n",
    "    {\"chrom\": \"10\", \"start\": 1, \"end\": 1000000000},\n",
    "    {\"chrom\": \"1\", \"start\": 1, \"end\": 1000000000},\n",
    "    {\"chrom\": \"20\", \"start\": 1, \"end\": 1000000000},\n",
    "]\n",
    "\n",
    "test_dataset = AgarwalJointDataset(\n",
    "    split=\"test\",\n",
    "    cell_type=[\"HepG2\", \"K562\", \"WTC11\"],\n",
    "    genomic_regions=test_regions,\n",
    "    root=\"../data/\",\n",
    ")\n",
    "\n",
    "train_dataset = AgarwalJointDataset(\n",
    "    split=\"train\",\n",
    "    cell_type=[\"HepG2\", \"K562\", \"WTC11\"],\n",
    "    genomic_regions=test_regions,\n",
    "    exclude_regions=True,\n",
    "    root=\"../data/\",\n",
    ")"
   ]
  },
  {
   "cell_type": "code",
   "execution_count": 7,
   "id": "bf10c9b8-6d37-43ef-bee2-e57a800f519a",
   "metadata": {},
   "outputs": [
    {
     "name": "stdout",
     "output_type": "stream",
     "text": [
      "Dataset AgarwalJointDataset of size 45527 (MpraDaraset)\n",
      "    Number of datapoints: 45527\n",
      "    Used split fold: genomic region\n",
      "------------\n",
      "Dataset AgarwalJointDataset of size 9811 (MpraDaraset)\n",
      "    Number of datapoints: 9811\n",
      "    Used split fold: genomic region\n"
     ]
    }
   ],
   "source": [
    "print(train_dataset)\n",
    "print(\"------------\")\n",
    "print(test_dataset)"
   ]
  },
  {
   "cell_type": "markdown",
   "id": "fdd40f29-d0a3-4aac-8882-9a7d88563ad9",
   "metadata": {},
   "source": [
    "# Malinois dataset"
   ]
  },
  {
   "cell_type": "markdown",
   "id": "c85905ea-cc8d-42c2-9ab8-b5c568cd1306",
   "metadata": {},
   "source": [
    "Malinois data uses hg19"
   ]
  },
  {
   "cell_type": "code",
   "execution_count": 1,
   "id": "4bc0706f-a9c5-4beb-ace6-936fc0988428",
   "metadata": {},
   "outputs": [],
   "source": [
    "import mpramnist\n",
    "from mpramnist.Malinois.dataset import MalinoisDataset"
   ]
  },
  {
   "cell_type": "code",
   "execution_count": 12,
   "id": "e3ebb612-8c35-4bb0-8eb3-7b3ec7e2e2e3",
   "metadata": {},
   "outputs": [],
   "source": [
    "test_regions = [\n",
    "    {\"chrom\": \"10\", \"start\": 1, \"end\": 1000000000},\n",
    "    {\"chrom\": \"1\", \"start\": 1, \"end\": 1000000000},\n",
    "    {\"chrom\": \"X\", \"start\": 1, \"end\": 1000000000},\n",
    "]\n",
    "train_dataset = MalinoisDataset(\n",
    "    split=\"train\",\n",
    "    filtration=\"none\",\n",
    "    root=\"../data/\",\n",
    "    genomic_regions=test_regions,\n",
    "    exclude_regions=True,\n",
    ")\n",
    "test_dataset = MalinoisDataset(\n",
    "    split=\"test\", filtration=\"none\", root=\"../data/\", genomic_regions=test_regions\n",
    ")"
   ]
  },
  {
   "cell_type": "code",
   "execution_count": 13,
   "id": "9b6b204d-2009-4b99-9a9b-c3e7329e9e45",
   "metadata": {},
   "outputs": [
    {
     "name": "stdout",
     "output_type": "stream",
     "text": [
      "Dataset MalinoisDataset of size 665160 (MpraDaraset)\n",
      "    Number of datapoints: 665160\n",
      "    Used split fold: genomic region\n",
      "------------\n",
      "Dataset MalinoisDataset of size 118440 (MpraDaraset)\n",
      "    Number of datapoints: 118440\n",
      "    Used split fold: genomic region\n"
     ]
    }
   ],
   "source": [
    "print(train_dataset)\n",
    "print(\"------------\")\n",
    "print(test_dataset)"
   ]
  },
  {
   "cell_type": "code",
   "execution_count": 14,
   "id": "a343758f-4c9c-432b-86eb-f73d0a3d23bd",
   "metadata": {},
   "outputs": [],
   "source": [
    "train_dataset = MalinoisDataset(\n",
    "    split=\"train\",\n",
    "    filtration=\"none\",\n",
    "    root=\"../data/\",\n",
    "    genomic_regions=\"./test_regions.bed\",\n",
    "    exclude_regions=True,\n",
    ")\n",
    "test_dataset = MalinoisDataset(\n",
    "    split=\"test\",\n",
    "    filtration=\"none\",\n",
    "    root=\"../data/\",\n",
    "    genomic_regions=\"./test_regions.bed\",\n",
    ")"
   ]
  },
  {
   "cell_type": "code",
   "execution_count": 15,
   "id": "7491b4bb-7875-4e24-a7bf-eccbb623e95c",
   "metadata": {},
   "outputs": [
    {
     "name": "stdout",
     "output_type": "stream",
     "text": [
      "Dataset MalinoisDataset of size 654074 (MpraDaraset)\n",
      "    Number of datapoints: 654074\n",
      "    Used split fold: genomic region\n",
      "------------\n",
      "Dataset MalinoisDataset of size 129526 (MpraDaraset)\n",
      "    Number of datapoints: 129526\n",
      "    Used split fold: genomic region\n"
     ]
    }
   ],
   "source": [
    "print(train_dataset)\n",
    "print(\"------------\")\n",
    "print(test_dataset)"
   ]
  },
  {
   "cell_type": "markdown",
   "id": "294a528e-fa2b-4909-8a36-60c59cc1ec3e",
   "metadata": {},
   "source": [
    "# DeepSTARR dataset"
   ]
  },
  {
   "cell_type": "markdown",
   "id": "ff46c137-af43-418d-b588-88c35d4a4e7c",
   "metadata": {},
   "source": [
    "Malinois data uses BDGP R5/dm3"
   ]
  },
  {
   "cell_type": "code",
   "execution_count": 1,
   "id": "880d1914-7296-4e86-8666-dd27661a7b17",
   "metadata": {},
   "outputs": [],
   "source": [
    "import mpramnist\n",
    "from mpramnist.DeepStarr.dataset import DeepStarrDataset"
   ]
  },
  {
   "cell_type": "code",
   "execution_count": 2,
   "id": "88e80f30-2564-49f9-bba0-e1352e1ab26c",
   "metadata": {},
   "outputs": [],
   "source": [
    "val_regions = [\n",
    "    {\"chrom\": \"chr2R\", \"start\": 1, \"end\": 21144049//2},\n",
    "]\n",
    "test_regions = [\n",
    "    {\"chrom\": \"chr2R\", \"start\": 21144049//2, \"end\": 21144049},\n",
    "]\n",
    "val_test = val_regions + test_regions\n",
    "train_dataset = DeepStarrDataset(\n",
    "    split=\"train\",\n",
    "    root=\"../data/\",\n",
    "    use_original_reverse_complement=True,\n",
    "    genomic_regions=val_test,\n",
    "    exclude_regions=True,\n",
    ")\n",
    "val_dataset = DeepStarrDataset(\n",
    "    split=\"val\",  root=\"../data/\", genomic_regions=val_regions\n",
    ")\n",
    "test_dataset = DeepStarrDataset(\n",
    "    split=\"test\",  root=\"../data/\", genomic_regions=test_regions\n",
    ")"
   ]
  },
  {
   "cell_type": "code",
   "execution_count": 3,
   "id": "4b65532e-0db7-463a-bd83-026fdd1553f5",
   "metadata": {},
   "outputs": [
    {
     "name": "stdout",
     "output_type": "stream",
     "text": [
      "Dataset DeepStarrDataset of size 402322 (MpraDaraset)\n",
      "    Number of datapoints: 402322\n",
      "    Used split fold: genomic region\n",
      "===================\n",
      "Dataset DeepStarrDataset of size 40562 (MpraDaraset)\n",
      "    Number of datapoints: 40562\n",
      "    Used split fold: genomic region\n",
      "===================\n",
      "Dataset DeepStarrDataset of size 41172 (MpraDaraset)\n",
      "    Number of datapoints: 41172\n",
      "    Used split fold: genomic region\n"
     ]
    }
   ],
   "source": [
    "print(train_dataset)\n",
    "print(\"===================\")\n",
    "print(val_dataset)\n",
    "print(\"===================\")\n",
    "print(test_dataset)"
   ]
  },
  {
   "cell_type": "code",
   "execution_count": null,
   "id": "bda96ad2-7b8b-4dd4-8a13-ee7162a5a6fc",
   "metadata": {},
   "outputs": [],
   "source": []
  }
 ],
 "metadata": {
  "kernelspec": {
   "display_name": "Python [conda env:mpramnist]",
   "language": "python",
   "name": "conda-env-mpramnist-py"
  },
  "language_info": {
   "codemirror_mode": {
    "name": "ipython",
    "version": 3
   },
   "file_extension": ".py",
   "mimetype": "text/x-python",
   "name": "python",
   "nbconvert_exporter": "python",
   "pygments_lexer": "ipython3",
   "version": "3.12.7"
  }
 },
 "nbformat": 4,
 "nbformat_minor": 5
}
