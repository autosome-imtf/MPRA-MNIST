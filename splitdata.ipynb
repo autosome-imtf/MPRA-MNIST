{
 "cells": [
  {
   "cell_type": "code",
   "execution_count": 17,
   "id": "ca9998cf-0d9e-45cf-8d0c-9660a1d1bbc0",
   "metadata": {},
   "outputs": [],
   "source": [
    "import pandas as pd\n",
    "data_path = './datasets/From_Legnet_git_data/K562.tsv'\n",
    "df = pd.read_csv(data_path, sep='\\t')"
   ]
  },
  {
   "cell_type": "code",
   "execution_count": 18,
   "id": "03488c80-600a-463c-991f-af7fcb2df630",
   "metadata": {},
   "outputs": [
    {
     "data": {
      "text/html": [
       "<div>\n",
       "<style scoped>\n",
       "    .dataframe tbody tr th:only-of-type {\n",
       "        vertical-align: middle;\n",
       "    }\n",
       "\n",
       "    .dataframe tbody tr th {\n",
       "        vertical-align: top;\n",
       "    }\n",
       "\n",
       "    .dataframe thead th {\n",
       "        text-align: right;\n",
       "    }\n",
       "</style>\n",
       "<table border=\"1\" class=\"dataframe\">\n",
       "  <thead>\n",
       "    <tr style=\"text-align: right;\">\n",
       "      <th></th>\n",
       "      <th>seq_id</th>\n",
       "      <th>seq</th>\n",
       "      <th>mean_value</th>\n",
       "      <th>fold</th>\n",
       "    </tr>\n",
       "  </thead>\n",
       "  <tbody>\n",
       "    <tr>\n",
       "      <th>0</th>\n",
       "      <td>peak10</td>\n",
       "      <td>AGGACCGGATCAACTTGTCGCCTTAATCCAAGCCTACGTTTTTACA...</td>\n",
       "      <td>-0.490</td>\n",
       "      <td>8</td>\n",
       "    </tr>\n",
       "    <tr>\n",
       "      <th>1</th>\n",
       "      <td>peak10_Reversed:</td>\n",
       "      <td>AGGACCGGATCAACTAGTATGAGGAGGGTTGTGGAGTGGAAGTGAA...</td>\n",
       "      <td>-0.131</td>\n",
       "      <td>8</td>\n",
       "    </tr>\n",
       "    <tr>\n",
       "      <th>2</th>\n",
       "      <td>peak1000</td>\n",
       "      <td>AGGACCGGATCAACTCATCTACATAGAAGTCGCCCTGTCCGTGATG...</td>\n",
       "      <td>0.628</td>\n",
       "      <td>6</td>\n",
       "    </tr>\n",
       "    <tr>\n",
       "      <th>3</th>\n",
       "      <td>peak1000_Reversed:</td>\n",
       "      <td>AGGACCGGATCAACTTTGCTCCTTAACACAGGCTAAGGACCAGCTT...</td>\n",
       "      <td>1.263</td>\n",
       "      <td>6</td>\n",
       "    </tr>\n",
       "    <tr>\n",
       "      <th>4</th>\n",
       "      <td>peak10000</td>\n",
       "      <td>AGGACCGGATCAACTATGGCAGCAGCAGCCCGTCTAGGGTGGCCAC...</td>\n",
       "      <td>-0.131</td>\n",
       "      <td>3</td>\n",
       "    </tr>\n",
       "    <tr>\n",
       "      <th>...</th>\n",
       "      <td>...</td>\n",
       "      <td>...</td>\n",
       "      <td>...</td>\n",
       "      <td>...</td>\n",
       "    </tr>\n",
       "    <tr>\n",
       "      <th>196659</th>\n",
       "      <td>ENSG00000282988_Reversed:</td>\n",
       "      <td>AGGACCGGATCAACTAGGGAACTGGAGTCCGGCCCGCGAAGAGCGG...</td>\n",
       "      <td>-0.627</td>\n",
       "      <td>8</td>\n",
       "    </tr>\n",
       "    <tr>\n",
       "      <th>196660</th>\n",
       "      <td>ENSG00000283013</td>\n",
       "      <td>AGGACCGGATCAACTCGGAAGGCTCGGGAGGCGGCGCCATGTGAGT...</td>\n",
       "      <td>-0.068</td>\n",
       "      <td>10</td>\n",
       "    </tr>\n",
       "    <tr>\n",
       "      <th>196661</th>\n",
       "      <td>ENSG00000283013_Reversed:</td>\n",
       "      <td>AGGACCGGATCAACTCCCTGGATAAATACGTAATTAAGTCCCGGCG...</td>\n",
       "      <td>0.198</td>\n",
       "      <td>10</td>\n",
       "    </tr>\n",
       "    <tr>\n",
       "      <th>196662</th>\n",
       "      <td>ENSG00000283088</td>\n",
       "      <td>AGGACCGGATCAACTTGCACGGCGGCGTGTGCGTTTCCTAGTTGTC...</td>\n",
       "      <td>-0.583</td>\n",
       "      <td>5</td>\n",
       "    </tr>\n",
       "    <tr>\n",
       "      <th>196663</th>\n",
       "      <td>ENSG00000283088_Reversed:</td>\n",
       "      <td>AGGACCGGATCAACTCCCACTGCAGAAAGACCGGGGACGGGACCAG...</td>\n",
       "      <td>-0.186</td>\n",
       "      <td>5</td>\n",
       "    </tr>\n",
       "  </tbody>\n",
       "</table>\n",
       "<p>196664 rows × 4 columns</p>\n",
       "</div>"
      ],
      "text/plain": [
       "                           seq_id  \\\n",
       "0                          peak10   \n",
       "1                peak10_Reversed:   \n",
       "2                        peak1000   \n",
       "3              peak1000_Reversed:   \n",
       "4                       peak10000   \n",
       "...                           ...   \n",
       "196659  ENSG00000282988_Reversed:   \n",
       "196660            ENSG00000283013   \n",
       "196661  ENSG00000283013_Reversed:   \n",
       "196662            ENSG00000283088   \n",
       "196663  ENSG00000283088_Reversed:   \n",
       "\n",
       "                                                      seq  mean_value  fold  \n",
       "0       AGGACCGGATCAACTTGTCGCCTTAATCCAAGCCTACGTTTTTACA...      -0.490     8  \n",
       "1       AGGACCGGATCAACTAGTATGAGGAGGGTTGTGGAGTGGAAGTGAA...      -0.131     8  \n",
       "2       AGGACCGGATCAACTCATCTACATAGAAGTCGCCCTGTCCGTGATG...       0.628     6  \n",
       "3       AGGACCGGATCAACTTTGCTCCTTAACACAGGCTAAGGACCAGCTT...       1.263     6  \n",
       "4       AGGACCGGATCAACTATGGCAGCAGCAGCCCGTCTAGGGTGGCCAC...      -0.131     3  \n",
       "...                                                   ...         ...   ...  \n",
       "196659  AGGACCGGATCAACTAGGGAACTGGAGTCCGGCCCGCGAAGAGCGG...      -0.627     8  \n",
       "196660  AGGACCGGATCAACTCGGAAGGCTCGGGAGGCGGCGCCATGTGAGT...      -0.068    10  \n",
       "196661  AGGACCGGATCAACTCCCTGGATAAATACGTAATTAAGTCCCGGCG...       0.198    10  \n",
       "196662  AGGACCGGATCAACTTGCACGGCGGCGTGTGCGTTTCCTAGTTGTC...      -0.583     5  \n",
       "196663  AGGACCGGATCAACTCCCACTGCAGAAAGACCGGGGACGGGACCAG...      -0.186     5  \n",
       "\n",
       "[196664 rows x 4 columns]"
      ]
     },
     "execution_count": 18,
     "metadata": {},
     "output_type": "execute_result"
    }
   ],
   "source": [
    "df = df[df.rev == 0]\n",
    "df = df.drop(columns=['rev'])\n",
    "df"
   ]
  },
  {
   "cell_type": "code",
   "execution_count": 32,
   "id": "729be218-118b-4870-9ed4-c0eb4de415c9",
   "metadata": {},
   "outputs": [
    {
     "name": "stdout",
     "output_type": "stream",
     "text": [
      "/home/nios/5Term\n"
     ]
    }
   ],
   "source": [
    "!pwd"
   ]
  },
  {
   "cell_type": "code",
   "execution_count": 9,
   "id": "9d5f198d-e1c0-4420-99e2-f8a5442cc922",
   "metadata": {},
   "outputs": [],
   "source": [
    "df.to_csv('./datasets/Vikram_splited/K562.tsv', sep=\"\\t\", index = False) "
   ]
  }
 ],
 "metadata": {
  "kernelspec": {
   "display_name": "Python 3 (ipykernel)",
   "language": "python",
   "name": "python3"
  },
  "language_info": {
   "codemirror_mode": {
    "name": "ipython",
    "version": 3
   },
   "file_extension": ".py",
   "mimetype": "text/x-python",
   "name": "python",
   "nbconvert_exporter": "python",
   "pygments_lexer": "ipython3",
   "version": "3.10.12"
  }
 },
 "nbformat": 4,
 "nbformat_minor": 5
}
