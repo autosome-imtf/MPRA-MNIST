{
 "cells": [
  {
   "cell_type": "code",
   "execution_count": 2,
   "id": "ca9998cf-0d9e-45cf-8d0c-9660a1d1bbc0",
   "metadata": {},
   "outputs": [],
   "source": [
    "import pandas as pd\n",
    "data_path = './datasets/From_Legnet_git_data/WTC11.tsv'\n",
    "df = pd.read_csv(data_path, sep='\\t')"
   ]
  },
  {
   "cell_type": "code",
   "execution_count": 3,
   "id": "03488c80-600a-463c-991f-af7fcb2df630",
   "metadata": {},
   "outputs": [
    {
     "data": {
      "text/html": [
       "<div>\n",
       "<style scoped>\n",
       "    .dataframe tbody tr th:only-of-type {\n",
       "        vertical-align: middle;\n",
       "    }\n",
       "\n",
       "    .dataframe tbody tr th {\n",
       "        vertical-align: top;\n",
       "    }\n",
       "\n",
       "    .dataframe thead th {\n",
       "        text-align: right;\n",
       "    }\n",
       "</style>\n",
       "<table border=\"1\" class=\"dataframe\">\n",
       "  <thead>\n",
       "    <tr style=\"text-align: right;\">\n",
       "      <th></th>\n",
       "      <th>seq_id</th>\n",
       "      <th>seq</th>\n",
       "      <th>mean_value</th>\n",
       "      <th>fold</th>\n",
       "    </tr>\n",
       "  </thead>\n",
       "  <tbody>\n",
       "    <tr>\n",
       "      <th>0</th>\n",
       "      <td>seq10002_R</td>\n",
       "      <td>AGGACCGGATCAACTAGCAATCCCTGGGAAAATCTGTGCTTTGCAG...</td>\n",
       "      <td>-1.306000</td>\n",
       "      <td>10</td>\n",
       "    </tr>\n",
       "    <tr>\n",
       "      <th>1</th>\n",
       "      <td>seq10004_F</td>\n",
       "      <td>AGGACCGGATCAACTTAGCTCAACACAAATCCATCACTGAAAGCAG...</td>\n",
       "      <td>-0.017000</td>\n",
       "      <td>10</td>\n",
       "    </tr>\n",
       "    <tr>\n",
       "      <th>2</th>\n",
       "      <td>seq10004_R</td>\n",
       "      <td>AGGACCGGATCAACTCATTGTTTCCATAGGGAATAAGTCTTTTTCA...</td>\n",
       "      <td>-0.017000</td>\n",
       "      <td>10</td>\n",
       "    </tr>\n",
       "    <tr>\n",
       "      <th>3</th>\n",
       "      <td>seq10005_F</td>\n",
       "      <td>AGGACCGGATCAACTGACCCTAAATCAGTATGGGGAAAGGTCCCCA...</td>\n",
       "      <td>-1.635000</td>\n",
       "      <td>7</td>\n",
       "    </tr>\n",
       "    <tr>\n",
       "      <th>4</th>\n",
       "      <td>seq10005_R</td>\n",
       "      <td>AGGACCGGATCAACTAAAGGGACTTTCCGCATTCTAAGTTCTTAAG...</td>\n",
       "      <td>-1.635000</td>\n",
       "      <td>7</td>\n",
       "    </tr>\n",
       "    <tr>\n",
       "      <th>...</th>\n",
       "      <td>...</td>\n",
       "      <td>...</td>\n",
       "      <td>...</td>\n",
       "      <td>...</td>\n",
       "    </tr>\n",
       "    <tr>\n",
       "      <th>46180</th>\n",
       "      <td>seq77105_shuffled_0</td>\n",
       "      <td>AGGACCGGATCAACTAGCAAGCCATCAGAGGATAGCTGGCTGAGAG...</td>\n",
       "      <td>-1.284667</td>\n",
       "      <td>7</td>\n",
       "    </tr>\n",
       "    <tr>\n",
       "      <th>46181</th>\n",
       "      <td>seq77431_shuffled_0</td>\n",
       "      <td>AGGACCGGATCAACTCCAGCCATCCACCCCACTGGCACTGTACAAG...</td>\n",
       "      <td>-1.445333</td>\n",
       "      <td>5</td>\n",
       "    </tr>\n",
       "    <tr>\n",
       "      <th>46182</th>\n",
       "      <td>seq78540_shuffled_0</td>\n",
       "      <td>AGGACCGGATCAACTTGGCACAGATGGCTCAGACACCGGTTGCCAT...</td>\n",
       "      <td>-1.537667</td>\n",
       "      <td>9</td>\n",
       "    </tr>\n",
       "    <tr>\n",
       "      <th>46183</th>\n",
       "      <td>seq79319_shuffled_0</td>\n",
       "      <td>AGGACCGGATCAACTCTTTCTTTCTTGTGGTGCCACCAGAACCAAC...</td>\n",
       "      <td>-0.871333</td>\n",
       "      <td>8</td>\n",
       "    </tr>\n",
       "    <tr>\n",
       "      <th>46184</th>\n",
       "      <td>seq9358_shuffled_0</td>\n",
       "      <td>AGGACCGGATCAACTATCAACTTGGTCCTTGCGAGCCAGACATGCA...</td>\n",
       "      <td>-0.597000</td>\n",
       "      <td>1</td>\n",
       "    </tr>\n",
       "  </tbody>\n",
       "</table>\n",
       "<p>46185 rows × 4 columns</p>\n",
       "</div>"
      ],
      "text/plain": [
       "                    seq_id                                                seq  \\\n",
       "0               seq10002_R  AGGACCGGATCAACTAGCAATCCCTGGGAAAATCTGTGCTTTGCAG...   \n",
       "1               seq10004_F  AGGACCGGATCAACTTAGCTCAACACAAATCCATCACTGAAAGCAG...   \n",
       "2               seq10004_R  AGGACCGGATCAACTCATTGTTTCCATAGGGAATAAGTCTTTTTCA...   \n",
       "3               seq10005_F  AGGACCGGATCAACTGACCCTAAATCAGTATGGGGAAAGGTCCCCA...   \n",
       "4               seq10005_R  AGGACCGGATCAACTAAAGGGACTTTCCGCATTCTAAGTTCTTAAG...   \n",
       "...                    ...                                                ...   \n",
       "46180  seq77105_shuffled_0  AGGACCGGATCAACTAGCAAGCCATCAGAGGATAGCTGGCTGAGAG...   \n",
       "46181  seq77431_shuffled_0  AGGACCGGATCAACTCCAGCCATCCACCCCACTGGCACTGTACAAG...   \n",
       "46182  seq78540_shuffled_0  AGGACCGGATCAACTTGGCACAGATGGCTCAGACACCGGTTGCCAT...   \n",
       "46183  seq79319_shuffled_0  AGGACCGGATCAACTCTTTCTTTCTTGTGGTGCCACCAGAACCAAC...   \n",
       "46184   seq9358_shuffled_0  AGGACCGGATCAACTATCAACTTGGTCCTTGCGAGCCAGACATGCA...   \n",
       "\n",
       "       mean_value  fold  \n",
       "0       -1.306000    10  \n",
       "1       -0.017000    10  \n",
       "2       -0.017000    10  \n",
       "3       -1.635000     7  \n",
       "4       -1.635000     7  \n",
       "...           ...   ...  \n",
       "46180   -1.284667     7  \n",
       "46181   -1.445333     5  \n",
       "46182   -1.537667     9  \n",
       "46183   -0.871333     8  \n",
       "46184   -0.597000     1  \n",
       "\n",
       "[46185 rows x 4 columns]"
      ]
     },
     "execution_count": 3,
     "metadata": {},
     "output_type": "execute_result"
    }
   ],
   "source": [
    "df = df[df.rev == 0]\n",
    "df = df.drop(columns=['rev'])\n",
    "df"
   ]
  },
  {
   "cell_type": "code",
   "execution_count": 4,
   "id": "729be218-118b-4870-9ed4-c0eb4de415c9",
   "metadata": {},
   "outputs": [
    {
     "name": "stdout",
     "output_type": "stream",
     "text": [
      "/home/nios/5Term\n"
     ]
    }
   ],
   "source": [
    "!pwd"
   ]
  },
  {
   "cell_type": "code",
   "execution_count": 5,
   "id": "9d5f198d-e1c0-4420-99e2-f8a5442cc922",
   "metadata": {},
   "outputs": [],
   "source": [
    "df.to_csv('./datasets/VikramDataset/WTC11.tsv', sep=\"\\t\", index = False) "
   ]
  },
  {
   "cell_type": "code",
   "execution_count": null,
   "id": "a2a01a06-0fa6-4ce3-9d4e-2357890b7bcc",
   "metadata": {},
   "outputs": [],
   "source": []
  }
 ],
 "metadata": {
  "kernelspec": {
   "display_name": "Python [conda env:mpra]",
   "language": "python",
   "name": "conda-env-mpra-py"
  },
  "language_info": {
   "codemirror_mode": {
    "name": "ipython",
    "version": 3
   },
   "file_extension": ".py",
   "mimetype": "text/x-python",
   "name": "python",
   "nbconvert_exporter": "python",
   "pygments_lexer": "ipython3",
   "version": "3.12.7"
  }
 },
 "nbformat": 4,
 "nbformat_minor": 5
}
