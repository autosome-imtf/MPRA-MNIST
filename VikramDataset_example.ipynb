{
 "cells": [
  {
   "cell_type": "code",
   "execution_count": 1,
   "id": "4229e853-d3e5-4fcb-a5b5-b6a4895d3fd4",
   "metadata": {},
   "outputs": [],
   "source": [
    "from tqdm import tqdm\n",
    "from dataset import VikramDataset\n",
    "import transforms as t\n",
    "\n",
    "import numpy as np\n",
    "import torch\n",
    "import torch.nn as nn\n",
    "import torch.optim as optim\n",
    "import torch.utils.data as data"
   ]
  },
  {
   "cell_type": "code",
   "execution_count": 2,
   "id": "af4622b7-8276-4bd3-ad3d-fbeed1775a92",
   "metadata": {},
   "outputs": [],
   "source": [
    "NUM_EPOCHS = 3\n",
    "BATCH_SIZE = 64\n",
    "lr = 0.001"
   ]
  },
  {
   "cell_type": "markdown",
   "id": "08a1a951-f9f4-4bfd-a8af-478915fe4f03",
   "metadata": {},
   "source": [
    "## First, we read the MPRAdata, preprocess them and encapsulate them into dataloader form."
   ]
  },
  {
   "cell_type": "code",
   "execution_count": 3,
   "id": "738d9114-4aca-4bcc-9c51-716a8573d29d",
   "metadata": {},
   "outputs": [],
   "source": [
    "# preprocessing\n",
    "train_transform = t.Compose([\n",
    "    t.AddFlanks(\"\",\"\"),\n",
    "    t.LeftCrop(230,230),\n",
    "    t.Seq2Tensor(),\n",
    "    t.Reverse(),\n",
    "    t.AddReverseChannel()\n",
    "\n",
    "])\n",
    "test_transform = t.Compose([\n",
    "    t.AddFlanks(\"\",\"\"),\n",
    "    t.LeftCrop(230,230),\n",
    "    t.Seq2Tensor(),\n",
    "    t.AddReverseChannel()\n",
    "])\n",
    "\n",
    "# load the data\n",
    "train_dataset = VikramDataset(cell_type = \"HepG2\", split=\"train\", transform=train_transform) # could use a list e.g. [1,2,5,6,7,8] \n",
    "                                                                                            # for needed folds\n",
    "val_dataset = VikramDataset(cell_type = \"HepG2\", split=\"val\", transform=test_transform) # use \"val\" for default validation set\n",
    "test_dataset = VikramDataset(cell_type = \"HepG2\", split=\"test\", transform=test_transform) # use \"test\" for default test set\n",
    "\n",
    "# encapsulate data into dataloader form\n",
    "train_loader = data.DataLoader(dataset=train_dataset, batch_size=BATCH_SIZE, shuffle=True)\n",
    "val_loader = data.DataLoader(dataset=val_dataset, batch_size=BATCH_SIZE, shuffle=False)\n",
    "test_loader = data.DataLoader(dataset=test_dataset, batch_size=BATCH_SIZE, shuffle=False)"
   ]
  },
  {
   "cell_type": "code",
   "execution_count": 4,
   "id": "7afc1cd2-8359-4124-ac99-9a407bcb4600",
   "metadata": {},
   "outputs": [
    {
     "name": "stdout",
     "output_type": "stream",
     "text": [
      "Dataset VikramDataset of size 98336 (MpraDaraset)\n",
      "    Number of datapoints: 98336\n",
      "    Split: train\n",
      "    Sequence size: 230\n",
      "    Number of channels: 5\n",
      "===================\n",
      "Dataset VikramDataset of size 12298 (MpraDaraset)\n",
      "    Number of datapoints: 12298\n",
      "    Split: test\n",
      "    Sequence size: 230\n",
      "    Number of channels: 5\n"
     ]
    }
   ],
   "source": [
    "print(train_dataset)\n",
    "print(\"===================\")\n",
    "print(test_dataset) # must to realize __repr__"
   ]
  },
  {
   "cell_type": "markdown",
   "id": "4af8d935-69f6-4862-9b42-983578130d01",
   "metadata": {},
   "source": [
    "## Then, we define a simple model for illustration, object function and optimizer that we use to classify."
   ]
  },
  {
   "cell_type": "code",
   "execution_count": 5,
   "id": "a1e04a46-9df2-4c97-ab34-d980727426ce",
   "metadata": {},
   "outputs": [],
   "source": [
    "class Net(nn.Module):\n",
    "    \n",
    "    def __init__(self, seq_len = 230, in_ch = 4, block_sizes=[16, 24, 32, 40, 48], kernel_size=7):\n",
    "        \n",
    "        super().__init__()\n",
    "        self.seq_len = seq_len\n",
    "        self.in_ch = in_ch\n",
    "        out_ch = 64\n",
    "        nn_blocks = []\n",
    "      \n",
    "        for in_bs, out_bs in zip([in_ch] + block_sizes, block_sizes):\n",
    "            \n",
    "            block = nn.Sequential(\n",
    "                nn.Conv1d(in_bs, out_bs, kernel_size=kernel_size, padding=1),\n",
    "                nn.SiLU(),\n",
    "                nn.BatchNorm1d(out_bs)\n",
    "            )\n",
    "            nn_blocks.append(block)\n",
    "            \n",
    "        self.conv_net = nn.Sequential(\n",
    "            *nn_blocks,\n",
    "            nn.Flatten(),\n",
    "            nn.Linear(block_sizes[-1] * (seq_len + len(block_sizes)*(3-kernel_size)), out_ch),\n",
    "        )\n",
    "        self.head = nn.Sequential(nn.Linear(out_ch, out_ch),\n",
    "                                   nn.BatchNorm1d(out_ch),\n",
    "                                   nn.SiLU(),\n",
    "                                   nn.Linear(out_ch, 1))\n",
    "\n",
    "    def forward(self, x):\n",
    "       \n",
    "        out = self.conv_net(x)\n",
    "        out = self.head(out)\n",
    "        \n",
    "        return out\n",
    "        \n",
    "model = Net(in_ch=len(train_dataset[0][0]), seq_len = len(train_dataset[0][0][0]))\n",
    "model = model.to(\"cuda\")\n",
    "\n",
    "# define loss function and optimizer\n",
    "criterion = nn.MSELoss()\n",
    "\n",
    "optimizer = torch.optim.AdamW(model.parameters(), \n",
    "                                      lr=lr,\n",
    "                                      weight_decay=lr)"
   ]
  },
  {
   "cell_type": "markdown",
   "id": "7560b4ed-95b9-4dab-b0db-d49eff6c85f6",
   "metadata": {},
   "source": [
    "## Now we can start to train"
   ]
  },
  {
   "cell_type": "markdown",
   "id": "0eed3262-039f-4eda-acd8-f13690f20d1b",
   "metadata": {},
   "source": [
    "Use \"cuda\" device to select gpu"
   ]
  },
  {
   "cell_type": "code",
   "execution_count": 6,
   "id": "1a70a137-68cf-4f1b-a570-eaf99b948f63",
   "metadata": {},
   "outputs": [
    {
     "name": "stdout",
     "output_type": "stream",
     "text": [
      "cuda\n"
     ]
    }
   ],
   "source": [
    "device = torch.device(\"cuda\" if torch.cuda.is_available() else \"cpu\")\n",
    "print(device)"
   ]
  },
  {
   "cell_type": "code",
   "execution_count": 7,
   "id": "c7d4dcde-efc1-487c-9a83-41c478dd731c",
   "metadata": {},
   "outputs": [
    {
     "name": "stderr",
     "output_type": "stream",
     "text": [
      "100%|███████████████████████████████████████████████████████████████████████████████| 1537/1537 [01:32<00:00, 16.55it/s]\n",
      "100%|█████████████████████████████████████████████████████████████████████████████████| 193/193 [00:09<00:00, 20.21it/s]\n"
     ]
    },
    {
     "name": "stdout",
     "output_type": "stream",
     "text": [
      "val  loss: 0.227  val_pearson:0.701\n"
     ]
    },
    {
     "name": "stderr",
     "output_type": "stream",
     "text": [
      "100%|███████████████████████████████████████████████████████████████████████████████| 1537/1537 [01:31<00:00, 16.79it/s]\n",
      "100%|█████████████████████████████████████████████████████████████████████████████████| 193/193 [00:09<00:00, 19.43it/s]\n"
     ]
    },
    {
     "name": "stdout",
     "output_type": "stream",
     "text": [
      "val  loss: 0.204  val_pearson:0.094\n"
     ]
    },
    {
     "name": "stderr",
     "output_type": "stream",
     "text": [
      "100%|███████████████████████████████████████████████████████████████████████████████| 1537/1537 [01:31<00:00, 16.72it/s]\n",
      "100%|█████████████████████████████████████████████████████████████████████████████████| 193/193 [00:08<00:00, 21.52it/s]"
     ]
    },
    {
     "name": "stdout",
     "output_type": "stream",
     "text": [
      "val  loss: 0.166  val_pearson:0.777\n"
     ]
    },
    {
     "name": "stderr",
     "output_type": "stream",
     "text": [
      "\n"
     ]
    }
   ],
   "source": [
    "from torchmetrics import PearsonCorrCoef\n",
    "for epoch in range(NUM_EPOCHS):\n",
    "    \n",
    "    model.train()\n",
    "    for inputs, targets in tqdm(train_loader):\n",
    "        \n",
    "        # forward + backward + optimize\n",
    "        optimizer.zero_grad()\n",
    "    \n",
    "        outputs = model(inputs.to(device))\n",
    "        outputs = outputs.view(-1)\n",
    " \n",
    "        targets = targets.squeeze().to(device)\n",
    "\n",
    "        loss = criterion(outputs, targets)\n",
    "        loss.backward()\n",
    "        optimizer.step()\n",
    "        \n",
    "    model.eval()\n",
    "    y_loss = 0\n",
    "    y_val_pearson = 0\n",
    "    loss_mse = nn.MSELoss() \n",
    "    val_pearson_coef = PearsonCorrCoef().to(device)\n",
    "    \n",
    "    with torch.no_grad():\n",
    "        \n",
    "        for inputs, targets in tqdm(val_loader):\n",
    "            outputs = model(inputs.to(device))\n",
    "\n",
    "            outputs = outputs.view(-1)\n",
    "            targets = targets.squeeze().to(device)\n",
    "            \n",
    "            val_pearson = val_pearson_coef(outputs, targets)\n",
    "            y_val_pearson = val_pearson\n",
    "\n",
    "            y_loss = loss_mse(outputs, targets)\n",
    "        print('%s  loss: %.3f  val_pearson:%.3f' % (\"val\", y_loss, y_val_pearson))\n"
   ]
  },
  {
   "cell_type": "code",
   "execution_count": 8,
   "id": "4a65c1cc-a0ea-4d08-800a-43bd2fc83d06",
   "metadata": {},
   "outputs": [
    {
     "name": "stdout",
     "output_type": "stream",
     "text": [
      "==> Evaluating ...\n",
      "val  loss: 0.166  val_pearson:0.777\n",
      "test  loss: 0.464  val_pearson:0.783\n"
     ]
    }
   ],
   "source": [
    "# evaluation\n",
    "\n",
    "def test(split):\n",
    "    model.eval()\n",
    "    y_loss = 0\n",
    "    y_val_pearson = 0\n",
    "    loss_mse = nn.MSELoss() \n",
    "    val_pearson_coef = PearsonCorrCoef().to(device)\n",
    "    if split == \"test\":\n",
    "        data_loader = test_loader\n",
    "    elif split == \"val\":\n",
    "        data_loader = val_loader\n",
    "    with torch.no_grad():\n",
    "        for inputs, targets in data_loader:\n",
    "            outputs = model(inputs.to(device))\n",
    "\n",
    "            outputs = outputs.view(-1)\n",
    "            targets = targets.squeeze().to(device)\n",
    "            \n",
    "            val_pearson = val_pearson_coef(outputs, targets)\n",
    "            y_val_pearson = val_pearson\n",
    "\n",
    "            loss = loss_mse(outputs, targets)\n",
    "            y_loss = loss\n",
    "    \n",
    "        print('%s  loss: %.3f  val_pearson:%.3f' % (split, y_loss, y_val_pearson))\n",
    "\n",
    "        \n",
    "print('==> Evaluating ...')\n",
    "test(\"val\")\n",
    "test('test')\n"
   ]
  },
  {
   "cell_type": "code",
   "execution_count": null,
   "id": "e8758c6e-6386-47c7-bdcd-2f6d272b0915",
   "metadata": {},
   "outputs": [],
   "source": []
  },
  {
   "cell_type": "code",
   "execution_count": null,
   "id": "289decde-c1be-4ddd-8989-d012c944f071",
   "metadata": {},
   "outputs": [],
   "source": []
  }
 ],
 "metadata": {
  "kernelspec": {
   "display_name": "Python [conda env:mpra]",
   "language": "python",
   "name": "conda-env-mpra-py"
  },
  "language_info": {
   "codemirror_mode": {
    "name": "ipython",
    "version": 3
   },
   "file_extension": ".py",
   "mimetype": "text/x-python",
   "name": "python",
   "nbconvert_exporter": "python",
   "pygments_lexer": "ipython3",
   "version": "3.12.7"
  }
 },
 "nbformat": 4,
 "nbformat_minor": 5
}
