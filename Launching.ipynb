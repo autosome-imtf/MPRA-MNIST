{
 "cells": [
  {
   "cell_type": "code",
   "execution_count": 1,
   "id": "9ef2b4af-25ca-4a78-ac3e-08687d8eab1b",
   "metadata": {},
   "outputs": [
    {
     "data": {
      "text/plain": [
       "SeqObj(seq='CGGATCAACTCCTAACCCTAAGAACGCATTGCGTGAACCGAGGGGGGGGG', scalars={}, vectors={}, reverse=True, use_reverse_channel=True, rev=1.0, feature_channels=[])"
      ]
     },
     "execution_count": 1,
     "metadata": {},
     "output_type": "execute_result"
    }
   ],
   "source": [
    "from dataset import MpraDataset\n",
    "import pandas as pd\n",
    "import transforms as t\n",
    "f = 'TCGGTTCACGCAATGCGTTCTTAGGGTTAGGAGTTGATCCGGTCCT'\n",
    "dataframe = pd.DataFrame([[ f, 5.0]], columns=[\"seq\", \"mean_value\"])\n",
    "\n",
    "seq = MpraDataset(dataframe, transform = t.Compose([\n",
    "    #t.RandomCrop(10),\n",
    "    t.AddFlanks(\"CCCCCCCCCC\",\"TTTTTTTTTT\"),\n",
    "    t.RandomCrop(50),\n",
    "    #t.RandomCrop(10,4),\n",
    "    t.Reverse(),\n",
    "    #t.Seq2Tensor(),\n",
    "    t.AddReverseChannel(),\n",
    "        ]))\n",
    "#seq = TrainSeqDatasetProb(dataframe, transform = t.AddFlanks(\"CCCCCCCCCC\",\"TTTTTTTTTT\"),)\n",
    "seq[0]\n"
   ]
  },
  {
   "cell_type": "code",
   "execution_count": 24,
   "id": "639f6cbe-e6e9-4427-91fc-22bf1e46cd9e",
   "metadata": {},
   "outputs": [
    {
     "data": {
      "text/plain": [
       "SeqObj(seq=tensor([[0., 1., 0., 0., 0., 0., 1., 0.],\n",
       "        [0., 0., 0., 0., 0., 0., 0., 0.],\n",
       "        [0., 0., 1., 0., 0., 1., 0., 0.],\n",
       "        [1., 0., 0., 1., 1., 0., 0., 1.],\n",
       "        [1., 1., 1., 1., 1., 1., 1., 1.],\n",
       "        [2., 2., 2., 2., 1., 0., 1., 0.],\n",
       "        [1., 1., 1., 1., 1., 1., 1., 1.]]), scalars={'scalar1': ScalarFeature(val=1, tp=<numeric feature>)}, vectors={'vector1': VectorFeature(val=[2, 2, 2, 2, 1, 0, 1, 0], tp=<categorial feature(levels=[1, 0, 2])>, pad_value=2)}, reverse=True, use_reverse_channel=True, rev=1.0, feature_channels=['vector1', 'scalar1'])"
      ]
     },
     "execution_count": 24,
     "metadata": {},
     "output_type": "execute_result"
    }
   ],
   "source": [
    "from dataset import VikramDataset\n",
    "import pandas as pd\n",
    "import transforms as t\n",
    "\n",
    "ds = VikramDataset(transform = t.Compose([t.AddFlanks(\"ATGA\",\"ATGGAT\"),\n",
    "                                          t.RightCrop(10,12),\n",
    "                                          t.RandomCrop(8),\n",
    "                                          t.AddReverseChannel(),\n",
    "                                          t.Reverse(),\n",
    "                                          t.Seq2Tensor(),\n",
    "                                          t.AddFeatureChannels([\"vector1\",\"scalar1\"])\n",
    "                                         ]))\n",
    "ds[0]"
   ]
  },
  {
   "cell_type": "code",
   "execution_count": 1,
   "id": "6c88fd13-ca60-40ba-b81d-31f8d545afe0",
   "metadata": {},
   "outputs": [
    {
     "name": "stdout",
     "output_type": "stream",
     "text": [
      "Compose(\n",
      "    AddFlanks()\n",
      "    RandomCrop()\n",
      "    Reverse()\n",
      "    AddReverseChannel()\n",
      ")\n"
     ]
    }
   ],
   "source": [
    "import transforms as t\n",
    "transform = t.Compose([\n",
    "    #t.RandomCrop(10),\n",
    "    t.AddFlanks(\"CCCCCCCCCC\",\"TTTTTTTTTT\"),\n",
    "    t.RandomCrop(230),\n",
    "    #t.RandomCrop(10,4),\n",
    "    t.Reverse(),\n",
    "    #t.Seq2Tensor(),\n",
    "    t.AddReverseChannel(),\n",
    "\n",
    "        ])\n",
    "print(transform)"
   ]
  },
  {
   "cell_type": "code",
   "execution_count": null,
   "id": "a55ad00a-c9ce-42e8-8e61-29d2756e1796",
   "metadata": {},
   "outputs": [],
   "source": []
  }
 ],
 "metadata": {
  "kernelspec": {
   "display_name": "Python 3 (ipykernel)",
   "language": "python",
   "name": "python3"
  },
  "language_info": {
   "codemirror_mode": {
    "name": "ipython",
    "version": 3
   },
   "file_extension": ".py",
   "mimetype": "text/x-python",
   "name": "python",
   "nbconvert_exporter": "python",
   "pygments_lexer": "ipython3",
   "version": "3.10.12"
  }
 },
 "nbformat": 4,
 "nbformat_minor": 5
}
