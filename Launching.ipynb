{
 "cells": [
  {
   "cell_type": "code",
   "execution_count": 1,
   "id": "9ef2b4af-25ca-4a78-ac3e-08687d8eab1b",
   "metadata": {},
   "outputs": [
    {
     "data": {
      "text/plain": [
       "('CCCCCCCCCCTCGGTTCACGCAATGCGTTCTTAGGGTTAGGAGTTGATCCGGTCCTTTTTTTTTTT', 5.0)"
      ]
     },
     "execution_count": 1,
     "metadata": {},
     "output_type": "execute_result"
    }
   ],
   "source": [
    "from dataset import MpraDataset\n",
    "import pandas as pd\n",
    "import transforms as t\n",
    "f = 'TCGGTTCACGCAATGCGTTCTTAGGGTTAGGAGTTGATCCGGTCCT'\n",
    "dataframe = pd.DataFrame([[ f, 5.0]], columns=[\"seq\", \"target\"])\n",
    "\n",
    "seq = MpraDataset(ds = dataframe, transform = t.Compose([\n",
    "    #t.RandomCrop(10),\n",
    "    t.AddFlanks(\"CCCCCCCCCC\",\"TTTTTTTTTT\"),\n",
    "\n",
    "    #t.RandomCrop(10,4),\n",
    "    t.Reverse(0.5),\n",
    "    #t.Seq2Tensor(),\n",
    "    t.AddReverseChannel(),\n",
    "        ]))\n",
    "#seq = TrainSeqDatasetProb(dataframe, transform = t.AddFlanks(\"CCCCCCCCCC\",\"TTTTTTTTTT\"),)\n",
    "seq[0]\n"
   ]
  },
  {
   "cell_type": "code",
   "execution_count": 1,
   "id": "639f6cbe-e6e9-4427-91fc-22bf1e46cd9e",
   "metadata": {},
   "outputs": [
    {
     "name": "stderr",
     "output_type": "stream",
     "text": [
      "/home/nios/5Term/dataset.py:217: DtypeWarning: Columns (3) have mixed types. Specify dtype option on import or set low_memory=False.\n",
      "  df = pd.read_csv(self._data_path + 'Malinois.tsv', sep='\\t')\n"
     ]
    },
    {
     "name": "stdout",
     "output_type": "stream",
     "text": [
      "(tensor([[0., 0., 0., 0., 1., 0., 0., 0.],\n",
      "        [0., 0., 0., 0., 0., 0., 1., 0.],\n",
      "        [1., 0., 0., 0., 0., 0., 0., 0.],\n",
      "        [0., 1., 1., 1., 0., 1., 0., 1.],\n",
      "        [1., 1., 1., 1., 1., 1., 1., 1.]]), 0.004565443)\n"
     ]
    }
   ],
   "source": [
    "from dataset import VikramDataset, MalinoisDataset\n",
    "import pandas as pd\n",
    "import transforms as t\n",
    "\n",
    "ds = MalinoisDataset(cell_type = \"HepG2\", split = \"train\", transform = t.Compose([t.AddFlanks(\"ATGA\",\"ATGGAT\"),\n",
    "                                          t.RightCrop(10,12),\n",
    "                                          t.AddFlanks(\"CCCCCCCCCC\",\"TTTTTTTTTT\"),\n",
    "                                          t.RandomCrop(8),\n",
    "                                          t.AddReverseChannel(),\n",
    "                                          t.Reverse(0.5),\n",
    "                                          t.Seq2Tensor(),\n",
    "                                          #t.AddFeatureChannels([\"vector1\",\"scalar1\"])\n",
    "                                         ]))\n",
    "print(ds[0])\n"
   ]
  },
  {
   "cell_type": "code",
   "execution_count": 2,
   "id": "56045380-345e-4a8f-804b-70d0c53f8f77",
   "metadata": {},
   "outputs": [
    {
     "data": {
      "text/plain": [
       "(tensor([[1., 1., 1., 1., 1., 0., 0., 0.],\n",
       "         [0., 0., 0., 0., 0., 0., 0., 0.],\n",
       "         [0., 0., 0., 0., 0., 1., 0., 0.],\n",
       "         [0., 0., 0., 0., 0., 0., 1., 1.],\n",
       "         [1., 1., 1., 1., 1., 1., 1., 1.]]),\n",
       " 0.384537)"
      ]
     },
     "execution_count": 2,
     "metadata": {},
     "output_type": "execute_result"
    }
   ],
   "source": [
    "ds[1]"
   ]
  },
  {
   "cell_type": "code",
   "execution_count": 3,
   "id": "a84f18ad-f8d0-43bd-b1a2-1cdbae904e40",
   "metadata": {},
   "outputs": [
    {
     "data": {
      "text/plain": [
       "(tensor([[0., 1., 0., 0., 0., 0., 1., 0.],\n",
       "         [0., 0., 0., 1., 0., 0., 0., 0.],\n",
       "         [0., 0., 0., 0., 0., 1., 0., 0.],\n",
       "         [1., 0., 1., 0., 1., 0., 0., 1.],\n",
       "         [1., 1., 1., 1., 1., 1., 1., 1.]]),\n",
       " 4.1066236)"
      ]
     },
     "execution_count": 3,
     "metadata": {},
     "output_type": "execute_result"
    }
   ],
   "source": [
    "ds[2]"
   ]
  },
  {
   "cell_type": "code",
   "execution_count": 3,
   "id": "d6f0da7e-4889-49c3-92fc-9f10fb0090e5",
   "metadata": {},
   "outputs": [
    {
     "name": "stdout",
     "output_type": "stream",
     "text": [
      "Dataset MalinoisDataset of size 19 (MpraDaraset)\n",
      "    Number of datapoints: 19\n",
      "    Default split folds: {'train': '1, 2, 3, 4, 5, 6, 7, 8', 'val': 9, 'test': 10}\n",
      "    Used split fold: [1, 2, 3, 4, 5, 6, 8, 9, 10, 11, 12, 14, 15, 16, 17, 18, 20, 22, 'Y']\n",
      "    Scalar features: {}\n",
      "    Vector features: {}\n",
      "    Cell types: ['HepG2', 'K562', 'SKNSH']\n",
      "    Сell type used: HepG2\n",
      "    Target columns that can be used: {'K562_log2FC', 'SKNSH_log2FC', 'HepG2_log2FC'}\n",
      "    Number of channels: 5\n",
      "    Sequence size: 8\n",
      "    Number of samples: {'train': 1, 'val': 1, 'test': 1}\n",
      "    Description: MalinoisDataset is based on \n"
     ]
    }
   ],
   "source": [
    "print(ds)"
   ]
  },
  {
   "cell_type": "code",
   "execution_count": 4,
   "id": "6c88fd13-ca60-40ba-b81d-31f8d545afe0",
   "metadata": {},
   "outputs": [
    {
     "data": {
      "text/plain": [
       "'Compose(\\n    Seq2Tensor()\\n    AddFlanks()\\n    RandomCrop(output_size=230)\\n    Reverse(prob=0.5)\\n    AddReverseChannel()\\n)'"
      ]
     },
     "execution_count": 4,
     "metadata": {},
     "output_type": "execute_result"
    }
   ],
   "source": [
    "import transforms as t\n",
    "transform = t.Compose([\n",
    "    #t.RandomCrop(10),\n",
    "    t.Seq2Tensor(),\n",
    "    t.AddFlanks(\"CCCCCCCCCC\",\"TTTTTTTTTT\"),\n",
    "    t.RandomCrop(230),\n",
    "    #t.RandomCrop(10,4),\n",
    "    t.Reverse(0.5),\n",
    "    #\n",
    "    t.AddReverseChannel(),\n",
    "\n",
    "        ])\n",
    "repr(transform)"
   ]
  },
  {
   "cell_type": "code",
   "execution_count": null,
   "id": "53125d54-e362-4cf5-b5c0-65983edbe90c",
   "metadata": {},
   "outputs": [],
   "source": []
  }
 ],
 "metadata": {
  "kernelspec": {
   "display_name": "Python 3 (ipykernel)",
   "language": "python",
   "name": "python3"
  },
  "language_info": {
   "codemirror_mode": {
    "name": "ipython",
    "version": 3
   },
   "file_extension": ".py",
   "mimetype": "text/x-python",
   "name": "python",
   "nbconvert_exporter": "python",
   "pygments_lexer": "ipython3",
   "version": "3.10.12"
  }
 },
 "nbformat": 4,
 "nbformat_minor": 5
}
