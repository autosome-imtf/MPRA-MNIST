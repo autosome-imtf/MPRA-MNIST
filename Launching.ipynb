{
 "cells": [
  {
   "cell_type": "code",
   "execution_count": 1,
   "id": "9ef2b4af-25ca-4a78-ac3e-08687d8eab1b",
   "metadata": {},
   "outputs": [
    {
     "data": {
      "text/plain": [
       "('CCCCCCCCCCTCGGTTCACGCAATGCGTTCTTAGGGTTAGGAGTTGATCCGGTCCTTTTTTTTTTT', 5.0)"
      ]
     },
     "execution_count": 1,
     "metadata": {},
     "output_type": "execute_result"
    }
   ],
   "source": [
    "from dataset import MpraDataset\n",
    "import pandas as pd\n",
    "import transforms as t\n",
    "f = 'TCGGTTCACGCAATGCGTTCTTAGGGTTAGGAGTTGATCCGGTCCT'\n",
    "dataframe = pd.DataFrame([[ f, 5.0]], columns=[\"seq\", \"target\"])\n",
    "\n",
    "seq = MpraDataset(ds = dataframe, transform = t.Compose([\n",
    "    #t.RandomCrop(10),\n",
    "    t.AddFlanks(\"CCCCCCCCCC\",\"TTTTTTTTTT\"),\n",
    "\n",
    "    #t.RandomCrop(10,4),\n",
    "    t.Reverse(0.5),\n",
    "    #t.Seq2Tensor(),\n",
    "    t.AddReverseChannel(),\n",
    "        ]))\n",
    "#seq = TrainSeqDatasetProb(dataframe, transform = t.AddFlanks(\"CCCCCCCCCC\",\"TTTTTTTTTT\"),)\n",
    "seq[0]\n"
   ]
  },
  {
   "cell_type": "code",
   "execution_count": 2,
   "id": "639f6cbe-e6e9-4427-91fc-22bf1e46cd9e",
   "metadata": {},
   "outputs": [
    {
     "name": "stdout",
     "output_type": "stream",
     "text": [
      "(tensor([[0., 1., 1., 0., 0., 1., 0., 0.],\n",
      "        [1., 0., 0., 1., 1., 0., 0., 0.],\n",
      "        [0., 0., 0., 0., 0., 0., 1., 1.],\n",
      "        [0., 0., 0., 0., 0., 0., 0., 0.],\n",
      "        [0., 0., 0., 0., 0., 0., 0., 0.]]), -0.675)\n"
     ]
    }
   ],
   "source": [
    "from dataset import VikramDataset\n",
    "import pandas as pd\n",
    "import transforms as t\n",
    "\n",
    "ds = VikramDataset(cell_type = \"HepG2\", split = \"train\", averaged_target = False, transform = t.Compose([t.AddFlanks(\"ATGA\",\"ATGGAT\"),\n",
    "                                          t.RightCrop(10,12),\n",
    "                                          t.AddFlanks(\"CCCCCCCCCC\",\"TTTTTTTTTT\"),\n",
    "                                          t.RandomCrop(8),\n",
    "                                          t.AddReverseChannel(),\n",
    "                                          t.Reverse(0.5),\n",
    "                                          t.Seq2Tensor(),\n",
    "                                          #t.AddFeatureChannels([\"vector1\",\"scalar1\"])\n",
    "                                         ]))\n",
    "print(ds[0])\n"
   ]
  },
  {
   "cell_type": "code",
   "execution_count": 3,
   "id": "d6f0da7e-4889-49c3-92fc-9f10fb0090e5",
   "metadata": {},
   "outputs": [
    {
     "name": "stdout",
     "output_type": "stream",
     "text": [
      "Dataset VikramDataset of size 98336 (MpraDaraset)\n",
      "    Number of datapoints: 98336\n",
      "    Default split folds: {'train': '1, 2, 3, 4, 5, 6, 7, 8', 'val': 9, 'test': 10}\n",
      "    Used split fold: [1, 2, 3, 4, 5, 6, 7, 8]\n",
      "    Scalar features: {}\n",
      "    Vector features: {}\n",
      "    Cell types: ['HepG2', 'K562', 'WTC11']\n",
      "    Сell type used: HepG2\n",
      "    Target columns that can be used: {'averaged_expression', 'expression'}\n",
      "    Number of channels: 5\n",
      "    Sequence size: 8\n",
      "    Number of samples: {'train': 98336, 'val': 12292, 'test': 12292}\n",
      "    Description: The VikramDataset is based on lentiMPRA assay, which determines the regulatory activity of over 680,000 sequences, representing a nearly comprehensive set of all annotated CREs among three cell types (HepG2, K562, and WTC11). HepG2 is a human liver cancer cell line, K562 is myelogenous leukemia cell line, WTC11 is pluripotent stem cell line derived from adult skin \n"
     ]
    }
   ],
   "source": [
    "print(ds)"
   ]
  },
  {
   "cell_type": "code",
   "execution_count": 4,
   "id": "6c88fd13-ca60-40ba-b81d-31f8d545afe0",
   "metadata": {},
   "outputs": [
    {
     "data": {
      "text/plain": [
       "'Compose(\\n    Seq2Tensor()\\n    AddFlanks()\\n    RandomCrop(output_size=230)\\n    Reverse(prob=0.5)\\n    AddReverseChannel()\\n)'"
      ]
     },
     "execution_count": 4,
     "metadata": {},
     "output_type": "execute_result"
    }
   ],
   "source": [
    "import transforms as t\n",
    "transform = t.Compose([\n",
    "    #t.RandomCrop(10),\n",
    "    t.Seq2Tensor(),\n",
    "    t.AddFlanks(\"CCCCCCCCCC\",\"TTTTTTTTTT\"),\n",
    "    t.RandomCrop(230),\n",
    "    #t.RandomCrop(10,4),\n",
    "    t.Reverse(0.5),\n",
    "    #\n",
    "    t.AddReverseChannel(),\n",
    "\n",
    "        ])\n",
    "repr(transform)"
   ]
  },
  {
   "cell_type": "code",
   "execution_count": null,
   "id": "53125d54-e362-4cf5-b5c0-65983edbe90c",
   "metadata": {},
   "outputs": [],
   "source": []
  }
 ],
 "metadata": {
  "kernelspec": {
   "display_name": "Python 3 (ipykernel)",
   "language": "python",
   "name": "python3"
  },
  "language_info": {
   "codemirror_mode": {
    "name": "ipython",
    "version": 3
   },
   "file_extension": ".py",
   "mimetype": "text/x-python",
   "name": "python",
   "nbconvert_exporter": "python",
   "pygments_lexer": "ipython3",
   "version": "3.10.12"
  }
 },
 "nbformat": 4,
 "nbformat_minor": 5
}
