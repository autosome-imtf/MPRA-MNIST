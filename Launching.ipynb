{
 "cells": [
  {
   "cell_type": "code",
   "execution_count": 1,
   "id": "9ef2b4af-25ca-4a78-ac3e-08687d8eab1b",
   "metadata": {},
   "outputs": [
    {
     "data": {
      "text/plain": [
       "SeqObj(seq='CGGATCAACTCCTAACCCTAAGAACGCATTGCGTGAACCGAGGGGGGGGG', scalars={}, vectors={}, reverse=True, use_reverse_channel=True, rev=1.0, feature_channels=[])"
      ]
     },
     "execution_count": 1,
     "metadata": {},
     "output_type": "execute_result"
    }
   ],
   "source": [
    "from dataset import MpraDataset\n",
    "import pandas as pd\n",
    "import transforms as t\n",
    "f = 'TCGGTTCACGCAATGCGTTCTTAGGGTTAGGAGTTGATCCGGTCCT'\n",
    "dataframe = pd.DataFrame([[ f, 5.0]], columns=[\"seq\", \"mean_value\"])\n",
    "\n",
    "seq = MpraDataset(dataframe, transform = t.Compose([\n",
    "    #t.RandomCrop(10),\n",
    "    t.AddFlanks(\"CCCCCCCCCC\",\"TTTTTTTTTT\"),\n",
    "    t.RandomCrop(50),\n",
    "    #t.RandomCrop(10,4),\n",
    "    t.Reverse(),\n",
    "    #t.Seq2Tensor(),\n",
    "    t.AddReverseChannel(),\n",
    "        ]))\n",
    "#seq = TrainSeqDatasetProb(dataframe, transform = t.AddFlanks(\"CCCCCCCCCC\",\"TTTTTTTTTT\"),)\n",
    "seq[0]\n"
   ]
  },
  {
   "cell_type": "code",
   "execution_count": 8,
   "id": "639f6cbe-e6e9-4427-91fc-22bf1e46cd9e",
   "metadata": {},
   "outputs": [
    {
     "name": "stdout",
     "output_type": "stream",
     "text": [
      "(tensor([[0., 0., 0., 0., 0., 0., 1., 0.],\n",
      "        [0., 0., 0., 0., 0., 0., 0., 0.],\n",
      "        [0., 1., 1., 0., 0., 1., 0., 0.],\n",
      "        [1., 0., 0., 1., 1., 0., 0., 1.],\n",
      "        [1., 1., 1., 1., 1., 1., 1., 1.]]), -0.625)\n",
      "24584\n"
     ]
    }
   ],
   "source": [
    "from dataset import VikramDataset\n",
    "import pandas as pd\n",
    "import transforms as t\n",
    "\n",
    "ds = VikramDataset(cell_type = \"HepG2\", split = [4,5], transform = t.Compose([t.AddFlanks(\"ATGA\",\"ATGGAT\"),\n",
    "                                          t.RightCrop(10,12),\n",
    "                                          t.RandomCrop(8),\n",
    "                                          t.AddReverseChannel(),\n",
    "                                          t.Reverse(),\n",
    "                                          t.Seq2Tensor(),\n",
    "                                          #t.AddFeatureChannels([\"vector1\",\"scalar1\"])\n",
    "                                         ]))\n",
    "print(ds[0])\n",
    "print(len(ds))"
   ]
  },
  {
   "cell_type": "code",
   "execution_count": 1,
   "id": "6c88fd13-ca60-40ba-b81d-31f8d545afe0",
   "metadata": {},
   "outputs": [
    {
     "name": "stdout",
     "output_type": "stream",
     "text": [
      "Compose(\n",
      "    AddFlanks()\n",
      "    RandomCrop()\n",
      "    Reverse()\n",
      "    AddReverseChannel()\n",
      ")\n"
     ]
    }
   ],
   "source": [
    "import transforms as t\n",
    "transform = t.Compose([\n",
    "    #t.RandomCrop(10),\n",
    "    t.AddFlanks(\"CCCCCCCCCC\",\"TTTTTTTTTT\"),\n",
    "    t.RandomCrop(230),\n",
    "    #t.RandomCrop(10,4),\n",
    "    t.Reverse(),\n",
    "    #t.Seq2Tensor(),\n",
    "    t.AddReverseChannel(),\n",
    "\n",
    "        ])\n",
    "print(transform)"
   ]
  }
 ],
 "metadata": {
  "kernelspec": {
   "display_name": "Python 3 (ipykernel)",
   "language": "python",
   "name": "python3"
  },
  "language_info": {
   "codemirror_mode": {
    "name": "ipython",
    "version": 3
   },
   "file_extension": ".py",
   "mimetype": "text/x-python",
   "name": "python",
   "nbconvert_exporter": "python",
   "pygments_lexer": "ipython3",
   "version": "3.10.12"
  }
 },
 "nbformat": 4,
 "nbformat_minor": 5
}
