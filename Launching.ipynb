{
 "cells": [
  {
   "cell_type": "code",
   "execution_count": 1,
   "id": "9ef2b4af-25ca-4a78-ac3e-08687d8eab1b",
   "metadata": {},
   "outputs": [
    {
     "data": {
      "text/plain": [
       "('CCCCCTCGGTTCACGCAATGCGTTCTTAGGGTTAGGAGTTGATCCGGTCC', 50, 5.0)"
      ]
     },
     "execution_count": 1,
     "metadata": {},
     "output_type": "execute_result"
    }
   ],
   "source": [
    "from dataset import MpraDataset\n",
    "import pandas as pd\n",
    "import transforms as t\n",
    "f = 'TCGGTTCACGCAATGCGTTCTTAGGGTTAGGAGTTGATCCGGTCCT'\n",
    "dataframe = pd.DataFrame([[ f, 5.0]], columns=[\"seq\", \"mean_value\"])\n",
    "\n",
    "seq = MpraDataset(dataframe, transform = t.Compose([\n",
    "    #t.RandomCrop(10),\n",
    "    t.AddFlanks(\"CCCCCCCCCC\",\"TTTTTTTTTT\"),\n",
    "    t.RandomCrop(50),\n",
    "    #t.RandomCrop(10,4),\n",
    "    t.Reverse(),\n",
    "    #t.Seq2Tensor(),\n",
    "    t.AddReverseChannel(),\n",
    "        ]))\n",
    "#seq = TrainSeqDatasetProb(dataframe, transform = t.AddFlanks(\"CCCCCCCCCC\",\"TTTTTTTTTT\"),)\n",
    "seq[0]\n"
   ]
  },
  {
   "cell_type": "code",
   "execution_count": 10,
   "id": "639f6cbe-e6e9-4427-91fc-22bf1e46cd9e",
   "metadata": {},
   "outputs": [
    {
     "data": {
      "text/plain": [
       "SeqObj(seq='tagag', scalars={'scalar1': ScalarFeature(val=1, tp=<numeric feature>)}, vectors={'vector1': VectorFeature(val=[0, 1, 0, 1, 0], tp=<categorial feature(levels=[1, 0, 5])>, pad_value=5)}, reverse=False, use_reverse_channel=False, rev=0.0, feature_channels=[])"
      ]
     },
     "execution_count": 10,
     "metadata": {},
     "output_type": "execute_result"
    }
   ],
   "source": [
    "from dataset import VikramDataset\n",
    "import pandas as pd\n",
    "import transforms as t\n",
    "\n",
    "ds = VikramDataset(5,transform = t.RandomCrop(5))\n",
    "ds[0]"
   ]
  },
  {
   "cell_type": "code",
   "execution_count": 12,
   "id": "63a58f64-16a6-4855-9abb-11730dbd58ed",
   "metadata": {},
   "outputs": [
    {
     "name": "stdout",
     "output_type": "stream",
     "text": [
      "[0, 1, 0, 1, 0]\n"
     ]
    }
   ],
   "source": [
    "Seq = ds[0]\n",
    "for name in Seq.vectors:\n",
    "    print(Seq.vectors[name].val)"
   ]
  },
  {
   "cell_type": "code",
   "execution_count": 1,
   "id": "6c88fd13-ca60-40ba-b81d-31f8d545afe0",
   "metadata": {},
   "outputs": [
    {
     "name": "stdout",
     "output_type": "stream",
     "text": [
      "Compose(\n",
      "    AddFlanks()\n",
      "    RandomCrop()\n",
      "    Reverse()\n",
      "    AddReverseChannel()\n",
      ")\n"
     ]
    }
   ],
   "source": [
    "import transforms as t\n",
    "transform = t.Compose([\n",
    "    #t.RandomCrop(10),\n",
    "    t.AddFlanks(\"CCCCCCCCCC\",\"TTTTTTTTTT\"),\n",
    "    t.RandomCrop(230),\n",
    "    #t.RandomCrop(10,4),\n",
    "    t.Reverse(),\n",
    "    #t.Seq2Tensor(),\n",
    "    t.AddReverseChannel(),\n",
    "\n",
    "        ])\n",
    "print(transform)"
   ]
  },
  {
   "cell_type": "code",
   "execution_count": null,
   "id": "a55ad00a-c9ce-42e8-8e61-29d2756e1796",
   "metadata": {},
   "outputs": [],
   "source": []
  }
 ],
 "metadata": {
  "kernelspec": {
   "display_name": "Python 3 (ipykernel)",
   "language": "python",
   "name": "python3"
  },
  "language_info": {
   "codemirror_mode": {
    "name": "ipython",
    "version": 3
   },
   "file_extension": ".py",
   "mimetype": "text/x-python",
   "name": "python",
   "nbconvert_exporter": "python",
   "pygments_lexer": "ipython3",
   "version": "3.10.12"
  }
 },
 "nbformat": 4,
 "nbformat_minor": 5
}
